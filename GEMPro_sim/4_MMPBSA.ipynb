{
 "metadata": {
  "name": "",
  "signature": "sha256:837f45abec0161ff2e621a4db9953eb5940197106f7ad680cb5a49e6ae02f2d4"
 },
 "nbformat": 3,
 "nbformat_minor": 0,
 "worksheets": [
  {
   "cells": [
    {
     "cell_type": "heading",
     "level": 2,
     "metadata": {},
     "source": [
      "GOAL: Automate MMPBSA from clustered docked ligands"
     ]
    },
    {
     "cell_type": "code",
     "collapsed": false,
     "input": [
      "import os\n",
      "import jinja2\n",
      "import time\n",
      "import yaml\n",
      "import shutil\n",
      "import subprocess"
     ],
     "language": "python",
     "metadata": {},
     "outputs": [],
     "prompt_number": 11
    },
    {
     "cell_type": "code",
     "collapsed": false,
     "input": [
      "ROOT = '/home/nathan/projects'\n",
      "MMPBSA_FOLDER = os.path.join(ROOT, 'MMPBSA')\n",
      "MMPBSA_INPUT_SCRIPTS = os.path.join(MMPBSA_FOLDER, 'mmpbsa_input')\n",
      "TEMPLATE_FILES = os.path.join(ROOT, 'templates')\n",
      "TEMPLATE_GENERATED = os.path.join(TEMPLATE_FILES, 'generated')\n",
      "PARAMETERS = os.path.join(ROOT, 'parameters')\n",
      "COMMON_FILES = os.path.join(PARAMETERS, 'common_files')\n",
      "LIGANDS_PATH = os.path.join(PARAMETERS, 'ligands')"
     ],
     "language": "python",
     "metadata": {},
     "outputs": [],
     "prompt_number": 28
    },
    {
     "cell_type": "code",
     "collapsed": false,
     "input": [
      "print('ROOT: {path}'.format(path=ROOT))\n",
      "print('MMPBSA_FOLDER: {path}'.format(path=MMPBSA_FOLDER))\n",
      "print('MMPBSA_INPUT_SCRIPTS: {path}'.format(path=MMPBSA_INPUT_SCRIPTS))\n",
      "print('TEMPLATE_FILES: {path}'.format(path=TEMPLATE_FILES))\n",
      "print('TEMPLATE_GENERATED: {path}'.format(path=TEMPLATE_GENERATED))\n",
      "print('PARAMETERS: {path}'.format(path=PARAMETERS))\n",
      "print('COMMON_FILES: {path}'.format(path=COMMON_FILES))\n",
      "print('LIGANDS_PATH: {path}'.format(path=LIGANDS_PATH))"
     ],
     "language": "python",
     "metadata": {},
     "outputs": [
      {
       "output_type": "stream",
       "stream": "stdout",
       "text": [
        "ROOT: /home/nathan/projects\n",
        "MMPBSA_FOLDER: /home/nathan/projects/MMPBSA\n",
        "MMPBSA_INPUT_SCRIPTS: /home/nathan/projects/MMPBSA/mmpbsa_input\n",
        "TEMPLATE_FILES: /home/nathan/projects/templates\n",
        "TEMPLATE_GENERATED: /home/nathan/projects/templates/generated\n",
        "PARAMETERS: /home/nathan/projects/parameters\n",
        "COMMON_FILES: /home/nathan/projects/parameters/common_files\n",
        "LIGANDS_PATH: /home/nathan/projects/parameters/ligands\n"
       ]
      }
     ],
     "prompt_number": 29
    },
    {
     "cell_type": "code",
     "collapsed": false,
     "input": [
      "TODAY = time.strftime(\"%y%m%d\")"
     ],
     "language": "python",
     "metadata": {},
     "outputs": [],
     "prompt_number": 35
    },
    {
     "cell_type": "heading",
     "level": 3,
     "metadata": {},
     "source": [
      "0: Prepare folders"
     ]
    },
    {
     "cell_type": "raw",
     "metadata": {},
     "source": [
      "MMPBSA\n",
      "\u251c\u2500\u2500 mmpbsa_input\n",
      "\u2502   \u2514\u2500\u2500 mmpbsa_$PARAM.in\n",
      "\u2502\n",
      "\u251c\u2500\u2500 $PROTEIN/\n",
      "\u2502   \u251c\u2500\u2500 $#_$MOD_$PDB\n",
      "\u2502   \u2502\u00a0\u00a0 \u251c\u2500\u2500 $#_$TYPE\n",
      "\u2502   \u2502\u00a0  \u2502   \u251c\u2500\u2500 0_receptor_prep/\n",
      "\u2502   \u2502   \u2502   \u2502   \u2514\u2500\u2500 leaprc_$TYPE  # to make receptor gas\n",
      "\u2502   \u2502\u00a0\u00a0 \u2502   \u2502\n",
      "\u2502   \u2502\u00a0\u00a0 \u2502   \u251c\u2500\u2500 $LIGAND\n",
      "\u2502   \u2502\u00a0\u00a0 \u2502   \u2502   \u251c\u2500\u2500 $CLUSTER\n",
      "\u2502   \u2502\u00a0\u00a0 \u2502   \u2502   \u2502\u00a0\u00a0 \u251c\u2500\u2500 0_complex_prep\n",
      "\u2502   \u2502\u00a0\u00a0 \u2502   \u2502   \u2502   \u2502   \u251c\u2500\u2500 $CLUSTER.pdb\n",
      "\u2502   \u2502\u00a0\u00a0 \u2502   \u2502   \u2502   \u2502   \u2502\n",
      "\u2502   \u2502\u00a0\u00a0 \u2502   \u2502   \u2502   \u2502   \u251c\u2500\u2500 leaprc_$CLUSTER  # to make complex gas and solvated\n",
      "\u2502   \u2502\u00a0\u00a0 \u2502   \u2502   \u2502   \u2502   \u251c\u2500\u2500 $CLUSTER_gas_amber.pdb\n",
      "\u2502   \u2502\u00a0\u00a0 \u2502   \u2502   \u2502   \u2502   \u251c\u2500\u2500 $CLUSTER_gas.inpcrd\n",
      "\u2502   \u2502\u00a0\u00a0 \u2502   \u2502   \u2502   \u2502   \u251c\u2500\u2500 $CLUSTER_gas.prmtop\n",
      "\u2502   \u2502\u00a0\u00a0 \u2502   \u2502   \u2502   \u2502   \u251c\u2500\u2500 $CLUSTER_solv_amber.pdb\n",
      "\u2502   \u2502\u00a0\u00a0 \u2502   \u2502   \u2502   \u2502   \u251c\u2500\u2500 $CLUSTER_solv.inpcrd\n",
      "\u2502   \u2502\u00a0\u00a0 \u2502   \u2502   \u2502   \u2502   \u2514\u2500\u2500 $CLUSTER_solv.prmtop\n",
      "\u2502   \u2502\u00a0\u00a0 \u2502   \u2502   \u2502   \u2502\n",
      "\u2502   \u2502\u00a0\u00a0 \u2502   \u2502   \u2502\u00a0\u00a0 \u251c\u2500\u2500 1_md\n",
      "\u2502   \u2502\u00a0\u00a0 \u2502   \u2502   \u2502   \u2502   \u251c\u2500\u2500 $CLUSTER_solv.inpcrd, $CLUSTER_solv.prmtop  # should change to use from 0_complex_prep folder\n",
      "\u2502   \u2502\u00a0\u00a0 \u2502   \u2502   \u2502   \u2502   \u2502\n",
      "\u2502   \u2502\u00a0\u00a0 \u2502   \u2502   \u2502\u202f\u202f \u2502   \u251c\u2500\u2500 make_input_scripts.sh\n",
      "\u2502   \u2502\u00a0\u00a0 \u2502   \u2502   \u2502\u202f\u202f \u2502   \u251c\u2500\u2500 mdin_min, mdin_equil, mdin_prod\n",
      "\u2502   \u2502\u00a0\u00a0 \u2502   \u2502   \u2502\u202f\u202f \u2502   \u251c\u2500\u2500 send_job\n",
      "\u2502   \u2502\u00a0\u00a0 \u2502   \u2502   \u2502   \u2502   \u2502\n",
      "\u2502   \u2502\u00a0\u00a0 \u2502   \u2502   \u2502\u202f\u202f \u2502   \u251c\u2500\u2500 $PDB_$TYPE_min.out, $PDB_$TYPE_min.rst\n",
      "\u2502   \u2502\u00a0\u00a0 \u2502   \u2502   \u2502\u202f\u202f \u2502   \u251c\u2500\u2500 $PDB_$TYPE_equil.out, $PDB_$TYPE_equil.rst\n",
      "\u2502   \u2502\u00a0\u00a0 \u2502   \u2502   \u2502\u202f\u202f \u2502   \u251c\u2500\u2500 $PDB_$TYPE_prod.out, $PDB_$TYPE_prod.rst\n",
      "\u2502   \u2502\u202f\u202f \u2502\u202f\u202f \u2502\u202f\u202f \u2502   \u2502   \u2502\n",
      "\u2502   \u2502\u00a0\u00a0 \u2502   \u2502   \u2502\u202f\u202f \u2502   \u251c\u2500\u2500 ptraj_recenter, run_cpptraj, reorganize_pdbs.py\n",
      "\u2502   \u2502\u00a0\u00a0 \u2502   \u2502   \u2502\u202f\u202f \u2502   \u2514\u2500\u2500 $PDB_$TYPE_$T1_$T2_weeded_step_$STEP.traj\n",
      "\u2502   \u2502\u00a0\u00a0 \u2502   \u2502   \u2502   \u2502\n",
      "\u2502   \u2502\u00a0\u00a0 \u2502   \u2502   \u2502\u00a0\u00a0 \u251c\u2500\u2500 2_mmpbsa\n",
      "\u2502   \u2502\u00a0\u00a0 \u2502   \u2502   \u2502\u00a0\u00a0 \u2502   \u2514\u2500\u2500 $PARAM\n",
      "\u2502   \u2502\u00a0\u00a0 \u2502   \u2502   \u2502\u00a0\u00a0 \u2502       \u251c\u2500\u2500 $DATE-mmpbsa_input.in\n",
      "\u2502   \u2502\u00a0\u00a0 \u2502   \u2502   \u2502\u00a0\u00a0 \u2502       \u2514\u2500\u2500 $DATE-mmpbsa_output.out"
     ]
    },
    {
     "cell_type": "code",
     "collapsed": false,
     "input": [
      "PROTEIN = 'COMT'\n",
      "MODS = ['1_WT_3BWM', '2_SNP_3BWY']\n",
      "TYPES = ['3_HALO']\n",
      "LIGANDS = ['DNC']\n",
      "\n",
      "CLUSTERS = {'1_WT_3BWM': ['000','010','011','110','111'],\n",
      "            '2_SNP_3BWY': ['010','100','101','110','111']}\n",
      "            \n",
      "\n",
      "gb_pb_params = ['igb2', 'igb5_pb', 'igb7_pb']"
     ],
     "language": "python",
     "metadata": {},
     "outputs": [],
     "prompt_number": 39
    },
    {
     "cell_type": "heading",
     "level": 3,
     "metadata": {},
     "source": [
      "1: Prepare & run short MD simulations using 1_MD notebook"
     ]
    },
    {
     "cell_type": "heading",
     "level": 3,
     "metadata": {},
     "source": [
      "2: Weed out trajectory"
     ]
    },
    {
     "cell_type": "raw",
     "metadata": {},
     "source": [
      "- get rid of first 100 frames of each simulation\n",
      "./run_cpptraj"
     ]
    },
    {
     "cell_type": "heading",
     "level": 3,
     "metadata": {},
     "source": [
      "3: Initialize folder structure"
     ]
    },
    {
     "cell_type": "raw",
     "metadata": {},
     "source": [
      "- 4 topology files\n",
      "    1. solvated complex (these clusters)\n",
      "        - redo cpptraj but save as individual frames and also skip the first 100 frames - done\n",
      "    2. not solvated complex (no water, and no ions) - done\n",
      "        - redo leaprc, but comment out parts that add the water and ions\n",
      "    3. APO not solvated (no water, and no ions)\n",
      "    4. ligand topology (in gas) - load in the .pdb with the same atom names as the off, load into xleap, do same as above - done\n",
      "    5. make folders"
     ]
    },
    {
     "cell_type": "heading",
     "level": 3,
     "metadata": {},
     "source": [
      "4: Generate input scripts"
     ]
    },
    {
     "cell_type": "heading",
     "level": 5,
     "metadata": {},
     "source": [
      "mmpbsa.in"
     ]
    },
    {
     "cell_type": "markdown",
     "metadata": {},
     "source": [
      "SEE: http://ambermd.org/doc12/ for new default MMPBSA values - using inp=1 and radiopt=0 now"
     ]
    },
    {
     "cell_type": "code",
     "collapsed": false,
     "input": [
      "def mmpbsa_maker(template_file, mmpbsa_dict):\n",
      "    # allows loading of templates off filesystems\n",
      "    templateLoader = jinja2.FileSystemLoader( searchpath=\"/\" )\n",
      "    templateEnv = jinja2.Environment( loader=templateLoader )\n",
      "\n",
      "    # load the template\n",
      "    template = templateEnv.get_template( template_file )\n",
      "\n",
      "    # process the template to produce our final text.\n",
      "    outputText = template.render( mmpbsa_dict )\n",
      "\n",
      "    file_out = mmpbsa_dict['filename']\n",
      "    with open(file_out, \"w\") as f:\n",
      "        f.write(outputText)\n",
      "        \n",
      "    return file_out"
     ],
     "language": "python",
     "metadata": {},
     "outputs": [],
     "prompt_number": 18
    },
    {
     "cell_type": "code",
     "collapsed": false,
     "input": [
      "igb2 = yaml.load(\"\"\"\n",
      "---\n",
      "filename: mmpbsa_igb2.in\n",
      "gen_options:\n",
      "    - keep_files=2\n",
      "    - verbose=2\n",
      "#     - endframe=10\n",
      "gb_options: \n",
      "    - igb=2\n",
      "\"\"\")\n",
      "\n",
      "igb5 = yaml.load(\"\"\"\n",
      "---\n",
      "filename: mmpbsa_igb5.in\n",
      "gen_options:\n",
      "    - keep_files=2\n",
      "    - verbose=2\n",
      "#     - endframe=10\n",
      "gb_options: \n",
      "    - igb=5\n",
      "\"\"\")\n",
      "\n",
      "igb5_pb = yaml.load(\"\"\"\n",
      "---\n",
      "filename: mmpbsa_igb5_pb.in\n",
      "gen_options:\n",
      "    - keep_files=2\n",
      "    - verbose=2\n",
      "#     - endframe=10\n",
      "gb_options: \n",
      "    - igb=5\n",
      "pb_options: \n",
      "    - fillratio=4.0\n",
      "    - inp=1\n",
      "    - radiopt=0\n",
      "\"\"\")\n",
      "\n",
      "igb7 = yaml.load(\"\"\"\n",
      "---\n",
      "filename: mmpbsa_igb7.in\n",
      "gen_options:\n",
      "    - keep_files=2\n",
      "    - verbose=2\n",
      "#     - endframe=10\n",
      "gb_options: \n",
      "    - igb=7\n",
      "\"\"\")\n",
      "\n",
      "igb7_pb = yaml.load(\"\"\"\n",
      "---\n",
      "filename: mmpbsa_igb7_pb.in\n",
      "gen_options:\n",
      "    - keep_files=2\n",
      "    - verbose=2\n",
      "#     - endframe=10\n",
      "gb_options: \n",
      "    - igb=7\n",
      "pb_options: \n",
      "    - fillratio=4.0\n",
      "    - inp=1\n",
      "    - radiopt=0\n",
      "\"\"\")"
     ],
     "language": "python",
     "metadata": {},
     "outputs": [],
     "prompt_number": 19
    },
    {
     "cell_type": "code",
     "collapsed": false,
     "input": [
      "os.chdir(TEMPLATE_GENERATED)\n",
      "for i in [igb2, igb5, igb5_pb, igb7, igb7_pb]:\n",
      "    mmpbsa_file = mmpbsa_maker(TEMPLATE_FILES + '/mmpbsa_default.jinja', i)\n",
      "    shutil.copy(mmpbsa_file, MMPBSA_FOLDER + '/mmpbsa_input/')"
     ],
     "language": "python",
     "metadata": {},
     "outputs": [],
     "prompt_number": 23
    },
    {
     "cell_type": "heading",
     "level": 3,
     "metadata": {},
     "source": [
      "5: Using leap - generate receptor files (receptor - gas, ligand - gas)"
     ]
    },
    {
     "cell_type": "code",
     "collapsed": false,
     "input": [
      "def leaprc_maker(leaprc_dict):\n",
      "    # allows loading of templates off filesystems\n",
      "    templateLoader = jinja2.FileSystemLoader( TEMPLATE_FILES )\n",
      "    templateEnv = jinja2.Environment( loader=templateLoader )\n",
      "    \n",
      "    leaprc_dict['date'] = TODAY\n",
      "    leaprc_dict['main_params_path'] = COMMON_FILES\n",
      "    leaprc_dict['ligands_path'] = LIGANDS_PATH\n",
      "\n",
      "    # load the template\n",
      "    if leaprc_dict['solvate']:\n",
      "        template = templateEnv.get_template( 'leaprc_solvate.jinja' )\n",
      "    else:\n",
      "        template = templateEnv.get_template( 'leaprc_gas.jinja' )\n",
      "    \n",
      "    # process the template to produce our final text.\n",
      "    outputText = template.render( leaprc_dict )\n",
      "\n",
      "    file_out = leaprc_dict['date'] + '-' + leaprc_dict['name'] + '.leaprc'\n",
      "    with open(file_out, \"w\") as f:\n",
      "        f.write(outputText)\n",
      "        \n",
      "    return file_out"
     ],
     "language": "python",
     "metadata": {},
     "outputs": [],
     "prompt_number": 36
    },
    {
     "cell_type": "raw",
     "metadata": {},
     "source": [
      "see leaprc generated at ~/projects/MMPBSA/COMT/1_WT_3BWM/3_HALO/0_receptor_prep"
     ]
    },
    {
     "cell_type": "heading",
     "level": 3,
     "metadata": {},
     "source": [
      "6: Using leap - generate cluster specific files (complex - gas, complex - solvated)"
     ]
    },
    {
     "cell_type": "raw",
     "metadata": {},
     "source": [
      "# DNC\n",
      "DNCparams = loadamberparams frcmod.DNC\n",
      "loadOff DNC.off\n",
      "\n",
      "# SAM\n",
      "SAMparams = loadamberparams frcmod.SAM\n",
      "loadOff SAM.off\n",
      "\n",
      "# MG\n",
      "loadamberprep magnesium.prep\n",
      "MGparams = loadamberparams frcmod.magnesium\n",
      "#########################################\n",
      "\n",
      "#########################################\n",
      "wt_docked = loadpdb 000_representative.pdb\n",
      "#########################################\n",
      "\n",
      "#########################################\n",
      "savepdb wt_docked 000_halo_unsolv_amber.pdb\n",
      "setbox wt_docked vdw\n",
      "#solvatebox wt_docked TIP3PBOX 12\n",
      "#addIons wt_docked Na+ 0\n",
      "savepdb wt_docked 000_halo_unsolv.pdb\n",
      "saveamberparm wt_docked 000_halo_unsolv.prmtop 000_halo_unsolv.inpcrd\n",
      "#########################################\n",
      "\n",
      "quit"
     ]
    },
    {
     "cell_type": "code",
     "collapsed": false,
     "input": [
      "for MOD in MODS:\n",
      "    for TYPE in TYPES:\n",
      "        for LIGAND in LIGANDS:\n",
      "            for CLUSTER in CLUSTERS[MOD]:\n",
      "                prep_folder = MMPBSA_FOLDER + '/' + PROTEIN + '/' + MOD + '/' + TYPE + '/' + LIGAND + '/' + CLUSTER + '/0_complex_prep'\n",
      "                INPUT = yaml.load(\"\"\"\n",
      "---\n",
      "# identifiers\n",
      "fullname: %s-%s-%s-%s-%s\n",
      "name: %s_solv\n",
      "main_pdb_file : %s_representative.pdb\n",
      "\n",
      "# ligands or other atoms with extra definitions\n",
      "additional_params:\n",
      "    DNC:\n",
      "        params_path: DNC/DNC.frcmod\n",
      "        off_prep: DNC/DNC.off\n",
      "    SAM:\n",
      "        params_path: SAM/frcmod.SAM\n",
      "        off_prep: SAM/SAM.off\n",
      "    MG:\n",
      "        params_path: frcmod.magnesium\n",
      "        off_prep: magnesium.prep\n",
      "\n",
      "# amber options\n",
      "save_amber_pdb: False\n",
      "set_box: True\n",
      "radii: PBRadii bondi\n",
      "\n",
      "# solvate the molecule\n",
      "solvate: True\n",
      "ion: Na+\n",
      "\"\"\" % (PROTEIN, MOD, TYPE, LIGAND, CLUSTER, CLUSTER, CLUSTER))\n",
      "                \n",
      "                os.chdir(TEMPLATE_GENERATED)\n",
      "                leaprc_file = leaprc_maker(INPUT)\n",
      "                \n",
      "                print prep_folder, leaprc_file\n",
      "                if not os.path.exists(prep_folder + '/' + leaprc_file):\n",
      "                    shutil.move(leaprc_file, prep_folder)\n",
      "                    \n",
      "                os.chdir(prep_folder)\n",
      "                retva = subprocess.call('tleap -f %s' % leaprc_file, shell=True)\n",
      "                "
     ],
     "language": "python",
     "metadata": {},
     "outputs": [
      {
       "output_type": "stream",
       "stream": "stdout",
       "text": [
        "/home/nathan/projects/MMPBSA/COMT/1_WT_3BWM/3_HALO/DNC/000/0_complex_prep 150722-000_solv.leaprc\n"
       ]
      },
      {
       "ename": "KeyboardInterrupt",
       "evalue": "",
       "output_type": "pyerr",
       "traceback": [
        "\u001b[1;31m---------------------------------------------------------------------------\u001b[0m\n\u001b[1;31mKeyboardInterrupt\u001b[0m                         Traceback (most recent call last)",
        "\u001b[1;32m<ipython-input-40-26c154b941f6>\u001b[0m in \u001b[0;36m<module>\u001b[1;34m()\u001b[0m\n\u001b[0;32m     45\u001b[0m \u001b[1;33m\u001b[0m\u001b[0m\n\u001b[0;32m     46\u001b[0m                 \u001b[0mos\u001b[0m\u001b[1;33m.\u001b[0m\u001b[0mchdir\u001b[0m\u001b[1;33m(\u001b[0m\u001b[0mprep_folder\u001b[0m\u001b[1;33m)\u001b[0m\u001b[1;33m\u001b[0m\u001b[0m\n\u001b[1;32m---> 47\u001b[1;33m                 \u001b[0mretva\u001b[0m \u001b[1;33m=\u001b[0m \u001b[0msubprocess\u001b[0m\u001b[1;33m.\u001b[0m\u001b[0mcall\u001b[0m\u001b[1;33m(\u001b[0m\u001b[1;34m'tleap -f %s'\u001b[0m \u001b[1;33m%\u001b[0m \u001b[0mleaprc_file\u001b[0m\u001b[1;33m,\u001b[0m \u001b[0mshell\u001b[0m\u001b[1;33m=\u001b[0m\u001b[0mTrue\u001b[0m\u001b[1;33m)\u001b[0m\u001b[1;33m\u001b[0m\u001b[0m\n\u001b[0m\u001b[0;32m     48\u001b[0m \u001b[1;33m\u001b[0m\u001b[0m\n",
        "\u001b[1;32m/usr/local/lib/python2.7/subprocess.pyc\u001b[0m in \u001b[0;36mcall\u001b[1;34m(*popenargs, **kwargs)\u001b[0m\n\u001b[0;32m    520\u001b[0m     \u001b[0mretcode\u001b[0m \u001b[1;33m=\u001b[0m \u001b[0mcall\u001b[0m\u001b[1;33m(\u001b[0m\u001b[1;33m[\u001b[0m\u001b[1;34m\"ls\"\u001b[0m\u001b[1;33m,\u001b[0m \u001b[1;34m\"-l\"\u001b[0m\u001b[1;33m]\u001b[0m\u001b[1;33m)\u001b[0m\u001b[1;33m\u001b[0m\u001b[0m\n\u001b[0;32m    521\u001b[0m     \"\"\"\n\u001b[1;32m--> 522\u001b[1;33m     \u001b[1;32mreturn\u001b[0m \u001b[0mPopen\u001b[0m\u001b[1;33m(\u001b[0m\u001b[1;33m*\u001b[0m\u001b[0mpopenargs\u001b[0m\u001b[1;33m,\u001b[0m \u001b[1;33m**\u001b[0m\u001b[0mkwargs\u001b[0m\u001b[1;33m)\u001b[0m\u001b[1;33m.\u001b[0m\u001b[0mwait\u001b[0m\u001b[1;33m(\u001b[0m\u001b[1;33m)\u001b[0m\u001b[1;33m\u001b[0m\u001b[0m\n\u001b[0m\u001b[0;32m    523\u001b[0m \u001b[1;33m\u001b[0m\u001b[0m\n\u001b[0;32m    524\u001b[0m \u001b[1;33m\u001b[0m\u001b[0m\n",
        "\u001b[1;32m/usr/local/lib/python2.7/subprocess.pyc\u001b[0m in \u001b[0;36mwait\u001b[1;34m(self)\u001b[0m\n\u001b[0;32m   1374\u001b[0m             \u001b[1;32mwhile\u001b[0m \u001b[0mself\u001b[0m\u001b[1;33m.\u001b[0m\u001b[0mreturncode\u001b[0m \u001b[1;32mis\u001b[0m \u001b[0mNone\u001b[0m\u001b[1;33m:\u001b[0m\u001b[1;33m\u001b[0m\u001b[0m\n\u001b[0;32m   1375\u001b[0m                 \u001b[1;32mtry\u001b[0m\u001b[1;33m:\u001b[0m\u001b[1;33m\u001b[0m\u001b[0m\n\u001b[1;32m-> 1376\u001b[1;33m                     \u001b[0mpid\u001b[0m\u001b[1;33m,\u001b[0m \u001b[0msts\u001b[0m \u001b[1;33m=\u001b[0m \u001b[0m_eintr_retry_call\u001b[0m\u001b[1;33m(\u001b[0m\u001b[0mos\u001b[0m\u001b[1;33m.\u001b[0m\u001b[0mwaitpid\u001b[0m\u001b[1;33m,\u001b[0m \u001b[0mself\u001b[0m\u001b[1;33m.\u001b[0m\u001b[0mpid\u001b[0m\u001b[1;33m,\u001b[0m \u001b[1;36m0\u001b[0m\u001b[1;33m)\u001b[0m\u001b[1;33m\u001b[0m\u001b[0m\n\u001b[0m\u001b[0;32m   1377\u001b[0m                 \u001b[1;32mexcept\u001b[0m \u001b[0mOSError\u001b[0m \u001b[1;32mas\u001b[0m \u001b[0me\u001b[0m\u001b[1;33m:\u001b[0m\u001b[1;33m\u001b[0m\u001b[0m\n\u001b[0;32m   1378\u001b[0m                     \u001b[1;32mif\u001b[0m \u001b[0me\u001b[0m\u001b[1;33m.\u001b[0m\u001b[0merrno\u001b[0m \u001b[1;33m!=\u001b[0m \u001b[0merrno\u001b[0m\u001b[1;33m.\u001b[0m\u001b[0mECHILD\u001b[0m\u001b[1;33m:\u001b[0m\u001b[1;33m\u001b[0m\u001b[0m\n",
        "\u001b[1;32m/usr/local/lib/python2.7/subprocess.pyc\u001b[0m in \u001b[0;36m_eintr_retry_call\u001b[1;34m(func, *args)\u001b[0m\n\u001b[0;32m    474\u001b[0m     \u001b[1;32mwhile\u001b[0m \u001b[0mTrue\u001b[0m\u001b[1;33m:\u001b[0m\u001b[1;33m\u001b[0m\u001b[0m\n\u001b[0;32m    475\u001b[0m         \u001b[1;32mtry\u001b[0m\u001b[1;33m:\u001b[0m\u001b[1;33m\u001b[0m\u001b[0m\n\u001b[1;32m--> 476\u001b[1;33m             \u001b[1;32mreturn\u001b[0m \u001b[0mfunc\u001b[0m\u001b[1;33m(\u001b[0m\u001b[1;33m*\u001b[0m\u001b[0margs\u001b[0m\u001b[1;33m)\u001b[0m\u001b[1;33m\u001b[0m\u001b[0m\n\u001b[0m\u001b[0;32m    477\u001b[0m         \u001b[1;32mexcept\u001b[0m \u001b[1;33m(\u001b[0m\u001b[0mOSError\u001b[0m\u001b[1;33m,\u001b[0m \u001b[0mIOError\u001b[0m\u001b[1;33m)\u001b[0m \u001b[1;32mas\u001b[0m \u001b[0me\u001b[0m\u001b[1;33m:\u001b[0m\u001b[1;33m\u001b[0m\u001b[0m\n\u001b[0;32m    478\u001b[0m             \u001b[1;32mif\u001b[0m \u001b[0me\u001b[0m\u001b[1;33m.\u001b[0m\u001b[0merrno\u001b[0m \u001b[1;33m==\u001b[0m \u001b[0merrno\u001b[0m\u001b[1;33m.\u001b[0m\u001b[0mEINTR\u001b[0m\u001b[1;33m:\u001b[0m\u001b[1;33m\u001b[0m\u001b[0m\n",
        "\u001b[1;31mKeyboardInterrupt\u001b[0m: "
       ]
      }
     ],
     "prompt_number": 40
    },
    {
     "cell_type": "heading",
     "level": 3,
     "metadata": {},
     "source": [
      "7: Run MMPBSA"
     ]
    },
    {
     "cell_type": "code",
     "collapsed": false,
     "input": [
      "def mmpbsa_runner(template, mmpbsa_run_dict):\n",
      "    # allows loading of templates off filesystems\n",
      "    templateLoader = jinja2.FileSystemLoader( searchpath=\"/\" )\n",
      "    templateEnv = jinja2.Environment( loader=templateLoader )\n",
      "\n",
      "    # load the template\n",
      "    MMPBSA_TEMPLATE = template\n",
      "    template = templateEnv.get_template( MMPBSA_TEMPLATE )\n",
      "\n",
      "    # process the template to produce our final text.\n",
      "    outputText = template.render( mmpbsa_run_dict )\n",
      "\n",
      "    file_out = mmpbsa_run_dict['date'] + '-' + mmpbsa_run_dict['mmpbsa_input_params'] + '.in'\n",
      "    with open(file_out, \"w\") as f:\n",
      "        f.write(outputText)\n",
      "        \n",
      "    return file_out"
     ],
     "language": "python",
     "metadata": {},
     "outputs": [],
     "prompt_number": 255
    },
    {
     "cell_type": "code",
     "collapsed": false,
     "input": [
      "MODS"
     ],
     "language": "python",
     "metadata": {},
     "outputs": [
      {
       "metadata": {},
       "output_type": "pyout",
       "prompt_number": 267,
       "text": [
        "['1_WT_3BWM', '2_SNP_3BWY']"
       ]
      }
     ],
     "prompt_number": 267
    },
    {
     "cell_type": "code",
     "collapsed": false,
     "input": [
      "## TODO: please do this http://stackoverflow.com/questions/3751900/create-file-path-from-variables\n",
      "for MOD in ['2_SNP_3BWY']:\n",
      "    for TYPE in TYPES:\n",
      "        for LIGAND in LIGANDS:\n",
      "            for CLUSTER in CLUSTERS[MOD][2:]:\n",
      "                receptor_prep_folder = MMPBSA_FOLDER + '/' + PROTEIN + '/' + MOD + '/' + TYPE + '/0_receptor_prep'\n",
      "                complex_prep_folder = MMPBSA_FOLDER + '/' + PROTEIN + '/' + MOD + '/' + TYPE + '/' + LIGAND + '/' + CLUSTER + '/0_complex_prep'\n",
      "                md_run_folder = MMPBSA_FOLDER + '/' + PROTEIN + '/' + MOD + '/' + TYPE + '/' + LIGAND + '/' + CLUSTER + '/1_md'\n",
      "                mmpbsa_run_folder = MMPBSA_FOLDER + '/' + PROTEIN + '/' + MOD + '/' + TYPE + '/' + LIGAND + '/' + CLUSTER + '/2_mmpbsa'\n",
      "                \n",
      "                for mmpbsa_param in gb_pb_params:\n",
      "                    mmpbsa_run = yaml.load(\"\"\"\n",
      "---\n",
      "input_scripts_dir: %s\n",
      "mmpbsa_input_params: mmpbsa_%s\n",
      "complex_solv_prmtop_path: %s/%s_solv.prmtop\n",
      "complex_gas_prmtop_path: %s/%s_gas.prmtop\n",
      "receptor_gas_prmtop_path: %s/receptor_gas.prmtop\n",
      "ligand_gas_prmtop_path: %s/DNC/DNC.prmtop\n",
      "trajectory_path: %s/weeded_step_10_mdcrd_centered_after100.traj\n",
      "\n",
      "\n",
      "\"\"\" % (MMPBSA_INPUT_SCRIPTS, mmpbsa_param, complex_prep_folder, CLUSTER, complex_prep_folder, CLUSTER, receptor_prep_folder, LIGANDS_PATH, md_run_folder))\n",
      "\n",
      "                    mmpbsa_run['date'] = today\n",
      "\n",
      "                    os.chdir(TEMPLATE_GENERATED)\n",
      "                    mmpbsa_runner_file = mmpbsa_runner(TEMPLATE_FILES + '/mmpbsa_run.jinja', mmpbsa_run)\n",
      "                    \n",
      "                    if not os.path.exists(mmpbsa_run_folder + '/' + mmpbsa_param):\n",
      "                        os.mkdir(mmpbsa_run_folder + '/' + mmpbsa_param)\n",
      "                    if not os.path.exists(mmpbsa_run_folder + '/' + mmpbsa_param + '/' + mmpbsa_runner_file):\n",
      "                        shutil.move(mmpbsa_runner_file, mmpbsa_run_folder + '/' + mmpbsa_param)\n",
      "                    os.chdir(mmpbsa_run_folder + '/' + mmpbsa_param)\n",
      "                    os.chmod(mmpbsa_runner_file, 0755)\n",
      "                    retva = subprocess.call('./%s' % mmpbsa_runner_file, shell=True)\n",
      "                    print retva"
     ],
     "language": "python",
     "metadata": {},
     "outputs": [
      {
       "output_type": "stream",
       "stream": "stdout",
       "text": [
        "0\n",
        "0\n",
        "0\n",
        "0"
       ]
      },
      {
       "output_type": "stream",
       "stream": "stdout",
       "text": [
        "\n",
        "0\n",
        "0\n",
        "0"
       ]
      },
      {
       "output_type": "stream",
       "stream": "stdout",
       "text": [
        "\n",
        "0\n",
        "0\n",
        "0"
       ]
      },
      {
       "output_type": "stream",
       "stream": "stdout",
       "text": [
        "\n",
        "0\n",
        "0\n",
        "0"
       ]
      },
      {
       "output_type": "stream",
       "stream": "stdout",
       "text": [
        "\n",
        "0\n",
        "0"
       ]
      },
      {
       "output_type": "stream",
       "stream": "stdout",
       "text": [
        "\n"
       ]
      }
     ],
     "prompt_number": 285
    },
    {
     "cell_type": "heading",
     "level": 3,
     "metadata": {},
     "source": [
      "8: Analysis of GB/PB parameters"
     ]
    },
    {
     "cell_type": "code",
     "collapsed": false,
     "input": [
      "import os"
     ],
     "language": "python",
     "metadata": {},
     "outputs": []
    },
    {
     "cell_type": "code",
     "collapsed": false,
     "input": [
      "import pandas as pd"
     ],
     "language": "python",
     "metadata": {},
     "outputs": []
    },
    {
     "cell_type": "code",
     "collapsed": false,
     "input": [
      "CLUSTERS = {'1_WT_3BWM': ['010','110','111'],\n",
      "            '2_SNP_3BWY': ['010','110','111']}"
     ],
     "language": "python",
     "metadata": {},
     "outputs": [],
     "prompt_number": 130
    },
    {
     "cell_type": "code",
     "collapsed": false,
     "input": [
      "# wt\n",
      "mmpbsa = pd.DataFrame(columns = ['protein','cluster','param','delta_total_avg','stddev','stderr'])\n",
      "for MOD in ['1_WT_3BWM']:\n",
      "    for TYPE in TYPES:\n",
      "        for LIGAND in LIGANDS:\n",
      "            for CLUSTER in CLUSTERS[MOD]:\n",
      "                for param in gb_pb_params:\n",
      "                    results = MMPBSA_FOLDER + '/' + PROTEIN + '/' + MOD + '/' + TYPE + '/' + LIGAND + '/' + CLUSTER + '/2_mmpbsa/' + param + '/FINAL_RESULTS_mmpbsa_%s.dat' % param\n",
      "                    if os.path.exists(results):\n",
      "                        with open(results) as f:\n",
      "                            lines = f.readlines()\n",
      "                            count = 0\n",
      "                            for x in lines:\n",
      "                                if 'DELTA TOTAL' in x:\n",
      "                                    inf = x.split()\n",
      "                                    appender = {}\n",
      "                                    appender['protein'] = 'WT'\n",
      "                                    appender['cluster'] = CLUSTER\n",
      "                                    if count == 1:\n",
      "                                        appender['param'] = param\n",
      "                                    else:\n",
      "                                        appender['param'] = param.split('_')[0]\n",
      "                                    appender['delta_total_avg'] = float(inf[2])\n",
      "                                    appender['stddev'] = float(inf[3])\n",
      "                                    appender['stderr'] = float(inf[4])\n",
      "                                    mmpbsa = mmpbsa.append(appender,ignore_index=True)\n",
      "                                    \n",
      "                                    count += 1"
     ],
     "language": "python",
     "metadata": {},
     "outputs": [],
     "prompt_number": 131
    },
    {
     "cell_type": "code",
     "collapsed": false,
     "input": [
      "# snp\n",
      "for MOD in ['2_SNP_3BWY']:\n",
      "    for TYPE in TYPES:\n",
      "        for LIGAND in LIGANDS:\n",
      "            for CLUSTER in CLUSTERS[MOD]:\n",
      "                for param in gb_pb_params:\n",
      "                    results = MMPBSA_FOLDER + '/' + PROTEIN + '/' + MOD + '/' + TYPE + '/' + LIGAND + '/' + CLUSTER + '/2_mmpbsa/' + param + '/FINAL_RESULTS_mmpbsa_%s.dat' % param\n",
      "                    if os.path.exists(results):\n",
      "                        with open(results) as f:\n",
      "                            lines = f.readlines()\n",
      "                            count = 0\n",
      "                            for x in lines:\n",
      "                                if 'DELTA TOTAL' in x:\n",
      "                                    inf = x.split()\n",
      "                                    appender = {}\n",
      "                                    appender['protein'] = 'SNP'\n",
      "                                    appender['cluster'] = CLUSTER\n",
      "                                    if count == 1:\n",
      "                                        appender['param'] = param\n",
      "                                    else:\n",
      "                                        appender['param'] = param.split('_')[0]\n",
      "                                    appender['delta_total_avg'] = float(inf[2])\n",
      "                                    appender['stddev'] = float(inf[3])\n",
      "                                    appender['stderr'] = float(inf[4])\n",
      "                                    mmpbsa = mmpbsa.append(appender,ignore_index=True)\n",
      "                                    \n",
      "                                    count += 1"
     ],
     "language": "python",
     "metadata": {},
     "outputs": [],
     "prompt_number": 132
    },
    {
     "cell_type": "code",
     "collapsed": false,
     "input": [
      "%matplotlib inline\n",
      "import matplotlib.pyplot as plt\n",
      "import seaborn as sns\n",
      "sns.set_style('white')\n",
      "sns.set_context('poster')"
     ],
     "language": "python",
     "metadata": {},
     "outputs": [],
     "prompt_number": 144
    },
    {
     "cell_type": "code",
     "collapsed": false,
     "input": [
      "mmpbsa"
     ],
     "language": "python",
     "metadata": {},
     "outputs": [
      {
       "html": [
        "<div style=\"max-height:1000px;max-width:1500px;overflow:auto;\">\n",
        "<table border=\"1\" class=\"dataframe\">\n",
        "  <thead>\n",
        "    <tr style=\"text-align: right;\">\n",
        "      <th></th>\n",
        "      <th>protein</th>\n",
        "      <th>cluster</th>\n",
        "      <th>param</th>\n",
        "      <th>delta_total_avg</th>\n",
        "      <th>stddev</th>\n",
        "      <th>stderr</th>\n",
        "    </tr>\n",
        "  </thead>\n",
        "  <tbody>\n",
        "    <tr>\n",
        "      <th>0 </th>\n",
        "      <td>  WT</td>\n",
        "      <td> 010</td>\n",
        "      <td>    igb2</td>\n",
        "      <td> -3.8310</td>\n",
        "      <td>  3.4679</td>\n",
        "      <td> 0.1415</td>\n",
        "    </tr>\n",
        "    <tr>\n",
        "      <th>1 </th>\n",
        "      <td>  WT</td>\n",
        "      <td> 010</td>\n",
        "      <td>    igb5</td>\n",
        "      <td> -6.8203</td>\n",
        "      <td>  3.6072</td>\n",
        "      <td> 0.1471</td>\n",
        "    </tr>\n",
        "    <tr>\n",
        "      <th>2 </th>\n",
        "      <td>  WT</td>\n",
        "      <td> 010</td>\n",
        "      <td> igb5_pb</td>\n",
        "      <td>  6.8496</td>\n",
        "      <td>  4.3041</td>\n",
        "      <td> 0.1756</td>\n",
        "    </tr>\n",
        "    <tr>\n",
        "      <th>3 </th>\n",
        "      <td>  WT</td>\n",
        "      <td> 010</td>\n",
        "      <td>    igb7</td>\n",
        "      <td>-15.6530</td>\n",
        "      <td>  4.8780</td>\n",
        "      <td> 0.1990</td>\n",
        "    </tr>\n",
        "    <tr>\n",
        "      <th>4 </th>\n",
        "      <td>  WT</td>\n",
        "      <td> 010</td>\n",
        "      <td> igb7_pb</td>\n",
        "      <td>  6.8496</td>\n",
        "      <td>  4.3041</td>\n",
        "      <td> 0.1756</td>\n",
        "    </tr>\n",
        "    <tr>\n",
        "      <th>5 </th>\n",
        "      <td>  WT</td>\n",
        "      <td> 110</td>\n",
        "      <td>    igb2</td>\n",
        "      <td> -7.2282</td>\n",
        "      <td>  3.9197</td>\n",
        "      <td> 0.1599</td>\n",
        "    </tr>\n",
        "    <tr>\n",
        "      <th>6 </th>\n",
        "      <td>  WT</td>\n",
        "      <td> 110</td>\n",
        "      <td>    igb5</td>\n",
        "      <td>-10.2409</td>\n",
        "      <td>  3.9672</td>\n",
        "      <td> 0.1618</td>\n",
        "    </tr>\n",
        "    <tr>\n",
        "      <th>7 </th>\n",
        "      <td>  WT</td>\n",
        "      <td> 110</td>\n",
        "      <td> igb5_pb</td>\n",
        "      <td>  7.3045</td>\n",
        "      <td>  4.4153</td>\n",
        "      <td> 0.1801</td>\n",
        "    </tr>\n",
        "    <tr>\n",
        "      <th>8 </th>\n",
        "      <td>  WT</td>\n",
        "      <td> 110</td>\n",
        "      <td>    igb7</td>\n",
        "      <td>-22.1225</td>\n",
        "      <td>  5.0971</td>\n",
        "      <td> 0.2079</td>\n",
        "    </tr>\n",
        "    <tr>\n",
        "      <th>9 </th>\n",
        "      <td>  WT</td>\n",
        "      <td> 110</td>\n",
        "      <td> igb7_pb</td>\n",
        "      <td>  7.3045</td>\n",
        "      <td>  4.4153</td>\n",
        "      <td> 0.1801</td>\n",
        "    </tr>\n",
        "    <tr>\n",
        "      <th>10</th>\n",
        "      <td>  WT</td>\n",
        "      <td> 111</td>\n",
        "      <td>    igb2</td>\n",
        "      <td> -6.4348</td>\n",
        "      <td>  4.0008</td>\n",
        "      <td> 0.1632</td>\n",
        "    </tr>\n",
        "    <tr>\n",
        "      <th>11</th>\n",
        "      <td>  WT</td>\n",
        "      <td> 111</td>\n",
        "      <td>    igb5</td>\n",
        "      <td> -6.7387</td>\n",
        "      <td>  4.4438</td>\n",
        "      <td> 0.1813</td>\n",
        "    </tr>\n",
        "    <tr>\n",
        "      <th>12</th>\n",
        "      <td>  WT</td>\n",
        "      <td> 111</td>\n",
        "      <td> igb5_pb</td>\n",
        "      <td> -1.8315</td>\n",
        "      <td>  7.0437</td>\n",
        "      <td> 0.2873</td>\n",
        "    </tr>\n",
        "    <tr>\n",
        "      <th>13</th>\n",
        "      <td>  WT</td>\n",
        "      <td> 111</td>\n",
        "      <td>    igb7</td>\n",
        "      <td>  3.9342</td>\n",
        "      <td> 11.0171</td>\n",
        "      <td> 0.4494</td>\n",
        "    </tr>\n",
        "    <tr>\n",
        "      <th>14</th>\n",
        "      <td>  WT</td>\n",
        "      <td> 111</td>\n",
        "      <td> igb7_pb</td>\n",
        "      <td> -1.8315</td>\n",
        "      <td>  7.0437</td>\n",
        "      <td> 0.2873</td>\n",
        "    </tr>\n",
        "    <tr>\n",
        "      <th>15</th>\n",
        "      <td> SNP</td>\n",
        "      <td> 010</td>\n",
        "      <td>    igb2</td>\n",
        "      <td> -6.1436</td>\n",
        "      <td>  3.5335</td>\n",
        "      <td> 0.1441</td>\n",
        "    </tr>\n",
        "    <tr>\n",
        "      <th>16</th>\n",
        "      <td> SNP</td>\n",
        "      <td> 010</td>\n",
        "      <td>    igb5</td>\n",
        "      <td> -9.0177</td>\n",
        "      <td>  3.6285</td>\n",
        "      <td> 0.1480</td>\n",
        "    </tr>\n",
        "    <tr>\n",
        "      <th>17</th>\n",
        "      <td> SNP</td>\n",
        "      <td> 010</td>\n",
        "      <td> igb5_pb</td>\n",
        "      <td>  9.6471</td>\n",
        "      <td>  6.1186</td>\n",
        "      <td> 0.2496</td>\n",
        "    </tr>\n",
        "    <tr>\n",
        "      <th>18</th>\n",
        "      <td> SNP</td>\n",
        "      <td> 010</td>\n",
        "      <td>    igb7</td>\n",
        "      <td>-18.1096</td>\n",
        "      <td>  4.5852</td>\n",
        "      <td> 0.1870</td>\n",
        "    </tr>\n",
        "    <tr>\n",
        "      <th>19</th>\n",
        "      <td> SNP</td>\n",
        "      <td> 010</td>\n",
        "      <td> igb7_pb</td>\n",
        "      <td>  9.6471</td>\n",
        "      <td>  6.1186</td>\n",
        "      <td> 0.2496</td>\n",
        "    </tr>\n",
        "    <tr>\n",
        "      <th>20</th>\n",
        "      <td> SNP</td>\n",
        "      <td> 110</td>\n",
        "      <td>    igb2</td>\n",
        "      <td> -6.0877</td>\n",
        "      <td>  4.0599</td>\n",
        "      <td> 0.1656</td>\n",
        "    </tr>\n",
        "    <tr>\n",
        "      <th>21</th>\n",
        "      <td> SNP</td>\n",
        "      <td> 110</td>\n",
        "      <td>    igb5</td>\n",
        "      <td> -9.4254</td>\n",
        "      <td>  4.2461</td>\n",
        "      <td> 0.1732</td>\n",
        "    </tr>\n",
        "    <tr>\n",
        "      <th>22</th>\n",
        "      <td> SNP</td>\n",
        "      <td> 110</td>\n",
        "      <td> igb5_pb</td>\n",
        "      <td>  9.3932</td>\n",
        "      <td>  5.1671</td>\n",
        "      <td> 0.2108</td>\n",
        "    </tr>\n",
        "    <tr>\n",
        "      <th>23</th>\n",
        "      <td> SNP</td>\n",
        "      <td> 110</td>\n",
        "      <td>    igb7</td>\n",
        "      <td>-19.5847</td>\n",
        "      <td>  5.2397</td>\n",
        "      <td> 0.2137</td>\n",
        "    </tr>\n",
        "    <tr>\n",
        "      <th>24</th>\n",
        "      <td> SNP</td>\n",
        "      <td> 110</td>\n",
        "      <td> igb7_pb</td>\n",
        "      <td>  9.3932</td>\n",
        "      <td>  5.1671</td>\n",
        "      <td> 0.2108</td>\n",
        "    </tr>\n",
        "    <tr>\n",
        "      <th>25</th>\n",
        "      <td> SNP</td>\n",
        "      <td> 111</td>\n",
        "      <td>    igb2</td>\n",
        "      <td> -0.7202</td>\n",
        "      <td>  3.1964</td>\n",
        "      <td> 0.1304</td>\n",
        "    </tr>\n",
        "    <tr>\n",
        "      <th>26</th>\n",
        "      <td> SNP</td>\n",
        "      <td> 111</td>\n",
        "      <td>    igb5</td>\n",
        "      <td> -1.5076</td>\n",
        "      <td>  3.2747</td>\n",
        "      <td> 0.1336</td>\n",
        "    </tr>\n",
        "    <tr>\n",
        "      <th>27</th>\n",
        "      <td> SNP</td>\n",
        "      <td> 111</td>\n",
        "      <td> igb5_pb</td>\n",
        "      <td>  2.9281</td>\n",
        "      <td>  4.1563</td>\n",
        "      <td> 0.1695</td>\n",
        "    </tr>\n",
        "    <tr>\n",
        "      <th>28</th>\n",
        "      <td> SNP</td>\n",
        "      <td> 111</td>\n",
        "      <td>    igb7</td>\n",
        "      <td> -5.8264</td>\n",
        "      <td>  3.7287</td>\n",
        "      <td> 0.1521</td>\n",
        "    </tr>\n",
        "    <tr>\n",
        "      <th>29</th>\n",
        "      <td> SNP</td>\n",
        "      <td> 111</td>\n",
        "      <td> igb7_pb</td>\n",
        "      <td>  2.9281</td>\n",
        "      <td>  4.1563</td>\n",
        "      <td> 0.1695</td>\n",
        "    </tr>\n",
        "  </tbody>\n",
        "</table>\n",
        "</div>"
       ],
       "metadata": {},
       "output_type": "pyout",
       "prompt_number": 145,
       "text": [
        "   protein cluster    param  delta_total_avg   stddev  stderr\n",
        "0       WT     010     igb2          -3.8310   3.4679  0.1415\n",
        "1       WT     010     igb5          -6.8203   3.6072  0.1471\n",
        "2       WT     010  igb5_pb           6.8496   4.3041  0.1756\n",
        "3       WT     010     igb7         -15.6530   4.8780  0.1990\n",
        "4       WT     010  igb7_pb           6.8496   4.3041  0.1756\n",
        "5       WT     110     igb2          -7.2282   3.9197  0.1599\n",
        "6       WT     110     igb5         -10.2409   3.9672  0.1618\n",
        "7       WT     110  igb5_pb           7.3045   4.4153  0.1801\n",
        "8       WT     110     igb7         -22.1225   5.0971  0.2079\n",
        "9       WT     110  igb7_pb           7.3045   4.4153  0.1801\n",
        "10      WT     111     igb2          -6.4348   4.0008  0.1632\n",
        "11      WT     111     igb5          -6.7387   4.4438  0.1813\n",
        "12      WT     111  igb5_pb          -1.8315   7.0437  0.2873\n",
        "13      WT     111     igb7           3.9342  11.0171  0.4494\n",
        "14      WT     111  igb7_pb          -1.8315   7.0437  0.2873\n",
        "15     SNP     010     igb2          -6.1436   3.5335  0.1441\n",
        "16     SNP     010     igb5          -9.0177   3.6285  0.1480\n",
        "17     SNP     010  igb5_pb           9.6471   6.1186  0.2496\n",
        "18     SNP     010     igb7         -18.1096   4.5852  0.1870\n",
        "19     SNP     010  igb7_pb           9.6471   6.1186  0.2496\n",
        "20     SNP     110     igb2          -6.0877   4.0599  0.1656\n",
        "21     SNP     110     igb5          -9.4254   4.2461  0.1732\n",
        "22     SNP     110  igb5_pb           9.3932   5.1671  0.2108\n",
        "23     SNP     110     igb7         -19.5847   5.2397  0.2137\n",
        "24     SNP     110  igb7_pb           9.3932   5.1671  0.2108\n",
        "25     SNP     111     igb2          -0.7202   3.1964  0.1304\n",
        "26     SNP     111     igb5          -1.5076   3.2747  0.1336\n",
        "27     SNP     111  igb5_pb           2.9281   4.1563  0.1695\n",
        "28     SNP     111     igb7          -5.8264   3.7287  0.1521\n",
        "29     SNP     111  igb7_pb           2.9281   4.1563  0.1695"
       ]
      }
     ],
     "prompt_number": 145
    },
    {
     "cell_type": "code",
     "collapsed": false,
     "input": [
      "wt_mmpbsa = mmpbsa[mmpbsa.protein == 'WT'][['cluster','param','delta_total_avg','stderr']]\n",
      "wt_mmpbsa_pivot = wt_mmpbsa.pivot(index='cluster', columns='param', values='delta_total_avg')\n",
      "wt_mmpbsa_pivot_sd = wt_mmpbsa.pivot(index='cluster', columns='param', values='stderr')\n",
      "wt_mmpbsa_pivot.plot(yerr=wt_mmpbsa_pivot_sd, kind='bar', figsize=(15,5), title='COMT_WT_DNC')\n",
      "savefig('/home/nathan/150726-COMT_MMPBSA_WT.svg', format='svg', dpi=300)"
     ],
     "language": "python",
     "metadata": {},
     "outputs": [
      {
       "metadata": {},
       "output_type": "display_data",
       "png": "[encoded data removed]",
       "text": [
        "<matplotlib.figure.Figure at 0x7fac1e4c2c50>"
       ]
      }
     ],
     "prompt_number": 146
    },
    {
     "cell_type": "code",
     "collapsed": false,
     "input": [
      "snp_mmpbsa = mmpbsa[mmpbsa.protein == 'SNP'][['cluster','param','delta_total_avg','stderr']]\n",
      "snp_mmpbsa_pivot = snp_mmpbsa.pivot(index='cluster', columns='param', values='delta_total_avg')\n",
      "snp_mmpbsa_pivot_sd = snp_mmpbsa.pivot(index='cluster', columns='param', values='stderr')\n",
      "snp_mmpbsa_pivot.plot(yerr=snp_mmpbsa_pivot_sd, kind='bar', figsize=(15,5), title='COMT_SNP_DNC')\n",
      "savefig('/home/nathan/150726-COMT_MMPBSA_SNP.svg', format='svg', dpi=300)"
     ],
     "language": "python",
     "metadata": {},
     "outputs": [
      {
       "metadata": {},
       "output_type": "display_data",
       "png": "[encoded data removed]",
       "text": [
        "<matplotlib.figure.Figure at 0x7fac257f67d0>"
       ]
      }
     ],
     "prompt_number": 147
    },
    {
     "cell_type": "code",
     "collapsed": false,
     "input": [],
     "language": "python",
     "metadata": {},
     "outputs": [],
     "prompt_number": 157
    },
    {
     "cell_type": "code",
     "collapsed": false,
     "input": [
      "import numpy as np\n",
      "subt = wt_mmpbsa_pivot-snp_mmpbsa_pivot\n",
      "remove = subt.drop(['igb5_pb','igb7'],axis=1)\n",
      "remove = remove.rename(columns={'igb2':'MMGBSA:igb=2', 'igb5':'MMGBSA:igb=5', 'igb7_pb':'MMPBSA'})\n",
      "# subt_sd = (wt_mmpbsa_pivot_sd * wt_mmpbsa_pivot_sd) + (snp_mmpbsa_pivot_sd * snp_mmpbsa_pivot_sd)\n",
      "# subt_sd_sqrt = subt_sd.apply(np.sqrt)\n",
      "remove.plot(kind='bar', figsize=(15,5), title='COMT_WT-SNP')\n",
      "savefig('/home/nathan/150726-COMT_MMPBSA_subtracted.svg', format='svg', dpi=300)"
     ],
     "language": "python",
     "metadata": {},
     "outputs": [
      {
       "metadata": {},
       "output_type": "display_data",
       "png": "[encoded data removed]",
       "text": [
        "<matplotlib.figure.Figure at 0x7fac1eaea1d0>"
       ]
      }
     ],
     "prompt_number": 163
    },
    {
     "cell_type": "code",
     "collapsed": false,
     "input": [],
     "language": "python",
     "metadata": {},
     "outputs": []
    }
   ],
   "metadata": {}
  }
 ]
}