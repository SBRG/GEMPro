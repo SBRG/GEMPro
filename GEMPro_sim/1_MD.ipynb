{
 "metadata": {
  "name": "",
  "signature": "sha256:c6f77d9dd070500d1331c953baba486de98264e3353def6a1e95b99df6c6d51b"
 },
 "nbformat": 3,
 "nbformat_minor": 0,
 "worksheets": [
  {
   "cells": [
    {
     "cell_type": "heading",
     "level": 2,
     "metadata": {},
     "source": [
      "GOAL: Automate generation of AMBER input files for running MD"
     ]
    },
    {
     "cell_type": "code",
     "collapsed": false,
     "input": [
      "PROTEIN = 'G6PD_ECOLI'\n",
      "MODS_TYPES = ['1_WT']\n",
      "TYPES = ['1_APO', '2_HALO']"
     ],
     "language": "python",
     "metadata": {},
     "outputs": [],
     "prompt_number": 15
    },
    {
     "cell_type": "markdown",
     "metadata": {},
     "source": [
      "jinja guide : http://kagerato.net/articles/software/libraries/jinja-quickstart.html"
     ]
    },
    {
     "cell_type": "code",
     "collapsed": false,
     "input": [
      "import glob\n",
      "import os\n",
      "import jinja2\n",
      "import time\n",
      "import yaml\n",
      "import pprint as pp\n",
      "import os.path\n",
      "import subprocess\n",
      "import shutil\n",
      "from collections import defaultdict"
     ],
     "language": "python",
     "metadata": {},
     "outputs": [],
     "prompt_number": 47
    },
    {
     "cell_type": "code",
     "collapsed": false,
     "input": [
      "ROOT = '/home/nathan/projects/'\n",
      "MD_FOLDER = ROOT + 'MD/'\n",
      "TEMPLATE_FILES = ROOT + 'templates/'\n",
      "TEMPLATE_GENERATED = TEMPLATE_FILES + 'generated/'\n",
      "PARAMETERS = ROOT + 'parameters/'\n",
      "COMMON_FILES = PARAMETERS + 'common_files/'\n",
      "LIGANDS = PARAMETERS + 'ligands/'"
     ],
     "language": "python",
     "metadata": {},
     "outputs": [],
     "prompt_number": 7
    },
    {
     "cell_type": "heading",
     "level": 3,
     "metadata": {},
     "source": [
      "0: Prepare folders"
     ]
    },
    {
     "cell_type": "raw",
     "metadata": {},
     "source": [
      "ROOT/\n",
      "\u251c\u2500\u2500 parameters/\n",
      "\u2502\u00a0\u00a0 \u251c\u2500\u2500 common_files/\n",
      "\u2502\u202f\u202f \u2502   \u251c\u2500\u2500 flex.defn\n",
      "\u2502\u202f\u202f \u2502   \u251c\u2500\u2500 flex_drive.tbl\n",
      "\u2502\u202f\u202f \u2502   \u251c\u2500\u2500 frcmod.ff99SB\n",
      "\u2502\u202f\u202f \u2502   \u251c\u2500\u2500 gaff.dat\n",
      "\u2502\u202f\u202f \u2502   \u251c\u2500\u2500 parm99.dat\n",
      "\u2502\u202f\u202f \u2502   \u2514\u2500\u2500 vdw_AMBER_parm99.defn\n",
      "\u2502\u00a0\u00a0 \u2514\u2500\u2500 ligands/\n",
      "\u2502\u00a0\u00a0     \u2514\u2500\u2500 $LIGAND\n",
      "\n",
      "MD/\n",
      "\u251c\u2500\u2500 $PROTEIN/\n",
      "\u2502\u202f\u202f \u251c\u2500\u2500 0_original_files/\n",
      "\u2502\u202f\u202f \u2502\u202f\u202f \u251c\u2500\u2500 $PDB.pdb\n",
      "\u2502\u202f\u202f \u251c\u2500\u2500 $#_$MOD_$PDB/\n",
      "\u2502\u202f\u202f \u2502\u202f\u202f \u251c\u2500\u2500 $#_$TYPE/\n",
      "\u2502\u202f\u202f \u2502\u202f\u202f \u2502\u202f\u202f \u251c\u2500\u2500 $PDB_$TYPE.pdb\n",
      "\u2502\u202f\u202f \u2502\u202f\u202f \u2502\u202f\u202f \u251c\u2500\u2500 $DATE-$PDB_$TYPE.leaprc\n",
      "\u2502\u202f\u202f \u2502\u202f\u202f \u2502\u202f\u202f \u251c\u2500\u2500 $DATE-$PDB_$TYPE_leap.log\n",
      "\u2502\u202f\u202f \u2502\u202f\u202f \u2502\u202f\u202f \u251c\u2500\u2500 $PDB_$TYPE_amber.pdb, $PDB_$TYPE_watbox.pdb,\n",
      "\u2502\u202f\u202f \u2502\u202f\u202f \u2502\u202f\u202f \u251c\u2500\u2500 $PDB_$TYPE.prmtop, $PDB_$TYPE.inpcrd\n",
      "\u2502\u202f\u202f \u2502\u202f\u202f \u2502\u202f\u202f \u2502\n",
      "\u2502\u202f\u202f \u2502\u202f\u202f \u2502\u202f\u202f \u251c\u2500\u2500 make_input_scripts.sh\n",
      "\u2502\u202f\u202f \u2502\u202f\u202f \u2502\u202f\u202f \u251c\u2500\u2500 mdin_min, mdin_equil, mdin_prod\n",
      "\u2502\u202f\u202f \u2502\u202f\u202f \u2502\u202f\u202f \u251c\u2500\u2500 send_job\n",
      "\u2502\u202f\u202f \u2502\u202f\u202f \u2502\u202f\u202f \u2502\n",
      "\u2502\u202f\u202f \u2502\u202f\u202f \u2502\u202f\u202f \u251c\u2500\u2500 $PDB_$TYPE_min.out, $PDB_$TYPE_min.rst\n",
      "\u2502\u202f\u202f \u2502\u202f\u202f \u2502\u202f\u202f \u251c\u2500\u2500 $PDB_$TYPE_equil.out, $PDB_$TYPE_equil.rst\n",
      "\u2502\u202f\u202f \u2502\u202f\u202f \u2502\u202f\u202f \u251c\u2500\u2500 $PDB_$TYPE_prod.out, $PDB_$TYPE_prod.rst\n",
      "\u2502\u202f\u202f \u2502\u202f\u202f \u2502\u202f\u202f \u2502\n",
      "\u2502\u202f\u202f \u2502\u202f\u202f \u2502\u202f\u202f \u251c\u2500\u2500 ptraj_recenter, run_cpptraj\n",
      "\u2502\u202f\u202f \u2502\u202f\u202f \u2502\u202f\u202f \u251c\u2500\u2500 $PDB_$TYPE_$T1_$T2_weeded_step_$STEP.traj\n",
      "\u2502\u202f\u202f \u2502\u202f\u202f \u2502\u202f\u202f \u251c\u2500\u2500 pdbs/\n",
      "\u2502\u202f\u202f \u2502\u202f\u202f \u2502\u202f\u202f \u2502   \u251c\u2500\u2500 ptraj_pdbs, run_cpptraj_pdbs, reorganize_pdbs.py\n",
      "\u2502\u202f\u202f \u2502\u202f\u202f \u2502\u202f\u202f \u2502   \u2514\u2500\u2500 $PDB_$TYPE_$TIMETOTAL.$FRAME.pdb\n",
      "\u2502\u202f\u202f \u2502\u202f\u202f \u2502\u202f\u202f \u2502\n",
      "\u2502\u202f\u202f \u2502\u202f\u202f \u2502\u202f\u202f \u251c\u2500\u2500 analysis/\n",
      "\u2502\u202f\u202f \u2502\u202f\u202f \u2502\u202f\u202f \u2502   \u251c\u2500\u2500 process_mdout.sh  # calls process_mdout.perl from another folder, has the right input files\n",
      "\u2502\u202f\u202f \u2502\u202f\u202f \u2502\u202f\u202f \u2502   \u2514\u2500\u2500 summary.$ANALYSIS"
     ]
    },
    {
     "cell_type": "code",
     "collapsed": false,
     "input": [
      "PROTEIN_MD = os.path.join(MD_FOLDER, PROTEIN)\n",
      "\n",
      "for protein_mod in MODS:\n",
      "    PROTEIN_MD_MOD = os.path.join(PROTEIN_MD, protein_mod)\n",
      "    for protein_type in TYPES:\n",
      "        PROTEIN_MD_MOD_TYPE = os.path.join(PROTEIN_MD_MOD, protein_type, '0_original_files')\n",
      "        if not os.path.exists(PROTEIN_MD_MOD_TYPE):\n",
      "            os.makedirs(PROTEIN_MD_MOD_TYPE)"
     ],
     "language": "python",
     "metadata": {},
     "outputs": [],
     "prompt_number": 35
    },
    {
     "cell_type": "heading",
     "level": 3,
     "metadata": {},
     "source": [
      "1: Prepare any cofactor/substrate files"
     ]
    },
    {
     "cell_type": "markdown",
     "metadata": {},
     "source": [
      "Sources:\n",
      "* Bryce AMBER parameters: http://www.pharmacy.manchester.ac.uk/bryce/amber/\n",
      "    * Download the corresponding .off/.prep, .frcmod files\n",
      "* PDB Ligand Expo: http://ligand-expo.rcsb.org/\n",
      "    * If using these, further parameterization with Gaussian is required (see __ notebook)\n",
      "* Here is a nice tutorial explaining these files: http://pengfei-li.weebly.com/tutorials/a-general-tutorial-about-how-to-make-prepartion-files-in-amber\n",
      "    \n",
      "Other to do:\n",
      "* Double check that the atom names in the parameter files correspond to the one in the PDB structure\n",
      "    * If not, you need to rename the atoms in the PDB file"
     ]
    },
    {
     "cell_type": "heading",
     "level": 3,
     "metadata": {},
     "source": [
      "2: Prepare your PDB file"
     ]
    },
    {
     "cell_type": "markdown",
     "metadata": {},
     "source": [
      "TODO: use biopython to prepare pdb files?"
     ]
    },
    {
     "cell_type": "markdown",
     "metadata": {},
     "source": [
      "##### INPUT: original PDB file\n",
      "\n",
      "##### OUTPUT: apo, holo, and other forms of the structure to simulate"
     ]
    },
    {
     "cell_type": "markdown",
     "metadata": {},
     "source": [
      "Things to consider:\n",
      "\n",
      "* How many forms (apo, holo, etc) of the protein will be simulated?\n",
      "* Is the active site of the enzyme within a dimer interface? \n",
      "    * If so, the whole complex needs to be simulated"
     ]
    },
    {
     "cell_type": "heading",
     "level": 4,
     "metadata": {},
     "source": [
      "1A: HOLO files"
     ]
    },
    {
     "cell_type": "markdown",
     "metadata": {},
     "source": [
      "* Keep:\n",
      "    * Chains of interest\n",
      "    * Cofactors\n",
      "    \n",
      "* Remove:\n",
      "    * Waters\n",
      "    * Unwanted substrates"
     ]
    },
    {
     "cell_type": "heading",
     "level": 4,
     "metadata": {},
     "source": [
      "1B: Other forms"
     ]
    },
    {
     "cell_type": "markdown",
     "metadata": {},
     "source": [
      "Use resulting HOLO file from above, and do the following:\n",
      "\n",
      "* Keep:\n",
      "    * Cofactors of interest\n",
      "* Remove:\n",
      "    * Unwanted cofactors"
     ]
    },
    {
     "cell_type": "heading",
     "level": 4,
     "metadata": {},
     "source": [
      "1C: APO files"
     ]
    },
    {
     "cell_type": "markdown",
     "metadata": {},
     "source": [
      "Use resulting HOLO/other file from above, and do the following:\n",
      "\n",
      "* Remove:\n",
      "    * Unwanted cofactors"
     ]
    },
    {
     "cell_type": "heading",
     "level": 3,
     "metadata": {},
     "source": [
      "3: Prepare .prmtop and .inpcrd files (using leaprc input script)"
     ]
    },
    {
     "cell_type": "markdown",
     "metadata": {},
     "source": [
      "* prmtop\n",
      "    * parameters/topology - connectivity and other parameters\n",
      "    * does not change\n",
      "* inpcrd\n",
      "    * initial input coordinates\n",
      "    * changes during simulation"
     ]
    },
    {
     "cell_type": "heading",
     "level": 5,
     "metadata": {},
     "source": [
      "leaprc"
     ]
    },
    {
     "cell_type": "code",
     "collapsed": false,
     "input": [
      "os.chdir(TEMPLATE_GENERATED)\n",
      "TODAY = time.strftime(\"%y%m%d\")"
     ],
     "language": "python",
     "metadata": {},
     "outputs": [],
     "prompt_number": 58
    },
    {
     "cell_type": "code",
     "collapsed": false,
     "input": [
      "def leaprc_maker(leaprc_dict):\n",
      "    # allows loading of templates off filesystems\n",
      "    templateLoader = jinja2.FileSystemLoader( searchpath=\"/\" )\n",
      "    templateEnv = jinja2.Environment( loader=templateLoader )\n",
      "    \n",
      "    leaprc_dict['date'] = TODAY\n",
      "    leaprc_dict['main_params_path'] = COMMON_FILES\n",
      "    leaprc_dict['ligands_path'] = LIGANDS\n",
      "\n",
      "    if leaprc_dict['solvate']:\n",
      "        LEAPRC_TEMPLATE = TEMPLATE_FILES + 'leaprc_solvate.jinja'\n",
      "    else:\n",
      "        LEAPRC_TEMPLATE = TEMPLATE_FILES + 'leaprc_gas.jinja'\n",
      "    \n",
      "    # load the template\n",
      "    template = templateEnv.get_template( LEAPRC_TEMPLATE )\n",
      "\n",
      "    # process the template to produce our final text.\n",
      "    outputText = template.render( leaprc_dict )\n",
      "\n",
      "    file_out = leaprc_dict['date'] + '-' + leaprc_dict['name'] + '.leaprc'\n",
      "    with open(file_out, \"w\") as f:\n",
      "        f.write(outputText)\n",
      "        \n",
      "    return file_out"
     ],
     "language": "python",
     "metadata": {},
     "outputs": [],
     "prompt_number": 78
    },
    {
     "cell_type": "code",
     "collapsed": false,
     "input": [
      "# # EXAMPLE\n",
      "# EXAMPLE = yaml.load(\"\"\"\n",
      "# ---\n",
      "# # identifiers\n",
      "# fullname: EXAMPLE_PROTEIN_MOD_TYPE\n",
      "# name: PROTEIN_MOD_TYPE\n",
      "# main_pdb_file : original_pdb.pdb\n",
      "\n",
      "# # ligands or other atoms with extra definitions\n",
      "# additional_params:\n",
      "#     DNC:\n",
      "#         params_path: DNC/DNC.frcmod\n",
      "#         off_prep: DNC/DNC.off\n",
      "\n",
      "# # additional processing that may have to be done on the protein\n",
      "# extra_processing: |\n",
      "#     # remove hydrogens on DNC - coordinating MG\n",
      "#     remove 3BWM_halo_dnc.218 3BWM_halo_dnc.218.H\n",
      "\n",
      "# # amber options\n",
      "# save_amber_pdb: True\n",
      "# radii: PBRadii bondi\n",
      "# set_box: True\n",
      "\n",
      "# # solvate the molecule\n",
      "# solvate: True\n",
      "# ion: Na+\n",
      "# \"\"\")"
     ],
     "language": "python",
     "metadata": {},
     "outputs": [],
     "prompt_number": 79
    },
    {
     "cell_type": "code",
     "collapsed": false,
     "input": [
      "leaprc_yamls = defaultdict(dict)\n",
      "\n",
      "leaprc_yamls[TYPES[0]] = yaml.load(\"\"\"\n",
      "---\n",
      "# identifiers\n",
      "fullname: G6PD-MODEL-1_APO\n",
      "name: G6PD_WT_apo\n",
      "main_pdb_file : g6pd_ecoli_model_apo.pdb\n",
      "\n",
      "# amber options\n",
      "save_amber_pdb: True\n",
      "set_box: True\n",
      "\n",
      "# solvate the molecule\n",
      "solvate: True\n",
      "ion: Na+\n",
      "\"\"\")\n",
      "\n",
      "leaprc_yamls[TYPES[1]] = yaml.load(\"\"\"\n",
      "---\n",
      "# identifiers\n",
      "fullname: G6PD-MODEL-2_HALO\n",
      "name: G6PD_WT_halo\n",
      "main_pdb_file : g6pd_ecoli_model_halo.pdb\n",
      "\n",
      "# ligands or other atoms with extra definitions\n",
      "additional_params:\n",
      "    NPD:\n",
      "        params_path: NADP+/frcmod.NADP+\n",
      "        off_prep: NADP+/NADP+.prep\n",
      "\n",
      "# amber options\n",
      "save_amber_pdb: True\n",
      "set_box: True\n",
      "\n",
      "# solvate the molecule\n",
      "solvate: True\n",
      "ion: Na+\n",
      "\"\"\")"
     ],
     "language": "python",
     "metadata": {},
     "outputs": [],
     "prompt_number": 80
    },
    {
     "cell_type": "code",
     "collapsed": false,
     "input": [
      "PROTEIN_MD = os.path.join(MD_FOLDER, PROTEIN)\n",
      "print 'Root folder for MD trajectories: {root_dir}'.format(root_dir = PROTEIN_MD)\n",
      "\n",
      "for protein_mod in MODS:\n",
      "    PROTEIN_MD_MOD = os.path.join(PROTEIN_MD, protein_mod)\n",
      "    for protein_type in TYPES:\n",
      "        \n",
      "        PROTEIN_MD_MOD_TYPE = os.path.join(PROTEIN_MD_MOD, protein_type, '0_original_files')\n",
      "        os.chdir(PROTEIN_MD_MOD_TYPE)\n",
      "        print 'Current WD: {working_dir}'.format(working_dir = PROTEIN_MD_MOD_TYPE)\n",
      "        \n",
      "        leaprc_file = leaprc_maker(leaprc_yamls[protein_type])\n",
      "        return_code = subprocess.call('tleap -f {leaprc_filename}'.format(leaprc_filename=leaprc_file), shell=True)\n",
      "        if return_code == 0:\n",
      "            print 'Ran tleap for {leaprc_filename}. Please check the output for any errors.'.format(leaprc_filename=leaprc_file)\n",
      "        else:\n",
      "            print 'Error running tleap for leaprc_filename}.'.format(leaprc_filename=leaprc_file)"
     ],
     "language": "python",
     "metadata": {},
     "outputs": [
      {
       "output_type": "stream",
       "stream": "stdout",
       "text": [
        "Root folder for MD trajectories: /home/nathan/projects/MD/G6PD_ECOLI\n",
        "Current WD: /home/nathan/projects/MD/G6PD_ECOLI/1_WT/1_APO/0_original_files\n",
        "Ran tleap for 150712-G6PD_WT_apo.leaprc. Please check the output for any errors."
       ]
      },
      {
       "output_type": "stream",
       "stream": "stdout",
       "text": [
        "\n",
        "Current WD: /home/nathan/projects/MD/G6PD_ECOLI/1_WT/2_HALO/0_original_files\n",
        "Ran tleap for 150712-G6PD_WT_halo.leaprc. Please check the output for any errors."
       ]
      },
      {
       "output_type": "stream",
       "stream": "stdout",
       "text": [
        "\n"
       ]
      }
     ],
     "prompt_number": 81
    },
    {
     "cell_type": "heading",
     "level": 3,
     "metadata": {},
     "source": [
      "4: Prepare MD scripts"
     ]
    },
    {
     "cell_type": "code",
     "collapsed": false,
     "input": [
      "def mdin_maker(template_file, mdin_dict):\n",
      "    # allows loading of templates off filesystems\n",
      "    templateLoader = jinja2.FileSystemLoader( searchpath=\"/\" )\n",
      "    templateEnv = jinja2.Environment( loader=templateLoader )\n",
      "\n",
      "    # load the template\n",
      "    template = templateEnv.get_template( template_file )\n",
      "\n",
      "    # process the template to produce our final text.\n",
      "    outputText = template.render( mdin_dict )\n",
      "\n",
      "    file_out = os.path.splitext(os.path.basename(template_file))[0]\n",
      "    with open(file_out, \"w\") as f:\n",
      "        f.write(outputText)\n",
      "        \n",
      "    return file_out"
     ],
     "language": "python",
     "metadata": {},
     "outputs": [],
     "prompt_number": 90
    },
    {
     "cell_type": "code",
     "collapsed": false,
     "input": [
      "mdin_yamls = defaultdict(dict)\n",
      "\n",
      "mdin_yamls[TYPES[0]] = yaml.load(\"\"\"\n",
      "---\n",
      "# equil\n",
      "res_start: 1\n",
      "res_end: 491\n",
      "\n",
      "# prod\n",
      "num_steps: 75000000\n",
      "\n",
      "# send_job\n",
      "name: G6PD_ECOLI_APO\n",
      "\"\"\")\n",
      "\n",
      "mdin_yamls[TYPES[1]] = yaml.load(\"\"\"\n",
      "---\n",
      "# equil\n",
      "res_start: 1\n",
      "res_end: 493\n",
      "\n",
      "# prod\n",
      "num_steps: 75000000\n",
      "\n",
      "# send_job\n",
      "name: G6PD_ECOLI_HALO\n",
      "\"\"\")"
     ],
     "language": "python",
     "metadata": {},
     "outputs": [],
     "prompt_number": 95
    },
    {
     "cell_type": "code",
     "collapsed": false,
     "input": [
      "PROTEIN_MD = os.path.join(MD_FOLDER, PROTEIN)\n",
      "\n",
      "for protein_mod in MODS:\n",
      "    PROTEIN_MD_MOD = os.path.join(PROTEIN_MD, protein_mod)\n",
      "    for protein_type in TYPES:\n",
      "        PROTEIN_MD_MOD_TYPE = os.path.join(PROTEIN_MD_MOD, protein_type)\n",
      "        os.chdir(PROTEIN_MD_MOD_TYPE)\n",
      "        \n",
      "        # mdin_min\n",
      "        mdin_min_file = mdin_maker(TEMPLATE_FILES + \"mdin_min.jinja\", mdin_yamls[protein_type])\n",
      "        \n",
      "        # mdin_equil\n",
      "        mdin_equil_file = mdin_maker(TEMPLATE_FILES + \"mdin_equil.jinja\", mdin_yamls[protein_type])\n",
      "        \n",
      "        # mdin_prod\n",
      "        mdin_prod_file = mdin_maker(TEMPLATE_FILES + \"mdin_prod.jinja\", mdin_yamls[protein_type])\n",
      "        \n",
      "        # send_job\n",
      "        send_job_file = mdin_maker(TEMPLATE_FILES + \"send_job.jinja\", mdin_yamls[protein_type])"
     ],
     "language": "python",
     "metadata": {},
     "outputs": [],
     "prompt_number": 96
    },
    {
     "cell_type": "heading",
     "level": 3,
     "metadata": {},
     "source": [
      "5: Run minimization, equilibration, production"
     ]
    },
    {
     "cell_type": "code",
     "collapsed": false,
     "input": [
      "# for protein_mod in MODS:\n",
      "#     PROTEIN_MD_MOD = os.path.join(PROTEIN_MD, protein_mod)\n",
      "#     for protein_type in TYPES:\n",
      "#         PROTEIN_MD_MOD_TYPE = os.path.join(PROTEIN_MD_MOD, protein_type)\n",
      "#         os.chdir(PROTEIN_MD_MOD_TYPE)\n",
      "        \n",
      "#         !chmod 755 ./send_job\n",
      "#         !nohup ./send_job > $TODAY-mdin_min_equil_prod.out &"
     ],
     "language": "python",
     "metadata": {},
     "outputs": [],
     "prompt_number": 97
    },
    {
     "cell_type": "heading",
     "level": 3,
     "metadata": {},
     "source": [
      "6: Analysis of trajectory"
     ]
    },
    {
     "cell_type": "markdown",
     "metadata": {},
     "source": [
      "https://sbrgstructure.dynamic.ucsd.edu:8889/notebooks/150503-MD_GAPDH_analysis.ipynb"
     ]
    },
    {
     "cell_type": "heading",
     "level": 3,
     "metadata": {},
     "source": [
      "7: Extract frames, save as trajectory and PDBs"
     ]
    },
    {
     "cell_type": "heading",
     "level": 5,
     "metadata": {},
     "source": [
      "As single trajectory file"
     ]
    },
    {
     "cell_type": "heading",
     "level": 5,
     "metadata": {},
     "source": [
      "As PDB"
     ]
    },
    {
     "cell_type": "raw",
     "metadata": {},
     "source": [
      "\t\u2022 to split the trajectory into individual pdb files and also remove waters....\n",
      "\t\t\u25cb Use \"run_cpptraj\" and \"ptraj_recenter.in\"\n",
      "\t\t\n",
      "\t\t\u25cb run_cpptraj:\n",
      "\t\t\n",
      "cpptraj -i ptraj_merge_traj.in -p 3BWY_halo_dnc.prmtop\n",
      "\t\t\t\n",
      "\t\t\t\u00a7 Requires the .prmtop, and then look at the ptraj_merge_traj.in file \n",
      "\t\t\t\u00a7 basically this runs cpptraj (A newer version of ptraj) using the commands in the .in script and the parameters from the prmtop file\n",
      "\t\t\t\n",
      "\t\t\u25cb liz's ptraj_merge_traj.in file:\n",
      "\t\t\n",
      "trajin weeded_step_100_mdcrd_centered.traj 1 -1 1\n",
      "trajin weeded_step_100_mdcrd_centered2.traj 1 -1 1\n",
      "trajout 3BWY_halo_dnc_113ns.pdb pdb\n",
      "center :1-214\n",
      "image\n",
      "go\n",
      "\t\n",
      "\t\t\u25cb so i need weeded_step_100_mdcrd_centered.traj and weeded_step_100_mdcrd_centered2.traj\n",
      "\t\t\u25cb also i am going to change the ptraj_merge in file to 1. remove waters 2. save as separate pdbs\n",
      "\n",
      "trajin ../weeded_step_100_mdcrd_centered.traj 1 -1 1\n",
      "trajin ../weeded_step_100_mdcrd_centered2.traj 1 -1 1\n",
      "center :1-214 mass origin\n",
      "image origin center familiar\n",
      "strip :WAT\n",
      "trajout 3BWY_halo_dnc_113ns_snap.pdb pdb multi\n",
      "go\n",
      "\n",
      "\t\t\u25cb and finally doing some renaming of the pdb files (with python - see below)\n",
      "\n",
      "\t\u2022 scp all these files to structure (or whatever computer you wanna use)\n",
      "\t\u2022 run dock -- but first modify which parts are deleted in the dock.py file. \n",
      "\t\t\u25cb in this case (COMT halo) we want to delete everything except sam, mg, and the protein.\n",
      "\t\t\u25cb ALSO\n",
      "\t\t\t\u00a7 Make sure the program DMS is installed (http://www.cgl.ucsf.edu/Overview/software.html#dms)"
     ]
    },
    {
     "cell_type": "code",
     "collapsed": false,
     "input": [
      "files = glob.glob('*.pdb.*')\n",
      "\n",
      "for f in files:\n",
      "    prefix = f.split('.')[0]\n",
      "    frame = int(f.split('.')[2])\n",
      "    newfile = '%s.%03d.pdb' % (prefix,frame)\n",
      "    os.system('mv %s %s' % (f, newfile))"
     ],
     "language": "python",
     "metadata": {},
     "outputs": []
    },
    {
     "cell_type": "heading",
     "level": 3,
     "metadata": {},
     "source": [
      "8: Visualization in VMD"
     ]
    },
    {
     "cell_type": "code",
     "collapsed": false,
     "input": [],
     "language": "python",
     "metadata": {},
     "outputs": []
    }
   ],
   "metadata": {}
  }
 ]
}