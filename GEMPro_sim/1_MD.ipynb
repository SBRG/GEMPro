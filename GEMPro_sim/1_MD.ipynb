{
 "metadata": {
  "name": "",
  "signature": "sha256:6888822f24e7c3b059fa43f3fcac6eab05c4c28e042cff19920ca8f314db7411"
 },
 "nbformat": 3,
 "nbformat_minor": 0,
 "worksheets": [
  {
   "cells": [
    {
     "cell_type": "heading",
     "level": 2,
     "metadata": {},
     "source": [
      "GOAL: Automate generation of AMBER input files for running MD"
     ]
    },
    {
     "cell_type": "markdown",
     "metadata": {},
     "source": [
      "jinja guide : http://kagerato.net/articles/software/libraries/jinja-quickstart.html"
     ]
    },
    {
     "cell_type": "code",
     "collapsed": false,
     "input": [
      "import glob\n",
      "import os\n",
      "import jinja2\n",
      "import time\n",
      "import yaml\n",
      "import pprint as pp"
     ],
     "language": "python",
     "metadata": {},
     "outputs": [],
     "prompt_number": 25
    },
    {
     "cell_type": "code",
     "collapsed": false,
     "input": [
      "ROOT = '/home/nathan/projects'\n",
      "MD_FOLDER = ROOT + '/MD'\n",
      "TEMPLATE_FILES = ROOT + '/templates'\n",
      "TEMPLATE_GENERATED = TEMPLATE_FILES + '/generated'\n",
      "PARAMETERS = ROOT + '/parameters'\n",
      "COMMON_FILES = PARAMETERS + '/common_files'\n",
      "LIGANDS = PARAMETERS + '/ligands'"
     ],
     "language": "python",
     "metadata": {},
     "outputs": [],
     "prompt_number": 52
    },
    {
     "cell_type": "heading",
     "level": 3,
     "metadata": {},
     "source": [
      "0: Prepare folders"
     ]
    },
    {
     "cell_type": "raw",
     "metadata": {},
     "source": [
      "ROOT/\n",
      "\u251c\u2500\u2500 parameters/\n",
      "\u2502\u00a0\u00a0 \u251c\u2500\u2500 common_files/\n",
      "\u2502\u202f\u202f \u2502   \u251c\u2500\u2500 flex.defn\n",
      "\u2502\u202f\u202f \u2502   \u251c\u2500\u2500 flex_drive.tbl\n",
      "\u2502\u202f\u202f \u2502   \u251c\u2500\u2500 frcmod.ff99SB\n",
      "\u2502\u202f\u202f \u2502   \u251c\u2500\u2500 gaff.dat\n",
      "\u2502\u202f\u202f \u2502   \u251c\u2500\u2500 parm99.dat\n",
      "\u2502\u202f\u202f \u2502   \u2514\u2500\u2500 vdw_AMBER_parm99.defn\n",
      "\u2502\u00a0\u00a0 \u2514\u2500\u2500 ligands/\n",
      "\u2502\u00a0\u00a0     \u2514\u2500\u2500 $LIGAND\n",
      "\n",
      "MD/\n",
      "\u251c\u2500\u2500 $PROTEIN/\n",
      "\u2502\u202f\u202f \u251c\u2500\u2500 0_original_files/\n",
      "\u2502\u202f\u202f \u2502\u202f\u202f \u251c\u2500\u2500 $PDB.pdb\n",
      "\u2502\u202f\u202f \u251c\u2500\u2500 $#_$MOD_$PDB/\n",
      "\u2502\u202f\u202f \u2502\u202f\u202f \u251c\u2500\u2500 $#_$TYPE/\n",
      "\u2502\u202f\u202f \u2502\u202f\u202f \u2502\u202f\u202f \u251c\u2500\u2500 $PDB_$TYPE.pdb\n",
      "\u2502\u202f\u202f \u2502\u202f\u202f \u2502\u202f\u202f \u251c\u2500\u2500 $DATE-$PDB_$TYPE.leaprc\n",
      "\u2502\u202f\u202f \u2502\u202f\u202f \u2502\u202f\u202f \u251c\u2500\u2500 $DATE-$PDB_$TYPE_leap.log\n",
      "\u2502\u202f\u202f \u2502\u202f\u202f \u2502\u202f\u202f \u251c\u2500\u2500 $PDB_$TYPE_amber.pdb, $PDB_$TYPE_watbox.pdb,\n",
      "\u2502\u202f\u202f \u2502\u202f\u202f \u2502\u202f\u202f \u251c\u2500\u2500 $PDB_$TYPE.prmtop, $PDB_$TYPE.inpcrd\n",
      "\u2502\u202f\u202f \u2502\u202f\u202f \u2502\u202f\u202f \u2502\n",
      "\u2502\u202f\u202f \u2502\u202f\u202f \u2502\u202f\u202f \u251c\u2500\u2500 make_input_scripts.sh\n",
      "\u2502\u202f\u202f \u2502\u202f\u202f \u2502\u202f\u202f \u251c\u2500\u2500 mdin_min, mdin_equil, mdin_prod\n",
      "\u2502\u202f\u202f \u2502\u202f\u202f \u2502\u202f\u202f \u251c\u2500\u2500 send_job\n",
      "\u2502\u202f\u202f \u2502\u202f\u202f \u2502\u202f\u202f \u2502\n",
      "\u2502\u202f\u202f \u2502\u202f\u202f \u2502\u202f\u202f \u251c\u2500\u2500 $PDB_$TYPE_min.out, $PDB_$TYPE_min.rst\n",
      "\u2502\u202f\u202f \u2502\u202f\u202f \u2502\u202f\u202f \u251c\u2500\u2500 $PDB_$TYPE_equil.out, $PDB_$TYPE_equil.rst\n",
      "\u2502\u202f\u202f \u2502\u202f\u202f \u2502\u202f\u202f \u251c\u2500\u2500 $PDB_$TYPE_prod.out, $PDB_$TYPE_prod.rst\n",
      "\u2502\u202f\u202f \u2502\u202f\u202f \u2502\u202f\u202f \u2502\n",
      "\u2502\u202f\u202f \u2502\u202f\u202f \u2502\u202f\u202f \u251c\u2500\u2500 ptraj_recenter, run_cpptraj\n",
      "\u2502\u202f\u202f \u2502\u202f\u202f \u2502\u202f\u202f \u251c\u2500\u2500 $PDB_$TYPE_$T1_$T2_weeded_step_$STEP.traj\n",
      "\u2502\u202f\u202f \u2502\u202f\u202f \u2502\u202f\u202f \u251c\u2500\u2500 pdbs/\n",
      "\u2502\u202f\u202f \u2502\u202f\u202f \u2502\u202f\u202f \u2502   \u251c\u2500\u2500 ptraj_pdbs, run_cpptraj_pdbs, reorganize_pdbs.py\n",
      "\u2502\u202f\u202f \u2502\u202f\u202f \u2502\u202f\u202f \u2502   \u2514\u2500\u2500 $PDB_$TYPE_$TIMETOTAL.$FRAME.pdb\n",
      "\u2502\u202f\u202f \u2502\u202f\u202f \u2502\u202f\u202f \u2502\n",
      "\u2502\u202f\u202f \u2502\u202f\u202f \u2502\u202f\u202f \u251c\u2500\u2500 analysis/\n",
      "\u2502\u202f\u202f \u2502\u202f\u202f \u2502\u202f\u202f \u2502   \u251c\u2500\u2500 process_mdout.sh  # calls process_mdout.perl from another folder, has the right input files\n",
      "\u2502\u202f\u202f \u2502\u202f\u202f \u2502\u202f\u202f \u2502   \u2514\u2500\u2500 summary.$ANALYSIS"
     ]
    },
    {
     "cell_type": "heading",
     "level": 3,
     "metadata": {},
     "source": [
      "1: Prepare any cofactor/substrate files"
     ]
    },
    {
     "cell_type": "markdown",
     "metadata": {},
     "source": [
      "Sources:\n",
      "* Bryce AMBER parameters: http://www.pharmacy.manchester.ac.uk/bryce/amber/\n",
      "    * Download the corresponding .off/.prep, .frcmod files\n",
      "* PDB Ligand Expo: http://ligand-expo.rcsb.org/\n",
      "    * If using these, further parameterization with Gaussian is required (see __ notebook)\n",
      "* Here is a nice tutorial explaining these files: http://pengfei-li.weebly.com/tutorials/a-general-tutorial-about-how-to-make-prepartion-files-in-amber\n",
      "    \n",
      "Other to do:\n",
      "* Double check that the atom names in the parameter files correspond to the one in the PDB structure\n",
      "    * If not, you need to rename the atoms in the PDB file"
     ]
    },
    {
     "cell_type": "heading",
     "level": 3,
     "metadata": {},
     "source": [
      "2: Prepare your PDB file"
     ]
    },
    {
     "cell_type": "markdown",
     "metadata": {},
     "source": [
      "TODO: use biopython to prepare pdb files"
     ]
    },
    {
     "cell_type": "markdown",
     "metadata": {},
     "source": [
      "##### INPUT: original PDB file\n",
      "\n",
      "##### OUTPUT: apo, holo, and other forms of the structure to simulate"
     ]
    },
    {
     "cell_type": "markdown",
     "metadata": {},
     "source": [
      "Things to consider:\n",
      "\n",
      "* How many forms (apo, holo, etc) of the protein will be simulated?\n",
      "* Is the active site of the enzyme within a dimer interface? \n",
      "    * If so, the whole complex needs to be simulated"
     ]
    },
    {
     "cell_type": "heading",
     "level": 4,
     "metadata": {},
     "source": [
      "1A: HOLO files"
     ]
    },
    {
     "cell_type": "markdown",
     "metadata": {},
     "source": [
      "* Keep:\n",
      "    * Chains of interest\n",
      "    * Cofactors\n",
      "    \n",
      "* Remove:\n",
      "    * Waters\n",
      "    * Unwanted substrates"
     ]
    },
    {
     "cell_type": "heading",
     "level": 4,
     "metadata": {},
     "source": [
      "1B: Other forms"
     ]
    },
    {
     "cell_type": "markdown",
     "metadata": {},
     "source": [
      "Use resulting HOLO file from above, and do the following:\n",
      "\n",
      "* Keep:\n",
      "    * Cofactors of interest\n",
      "* Remove:\n",
      "    * Unwanted cofactors"
     ]
    },
    {
     "cell_type": "heading",
     "level": 4,
     "metadata": {},
     "source": [
      "1C: APO files"
     ]
    },
    {
     "cell_type": "markdown",
     "metadata": {},
     "source": [
      "Use resulting HOLO/other file from above, and do the following:\n",
      "\n",
      "* Remove:\n",
      "    * Unwanted cofactors"
     ]
    },
    {
     "cell_type": "heading",
     "level": 3,
     "metadata": {},
     "source": [
      "3: Prepare .prmtop and .inpcrd files (using leaprc input script)"
     ]
    },
    {
     "cell_type": "markdown",
     "metadata": {},
     "source": [
      "* prmtop\n",
      "    * parameters/topology - connectivity and other parameters\n",
      "    * does not change\n",
      "* inpcrd\n",
      "    * initial input coordinates\n",
      "    * changes during simulation"
     ]
    },
    {
     "cell_type": "heading",
     "level": 5,
     "metadata": {},
     "source": [
      "leaprc"
     ]
    },
    {
     "cell_type": "code",
     "collapsed": false,
     "input": [
      "os.chdir(TEMPLATE_GENERATED)\n",
      "today = time.strftime(\"%y%m%d\")"
     ],
     "language": "python",
     "metadata": {},
     "outputs": [],
     "prompt_number": 63
    },
    {
     "cell_type": "code",
     "collapsed": false,
     "input": [
      "def leaprc_maker(template, leaprc_dict):\n",
      "    # allows loading of templates off filesystems\n",
      "    templateLoader = jinja2.FileSystemLoader( searchpath=\"/\" )\n",
      "    templateEnv = jinja2.Environment( loader=templateLoader )\n",
      "\n",
      "    # load the template\n",
      "    LEAPRC_TEMPLATE = template\n",
      "    template = templateEnv.get_template( LEAPRC_TEMPLATE )\n",
      "\n",
      "    # process the template to produce our final text.\n",
      "    outputText = template.render( leaprc_dict )\n",
      "\n",
      "    file_out = leaprc_dict['date'] + '-' + leaprc_dict['name'] + '.leaprc'\n",
      "    with open(file_out, \"w\") as f:\n",
      "        f.write(outputText)\n",
      "        \n",
      "    return file_out"
     ],
     "language": "python",
     "metadata": {},
     "outputs": [],
     "prompt_number": 64
    },
    {
     "cell_type": "code",
     "collapsed": false,
     "input": [
      "INPUT = yaml.load(\"\"\"\n",
      "---\n",
      "# identifiers\n",
      "fullname: COMT-1_WT_3BWM-1_APO\n",
      "name: 3BWM_apo_solv\n",
      "main_pdb_file : 3BWM_apo.pdb\n",
      "\n",
      "# ligands or other atoms with extra definitions\n",
      "additional_params:\n",
      "    DNC:\n",
      "        params_path: DNC/DNC.frcmod\n",
      "        off_prep: DNC/DNC.off\n",
      "    SAM:\n",
      "        params_path: SAM/frcmod.SAM\n",
      "        off_prep: SAM/SAM.off\n",
      "    MG:\n",
      "        params_path: frcmod.magnesium\n",
      "        off_prep: magnesium.prep\n",
      "\n",
      "# additional processing that may have to be done on the protein\n",
      "# extra_processing: |\n",
      "#     # remove hydrogens on DNC - coordinating MG\n",
      "#     remove 3BWM_halo_dnc.218 3BWM_halo_dnc.218.H\n",
      "\n",
      "# amber options\n",
      "save_amber_pdb: False\n",
      "radii: PBRadii bondi\n",
      "set_box: True\n",
      "\n",
      "# solvate the molecule\n",
      "solvate: True\n",
      "ion: Na+\n",
      "\"\"\")\n",
      "\n",
      "INPUT['date'] = today\n",
      "INPUT['main_params_path'] = COMMON_FILES\n",
      "INPUT['ligands_path'] = LIGANDS"
     ],
     "language": "python",
     "metadata": {},
     "outputs": [],
     "prompt_number": 61
    },
    {
     "cell_type": "code",
     "collapsed": false,
     "input": [
      "if INPUT['solvate']:\n",
      "    leaprc_apo_file = leaprc_maker(TEMPLATE_FILES + '/leaprc_solvate.jinja', INPUT)\n",
      "else:\n",
      "    leaprc_apo_file = leaprc_maker(TEMPLATE_FILES + '/leaprc_gas.jinja', INPUT)\n",
      "print leaprc_apo_file\n",
      "!cat $leaprc_apo_file"
     ],
     "language": "python",
     "metadata": {},
     "outputs": [
      {
       "output_type": "stream",
       "stream": "stdout",
       "text": [
        "150629-3BWM_apo_solv.leaprc\n",
        "###########################################################\r\n",
        "# LEAP FILE FOR COMT-1_WT_3BWM-1_APO\r\n",
        "###########################################################\r\n",
        "\r\n",
        "logFile 150629-3BWM_apo_solv_leap.log\r\n",
        "\r\n",
        "###########################################################\r\n",
        "# leaprc for loading the ff99SB (Hornak & Simmerling) force field\r\n",
        "###########################################################\r\n",
        "\r\n",
        "###########################################################\r\n",
        "#   load atom type hybridizations\r\n",
        "#\r\n",
        "addAtomTypes {\r\n",
        "    { \"H\"   \"H\" \"sp3\" }\r\n",
        "    { \"HO\"  \"H\" \"sp3\" }\r\n",
        "    { \"HS\"  \"H\" \"sp3\" }\r\n",
        "    { \"H1\"  \"H\" \"sp3\" }\r\n",
        "    { \"H2\"  \"H\" \"sp3\" }\r\n",
        "    { \"H3\"  \"H\" \"sp3\" }\r\n",
        "    { \"H4\"  \"H\" \"sp3\" }\r\n",
        "    { \"H5\"  \"H\" \"sp3\" }\r\n",
        "    { \"HW\"  \"H\" \"sp3\" }\r\n",
        "    { \"HC\"  \"H\" \"sp3\" }\r\n",
        "    { \"HA\"  \"H\" \"sp3\" }\r\n",
        "    { \"HP\"  \"H\" \"sp3\" }\r\n",
        "    { \"OH\"  \"O\" \"sp3\" }\r\n",
        "    { \"OS\"  \"O\" \"sp3\" }\r\n",
        "    { \"O\"   \"O\" \"sp2\" }\r\n",
        "    { \"O2\"  \"O\" \"sp2\" }\r\n",
        "    { \"OW\"  \"O\" \"sp3\" }\r\n",
        "    { \"CT\"  \"C\" \"sp3\" }\r\n",
        "    { \"CH\"  \"C\" \"sp3\" }\r\n",
        "    { \"C2\"  \"C\" \"sp3\" }\r\n",
        "    { \"C3\"  \"C\" \"sp3\" }\r\n",
        "    { \"C\"   \"C\" \"sp2\" }\r\n",
        "    { \"C*\"  \"C\" \"sp2\" }\r\n",
        "    { \"CA\"  \"C\" \"sp2\" }\r\n",
        "    { \"CB\"  \"C\" \"sp2\" }\r\n",
        "    { \"CC\"  \"C\" \"sp2\" }\r\n",
        "    { \"CN\"  \"C\" \"sp2\" }\r\n",
        "    { \"CM\"  \"C\" \"sp2\" }\r\n",
        "    { \"CK\"  \"C\" \"sp2\" }\r\n",
        "    { \"CQ\"  \"C\" \"sp2\" }\r\n",
        "    { \"CD\"  \"C\" \"sp2\" }\r\n",
        "    { \"CE\"  \"C\" \"sp2\" }\r\n",
        "    { \"CF\"  \"C\" \"sp2\" }\r\n",
        "    { \"CG\"  \"C\" \"sp2\" }\r\n",
        "    { \"CP\"  \"C\" \"sp2\" }\r\n",
        "    { \"CI\"  \"C\" \"sp2\" }\r\n",
        "    { \"CJ\"  \"C\" \"sp2\" }\r\n",
        "    { \"CW\"  \"C\" \"sp2\" }\r\n",
        "    { \"CV\"  \"C\" \"sp2\" }\r\n",
        "    { \"CR\"  \"C\" \"sp2\" }\r\n",
        "    { \"CA\"  \"C\" \"sp2\" }\r\n",
        "    { \"CY\"  \"C\" \"sp2\" }\r\n",
        "    { \"C0\"  \"C\" \"sp2\" }\r\n",
        "    { \"MG\"  \"Mg\" \"sp3\" }\r\n",
        "    { \"N\"   \"N\" \"sp2\" }\r\n",
        "    { \"NA\"  \"N\" \"sp2\" }\r\n",
        "    { \"N2\"  \"N\" \"sp2\" }\r\n",
        "    { \"N*\"  \"N\" \"sp2\" }\r\n",
        "    { \"NP\"  \"N\" \"sp2\" }\r\n",
        "    { \"NQ\"  \"N\" \"sp2\" }\r\n",
        "    { \"NB\"  \"N\" \"sp2\" }\r\n",
        "    { \"NC\"  \"N\" \"sp2\" }\r\n",
        "    { \"NT\"  \"N\" \"sp3\" }\r\n",
        "    { \"N3\"  \"N\" \"sp3\" }\r\n",
        "    { \"S\"   \"S\" \"sp3\" }\r\n",
        "    { \"SH\"  \"S\" \"sp3\" }\r\n",
        "    { \"P\"   \"P\" \"sp3\" }\r\n",
        "    { \"LP\"  \"\"  \"sp3\" }\r\n",
        "    { \"F\"   \"F\" \"sp3\" }\r\n",
        "    { \"CL\"  \"Cl\" \"sp3\" }\r\n",
        "    { \"BR\"  \"Br\" \"sp3\" }\r\n",
        "    { \"I\"   \"I\"  \"sp3\" }\r\n",
        "    { \"FE\"  \"Fe\" \"sp3\" }\r\n",
        "    { \"EP\"  \"\"  \"sp3\" }\r\n",
        "# glycam\r\n",
        "    { \"OG\"  \"O\" \"sp3\" }\r\n",
        "    { \"OL\"  \"O\" \"sp3\" }\r\n",
        "    { \"AC\"  \"C\" \"sp3\" }\r\n",
        "    { \"EC\"  \"C\" \"sp3\" }\r\n",
        "}\r\n",
        "###########################################################\r\n",
        "\r\n",
        "###########################################################\r\n",
        "#   Load the main parameter set.\r\n",
        "#\r\n",
        "parm99 = loadamberparams /home/nathan/projects/parameters/common_files/parm99.dat\r\n",
        "frcmod99SB = loadamberparams /home/nathan/projects/parameters/common_files/frcmod.ff99SB\r\n",
        "###########################################################\r\n",
        "\r\n",
        "###########################################################\r\n",
        "#   Load DNA/RNA libraries\r\n",
        "#\r\n",
        "loadOff all_nucleic94.lib\r\n",
        "###########################################################\r\n",
        "\r\n",
        "###########################################################\r\n",
        "#   Load main chain and terminating \r\n",
        "#   amino acid libraries (i.e. ff94 libs)\r\n",
        "#\r\n",
        "loadOff all_amino94.lib\r\n",
        "loadOff all_aminoct94.lib\r\n",
        "loadOff all_aminont94.lib\r\n",
        "###########################################################\r\n",
        "\r\n",
        "###########################################################\r\n",
        "#   Load water and ions\r\n",
        "# \r\n",
        "loadOff ions94.lib\r\n",
        "loadOff solvents.lib\r\n",
        "HOH = TP3\r\n",
        "WAT = TP3\r\n",
        "###########################################################\r\n",
        "\r\n",
        "\r\n",
        "###########################################################\r\n",
        "#   Define the PDB name map for the amino acids and DNA.\r\n",
        "#\r\n",
        "addPdbResMap {\r\n",
        "  { 0 \"ALA\" \"NALA\" } { 1 \"ALA\" \"CALA\" }\r\n",
        "  { 0 \"ARG\" \"NARG\" } { 1 \"ARG\" \"CARG\" }\r\n",
        "  { 0 \"ASN\" \"NASN\" } { 1 \"ASN\" \"CASN\" }\r\n",
        "  { 0 \"ASP\" \"NASP\" } { 1 \"ASP\" \"CASP\" }\r\n",
        "  { 0 \"CYS\" \"NCYS\" } { 1 \"CYS\" \"CCYS\" }\r\n",
        "  { 0 \"CYX\" \"NCYX\" } { 1 \"CYX\" \"CCYX\" }\r\n",
        "  { 0 \"GLN\" \"NGLN\" } { 1 \"GLN\" \"CGLN\" }\r\n",
        "  { 0 \"GLU\" \"NGLU\" } { 1 \"GLU\" \"CGLU\" }\r\n",
        "  { 0 \"GLY\" \"NGLY\" } { 1 \"GLY\" \"CGLY\" }\r\n",
        "  { 0 \"HID\" \"NHID\" } { 1 \"HID\" \"CHID\" }\r\n",
        "  { 0 \"HIE\" \"NHIE\" } { 1 \"HIE\" \"CHIE\" }\r\n",
        "  { 0 \"HIP\" \"NHIP\" } { 1 \"HIP\" \"CHIP\" }\r\n",
        "  { 0 \"ILE\" \"NILE\" } { 1 \"ILE\" \"CILE\" }\r\n",
        "  { 0 \"LEU\" \"NLEU\" } { 1 \"LEU\" \"CLEU\" }\r\n",
        "  { 0 \"LYS\" \"NLYS\" } { 1 \"LYS\" \"CLYS\" }\r\n",
        "  { 0 \"MET\" \"NMET\" } { 1 \"MET\" \"CMET\" }\r\n",
        "  { 0 \"PHE\" \"NPHE\" } { 1 \"PHE\" \"CPHE\" }\r\n",
        "  { 0 \"PRO\" \"NPRO\" } { 1 \"PRO\" \"CPRO\" }\r\n",
        "  { 0 \"SER\" \"NSER\" } { 1 \"SER\" \"CSER\" }\r\n",
        "  { 0 \"THR\" \"NTHR\" } { 1 \"THR\" \"CTHR\" }\r\n",
        "  { 0 \"TRP\" \"NTRP\" } { 1 \"TRP\" \"CTRP\" }\r\n",
        "  { 0 \"TYR\" \"NTYR\" } { 1 \"TYR\" \"CTYR\" }\r\n",
        "  { 0 \"VAL\" \"NVAL\" } { 1 \"VAL\" \"CVAL\" }\r\n",
        "  { 0 \"HIS\" \"NHIS\" } { 1 \"HIS\" \"CHIS\" }\r\n",
        "  { 0 \"GUA\" \"DG5\"  } { 1 \"GUA\" \"DG3\"  } { \"GUA\" \"DG\" }\r\n",
        "  { 0 \"ADE\" \"DA5\"  } { 1 \"ADE\" \"DA3\"  } { \"ADE\" \"DA\" }\r\n",
        "  { 0 \"CYT\" \"DC5\"  } { 1 \"CYT\" \"DC3\"  } { \"CYT\" \"DC\" }\r\n",
        "  { 0 \"THY\" \"DT5\"  } { 1 \"THY\" \"DT3\"  } { \"THY\" \"DT\" }\r\n",
        "  { 0 \"G\" \"DG5\"  } { 1 \"G\" \"DG3\"  } { \"G\" \"DG\" } { \"GN\" \"DGN\" }\r\n",
        "  { 0 \"A\" \"DA5\"  } { 1 \"A\" \"DA3\"  } { \"A\" \"DA\" } { \"AN\" \"DAN\" }\r\n",
        "  { 0 \"C\" \"DC5\"  } { 1 \"C\" \"DC3\"  } { \"C\" \"DC\" } { \"CN\" \"DCN\" }\r\n",
        "  { 0 \"T\" \"DT5\"  } { 1 \"T\" \"DT3\"  } { \"T\" \"DT\" } { \"TN\" \"DTN\" }\r\n",
        "  { 0 \"C5\" \"DC5\" }\r\n",
        "  { 0 \"G5\" \"DG5\" }\r\n",
        "  { 0 \"A5\" \"DA5\" }\r\n",
        "  { 0 \"T5\" \"DT5\" }\r\n",
        "  { 1 \"C3\" \"DC3\" }\r\n",
        "  { 1 \"G3\" \"DG3\" }\r\n",
        "  { 1 \"A3\" \"DA3\" }\r\n",
        "  { 1 \"T3\" \"DT3\" }\r\n",
        "}\r\n",
        "\r\n",
        "addPdbAtomMap {\r\n",
        "  { \"O5*\" \"O5'\" }\r\n",
        "  { \"C5*\" \"C5'\" }\r\n",
        "  { \"C4*\" \"C4'\" }\r\n",
        "  { \"O4*\" \"O4'\" }\r\n",
        "  { \"C3*\" \"C3'\" }\r\n",
        "  { \"O3*\" \"O3'\" }\r\n",
        "  { \"C2*\" \"C2'\" }\r\n",
        "  { \"C1*\" \"C1'\" }\r\n",
        "  { \"C5M\" \"C7\"  }\r\n",
        "  { \"H1*\" \"H1'\" }\r\n",
        "  { \"H2*1\" \"H2'1\" }\r\n",
        "  { \"H2*2\" \"H2'2\" }\r\n",
        "  { \"H3*\" \"H3'\" }\r\n",
        "  { \"H4*\" \"H4'\" }\r\n",
        "  { \"H5*1\" \"H5'1\" }\r\n",
        "  { \"H5*2\" \"H5'2\" }\r\n",
        "# old ff atom names -> new\r\n",
        "  { \"O1'\" \"O4'\" }\r\n",
        "  { \"OA\"  \"O1P\" }\r\n",
        "  { \"OB\"  \"O2P\" }\r\n",
        "}\r\n",
        "###########################################################\r\n",
        "\r\n",
        "###########################################################\r\n",
        "# assumed that most often proteins use HIE\r\n",
        "#\r\n",
        "NHIS = NHIE\r\n",
        "HIS = HIE\r\n",
        "CHIS = CHIE\r\n",
        "###########################################################\r\n",
        "\r\n",
        "###########################################################\r\n",
        "# load any required parameter files\r\n",
        "#\r\n",
        "# MG\r\n",
        "MGparams = loadamberparams /home/nathan/projects/parameters/ligands/frcmod.magnesium\r\n",
        "loadamberprep /home/nathan/projects/parameters/ligands/magnesium.prep\r\n",
        "\r\n",
        "# DNC\r\n",
        "DNCparams = loadamberparams /home/nathan/projects/parameters/ligands/DNC/DNC.frcmod\r\n",
        "loadOff /home/nathan/projects/parameters/ligands/DNC/DNC.off\r\n",
        "\r\n",
        "# SAM\r\n",
        "SAMparams = loadamberparams /home/nathan/projects/parameters/ligands/SAM/frcmod.SAM\r\n",
        "loadOff /home/nathan/projects/parameters/ligands/SAM/SAM.off\r\n",
        "###########################################################\r\n",
        "\r\n",
        "###########################################################\r\n",
        "# load in PDB structure\r\n",
        "# \r\n",
        "set default PBRadii bondi\r\n",
        "3BWM_apo_solv = loadpdb 3BWM_apo.pdb\r\n",
        "###########################################################\r\n",
        "\r\n",
        "###########################################################\r\n",
        "# any additional post-processing of PDB structure should occur here\r\n",
        "############################################################\r\n",
        "\r\n",
        "\r\n",
        "###########################################################\r\n",
        "# save pdb, set box, solvate, add ions\r\n",
        "#setbox 3BWM_apo_solv vdw\r\n",
        "solvatebox 3BWM_apo_solv TIP3PBOX 12\r\n",
        "addIons 3BWM_apo_solv Na+ 0\r\n",
        "savepdb 3BWM_apo_solv 3BWM_apo_solv_watbox.pdb\r\n",
        "\r\n",
        "saveamberparm 3BWM_apo_solv 3BWM_apo_solv.prmtop 3BWM_apo_solv.inpcrd\r\n",
        "###########################################################\r\n",
        "\r\n",
        "\r\n",
        "quit\r\n"
       ]
      }
     ],
     "prompt_number": 62
    },
    {
     "cell_type": "code",
     "collapsed": false,
     "input": [
      "import subprocess\n",
      "retva = subprocess.call('cat $leaprc_apo_file', shell=True)"
     ],
     "language": "python",
     "metadata": {},
     "outputs": [],
     "prompt_number": 65
    },
    {
     "cell_type": "code",
     "collapsed": false,
     "input": [
      "retval = subprocess.call('ls -l', shell=True)\n",
      "!tleap -f $leaprc_apo_file"
     ],
     "language": "python",
     "metadata": {},
     "outputs": []
    },
    {
     "cell_type": "heading",
     "level": 3,
     "metadata": {},
     "source": [
      "4: Prepare MD scripts"
     ]
    },
    {
     "cell_type": "code",
     "collapsed": false,
     "input": [],
     "language": "python",
     "metadata": {},
     "outputs": []
    },
    {
     "cell_type": "heading",
     "level": 3,
     "metadata": {},
     "source": [
      "5: Run minimization, equilibration, production"
     ]
    },
    {
     "cell_type": "heading",
     "level": 3,
     "metadata": {},
     "source": [
      "6: Analysis of trajectory"
     ]
    },
    {
     "cell_type": "markdown",
     "metadata": {},
     "source": [
      "https://sbrgstructure.dynamic.ucsd.edu:8889/notebooks/150503-MD_GAPDH_analysis.ipynb"
     ]
    },
    {
     "cell_type": "heading",
     "level": 3,
     "metadata": {},
     "source": [
      "7: Extract frames, save as trajectory and PDBs"
     ]
    },
    {
     "cell_type": "heading",
     "level": 5,
     "metadata": {},
     "source": [
      "As single trajectory file"
     ]
    },
    {
     "cell_type": "heading",
     "level": 5,
     "metadata": {},
     "source": [
      "As PDB"
     ]
    },
    {
     "cell_type": "raw",
     "metadata": {},
     "source": [
      "\t\u2022 to split the trajectory into individual pdb files and also remove waters....\n",
      "\t\t\u25cb Use \"run_cpptraj\" and \"ptraj_recenter.in\"\n",
      "\t\t\n",
      "\t\t\u25cb run_cpptraj:\n",
      "\t\t\n",
      "cpptraj -i ptraj_merge_traj.in -p 3BWY_halo_dnc.prmtop\n",
      "\t\t\t\n",
      "\t\t\t\u00a7 Requires the .prmtop, and then look at the ptraj_merge_traj.in file \n",
      "\t\t\t\u00a7 basically this runs cpptraj (A newer version of ptraj) using the commands in the .in script and the parameters from the prmtop file\n",
      "\t\t\t\n",
      "\t\t\u25cb liz's ptraj_merge_traj.in file:\n",
      "\t\t\n",
      "trajin weeded_step_100_mdcrd_centered.traj 1 -1 1\n",
      "trajin weeded_step_100_mdcrd_centered2.traj 1 -1 1\n",
      "trajout 3BWY_halo_dnc_113ns.pdb pdb\n",
      "center :1-214\n",
      "image\n",
      "go\n",
      "\t\n",
      "\t\t\u25cb so i need weeded_step_100_mdcrd_centered.traj and weeded_step_100_mdcrd_centered2.traj\n",
      "\t\t\u25cb also i am going to change the ptraj_merge in file to 1. remove waters 2. save as separate pdbs\n",
      "\n",
      "trajin ../weeded_step_100_mdcrd_centered.traj 1 -1 1\n",
      "trajin ../weeded_step_100_mdcrd_centered2.traj 1 -1 1\n",
      "center :1-214 mass origin\n",
      "image origin center familiar\n",
      "strip :WAT\n",
      "trajout 3BWY_halo_dnc_113ns_snap.pdb pdb multi\n",
      "go\n",
      "\n",
      "\t\t\u25cb and finally doing some renaming of the pdb files (with python - see below)\n",
      "\n",
      "\t\u2022 scp all these files to structure (or whatever computer you wanna use)\n",
      "\t\u2022 run dock -- but first modify which parts are deleted in the dock.py file. \n",
      "\t\t\u25cb in this case (COMT halo) we want to delete everything except sam, mg, and the protein.\n",
      "\t\t\u25cb ALSO\n",
      "\t\t\t\u00a7 Make sure the program DMS is installed (http://www.cgl.ucsf.edu/Overview/software.html#dms)"
     ]
    },
    {
     "cell_type": "code",
     "collapsed": false,
     "input": [
      "files = glob.glob('*.pdb.*')\n",
      "\n",
      "for f in files:\n",
      "    prefix = f.split('.')[0]\n",
      "    frame = int(f.split('.')[2])\n",
      "    newfile = '%s.%03d.pdb' % (prefix,frame)\n",
      "    os.system('mv %s %s' % (f, newfile))"
     ],
     "language": "python",
     "metadata": {},
     "outputs": []
    },
    {
     "cell_type": "heading",
     "level": 3,
     "metadata": {},
     "source": [
      "8: Visualization in VMD"
     ]
    },
    {
     "cell_type": "code",
     "collapsed": false,
     "input": [],
     "language": "python",
     "metadata": {},
     "outputs": []
    }
   ],
   "metadata": {}
  }
 ]
}