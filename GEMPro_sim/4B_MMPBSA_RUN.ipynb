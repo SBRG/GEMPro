{
 "metadata": {
  "name": "",
  "signature": "sha256:edf43c20dae126909a0efa0c77a6d9b5c2db65508d3c5807457d74eb94469bbe"
 },
 "nbformat": 3,
 "nbformat_minor": 0,
 "worksheets": [
  {
   "cells": [
    {
     "cell_type": "heading",
     "level": 2,
     "metadata": {},
     "source": [
      "GOAL: Automate MMPBSA from clustered docked ligands"
     ]
    },
    {
     "cell_type": "code",
     "collapsed": false,
     "input": [
      "import os\n",
      "import jinja2\n",
      "import time\n",
      "import yaml\n",
      "import shutil\n",
      "import subprocess\n",
      "import glob"
     ],
     "language": "python",
     "metadata": {},
     "outputs": [],
     "prompt_number": 1
    },
    {
     "cell_type": "code",
     "collapsed": false,
     "input": [
      "ROOT = '/home/nathan/projects'\n",
      "MMPBSA_FOLDER = os.path.join(ROOT, 'MMPBSA')\n",
      "MMPBSA_INPUT_SCRIPTS = os.path.join(MMPBSA_FOLDER, 'mmpbsa_input')\n",
      "TEMPLATE_FILES = os.path.join(ROOT, 'templates')\n",
      "TEMPLATE_GENERATED = os.path.join(TEMPLATE_FILES, 'generated')\n",
      "PARAMETERS = os.path.join(ROOT, 'parameters')\n",
      "COMMON_FILES = os.path.join(PARAMETERS, 'common_files')\n",
      "LIGANDS_PATH = os.path.join(PARAMETERS, 'ligands')"
     ],
     "language": "python",
     "metadata": {},
     "outputs": [],
     "prompt_number": 2
    },
    {
     "cell_type": "code",
     "collapsed": false,
     "input": [
      "print('ROOT: {path}'.format(path=ROOT))\n",
      "print('MMPBSA_FOLDER: {path}'.format(path=MMPBSA_FOLDER))\n",
      "print('MMPBSA_INPUT_SCRIPTS: {path}'.format(path=MMPBSA_INPUT_SCRIPTS))\n",
      "print('TEMPLATE_FILES: {path}'.format(path=TEMPLATE_FILES))\n",
      "print('TEMPLATE_GENERATED: {path}'.format(path=TEMPLATE_GENERATED))\n",
      "print('PARAMETERS: {path}'.format(path=PARAMETERS))\n",
      "print('COMMON_FILES: {path}'.format(path=COMMON_FILES))\n",
      "print('LIGANDS_PATH: {path}'.format(path=LIGANDS_PATH))"
     ],
     "language": "python",
     "metadata": {},
     "outputs": [
      {
       "output_type": "stream",
       "stream": "stdout",
       "text": [
        "ROOT: /home/nathan/projects\n",
        "MMPBSA_FOLDER: /home/nathan/projects/MMPBSA\n",
        "MMPBSA_INPUT_SCRIPTS: /home/nathan/projects/MMPBSA/mmpbsa_input\n",
        "TEMPLATE_FILES: /home/nathan/projects/templates\n",
        "TEMPLATE_GENERATED: /home/nathan/projects/templates/generated\n",
        "PARAMETERS: /home/nathan/projects/parameters\n",
        "COMMON_FILES: /home/nathan/projects/parameters/common_files\n",
        "LIGANDS_PATH: /home/nathan/projects/parameters/ligands\n"
       ]
      }
     ],
     "prompt_number": 3
    },
    {
     "cell_type": "code",
     "collapsed": false,
     "input": [
      "TODAY = time.strftime(\"%y%m%d\")"
     ],
     "language": "python",
     "metadata": {},
     "outputs": [],
     "prompt_number": 4
    },
    {
     "cell_type": "heading",
     "level": 3,
     "metadata": {},
     "source": [
      "0: Prepare folders"
     ]
    },
    {
     "cell_type": "raw",
     "metadata": {},
     "source": [
      "MMPBSA\n",
      "\u251c\u2500\u2500 mmpbsa_input\n",
      "\u2502   \u2514\u2500\u2500 mmpbsa_$PARAM.in\n",
      "\u2502\n",
      "\u251c\u2500\u2500 $PROTEIN/\n",
      "\u2502   \u251c\u2500\u2500 $#_$MOD_$PDB\n",
      "\u2502   \u2502\u00a0\u00a0 \u251c\u2500\u2500 $#_$TYPE\n",
      "\u2502   \u2502\u00a0  \u2502   \u251c\u2500\u2500 0_receptor_prep/\n",
      "\u2502   \u2502   \u2502   \u2502   \u2514\u2500\u2500 leaprc_$TYPE  # to make receptor gas\n",
      "\u2502   \u2502\u00a0\u00a0 \u2502   \u2502\n",
      "\u2502   \u2502\u00a0\u00a0 \u2502   \u251c\u2500\u2500 $LIGAND\n",
      "\u2502   \u2502\u00a0\u00a0 \u2502   \u2502   \u251c\u2500\u2500 $CLUSTER\n",
      "\u2502   \u2502\u00a0\u00a0 \u2502   \u2502   \u2502\u00a0\u00a0 \u251c\u2500\u2500 0_complex_prep\n",
      "\u2502   \u2502\u00a0\u00a0 \u2502   \u2502   \u2502   \u2502   \u251c\u2500\u2500 $CLUSTER.pdb\n",
      "\u2502   \u2502\u00a0\u00a0 \u2502   \u2502   \u2502   \u2502   \u2502\n",
      "\u2502   \u2502\u00a0\u00a0 \u2502   \u2502   \u2502   \u2502   \u251c\u2500\u2500 leaprc_$CLUSTER  # to make complex gas and solvated\n",
      "\u2502   \u2502\u00a0\u00a0 \u2502   \u2502   \u2502   \u2502   \u251c\u2500\u2500 $CLUSTER_gas_amber.pdb\n",
      "\u2502   \u2502\u00a0\u00a0 \u2502   \u2502   \u2502   \u2502   \u251c\u2500\u2500 $CLUSTER_gas.inpcrd\n",
      "\u2502   \u2502\u00a0\u00a0 \u2502   \u2502   \u2502   \u2502   \u251c\u2500\u2500 $CLUSTER_gas.prmtop\n",
      "\u2502   \u2502\u00a0\u00a0 \u2502   \u2502   \u2502   \u2502   \u251c\u2500\u2500 $CLUSTER_solv_amber.pdb\n",
      "\u2502   \u2502\u00a0\u00a0 \u2502   \u2502   \u2502   \u2502   \u251c\u2500\u2500 $CLUSTER_solv.inpcrd\n",
      "\u2502   \u2502\u00a0\u00a0 \u2502   \u2502   \u2502   \u2502   \u2514\u2500\u2500 $CLUSTER_solv.prmtop\n",
      "\u2502   \u2502\u00a0\u00a0 \u2502   \u2502   \u2502   \u2502\n",
      "\u2502   \u2502\u00a0\u00a0 \u2502   \u2502   \u2502\u00a0\u00a0 \u251c\u2500\u2500 1_md\n",
      "\u2502   \u2502\u00a0\u00a0 \u2502   \u2502   \u2502   \u2502   \u251c\u2500\u2500 $CLUSTER_solv.inpcrd, $CLUSTER_solv.prmtop  # should change to use from 0_complex_prep folder\n",
      "\u2502   \u2502\u00a0\u00a0 \u2502   \u2502   \u2502   \u2502   \u2502\n",
      "\u2502   \u2502\u00a0\u00a0 \u2502   \u2502   \u2502\u202f\u202f \u2502   \u251c\u2500\u2500 make_input_scripts.sh\n",
      "\u2502   \u2502\u00a0\u00a0 \u2502   \u2502   \u2502\u202f\u202f \u2502   \u251c\u2500\u2500 mdin_min, mdin_equil, mdin_prod\n",
      "\u2502   \u2502\u00a0\u00a0 \u2502   \u2502   \u2502\u202f\u202f \u2502   \u251c\u2500\u2500 send_job\n",
      "\u2502   \u2502\u00a0\u00a0 \u2502   \u2502   \u2502   \u2502   \u2502\n",
      "\u2502   \u2502\u00a0\u00a0 \u2502   \u2502   \u2502\u202f\u202f \u2502   \u251c\u2500\u2500 $PDB_$TYPE_min.out, $PDB_$TYPE_min.rst\n",
      "\u2502   \u2502\u00a0\u00a0 \u2502   \u2502   \u2502\u202f\u202f \u2502   \u251c\u2500\u2500 $PDB_$TYPE_equil.out, $PDB_$TYPE_equil.rst\n",
      "\u2502   \u2502\u00a0\u00a0 \u2502   \u2502   \u2502\u202f\u202f \u2502   \u251c\u2500\u2500 $PDB_$TYPE_prod.out, $PDB_$TYPE_prod.rst\n",
      "\u2502   \u2502\u202f\u202f \u2502\u202f\u202f \u2502\u202f\u202f \u2502   \u2502   \u2502\n",
      "\u2502   \u2502\u00a0\u00a0 \u2502   \u2502   \u2502\u202f\u202f \u2502   \u251c\u2500\u2500 ptraj_recenter, run_cpptraj, reorganize_pdbs.py\n",
      "\u2502   \u2502\u00a0\u00a0 \u2502   \u2502   \u2502\u202f\u202f \u2502   \u2514\u2500\u2500 $PDB_$TYPE_$T1_$T2_weeded_step_$STEP.traj\n",
      "\u2502   \u2502\u00a0\u00a0 \u2502   \u2502   \u2502   \u2502\n",
      "\u2502   \u2502\u00a0\u00a0 \u2502   \u2502   \u2502\u00a0\u00a0 \u251c\u2500\u2500 2_mmpbsa\n",
      "\u2502   \u2502\u00a0\u00a0 \u2502   \u2502   \u2502\u00a0\u00a0 \u2502   \u2514\u2500\u2500 $PARAM\n",
      "\u2502   \u2502\u00a0\u00a0 \u2502   \u2502   \u2502\u00a0\u00a0 \u2502       \u251c\u2500\u2500 $DATE-mmpbsa_input.in\n",
      "\u2502   \u2502\u00a0\u00a0 \u2502   \u2502   \u2502\u00a0\u00a0 \u2502       \u2514\u2500\u2500 $DATE-mmpbsa_output.out"
     ]
    },
    {
     "cell_type": "code",
     "collapsed": false,
     "input": [
      "def leaprc_maker(leaprc_dict):\n",
      "    # allows loading of templates off filesystems\n",
      "    templateLoader = jinja2.FileSystemLoader( TEMPLATE_FILES )\n",
      "    templateEnv = jinja2.Environment( loader=templateLoader )\n",
      "    \n",
      "    leaprc_dict['date'] = TODAY\n",
      "    leaprc_dict['main_params_path'] = COMMON_FILES\n",
      "    leaprc_dict['ligands_path'] = LIGANDS_PATH\n",
      "\n",
      "    # load the template\n",
      "    if leaprc_dict['solvate']:\n",
      "        template = templateEnv.get_template( 'leaprc_solvate.jinja' )\n",
      "    else:\n",
      "        template = templateEnv.get_template( 'leaprc_gas.jinja' )\n",
      "    \n",
      "    # process the template to produce our final text.\n",
      "    outputText = template.render( leaprc_dict )\n",
      "\n",
      "    file_out = leaprc_dict['date'] + '-' + leaprc_dict['name'] + '.leaprc'\n",
      "    with open(file_out, \"w\") as f:\n",
      "        f.write(outputText)\n",
      "        \n",
      "    return file_out"
     ],
     "language": "python",
     "metadata": {},
     "outputs": [],
     "prompt_number": 5
    },
    {
     "cell_type": "code",
     "collapsed": false,
     "input": [
      "def mmpbsa_maker(template_file, mmpbsa_dict):\n",
      "    # allows loading of templates off filesystems\n",
      "    templateLoader = jinja2.FileSystemLoader( searchpath=\"/\" )\n",
      "    templateEnv = jinja2.Environment( loader=templateLoader )\n",
      "\n",
      "    # load the template\n",
      "    template = templateEnv.get_template( template_file )\n",
      "\n",
      "    # process the template to produce our final text.\n",
      "    outputText = template.render( mmpbsa_dict )\n",
      "\n",
      "    file_out = mmpbsa_dict['filename']\n",
      "    with open(file_out, \"w\") as f:\n",
      "        f.write(outputText)\n",
      "        \n",
      "    return file_out"
     ],
     "language": "python",
     "metadata": {},
     "outputs": [],
     "prompt_number": 6
    },
    {
     "cell_type": "code",
     "collapsed": false,
     "input": [
      "def ptraj_in_maker(template_file, ptraj_dict):\n",
      "    # allows loading of templates off filesystems\n",
      "    templateLoader = jinja2.FileSystemLoader( TEMPLATE_FILES )\n",
      "    templateEnv = jinja2.Environment( loader=templateLoader )\n",
      "\n",
      "    # load the template\n",
      "    template = templateEnv.get_template( template_file )\n",
      "\n",
      "    # process the template to produce our final text.\n",
      "    outputText = template.render( ptraj_dict )\n",
      "\n",
      "    file_out = os.path.splitext(os.path.basename(template_file))[0]\n",
      "    with open(file_out, \"w\") as f:\n",
      "        f.write(outputText)\n",
      "        \n",
      "    os.chmod(file_out, 0755)\n",
      "        \n",
      "    return file_out"
     ],
     "language": "python",
     "metadata": {},
     "outputs": [],
     "prompt_number": 7
    },
    {
     "cell_type": "code",
     "collapsed": false,
     "input": [
      "# input your proteins, modifications, types, ligands, and cluster choices here\n",
      "mmpbsa_prep = yaml.load(\"\"\"\n",
      "---\n",
      "COMT:\n",
      "    1_WT_3BWM:\n",
      "        2_SAM:\n",
      "            receptor_rst: /home/nathan/projects/MD/COMT/1_WT_3BWM/2_SAM/3BWM_sam_prod_v0_l3.rst\n",
      "            receptor_prmtop_file: 3BWM_sam\n",
      "            receptor_prmtop_location: /home/nathan/projects/MD/COMT/1_WT_3BWM/2_SAM\n",
      "            num_residues: 216\n",
      "            basename: 3BWM\n",
      "            LIGANDS:\n",
      "                ALE:\n",
      "                    param_loc: l-epinephrine\n",
      "                    CLUSTERS:\n",
      "                        '111': '298'\n",
      "                        '110': '489'\n",
      "                        '000': '101'\n",
      "                    TRAJ:\n",
      "                        '111': 'COMT_ALE_111_1ns_10ns_weeded_step_100.traj'\n",
      "                        '110': 'COMT_ALE_110_1ns_10ns_weeded_step_100.traj'\n",
      "                        '000': 'COMT_ALE_000_1ns_10ns_weeded_step_100.traj'\n",
      "                DNC:\n",
      "                    param_loc: DNC\n",
      "                    CLUSTERS:\n",
      "                        '111': '083'\n",
      "                        '101': '178'\n",
      "                    TRAJ:\n",
      "                        '111': 'COMT_DNC_111_1ns_10ns_weeded_step_100.traj'\n",
      "                        '101': 'COMT_DNC_101_1ns_10ns_weeded_step_100.traj'\n",
      "                LDP:\n",
      "                    param_loc: l-dopamine\n",
      "                    CLUSTERS:\n",
      "                        '111': '272'\n",
      "                        '110': '407'\n",
      "                        '000': '103'\n",
      "                    TRAJ:\n",
      "                        '111': 'COMT_LDP_111_1ns_10ns_weeded_step_100.traj'\n",
      "                        '110': 'COMT_LDP_110_1ns_15ns_weeded_step_100.traj'\n",
      "                        '000': 'COMT_LDP_000_1ns_10ns_weeded_step_100.traj'\n",
      "                LNR:\n",
      "                    param_loc: l-norepinephrine\n",
      "                    CLUSTERS:\n",
      "                        '111': '360'\n",
      "                        '110': '100'\n",
      "                    TRAJ:\n",
      "                        '111': 'COMT_LNR_111_1ns_10ns_weeded_step_100.traj'\n",
      "                        '110': 'COMT_LNR_110_3ns_12ns_weeded_step_100.traj'\n",
      "                SID:\n",
      "                    param_loc: SID\n",
      "                    CLUSTERS:\n",
      "                        '111': '363'\n",
      "                        '101': '256'\n",
      "                        '001': '102'\n",
      "                    TRAJ:\n",
      "                        #'111': '363'\n",
      "                        #'101': '256'\n",
      "                        #'001': '102'\n",
      "                TCW:\n",
      "                    param_loc: TCW\n",
      "                    CLUSTERS:\n",
      "                        '111': '111'\n",
      "                        '101': '054'\n",
      "                        '011': '353'\n",
      "                    TRAJ:\n",
      "                        '111': 'COMT_TCW_111_1ns_10ns_weeded_step_100.traj'\n",
      "                        '101': 'COMT_TCW_101_1ns_10ns_weeded_step_100.traj'\n",
      "                        '011': 'COMT_TCW_011_1ns_10ns_weeded_step_100.traj'\n",
      "        3_HALO:\n",
      "            receptor_rst: /home/nathan/projects/MD/COMT/1_WT_3BWM/4_HALO_DNC/3BWM_halo_dnc_prod_v0_l3.rst\n",
      "            receptor_prmtop_file: 3BWM_halo_dnc\n",
      "            receptor_prmtop_location: /home/nathan/projects/MD/COMT/1_WT_3BWM/4_HALO_DNC\n",
      "            num_residues: 217\n",
      "            basename: 3BWM\n",
      "            LIGANDS:\n",
      "                ALE:\n",
      "                    param_loc: l-epinephrine\n",
      "                    CLUSTERS:\n",
      "                        '111': '512'\n",
      "                        '110': '208'\n",
      "                        '000': '074'\n",
      "                    TRAJ:\n",
      "                        '111': 'COMT_ALE_111_1ns_10ns_weeded_step_100.traj'\n",
      "                        '110': 'COMT_ALE_110_1ns_10ns_weeded_step_100.traj'\n",
      "                        '000': 'COMT_ALE_000_1ns_10ns_weeded_step_100.traj'\n",
      "                DNC:\n",
      "                    param_loc: DNC\n",
      "                    CLUSTERS:\n",
      "                        '111': '344'\n",
      "                        '110': '412'\n",
      "                        '000': '160'\n",
      "                    TRAJ:\n",
      "                        '111': 'COMT_DNC_111_1ns_10ns_weeded_step_100.traj'\n",
      "                        '110': 'COMT_DNC_110_1ns_10ns_weeded_step_100.traj'\n",
      "                        '000': 'COMT_DNC_000_1ns_10ns_weeded_step_100.traj'\n",
      "                LDP:\n",
      "                    param_loc: l-dopamine\n",
      "                    CLUSTERS:\n",
      "                        '111': '201'\n",
      "                        '000': '603'\n",
      "                    TRAJ:\n",
      "                        '111': 'COMT_LDP_111_1ns_10ns_weeded_step_100.traj'\n",
      "                        '000': 'COMT_LDP_000_1ns_10ns_weeded_step_100.traj'\n",
      "                LNR:\n",
      "                    param_loc: l-norepinephrine\n",
      "                    CLUSTERS:\n",
      "                        '111': '201'\n",
      "                        '000': '530'\n",
      "                    TRAJ:\n",
      "                        '111': 'COMT_LNR_111_1ns_10ns_weeded_step_100.traj'\n",
      "                        '000': 'COMT_LNR_000_1ns_10ns_weeded_step_100.traj'\n",
      "                SID:\n",
      "                    param_loc: SID\n",
      "                    CLUSTERS:\n",
      "                        '111': '338'\n",
      "                        '000': '237'\n",
      "                    TRAJ:\n",
      "                        #'111': '338'\n",
      "                        #'000': '237'\n",
      "                TCW:\n",
      "                    param_loc: TCW\n",
      "                    CLUSTERS:\n",
      "                        '111': '163'\n",
      "                        '110': '050'\n",
      "                        '010': '555'\n",
      "                    TRAJ:\n",
      "                        '111': 'COMT_TCW_111_1ns_10ns_weeded_step_100.traj'\n",
      "                        '110': 'COMT_TCW_110_1ns_10ns_weeded_step_100.traj'\n",
      "                        '010': 'COMT_TCW_010_1ns_10ns_weeded_step_100.traj'\n",
      "    2_SNP_3BWY:\n",
      "        2_SAM:\n",
      "            receptor_rst: /home/nathan/projects/MD/COMT/2_SNP_3BWY/2_SAM/3BWY_sam_prod_v0_l4.rst\n",
      "            receptor_prmtop_file: 3BWY_sam\n",
      "            receptor_prmtop_location: /home/nathan/projects/MD/COMT/2_SNP_3BWY/2_SAM\n",
      "            num_residues: 216\n",
      "            basename: 3BWY\n",
      "            LIGANDS:\n",
      "                ALE:\n",
      "                    param_loc: l-epinephrine\n",
      "                    CLUSTERS:\n",
      "                        '111': '169'\n",
      "                        '110': '443'\n",
      "                        '000': '295'\n",
      "                    TRAJ:\n",
      "                        '111': 'COMT_ALE_111_1ns_10ns_weeded_step_100.traj'\n",
      "                        '110': 'COMT_ALE_110_1ns_10ns_weeded_step_100.traj'\n",
      "                        '000': 'COMT_ALE_000_1ns_10ns_weeded_step_100.traj'\n",
      "                DNC:\n",
      "                    param_loc: DNC\n",
      "                    CLUSTERS:\n",
      "                        '111': '585'\n",
      "                        '001': '450'\n",
      "                    TRAJ:\n",
      "                        '111': 'COMT_DNC_111_1ns_10ns_weeded_step_100.traj'\n",
      "                        '001': 'COMT_DNC_001_1ns_10ns_weeded_step_100.traj'\n",
      "                LDP:\n",
      "                    param_loc: l-dopamine\n",
      "                    CLUSTERS:\n",
      "                        '111': '104'\n",
      "                        '110': '017'\n",
      "                        '000': '513'\n",
      "                    TRAJ:\n",
      "                        '111': 'COMT_LDP_111_1ns_10ns_weeded_step_100.traj'\n",
      "                        '110': 'COMT_LDP_110_1ns_10ns_weeded_step_100.traj'\n",
      "                        '000': 'COMT_LDP_000_1ns_10ns_weeded_step_100.traj'\n",
      "                LNR:\n",
      "                    param_loc: l-norepinephrine\n",
      "                    CLUSTERS:\n",
      "                        '111': '162'\n",
      "                        '000': '568'\n",
      "                    TRAJ:\n",
      "                        '111': 'COMT_LNR_111_1ns_10ns_weeded_step_100.traj'\n",
      "                        '000': 'COMT_LNR_000_1ns_10ns_weeded_step_100.traj'\n",
      "                SID:\n",
      "                    param_loc: SID\n",
      "                    CLUSTERS:\n",
      "                        '110': '497'\n",
      "                        '010': '038'\n",
      "                    TRAJ:\n",
      "                        #'110': '497'\n",
      "                        #'010': '038'\n",
      "                TCW:\n",
      "                    param_loc: TCW\n",
      "                    CLUSTERS:\n",
      "                        '111': '578'\n",
      "                        '101': '264'\n",
      "                        '011': '019'\n",
      "                    TRAJ:\n",
      "                        '111': 'COMT_TCW_111_1ns_10ns_weeded_step_100.traj'\n",
      "                        '101': 'COMT_TCW_101_1ns_10ns_weeded_step_100.traj'\n",
      "                        '011': 'COMT_TCW_011_1ns_10ns_weeded_step_100.traj'\n",
      "        3_HALO:\n",
      "            receptor_rst: /home/nathan/projects/MD/COMT/2_SNP_3BWY/4_HALO_DNC/3BWY_halo_dnc_prod_v0_l3.rst\n",
      "            receptor_prmtop_file: 3BWY_halo_dnc\n",
      "            receptor_prmtop_location: /home/nathan/projects/MD/COMT/2_SNP_3BWY/4_HALO_DNC\n",
      "            num_residues: 217\n",
      "            basename: 3BWY\n",
      "            LIGANDS:\n",
      "                ALE:\n",
      "                    param_loc: l-epinephrine\n",
      "                    CLUSTERS:\n",
      "                        '111': '274'\n",
      "                        '011': '433'\n",
      "                        '000': '100'\n",
      "                    TRAJ:\n",
      "                        '111': 'COMT_ALE_111_1ns_11ns_weeded_step_100.traj'\n",
      "                        '011': 'COMT_ALE_011_1ns_10ns_weeded_step_100.traj'\n",
      "                        '000': 'COMT_ALE_000_1ns_10ns_weeded_step_100.traj'\n",
      "                DNC:\n",
      "                    param_loc: DNC\n",
      "                    CLUSTERS:\n",
      "                        '111': '132'\n",
      "                        '110': '051'\n",
      "                        '000': '083'\n",
      "                    TRAJ:\n",
      "                        '111': 'COMT_DNC_111_1ns_10ns_weeded_step_100.traj'\n",
      "                        '110': 'COMT_DNC_110_1ns_10ns_weeded_step_100.traj'\n",
      "                        '000': 'COMT_DNC_000_1ns_10ns_weeded_step_100.traj'\n",
      "                LDP:\n",
      "                    param_loc: l-dopamine\n",
      "                    CLUSTERS:\n",
      "                        '111': '077'\n",
      "                        '000': '112'\n",
      "                    TRAJ:\n",
      "                        '111': 'COMT_LDP_111_1ns_10ns_weeded_step_100.traj'\n",
      "                        '000': 'COMT_LDP_000_1ns_10ns_weeded_step_100.traj'\n",
      "                LNR:\n",
      "                    param_loc: l-norepinephrine\n",
      "                    CLUSTERS:\n",
      "                        '111': '456'\n",
      "                        '000': '098'\n",
      "                    TRAJ:\n",
      "                        '111': 'COMT_LNR_111_1ns_10ns_weeded_step_100.traj'\n",
      "                        '000': 'COMT_LNR_000_1ns_13ns_weeded_step_100.traj'\n",
      "                SID:\n",
      "                    param_loc: SID\n",
      "                    CLUSTERS:\n",
      "                        '111': '475'\n",
      "                        '011': '433'\n",
      "                    TRAJ:\n",
      "                        #'111': '475'\n",
      "                        #'011': '433'\n",
      "                TCW:\n",
      "                    param_loc: TCW\n",
      "                    CLUSTERS:\n",
      "                        '011': '256'\n",
      "                        '111': '386'\n",
      "                    TRAJ:\n",
      "                        '011': 'COMT_TCW_011_1ns_10ns_weeded_step_100.traj'\n",
      "                        '111': 'COMT_TCW_111_1ns_10ns_weeded_step_100.traj'\n",
      "\"\"\")"
     ],
     "language": "python",
     "metadata": {},
     "outputs": [],
     "prompt_number": 8
    },
    {
     "cell_type": "code",
     "collapsed": false,
     "input": [
      "gb_pb_params = ['igb2', 'igb5', 'igb7', 'pb']"
     ],
     "language": "python",
     "metadata": {},
     "outputs": [],
     "prompt_number": 9
    },
    {
     "cell_type": "heading",
     "level": 3,
     "metadata": {},
     "source": [
      "0: Prepare & run short MD simulations using 4A_MMPBSA_PREP notebook"
     ]
    },
    {
     "cell_type": "heading",
     "level": 3,
     "metadata": {},
     "source": [
      "1: Initialize folder structure, run leaprc to get receptor in gas phase"
     ]
    },
    {
     "cell_type": "raw",
     "metadata": {},
     "source": [
      "- 4 topology files\n",
      "    1. solvated complex (these clusters)\n",
      "        - redo cpptraj but save as individual frames and also skip the first 100 frames - done\n",
      "    2. not solvated complex (no water, and no ions) - done\n",
      "        - redo leaprc, but comment out parts that add the water and ions\n",
      "    3. APO not solvated (no water, and no ions)\n",
      "    4. ligand topology (in gas) - load in the .pdb with the same atom names as the off, load into xleap, do same as above - done\n",
      "    5. make folders"
     ]
    },
    {
     "cell_type": "code",
     "collapsed": false,
     "input": [
      "for PROTEIN,mods in mmpbsa_prep.iteritems():\n",
      "#     print 'PROTEIN:', PROTEIN\n",
      "\n",
      "    for MOD,types in mods.iteritems():\n",
      "#         print 'MOD:', MOD\n",
      "        f1 = os.path.join(MMPBSA_FOLDER, PROTEIN, MOD)\n",
      "        if not os.path.exists(f1):\n",
      "            os.mkdir(f1)\n",
      "            \n",
      "        for TYPE,info in types.iteritems():\n",
      "#             print 'TYPE:', TYPE\n",
      "\n",
      "            f2 = os.path.join(f1, TYPE)\n",
      "            if not os.path.exists(f2):\n",
      "                os.mkdir(f2)\n",
      "                \n",
      "            basename = info['basename']\n",
      "            num_residues = info['num_residues']\n",
      "            ligands = info['LIGANDS']\n",
      "            receptor_rst = info['receptor_rst']\n",
      "            receptor_prmtop_file = info['receptor_prmtop_file']\n",
      "            receptor_prmtop_location = info['receptor_prmtop_location']\n",
      "            \n",
      "            receptor_prep = os.path.join(f2, '0_receptor_prep')\n",
      "            if not os.path.exists(receptor_prep):\n",
      "                os.mkdir(receptor_prep)\n",
      "        \n",
      "            os.chdir(receptor_prep)\n",
      "            print receptor_prep\n",
      "            \n",
      "            names = {'protein':PROTEIN, \n",
      "                     'mod':MOD, \n",
      "                     'type':TYPE, \n",
      "                     'num_residues':num_residues,\n",
      "                     'receptor_rst':receptor_rst,\n",
      "                     'receptor_prmtop_file':receptor_prmtop_file,\n",
      "                     'receptor_prmtop_location':receptor_prmtop_location}\n",
      "\n",
      "            ptraj_template = \"\"\"\n",
      "---\n",
      "name: {receptor_prmtop_file}\n",
      "res_start: 1\n",
      "res_end: {num_residues}\n",
      "\n",
      "infile: {receptor_rst}\n",
      "outfile: receptor_gas.pdb\n",
      "outfile_type: pdb\n",
      "\n",
      "trajin_start: 1\n",
      "trajin_end: -1\n",
      "\n",
      "strip_atoms: DNC,WAT,Na+,Cl-\n",
      "\n",
      "prmtop_location: {receptor_prmtop_location}\n",
      "    \"\"\"\n",
      "            ptraj_template = ptraj_template.format(**names)\n",
      "            ptraj_yaml = yaml.load(ptraj_template)\n",
      "\n",
      "            cpptraj = ptraj_in_maker(\"run_cpptraj.jinja\", ptraj_yaml)\n",
      "            ptraj_in_file = ptraj_in_maker(\"ptraj_recenter.jinja\", ptraj_yaml)\n",
      "\n",
      "            #############################\n",
      "            # RUN CPPTRAJ\n",
      "            #############################\n",
      "            if 'receptor_gas.pdb' not in glob.glob('*'):\n",
      "                return_code = subprocess.call('./run_cpptraj', shell=True)\n",
      "                if return_code == 0:\n",
      "                    print 'Ran cpptraj. Please check the output for any errors.'\n",
      "                else:\n",
      "                    print 'Error running cpptraj.'\n",
      "                \n",
      "\n",
      "            names = {'protein':PROTEIN, \n",
      "                     'mod':MOD.split('_')[-1], \n",
      "                     'type':TYPE.split('_')[-1]}\n",
      "\n",
      "            # yaml template\n",
      "            leaprc_template = \"\"\"\n",
      "---\n",
      "# identifiers\n",
      "fullname: {protein}_{mod}_{type}\n",
      "name: receptor_gas\n",
      "main_pdb_file : receptor_gas.pdb\n",
      "\n",
      "additional_params:\n",
      "    SAM:\n",
      "        params_path: SAM/frcmod.SAM\n",
      "        off_prep: SAM/SAM.off\n",
      "    MG:\n",
      "        params_path: magnesium/frcmod.magnesium\n",
      "        off_prep: magnesium/magnesium.prep\n",
      "\n",
      "# amber options\n",
      "save_amber_pdb: False\n",
      "set_box: False\n",
      "radii: PBRadii bondi\n",
      "\n",
      "# solvate the molecule\n",
      "solvate: False\n",
      "\"\"\"\n",
      "\n",
      "            leaprc_template = leaprc_template.format(**names)\n",
      "            leaprc_yaml = yaml.load(leaprc_template)\n",
      "            leaprc_file = leaprc_maker(leaprc_yaml)\n",
      "            \n",
      "            #############################\n",
      "            # RUN TLEAP\n",
      "            #############################\n",
      "            if 'receptor_gas.prmtop' not in glob.glob('*'):\n",
      "                return_code = subprocess.call('tleap -f {leaprc_filename}'.format(leaprc_filename=leaprc_file), shell=True)\n",
      "                if return_code == 0:\n",
      "                    print 'Ran tleap for {leaprc_filename}. Please check the output for any errors.'.format(leaprc_filename=leaprc_file)\n",
      "                else:\n",
      "                    print 'Error running tleap for {leaprc_filename}.'.format(leaprc_filename=leaprc_file)"
     ],
     "language": "python",
     "metadata": {},
     "outputs": [
      {
       "output_type": "stream",
       "stream": "stdout",
       "text": [
        "/home/nathan/projects/MMPBSA/COMT/2_SNP_3BWY/3_HALO/0_receptor_prep\n",
        "Ran cpptraj. Please check the output for any errors."
       ]
      },
      {
       "output_type": "stream",
       "stream": "stdout",
       "text": [
        "\n",
        "Ran tleap for 151009-receptor_gas.leaprc. Please check the output for any errors."
       ]
      },
      {
       "output_type": "stream",
       "stream": "stdout",
       "text": [
        "\n",
        "/home/nathan/projects/MMPBSA/COMT/2_SNP_3BWY/2_SAM/0_receptor_prep\n",
        "/home/nathan/projects/MMPBSA/COMT/1_WT_3BWM/3_HALO/0_receptor_prep"
       ]
      },
      {
       "output_type": "stream",
       "stream": "stdout",
       "text": [
        "\n",
        "Ran cpptraj. Please check the output for any errors."
       ]
      },
      {
       "output_type": "stream",
       "stream": "stdout",
       "text": [
        "\n",
        "Ran tleap for 151009-receptor_gas.leaprc. Please check the output for any errors."
       ]
      },
      {
       "output_type": "stream",
       "stream": "stdout",
       "text": [
        "\n",
        "/home/nathan/projects/MMPBSA/COMT/1_WT_3BWM/2_SAM/0_receptor_prep\n"
       ]
      }
     ],
     "prompt_number": 31
    },
    {
     "cell_type": "heading",
     "level": 3,
     "metadata": {},
     "source": [
      "3: Generate input scripts"
     ]
    },
    {
     "cell_type": "heading",
     "level": 5,
     "metadata": {},
     "source": [
      "mmpbsa.in"
     ]
    },
    {
     "cell_type": "markdown",
     "metadata": {},
     "source": [
      "SEE: http://ambermd.org/doc12/ for new default MMPBSA values - using inp=1 and radiopt=0 now"
     ]
    },
    {
     "cell_type": "code",
     "collapsed": false,
     "input": [
      "igb2 = yaml.load(\"\"\"\n",
      "---\n",
      "filename: mmpbsa_igb2.in\n",
      "gen_options:\n",
      "    - keep_files=2\n",
      "    - verbose=2\n",
      "gb_options: \n",
      "    - igb=2\n",
      "\"\"\")\n",
      "\n",
      "igb5 = yaml.load(\"\"\"\n",
      "---\n",
      "filename: mmpbsa_igb5.in\n",
      "gen_options:\n",
      "    - keep_files=2\n",
      "    - verbose=2\n",
      "gb_options: \n",
      "    - igb=5\n",
      "\"\"\")\n",
      "\n",
      "igb7 = yaml.load(\"\"\"\n",
      "---\n",
      "filename: mmpbsa_igb7.in\n",
      "gen_options:\n",
      "    - keep_files=2\n",
      "    - verbose=2\n",
      "gb_options: \n",
      "    - igb=7\n",
      "\"\"\")\n",
      "\n",
      "pb = yaml.load(\"\"\"\n",
      "---\n",
      "filename: mmpbsa_pb.in\n",
      "gen_options:\n",
      "    - keep_files=2\n",
      "    - verbose=2\n",
      "pb_options: \n",
      "    - fillratio=4.0\n",
      "    - inp=1\n",
      "    - radiopt=0\n",
      "\"\"\")"
     ],
     "language": "python",
     "metadata": {},
     "outputs": [],
     "prompt_number": 10
    },
    {
     "cell_type": "code",
     "collapsed": false,
     "input": [
      "os.chdir(TEMPLATE_GENERATED)\n",
      "for i in [igb2, igb5, igb7, pb]:\n",
      "    mmpbsa_file = mmpbsa_maker(TEMPLATE_FILES + '/mmpbsa_default.jinja', i)\n",
      "    shutil.copy(mmpbsa_file, MMPBSA_FOLDER + '/mmpbsa_input/')"
     ],
     "language": "python",
     "metadata": {},
     "outputs": [],
     "prompt_number": 23
    },
    {
     "cell_type": "heading",
     "level": 3,
     "metadata": {},
     "source": [
      "5: Using leap - generate cluster specific files (complex - gas)"
     ]
    },
    {
     "cell_type": "code",
     "collapsed": false,
     "input": [
      "for PROTEIN,mods in mmpbsa_prep.iteritems():\n",
      "#     print 'PROTEIN:', PROTEIN\n",
      "\n",
      "    for MOD,types in mods.iteritems():\n",
      "#         print 'MOD:', MOD\n",
      "        f1 = os.path.join(MMPBSA_FOLDER, PROTEIN, MOD)\n",
      "        if not os.path.exists(f1):\n",
      "            os.mkdir(f1)\n",
      "        \n",
      "        for TYPE,info in types.iteritems():\n",
      "#             print 'TYPE:', TYPE\n",
      "\n",
      "            f2 = os.path.join(f1, TYPE)\n",
      "            if not os.path.exists(f2):\n",
      "                os.mkdir(f2)\n",
      "\n",
      "            basename = info['basename']\n",
      "            num_residues = info['num_residues']\n",
      "            ligands = info['LIGANDS']\n",
      "            receptor_rst = info['receptor_rst']\n",
      "            receptor_prmtop_file = info['receptor_prmtop_file']\n",
      "            receptor_prmtop_location = info['receptor_prmtop_location']\n",
      "\n",
      "            receptor_prep = os.path.join(f2, '0_receptor_prep')\n",
      "            if not os.path.exists(receptor_prep):\n",
      "                os.mkdir(receptor_prep)\n",
      "            \n",
      "            for LIGAND,lig_info in ligands.iteritems():\n",
      "                f3 = os.path.join(f2, LIGAND)\n",
      "                if not os.path.exists(f3):\n",
      "                    os.mkdir(f3)\n",
      "\n",
      "                clusters = lig_info['CLUSTERS']\n",
      "                param_loc = lig_info['param_loc']\n",
      "            \n",
      "\n",
      "                for CLUSTER,FRAME in clusters.iteritems():\n",
      "                    main_folder = os.path.join(f3, CLUSTER)\n",
      "                    if not os.path.exists(main_folder):\n",
      "                        os.mkdir(main_folder)\n",
      "                    \n",
      "                    complex_prep = os.path.join(main_folder, '0_complex_prep')\n",
      "                    md = os.path.join(main_folder, '1_md')\n",
      "                    mmpbsa = os.path.join(main_folder, '2_mmpbsa')\n",
      "                    \n",
      "                    os.chdir(complex_prep)\n",
      "                    \n",
      "                    names = {'protein':PROTEIN,\n",
      "                             'mod':MOD, \n",
      "                             'type':TYPE, \n",
      "                             'ligand':LIGAND, \n",
      "                             'cluster':CLUSTER,\n",
      "                             'param_loc':param_loc,\n",
      "                             'num_residues':num_residues,\n",
      "                             'complex_prep':complex_prep}\n",
      "                    \n",
      "                    # yaml template\n",
      "                    leaprc_template = \"\"\"\n",
      "---\n",
      "# identifiers\n",
      "fullname: {protein}-{mod}-{type}-{ligand}-{cluster}_GAS\n",
      "name: {protein}_{ligand}_{cluster}_GAS\n",
      "main_pdb_file : {cluster}_representative.pdb\n",
      "\n",
      "additional_params:\n",
      "    SAM:\n",
      "        params_path: SAM/frcmod.SAM\n",
      "        off_prep: SAM/SAM.off\n",
      "    {ligand}:\n",
      "        params_path: {param_loc}/{ligand}.frcmod\n",
      "        off_prep: {param_loc}/{ligand}.off\n",
      "    MG:\n",
      "        params_path: magnesium/frcmod.magnesium\n",
      "        off_prep: magnesium/magnesium.prep\n",
      "# amber options\n",
      "save_amber_pdb: False\n",
      "set_box: False\n",
      "radii: PBRadii bondi\n",
      "\n",
      "# solvate the molecule\n",
      "solvate: False\n",
      "\"\"\"\n",
      "                    leaprc_template = leaprc_template.format(**names)\n",
      "                    leaprc_yaml = yaml.load(leaprc_template)\n",
      "                    leaprc_file = leaprc_maker(leaprc_yaml)\n",
      "                    \n",
      "                    print complex_prep, leaprc_file\n",
      "                    \n",
      "                    retva = subprocess.call('tleap -f %s' % leaprc_file, shell=True)"
     ],
     "language": "python",
     "metadata": {},
     "outputs": [
      {
       "output_type": "stream",
       "stream": "stdout",
       "text": [
        "/home/nathan/projects/MMPBSA/COMT/2_SNP_3BWY/3_HALO/LDP/000/0_complex_prep 151009-COMT_LDP_000_GAS.leaprc\n",
        "/home/nathan/projects/MMPBSA/COMT/2_SNP_3BWY/3_HALO/LDP/111/0_complex_prep"
       ]
      },
      {
       "output_type": "stream",
       "stream": "stdout",
       "text": [
        " 151009-COMT_LDP_111_GAS.leaprc\n",
        "/home/nathan/projects/MMPBSA/COMT/2_SNP_3BWY/3_HALO/DNC/000/0_complex_prep"
       ]
      },
      {
       "output_type": "stream",
       "stream": "stdout",
       "text": [
        " 151009-COMT_DNC_000_GAS.leaprc\n",
        "/home/nathan/projects/MMPBSA/COMT/2_SNP_3BWY/3_HALO/DNC/111/0_complex_prep"
       ]
      },
      {
       "output_type": "stream",
       "stream": "stdout",
       "text": [
        " 151009-COMT_DNC_111_GAS.leaprc\n",
        "/home/nathan/projects/MMPBSA/COMT/2_SNP_3BWY/3_HALO/DNC/110/0_complex_prep"
       ]
      },
      {
       "output_type": "stream",
       "stream": "stdout",
       "text": [
        " 151009-COMT_DNC_110_GAS.leaprc\n",
        "/home/nathan/projects/MMPBSA/COMT/2_SNP_3BWY/3_HALO/SID/011/0_complex_prep"
       ]
      },
      {
       "output_type": "stream",
       "stream": "stdout",
       "text": [
        " 151009-COMT_SID_011_GAS.leaprc\n",
        "/home/nathan/projects/MMPBSA/COMT/2_SNP_3BWY/3_HALO/SID/111/0_complex_prep"
       ]
      },
      {
       "output_type": "stream",
       "stream": "stdout",
       "text": [
        " 151009-COMT_SID_111_GAS.leaprc\n",
        "/home/nathan/projects/MMPBSA/COMT/2_SNP_3BWY/3_HALO/TCW/011/0_complex_prep"
       ]
      },
      {
       "output_type": "stream",
       "stream": "stdout",
       "text": [
        " 151009-COMT_TCW_011_GAS.leaprc\n",
        "/home/nathan/projects/MMPBSA/COMT/2_SNP_3BWY/3_HALO/TCW/111/0_complex_prep"
       ]
      },
      {
       "output_type": "stream",
       "stream": "stdout",
       "text": [
        " 151009-COMT_TCW_111_GAS.leaprc\n",
        "/home/nathan/projects/MMPBSA/COMT/2_SNP_3BWY/3_HALO/ALE/011/0_complex_prep"
       ]
      },
      {
       "output_type": "stream",
       "stream": "stdout",
       "text": [
        " 151009-COMT_ALE_011_GAS.leaprc\n",
        "/home/nathan/projects/MMPBSA/COMT/2_SNP_3BWY/3_HALO/ALE/000/0_complex_prep"
       ]
      },
      {
       "output_type": "stream",
       "stream": "stdout",
       "text": [
        " 151009-COMT_ALE_000_GAS.leaprc\n",
        "/home/nathan/projects/MMPBSA/COMT/2_SNP_3BWY/3_HALO/ALE/111/0_complex_prep"
       ]
      },
      {
       "output_type": "stream",
       "stream": "stdout",
       "text": [
        " 151009-COMT_ALE_111_GAS.leaprc\n",
        "/home/nathan/projects/MMPBSA/COMT/2_SNP_3BWY/3_HALO/LNR/000/0_complex_prep"
       ]
      },
      {
       "output_type": "stream",
       "stream": "stdout",
       "text": [
        " 151009-COMT_LNR_000_GAS.leaprc\n",
        "/home/nathan/projects/MMPBSA/COMT/2_SNP_3BWY/3_HALO/LNR/111/0_complex_prep"
       ]
      },
      {
       "output_type": "stream",
       "stream": "stdout",
       "text": [
        " 151009-COMT_LNR_111_GAS.leaprc\n",
        "/home/nathan/projects/MMPBSA/COMT/2_SNP_3BWY/2_SAM/TCW/011/0_complex_prep"
       ]
      },
      {
       "output_type": "stream",
       "stream": "stdout",
       "text": [
        " 151009-COMT_TCW_011_GAS.leaprc\n",
        "/home/nathan/projects/MMPBSA/COMT/2_SNP_3BWY/2_SAM/TCW/101/0_complex_prep"
       ]
      },
      {
       "output_type": "stream",
       "stream": "stdout",
       "text": [
        " 151009-COMT_TCW_101_GAS.leaprc\n",
        "/home/nathan/projects/MMPBSA/COMT/2_SNP_3BWY/2_SAM/TCW/111/0_complex_prep"
       ]
      },
      {
       "output_type": "stream",
       "stream": "stdout",
       "text": [
        " 151009-COMT_TCW_111_GAS.leaprc\n",
        "/home/nathan/projects/MMPBSA/COMT/2_SNP_3BWY/2_SAM/LNR/000/0_complex_prep"
       ]
      },
      {
       "output_type": "stream",
       "stream": "stdout",
       "text": [
        " 151009-COMT_LNR_000_GAS.leaprc\n",
        "/home/nathan/projects/MMPBSA/COMT/2_SNP_3BWY/2_SAM/LNR/111/0_complex_prep"
       ]
      },
      {
       "output_type": "stream",
       "stream": "stdout",
       "text": [
        " 151009-COMT_LNR_111_GAS.leaprc\n",
        "/home/nathan/projects/MMPBSA/COMT/2_SNP_3BWY/2_SAM/ALE/000/0_complex_prep"
       ]
      },
      {
       "output_type": "stream",
       "stream": "stdout",
       "text": [
        " 151009-COMT_ALE_000_GAS.leaprc\n",
        "/home/nathan/projects/MMPBSA/COMT/2_SNP_3BWY/2_SAM/ALE/111/0_complex_prep"
       ]
      },
      {
       "output_type": "stream",
       "stream": "stdout",
       "text": [
        " 151009-COMT_ALE_111_GAS.leaprc\n",
        "/home/nathan/projects/MMPBSA/COMT/2_SNP_3BWY/2_SAM/ALE/110/0_complex_prep"
       ]
      },
      {
       "output_type": "stream",
       "stream": "stdout",
       "text": [
        " 151009-COMT_ALE_110_GAS.leaprc\n",
        "/home/nathan/projects/MMPBSA/COMT/2_SNP_3BWY/2_SAM/DNC/001/0_complex_prep"
       ]
      },
      {
       "output_type": "stream",
       "stream": "stdout",
       "text": [
        " 151009-COMT_DNC_001_GAS.leaprc\n",
        "/home/nathan/projects/MMPBSA/COMT/2_SNP_3BWY/2_SAM/DNC/111/0_complex_prep"
       ]
      },
      {
       "output_type": "stream",
       "stream": "stdout",
       "text": [
        " 151009-COMT_DNC_111_GAS.leaprc\n",
        "/home/nathan/projects/MMPBSA/COMT/2_SNP_3BWY/2_SAM/SID/010/0_complex_prep"
       ]
      },
      {
       "output_type": "stream",
       "stream": "stdout",
       "text": [
        " 151009-COMT_SID_010_GAS.leaprc\n",
        "/home/nathan/projects/MMPBSA/COMT/2_SNP_3BWY/2_SAM/SID/110/0_complex_prep"
       ]
      },
      {
       "output_type": "stream",
       "stream": "stdout",
       "text": [
        " 151009-COMT_SID_110_GAS.leaprc\n",
        "/home/nathan/projects/MMPBSA/COMT/1_WT_3BWM/3_HALO/LDP/000/0_complex_prep"
       ]
      },
      {
       "output_type": "stream",
       "stream": "stdout",
       "text": [
        " 151009-COMT_LDP_000_GAS.leaprc\n",
        "/home/nathan/projects/MMPBSA/COMT/1_WT_3BWM/3_HALO/LDP/111/0_complex_prep"
       ]
      },
      {
       "output_type": "stream",
       "stream": "stdout",
       "text": [
        " 151009-COMT_LDP_111_GAS.leaprc\n",
        "/home/nathan/projects/MMPBSA/COMT/1_WT_3BWM/3_HALO/DNC/000/0_complex_prep"
       ]
      },
      {
       "output_type": "stream",
       "stream": "stdout",
       "text": [
        " 151009-COMT_DNC_000_GAS.leaprc\n",
        "/home/nathan/projects/MMPBSA/COMT/1_WT_3BWM/3_HALO/DNC/111/0_complex_prep"
       ]
      },
      {
       "output_type": "stream",
       "stream": "stdout",
       "text": [
        " 151009-COMT_DNC_111_GAS.leaprc\n",
        "/home/nathan/projects/MMPBSA/COMT/1_WT_3BWM/3_HALO/DNC/110/0_complex_prep"
       ]
      },
      {
       "output_type": "stream",
       "stream": "stdout",
       "text": [
        " 151009-COMT_DNC_110_GAS.leaprc\n",
        "/home/nathan/projects/MMPBSA/COMT/1_WT_3BWM/3_HALO/SID/000/0_complex_prep"
       ]
      },
      {
       "output_type": "stream",
       "stream": "stdout",
       "text": [
        " 151009-COMT_SID_000_GAS.leaprc\n",
        "/home/nathan/projects/MMPBSA/COMT/1_WT_3BWM/3_HALO/SID/111/0_complex_prep"
       ]
      },
      {
       "output_type": "stream",
       "stream": "stdout",
       "text": [
        " 151009-COMT_SID_111_GAS.leaprc\n",
        "/home/nathan/projects/MMPBSA/COMT/1_WT_3BWM/3_HALO/TCW/010/0_complex_prep"
       ]
      },
      {
       "output_type": "stream",
       "stream": "stdout",
       "text": [
        " 151009-COMT_TCW_010_GAS.leaprc\n",
        "/home/nathan/projects/MMPBSA/COMT/1_WT_3BWM/3_HALO/TCW/111/0_complex_prep"
       ]
      },
      {
       "output_type": "stream",
       "stream": "stdout",
       "text": [
        " 151009-COMT_TCW_111_GAS.leaprc\n",
        "/home/nathan/projects/MMPBSA/COMT/1_WT_3BWM/3_HALO/TCW/110/0_complex_prep"
       ]
      },
      {
       "output_type": "stream",
       "stream": "stdout",
       "text": [
        " 151009-COMT_TCW_110_GAS.leaprc\n",
        "/home/nathan/projects/MMPBSA/COMT/1_WT_3BWM/3_HALO/ALE/000/0_complex_prep"
       ]
      },
      {
       "output_type": "stream",
       "stream": "stdout",
       "text": [
        " 151009-COMT_ALE_000_GAS.leaprc\n",
        "/home/nathan/projects/MMPBSA/COMT/1_WT_3BWM/3_HALO/ALE/111/0_complex_prep"
       ]
      },
      {
       "output_type": "stream",
       "stream": "stdout",
       "text": [
        " 151009-COMT_ALE_111_GAS.leaprc\n",
        "/home/nathan/projects/MMPBSA/COMT/1_WT_3BWM/3_HALO/ALE/110/0_complex_prep"
       ]
      },
      {
       "output_type": "stream",
       "stream": "stdout",
       "text": [
        " 151009-COMT_ALE_110_GAS.leaprc\n",
        "/home/nathan/projects/MMPBSA/COMT/1_WT_3BWM/3_HALO/LNR/000/0_complex_prep"
       ]
      },
      {
       "output_type": "stream",
       "stream": "stdout",
       "text": [
        " 151009-COMT_LNR_000_GAS.leaprc\n",
        "/home/nathan/projects/MMPBSA/COMT/1_WT_3BWM/3_HALO/LNR/111/0_complex_prep"
       ]
      },
      {
       "output_type": "stream",
       "stream": "stdout",
       "text": [
        " 151009-COMT_LNR_111_GAS.leaprc\n",
        "/home/nathan/projects/MMPBSA/COMT/1_WT_3BWM/2_SAM/TCW/011/0_complex_prep"
       ]
      },
      {
       "output_type": "stream",
       "stream": "stdout",
       "text": [
        " 151009-COMT_TCW_011_GAS.leaprc\n",
        "/home/nathan/projects/MMPBSA/COMT/1_WT_3BWM/2_SAM/TCW/101/0_complex_prep"
       ]
      },
      {
       "output_type": "stream",
       "stream": "stdout",
       "text": [
        " 151009-COMT_TCW_101_GAS.leaprc\n",
        "/home/nathan/projects/MMPBSA/COMT/1_WT_3BWM/2_SAM/TCW/111/0_complex_prep"
       ]
      },
      {
       "output_type": "stream",
       "stream": "stdout",
       "text": [
        " 151009-COMT_TCW_111_GAS.leaprc\n",
        "/home/nathan/projects/MMPBSA/COMT/1_WT_3BWM/2_SAM/LNR/111/0_complex_prep"
       ]
      },
      {
       "output_type": "stream",
       "stream": "stdout",
       "text": [
        " 151009-COMT_LNR_111_GAS.leaprc\n",
        "/home/nathan/projects/MMPBSA/COMT/1_WT_3BWM/2_SAM/LNR/110/0_complex_prep"
       ]
      },
      {
       "output_type": "stream",
       "stream": "stdout",
       "text": [
        " 151009-COMT_LNR_110_GAS.leaprc\n",
        "/home/nathan/projects/MMPBSA/COMT/1_WT_3BWM/2_SAM/ALE/000/0_complex_prep"
       ]
      },
      {
       "output_type": "stream",
       "stream": "stdout",
       "text": [
        " 151009-COMT_ALE_000_GAS.leaprc\n",
        "/home/nathan/projects/MMPBSA/COMT/1_WT_3BWM/2_SAM/ALE/111/0_complex_prep"
       ]
      },
      {
       "output_type": "stream",
       "stream": "stdout",
       "text": [
        " 151009-COMT_ALE_111_GAS.leaprc\n",
        "/home/nathan/projects/MMPBSA/COMT/1_WT_3BWM/2_SAM/ALE/110/0_complex_prep"
       ]
      },
      {
       "output_type": "stream",
       "stream": "stdout",
       "text": [
        " 151009-COMT_ALE_110_GAS.leaprc\n",
        "/home/nathan/projects/MMPBSA/COMT/1_WT_3BWM/2_SAM/DNC/101/0_complex_prep"
       ]
      },
      {
       "output_type": "stream",
       "stream": "stdout",
       "text": [
        " 151009-COMT_DNC_101_GAS.leaprc\n",
        "/home/nathan/projects/MMPBSA/COMT/1_WT_3BWM/2_SAM/DNC/111/0_complex_prep"
       ]
      },
      {
       "output_type": "stream",
       "stream": "stdout",
       "text": [
        " 151009-COMT_DNC_111_GAS.leaprc\n",
        "/home/nathan/projects/MMPBSA/COMT/1_WT_3BWM/2_SAM/SID/001/0_complex_prep"
       ]
      },
      {
       "output_type": "stream",
       "stream": "stdout",
       "text": [
        " 151009-COMT_SID_001_GAS.leaprc\n",
        "/home/nathan/projects/MMPBSA/COMT/1_WT_3BWM/2_SAM/SID/101/0_complex_prep"
       ]
      },
      {
       "output_type": "stream",
       "stream": "stdout",
       "text": [
        " 151009-COMT_SID_101_GAS.leaprc\n",
        "/home/nathan/projects/MMPBSA/COMT/1_WT_3BWM/2_SAM/SID/111/0_complex_prep"
       ]
      },
      {
       "output_type": "stream",
       "stream": "stdout",
       "text": [
        " 151009-COMT_SID_111_GAS.leaprc\n"
       ]
      }
     ],
     "prompt_number": 25
    },
    {
     "cell_type": "heading",
     "level": 3,
     "metadata": {},
     "source": [
      "6: Run MMPBSA"
     ]
    },
    {
     "cell_type": "code",
     "collapsed": false,
     "input": [
      "def mmpbsa_runner(template, mmpbsa_run_dict):\n",
      "    # allows loading of templates off filesystems\n",
      "    templateLoader = jinja2.FileSystemLoader( searchpath=\"/\" )\n",
      "    templateEnv = jinja2.Environment( loader=templateLoader )\n",
      "\n",
      "    # load the template\n",
      "    MMPBSA_TEMPLATE = template\n",
      "    template = templateEnv.get_template( MMPBSA_TEMPLATE )\n",
      "\n",
      "    # process the template to produce our final text.\n",
      "    outputText = template.render( mmpbsa_run_dict )\n",
      "\n",
      "    file_out = mmpbsa_run_dict['date'] + '-' + mmpbsa_run_dict['mmpbsa_input_params'] + '.in'\n",
      "    with open(file_out, \"w\") as f:\n",
      "        f.write(outputText)\n",
      "        \n",
      "    return file_out"
     ],
     "language": "python",
     "metadata": {},
     "outputs": [],
     "prompt_number": 66
    },
    {
     "cell_type": "code",
     "collapsed": false,
     "input": [
      "for PROTEIN,mods in mmpbsa_prep.iteritems():\n",
      "\n",
      "    for MOD,types in mods.iteritems():\n",
      "        f1 = os.path.join(MMPBSA_FOLDER, PROTEIN, MOD)\n",
      "        \n",
      "        for TYPE,info in types.iteritems():\n",
      "            f2 = os.path.join(f1, TYPE)\n",
      "\n",
      "            basename = info['basename']\n",
      "            num_residues = info['num_residues']\n",
      "            ligands = info['LIGANDS']\n",
      "            receptor_rst = info['receptor_rst']\n",
      "            receptor_prmtop_file = info['receptor_prmtop_file']\n",
      "            receptor_prmtop_location = info['receptor_prmtop_location']\n",
      "\n",
      "            receptor_prep = os.path.join(f2, '0_receptor_prep')\n",
      "            \n",
      "            for LIGAND,lig_info in ligands.iteritems():\n",
      "                f3 = os.path.join(f2, LIGAND)\n",
      "\n",
      "                clusters = lig_info['CLUSTERS']\n",
      "                for_mmpbsa_trajs = lig_info['TRAJ']\n",
      "                param_loc = lig_info['param_loc']\n",
      "\n",
      "                for CLUSTER,FRAME in clusters.iteritems():\n",
      "                    main_folder = os.path.join(f3, CLUSTER)\n",
      "                    \n",
      "                    complex_prep = os.path.join(main_folder, '0_complex_prep')\n",
      "                    md = os.path.join(main_folder, '1_md')\n",
      "                    mmpbsa = os.path.join(main_folder, '2_mmpbsa')\n",
      "                    \n",
      "                    if for_mmpbsa_trajs:\n",
      "                        if CLUSTER in for_mmpbsa_trajs.keys():\n",
      "                            traj_to_run_mmpbsa_on = for_mmpbsa_trajs[CLUSTER]\n",
      "                \n",
      "                            for mmpbsa_param in gb_pb_params:\n",
      "                                os.chdir(mmpbsa)\n",
      "\n",
      "                                names = {'protein':PROTEIN,\n",
      "                                         'input_scripts':MMPBSA_INPUT_SCRIPTS,\n",
      "                                         'mmpbsa_param':mmpbsa_param,\n",
      "                                         'complex_prep_folder':complex_prep,\n",
      "                                         'receptor_prep_folder':receptor_prep,\n",
      "                                         'ligands_path':LIGANDS_PATH,\n",
      "                                         'md_run_folder':md,\n",
      "                                         'mod':MOD, \n",
      "                                         'type':TYPE, \n",
      "                                         'ligand':LIGAND, \n",
      "                                         'cluster':CLUSTER,\n",
      "                                         'param_loc':param_loc,\n",
      "                                         'num_residues':num_residues,\n",
      "                                         'for_mmpbsa':traj_to_run_mmpbsa_on}\n",
      "\n",
      "                             \n",
      "                                mmpbsa_run_template = \"\"\"\n",
      "---\n",
      "input_scripts_dir: {input_scripts}\n",
      "mmpbsa_input_params: mmpbsa_{mmpbsa_param}\n",
      "complex_solv_prmtop_path: {complex_prep_folder}/{protein}_{ligand}_{cluster}.prmtop\n",
      "complex_gas_prmtop_path: {complex_prep_folder}/{protein}_{ligand}_{cluster}_GAS.prmtop\n",
      "receptor_gas_prmtop_path: {receptor_prep_folder}/receptor_gas.prmtop\n",
      "ligand_gas_prmtop_path: {ligands_path}/{param_loc}/{ligand}.prmtop\n",
      "trajectory_path: {md_run_folder}/{for_mmpbsa}\n",
      "\"\"\"\n",
      "                                mmpbsa_run_template = mmpbsa_run_template.format(**names)\n",
      "                                mmpbsa_run_yaml = yaml.load(mmpbsa_run_template)\n",
      "                                mmpbsa_run_yaml['date'] = TODAY\n",
      "\n",
      "\n",
      "                                if not os.path.exists(os.path.join(mmpbsa, mmpbsa_param)):\n",
      "                                    os.mkdir(os.path.join(mmpbsa, mmpbsa_param))\n",
      "\n",
      "                                os.chdir(os.path.join(mmpbsa, mmpbsa_param))\n",
      "                                \n",
      "                                files = glob.glob('*')\n",
      "                                if 'FINAL_RESULTS_mmpbsa_%s.dat' % mmpbsa_param in files:\n",
      "                                    print 'RESULTS PREVIOUSLY CALCULATED'\n",
      "                                    continue\n",
      "                                    \n",
      "                                mmpbsa_run_file = mmpbsa_runner(TEMPLATE_FILES + '/mmpbsa_run.jinja', mmpbsa_run_yaml)\n",
      "                                os.chmod(mmpbsa_run_file, 0755)\n",
      "\n",
      "                                retva = subprocess.call('./%s' % mmpbsa_run_file, shell=True)\n",
      "                                if retva == 0:\n",
      "                                    print 'RUNNING MMPBSA:', os.path.join(mmpbsa, mmpbsa_param)\n",
      "                                    time.sleep(15)"
     ],
     "language": "python",
     "metadata": {},
     "outputs": [
      {
       "output_type": "stream",
       "stream": "stdout",
       "text": [
        "RESULTS PREVIOUSLY CALCULATED\n",
        "RESULTS PREVIOUSLY CALCULATED\n",
        "RESULTS PREVIOUSLY CALCULATED\n",
        "RESULTS PREVIOUSLY CALCULATED\n",
        "RESULTS PREVIOUSLY CALCULATED\n",
        "RESULTS PREVIOUSLY CALCULATED\n",
        "RESULTS PREVIOUSLY CALCULATED\n",
        "RESULTS PREVIOUSLY CALCULATED\n",
        "RESULTS PREVIOUSLY CALCULATED\n",
        "RESULTS PREVIOUSLY CALCULATED\n",
        "RESULTS PREVIOUSLY CALCULATED\n",
        "RESULTS PREVIOUSLY CALCULATED\n",
        "RESULTS PREVIOUSLY CALCULATED\n",
        "RESULTS PREVIOUSLY CALCULATED\n",
        "RESULTS PREVIOUSLY CALCULATED\n",
        "RESULTS PREVIOUSLY CALCULATED"
       ]
      },
      {
       "output_type": "stream",
       "stream": "stdout",
       "text": [
        "\n",
        "RESULTS PREVIOUSLY CALCULATED\n",
        "RESULTS PREVIOUSLY CALCULATED\n",
        "RESULTS PREVIOUSLY CALCULATED\n",
        "RESULTS PREVIOUSLY CALCULATED\n",
        "RESULTS PREVIOUSLY CALCULATED\n",
        "RESULTS PREVIOUSLY CALCULATED\n",
        "RESULTS PREVIOUSLY CALCULATED\n",
        "RESULTS PREVIOUSLY CALCULATED\n",
        "RESULTS PREVIOUSLY CALCULATED\n",
        "RESULTS PREVIOUSLY CALCULATED\n",
        "RESULTS PREVIOUSLY CALCULATED\n",
        "RESULTS PREVIOUSLY CALCULATED\n",
        "RESULTS PREVIOUSLY CALCULATED\n",
        "RESULTS PREVIOUSLY CALCULATED\n",
        "RESULTS PREVIOUSLY CALCULATED"
       ]
      },
      {
       "output_type": "stream",
       "stream": "stdout",
       "text": [
        "\n",
        "RESULTS PREVIOUSLY CALCULATED\n",
        "RESULTS PREVIOUSLY CALCULATED\n",
        "RESULTS PREVIOUSLY CALCULATED\n",
        "RESULTS PREVIOUSLY CALCULATED\n",
        "RESULTS PREVIOUSLY CALCULATED\n",
        "RUNNING MMPBSA: /home/nathan/projects/MMPBSA/COMT/2_SNP_3BWY/3_HALO/ALE/111/2_mmpbsa/igb2\n",
        "RUNNING MMPBSA:"
       ]
      },
      {
       "output_type": "stream",
       "stream": "stdout",
       "text": [
        " /home/nathan/projects/MMPBSA/COMT/2_SNP_3BWY/3_HALO/ALE/111/2_mmpbsa/igb5\n",
        "RUNNING MMPBSA:"
       ]
      },
      {
       "output_type": "stream",
       "stream": "stdout",
       "text": [
        " /home/nathan/projects/MMPBSA/COMT/2_SNP_3BWY/3_HALO/ALE/111/2_mmpbsa/igb7\n",
        "RUNNING MMPBSA:"
       ]
      },
      {
       "output_type": "stream",
       "stream": "stdout",
       "text": [
        " /home/nathan/projects/MMPBSA/COMT/2_SNP_3BWY/3_HALO/ALE/111/2_mmpbsa/pb\n",
        "RESULTS PREVIOUSLY CALCULATED"
       ]
      },
      {
       "output_type": "stream",
       "stream": "stdout",
       "text": [
        "\n",
        "RESULTS PREVIOUSLY CALCULATED\n",
        "RESULTS PREVIOUSLY CALCULATED\n",
        "RESULTS PREVIOUSLY CALCULATED\n",
        "RESULTS PREVIOUSLY CALCULATED\n",
        "RESULTS PREVIOUSLY CALCULATED\n",
        "RESULTS PREVIOUSLY CALCULATED\n",
        "RESULTS PREVIOUSLY CALCULATED\n",
        "RESULTS PREVIOUSLY CALCULATED\n",
        "RESULTS PREVIOUSLY CALCULATED\n",
        "RESULTS PREVIOUSLY CALCULATED\n",
        "RESULTS PREVIOUSLY CALCULATED\n",
        "RESULTS PREVIOUSLY CALCULATED\n",
        "RESULTS PREVIOUSLY CALCULATED\n",
        "RESULTS PREVIOUSLY CALCULATED\n",
        "RESULTS PREVIOUSLY CALCULATED\n",
        "RESULTS PREVIOUSLY CALCULATED\n",
        "RESULTS PREVIOUSLY CALCULATED"
       ]
      },
      {
       "output_type": "stream",
       "stream": "stdout",
       "text": [
        "\n",
        "RESULTS PREVIOUSLY CALCULATED\n",
        "RESULTS PREVIOUSLY CALCULATED\n",
        "RESULTS PREVIOUSLY CALCULATED\n",
        "RESULTS PREVIOUSLY CALCULATED\n",
        "RESULTS PREVIOUSLY CALCULATED\n",
        "RESULTS PREVIOUSLY CALCULATED\n",
        "RESULTS PREVIOUSLY CALCULATED\n",
        "RESULTS PREVIOUSLY CALCULATED\n",
        "RESULTS PREVIOUSLY CALCULATED\n",
        "RESULTS PREVIOUSLY CALCULATED\n",
        "RESULTS PREVIOUSLY CALCULATED\n",
        "RESULTS PREVIOUSLY CALCULATED\n",
        "RESULTS PREVIOUSLY CALCULATED\n",
        "RESULTS PREVIOUSLY CALCULATED\n",
        "RESULTS PREVIOUSLY CALCULATED\n",
        "RESULTS PREVIOUSLY CALCULATED\n",
        "RESULTS PREVIOUSLY CALCULATED"
       ]
      },
      {
       "output_type": "stream",
       "stream": "stdout",
       "text": [
        "\n",
        "RESULTS PREVIOUSLY CALCULATED\n",
        "RESULTS PREVIOUSLY CALCULATED\n",
        "RESULTS PREVIOUSLY CALCULATED\n",
        "RESULTS PREVIOUSLY CALCULATED\n",
        "RESULTS PREVIOUSLY CALCULATED\n",
        "RESULTS PREVIOUSLY CALCULATED\n",
        "RESULTS PREVIOUSLY CALCULATED\n",
        "RESULTS PREVIOUSLY CALCULATED\n",
        "RESULTS PREVIOUSLY CALCULATED\n",
        "RESULTS PREVIOUSLY CALCULATED\n",
        "RESULTS PREVIOUSLY CALCULATED\n",
        "RESULTS PREVIOUSLY CALCULATED\n",
        "RESULTS PREVIOUSLY CALCULATED\n",
        "RESULTS PREVIOUSLY CALCULATED\n",
        "RESULTS PREVIOUSLY CALCULATED\n",
        "RESULTS PREVIOUSLY CALCULATED\n",
        "RESULTS PREVIOUSLY CALCULATED\n"
       ]
      },
      {
       "output_type": "stream",
       "stream": "stdout",
       "text": [
        "RESULTS PREVIOUSLY CALCULATED\n",
        "RESULTS PREVIOUSLY CALCULATED\n",
        "RESULTS PREVIOUSLY CALCULATED\n",
        "RESULTS PREVIOUSLY CALCULATED\n",
        "RESULTS PREVIOUSLY CALCULATED\n",
        "RESULTS PREVIOUSLY CALCULATED\n",
        "RESULTS PREVIOUSLY CALCULATED\n",
        "RESULTS PREVIOUSLY CALCULATED\n",
        "RESULTS PREVIOUSLY CALCULATED\n",
        "RESULTS PREVIOUSLY CALCULATED\n",
        "RESULTS PREVIOUSLY CALCULATED\n",
        "RESULTS PREVIOUSLY CALCULATED\n",
        "RESULTS PREVIOUSLY CALCULATED\n",
        "RESULTS PREVIOUSLY CALCULATED\n",
        "RESULTS PREVIOUSLY CALCULATED\n",
        "RESULTS PREVIOUSLY CALCULATED\n",
        "RUNNING MMPBSA:"
       ]
      },
      {
       "output_type": "stream",
       "stream": "stdout",
       "text": [
        " /home/nathan/projects/MMPBSA/COMT/1_WT_3BWM/3_HALO/TCW/010/2_mmpbsa/igb2\n",
        "RUNNING MMPBSA:"
       ]
      },
      {
       "output_type": "stream",
       "stream": "stdout",
       "text": [
        " /home/nathan/projects/MMPBSA/COMT/1_WT_3BWM/3_HALO/TCW/010/2_mmpbsa/igb5\n",
        "RUNNING MMPBSA:"
       ]
      },
      {
       "output_type": "stream",
       "stream": "stdout",
       "text": [
        " /home/nathan/projects/MMPBSA/COMT/1_WT_3BWM/3_HALO/TCW/010/2_mmpbsa/igb7\n",
        "RUNNING MMPBSA:"
       ]
      },
      {
       "output_type": "stream",
       "stream": "stdout",
       "text": [
        " /home/nathan/projects/MMPBSA/COMT/1_WT_3BWM/3_HALO/TCW/010/2_mmpbsa/pb\n",
        "RESULTS PREVIOUSLY CALCULATED"
       ]
      },
      {
       "output_type": "stream",
       "stream": "stdout",
       "text": [
        "\n",
        "RESULTS PREVIOUSLY CALCULATED\n",
        "RESULTS PREVIOUSLY CALCULATED\n",
        "RESULTS PREVIOUSLY CALCULATED\n",
        "RESULTS PREVIOUSLY CALCULATED\n",
        "RESULTS PREVIOUSLY CALCULATED\n",
        "RESULTS PREVIOUSLY CALCULATED\n",
        "RESULTS PREVIOUSLY CALCULATED\n",
        "RESULTS PREVIOUSLY CALCULATED\n",
        "RESULTS PREVIOUSLY CALCULATED\n",
        "RESULTS PREVIOUSLY CALCULATED\n",
        "RESULTS PREVIOUSLY CALCULATED\n",
        "RESULTS PREVIOUSLY CALCULATED\n",
        "RESULTS PREVIOUSLY CALCULATED\n",
        "RESULTS PREVIOUSLY CALCULATED\n",
        "RESULTS PREVIOUSLY CALCULATED\n",
        "RESULTS PREVIOUSLY CALCULATED\n",
        "RESULTS PREVIOUSLY CALCULATED\n",
        "RESULTS PREVIOUSLY CALCULATED"
       ]
      },
      {
       "output_type": "stream",
       "stream": "stdout",
       "text": [
        "\n",
        "RESULTS PREVIOUSLY CALCULATED\n",
        "RESULTS PREVIOUSLY CALCULATED\n",
        "RESULTS PREVIOUSLY CALCULATED\n",
        "RESULTS PREVIOUSLY CALCULATED\n",
        "RESULTS PREVIOUSLY CALCULATED\n",
        "RESULTS PREVIOUSLY CALCULATED\n",
        "RESULTS PREVIOUSLY CALCULATED\n",
        "RESULTS PREVIOUSLY CALCULATED\n",
        "RESULTS PREVIOUSLY CALCULATED\n",
        "RESULTS PREVIOUSLY CALCULATED\n",
        "RESULTS PREVIOUSLY CALCULATED\n",
        "RESULTS PREVIOUSLY CALCULATED\n",
        "RESULTS PREVIOUSLY CALCULATED\n",
        "RESULTS PREVIOUSLY CALCULATED\n",
        "RESULTS PREVIOUSLY CALCULATED\n",
        "RESULTS PREVIOUSLY CALCULATED\n",
        "RESULTS PREVIOUSLY CALCULATED\n",
        "RESULTS PREVIOUSLY CALCULATED"
       ]
      },
      {
       "output_type": "stream",
       "stream": "stdout",
       "text": [
        "\n",
        "RESULTS PREVIOUSLY CALCULATED\n",
        "RESULTS PREVIOUSLY CALCULATED\n",
        "RESULTS PREVIOUSLY CALCULATED\n",
        "RESULTS PREVIOUSLY CALCULATED\n",
        "RESULTS PREVIOUSLY CALCULATED\n",
        "RESULTS PREVIOUSLY CALCULATED\n",
        "RESULTS PREVIOUSLY CALCULATED\n",
        "RESULTS PREVIOUSLY CALCULATED\n",
        "RESULTS PREVIOUSLY CALCULATED\n",
        "RESULTS PREVIOUSLY CALCULATED\n",
        "RESULTS PREVIOUSLY CALCULATED\n",
        "RESULTS PREVIOUSLY CALCULATED\n",
        "RESULTS PREVIOUSLY CALCULATED\n",
        "RESULTS PREVIOUSLY CALCULATED\n",
        "RESULTS PREVIOUSLY CALCULATED\n",
        "RESULTS PREVIOUSLY CALCULATED\n",
        "RESULTS PREVIOUSLY CALCULATED\n",
        "RESULTS PREVIOUSLY CALCULATED"
       ]
      },
      {
       "output_type": "stream",
       "stream": "stdout",
       "text": [
        "\n",
        "RESULTS PREVIOUSLY CALCULATED\n",
        "RESULTS PREVIOUSLY CALCULATED\n",
        "RESULTS PREVIOUSLY CALCULATED\n",
        "RESULTS PREVIOUSLY CALCULATED\n",
        "RESULTS PREVIOUSLY CALCULATED\n",
        "RESULTS PREVIOUSLY CALCULATED\n",
        "RESULTS PREVIOUSLY CALCULATED\n",
        "RESULTS PREVIOUSLY CALCULATED\n",
        "RESULTS PREVIOUSLY CALCULATED\n",
        "RESULTS PREVIOUSLY CALCULATED\n",
        "RESULTS PREVIOUSLY CALCULATED\n",
        "RESULTS PREVIOUSLY CALCULATED\n",
        "RESULTS PREVIOUSLY CALCULATED\n"
       ]
      }
     ],
     "prompt_number": 62
    },
    {
     "cell_type": "heading",
     "level": 3,
     "metadata": {},
     "source": [
      "8: Analysis of GB/PB parameters"
     ]
    },
    {
     "cell_type": "code",
     "collapsed": false,
     "input": [
      "import os"
     ],
     "language": "python",
     "metadata": {},
     "outputs": [],
     "prompt_number": 11
    },
    {
     "cell_type": "code",
     "collapsed": false,
     "input": [
      "import pandas as pd"
     ],
     "language": "python",
     "metadata": {},
     "outputs": [],
     "prompt_number": 12
    },
    {
     "cell_type": "code",
     "collapsed": false,
     "input": [
      "%matplotlib inline\n",
      "import matplotlib.pyplot as plt\n",
      "import seaborn as sns\n",
      "sns.set_style('white')\n",
      "sns.set_context('poster')"
     ],
     "language": "python",
     "metadata": {},
     "outputs": [],
     "prompt_number": 38
    },
    {
     "cell_type": "code",
     "collapsed": false,
     "input": [
      "mmpbsa_df = pd.DataFrame(columns = ['protein','mod','type','ligand','cluster','mmpbsa_param','delta_total_avg'])\n",
      "\n",
      "for PROTEIN,mods in mmpbsa_prep.iteritems():\n",
      "\n",
      "    for MOD,types in mods.iteritems():\n",
      "        f1 = os.path.join(MMPBSA_FOLDER, PROTEIN, MOD)\n",
      "        \n",
      "        for TYPE,info in types.iteritems():\n",
      "            f2 = os.path.join(f1, TYPE)\n",
      "            basename = info['basename']\n",
      "            num_residues = info['num_residues']\n",
      "            ligands = info['LIGANDS']\n",
      "            receptor_rst = info['receptor_rst']\n",
      "            receptor_prmtop_file = info['receptor_prmtop_file']\n",
      "            receptor_prmtop_location = info['receptor_prmtop_location']\n",
      "            \n",
      "            receptor_prep = os.path.join(f2, '0_receptor_prep')\n",
      "            if not os.path.exists(receptor_prep):\n",
      "                os.mkdir(receptor_prep)\n",
      "            \n",
      "            for LIGAND,lig_info in ligands.iteritems():\n",
      "                f3 = os.path.join(f2, LIGAND)\n",
      "                clusters = lig_info['CLUSTERS']\n",
      "                for_mmpbsa_trajs = lig_info['TRAJ']\n",
      "                param_loc = lig_info['param_loc']\n",
      "\n",
      "                for CLUSTER,FRAME in clusters.iteritems():\n",
      "                    main_folder = os.path.join(f3, CLUSTER)\n",
      "                    \n",
      "                    complex_prep = os.path.join(main_folder, '0_complex_prep')\n",
      "                    md = os.path.join(main_folder, '1_md')\n",
      "                    mmpbsa = os.path.join(main_folder, '2_mmpbsa')\n",
      "                    \n",
      "                    if for_mmpbsa_trajs:\n",
      "                        if CLUSTER in for_mmpbsa_trajs.keys():\n",
      "                            traj_to_run_mmpbsa_on = for_mmpbsa_trajs[CLUSTER]\n",
      "\n",
      "                            for mmpbsa_param in gb_pb_params:\n",
      "                                os.chdir(mmpbsa)\n",
      "\n",
      "                                names = {'protein':PROTEIN,\n",
      "                                         'input_scripts':MMPBSA_INPUT_SCRIPTS,\n",
      "                                         'mmpbsa_param':mmpbsa_param,\n",
      "                                         'complex_prep_folder':complex_prep,\n",
      "                                         'receptor_prep_folder':receptor_prep,\n",
      "                                         'ligands_path':LIGANDS_PATH,\n",
      "                                         'md_run_folder':md,\n",
      "                                         'mod':MOD, \n",
      "                                         'type':TYPE, \n",
      "                                         'ligand':LIGAND, \n",
      "                                         'cluster':CLUSTER,\n",
      "                                         'param_loc':param_loc,\n",
      "                                         'num_residues':num_residues,\n",
      "                                         'for_mmpbsa':traj_to_run_mmpbsa_on}\n",
      "\n",
      "                                results = os.path.join(mmpbsa, mmpbsa_param, 'FINAL_RESULTS_mmpbsa_%s.dat' % mmpbsa_param)\n",
      "\n",
      "                                if os.path.exists(results):\n",
      "                                    with open(results) as f:\n",
      "                                        lines = f.readlines()\n",
      "                                        count = 0\n",
      "                                        for x in lines:\n",
      "                                            if 'DELTA TOTAL' in x:\n",
      "                                                inf = x.split()\n",
      "                                                appender = {}\n",
      "                                                appender['protein'] = PROTEIN\n",
      "                                                appender['mod'] = MOD\n",
      "                                                appender['type'] = TYPE\n",
      "                                                appender['ligand'] = LIGAND\n",
      "                                                appender['cluster'] = CLUSTER\n",
      "                                                if count == 1:\n",
      "                                                    appender['mmpbsa_param'] = mmpbsa_param\n",
      "                                                else:\n",
      "                                                    appender['mmpbsa_param'] = mmpbsa_param.split('_')[0]\n",
      "                                                appender['delta_total_avg'] = float(inf[2])\n",
      "                                                #appender['stddev'] = float(inf[3])\n",
      "                                                #appender['stderr'] = float(inf[4])\n",
      "                                                mmpbsa_df = mmpbsa_df.append(appender,ignore_index=True)\n",
      "                                                \n",
      "                                                count += 1"
     ],
     "language": "python",
     "metadata": {},
     "outputs": [],
     "prompt_number": 17
    },
    {
     "cell_type": "code",
     "collapsed": false,
     "input": [
      "mmpbsa_df = mmpbsa_df.sort_values(by=['protein','mod','type','ligand','cluster']).reset_index(drop=True)\n",
      "mmpbsa_df.head(10)"
     ],
     "language": "python",
     "metadata": {},
     "outputs": [
      {
       "html": [
        "<div style=\"max-width:1500px;overflow:auto;\">\n",
        "<table border=\"1\" class=\"dataframe\">\n",
        "  <thead>\n",
        "    <tr style=\"text-align: right;\">\n",
        "      <th></th>\n",
        "      <th>protein</th>\n",
        "      <th>mod</th>\n",
        "      <th>type</th>\n",
        "      <th>ligand</th>\n",
        "      <th>cluster</th>\n",
        "      <th>mmpbsa_param</th>\n",
        "      <th>delta_total_avg</th>\n",
        "    </tr>\n",
        "  </thead>\n",
        "  <tbody>\n",
        "    <tr>\n",
        "      <th>0</th>\n",
        "      <td>COMT</td>\n",
        "      <td>1_WT_3BWM</td>\n",
        "      <td>2_SAM</td>\n",
        "      <td>ALE</td>\n",
        "      <td>000</td>\n",
        "      <td>igb2</td>\n",
        "      <td>-3.9606</td>\n",
        "    </tr>\n",
        "    <tr>\n",
        "      <th>1</th>\n",
        "      <td>COMT</td>\n",
        "      <td>1_WT_3BWM</td>\n",
        "      <td>2_SAM</td>\n",
        "      <td>ALE</td>\n",
        "      <td>000</td>\n",
        "      <td>igb5</td>\n",
        "      <td>-7.5214</td>\n",
        "    </tr>\n",
        "    <tr>\n",
        "      <th>2</th>\n",
        "      <td>COMT</td>\n",
        "      <td>1_WT_3BWM</td>\n",
        "      <td>2_SAM</td>\n",
        "      <td>ALE</td>\n",
        "      <td>000</td>\n",
        "      <td>igb7</td>\n",
        "      <td>-8.0258</td>\n",
        "    </tr>\n",
        "    <tr>\n",
        "      <th>3</th>\n",
        "      <td>COMT</td>\n",
        "      <td>1_WT_3BWM</td>\n",
        "      <td>2_SAM</td>\n",
        "      <td>ALE</td>\n",
        "      <td>000</td>\n",
        "      <td>pb</td>\n",
        "      <td>-1.1520</td>\n",
        "    </tr>\n",
        "    <tr>\n",
        "      <th>4</th>\n",
        "      <td>COMT</td>\n",
        "      <td>1_WT_3BWM</td>\n",
        "      <td>2_SAM</td>\n",
        "      <td>ALE</td>\n",
        "      <td>110</td>\n",
        "      <td>igb2</td>\n",
        "      <td>10.0915</td>\n",
        "    </tr>\n",
        "    <tr>\n",
        "      <th>5</th>\n",
        "      <td>COMT</td>\n",
        "      <td>1_WT_3BWM</td>\n",
        "      <td>2_SAM</td>\n",
        "      <td>ALE</td>\n",
        "      <td>110</td>\n",
        "      <td>igb5</td>\n",
        "      <td>9.0186</td>\n",
        "    </tr>\n",
        "    <tr>\n",
        "      <th>6</th>\n",
        "      <td>COMT</td>\n",
        "      <td>1_WT_3BWM</td>\n",
        "      <td>2_SAM</td>\n",
        "      <td>ALE</td>\n",
        "      <td>110</td>\n",
        "      <td>igb7</td>\n",
        "      <td>8.3628</td>\n",
        "    </tr>\n",
        "    <tr>\n",
        "      <th>7</th>\n",
        "      <td>COMT</td>\n",
        "      <td>1_WT_3BWM</td>\n",
        "      <td>2_SAM</td>\n",
        "      <td>ALE</td>\n",
        "      <td>110</td>\n",
        "      <td>pb</td>\n",
        "      <td>10.5536</td>\n",
        "    </tr>\n",
        "    <tr>\n",
        "      <th>8</th>\n",
        "      <td>COMT</td>\n",
        "      <td>1_WT_3BWM</td>\n",
        "      <td>2_SAM</td>\n",
        "      <td>ALE</td>\n",
        "      <td>111</td>\n",
        "      <td>igb2</td>\n",
        "      <td>13.8117</td>\n",
        "    </tr>\n",
        "    <tr>\n",
        "      <th>9</th>\n",
        "      <td>COMT</td>\n",
        "      <td>1_WT_3BWM</td>\n",
        "      <td>2_SAM</td>\n",
        "      <td>ALE</td>\n",
        "      <td>111</td>\n",
        "      <td>igb5</td>\n",
        "      <td>13.2600</td>\n",
        "    </tr>\n",
        "  </tbody>\n",
        "</table>\n",
        "</div>"
       ],
       "metadata": {},
       "output_type": "pyout",
       "prompt_number": 19,
       "text": [
        "  protein        mod   type ligand cluster mmpbsa_param  delta_total_avg\n",
        "0    COMT  1_WT_3BWM  2_SAM    ALE     000         igb2          -3.9606\n",
        "1    COMT  1_WT_3BWM  2_SAM    ALE     000         igb5          -7.5214\n",
        "2    COMT  1_WT_3BWM  2_SAM    ALE     000         igb7          -8.0258\n",
        "3    COMT  1_WT_3BWM  2_SAM    ALE     000           pb          -1.1520\n",
        "4    COMT  1_WT_3BWM  2_SAM    ALE     110         igb2          10.0915\n",
        "5    COMT  1_WT_3BWM  2_SAM    ALE     110         igb5           9.0186\n",
        "6    COMT  1_WT_3BWM  2_SAM    ALE     110         igb7           8.3628\n",
        "7    COMT  1_WT_3BWM  2_SAM    ALE     110           pb          10.5536\n",
        "8    COMT  1_WT_3BWM  2_SAM    ALE     111         igb2          13.8117\n",
        "9    COMT  1_WT_3BWM  2_SAM    ALE     111         igb5          13.2600"
       ]
      }
     ],
     "prompt_number": 19
    },
    {
     "cell_type": "code",
     "collapsed": false,
     "input": [
      "just_pb = mmpbsa_df[mmpbsa_df.mmpbsa_param == 'pb']\n",
      "just_pb"
     ],
     "language": "python",
     "metadata": {},
     "outputs": [
      {
       "html": [
        "<div style=\"max-width:1500px;overflow:auto;\">\n",
        "<table border=\"1\" class=\"dataframe\">\n",
        "  <thead>\n",
        "    <tr style=\"text-align: right;\">\n",
        "      <th></th>\n",
        "      <th>protein</th>\n",
        "      <th>mod</th>\n",
        "      <th>type</th>\n",
        "      <th>ligand</th>\n",
        "      <th>cluster</th>\n",
        "      <th>mmpbsa_param</th>\n",
        "      <th>delta_total_avg</th>\n",
        "    </tr>\n",
        "  </thead>\n",
        "  <tbody>\n",
        "    <tr>\n",
        "      <th>3</th>\n",
        "      <td>COMT</td>\n",
        "      <td>1_WT_3BWM</td>\n",
        "      <td>2_SAM</td>\n",
        "      <td>ALE</td>\n",
        "      <td>000</td>\n",
        "      <td>pb</td>\n",
        "      <td>-1.1520</td>\n",
        "    </tr>\n",
        "    <tr>\n",
        "      <th>7</th>\n",
        "      <td>COMT</td>\n",
        "      <td>1_WT_3BWM</td>\n",
        "      <td>2_SAM</td>\n",
        "      <td>ALE</td>\n",
        "      <td>110</td>\n",
        "      <td>pb</td>\n",
        "      <td>10.5536</td>\n",
        "    </tr>\n",
        "    <tr>\n",
        "      <th>11</th>\n",
        "      <td>COMT</td>\n",
        "      <td>1_WT_3BWM</td>\n",
        "      <td>2_SAM</td>\n",
        "      <td>ALE</td>\n",
        "      <td>111</td>\n",
        "      <td>pb</td>\n",
        "      <td>13.1706</td>\n",
        "    </tr>\n",
        "    <tr>\n",
        "      <th>15</th>\n",
        "      <td>COMT</td>\n",
        "      <td>1_WT_3BWM</td>\n",
        "      <td>2_SAM</td>\n",
        "      <td>DNC</td>\n",
        "      <td>101</td>\n",
        "      <td>pb</td>\n",
        "      <td>-13.4812</td>\n",
        "    </tr>\n",
        "    <tr>\n",
        "      <th>19</th>\n",
        "      <td>COMT</td>\n",
        "      <td>1_WT_3BWM</td>\n",
        "      <td>2_SAM</td>\n",
        "      <td>DNC</td>\n",
        "      <td>111</td>\n",
        "      <td>pb</td>\n",
        "      <td>-10.9025</td>\n",
        "    </tr>\n",
        "    <tr>\n",
        "      <th>23</th>\n",
        "      <td>COMT</td>\n",
        "      <td>1_WT_3BWM</td>\n",
        "      <td>2_SAM</td>\n",
        "      <td>LDP</td>\n",
        "      <td>000</td>\n",
        "      <td>pb</td>\n",
        "      <td>94.4841</td>\n",
        "    </tr>\n",
        "    <tr>\n",
        "      <th>24</th>\n",
        "      <td>COMT</td>\n",
        "      <td>1_WT_3BWM</td>\n",
        "      <td>2_SAM</td>\n",
        "      <td>LDP</td>\n",
        "      <td>110</td>\n",
        "      <td>pb</td>\n",
        "      <td>82.7442</td>\n",
        "    </tr>\n",
        "    <tr>\n",
        "      <th>28</th>\n",
        "      <td>COMT</td>\n",
        "      <td>1_WT_3BWM</td>\n",
        "      <td>2_SAM</td>\n",
        "      <td>LDP</td>\n",
        "      <td>111</td>\n",
        "      <td>pb</td>\n",
        "      <td>81.5279</td>\n",
        "    </tr>\n",
        "    <tr>\n",
        "      <th>32</th>\n",
        "      <td>COMT</td>\n",
        "      <td>1_WT_3BWM</td>\n",
        "      <td>2_SAM</td>\n",
        "      <td>LNR</td>\n",
        "      <td>110</td>\n",
        "      <td>pb</td>\n",
        "      <td>4.1230</td>\n",
        "    </tr>\n",
        "    <tr>\n",
        "      <th>36</th>\n",
        "      <td>COMT</td>\n",
        "      <td>1_WT_3BWM</td>\n",
        "      <td>2_SAM</td>\n",
        "      <td>LNR</td>\n",
        "      <td>111</td>\n",
        "      <td>pb</td>\n",
        "      <td>1.2093</td>\n",
        "    </tr>\n",
        "    <tr>\n",
        "      <th>40</th>\n",
        "      <td>COMT</td>\n",
        "      <td>1_WT_3BWM</td>\n",
        "      <td>2_SAM</td>\n",
        "      <td>TCW</td>\n",
        "      <td>011</td>\n",
        "      <td>pb</td>\n",
        "      <td>62.6084</td>\n",
        "    </tr>\n",
        "    <tr>\n",
        "      <th>44</th>\n",
        "      <td>COMT</td>\n",
        "      <td>1_WT_3BWM</td>\n",
        "      <td>2_SAM</td>\n",
        "      <td>TCW</td>\n",
        "      <td>101</td>\n",
        "      <td>pb</td>\n",
        "      <td>66.2293</td>\n",
        "    </tr>\n",
        "    <tr>\n",
        "      <th>48</th>\n",
        "      <td>COMT</td>\n",
        "      <td>1_WT_3BWM</td>\n",
        "      <td>2_SAM</td>\n",
        "      <td>TCW</td>\n",
        "      <td>111</td>\n",
        "      <td>pb</td>\n",
        "      <td>83.5088</td>\n",
        "    </tr>\n",
        "    <tr>\n",
        "      <th>52</th>\n",
        "      <td>COMT</td>\n",
        "      <td>1_WT_3BWM</td>\n",
        "      <td>3_HALO</td>\n",
        "      <td>ALE</td>\n",
        "      <td>000</td>\n",
        "      <td>pb</td>\n",
        "      <td>-0.9516</td>\n",
        "    </tr>\n",
        "    <tr>\n",
        "      <th>56</th>\n",
        "      <td>COMT</td>\n",
        "      <td>1_WT_3BWM</td>\n",
        "      <td>3_HALO</td>\n",
        "      <td>ALE</td>\n",
        "      <td>110</td>\n",
        "      <td>pb</td>\n",
        "      <td>5.8495</td>\n",
        "    </tr>\n",
        "    <tr>\n",
        "      <th>60</th>\n",
        "      <td>COMT</td>\n",
        "      <td>1_WT_3BWM</td>\n",
        "      <td>3_HALO</td>\n",
        "      <td>ALE</td>\n",
        "      <td>111</td>\n",
        "      <td>pb</td>\n",
        "      <td>13.0997</td>\n",
        "    </tr>\n",
        "    <tr>\n",
        "      <th>64</th>\n",
        "      <td>COMT</td>\n",
        "      <td>1_WT_3BWM</td>\n",
        "      <td>3_HALO</td>\n",
        "      <td>DNC</td>\n",
        "      <td>000</td>\n",
        "      <td>pb</td>\n",
        "      <td>-10.1897</td>\n",
        "    </tr>\n",
        "    <tr>\n",
        "      <th>68</th>\n",
        "      <td>COMT</td>\n",
        "      <td>1_WT_3BWM</td>\n",
        "      <td>3_HALO</td>\n",
        "      <td>DNC</td>\n",
        "      <td>110</td>\n",
        "      <td>pb</td>\n",
        "      <td>8.3934</td>\n",
        "    </tr>\n",
        "    <tr>\n",
        "      <th>72</th>\n",
        "      <td>COMT</td>\n",
        "      <td>1_WT_3BWM</td>\n",
        "      <td>3_HALO</td>\n",
        "      <td>DNC</td>\n",
        "      <td>111</td>\n",
        "      <td>pb</td>\n",
        "      <td>2.4795</td>\n",
        "    </tr>\n",
        "    <tr>\n",
        "      <th>76</th>\n",
        "      <td>COMT</td>\n",
        "      <td>1_WT_3BWM</td>\n",
        "      <td>3_HALO</td>\n",
        "      <td>LDP</td>\n",
        "      <td>000</td>\n",
        "      <td>pb</td>\n",
        "      <td>86.8843</td>\n",
        "    </tr>\n",
        "    <tr>\n",
        "      <th>80</th>\n",
        "      <td>COMT</td>\n",
        "      <td>1_WT_3BWM</td>\n",
        "      <td>3_HALO</td>\n",
        "      <td>LDP</td>\n",
        "      <td>111</td>\n",
        "      <td>pb</td>\n",
        "      <td>89.5971</td>\n",
        "    </tr>\n",
        "    <tr>\n",
        "      <th>84</th>\n",
        "      <td>COMT</td>\n",
        "      <td>1_WT_3BWM</td>\n",
        "      <td>3_HALO</td>\n",
        "      <td>LNR</td>\n",
        "      <td>000</td>\n",
        "      <td>pb</td>\n",
        "      <td>16.3738</td>\n",
        "    </tr>\n",
        "    <tr>\n",
        "      <th>88</th>\n",
        "      <td>COMT</td>\n",
        "      <td>1_WT_3BWM</td>\n",
        "      <td>3_HALO</td>\n",
        "      <td>LNR</td>\n",
        "      <td>111</td>\n",
        "      <td>pb</td>\n",
        "      <td>2.0502</td>\n",
        "    </tr>\n",
        "    <tr>\n",
        "      <th>92</th>\n",
        "      <td>COMT</td>\n",
        "      <td>1_WT_3BWM</td>\n",
        "      <td>3_HALO</td>\n",
        "      <td>TCW</td>\n",
        "      <td>010</td>\n",
        "      <td>pb</td>\n",
        "      <td>76.6792</td>\n",
        "    </tr>\n",
        "    <tr>\n",
        "      <th>96</th>\n",
        "      <td>COMT</td>\n",
        "      <td>1_WT_3BWM</td>\n",
        "      <td>3_HALO</td>\n",
        "      <td>TCW</td>\n",
        "      <td>110</td>\n",
        "      <td>pb</td>\n",
        "      <td>74.0963</td>\n",
        "    </tr>\n",
        "    <tr>\n",
        "      <th>100</th>\n",
        "      <td>COMT</td>\n",
        "      <td>1_WT_3BWM</td>\n",
        "      <td>3_HALO</td>\n",
        "      <td>TCW</td>\n",
        "      <td>111</td>\n",
        "      <td>pb</td>\n",
        "      <td>78.2895</td>\n",
        "    </tr>\n",
        "    <tr>\n",
        "      <th>104</th>\n",
        "      <td>COMT</td>\n",
        "      <td>2_SNP_3BWY</td>\n",
        "      <td>2_SAM</td>\n",
        "      <td>ALE</td>\n",
        "      <td>000</td>\n",
        "      <td>pb</td>\n",
        "      <td>5.0584</td>\n",
        "    </tr>\n",
        "    <tr>\n",
        "      <th>108</th>\n",
        "      <td>COMT</td>\n",
        "      <td>2_SNP_3BWY</td>\n",
        "      <td>2_SAM</td>\n",
        "      <td>ALE</td>\n",
        "      <td>110</td>\n",
        "      <td>pb</td>\n",
        "      <td>13.0758</td>\n",
        "    </tr>\n",
        "    <tr>\n",
        "      <th>112</th>\n",
        "      <td>COMT</td>\n",
        "      <td>2_SNP_3BWY</td>\n",
        "      <td>2_SAM</td>\n",
        "      <td>ALE</td>\n",
        "      <td>111</td>\n",
        "      <td>pb</td>\n",
        "      <td>3.3155</td>\n",
        "    </tr>\n",
        "    <tr>\n",
        "      <th>116</th>\n",
        "      <td>COMT</td>\n",
        "      <td>2_SNP_3BWY</td>\n",
        "      <td>2_SAM</td>\n",
        "      <td>DNC</td>\n",
        "      <td>001</td>\n",
        "      <td>pb</td>\n",
        "      <td>-2.8820</td>\n",
        "    </tr>\n",
        "    <tr>\n",
        "      <th>120</th>\n",
        "      <td>COMT</td>\n",
        "      <td>2_SNP_3BWY</td>\n",
        "      <td>2_SAM</td>\n",
        "      <td>DNC</td>\n",
        "      <td>111</td>\n",
        "      <td>pb</td>\n",
        "      <td>-6.5697</td>\n",
        "    </tr>\n",
        "    <tr>\n",
        "      <th>124</th>\n",
        "      <td>COMT</td>\n",
        "      <td>2_SNP_3BWY</td>\n",
        "      <td>2_SAM</td>\n",
        "      <td>LDP</td>\n",
        "      <td>000</td>\n",
        "      <td>pb</td>\n",
        "      <td>94.7268</td>\n",
        "    </tr>\n",
        "    <tr>\n",
        "      <th>125</th>\n",
        "      <td>COMT</td>\n",
        "      <td>2_SNP_3BWY</td>\n",
        "      <td>2_SAM</td>\n",
        "      <td>LDP</td>\n",
        "      <td>110</td>\n",
        "      <td>pb</td>\n",
        "      <td>83.2951</td>\n",
        "    </tr>\n",
        "    <tr>\n",
        "      <th>129</th>\n",
        "      <td>COMT</td>\n",
        "      <td>2_SNP_3BWY</td>\n",
        "      <td>2_SAM</td>\n",
        "      <td>LDP</td>\n",
        "      <td>111</td>\n",
        "      <td>pb</td>\n",
        "      <td>86.0421</td>\n",
        "    </tr>\n",
        "    <tr>\n",
        "      <th>133</th>\n",
        "      <td>COMT</td>\n",
        "      <td>2_SNP_3BWY</td>\n",
        "      <td>2_SAM</td>\n",
        "      <td>LNR</td>\n",
        "      <td>000</td>\n",
        "      <td>pb</td>\n",
        "      <td>5.0272</td>\n",
        "    </tr>\n",
        "    <tr>\n",
        "      <th>137</th>\n",
        "      <td>COMT</td>\n",
        "      <td>2_SNP_3BWY</td>\n",
        "      <td>2_SAM</td>\n",
        "      <td>LNR</td>\n",
        "      <td>111</td>\n",
        "      <td>pb</td>\n",
        "      <td>6.8847</td>\n",
        "    </tr>\n",
        "    <tr>\n",
        "      <th>141</th>\n",
        "      <td>COMT</td>\n",
        "      <td>2_SNP_3BWY</td>\n",
        "      <td>2_SAM</td>\n",
        "      <td>TCW</td>\n",
        "      <td>011</td>\n",
        "      <td>pb</td>\n",
        "      <td>77.6100</td>\n",
        "    </tr>\n",
        "    <tr>\n",
        "      <th>145</th>\n",
        "      <td>COMT</td>\n",
        "      <td>2_SNP_3BWY</td>\n",
        "      <td>2_SAM</td>\n",
        "      <td>TCW</td>\n",
        "      <td>101</td>\n",
        "      <td>pb</td>\n",
        "      <td>76.0377</td>\n",
        "    </tr>\n",
        "    <tr>\n",
        "      <th>149</th>\n",
        "      <td>COMT</td>\n",
        "      <td>2_SNP_3BWY</td>\n",
        "      <td>2_SAM</td>\n",
        "      <td>TCW</td>\n",
        "      <td>111</td>\n",
        "      <td>pb</td>\n",
        "      <td>71.5083</td>\n",
        "    </tr>\n",
        "    <tr>\n",
        "      <th>153</th>\n",
        "      <td>COMT</td>\n",
        "      <td>2_SNP_3BWY</td>\n",
        "      <td>3_HALO</td>\n",
        "      <td>ALE</td>\n",
        "      <td>000</td>\n",
        "      <td>pb</td>\n",
        "      <td>2.5179</td>\n",
        "    </tr>\n",
        "    <tr>\n",
        "      <th>157</th>\n",
        "      <td>COMT</td>\n",
        "      <td>2_SNP_3BWY</td>\n",
        "      <td>3_HALO</td>\n",
        "      <td>ALE</td>\n",
        "      <td>011</td>\n",
        "      <td>pb</td>\n",
        "      <td>1.4915</td>\n",
        "    </tr>\n",
        "    <tr>\n",
        "      <th>161</th>\n",
        "      <td>COMT</td>\n",
        "      <td>2_SNP_3BWY</td>\n",
        "      <td>3_HALO</td>\n",
        "      <td>ALE</td>\n",
        "      <td>111</td>\n",
        "      <td>pb</td>\n",
        "      <td>8.6504</td>\n",
        "    </tr>\n",
        "    <tr>\n",
        "      <th>165</th>\n",
        "      <td>COMT</td>\n",
        "      <td>2_SNP_3BWY</td>\n",
        "      <td>3_HALO</td>\n",
        "      <td>DNC</td>\n",
        "      <td>000</td>\n",
        "      <td>pb</td>\n",
        "      <td>-0.2617</td>\n",
        "    </tr>\n",
        "    <tr>\n",
        "      <th>169</th>\n",
        "      <td>COMT</td>\n",
        "      <td>2_SNP_3BWY</td>\n",
        "      <td>3_HALO</td>\n",
        "      <td>DNC</td>\n",
        "      <td>110</td>\n",
        "      <td>pb</td>\n",
        "      <td>10.8421</td>\n",
        "    </tr>\n",
        "    <tr>\n",
        "      <th>173</th>\n",
        "      <td>COMT</td>\n",
        "      <td>2_SNP_3BWY</td>\n",
        "      <td>3_HALO</td>\n",
        "      <td>DNC</td>\n",
        "      <td>111</td>\n",
        "      <td>pb</td>\n",
        "      <td>1.9656</td>\n",
        "    </tr>\n",
        "    <tr>\n",
        "      <th>177</th>\n",
        "      <td>COMT</td>\n",
        "      <td>2_SNP_3BWY</td>\n",
        "      <td>3_HALO</td>\n",
        "      <td>LDP</td>\n",
        "      <td>000</td>\n",
        "      <td>pb</td>\n",
        "      <td>85.7071</td>\n",
        "    </tr>\n",
        "    <tr>\n",
        "      <th>181</th>\n",
        "      <td>COMT</td>\n",
        "      <td>2_SNP_3BWY</td>\n",
        "      <td>3_HALO</td>\n",
        "      <td>LDP</td>\n",
        "      <td>111</td>\n",
        "      <td>pb</td>\n",
        "      <td>97.3535</td>\n",
        "    </tr>\n",
        "    <tr>\n",
        "      <th>185</th>\n",
        "      <td>COMT</td>\n",
        "      <td>2_SNP_3BWY</td>\n",
        "      <td>3_HALO</td>\n",
        "      <td>LNR</td>\n",
        "      <td>000</td>\n",
        "      <td>pb</td>\n",
        "      <td>-0.6661</td>\n",
        "    </tr>\n",
        "    <tr>\n",
        "      <th>189</th>\n",
        "      <td>COMT</td>\n",
        "      <td>2_SNP_3BWY</td>\n",
        "      <td>3_HALO</td>\n",
        "      <td>LNR</td>\n",
        "      <td>111</td>\n",
        "      <td>pb</td>\n",
        "      <td>3.8081</td>\n",
        "    </tr>\n",
        "    <tr>\n",
        "      <th>193</th>\n",
        "      <td>COMT</td>\n",
        "      <td>2_SNP_3BWY</td>\n",
        "      <td>3_HALO</td>\n",
        "      <td>TCW</td>\n",
        "      <td>011</td>\n",
        "      <td>pb</td>\n",
        "      <td>72.8358</td>\n",
        "    </tr>\n",
        "    <tr>\n",
        "      <th>197</th>\n",
        "      <td>COMT</td>\n",
        "      <td>2_SNP_3BWY</td>\n",
        "      <td>3_HALO</td>\n",
        "      <td>TCW</td>\n",
        "      <td>111</td>\n",
        "      <td>pb</td>\n",
        "      <td>82.6199</td>\n",
        "    </tr>\n",
        "  </tbody>\n",
        "</table>\n",
        "</div>"
       ],
       "metadata": {},
       "output_type": "pyout",
       "prompt_number": 49,
       "text": [
        "    protein         mod    type ligand cluster mmpbsa_param  delta_total_avg\n",
        "3      COMT   1_WT_3BWM   2_SAM    ALE     000           pb          -1.1520\n",
        "7      COMT   1_WT_3BWM   2_SAM    ALE     110           pb          10.5536\n",
        "11     COMT   1_WT_3BWM   2_SAM    ALE     111           pb          13.1706\n",
        "15     COMT   1_WT_3BWM   2_SAM    DNC     101           pb         -13.4812\n",
        "19     COMT   1_WT_3BWM   2_SAM    DNC     111           pb         -10.9025\n",
        "23     COMT   1_WT_3BWM   2_SAM    LDP     000           pb          94.4841\n",
        "24     COMT   1_WT_3BWM   2_SAM    LDP     110           pb          82.7442\n",
        "28     COMT   1_WT_3BWM   2_SAM    LDP     111           pb          81.5279\n",
        "32     COMT   1_WT_3BWM   2_SAM    LNR     110           pb           4.1230\n",
        "36     COMT   1_WT_3BWM   2_SAM    LNR     111           pb           1.2093\n",
        "40     COMT   1_WT_3BWM   2_SAM    TCW     011           pb          62.6084\n",
        "44     COMT   1_WT_3BWM   2_SAM    TCW     101           pb          66.2293\n",
        "48     COMT   1_WT_3BWM   2_SAM    TCW     111           pb          83.5088\n",
        "52     COMT   1_WT_3BWM  3_HALO    ALE     000           pb          -0.9516\n",
        "56     COMT   1_WT_3BWM  3_HALO    ALE     110           pb           5.8495\n",
        "60     COMT   1_WT_3BWM  3_HALO    ALE     111           pb          13.0997\n",
        "64     COMT   1_WT_3BWM  3_HALO    DNC     000           pb         -10.1897\n",
        "68     COMT   1_WT_3BWM  3_HALO    DNC     110           pb           8.3934\n",
        "72     COMT   1_WT_3BWM  3_HALO    DNC     111           pb           2.4795\n",
        "76     COMT   1_WT_3BWM  3_HALO    LDP     000           pb          86.8843\n",
        "80     COMT   1_WT_3BWM  3_HALO    LDP     111           pb          89.5971\n",
        "84     COMT   1_WT_3BWM  3_HALO    LNR     000           pb          16.3738\n",
        "88     COMT   1_WT_3BWM  3_HALO    LNR     111           pb           2.0502\n",
        "92     COMT   1_WT_3BWM  3_HALO    TCW     010           pb          76.6792\n",
        "96     COMT   1_WT_3BWM  3_HALO    TCW     110           pb          74.0963\n",
        "100    COMT   1_WT_3BWM  3_HALO    TCW     111           pb          78.2895\n",
        "104    COMT  2_SNP_3BWY   2_SAM    ALE     000           pb           5.0584\n",
        "108    COMT  2_SNP_3BWY   2_SAM    ALE     110           pb          13.0758\n",
        "112    COMT  2_SNP_3BWY   2_SAM    ALE     111           pb           3.3155\n",
        "116    COMT  2_SNP_3BWY   2_SAM    DNC     001           pb          -2.8820\n",
        "120    COMT  2_SNP_3BWY   2_SAM    DNC     111           pb          -6.5697\n",
        "124    COMT  2_SNP_3BWY   2_SAM    LDP     000           pb          94.7268\n",
        "125    COMT  2_SNP_3BWY   2_SAM    LDP     110           pb          83.2951\n",
        "129    COMT  2_SNP_3BWY   2_SAM    LDP     111           pb          86.0421\n",
        "133    COMT  2_SNP_3BWY   2_SAM    LNR     000           pb           5.0272\n",
        "137    COMT  2_SNP_3BWY   2_SAM    LNR     111           pb           6.8847\n",
        "141    COMT  2_SNP_3BWY   2_SAM    TCW     011           pb          77.6100\n",
        "145    COMT  2_SNP_3BWY   2_SAM    TCW     101           pb          76.0377\n",
        "149    COMT  2_SNP_3BWY   2_SAM    TCW     111           pb          71.5083\n",
        "153    COMT  2_SNP_3BWY  3_HALO    ALE     000           pb           2.5179\n",
        "157    COMT  2_SNP_3BWY  3_HALO    ALE     011           pb           1.4915\n",
        "161    COMT  2_SNP_3BWY  3_HALO    ALE     111           pb           8.6504\n",
        "165    COMT  2_SNP_3BWY  3_HALO    DNC     000           pb          -0.2617\n",
        "169    COMT  2_SNP_3BWY  3_HALO    DNC     110           pb          10.8421\n",
        "173    COMT  2_SNP_3BWY  3_HALO    DNC     111           pb           1.9656\n",
        "177    COMT  2_SNP_3BWY  3_HALO    LDP     000           pb          85.7071\n",
        "181    COMT  2_SNP_3BWY  3_HALO    LDP     111           pb          97.3535\n",
        "185    COMT  2_SNP_3BWY  3_HALO    LNR     000           pb          -0.6661\n",
        "189    COMT  2_SNP_3BWY  3_HALO    LNR     111           pb           3.8081\n",
        "193    COMT  2_SNP_3BWY  3_HALO    TCW     011           pb          72.8358\n",
        "197    COMT  2_SNP_3BWY  3_HALO    TCW     111           pb          82.6199"
       ]
      }
     ],
     "prompt_number": 49
    },
    {
     "cell_type": "code",
     "collapsed": false,
     "input": [
      "# mmpbsa_pivot = pd.pivot_table(mmpbsa_df,index=[\"protein\",\"mod\",'ligand','type'], columns=['mmpbsa_param'])\n",
      "mmpbsa_pivot = pd.pivot_table(just_pb,index=[\"protein\",\"mod\",'ligand','type'], columns=['mmpbsa_param'])\n",
      "mmpbsa_pivot"
     ],
     "language": "python",
     "metadata": {},
     "outputs": [
      {
       "html": [
        "<div style=\"max-width:1500px;overflow:auto;\">\n",
        "<table border=\"1\" class=\"dataframe\">\n",
        "  <thead>\n",
        "    <tr>\n",
        "      <th></th>\n",
        "      <th></th>\n",
        "      <th></th>\n",
        "      <th></th>\n",
        "      <th>delta_total_avg</th>\n",
        "    </tr>\n",
        "    <tr>\n",
        "      <th></th>\n",
        "      <th></th>\n",
        "      <th></th>\n",
        "      <th>mmpbsa_param</th>\n",
        "      <th>pb</th>\n",
        "    </tr>\n",
        "    <tr>\n",
        "      <th>protein</th>\n",
        "      <th>mod</th>\n",
        "      <th>ligand</th>\n",
        "      <th>type</th>\n",
        "      <th></th>\n",
        "    </tr>\n",
        "  </thead>\n",
        "  <tbody>\n",
        "    <tr>\n",
        "      <th rowspan=\"20\" valign=\"top\">COMT</th>\n",
        "      <th rowspan=\"10\" valign=\"top\">1_WT_3BWM</th>\n",
        "      <th rowspan=\"2\" valign=\"top\">ALE</th>\n",
        "      <th>2_SAM</th>\n",
        "      <td>7.524067</td>\n",
        "    </tr>\n",
        "    <tr>\n",
        "      <th>3_HALO</th>\n",
        "      <td>5.999200</td>\n",
        "    </tr>\n",
        "    <tr>\n",
        "      <th rowspan=\"2\" valign=\"top\">DNC</th>\n",
        "      <th>2_SAM</th>\n",
        "      <td>-12.191850</td>\n",
        "    </tr>\n",
        "    <tr>\n",
        "      <th>3_HALO</th>\n",
        "      <td>0.227733</td>\n",
        "    </tr>\n",
        "    <tr>\n",
        "      <th rowspan=\"2\" valign=\"top\">LDP</th>\n",
        "      <th>2_SAM</th>\n",
        "      <td>86.252067</td>\n",
        "    </tr>\n",
        "    <tr>\n",
        "      <th>3_HALO</th>\n",
        "      <td>88.240700</td>\n",
        "    </tr>\n",
        "    <tr>\n",
        "      <th rowspan=\"2\" valign=\"top\">LNR</th>\n",
        "      <th>2_SAM</th>\n",
        "      <td>2.666150</td>\n",
        "    </tr>\n",
        "    <tr>\n",
        "      <th>3_HALO</th>\n",
        "      <td>9.212000</td>\n",
        "    </tr>\n",
        "    <tr>\n",
        "      <th rowspan=\"2\" valign=\"top\">TCW</th>\n",
        "      <th>2_SAM</th>\n",
        "      <td>70.782167</td>\n",
        "    </tr>\n",
        "    <tr>\n",
        "      <th>3_HALO</th>\n",
        "      <td>76.355000</td>\n",
        "    </tr>\n",
        "    <tr>\n",
        "      <th rowspan=\"10\" valign=\"top\">2_SNP_3BWY</th>\n",
        "      <th rowspan=\"2\" valign=\"top\">ALE</th>\n",
        "      <th>2_SAM</th>\n",
        "      <td>7.149900</td>\n",
        "    </tr>\n",
        "    <tr>\n",
        "      <th>3_HALO</th>\n",
        "      <td>4.219933</td>\n",
        "    </tr>\n",
        "    <tr>\n",
        "      <th rowspan=\"2\" valign=\"top\">DNC</th>\n",
        "      <th>2_SAM</th>\n",
        "      <td>-4.725850</td>\n",
        "    </tr>\n",
        "    <tr>\n",
        "      <th>3_HALO</th>\n",
        "      <td>4.182000</td>\n",
        "    </tr>\n",
        "    <tr>\n",
        "      <th rowspan=\"2\" valign=\"top\">LDP</th>\n",
        "      <th>2_SAM</th>\n",
        "      <td>88.021333</td>\n",
        "    </tr>\n",
        "    <tr>\n",
        "      <th>3_HALO</th>\n",
        "      <td>91.530300</td>\n",
        "    </tr>\n",
        "    <tr>\n",
        "      <th rowspan=\"2\" valign=\"top\">LNR</th>\n",
        "      <th>2_SAM</th>\n",
        "      <td>5.955950</td>\n",
        "    </tr>\n",
        "    <tr>\n",
        "      <th>3_HALO</th>\n",
        "      <td>1.571000</td>\n",
        "    </tr>\n",
        "    <tr>\n",
        "      <th rowspan=\"2\" valign=\"top\">TCW</th>\n",
        "      <th>2_SAM</th>\n",
        "      <td>75.052000</td>\n",
        "    </tr>\n",
        "    <tr>\n",
        "      <th>3_HALO</th>\n",
        "      <td>77.727850</td>\n",
        "    </tr>\n",
        "  </tbody>\n",
        "</table>\n",
        "</div>"
       ],
       "metadata": {},
       "output_type": "pyout",
       "prompt_number": 50,
       "text": [
        "                                 delta_total_avg\n",
        "mmpbsa_param                                  pb\n",
        "protein mod        ligand type                  \n",
        "COMT    1_WT_3BWM  ALE    2_SAM         7.524067\n",
        "                          3_HALO        5.999200\n",
        "                   DNC    2_SAM       -12.191850\n",
        "                          3_HALO        0.227733\n",
        "                   LDP    2_SAM        86.252067\n",
        "                          3_HALO       88.240700\n",
        "                   LNR    2_SAM         2.666150\n",
        "                          3_HALO        9.212000\n",
        "                   TCW    2_SAM        70.782167\n",
        "                          3_HALO       76.355000\n",
        "        2_SNP_3BWY ALE    2_SAM         7.149900\n",
        "                          3_HALO        4.219933\n",
        "                   DNC    2_SAM        -4.725850\n",
        "                          3_HALO        4.182000\n",
        "                   LDP    2_SAM        88.021333\n",
        "                          3_HALO       91.530300\n",
        "                   LNR    2_SAM         5.955950\n",
        "                          3_HALO        1.571000\n",
        "                   TCW    2_SAM        75.052000\n",
        "                          3_HALO       77.727850"
       ]
      }
     ],
     "prompt_number": 50
    },
    {
     "cell_type": "code",
     "collapsed": false,
     "input": [
      "mmpbsa_subtracted = mmpbsa_pivot.loc['COMT','1_WT_3BWM'] - mmpbsa_pivot.loc['COMT','2_SNP_3BWY']\n",
      "mmpbsa_subtracted"
     ],
     "language": "python",
     "metadata": {},
     "outputs": [
      {
       "html": [
        "<div style=\"max-width:1500px;overflow:auto;\">\n",
        "<table border=\"1\" class=\"dataframe\">\n",
        "  <thead>\n",
        "    <tr>\n",
        "      <th></th>\n",
        "      <th></th>\n",
        "      <th>delta_total_avg</th>\n",
        "    </tr>\n",
        "    <tr>\n",
        "      <th></th>\n",
        "      <th>mmpbsa_param</th>\n",
        "      <th>pb</th>\n",
        "    </tr>\n",
        "    <tr>\n",
        "      <th>ligand</th>\n",
        "      <th>type</th>\n",
        "      <th></th>\n",
        "    </tr>\n",
        "  </thead>\n",
        "  <tbody>\n",
        "    <tr>\n",
        "      <th rowspan=\"2\" valign=\"top\">ALE</th>\n",
        "      <th>2_SAM</th>\n",
        "      <td>0.374167</td>\n",
        "    </tr>\n",
        "    <tr>\n",
        "      <th>3_HALO</th>\n",
        "      <td>1.779267</td>\n",
        "    </tr>\n",
        "    <tr>\n",
        "      <th rowspan=\"2\" valign=\"top\">DNC</th>\n",
        "      <th>2_SAM</th>\n",
        "      <td>-7.466000</td>\n",
        "    </tr>\n",
        "    <tr>\n",
        "      <th>3_HALO</th>\n",
        "      <td>-3.954267</td>\n",
        "    </tr>\n",
        "    <tr>\n",
        "      <th rowspan=\"2\" valign=\"top\">LDP</th>\n",
        "      <th>2_SAM</th>\n",
        "      <td>-1.769267</td>\n",
        "    </tr>\n",
        "    <tr>\n",
        "      <th>3_HALO</th>\n",
        "      <td>-3.289600</td>\n",
        "    </tr>\n",
        "    <tr>\n",
        "      <th rowspan=\"2\" valign=\"top\">LNR</th>\n",
        "      <th>2_SAM</th>\n",
        "      <td>-3.289800</td>\n",
        "    </tr>\n",
        "    <tr>\n",
        "      <th>3_HALO</th>\n",
        "      <td>7.641000</td>\n",
        "    </tr>\n",
        "    <tr>\n",
        "      <th rowspan=\"2\" valign=\"top\">TCW</th>\n",
        "      <th>2_SAM</th>\n",
        "      <td>-4.269833</td>\n",
        "    </tr>\n",
        "    <tr>\n",
        "      <th>3_HALO</th>\n",
        "      <td>-1.372850</td>\n",
        "    </tr>\n",
        "  </tbody>\n",
        "</table>\n",
        "</div>"
       ],
       "metadata": {},
       "output_type": "pyout",
       "prompt_number": 51,
       "text": [
        "              delta_total_avg\n",
        "mmpbsa_param               pb\n",
        "ligand type                  \n",
        "ALE    2_SAM         0.374167\n",
        "       3_HALO        1.779267\n",
        "DNC    2_SAM        -7.466000\n",
        "       3_HALO       -3.954267\n",
        "LDP    2_SAM        -1.769267\n",
        "       3_HALO       -3.289600\n",
        "LNR    2_SAM        -3.289800\n",
        "       3_HALO        7.641000\n",
        "TCW    2_SAM        -4.269833\n",
        "       3_HALO       -1.372850"
       ]
      }
     ],
     "prompt_number": 51
    },
    {
     "cell_type": "code",
     "collapsed": false,
     "input": [
      "# snp_mmpbsa = mmpbsa[mmpbsa.protein == 'SNP'][['cluster','param','delta_total_avg','stderr']]\n",
      "# snp_mmpbsa_pivot = snp_mmpbsa.pivot(index='cluster', columns='param', values='delta_total_avg')\n",
      "# snp_mmpbsa_pivot_sd = snp_mmpbsa.pivot(index='cluster', columns='param', values='stderr')\n",
      "mmpbsa_subtracted.plot(kind='bar', figsize=(15,5), title='COMT_SNP_DNC')\n",
      "# savefig('/home/nathan/150726-COMT_MMPBSA_SNP.svg', format='svg', dpi=300)"
     ],
     "language": "python",
     "metadata": {},
     "outputs": [
      {
       "metadata": {},
       "output_type": "pyout",
       "prompt_number": 52,
       "text": [
        "<matplotlib.axes.AxesSubplot at 0x7f47345a0ad0>"
       ]
      },
      {
       "metadata": {},
       "output_type": "display_data",
       "png": "[encoded data removed]",
       "text": [
        "<matplotlib.figure.Figure at 0x7f47345a09d0>"
       ]
      }
     ],
     "prompt_number": 52
    },
    {
     "cell_type": "heading",
     "level": 3,
     "metadata": {},
     "source": [
      "9: Per-frame decomposition"
     ]
    },
    {
     "cell_type": "code",
     "collapsed": false,
     "input": [
      "import pandas as pd\n",
      "from collections import defaultdict\n",
      "import re  "
     ],
     "language": "python",
     "metadata": {},
     "outputs": [],
     "prompt_number": 92
    },
    {
     "cell_type": "heading",
     "level": 5,
     "metadata": {},
     "source": [
      "template maker"
     ]
    },
    {
     "cell_type": "code",
     "collapsed": false,
     "input": [
      "pb_perframe = yaml.load(\"\"\"\n",
      "---\n",
      "filename: mmpbsa_pb_perframe.in\n",
      "gen_options:\n",
      "    - keep_files=0\n",
      "    - verbose=2\n",
      "pb_options: \n",
      "    - fillratio=4.0\n",
      "    - inp=1\n",
      "    - radiopt=0\n",
      "\"\"\")"
     ],
     "language": "python",
     "metadata": {},
     "outputs": [],
     "prompt_number": 53
    },
    {
     "cell_type": "heading",
     "level": 5,
     "metadata": {},
     "source": [
      "make the directories"
     ]
    },
    {
     "cell_type": "heading",
     "level": 5,
     "metadata": {},
     "source": [
      "still working on this..just running 70 for now"
     ]
    },
    {
     "cell_type": "code",
     "collapsed": false,
     "input": [
      "# how to get the number of frames in a traj?\n",
      "# https://wiki.chpc.utah.edu/display/amber/CPPTRAJ+one-liners\n",
      "os.chdir('/home/nathan/projects/MMPBSA/COMT/2_SNP_3BWY/3_HALO/LDP/000/1_md')\n",
      "os.popen('cpptraj -p /home/nathan/projects/MMPBSA/COMT/2_SNP_3BWY/3_HALO/LDP/000/1_md/0_complex_prep/COMT_LDP_000.prmtop -y COMT_LDP_000_1ns_10ns_weeded_step_100.traj -tl  | grep -e \"Frame\"').read()"
     ],
     "language": "python",
     "metadata": {},
     "outputs": [
      {
       "metadata": {},
       "output_type": "pyout",
       "prompt_number": 87,
       "text": [
        "''"
       ]
      }
     ],
     "prompt_number": 87
    },
    {
     "cell_type": "code",
     "collapsed": false,
     "input": [
      "numframes=70"
     ],
     "language": "python",
     "metadata": {},
     "outputs": [],
     "prompt_number": 90
    },
    {
     "cell_type": "heading",
     "level": 5,
     "metadata": {},
     "source": [
      "running mmpbsa per frame"
     ]
    },
    {
     "cell_type": "code",
     "collapsed": false,
     "input": [
      "for PROTEIN,mods in mmpbsa_prep.iteritems():\n",
      "\n",
      "    for MOD,types in mods.iteritems():\n",
      "        f1 = os.path.join(MMPBSA_FOLDER, PROTEIN, MOD)\n",
      "        \n",
      "        for TYPE,info in types.iteritems():\n",
      "            f2 = os.path.join(f1, TYPE)\n",
      "\n",
      "            basename = info['basename']\n",
      "            num_residues = info['num_residues']\n",
      "            ligands = info['LIGANDS']\n",
      "            receptor_rst = info['receptor_rst']\n",
      "            receptor_prmtop_file = info['receptor_prmtop_file']\n",
      "            receptor_prmtop_location = info['receptor_prmtop_location']\n",
      "\n",
      "            receptor_prep = os.path.join(f2, '0_receptor_prep')\n",
      "            \n",
      "            for LIGAND,lig_info in ligands.iteritems():\n",
      "                f3 = os.path.join(f2, LIGAND)\n",
      "\n",
      "                clusters = lig_info['CLUSTERS']\n",
      "                for_mmpbsa_trajs = lig_info['TRAJ']\n",
      "                param_loc = lig_info['param_loc']\n",
      "\n",
      "                for CLUSTER,FRAME in clusters.iteritems():\n",
      "                    main_folder = os.path.join(f3, CLUSTER)\n",
      "                    \n",
      "                    complex_prep = os.path.join(main_folder, '0_complex_prep')\n",
      "                    md = os.path.join(main_folder, '1_md')\n",
      "                    mmpbsa = os.path.join(main_folder, '2_mmpbsa')\n",
      "\n",
      "                    os.chdir(mmpbsa)\n",
      "\n",
      "                    if for_mmpbsa_trajs:\n",
      "                        if CLUSTER in for_mmpbsa_trajs.keys():\n",
      "                            traj_to_run_mmpbsa_on = for_mmpbsa_trajs[CLUSTER]\n",
      "                \n",
      "                            mmpbsa_param = 'pb_perframe'\n",
      "                            mmpbsa_dict = pb_perframe\n",
      "\n",
      "                            perframe_folder = os.path.join(mmpbsa, mmpbsa_param)\n",
      "                            if not os.path.exists(perframe_folder):\n",
      "                                os.mkdir(perframe_folder)\n",
      "\n",
      "                            # and for each of the frames...\n",
      "                            for f in range(1, numframes):\n",
      "                                each_frame_folder = os.path.join(perframe_folder, '%.3d' % f)\n",
      "\n",
      "                                if not os.path.exists(each_frame_folder):\n",
      "                                    os.mkdir(each_frame_folder)\n",
      "\n",
      "                                print each_frame_folder\n",
      "    \n",
      "                                # make the input file for that parameter\n",
      "                                # specify startframe and endframe to be 1,2 or 2,3 or 3,4 etc etc\n",
      "                                mmpbsa_dict['start_frame'] = f\n",
      "                                mmpbsa_dict['end_frame'] = f\n",
      "                                os.chdir('/tmp/')\n",
      "                                mmpbsa_input = mmpbsa_maker(TEMPLATE_FILES + '/mmpbsa_perframe.jinja', mmpbsa_dict)\n",
      "\n",
      "                                print mmpbsa_input\n",
      "\n",
      "                                names = {'protein':PROTEIN,\n",
      "                                         'input_scripts':MMPBSA_INPUT_SCRIPTS,\n",
      "                                         'mmpbsa_param':mmpbsa_param,\n",
      "                                         'complex_prep_folder':complex_prep,\n",
      "                                         'receptor_prep_folder':receptor_prep,\n",
      "                                         'ligands_path':LIGANDS_PATH,\n",
      "                                         'md_run_folder':md,\n",
      "                                         'mod':MOD, \n",
      "                                         'type':TYPE, \n",
      "                                         'ligand':LIGAND, \n",
      "                                         'cluster':CLUSTER,\n",
      "                                         'param_loc':param_loc,\n",
      "                                         'num_residues':num_residues,\n",
      "                                         'for_mmpbsa':traj_to_run_mmpbsa_on}\n",
      "\n",
      "                                mmpbsa_run_template = \"\"\"\n",
      "---\n",
      "input_scripts_dir: /tmp\n",
      "mmpbsa_input_params: mmpbsa_{mmpbsa_param}\n",
      "complex_solv_prmtop_path: {complex_prep_folder}/{protein}_{ligand}_{cluster}.prmtop\n",
      "complex_gas_prmtop_path: {complex_prep_folder}/{protein}_{ligand}_{cluster}_GAS.prmtop\n",
      "receptor_gas_prmtop_path: {receptor_prep_folder}/receptor_gas.prmtop\n",
      "ligand_gas_prmtop_path: {ligands_path}/{param_loc}/{ligand}.prmtop\n",
      "trajectory_path: {md_run_folder}/{for_mmpbsa}\n",
      "\"\"\"\n",
      "                                mmpbsa_run_template = mmpbsa_run_template.format(**names)\n",
      "                                mmpbsa_run_yaml = yaml.load(mmpbsa_run_template)\n",
      "                                mmpbsa_run_yaml['date'] = TODAY\n",
      "\n",
      "\n",
      "                                os.chdir(each_frame_folder)\n",
      "                                files = glob.glob('*')\n",
      "                                if 'FINAL_RESULTS_mmpbsa_%s.dat' % mmpbsa_param in files:\n",
      "                                    print 'RESULTS PREVIOUSLY CALCULATED'\n",
      "                                    continue\n",
      "                                mmpbsa_runner_file = mmpbsa_runner(TEMPLATE_FILES + '/mmpbsa_run.jinja', mmpbsa_run_yaml)\n",
      "                            \n",
      "                                os.chmod(mmpbsa_runner_file, 0755)\n",
      "                                retva = subprocess.call('./%s' % mmpbsa_runner_file, shell=True)\n",
      "                                print retva\n",
      "                    \n",
      "                                time.sleep(3)"
     ],
     "language": "python",
     "metadata": {},
     "outputs": []
    },
    {
     "cell_type": "heading",
     "level": 5,
     "metadata": {},
     "source": [
      "getting per frame values and filtering"
     ]
    },
    {
     "cell_type": "code",
     "collapsed": false,
     "input": [
      "fig1 = plt.figure(figsize=(5,10))\n",
      "deltaG_values = defaultdict(dict)\n",
      "mmpbsa_filtered_df = pd.DataFrame(columns = ['protein','mod','type','ligand','cluster','mmpbsa_param','original_delta','filtered_delta'])\n",
      "\n",
      "for PROTEIN,mods in mmpbsa_prep.iteritems():\n",
      "\n",
      "    for MOD,types in mods.iteritems():\n",
      "        f1 = os.path.join(MMPBSA_FOLDER, PROTEIN, MOD)\n",
      "        \n",
      "        for TYPE,info in types.iteritems():\n",
      "            f2 = os.path.join(f1, TYPE)\n",
      "\n",
      "            basename = info['basename']\n",
      "            num_residues = info['num_residues']\n",
      "            ligands = info['LIGANDS']\n",
      "            receptor_rst = info['receptor_rst']\n",
      "            receptor_prmtop_file = info['receptor_prmtop_file']\n",
      "            receptor_prmtop_location = info['receptor_prmtop_location']\n",
      "\n",
      "            receptor_prep = os.path.join(f2, '0_receptor_prep')\n",
      "            \n",
      "            for LIGAND,lig_info in ligands.iteritems():\n",
      "                f3 = os.path.join(f2, LIGAND)\n",
      "\n",
      "                clusters = lig_info['CLUSTERS']\n",
      "                for_mmpbsa_trajs = lig_info['TRAJ']\n",
      "                param_loc = lig_info['param_loc']\n",
      "\n",
      "                for CLUSTER,FRAME in clusters.iteritems():\n",
      "                    main_folder = os.path.join(f3, CLUSTER)\n",
      "                    \n",
      "                    complex_prep = os.path.join(main_folder, '0_complex_prep')\n",
      "                    md = os.path.join(main_folder, '1_md')\n",
      "                    mmpbsa = os.path.join(main_folder, '2_mmpbsa')\n",
      "\n",
      "                    os.chdir(mmpbsa)\n",
      "\n",
      "                    if for_mmpbsa_trajs:\n",
      "                        if CLUSTER in for_mmpbsa_trajs.keys():\n",
      "                            traj_to_run_mmpbsa_on = for_mmpbsa_trajs[CLUSTER]\n",
      "                \n",
      "                            mmpbsa_param = 'pb_perframe'\n",
      "                            mmpbsa_dict = pb_perframe\n",
      "                        \n",
      "                            per_param_df = pd.DataFrame()\n",
      "\n",
      "                            perframe_folder = os.path.join(mmpbsa, mmpbsa_param)\n",
      "\n",
      "                            # and for each of the frames...\n",
      "                            for f in range(1, numframes):\n",
      "                                each_frame_folder = os.path.join(perframe_folder, '%.3d' % f)\n",
      "                                \n",
      "                                os.chdir(each_frame_folder)\n",
      "                                FINAL_RESULTS = 'FINAL_RESULTS_mmpbsa_%s.dat' % mmpbsa_param\n",
      "                                \n",
      "                                if FINAL_RESULTS in glob.glob('*'):\n",
      "                                    fl=open(FINAL_RESULTS)\n",
      "                                else:\n",
      "                                    continue\n",
      "                                line = fl.readline()\n",
      "                                \n",
      "                                energies = defaultdict(dict)\n",
      "                                while line.rstrip() != \"Complex:\":\n",
      "                                    line = fl.readline()\n",
      "                                while line.rstrip() != \"-------------------------------------------------------------------------------\":\n",
      "                                    line = fl.readline()\n",
      "        #                         for x in range(1,15):\n",
      "        #                             line = fl.readline().strip()\n",
      "        #                             props = re.split(r'\\s{2,}', line)\n",
      "        #                             if len(props) > 1:\n",
      "        #                                 energies['complex'][props[0]] = props[1]\n",
      "                                    \n",
      "                                while line.rstrip() != \"Receptor:\":\n",
      "                                    line = fl.readline()\n",
      "                                while line.rstrip() != \"-------------------------------------------------------------------------------\":\n",
      "                                    line = fl.readline()\n",
      "        #                         for x in range(1,15):\n",
      "        #                             line = fl.readline().strip()\n",
      "        #                             props = re.split(r'\\s{2,}', line)\n",
      "        #                             if len(props) > 1:\n",
      "        #                                 energies['receptor'][props[0]] = props[1]\n",
      "                                \n",
      "                                while line.rstrip() != \"Ligand:\":\n",
      "                                    line = fl.readline()\n",
      "                                while line.rstrip() != \"-------------------------------------------------------------------------------\":\n",
      "                                    line = fl.readline()\n",
      "        #                         for x in range(1,15):\n",
      "        #                             line = fl.readline().strip()\n",
      "        #                             props = re.split(r'\\s{2,}', line)\n",
      "        #                             if len(props) > 1:\n",
      "        #                                 energies['ligand'][props[0]] = props[1]\n",
      "                                \n",
      "                                while line.rstrip() != \"Differences (Complex - Receptor - Ligand):\":\n",
      "                                    line = fl.readline()\n",
      "                                while line.rstrip() != \"-------------------------------------------------------------------------------\":\n",
      "                                    line = fl.readline()\n",
      "                                for x in range(1,16):\n",
      "                                    line = fl.readline().strip()\n",
      "                                    props = re.split(r'\\s{2,}', line)\n",
      "                                    if len(props) > 1:\n",
      "                                        energies['diff_%.3d' % f][props[0]] = props[1]\n",
      "                                \n",
      "                                energies_df = pd.DataFrame.from_dict(energies, orient='index')\n",
      "                                if param == 'pb_perframe':\n",
      "                                    ordered_cols = ['BOND',\n",
      "                                                    'ANGLE',\n",
      "                                                    'DIHED',\n",
      "                                                    'VDWAALS',\n",
      "                                                    'EEL',\n",
      "                                                    'EPB',\n",
      "                                                    'DELTA G gas',\n",
      "                                                    'DELTA G solv',\n",
      "                                                    'DELTA TOTAL']\n",
      "                                else:\n",
      "                                    ordered_cols = ['BOND',\n",
      "                                                    'ANGLE',\n",
      "                                                    'DIHED',\n",
      "                                                    'VDWAALS',\n",
      "                                                    'EEL',\n",
      "                                                    '1-4 VDW',\n",
      "                                                    '1-4 EEL',\n",
      "                                                    'EGB',\n",
      "                                                    'ESURF',\n",
      "                                                    'DELTA G gas',\n",
      "                                                    'DELTA G solv',\n",
      "                                                    'DELTA TOTAL']\n",
      "                                min_cols = ['DELTA TOTAL']\n",
      "                                \n",
      "                                energies_df.reindex(index=['complex', 'receptor', 'ligand','diff_%.3d' % f], columns=ordered_cols)\n",
      "        #                         print energies_df\n",
      "                                per_param_df = per_param_df.append(energies_df)[ordered_cols]\n",
      "        #                     print param\n",
      "                            per_param_df = per_param_df.convert_objects(convert_numeric=True)\n",
      "                            \n",
      "        #                     plotter = pd.DataFrame()\n",
      "        #                     for col in per_param_df.columns:\n",
      "        # #                         print per_param_df[col].min()\n",
      "        #                         plotter[col+'_diff'] = per_param_df[col] - per_param_df[col].min()\n",
      "                                \n",
      "        #                     per_param_df.plot(figsize=(20,6), title='%s' % perframe_folder).legend(bbox_to_anchor=(1.2, 1))\n",
      "                            print 'Original deltaG:', MOD, TYPE, LIGAND, CLUSTER, per_param_df.describe().loc['mean', 'DELTA TOTAL']\n",
      "                \n",
      "                \n",
      "                            # FILTERING!!! \n",
      "                            filtered_per_param_df = pd.DataFrame()\n",
      "\n",
      "                            cutoff = per_param_df.describe().loc['75%', 'DELTA TOTAL']\n",
      "\n",
      "                            for i,r in per_param_df.iterrows():\n",
      "                                dt = r['DELTA TOTAL']\n",
      "\n",
      "                                if dt > cutoff:\n",
      "                                    continue\n",
      "                                else:\n",
      "                                    filtered_per_param_df = filtered_per_param_df.append(r)\n",
      "                                    \n",
      "                            print 'Filtered deltaG:', MOD, TYPE, LIGAND, CLUSTER, filtered_per_param_df.describe().loc['mean', 'DELTA TOTAL']\n",
      "\n",
      "                            appender = {}\n",
      "                            appender['protein'] = PROTEIN\n",
      "                            appender['mod'] = MOD\n",
      "                            appender['type'] = TYPE\n",
      "                            appender['ligand'] = LIGAND\n",
      "                            appender['cluster'] = CLUSTER\n",
      "                            appender['mmpbsa_param'] = mmpbsa_param\n",
      "                            appender['original_delta'] = per_param_df.describe().loc['mean', 'DELTA TOTAL']\n",
      "                            appender['filtered_delta'] = filtered_per_param_df.describe().loc['mean', 'DELTA TOTAL']\n",
      "                            mmpbsa_filtered_df = mmpbsa_filtered_df.append(appender,ignore_index=True)"
     ],
     "language": "python",
     "metadata": {},
     "outputs": [
      {
       "output_type": "stream",
       "stream": "stdout",
       "text": [
        "Original deltaG: 2_SNP_3BWY 3_HALO LDP 000 85.6591681159\n",
        "Filtered deltaG:"
       ]
      },
      {
       "output_type": "stream",
       "stream": "stdout",
       "text": [
        " 2_SNP_3BWY 3_HALO LDP 000 83.2568115385\n",
        "Original deltaG:"
       ]
      },
      {
       "output_type": "stream",
       "stream": "stdout",
       "text": [
        " 2_SNP_3BWY 3_HALO LDP 111 97.5469277778\n",
        "Filtered deltaG:"
       ]
      },
      {
       "output_type": "stream",
       "stream": "stdout",
       "text": [
        " 2_SNP_3BWY 3_HALO LDP 111 95.39818\n",
        "Original deltaG:"
       ]
      },
      {
       "output_type": "stream",
       "stream": "stdout",
       "text": [
        " 2_SNP_3BWY 3_HALO DNC 000 -0.230339130435\n",
        "Filtered deltaG:"
       ]
      },
      {
       "output_type": "stream",
       "stream": "stdout",
       "text": [
        " 2_SNP_3BWY 3_HALO DNC 000 -2.36667884615\n",
        "Original deltaG:"
       ]
      },
      {
       "output_type": "stream",
       "stream": "stdout",
       "text": [
        " 2_SNP_3BWY 3_HALO DNC 111 2.13651355932\n",
        "Filtered deltaG:"
       ]
      },
      {
       "output_type": "stream",
       "stream": "stdout",
       "text": [
        " 2_SNP_3BWY 3_HALO DNC 111 0.357602272727\n",
        "Original deltaG:"
       ]
      },
      {
       "output_type": "stream",
       "stream": "stdout",
       "text": [
        " 2_SNP_3BWY 3_HALO DNC 110 10.4857890625\n",
        "Filtered deltaG:"
       ]
      },
      {
       "output_type": "stream",
       "stream": "stdout",
       "text": [
        " 2_SNP_3BWY 3_HALO DNC 110 7.41987291667\n",
        "Original deltaG:"
       ]
      },
      {
       "output_type": "stream",
       "stream": "stdout",
       "text": [
        " 2_SNP_3BWY 3_HALO TCW 011 72.7355384615\n",
        "Filtered deltaG:"
       ]
      },
      {
       "output_type": "stream",
       "stream": "stdout",
       "text": [
        " 2_SNP_3BWY 3_HALO TCW 011 70.6824205128\n",
        "Original deltaG:"
       ]
      },
      {
       "output_type": "stream",
       "stream": "stdout",
       "text": [
        " 2_SNP_3BWY 3_HALO TCW 111 82.5014854167\n",
        "Filtered deltaG:"
       ]
      },
      {
       "output_type": "stream",
       "stream": "stdout",
       "text": [
        " 2_SNP_3BWY 3_HALO TCW 111 78.9601805556\n",
        "Original deltaG:"
       ]
      },
      {
       "output_type": "stream",
       "stream": "stdout",
       "text": [
        " 2_SNP_3BWY 3_HALO ALE 011 1.28009166667\n",
        "Filtered deltaG:"
       ]
      },
      {
       "output_type": "stream",
       "stream": "stdout",
       "text": [
        " 2_SNP_3BWY 3_HALO ALE 011 -1.73479166667\n",
        "Original deltaG:"
       ]
      },
      {
       "output_type": "stream",
       "stream": "stdout",
       "text": [
        " 2_SNP_3BWY 3_HALO ALE 000 2.60702769231\n",
        "Filtered deltaG:"
       ]
      },
      {
       "output_type": "stream",
       "stream": "stdout",
       "text": [
        " 2_SNP_3BWY 3_HALO ALE 000 -0.011093877551\n",
        "Original deltaG:"
       ]
      },
      {
       "output_type": "stream",
       "stream": "stdout",
       "text": [
        " 2_SNP_3BWY 3_HALO ALE 111 8.50767536232\n",
        "Filtered deltaG:"
       ]
      },
      {
       "output_type": "stream",
       "stream": "stdout",
       "text": [
        " 2_SNP_3BWY 3_HALO ALE 111 6.56251538462\n",
        "Original deltaG:"
       ]
      },
      {
       "output_type": "stream",
       "stream": "stdout",
       "text": [
        " 2_SNP_3BWY 3_HALO LNR 000 -0.0835884057971\n",
        "Filtered deltaG:"
       ]
      },
      {
       "output_type": "stream",
       "stream": "stdout",
       "text": [
        " 2_SNP_3BWY 3_HALO LNR 000 -2.07631346154\n",
        "Original deltaG:"
       ]
      },
      {
       "output_type": "stream",
       "stream": "stdout",
       "text": [
        " 2_SNP_3BWY 3_HALO LNR 111 3.40194489796\n",
        "Filtered deltaG:"
       ]
      },
      {
       "output_type": "stream",
       "stream": "stdout",
       "text": [
        " 2_SNP_3BWY 3_HALO LNR 111 1.33947027027\n",
        "Original deltaG:"
       ]
      },
      {
       "output_type": "stream",
       "stream": "stdout",
       "text": [
        " 2_SNP_3BWY 2_SAM LDP 000 94.7362787879\n",
        "Filtered deltaG:"
       ]
      },
      {
       "output_type": "stream",
       "stream": "stdout",
       "text": [
        " 2_SNP_3BWY 2_SAM LDP 000 92.568622449\n",
        "Original deltaG:"
       ]
      },
      {
       "output_type": "stream",
       "stream": "stdout",
       "text": [
        " 2_SNP_3BWY 2_SAM LDP 111 86.0418121212\n",
        "Filtered deltaG:"
       ]
      },
      {
       "output_type": "stream",
       "stream": "stdout",
       "text": [
        " 2_SNP_3BWY 2_SAM LDP 111 83.7963142857\n",
        "Original deltaG:"
       ]
      },
      {
       "output_type": "stream",
       "stream": "stdout",
       "text": [
        " 2_SNP_3BWY 2_SAM LDP 110 83.5060772727\n",
        "Filtered deltaG:"
       ]
      },
      {
       "output_type": "stream",
       "stream": "stdout",
       "text": [
        " 2_SNP_3BWY 2_SAM LDP 110 80.8342632653\n",
        "Original deltaG:"
       ]
      },
      {
       "output_type": "stream",
       "stream": "stdout",
       "text": [
        " 2_SNP_3BWY 2_SAM DNC 001 -2.84885\n",
        "Filtered deltaG:"
       ]
      },
      {
       "output_type": "stream",
       "stream": "stdout",
       "text": [
        " 2_SNP_3BWY 2_SAM DNC 001 -5.43806122449\n",
        "Original deltaG:"
       ]
      },
      {
       "output_type": "stream",
       "stream": "stdout",
       "text": [
        " 2_SNP_3BWY 2_SAM DNC 111 -6.47006818182\n",
        "Filtered deltaG:"
       ]
      },
      {
       "output_type": "stream",
       "stream": "stdout",
       "text": [
        " 2_SNP_3BWY 2_SAM DNC 111 -9.6058755102\n",
        "Original deltaG:"
       ]
      },
      {
       "output_type": "stream",
       "stream": "stdout",
       "text": [
        " 2_SNP_3BWY 2_SAM TCW 011 77.5085468085\n",
        "Filtered deltaG:"
       ]
      },
      {
       "output_type": "stream",
       "stream": "stdout",
       "text": [
        " 2_SNP_3BWY 2_SAM TCW 011 70.6410542857\n",
        "Original deltaG:"
       ]
      },
      {
       "output_type": "stream",
       "stream": "stdout",
       "text": [
        " 2_SNP_3BWY 2_SAM TCW 101 76.0531296296\n",
        "Filtered deltaG:"
       ]
      },
      {
       "output_type": "stream",
       "stream": "stdout",
       "text": [
        " 2_SNP_3BWY 2_SAM TCW 101 72.6665325\n",
        "Original deltaG:"
       ]
      },
      {
       "output_type": "stream",
       "stream": "stdout",
       "text": [
        " 2_SNP_3BWY 2_SAM TCW 111 71.4490830769\n",
        "Filtered deltaG:"
       ]
      },
      {
       "output_type": "stream",
       "stream": "stdout",
       "text": [
        " 2_SNP_3BWY 2_SAM TCW 111 66.7586346939\n",
        "Original deltaG:"
       ]
      },
      {
       "output_type": "stream",
       "stream": "stdout",
       "text": [
        " 2_SNP_3BWY 2_SAM ALE 000 5.07933833333\n",
        "Filtered deltaG:"
       ]
      },
      {
       "output_type": "stream",
       "stream": "stdout",
       "text": [
        " 2_SNP_3BWY 2_SAM ALE 000 2.83966\n",
        "Original deltaG:"
       ]
      },
      {
       "output_type": "stream",
       "stream": "stdout",
       "text": [
        " 2_SNP_3BWY 2_SAM ALE 111 3.30599245283\n",
        "Filtered deltaG:"
       ]
      },
      {
       "output_type": "stream",
       "stream": "stdout",
       "text": [
        " 2_SNP_3BWY 2_SAM ALE 111 -0.1552375\n",
        "Original deltaG:"
       ]
      },
      {
       "output_type": "stream",
       "stream": "stdout",
       "text": [
        " 2_SNP_3BWY 2_SAM ALE 110 13.1409403509\n",
        "Filtered deltaG:"
       ]
      },
      {
       "output_type": "stream",
       "stream": "stdout",
       "text": [
        " 2_SNP_3BWY 2_SAM ALE 110 9.48536511628\n",
        "Original deltaG:"
       ]
      },
      {
       "output_type": "stream",
       "stream": "stdout",
       "text": [
        " 2_SNP_3BWY 2_SAM LNR 000 5.00731060606\n",
        "Filtered deltaG:"
       ]
      },
      {
       "output_type": "stream",
       "stream": "stdout",
       "text": [
        " 2_SNP_3BWY 2_SAM LNR 000 2.57134693878\n",
        "Original deltaG:"
       ]
      },
      {
       "output_type": "stream",
       "stream": "stdout",
       "text": [
        " 2_SNP_3BWY 2_SAM LNR 111 6.85083636364\n",
        "Filtered deltaG:"
       ]
      },
      {
       "output_type": "stream",
       "stream": "stdout",
       "text": [
        " 2_SNP_3BWY 2_SAM LNR 111 3.30329795918\n",
        "Original deltaG:"
       ]
      },
      {
       "output_type": "stream",
       "stream": "stdout",
       "text": [
        " 1_WT_3BWM 3_HALO LDP 000 86.6157522388\n",
        "Filtered deltaG:"
       ]
      },
      {
       "output_type": "stream",
       "stream": "stdout",
       "text": [
        " 1_WT_3BWM 3_HALO LDP 000 84.68962\n",
        "Original deltaG:"
       ]
      },
      {
       "output_type": "stream",
       "stream": "stdout",
       "text": [
        " 1_WT_3BWM 3_HALO LDP 111 89.7792259259\n",
        "Filtered deltaG:"
       ]
      },
      {
       "output_type": "stream",
       "stream": "stdout",
       "text": [
        " 1_WT_3BWM 3_HALO LDP 111 87.539345\n",
        "Original deltaG:"
       ]
      },
      {
       "output_type": "stream",
       "stream": "stdout",
       "text": [
        " 1_WT_3BWM 3_HALO DNC 000 -10.1909719298\n",
        "Filtered deltaG:"
       ]
      },
      {
       "output_type": "stream",
       "stream": "stdout",
       "text": [
        " 1_WT_3BWM 3_HALO DNC 000 -11.6498488372\n",
        "Original deltaG:"
       ]
      },
      {
       "output_type": "stream",
       "stream": "stdout",
       "text": [
        " 1_WT_3BWM 3_HALO DNC 111 2.46083529412\n",
        "Filtered deltaG:"
       ]
      },
      {
       "output_type": "stream",
       "stream": "stdout",
       "text": [
        " 1_WT_3BWM 3_HALO DNC 111 0.79512745098\n",
        "Original deltaG:"
       ]
      },
      {
       "output_type": "stream",
       "stream": "stdout",
       "text": [
        " 1_WT_3BWM 3_HALO DNC 110 8.11651929825\n",
        "Filtered deltaG:"
       ]
      },
      {
       "output_type": "stream",
       "stream": "stdout",
       "text": [
        " 1_WT_3BWM 3_HALO DNC 110 5.55064883721\n",
        "Original deltaG:"
       ]
      },
      {
       "output_type": "stream",
       "stream": "stdout",
       "text": [
        " 1_WT_3BWM 3_HALO TCW 010 77.0150666667\n",
        "Filtered deltaG:"
       ]
      },
      {
       "output_type": "stream",
       "stream": "stdout",
       "text": [
        " 1_WT_3BWM 3_HALO TCW 010 73.5597346939\n",
        "Original deltaG:"
       ]
      },
      {
       "output_type": "stream",
       "stream": "stdout",
       "text": [
        " 1_WT_3BWM 3_HALO TCW 111 78.2096818182\n",
        "Filtered deltaG:"
       ]
      },
      {
       "output_type": "stream",
       "stream": "stdout",
       "text": [
        " 1_WT_3BWM 3_HALO TCW 111 74.3162387755\n",
        "Original deltaG:"
       ]
      },
      {
       "output_type": "stream",
       "stream": "stdout",
       "text": [
        " 1_WT_3BWM 3_HALO TCW 110 73.4757333333\n",
        "Filtered deltaG:"
       ]
      },
      {
       "output_type": "stream",
       "stream": "stdout",
       "text": [
        " 1_WT_3BWM 3_HALO TCW 110 69.2053714286\n",
        "Original deltaG:"
       ]
      },
      {
       "output_type": "stream",
       "stream": "stdout",
       "text": [
        " 1_WT_3BWM 3_HALO ALE 000 -1.02741384615\n",
        "Filtered deltaG:"
       ]
      },
      {
       "output_type": "stream",
       "stream": "stdout",
       "text": [
        " 1_WT_3BWM 3_HALO ALE 000 -3.010406\n",
        "Original deltaG:"
       ]
      },
      {
       "output_type": "stream",
       "stream": "stdout",
       "text": [
        " 1_WT_3BWM 3_HALO ALE 111 13.2517526316\n",
        "Filtered deltaG:"
       ]
      },
      {
       "output_type": "stream",
       "stream": "stdout",
       "text": [
        " 1_WT_3BWM 3_HALO ALE 111 11.1762581395\n",
        "Original deltaG:"
       ]
      },
      {
       "output_type": "stream",
       "stream": "stdout",
       "text": [
        " 1_WT_3BWM 3_HALO ALE 110 5.72406451613\n",
        "Filtered deltaG:"
       ]
      },
      {
       "output_type": "stream",
       "stream": "stdout",
       "text": [
        " 1_WT_3BWM 3_HALO ALE 110 3.18656304348\n",
        "Original deltaG:"
       ]
      },
      {
       "output_type": "stream",
       "stream": "stdout",
       "text": [
        " 1_WT_3BWM 3_HALO LNR 000 16.6841781818\n",
        "Filtered deltaG:"
       ]
      },
      {
       "output_type": "stream",
       "stream": "stdout",
       "text": [
        " 1_WT_3BWM 3_HALO LNR 000 14.4745512195\n",
        "Original deltaG:"
       ]
      },
      {
       "output_type": "stream",
       "stream": "stdout",
       "text": [
        " 1_WT_3BWM 3_HALO LNR 111 2.20614814815\n",
        "Filtered deltaG:"
       ]
      },
      {
       "output_type": "stream",
       "stream": "stdout",
       "text": [
        " 1_WT_3BWM 3_HALO LNR 111 0.16807\n",
        "Original deltaG:"
       ]
      },
      {
       "output_type": "stream",
       "stream": "stdout",
       "text": [
        " 1_WT_3BWM 2_SAM LDP 000 94.3763893939\n",
        "Filtered deltaG:"
       ]
      },
      {
       "output_type": "stream",
       "stream": "stdout",
       "text": [
        " 1_WT_3BWM 2_SAM LDP 000 90.6323081633\n",
        "Original deltaG:"
       ]
      },
      {
       "output_type": "stream",
       "stream": "stdout",
       "text": [
        " 1_WT_3BWM 2_SAM LDP 111 81.4588893939\n",
        "Filtered deltaG:"
       ]
      },
      {
       "output_type": "stream",
       "stream": "stdout",
       "text": [
        " 1_WT_3BWM 2_SAM LDP 111 79.0596306122\n",
        "Original deltaG:"
       ]
      },
      {
       "output_type": "stream",
       "stream": "stdout",
       "text": [
        " 1_WT_3BWM 2_SAM LDP 110 85.7798492754\n",
        "Filtered deltaG:"
       ]
      },
      {
       "output_type": "stream",
       "stream": "stdout",
       "text": [
        " 1_WT_3BWM 2_SAM LDP 110 83.5244730769\n",
        "Original deltaG:"
       ]
      },
      {
       "output_type": "stream",
       "stream": "stdout",
       "text": [
        " 1_WT_3BWM 2_SAM DNC 101 -13.5504454545\n",
        "Filtered deltaG:"
       ]
      },
      {
       "output_type": "stream",
       "stream": "stdout",
       "text": [
        " 1_WT_3BWM 2_SAM DNC 101 -15.6548306122\n",
        "Original deltaG:"
       ]
      },
      {
       "output_type": "stream",
       "stream": "stdout",
       "text": [
        " 1_WT_3BWM 2_SAM DNC 111 -10.7367212121\n",
        "Filtered deltaG:"
       ]
      },
      {
       "output_type": "stream",
       "stream": "stdout",
       "text": [
        " 1_WT_3BWM 2_SAM DNC 111 -12.4598061224\n",
        "Original deltaG:"
       ]
      },
      {
       "output_type": "stream",
       "stream": "stdout",
       "text": [
        " 1_WT_3BWM 2_SAM TCW 011 62.6464785714\n",
        "Filtered deltaG:"
       ]
      },
      {
       "output_type": "stream",
       "stream": "stdout",
       "text": [
        " 1_WT_3BWM 2_SAM TCW 011 57.7878452381\n",
        "Original deltaG:"
       ]
      },
      {
       "output_type": "stream",
       "stream": "stdout",
       "text": [
        " 1_WT_3BWM 2_SAM TCW 101 66.0529545455\n",
        "Filtered deltaG:"
       ]
      },
      {
       "output_type": "stream",
       "stream": "stdout",
       "text": [
        " 1_WT_3BWM 2_SAM TCW 101 62.4624609756\n",
        "Original deltaG:"
       ]
      },
      {
       "output_type": "stream",
       "stream": "stdout",
       "text": [
        " 1_WT_3BWM 2_SAM TCW 111 83.375934375\n",
        "Filtered deltaG:"
       ]
      },
      {
       "output_type": "stream",
       "stream": "stdout",
       "text": [
        " 1_WT_3BWM 2_SAM TCW 111 79.7433125\n",
        "Original deltaG:"
       ]
      },
      {
       "output_type": "stream",
       "stream": "stdout",
       "text": [
        " 1_WT_3BWM 2_SAM ALE 000 -1.07882272727\n",
        "Filtered deltaG:"
       ]
      },
      {
       "output_type": "stream",
       "stream": "stdout",
       "text": [
        " 1_WT_3BWM 2_SAM ALE 000 -3.45014285714\n",
        "Original deltaG:"
       ]
      },
      {
       "output_type": "stream",
       "stream": "stdout",
       "text": [
        " 1_WT_3BWM 2_SAM ALE 111 13.1780181818\n",
        "Filtered deltaG:"
       ]
      },
      {
       "output_type": "stream",
       "stream": "stdout",
       "text": [
        " 1_WT_3BWM 2_SAM ALE 111 10.9538122449\n",
        "Original deltaG:"
       ]
      },
      {
       "output_type": "stream",
       "stream": "stdout",
       "text": [
        " 1_WT_3BWM 2_SAM ALE 110 10.5501984848\n",
        "Filtered deltaG:"
       ]
      },
      {
       "output_type": "stream",
       "stream": "stdout",
       "text": [
        " 1_WT_3BWM 2_SAM ALE 110 5.79114897959\n",
        "Original deltaG:"
       ]
      },
      {
       "output_type": "stream",
       "stream": "stdout",
       "text": [
        " 1_WT_3BWM 2_SAM LNR 111 1.21019803922\n",
        "Filtered deltaG:"
       ]
      },
      {
       "output_type": "stream",
       "stream": "stdout",
       "text": [
        " 1_WT_3BWM 2_SAM LNR 111 -1.38383947368\n",
        "Original deltaG:"
       ]
      },
      {
       "output_type": "stream",
       "stream": "stdout",
       "text": [
        " 1_WT_3BWM 2_SAM LNR 110 4.27572575758\n",
        "Filtered deltaG:"
       ]
      },
      {
       "output_type": "stream",
       "stream": "stdout",
       "text": [
        " 1_WT_3BWM 2_SAM LNR 110 1.25962040816\n"
       ]
      },
      {
       "metadata": {},
       "output_type": "display_data",
       "text": [
        "<matplotlib.figure.Figure at 0x7f4733e3f810>"
       ]
      }
     ],
     "prompt_number": 107
    },
    {
     "cell_type": "code",
     "collapsed": false,
     "input": [
      "# this is the original df we had:\n",
      "mmpbsa_pivot"
     ],
     "language": "python",
     "metadata": {},
     "outputs": [
      {
       "html": [
        "<div style=\"max-width:1500px;overflow:auto;\">\n",
        "<table border=\"1\" class=\"dataframe\">\n",
        "  <thead>\n",
        "    <tr>\n",
        "      <th></th>\n",
        "      <th></th>\n",
        "      <th></th>\n",
        "      <th></th>\n",
        "      <th>delta_total_avg</th>\n",
        "    </tr>\n",
        "    <tr>\n",
        "      <th></th>\n",
        "      <th></th>\n",
        "      <th></th>\n",
        "      <th>mmpbsa_param</th>\n",
        "      <th>pb</th>\n",
        "    </tr>\n",
        "    <tr>\n",
        "      <th>protein</th>\n",
        "      <th>mod</th>\n",
        "      <th>ligand</th>\n",
        "      <th>type</th>\n",
        "      <th></th>\n",
        "    </tr>\n",
        "  </thead>\n",
        "  <tbody>\n",
        "    <tr>\n",
        "      <th rowspan=\"20\" valign=\"top\">COMT</th>\n",
        "      <th rowspan=\"10\" valign=\"top\">1_WT_3BWM</th>\n",
        "      <th rowspan=\"2\" valign=\"top\">ALE</th>\n",
        "      <th>2_SAM</th>\n",
        "      <td>7.524067</td>\n",
        "    </tr>\n",
        "    <tr>\n",
        "      <th>3_HALO</th>\n",
        "      <td>5.999200</td>\n",
        "    </tr>\n",
        "    <tr>\n",
        "      <th rowspan=\"2\" valign=\"top\">DNC</th>\n",
        "      <th>2_SAM</th>\n",
        "      <td>-12.191850</td>\n",
        "    </tr>\n",
        "    <tr>\n",
        "      <th>3_HALO</th>\n",
        "      <td>0.227733</td>\n",
        "    </tr>\n",
        "    <tr>\n",
        "      <th rowspan=\"2\" valign=\"top\">LDP</th>\n",
        "      <th>2_SAM</th>\n",
        "      <td>86.252067</td>\n",
        "    </tr>\n",
        "    <tr>\n",
        "      <th>3_HALO</th>\n",
        "      <td>88.240700</td>\n",
        "    </tr>\n",
        "    <tr>\n",
        "      <th rowspan=\"2\" valign=\"top\">LNR</th>\n",
        "      <th>2_SAM</th>\n",
        "      <td>2.666150</td>\n",
        "    </tr>\n",
        "    <tr>\n",
        "      <th>3_HALO</th>\n",
        "      <td>9.212000</td>\n",
        "    </tr>\n",
        "    <tr>\n",
        "      <th rowspan=\"2\" valign=\"top\">TCW</th>\n",
        "      <th>2_SAM</th>\n",
        "      <td>70.782167</td>\n",
        "    </tr>\n",
        "    <tr>\n",
        "      <th>3_HALO</th>\n",
        "      <td>76.355000</td>\n",
        "    </tr>\n",
        "    <tr>\n",
        "      <th rowspan=\"10\" valign=\"top\">2_SNP_3BWY</th>\n",
        "      <th rowspan=\"2\" valign=\"top\">ALE</th>\n",
        "      <th>2_SAM</th>\n",
        "      <td>7.149900</td>\n",
        "    </tr>\n",
        "    <tr>\n",
        "      <th>3_HALO</th>\n",
        "      <td>4.219933</td>\n",
        "    </tr>\n",
        "    <tr>\n",
        "      <th rowspan=\"2\" valign=\"top\">DNC</th>\n",
        "      <th>2_SAM</th>\n",
        "      <td>-4.725850</td>\n",
        "    </tr>\n",
        "    <tr>\n",
        "      <th>3_HALO</th>\n",
        "      <td>4.182000</td>\n",
        "    </tr>\n",
        "    <tr>\n",
        "      <th rowspan=\"2\" valign=\"top\">LDP</th>\n",
        "      <th>2_SAM</th>\n",
        "      <td>88.021333</td>\n",
        "    </tr>\n",
        "    <tr>\n",
        "      <th>3_HALO</th>\n",
        "      <td>91.530300</td>\n",
        "    </tr>\n",
        "    <tr>\n",
        "      <th rowspan=\"2\" valign=\"top\">LNR</th>\n",
        "      <th>2_SAM</th>\n",
        "      <td>5.955950</td>\n",
        "    </tr>\n",
        "    <tr>\n",
        "      <th>3_HALO</th>\n",
        "      <td>1.571000</td>\n",
        "    </tr>\n",
        "    <tr>\n",
        "      <th rowspan=\"2\" valign=\"top\">TCW</th>\n",
        "      <th>2_SAM</th>\n",
        "      <td>75.052000</td>\n",
        "    </tr>\n",
        "    <tr>\n",
        "      <th>3_HALO</th>\n",
        "      <td>77.727850</td>\n",
        "    </tr>\n",
        "  </tbody>\n",
        "</table>\n",
        "</div>"
       ],
       "metadata": {},
       "output_type": "pyout",
       "prompt_number": 108,
       "text": [
        "                                 delta_total_avg\n",
        "mmpbsa_param                                  pb\n",
        "protein mod        ligand type                  \n",
        "COMT    1_WT_3BWM  ALE    2_SAM         7.524067\n",
        "                          3_HALO        5.999200\n",
        "                   DNC    2_SAM       -12.191850\n",
        "                          3_HALO        0.227733\n",
        "                   LDP    2_SAM        86.252067\n",
        "                          3_HALO       88.240700\n",
        "                   LNR    2_SAM         2.666150\n",
        "                          3_HALO        9.212000\n",
        "                   TCW    2_SAM        70.782167\n",
        "                          3_HALO       76.355000\n",
        "        2_SNP_3BWY ALE    2_SAM         7.149900\n",
        "                          3_HALO        4.219933\n",
        "                   DNC    2_SAM        -4.725850\n",
        "                          3_HALO        4.182000\n",
        "                   LDP    2_SAM        88.021333\n",
        "                          3_HALO       91.530300\n",
        "                   LNR    2_SAM         5.955950\n",
        "                          3_HALO        1.571000\n",
        "                   TCW    2_SAM        75.052000\n",
        "                          3_HALO       77.727850"
       ]
      }
     ],
     "prompt_number": 108
    },
    {
     "cell_type": "code",
     "collapsed": false,
     "input": [
      "# here is the new vs the old values (note: original_delta values may differ slightly than above but should be mostly the same)\n",
      "nw = pd.pivot_table(mmpbsa_filtered_df,index=[\"protein\",\"mod\",'ligand','type'], columns=['mmpbsa_param'])\n",
      "nw"
     ],
     "language": "python",
     "metadata": {},
     "outputs": [
      {
       "html": [
        "<div style=\"max-width:1500px;overflow:auto;\">\n",
        "<table border=\"1\" class=\"dataframe\">\n",
        "  <thead>\n",
        "    <tr>\n",
        "      <th></th>\n",
        "      <th></th>\n",
        "      <th></th>\n",
        "      <th></th>\n",
        "      <th>original_delta</th>\n",
        "      <th>filtered_delta</th>\n",
        "    </tr>\n",
        "    <tr>\n",
        "      <th></th>\n",
        "      <th></th>\n",
        "      <th></th>\n",
        "      <th>mmpbsa_param</th>\n",
        "      <th>pb_perframe</th>\n",
        "      <th>pb_perframe</th>\n",
        "    </tr>\n",
        "    <tr>\n",
        "      <th>protein</th>\n",
        "      <th>mod</th>\n",
        "      <th>ligand</th>\n",
        "      <th>type</th>\n",
        "      <th></th>\n",
        "      <th></th>\n",
        "    </tr>\n",
        "  </thead>\n",
        "  <tbody>\n",
        "    <tr>\n",
        "      <th rowspan=\"20\" valign=\"top\">COMT</th>\n",
        "      <th rowspan=\"10\" valign=\"top\">1_WT_3BWM</th>\n",
        "      <th rowspan=\"2\" valign=\"top\">ALE</th>\n",
        "      <th>2_SAM</th>\n",
        "      <td>7.549798</td>\n",
        "      <td>4.431606</td>\n",
        "    </tr>\n",
        "    <tr>\n",
        "      <th>3_HALO</th>\n",
        "      <td>5.982801</td>\n",
        "      <td>3.784138</td>\n",
        "    </tr>\n",
        "    <tr>\n",
        "      <th rowspan=\"2\" valign=\"top\">DNC</th>\n",
        "      <th>2_SAM</th>\n",
        "      <td>-12.143583</td>\n",
        "      <td>-14.057318</td>\n",
        "    </tr>\n",
        "    <tr>\n",
        "      <th>3_HALO</th>\n",
        "      <td>0.128794</td>\n",
        "      <td>-1.768024</td>\n",
        "    </tr>\n",
        "    <tr>\n",
        "      <th rowspan=\"2\" valign=\"top\">LDP</th>\n",
        "      <th>2_SAM</th>\n",
        "      <td>87.205043</td>\n",
        "      <td>84.405471</td>\n",
        "    </tr>\n",
        "    <tr>\n",
        "      <th>3_HALO</th>\n",
        "      <td>88.197489</td>\n",
        "      <td>86.114482</td>\n",
        "    </tr>\n",
        "    <tr>\n",
        "      <th rowspan=\"2\" valign=\"top\">LNR</th>\n",
        "      <th>2_SAM</th>\n",
        "      <td>2.742962</td>\n",
        "      <td>-0.062110</td>\n",
        "    </tr>\n",
        "    <tr>\n",
        "      <th>3_HALO</th>\n",
        "      <td>9.445163</td>\n",
        "      <td>7.321311</td>\n",
        "    </tr>\n",
        "    <tr>\n",
        "      <th rowspan=\"2\" valign=\"top\">TCW</th>\n",
        "      <th>2_SAM</th>\n",
        "      <td>70.691789</td>\n",
        "      <td>66.664540</td>\n",
        "    </tr>\n",
        "    <tr>\n",
        "      <th>3_HALO</th>\n",
        "      <td>76.233494</td>\n",
        "      <td>72.360448</td>\n",
        "    </tr>\n",
        "    <tr>\n",
        "      <th rowspan=\"10\" valign=\"top\">2_SNP_3BWY</th>\n",
        "      <th rowspan=\"2\" valign=\"top\">ALE</th>\n",
        "      <th>2_SAM</th>\n",
        "      <td>7.175424</td>\n",
        "      <td>4.056596</td>\n",
        "    </tr>\n",
        "    <tr>\n",
        "      <th>3_HALO</th>\n",
        "      <td>4.131598</td>\n",
        "      <td>1.605543</td>\n",
        "    </tr>\n",
        "    <tr>\n",
        "      <th rowspan=\"2\" valign=\"top\">DNC</th>\n",
        "      <th>2_SAM</th>\n",
        "      <td>-4.659459</td>\n",
        "      <td>-7.521968</td>\n",
        "    </tr>\n",
        "    <tr>\n",
        "      <th>3_HALO</th>\n",
        "      <td>4.130654</td>\n",
        "      <td>1.803599</td>\n",
        "    </tr>\n",
        "    <tr>\n",
        "      <th rowspan=\"2\" valign=\"top\">LDP</th>\n",
        "      <th>2_SAM</th>\n",
        "      <td>88.094723</td>\n",
        "      <td>85.733067</td>\n",
        "    </tr>\n",
        "    <tr>\n",
        "      <th>3_HALO</th>\n",
        "      <td>91.603048</td>\n",
        "      <td>89.327496</td>\n",
        "    </tr>\n",
        "    <tr>\n",
        "      <th rowspan=\"2\" valign=\"top\">LNR</th>\n",
        "      <th>2_SAM</th>\n",
        "      <td>5.929073</td>\n",
        "      <td>2.937322</td>\n",
        "    </tr>\n",
        "    <tr>\n",
        "      <th>3_HALO</th>\n",
        "      <td>1.659178</td>\n",
        "      <td>-0.368422</td>\n",
        "    </tr>\n",
        "    <tr>\n",
        "      <th rowspan=\"2\" valign=\"top\">TCW</th>\n",
        "      <th>2_SAM</th>\n",
        "      <td>75.003587</td>\n",
        "      <td>70.022074</td>\n",
        "    </tr>\n",
        "    <tr>\n",
        "      <th>3_HALO</th>\n",
        "      <td>77.618512</td>\n",
        "      <td>74.821301</td>\n",
        "    </tr>\n",
        "  </tbody>\n",
        "</table>\n",
        "</div>"
       ],
       "metadata": {},
       "output_type": "pyout",
       "prompt_number": 109,
       "text": [
        "                                 original_delta filtered_delta\n",
        "mmpbsa_param                        pb_perframe    pb_perframe\n",
        "protein mod        ligand type                                \n",
        "COMT    1_WT_3BWM  ALE    2_SAM        7.549798       4.431606\n",
        "                          3_HALO       5.982801       3.784138\n",
        "                   DNC    2_SAM      -12.143583     -14.057318\n",
        "                          3_HALO       0.128794      -1.768024\n",
        "                   LDP    2_SAM       87.205043      84.405471\n",
        "                          3_HALO      88.197489      86.114482\n",
        "                   LNR    2_SAM        2.742962      -0.062110\n",
        "                          3_HALO       9.445163       7.321311\n",
        "                   TCW    2_SAM       70.691789      66.664540\n",
        "                          3_HALO      76.233494      72.360448\n",
        "        2_SNP_3BWY ALE    2_SAM        7.175424       4.056596\n",
        "                          3_HALO       4.131598       1.605543\n",
        "                   DNC    2_SAM       -4.659459      -7.521968\n",
        "                          3_HALO       4.130654       1.803599\n",
        "                   LDP    2_SAM       88.094723      85.733067\n",
        "                          3_HALO      91.603048      89.327496\n",
        "                   LNR    2_SAM        5.929073       2.937322\n",
        "                          3_HALO       1.659178      -0.368422\n",
        "                   TCW    2_SAM       75.003587      70.022074\n",
        "                          3_HALO      77.618512      74.821301"
       ]
      }
     ],
     "prompt_number": 109
    },
    {
     "cell_type": "code",
     "collapsed": false,
     "input": [
      "# here were our original WT-SNP values\n",
      "mmpbsa_subtracted"
     ],
     "language": "python",
     "metadata": {},
     "outputs": [
      {
       "html": [
        "<div style=\"max-width:1500px;overflow:auto;\">\n",
        "<table border=\"1\" class=\"dataframe\">\n",
        "  <thead>\n",
        "    <tr>\n",
        "      <th></th>\n",
        "      <th></th>\n",
        "      <th>delta_total_avg</th>\n",
        "    </tr>\n",
        "    <tr>\n",
        "      <th></th>\n",
        "      <th>mmpbsa_param</th>\n",
        "      <th>pb</th>\n",
        "    </tr>\n",
        "    <tr>\n",
        "      <th>ligand</th>\n",
        "      <th>type</th>\n",
        "      <th></th>\n",
        "    </tr>\n",
        "  </thead>\n",
        "  <tbody>\n",
        "    <tr>\n",
        "      <th rowspan=\"2\" valign=\"top\">ALE</th>\n",
        "      <th>2_SAM</th>\n",
        "      <td>0.374167</td>\n",
        "    </tr>\n",
        "    <tr>\n",
        "      <th>3_HALO</th>\n",
        "      <td>1.779267</td>\n",
        "    </tr>\n",
        "    <tr>\n",
        "      <th rowspan=\"2\" valign=\"top\">DNC</th>\n",
        "      <th>2_SAM</th>\n",
        "      <td>-7.466000</td>\n",
        "    </tr>\n",
        "    <tr>\n",
        "      <th>3_HALO</th>\n",
        "      <td>-3.954267</td>\n",
        "    </tr>\n",
        "    <tr>\n",
        "      <th rowspan=\"2\" valign=\"top\">LDP</th>\n",
        "      <th>2_SAM</th>\n",
        "      <td>-1.769267</td>\n",
        "    </tr>\n",
        "    <tr>\n",
        "      <th>3_HALO</th>\n",
        "      <td>-3.289600</td>\n",
        "    </tr>\n",
        "    <tr>\n",
        "      <th rowspan=\"2\" valign=\"top\">LNR</th>\n",
        "      <th>2_SAM</th>\n",
        "      <td>-3.289800</td>\n",
        "    </tr>\n",
        "    <tr>\n",
        "      <th>3_HALO</th>\n",
        "      <td>7.641000</td>\n",
        "    </tr>\n",
        "    <tr>\n",
        "      <th rowspan=\"2\" valign=\"top\">TCW</th>\n",
        "      <th>2_SAM</th>\n",
        "      <td>-4.269833</td>\n",
        "    </tr>\n",
        "    <tr>\n",
        "      <th>3_HALO</th>\n",
        "      <td>-1.372850</td>\n",
        "    </tr>\n",
        "  </tbody>\n",
        "</table>\n",
        "</div>"
       ],
       "metadata": {},
       "output_type": "pyout",
       "prompt_number": 112,
       "text": [
        "              delta_total_avg\n",
        "mmpbsa_param               pb\n",
        "ligand type                  \n",
        "ALE    2_SAM         0.374167\n",
        "       3_HALO        1.779267\n",
        "DNC    2_SAM        -7.466000\n",
        "       3_HALO       -3.954267\n",
        "LDP    2_SAM        -1.769267\n",
        "       3_HALO       -3.289600\n",
        "LNR    2_SAM        -3.289800\n",
        "       3_HALO        7.641000\n",
        "TCW    2_SAM        -4.269833\n",
        "       3_HALO       -1.372850"
       ]
      }
     ],
     "prompt_number": 112
    },
    {
     "cell_type": "code",
     "collapsed": false,
     "input": [
      "# here our the filtered ones\n",
      "nw_subtracted = nw.loc['COMT','1_WT_3BWM'] - nw.loc['COMT','2_SNP_3BWY']\n",
      "nw_subtracted"
     ],
     "language": "python",
     "metadata": {},
     "outputs": [
      {
       "html": [
        "<div style=\"max-width:1500px;overflow:auto;\">\n",
        "<table border=\"1\" class=\"dataframe\">\n",
        "  <thead>\n",
        "    <tr>\n",
        "      <th></th>\n",
        "      <th></th>\n",
        "      <th>original_delta</th>\n",
        "      <th>filtered_delta</th>\n",
        "    </tr>\n",
        "    <tr>\n",
        "      <th></th>\n",
        "      <th>mmpbsa_param</th>\n",
        "      <th>pb_perframe</th>\n",
        "      <th>pb_perframe</th>\n",
        "    </tr>\n",
        "    <tr>\n",
        "      <th>ligand</th>\n",
        "      <th>type</th>\n",
        "      <th></th>\n",
        "      <th></th>\n",
        "    </tr>\n",
        "  </thead>\n",
        "  <tbody>\n",
        "    <tr>\n",
        "      <th rowspan=\"2\" valign=\"top\">ALE</th>\n",
        "      <th>2_SAM</th>\n",
        "      <td>0.374374</td>\n",
        "      <td>0.375010</td>\n",
        "    </tr>\n",
        "    <tr>\n",
        "      <th>3_HALO</th>\n",
        "      <td>1.851203</td>\n",
        "      <td>2.178595</td>\n",
        "    </tr>\n",
        "    <tr>\n",
        "      <th rowspan=\"2\" valign=\"top\">DNC</th>\n",
        "      <th>2_SAM</th>\n",
        "      <td>-7.484124</td>\n",
        "      <td>-6.535350</td>\n",
        "    </tr>\n",
        "    <tr>\n",
        "      <th>3_HALO</th>\n",
        "      <td>-4.001860</td>\n",
        "      <td>-3.571623</td>\n",
        "    </tr>\n",
        "    <tr>\n",
        "      <th rowspan=\"2\" valign=\"top\">LDP</th>\n",
        "      <th>2_SAM</th>\n",
        "      <td>-0.889680</td>\n",
        "      <td>-1.327596</td>\n",
        "    </tr>\n",
        "    <tr>\n",
        "      <th>3_HALO</th>\n",
        "      <td>-3.405559</td>\n",
        "      <td>-3.213013</td>\n",
        "    </tr>\n",
        "    <tr>\n",
        "      <th rowspan=\"2\" valign=\"top\">LNR</th>\n",
        "      <th>2_SAM</th>\n",
        "      <td>-3.186112</td>\n",
        "      <td>-2.999432</td>\n",
        "    </tr>\n",
        "    <tr>\n",
        "      <th>3_HALO</th>\n",
        "      <td>7.785985</td>\n",
        "      <td>7.689732</td>\n",
        "    </tr>\n",
        "    <tr>\n",
        "      <th rowspan=\"2\" valign=\"top\">TCW</th>\n",
        "      <th>2_SAM</th>\n",
        "      <td>-4.311797</td>\n",
        "      <td>-3.357534</td>\n",
        "    </tr>\n",
        "    <tr>\n",
        "      <th>3_HALO</th>\n",
        "      <td>-1.385018</td>\n",
        "      <td>-2.460852</td>\n",
        "    </tr>\n",
        "  </tbody>\n",
        "</table>\n",
        "</div>"
       ],
       "metadata": {},
       "output_type": "pyout",
       "prompt_number": 110,
       "text": [
        "              original_delta filtered_delta\n",
        "mmpbsa_param     pb_perframe    pb_perframe\n",
        "ligand type                                \n",
        "ALE    2_SAM        0.374374       0.375010\n",
        "       3_HALO       1.851203       2.178595\n",
        "DNC    2_SAM       -7.484124      -6.535350\n",
        "       3_HALO      -4.001860      -3.571623\n",
        "LDP    2_SAM       -0.889680      -1.327596\n",
        "       3_HALO      -3.405559      -3.213013\n",
        "LNR    2_SAM       -3.186112      -2.999432\n",
        "       3_HALO       7.785985       7.689732\n",
        "TCW    2_SAM       -4.311797      -3.357534\n",
        "       3_HALO      -1.385018      -2.460852"
       ]
      }
     ],
     "prompt_number": 110
    },
    {
     "cell_type": "heading",
     "level": 3,
     "metadata": {},
     "source": [
      "Alright what about converting delta delta G's to binding afiinities?"
     ]
    },
    {
     "cell_type": "code",
     "collapsed": false,
     "input": [
      "import scipy.constants\n",
      "\n",
      "# J mol^-1 K^-1\n",
      "print 'R:', scipy.constants.R\n",
      "\n",
      "# 1 cal = 4.184 J\n",
      "print '1 cal =', scipy.constants.calorie, 'J'\n",
      "\n",
      "# in kcal mol^-1 K^-1\n",
      "r_kcal = scipy.constants.R/scipy.constants.calorie/1000\n",
      "print 'R, the molar gas constant in kcal mol^-1 K^-1 =', r_kcal"
     ],
     "language": "python",
     "metadata": {},
     "outputs": [
      {
       "output_type": "stream",
       "stream": "stdout",
       "text": [
        "R: 8.3144621\n",
        "1 cal = 4.184 J\n",
        "R, the molar gas constant in kcal mol^-1 K^-1 = 0.0019872041348\n"
       ]
      }
     ],
     "prompt_number": 164
    },
    {
     "cell_type": "code",
     "collapsed": false,
     "input": [
      "def ddg_to_kd_ratio(ddg, temp):\n",
      "    '''\n",
      "    INPUT: ddg (kcal mol^-1 K^-1), temp (K)\n",
      "    OUTPUT: ratio\n",
      "    Returns the ratio (state1/state2) of Kd (dissociation constant) \n",
      "    according to the difference in binding free energy (state1-state2) for two states.\n",
      "    '''\n",
      "    \n",
      "    # http://www.researchgate.net/post/How_can_I_deduce_the_difference_in_binding_affinity_from_the_delta_deltaG\n",
      "    # see onenote for the equation\n",
      "    ratio = e**(float(ddg)/float(temp*r_kcal))\n",
      "\n",
      "    print 'ddG =', ddg\n",
      "    print 'temp =', temp\n",
      "    print 'ratio of Kd (WT/SNP) =', ratio\n",
      "\n",
      "    if ratio > 1 and ddg > 0:\n",
      "        print 'Binding free energy is lower in SNP <-> higher binding affinity in SNP <-> lower Kd in SNP'\n",
      "        print 'the Kd of WT is %.1f times the Kd of SNP' % ratio\n",
      "\n",
      "    elif ratio < 1 and ddg < 0:\n",
      "        print 'Binding free energy is lower in WT <-> higher binding affinity in WT <-> lower Kd in WT'\n",
      "        print 'the Kd of SNP is %.1f times the Kd of WT' % (1/ratio)\n",
      "\n",
      "    elif (ratio < 1 and ddg > 0) or (ratio > 1 and ddg < 0):\n",
      "        print 'ERROR: calculations do not agree'\n",
      "        return None\n",
      "        \n",
      "    return ratio"
     ],
     "language": "python",
     "metadata": {},
     "outputs": [],
     "prompt_number": 172
    },
    {
     "cell_type": "code",
     "collapsed": false,
     "input": [
      "ddg_to_kd_ratio(-0.889680,300)"
     ],
     "language": "python",
     "metadata": {},
     "outputs": [
      {
       "output_type": "stream",
       "stream": "stdout",
       "text": [
        "ddG = -0.88968\n",
        "temp = 300\n",
        "ratio of Kd (WT/SNP) = 0.224844114453\n",
        "Binding free energy is lower in WT <-> higher binding affinity in WT <-> lower Kd in WT\n",
        "the Kd of SNP is 4.4 times the Kd of WT\n"
       ]
      },
      {
       "metadata": {},
       "output_type": "pyout",
       "prompt_number": 177,
       "text": [
        "0.22484411445269162"
       ]
      }
     ],
     "prompt_number": 177
    },
    {
     "cell_type": "heading",
     "level": 5,
     "metadata": {},
     "source": [
      "km = kd??"
     ]
    },
    {
     "cell_type": "code",
     "collapsed": false,
     "input": [
      "# l-dopamine\n",
      "# WT Km = 199 uM\n",
      "# SNP Km = 190.6 uM\n",
      "\n",
      "# the smaller the Km, the greater the affinity. so l-dopamine has a greater affinity in the SNP version\n",
      "\n",
      "# ratio of Km (WT/SNP)\n",
      "199/190.6"
     ],
     "language": "python",
     "metadata": {},
     "outputs": [
      {
       "metadata": {},
       "output_type": "pyout",
       "prompt_number": 159,
       "text": [
        "1.044071353620147"
       ]
      }
     ],
     "prompt_number": 159
    },
    {
     "cell_type": "code",
     "collapsed": false,
     "input": [],
     "language": "python",
     "metadata": {},
     "outputs": []
    }
   ],
   "metadata": {}
  }
 ]
}