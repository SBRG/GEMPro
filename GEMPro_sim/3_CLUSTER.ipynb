{
 "metadata": {
  "kernelspec": {
   "display_name": "Python 2",
   "language": "python",
   "name": "python2"
  },
  "language_info": {
   "codemirror_mode": {
    "name": "ipython",
    "version": 2
   },
   "file_extension": ".py",
   "mimetype": "text/x-python",
   "name": "python",
   "nbconvert_exporter": "python",
   "pygments_lexer": "ipython2",
   "version": "2.7.8"
  },
  "name": "",
  "signature": "sha256:f798fd62ee05e931835632543e9f58ce9f30a7d0f530aaaba769c15ddcc4fb6d"
 },
 "nbformat": 3,
 "nbformat_minor": 0,
 "worksheets": [
  {
   "cells": [
    {
     "cell_type": "heading",
     "level": 1,
     "metadata": {},
     "source": [
      "Combining DOCK6 poses with MD trajectory snapshots"
     ]
    },
    {
     "cell_type": "code",
     "collapsed": false,
     "input": [
      "import os\n",
      "import os.path\n",
      "import yaml\n",
      "import numpy as np\n",
      "import pandas as pd\n",
      "from Bio.PDB import *\n",
      "from collections import defaultdict\n",
      "from collections import OrderedDict\n",
      "import string\n",
      "import time\n",
      "%matplotlib inline"
     ],
     "language": "python",
     "metadata": {},
     "outputs": [],
     "prompt_number": 311
    },
    {
     "cell_type": "code",
     "collapsed": false,
     "input": [
      "TODAY = time.strftime(\"%y%m%d\")"
     ],
     "language": "python",
     "metadata": {},
     "outputs": [],
     "prompt_number": 312
    },
    {
     "cell_type": "code",
     "collapsed": false,
     "input": [
      "# input the main docking directory here\n",
      "research_folder = '/home/nathan/projects/'\n",
      "dock_base_folder = research_folder + 'DOCK/'"
     ],
     "language": "python",
     "metadata": {},
     "outputs": [],
     "prompt_number": 3
    },
    {
     "cell_type": "code",
     "collapsed": false,
     "input": [
      "# input your proteins, modifications, types, and ligands here\n",
      "docking = yaml.load(\"\"\"\n",
      "---\n",
      "COMT:\n",
      "    1_WT_3BWM:\n",
      "        2_SAM:\n",
      "            numframes: 500\n",
      "            basename: 3BWM\n",
      "            ligands:\n",
      "                - DNC\n",
      "                - TCW\n",
      "                - SID\n",
      "                - LNR\n",
      "                - LDP\n",
      "                - ALE\n",
      "        3_HALO:\n",
      "            numframes: 700\n",
      "            basename: 3BWM\n",
      "            ligands:\n",
      "                - DNC\n",
      "                - TCW\n",
      "                - SID\n",
      "                - LNR\n",
      "                - LDP\n",
      "                - ALE\n",
      "    2_SNP_3BWY:\n",
      "        2_SAM:\n",
      "            numframes: 588\n",
      "            basename: 3BWY\n",
      "            ligands:\n",
      "                - DNC\n",
      "                - TCW\n",
      "                - SID\n",
      "                - LNR\n",
      "                - LDP\n",
      "                - ALE\n",
      "        3_HALO:\n",
      "            numframes: 500\n",
      "            basename: 3BWY\n",
      "            ligands:\n",
      "                - DNC\n",
      "                - TCW\n",
      "                - SID\n",
      "                - LNR\n",
      "                - LDP\n",
      "                - ALE\n",
      "\"\"\")"
     ],
     "language": "python",
     "metadata": {},
     "outputs": [],
     "prompt_number": 266
    },
    {
     "cell_type": "code",
     "collapsed": false,
     "input": [
      "docking"
     ],
     "language": "python",
     "metadata": {},
     "outputs": [
      {
       "metadata": {},
       "output_type": "pyout",
       "prompt_number": 267,
       "text": [
        "{'COMT': {'1_WT_3BWM': {'2_SAM': {'basename': '3BWM',\n",
        "    'ligands': ['DNC', 'TCW', 'SID', 'LNR', 'LDP', 'ALE'],\n",
        "    'numframes': 500},\n",
        "   '3_HALO': {'basename': '3BWM',\n",
        "    'ligands': ['DNC', 'TCW', 'SID', 'LNR', 'LDP', 'ALE'],\n",
        "    'numframes': 700}},\n",
        "  '2_SNP_3BWY': {'2_SAM': {'basename': '3BWY',\n",
        "    'ligands': ['DNC', 'TCW', 'SID', 'LNR', 'LDP', 'ALE'],\n",
        "    'numframes': 588},\n",
        "   '3_HALO': {'basename': '3BWY',\n",
        "    'ligands': ['DNC', 'TCW', 'SID', 'LNR', 'LDP', 'ALE'],\n",
        "    'numframes': 500}}}}"
       ]
      }
     ],
     "prompt_number": 267
    },
    {
     "cell_type": "code",
     "collapsed": false,
     "input": [
      "def convert_hetatm_to_atom(structure):\n",
      "    '''\n",
      "    Converts all HETATM atoms in a PDB file to normal ATOM entries. Useful for when you want to \n",
      "    combine predicted docked ligands to a receptor and easily distinguish between receptor and ligand later on.\n",
      "    Input: biopython PDB structure object\n",
      "    Output: new biopython PDB structure object with HETATMs converted to ATOMs\n",
      "    '''\n",
      "    new_structure = structure.copy()\n",
      "    \n",
      "    for model in new_structure:\n",
      "        for chain in model:\n",
      "            for residue in chain:\n",
      "                if residue.id[0].startswith('H_'):\n",
      "                    print residue.id\n",
      "                    orig_resnum = residue.id[1]\n",
      "                    new_structure[model.id][chain.id][residue.id].id = (' ', orig_resnum, ' ')\n",
      "    return new_structure"
     ],
     "language": "python",
     "metadata": {},
     "outputs": [],
     "prompt_number": 261
    },
    {
     "cell_type": "heading",
     "level": 4,
     "metadata": {},
     "source": [
      "1. Convert all docked mol2 files into pdbs using openbabel"
     ]
    },
    {
     "cell_type": "code",
     "collapsed": false,
     "input": [
      "for protein,x in docking.iteritems():\n",
      "#     print protein\n",
      "    for mod,types in x.iteritems():\n",
      "#         print mod\n",
      "        for ty,ligs in types.iteritems():\n",
      "#             print ty\n",
      "            dock_results = os.path.join(dock_base_folder, protein, '2_MD', mod, ty, 'main')\n",
      "            os.chdir(dock_results)\n",
      "        # converting _scored.mol2 to pdb\n",
      "            !obabel *_flexible_scored.mol2 -opdb -m"
     ],
     "language": "python",
     "metadata": {},
     "outputs": [
      {
       "output_type": "stream",
       "stream": "stdout",
       "text": [
        "6499 molecules converted\r\n",
        "4000 files output. The first is 3BWY-001_ALE_opt_flexible_scored.pdb\r\n"
       ]
      },
      {
       "output_type": "stream",
       "stream": "stdout",
       "text": [
        "7660 molecules converted\r\n",
        "4704 files output. The first is 3BWY-001_ALE_opt_flexible_scored.pdb\r\n"
       ]
      },
      {
       "output_type": "stream",
       "stream": "stdout",
       "text": [
        "9460 molecules converted\r\n",
        "5600 files output. The first is 3BWM-001_ALE_opt_flexible_scored.pdb\r\n"
       ]
      },
      {
       "output_type": "stream",
       "stream": "stdout",
       "text": [
        "6049 molecules converted\r\n",
        "3500 files output. The first is 3BWM-001_ALE_opt_flexible_scored.pdb\r\n"
       ]
      }
     ],
     "prompt_number": 6
    },
    {
     "cell_type": "heading",
     "level": 4,
     "metadata": {},
     "source": [
      "2. Merge ligand PDBs with receptor PDBs using Biopython"
     ]
    },
    {
     "cell_type": "markdown",
     "metadata": {},
     "source": [
      "Some other ways to do it: http://comments.gmane.org/gmane.comp.python.bio.general/8177"
     ]
    },
    {
     "cell_type": "code",
     "collapsed": false,
     "input": [
      "# note -- make sure the naming is right here\n",
      "\n",
      "io = PDBIO()\n",
      "parser = PDBParser()\n",
      "\n",
      "for protein,y in docking.iteritems():\n",
      "    for mod,types in y.iteritems():\n",
      "        for ty,props in types.iteritems():\n",
      "            for ligand in props['ligands']:\n",
      "                \n",
      "#                 print protein, mod, ty, ligand\n",
      "                \n",
      "                start = 1\n",
      "                end = docking[protein][mod][ty]['numframes']\n",
      "\n",
      "                # check these\n",
      "                main = os.path.join(dock_base_folder, protein, '2_MD', mod, ty, 'main')\n",
      "                os.chdir(main)\n",
      "\n",
      "                for i in range(start,end+1):\n",
      "                    \n",
      "                    # check names\n",
      "                    # load the receptor\n",
      "                    # first make sure everything in the file is uppercase - biopython complains if an element is not!\n",
      "                    rec_file = os.path.join(main, '{basename}-{:03d}_receptor_noH.pdb'.format(i, basename=docking[protein][mod][ty]['basename']))\n",
      "\n",
      "                    try:\n",
      "                        rec = parser.get_structure('receptor', rec_file)\n",
      "                    except AssertionError:\n",
      "                        # bash code to convert entire file to uppercase (biopython will not load file if some atoms are lowercase)\n",
      "                        warnings.warn('***BIOPYTHON INPUT ERROR: lower case atom names in file. Converting case and saving as new file***')\n",
      "                        rec_file_new  = os.path.join(main, '{basename}-{:03d}_receptor_noH_upper.pdb'.format(i, basename=docking[protein][mod][ty]['basename']))\n",
      "#                         if not os.path.exists(rec_file_new):\n",
      "                        !dd if=$rec_file of=$rec_file_new conv=ucase\n",
      "                        rec = parser.get_structure('receptor', rec_file_new)\n",
      "\n",
      "                    # load the ligand\n",
      "                    lig = parser.get_structure('ligand', os.path.join(main, '{basename}-{:03d}_{ligand}_opt_flexible_scored.pdb'.format(i, basename=docking[protein][mod][ty]['basename'], ligand=ligand)))\n",
      "\n",
      "                    num_docked = len(list(lig.get_residues()))\n",
      "                    # if there is no docked ligand (because of various errors, skip it)\n",
      "                    if num_docked == 0: continue\n",
      "                    \n",
      "                    # set this (your cofactors)\n",
      "                    # changing hetero atom to normal atoms (so biopython can easily find the docked ligand later)\n",
      "                    rec = convert_hetatm_to_atom(rec)\n",
      "\n",
      "                    # get the number of residues in the receptor\n",
      "                    last_resnum = len(list(rec.get_residues()))\n",
      "                    for l in lig.get_residues():\n",
      "                        # adjust the id of the ligand as well as its resnum (to be +1 the number of receptor residues)\n",
      "                        l.id = ('H_%s' % ligand, last_resnum+1, ' ')\n",
      "                        # add the ligand to the receptor structure\n",
      "                        rec.child_list[0].child_list[0].add(l)\n",
      "\n",
      "                    # check names\n",
      "                    # save the docked PDB\n",
      "                    io.set_structure(rec)\n",
      "                    io.save('{basename}-{:03d}_receptor_{ligand}_docked.pdb'.format(i, basename=docking[protein][mod][ty]['basename'], ligand=ligand))"
     ],
     "language": "python",
     "metadata": {},
     "outputs": []
    },
    {
     "cell_type": "heading",
     "level": 1,
     "metadata": {},
     "source": [
      "Cluster docked poses of ligands for further analysis"
     ]
    },
    {
     "cell_type": "heading",
     "level": 2,
     "metadata": {},
     "source": [
      "Option 1: random choosing of interacting residues (input of slightly correct docked position is better)"
     ]
    },
    {
     "cell_type": "code",
     "collapsed": false,
     "input": [
      "my_protein = 'COMT_WT'\n",
      "my_chain = 'A'\n",
      "crystal = dock_base_folder + 'COMT/2_MD/1_WT_3BWM/3_HALO/original/3BWM.pdb'"
     ],
     "language": "python",
     "metadata": {},
     "outputs": [],
     "prompt_number": 6
    },
    {
     "cell_type": "code",
     "collapsed": false,
     "input": [
      "parser = PDBParser()\n",
      "structure = parser.get_structure(my_protein, crystal)\n",
      "\n",
      "# 0 takes the first \"model\" - with x-ray structure it is always 0\n",
      "model = structure[0]\n",
      "\n",
      "# make sure chain is the correct one!\n",
      "chain = model[my_chain]"
     ],
     "language": "python",
     "metadata": {},
     "outputs": [],
     "prompt_number": 7
    },
    {
     "cell_type": "heading",
     "level": 4,
     "metadata": {},
     "source": [
      "Get cartesian coordinates of existing ligand"
     ]
    },
    {
     "cell_type": "code",
     "collapsed": false,
     "input": [
      "# see all residues by doing:\n",
      "# chain.child_list\n",
      "\n",
      "ligand = chain[('H_DNC', 302, ' ')]"
     ],
     "language": "python",
     "metadata": {},
     "outputs": [],
     "prompt_number": 8
    },
    {
     "cell_type": "code",
     "collapsed": false,
     "input": [
      "ligand_xyz_dict = defaultdict(dict)\n",
      "\n",
      "# creating dataframe of all atoms in ligand\n",
      "first = True\n",
      "for atom in ligand.get_list():\n",
      "    ligand_xyz_dict[atom.get_name()]['atom_x'] = atom.get_coord()[0]\n",
      "    ligand_xyz_dict[atom.get_name()]['atom_y'] = atom.get_coord()[1]\n",
      "    ligand_xyz_dict[atom.get_name()]['atom_z'] = atom.get_coord()[2]\n",
      "\n",
      "ligand_xyz_df = pd.DataFrame.from_dict(ligand_xyz_dict, orient='index')"
     ],
     "language": "python",
     "metadata": {},
     "outputs": [],
     "prompt_number": 9
    },
    {
     "cell_type": "code",
     "collapsed": false,
     "input": [
      "ligand_xyz_df"
     ],
     "language": "python",
     "metadata": {
      "scrolled": false
     },
     "outputs": [
      {
       "html": [
        "<div style=\"max-height:1000px;max-width:1500px;overflow:auto;\">\n",
        "<table border=\"1\" class=\"dataframe\">\n",
        "  <thead>\n",
        "    <tr style=\"text-align: right;\">\n",
        "      <th></th>\n",
        "      <th>atom_x</th>\n",
        "      <th>atom_y</th>\n",
        "      <th>atom_z</th>\n",
        "    </tr>\n",
        "  </thead>\n",
        "  <tbody>\n",
        "    <tr>\n",
        "      <th>C1</th>\n",
        "      <td>-4.540</td>\n",
        "      <td>-12.555</td>\n",
        "      <td>-16.207001</td>\n",
        "    </tr>\n",
        "    <tr>\n",
        "      <th>C2</th>\n",
        "      <td>-4.419</td>\n",
        "      <td>-11.187</td>\n",
        "      <td>-16.750999</td>\n",
        "    </tr>\n",
        "    <tr>\n",
        "      <th>C3</th>\n",
        "      <td>-3.946</td>\n",
        "      <td>-11.022</td>\n",
        "      <td>-18.139000</td>\n",
        "    </tr>\n",
        "    <tr>\n",
        "      <th>C4</th>\n",
        "      <td>-3.639</td>\n",
        "      <td>-12.157</td>\n",
        "      <td>-18.875999</td>\n",
        "    </tr>\n",
        "    <tr>\n",
        "      <th>C5</th>\n",
        "      <td>-3.773</td>\n",
        "      <td>-13.433</td>\n",
        "      <td>-18.327999</td>\n",
        "    </tr>\n",
        "    <tr>\n",
        "      <th>C6</th>\n",
        "      <td>-4.211</td>\n",
        "      <td>-13.629</td>\n",
        "      <td>-17.016001</td>\n",
        "    </tr>\n",
        "    <tr>\n",
        "      <th>N1</th>\n",
        "      <td>-3.797</td>\n",
        "      <td> -9.746</td>\n",
        "      <td>-18.695999</td>\n",
        "    </tr>\n",
        "    <tr>\n",
        "      <th>N2</th>\n",
        "      <td>-3.431</td>\n",
        "      <td>-14.541</td>\n",
        "      <td>-19.112000</td>\n",
        "    </tr>\n",
        "    <tr>\n",
        "      <th>O1</th>\n",
        "      <td>-4.979</td>\n",
        "      <td>-12.746</td>\n",
        "      <td>-14.930000</td>\n",
        "    </tr>\n",
        "    <tr>\n",
        "      <th>O2</th>\n",
        "      <td>-4.730</td>\n",
        "      <td>-10.119</td>\n",
        "      <td>-15.972000</td>\n",
        "    </tr>\n",
        "    <tr>\n",
        "      <th>O3</th>\n",
        "      <td>-4.338</td>\n",
        "      <td> -8.772</td>\n",
        "      <td>-18.200001</td>\n",
        "    </tr>\n",
        "    <tr>\n",
        "      <th>O4</th>\n",
        "      <td>-3.105</td>\n",
        "      <td> -9.595</td>\n",
        "      <td>-19.686001</td>\n",
        "    </tr>\n",
        "    <tr>\n",
        "      <th>O5</th>\n",
        "      <td>-3.053</td>\n",
        "      <td>-14.345</td>\n",
        "      <td>-20.250999</td>\n",
        "    </tr>\n",
        "    <tr>\n",
        "      <th>O6</th>\n",
        "      <td>-3.483</td>\n",
        "      <td>-15.692</td>\n",
        "      <td>-18.664000</td>\n",
        "    </tr>\n",
        "  </tbody>\n",
        "</table>\n",
        "</div>"
       ],
       "metadata": {},
       "output_type": "pyout",
       "prompt_number": 10,
       "text": [
        "    atom_x  atom_y     atom_z\n",
        "C1  -4.540 -12.555 -16.207001\n",
        "C2  -4.419 -11.187 -16.750999\n",
        "C3  -3.946 -11.022 -18.139000\n",
        "C4  -3.639 -12.157 -18.875999\n",
        "C5  -3.773 -13.433 -18.327999\n",
        "C6  -4.211 -13.629 -17.016001\n",
        "N1  -3.797  -9.746 -18.695999\n",
        "N2  -3.431 -14.541 -19.112000\n",
        "O1  -4.979 -12.746 -14.930000\n",
        "O2  -4.730 -10.119 -15.972000\n",
        "O3  -4.338  -8.772 -18.200001\n",
        "O4  -3.105  -9.595 -19.686001\n",
        "O5  -3.053 -14.345 -20.250999\n",
        "O6  -3.483 -15.692 -18.664000"
       ]
      }
     ],
     "prompt_number": 10
    },
    {
     "cell_type": "heading",
     "level": 4,
     "metadata": {},
     "source": [
      "choose 3 representative points on ligand - k-means clustering of 3d coordinates"
     ]
    },
    {
     "cell_type": "code",
     "collapsed": true,
     "input": [
      "from scipy.cluster.vq import kmeans2,vq"
     ],
     "language": "python",
     "metadata": {},
     "outputs": [],
     "prompt_number": 11
    },
    {
     "cell_type": "code",
     "collapsed": false,
     "input": [
      "# dataframe in numpy matrix form\n",
      "ligand_xyz_df.as_matrix()"
     ],
     "language": "python",
     "metadata": {},
     "outputs": [
      {
       "metadata": {},
       "output_type": "pyout",
       "prompt_number": 12,
       "text": [
        "array([[ -4.53999996, -12.55500031, -16.20700073],\n",
        "       [ -4.41900015, -11.18700027, -16.75099945],\n",
        "       [ -3.9460001 , -11.02200031, -18.13899994],\n",
        "       [ -3.63899994, -12.15699959, -18.87599945],\n",
        "       [ -3.773     , -13.43299961, -18.32799911],\n",
        "       [ -4.21099997, -13.62899971, -17.01600075],\n",
        "       [ -3.79699993,  -9.74600029, -18.69599915],\n",
        "       [ -3.43099999, -14.54100037, -19.11199951],\n",
        "       [ -4.97900009, -12.74600029, -14.93000031],\n",
        "       [ -4.73000002, -10.11900043, -15.97200012],\n",
        "       [ -4.33799982,  -8.77200031, -18.20000076],\n",
        "       [ -3.10500002,  -9.59500027, -19.68600082],\n",
        "       [ -3.05299997, -14.34500027, -20.25099945],\n",
        "       [ -3.48300004, -15.69200039, -18.66399956]])"
       ]
      }
     ],
     "prompt_number": 12
    },
    {
     "cell_type": "code",
     "collapsed": false,
     "input": [
      "# get kmeans centroids and also assignments to the data\n",
      "centroids,idx = kmeans2(ligand_xyz_df.as_matrix(),3)"
     ],
     "language": "python",
     "metadata": {},
     "outputs": [],
     "prompt_number": 13
    },
    {
     "cell_type": "code",
     "collapsed": false,
     "input": [
      "# 3d plot!\n",
      "# note: can be skipped\n",
      "\n",
      "import plotly.plotly as py\n",
      "from plotly.graph_objs import *\n",
      "\n",
      "centroid_points = Scatter3d(\n",
      "    x = centroids.transpose()[0],\n",
      "    y = centroids.transpose()[1],\n",
      "    z = centroids.transpose()[2],\n",
      "    mode='markers',\n",
      "    marker = Marker(\n",
      "             symbol = 'cross',\n",
      "             size=12\n",
      "    )\n",
      ")\n",
      "\n",
      "cluster0 = Scatter3d(\n",
      "    x = ligand_xyz_df.as_matrix()[idx==0,0],\n",
      "    y = ligand_xyz_df.as_matrix()[idx==0,1],\n",
      "    z = ligand_xyz_df.as_matrix()[idx==0,2],\n",
      "    mode='markers',\n",
      "    marker = Marker(size=16)\n",
      ")\n",
      "\n",
      "cluster1 = Scatter3d(\n",
      "    x = ligand_xyz_df.as_matrix()[idx==1,0],\n",
      "    y = ligand_xyz_df.as_matrix()[idx==1,1],\n",
      "    z = ligand_xyz_df.as_matrix()[idx==1,2],\n",
      "    mode='markers',\n",
      "    marker = Marker(size=16)\n",
      ")\n",
      "\n",
      "cluster2 = Scatter3d(\n",
      "    x = ligand_xyz_df.as_matrix()[idx==2,0],\n",
      "    y = ligand_xyz_df.as_matrix()[idx==2,1],\n",
      "    z = ligand_xyz_df.as_matrix()[idx==2,2],\n",
      "    mode='markers',\n",
      "    marker = Marker(size=16)\n",
      ")\n",
      "\n",
      "data = Data([centroid_points,cluster0,cluster1,cluster2])\n",
      "fig = Figure(data=data)\n",
      "py.iplot(fig)"
     ],
     "language": "python",
     "metadata": {},
     "outputs": [
      {
       "html": [
        "<iframe id=\"igraph\" scrolling=\"no\" style=\"border:none;\"seamless=\"seamless\" src=\"https://plot.ly/~nmih/193.embed\" height=\"525\" width=\"100%\"></iframe>"
       ],
       "metadata": {},
       "output_type": "pyout",
       "prompt_number": 14,
       "text": [
        "<plotly.tools.PlotlyDisplay at 0x7f0b1f305390>"
       ]
      }
     ],
     "prompt_number": 14
    },
    {
     "cell_type": "code",
     "collapsed": false,
     "input": [
      "# for now! choose points closest to centroids\n",
      "# TODO: test if distance from other centroids should be taken into account\n",
      "\n",
      "closest_c0_dist = float(np.inf)\n",
      "closest_c0_point = np.zeros(3)\n",
      "for c0 in ligand_xyz_df.as_matrix()[idx==0]:\n",
      "    if np.linalg.norm(centroids[0]-c0) < closest_c0_dist:\n",
      "        closest_c0_dist = np.linalg.norm(centroids[0]-c0)\n",
      "        closest_c0_point = c0\n",
      "print closest_c0_point\n",
      "    \n",
      "closest_c1_dist = float(np.inf)\n",
      "closest_c1_point = np.zeros(3)\n",
      "for c1 in ligand_xyz_df.as_matrix()[idx==1]:\n",
      "    if np.linalg.norm(centroids[1]-c1) < closest_c1_dist:\n",
      "        closest_c1_dist = np.linalg.norm(centroids[0]-c1)\n",
      "        closest_c1_point = c1\n",
      "print closest_c1_point\n",
      "\n",
      "closest_c2_dist = float(np.inf)\n",
      "closest_c2_point = np.zeros(3)\n",
      "for c2 in ligand_xyz_df.as_matrix()[idx==2]:\n",
      "    if np.linalg.norm(centroids[2]-c2) < closest_c2_dist:\n",
      "        closest_c2_dist = np.linalg.norm(centroids[0]-c2)\n",
      "        closest_c2_point = c2\n",
      "print closest_c2_point"
     ],
     "language": "python",
     "metadata": {},
     "outputs": [
      {
       "output_type": "stream",
       "stream": "stdout",
       "text": [
        "[ -4.53999996 -12.55500031 -16.20700073]\n",
        "[ -3.48300004 -15.69200039 -18.66399956]\n",
        "[ -3.10500002  -9.59500027 -19.68600082]\n"
       ]
      }
     ],
     "prompt_number": 15
    },
    {
     "cell_type": "code",
     "collapsed": false,
     "input": [
      "# these are the atoms closest to the clusters\n",
      "\n",
      "rep_atoms = []\n",
      "rep_atoms.append(ligand_xyz_df[(ligand_xyz_df.atom_x == closest_c0_point[0]) & (ligand_xyz_df.atom_y == closest_c0_point[1]) & (ligand_xyz_df.atom_z == closest_c0_point[2])].index[0].strip())\n",
      "rep_atoms.append(ligand_xyz_df[(ligand_xyz_df.atom_x == closest_c1_point[0]) & (ligand_xyz_df.atom_y == closest_c1_point[1]) & (ligand_xyz_df.atom_z == closest_c1_point[2])].index[0].strip())\n",
      "rep_atoms.append(ligand_xyz_df[(ligand_xyz_df.atom_x == closest_c2_point[0]) & (ligand_xyz_df.atom_y == closest_c2_point[1]) & (ligand_xyz_df.atom_z == closest_c2_point[2])].index[0].strip())"
     ],
     "language": "python",
     "metadata": {},
     "outputs": [],
     "prompt_number": 16
    },
    {
     "cell_type": "heading",
     "level": 4,
     "metadata": {
      "collapsed": true
     },
     "source": [
      "get residues in proximity of these 3 points"
     ]
    },
    {
     "cell_type": "code",
     "collapsed": false,
     "input": [
      "rep_atoms"
     ],
     "language": "python",
     "metadata": {},
     "outputs": [
      {
       "metadata": {},
       "output_type": "pyout",
       "prompt_number": 17,
       "text": [
        "['C1', 'O6', 'O4']"
       ]
      }
     ],
     "prompt_number": 17
    },
    {
     "cell_type": "code",
     "collapsed": false,
     "input": [
      "def get_closest_coord(ref_point, dict_of_coords):\n",
      "    '''\n",
      "    Returns closest point in a collection of points to a point in space\n",
      "    Input: ref_point - atom on ligand\n",
      "           dict_of_coords - collection of nearest neighbors to the ref_point\n",
      "    Output: closest_id - full biopython id for closest residue atom\n",
      "            closest_point - coordinates of closest_id\n",
      "    '''\n",
      "    closest_dist = float(np.inf)\n",
      "    closest_id = None\n",
      "    closest_point = None\n",
      "    for k,coord in dict_of_coords.iteritems():\n",
      "        if np.linalg.norm(coord-ref_point) < closest_dist:\n",
      "            closest_dist = np.linalg.norm(coord-ref_point)\n",
      "            closest_point = coord\n",
      "            closest_id = k\n",
      "    return closest_id, closest_point"
     ],
     "language": "python",
     "metadata": {},
     "outputs": [],
     "prompt_number": 18
    },
    {
     "cell_type": "code",
     "collapsed": false,
     "input": [
      "import sys\n",
      "rep_interactions = OrderedDict()\n",
      "for x in rep_atoms:\n",
      "    # for each of the \"representative atoms\", get the neighbor list\n",
      "    coord = np.array(ligand_xyz_df.loc[x])\n",
      "    dist = 5.0\n",
      "    ns = NeighborSearch(Selection.unfold_entities(structure, 'A'))\n",
      "    neighbors = ns.search(coord, dist) # 5.0 for distance in angstrom\n",
      "    residue_list = Selection.unfold_entities(neighbors, 'R') # R for residues\n",
      "    atom_list = Selection.unfold_entities(neighbors, 'A')\n",
      "\n",
      "#     print 'NEIGHBORS WITHIN %d ANGSTROMS OF %s' % (dist, x)\n",
      "#     print 'RESIDUES:', residue_list\n",
      "#     print 'ATOMS:', atom_list\n",
      "#     print\n",
      "\n",
      "    # now for each of the atoms in the neighbor list, pick the closest one to the representative atom\n",
      "    coords_to_pick_from = {}\n",
      "    for a in atom_list:\n",
      "        # choosing atoms that are part of residues, not hetero atoms (could use them though..)\n",
      "        if a.get_parent().get_full_id()[3][0] == \" \":\n",
      "#             print a, a.get_parent(), a.get_full_id()\n",
      "            coords_to_pick_from[a.get_full_id()] = a.get_coord()\n",
      "    \n",
      "    rep_interactions[x] = get_closest_coord(np.array(ligand_xyz_df.loc[x]), coords_to_pick_from)\n",
      "    print 'CLOSEST to', x, get_closest_coord(np.array(ligand_xyz_df.loc[x]), coords_to_pick_from)"
     ],
     "language": "python",
     "metadata": {},
     "outputs": [
      {
       "output_type": "stream",
       "stream": "stdout",
       "text": [
        "CLOSEST to C1 (('COMT_WT', 0, 'A', (' ', 199, ' '), ('OE2', ' ')), array([ -6.83099985, -14.40299988, -15.37100029], dtype=float32))\n",
        "CLOSEST to O6 (('COMT_WT', 0, 'A', (' ', 38, ' '), ('CH2', ' ')), array([ -6.72700024, -15.60299969, -19.33399963], dtype=float32))\n",
        "CLOSEST to O4 (('COMT_WT', 0, 'A', (' ', 143, ' '), ('CZ3', ' ')), array([ -5.16300011,  -7.1500001 , -21.01199913], dtype=float32))\n"
       ]
      }
     ],
     "prompt_number": 19
    },
    {
     "cell_type": "code",
     "collapsed": false,
     "input": [
      "rep_interactions"
     ],
     "language": "python",
     "metadata": {},
     "outputs": [
      {
       "metadata": {},
       "output_type": "pyout",
       "prompt_number": 20,
       "text": [
        "OrderedDict([('C1', (('COMT_WT', 0, 'A', (' ', 199, ' '), ('OE2', ' ')), array([ -6.83099985, -14.40299988, -15.37100029], dtype=float32))), ('O6', (('COMT_WT', 0, 'A', (' ', 38, ' '), ('CH2', ' ')), array([ -6.72700024, -15.60299969, -19.33399963], dtype=float32))), ('O4', (('COMT_WT', 0, 'A', (' ', 143, ' '), ('CZ3', ' ')), array([ -5.16300011,  -7.1500001 , -21.01199913], dtype=float32)))])"
       ]
      }
     ],
     "prompt_number": 20
    },
    {
     "cell_type": "code",
     "collapsed": false,
     "input": [
      "# these are the interacting residues and atoms\n",
      "print '***NOTE: THESE RESIDUE NUMBERS MAY HAVE TO BE ADJUSTED***\\n***since they are from a crystal structure, not your AMBER structures***'\n",
      "print\n",
      "for atom,interaction in rep_interactions.iteritems():\n",
      "    print 'LIGAND ATOM:', atom\n",
      "    print 'CHAIN RESIDUE:', chain[interaction[0][3][1]]\n",
      "    print 'CHAIN RESIDUE + ATOM:', interaction\n",
      "    print"
     ],
     "language": "python",
     "metadata": {},
     "outputs": [
      {
       "output_type": "stream",
       "stream": "stdout",
       "text": [
        "***NOTE: THESE RESIDUE NUMBERS MAY HAVE TO BE ADJUSTED***\n",
        "***since they are from a crystal structure, not your AMBER structures***\n",
        "\n",
        "LIGAND ATOM: C1\n",
        "CHAIN RESIDUE: <Residue GLU het=  resseq=199 icode= >\n",
        "CHAIN RESIDUE + ATOM: (('COMT_WT', 0, 'A', (' ', 199, ' '), ('OE2', ' ')), array([ -6.83099985, -14.40299988, -15.37100029], dtype=float32))\n",
        "\n",
        "LIGAND ATOM: O6\n",
        "CHAIN RESIDUE: <Residue TRP het=  resseq=38 icode= >\n",
        "CHAIN RESIDUE + ATOM: (('COMT_WT', 0, 'A', (' ', 38, ' '), ('CH2', ' ')), array([ -6.72700024, -15.60299969, -19.33399963], dtype=float32))\n",
        "\n",
        "LIGAND ATOM: O4\n",
        "CHAIN RESIDUE: <Residue TRP het=  resseq=143 icode= >\n",
        "CHAIN RESIDUE + ATOM: (('COMT_WT', 0, 'A', (' ', 143, ' '), ('CZ3', ' ')), array([ -5.16300011,  -7.1500001 , -21.01199913], dtype=float32))\n",
        "\n"
       ]
      }
     ],
     "prompt_number": 21
    },
    {
     "cell_type": "code",
     "collapsed": false,
     "input": [
      "residues = rep_interactions.values()\n",
      "residue1 = rep_interactions.values()[0][0][3][1]\n",
      "residue2 = rep_interactions.values()[1][0][3][1]\n",
      "residue3 = rep_interactions.values()[2][0][3][1]"
     ],
     "language": "python",
     "metadata": {},
     "outputs": []
    },
    {
     "cell_type": "code",
     "collapsed": false,
     "input": [
      "ligand_atoms = rep_interactions.keys()\n",
      "ligand_atom1 = ligand_atoms[0]\n",
      "ligand_atom2 = ligand_atoms[1]\n",
      "ligand_atom3 = ligand_atoms[2]"
     ],
     "language": "python",
     "metadata": {},
     "outputs": []
    },
    {
     "cell_type": "heading",
     "level": 2,
     "metadata": {},
     "source": [
      "Option 2: manually input known interacting residues"
     ]
    },
    {
     "cell_type": "code",
     "collapsed": false,
     "input": [
      "# input either:\n",
      "# known crystal structure with ligand bound - then you will need to make sure to correct the atom names\n",
      "# any docked pdb structure here - then you don't need to correct atom names\n",
      "\n",
      "### **** ###\n",
      "my_protein = 'COMT_docked'\n",
      "### **** ###\n",
      "my_chain = 'A'\n",
      "### **** ###\n",
      "crystal = dock_base_folder + 'COMT/2_MD/1_WT_3BWM/2_SAM/main/3BWM-001_receptor_DNC_docked.pdb'"
     ],
     "language": "python",
     "metadata": {},
     "outputs": [],
     "prompt_number": 68
    },
    {
     "cell_type": "code",
     "collapsed": false,
     "input": [
      "parser = PDBParser()\n",
      "structure = parser.get_structure(my_protein, crystal)\n",
      "\n",
      "# 0 takes the first \"model\" - with x-ray structure it is always 0\n",
      "model = structure[0]\n",
      "\n",
      "# make sure chain is the correct one!\n",
      "chain = model[my_chain]"
     ],
     "language": "python",
     "metadata": {},
     "outputs": [],
     "prompt_number": 69
    },
    {
     "cell_type": "code",
     "collapsed": false,
     "input": [
      "# see all residues by doing:\n",
      "# chain.child_list\n",
      "\n",
      "### **** ###\n",
      "ligand = chain[('H_DNC', 216, ' ')]"
     ],
     "language": "python",
     "metadata": {},
     "outputs": [],
     "prompt_number": 72
    },
    {
     "cell_type": "code",
     "collapsed": false,
     "input": [
      "### **** ###\n",
      "residue1 = chain[143]['NZ']\n",
      "residue2 = chain[169]['ND2']\n",
      "residue3 = chain[198]['OE2']"
     ],
     "language": "python",
     "metadata": {},
     "outputs": [],
     "prompt_number": 73
    },
    {
     "cell_type": "code",
     "collapsed": false,
     "input": [
      "ligand_atom1 = 'O2'\n",
      "ligand_atom2 = 'C1'\n",
      "ligand_atom3 = 'O1'"
     ],
     "language": "python",
     "metadata": {},
     "outputs": [],
     "prompt_number": 461
    },
    {
     "cell_type": "code",
     "collapsed": false,
     "input": [
      "rep_interactions = OrderedDict()\n",
      "rep_interactions[ligand_atom1] = (residue1.get_full_id(), residue1.get_coord())\n",
      "rep_interactions[ligand_atom2] = (residue2.get_full_id(), residue2.get_coord())\n",
      "rep_interactions[ligand_atom3] = (residue3.get_full_id(), residue3.get_coord())"
     ],
     "language": "python",
     "metadata": {},
     "outputs": [],
     "prompt_number": 299
    },
    {
     "cell_type": "code",
     "collapsed": false,
     "input": [
      "# these are the interacting residues and atoms\n",
      "### **** double check residue numbers ###\n",
      "\n",
      "print '***IMPORTANT: DOUBLE CHECK ATOM NAMES, RESIDUE NUMBERS***'\n",
      "print\n",
      "for atom,interaction in rep_interactions.iteritems():\n",
      "    print 'LIGAND ATOM:', atom\n",
      "    print 'CHAIN RESIDUE:', chain[interaction[0][3][1]]\n",
      "    print 'CHAIN RESIDUE + ATOM:', interaction\n",
      "    print"
     ],
     "language": "python",
     "metadata": {},
     "outputs": [
      {
       "output_type": "stream",
       "stream": "stdout",
       "text": [
        "***IMPORTANT: DOUBLE CHECK ATOM NAMES, RESIDUE NUMBERS***\n",
        "\n",
        "LIGAND ATOM: O2\n",
        "CHAIN RESIDUE: <Residue LYS het=  resseq=143 icode= >\n",
        "CHAIN RESIDUE + ATOM: (('COMT_docked', 0, 'A', (' ', 143, ' '), ('NZ', ' ')), array([  3.87599993,  -1.26900005,  13.08399963], dtype=float32))\n",
        "\n",
        "LIGAND ATOM: C7\n",
        "CHAIN RESIDUE: <Residue ASN het=  resseq=169 icode= >\n",
        "CHAIN RESIDUE + ATOM: (('COMT_docked', 0, 'A', (' ', 169, ' '), ('ND2', ' ')), array([  1.08599997,  -2.4289999 ,  13.62300014], dtype=float32))\n",
        "\n",
        "LIGAND ATOM: O1\n",
        "CHAIN RESIDUE: <Residue GLU het=  resseq=198 icode= >\n",
        "CHAIN RESIDUE + ATOM: (('COMT_docked', 0, 'A', (' ', 198, ' '), ('OE2', ' ')), array([ -1.18700004,  -6.20200014,  10.375     ], dtype=float32))\n",
        "\n"
       ]
      }
     ],
     "prompt_number": 89
    },
    {
     "cell_type": "heading",
     "level": 2,
     "metadata": {},
     "source": [
      "Mapping dictionary for other ligands (COMT specific)"
     ]
    },
    {
     "cell_type": "code",
     "collapsed": false,
     "input": [
      "from StringIO import StringIO"
     ],
     "language": "python",
     "metadata": {},
     "outputs": [],
     "prompt_number": 77
    },
    {
     "cell_type": "code",
     "collapsed": false,
     "input": [
      "raw = StringIO('''DNC\tTCW\tSID\tLDP\tALE\tLNR\n",
      "O1\tO2\tO3\tO1\tO1\tO1\n",
      "O2\tO5\tO2\tO2\tO2\tO2\n",
      "C1\tC4\tC12\tC7\tC3\tC1\n",
      "C2\tC7\tC11\tC3\tC4\tC3\n",
      "C3\tC6\tC10\tC6\tC5\tC4\n",
      "C4\tC5\tC9\tC5\tC6\tC5\n",
      "C5\tC2\tC8\tC2\tC1\tC6\n",
      "C6\tC3\tC13\tC4\tC2\tC2''')"
     ],
     "language": "python",
     "metadata": {},
     "outputs": [],
     "prompt_number": 465
    },
    {
     "cell_type": "code",
     "collapsed": false,
     "input": [
      "catecholamine_atom_mapping = pd.DataFrame.from_csv(raw, sep='\\t')\n",
      "catecholamine_atom_mapping"
     ],
     "language": "python",
     "metadata": {},
     "outputs": [
      {
       "html": [
        "<div style=\"max-height:1000px;max-width:1500px;overflow:auto;\">\n",
        "<table border=\"1\" class=\"dataframe\">\n",
        "  <thead>\n",
        "    <tr style=\"text-align: right;\">\n",
        "      <th></th>\n",
        "      <th>TCW</th>\n",
        "      <th>SID</th>\n",
        "      <th>LDP</th>\n",
        "      <th>ALE</th>\n",
        "      <th>LNR</th>\n",
        "    </tr>\n",
        "    <tr>\n",
        "      <th>DNC</th>\n",
        "      <th></th>\n",
        "      <th></th>\n",
        "      <th></th>\n",
        "      <th></th>\n",
        "      <th></th>\n",
        "    </tr>\n",
        "  </thead>\n",
        "  <tbody>\n",
        "    <tr>\n",
        "      <th>O1</th>\n",
        "      <td> O2</td>\n",
        "      <td>  O3</td>\n",
        "      <td> O1</td>\n",
        "      <td> O1</td>\n",
        "      <td> O1</td>\n",
        "    </tr>\n",
        "    <tr>\n",
        "      <th>O2</th>\n",
        "      <td> O5</td>\n",
        "      <td>  O2</td>\n",
        "      <td> O2</td>\n",
        "      <td> O2</td>\n",
        "      <td> O2</td>\n",
        "    </tr>\n",
        "    <tr>\n",
        "      <th>C1</th>\n",
        "      <td> C4</td>\n",
        "      <td> C12</td>\n",
        "      <td> C7</td>\n",
        "      <td> C3</td>\n",
        "      <td> C1</td>\n",
        "    </tr>\n",
        "    <tr>\n",
        "      <th>C2</th>\n",
        "      <td> C7</td>\n",
        "      <td> C11</td>\n",
        "      <td> C3</td>\n",
        "      <td> C4</td>\n",
        "      <td> C3</td>\n",
        "    </tr>\n",
        "    <tr>\n",
        "      <th>C3</th>\n",
        "      <td> C6</td>\n",
        "      <td> C10</td>\n",
        "      <td> C6</td>\n",
        "      <td> C5</td>\n",
        "      <td> C4</td>\n",
        "    </tr>\n",
        "    <tr>\n",
        "      <th>C4</th>\n",
        "      <td> C5</td>\n",
        "      <td>  C9</td>\n",
        "      <td> C5</td>\n",
        "      <td> C6</td>\n",
        "      <td> C5</td>\n",
        "    </tr>\n",
        "    <tr>\n",
        "      <th>C5</th>\n",
        "      <td> C2</td>\n",
        "      <td>  C8</td>\n",
        "      <td> C2</td>\n",
        "      <td> C1</td>\n",
        "      <td> C6</td>\n",
        "    </tr>\n",
        "    <tr>\n",
        "      <th>C6</th>\n",
        "      <td> C3</td>\n",
        "      <td> C13</td>\n",
        "      <td> C4</td>\n",
        "      <td> C2</td>\n",
        "      <td> C2</td>\n",
        "    </tr>\n",
        "  </tbody>\n",
        "</table>\n",
        "</div>"
       ],
       "metadata": {},
       "output_type": "pyout",
       "prompt_number": 466,
       "text": [
        "    TCW  SID LDP ALE LNR\n",
        "DNC                     \n",
        "O1   O2   O3  O1  O1  O1\n",
        "O2   O5   O2  O2  O2  O2\n",
        "C1   C4  C12  C7  C3  C1\n",
        "C2   C7  C11  C3  C4  C3\n",
        "C3   C6  C10  C6  C5  C4\n",
        "C4   C5   C9  C5  C6  C5\n",
        "C5   C2   C8  C2  C1  C6\n",
        "C6   C3  C13  C4  C2  C2"
       ]
      }
     ],
     "prompt_number": 466
    },
    {
     "cell_type": "code",
     "collapsed": false,
     "input": [
      "catecholamine_atom_mapping.loc['O1', 'TCW']"
     ],
     "language": "python",
     "metadata": {},
     "outputs": [
      {
       "metadata": {},
       "output_type": "pyout",
       "prompt_number": 80,
       "text": [
        "'O2'"
       ]
      }
     ],
     "prompt_number": 80
    },
    {
     "cell_type": "heading",
     "level": 1,
     "metadata": {},
     "source": [
      "Loading receptor + ligand PDBs and calculating all distances"
     ]
    },
    {
     "cell_type": "code",
     "collapsed": true,
     "input": [
      "for protein,y in docking.iteritems():\n",
      "    for mod,types in y.iteritems():\n",
      "        for ty,props in types.iteritems():\n",
      "            \n",
      "            main = os.path.join(dock_base_folder, protein, '2_MD', mod, ty, 'main')\n",
      "            analysis = os.path.join(dock_base_folder, protein, '2_MD', mod, ty, 'analysis')\n",
      "            \n",
      "            for lig in props['ligands']:\n",
      "                \n",
      "                ligand_resname = 'H_' + lig\n",
      "                \n",
      "                start = 1\n",
      "                end = docking[protein][mod][ty]['numframes']\n",
      "\n",
      "                distances_dict = defaultdict(dict)\n",
      "                idx = 0\n",
      "                for i in range(1,end+1):\n",
      "                    \n",
      "                    docked = os.path.join(main, '{basename}-{:03d}_receptor_{ligand}_docked.pdb'.format(i, basename=docking[protein][mod][ty]['basename'], ligand=lig))\n",
      "\n",
      "                    # if the ligand did not successfully dock, this file will not exist. continue on but make sure to increase idx\n",
      "                    if not os.path.exists(docked):\n",
      "                        idx += 1\n",
      "                        continue\n",
      "                        \n",
      "                    # load the receptor+ligand PDB\n",
      "                    parser = PDBParser()\n",
      "                    structure = parser.get_structure('receptor_and_docked_ligand', docked)\n",
      "                    model = structure[0]\n",
      "                    chain = model['A']\n",
      "                    \n",
      "                    # the docked ligand should be the last \"residue\"\n",
      "                    ligand_resnum = len(list(structure.get_residues()))\n",
      "\n",
      "                    for ligand_atom, protein_interaction in rep_interactions.iteritems():\n",
      "                        \n",
      "                        # COMT SPECIFIC - mapping atoms\n",
      "                        if lig != 'DNC':\n",
      "                            ligand_atom = catecholamine_atom_mapping.loc[ligand_atom, lig]\n",
      "\n",
      "                        # first get atom object of the ligand atom\n",
      "                        docked_dnc_atom_object = chain[(ligand_resname, ligand_resnum, ' ')][ligand_atom]\n",
      "\n",
      "                        # then get the interaction information for that ligand atom\n",
      "                        interaction = protein_interaction[0]\n",
      "\n",
      "                        # then get the atom object of the residue\n",
      "                        interaction_atom_object = chain[interaction[3][1]][interaction[4][0]]\n",
      "\n",
      "                        # then calculate the distance\n",
      "                        distance = docked_dnc_atom_object - interaction_atom_object\n",
      "\n",
      "                        # save frame number, ligand atom, interaction atom, distance\n",
      "                        distances_dict[idx]['frame'] = i\n",
      "                        distances_dict[idx]['ligand_atom'] = ligand_atom\n",
      "                        distances_dict[idx]['residue_atom'] = interaction[4][0]\n",
      "                        distances_dict[idx]['distance'] = distance\n",
      "\n",
      "                        idx += 1\n",
      "\n",
      "                distances_df = pd.DataFrame.from_dict(distances_dict, orient='index')\n",
      "                distances_df = distances_df[['frame','ligand_atom','residue_atom','distance']]\n",
      "                distances_df.to_csv(os.path.join(analysis, '{today}-{basename}_{ligand}_docked_distances.csv'.format(today=TODAY, basename=docking[protein][mod][ty]['basename'], ligand=lig)))\n",
      "                print 'Saved:', os.path.join(analysis, '{today}-{basename}_{ligand}_docked_distances.csv'.format(today=TODAY, basename=docking[protein][mod][ty]['basename'], ligand=lig))"
     ],
     "language": "python",
     "metadata": {},
     "outputs": [
      {
       "output_type": "stream",
       "stream": "stdout",
       "text": [
        "Saved: /home/nathan/projects/DOCK/COMT/2_MD/2_SNP_3BWY/3_HALO/analysis/150903-3BWY_DNC_docked_distances.csv\n",
        "Saved:"
       ]
      },
      {
       "output_type": "stream",
       "stream": "stdout",
       "text": [
        " /home/nathan/projects/DOCK/COMT/2_MD/2_SNP_3BWY/3_HALO/analysis/150903-3BWY_TCW_docked_distances.csv\n",
        "Saved:"
       ]
      },
      {
       "output_type": "stream",
       "stream": "stdout",
       "text": [
        " /home/nathan/projects/DOCK/COMT/2_MD/2_SNP_3BWY/3_HALO/analysis/150903-3BWY_SID_docked_distances.csv\n",
        "Saved:"
       ]
      },
      {
       "output_type": "stream",
       "stream": "stdout",
       "text": [
        " /home/nathan/projects/DOCK/COMT/2_MD/2_SNP_3BWY/3_HALO/analysis/150903-3BWY_LNR_docked_distances.csv\n",
        "Saved:"
       ]
      },
      {
       "output_type": "stream",
       "stream": "stdout",
       "text": [
        " /home/nathan/projects/DOCK/COMT/2_MD/2_SNP_3BWY/3_HALO/analysis/150903-3BWY_LDP_docked_distances.csv\n",
        "Saved:"
       ]
      },
      {
       "output_type": "stream",
       "stream": "stdout",
       "text": [
        " /home/nathan/projects/DOCK/COMT/2_MD/2_SNP_3BWY/3_HALO/analysis/150903-3BWY_ALE_docked_distances.csv\n",
        "Saved:"
       ]
      },
      {
       "output_type": "stream",
       "stream": "stdout",
       "text": [
        " /home/nathan/projects/DOCK/COMT/2_MD/2_SNP_3BWY/2_SAM/analysis/150903-3BWY_DNC_docked_distances.csv\n",
        "Saved:"
       ]
      },
      {
       "output_type": "stream",
       "stream": "stdout",
       "text": [
        " /home/nathan/projects/DOCK/COMT/2_MD/2_SNP_3BWY/2_SAM/analysis/150903-3BWY_TCW_docked_distances.csv\n",
        "Saved:"
       ]
      },
      {
       "output_type": "stream",
       "stream": "stdout",
       "text": [
        " /home/nathan/projects/DOCK/COMT/2_MD/2_SNP_3BWY/2_SAM/analysis/150903-3BWY_SID_docked_distances.csv\n",
        "Saved:"
       ]
      },
      {
       "output_type": "stream",
       "stream": "stdout",
       "text": [
        " /home/nathan/projects/DOCK/COMT/2_MD/2_SNP_3BWY/2_SAM/analysis/150903-3BWY_LNR_docked_distances.csv\n",
        "Saved:"
       ]
      },
      {
       "output_type": "stream",
       "stream": "stdout",
       "text": [
        " /home/nathan/projects/DOCK/COMT/2_MD/2_SNP_3BWY/2_SAM/analysis/150903-3BWY_LDP_docked_distances.csv\n",
        "Saved:"
       ]
      },
      {
       "output_type": "stream",
       "stream": "stdout",
       "text": [
        " /home/nathan/projects/DOCK/COMT/2_MD/2_SNP_3BWY/2_SAM/analysis/150903-3BWY_ALE_docked_distances.csv\n",
        "Saved:"
       ]
      },
      {
       "output_type": "stream",
       "stream": "stdout",
       "text": [
        " /home/nathan/projects/DOCK/COMT/2_MD/1_WT_3BWM/3_HALO/analysis/150903-3BWM_DNC_docked_distances.csv\n",
        "Saved:"
       ]
      },
      {
       "output_type": "stream",
       "stream": "stdout",
       "text": [
        " /home/nathan/projects/DOCK/COMT/2_MD/1_WT_3BWM/3_HALO/analysis/150903-3BWM_TCW_docked_distances.csv\n",
        "Saved:"
       ]
      },
      {
       "output_type": "stream",
       "stream": "stdout",
       "text": [
        " /home/nathan/projects/DOCK/COMT/2_MD/1_WT_3BWM/3_HALO/analysis/150903-3BWM_SID_docked_distances.csv\n",
        "Saved:"
       ]
      },
      {
       "output_type": "stream",
       "stream": "stdout",
       "text": [
        " /home/nathan/projects/DOCK/COMT/2_MD/1_WT_3BWM/3_HALO/analysis/150903-3BWM_LNR_docked_distances.csv\n",
        "Saved:"
       ]
      },
      {
       "output_type": "stream",
       "stream": "stdout",
       "text": [
        " /home/nathan/projects/DOCK/COMT/2_MD/1_WT_3BWM/3_HALO/analysis/150903-3BWM_LDP_docked_distances.csv\n",
        "Saved:"
       ]
      },
      {
       "output_type": "stream",
       "stream": "stdout",
       "text": [
        " /home/nathan/projects/DOCK/COMT/2_MD/1_WT_3BWM/3_HALO/analysis/150903-3BWM_ALE_docked_distances.csv\n",
        "Saved:"
       ]
      },
      {
       "output_type": "stream",
       "stream": "stdout",
       "text": [
        " /home/nathan/projects/DOCK/COMT/2_MD/1_WT_3BWM/2_SAM/analysis/150903-3BWM_DNC_docked_distances.csv\n",
        "Saved:"
       ]
      },
      {
       "output_type": "stream",
       "stream": "stdout",
       "text": [
        " /home/nathan/projects/DOCK/COMT/2_MD/1_WT_3BWM/2_SAM/analysis/150903-3BWM_TCW_docked_distances.csv\n",
        "Saved:"
       ]
      },
      {
       "output_type": "stream",
       "stream": "stdout",
       "text": [
        " /home/nathan/projects/DOCK/COMT/2_MD/1_WT_3BWM/2_SAM/analysis/150903-3BWM_SID_docked_distances.csv\n",
        "Saved:"
       ]
      },
      {
       "output_type": "stream",
       "stream": "stdout",
       "text": [
        " /home/nathan/projects/DOCK/COMT/2_MD/1_WT_3BWM/2_SAM/analysis/150903-3BWM_LNR_docked_distances.csv\n",
        "Saved:"
       ]
      },
      {
       "output_type": "stream",
       "stream": "stdout",
       "text": [
        " /home/nathan/projects/DOCK/COMT/2_MD/1_WT_3BWM/2_SAM/analysis/150903-3BWM_LDP_docked_distances.csv\n",
        "Saved:"
       ]
      },
      {
       "output_type": "stream",
       "stream": "stdout",
       "text": [
        " /home/nathan/projects/DOCK/COMT/2_MD/1_WT_3BWM/2_SAM/analysis/150903-3BWM_ALE_docked_distances.csv\n"
       ]
      }
     ],
     "prompt_number": 318
    },
    {
     "cell_type": "heading",
     "level": 1,
     "metadata": {
      "collapsed": true
     },
     "source": [
      "Clustering these distances"
     ]
    },
    {
     "cell_type": "code",
     "collapsed": true,
     "input": [
      "import seaborn as sns\n",
      "sns.set_style('white')\n",
      "sns.set_context('talk')\n",
      "colors = sns.color_palette('bright')"
     ],
     "language": "python",
     "metadata": {},
     "outputs": [],
     "prompt_number": 319
    },
    {
     "cell_type": "code",
     "collapsed": false,
     "input": [
      "# http://stackoverflow.com/questions/18364026/clustering-values-by-their-proximity-in-python-machine-learning\n",
      "# function to cluster points\n",
      "from sklearn.cluster import MeanShift, estimate_bandwidth\n",
      "def get_meanshift_groups(data_df, column, param=0.4):\n",
      "    new_data_df = data_df.copy()\n",
      "    new_data_df['cluster'] = np.nan\n",
      "    \n",
      "    x = data_df[column].tolist()\n",
      "    X = np.array(zip(x,np.zeros(len(x))), dtype=np.float)\n",
      "    \n",
      "    bandwidth = estimate_bandwidth(X, quantile=param)\n",
      "    ms = MeanShift(bandwidth=bandwidth, bin_seeding=True)\n",
      "    ms.fit(X)\n",
      "    labels = ms.labels_\n",
      "    cluster_centers = ms.cluster_centers_\n",
      "    \n",
      "    labels_unique = np.unique(labels)\n",
      "    \n",
      "    n_clusters_ = len(labels_unique)\n",
      "\n",
      "    for k in range(n_clusters_):\n",
      "        my_members = labels == k\n",
      "        for xxx in X[my_members, 0]:\n",
      "            new_data_df.loc[(new_data_df[new_data_df[column] == xxx].index),'cluster'] = k\n",
      "            \n",
      "    return new_data_df"
     ],
     "language": "python",
     "metadata": {},
     "outputs": [],
     "prompt_number": 320
    },
    {
     "cell_type": "heading",
     "level": 4,
     "metadata": {},
     "source": [
      "Choosing which ligand to look at (must do manually)"
     ]
    },
    {
     "cell_type": "code",
     "collapsed": false,
     "input": [
      "ligand_atom1 = 'O2'\n",
      "ligand_atom2 = 'C1'\n",
      "ligand_atom3 = 'O1'\n",
      "\n",
      "# distances_df_path = '/home/nathan/projects/DOCK/COMT/2_MD/1_WT_3BWM/2_SAM/analysis/150903-3BWM_ALE_docked_distances.csv'\n",
      "# distances_df_path = '/home/nathan/projects/DOCK/COMT/2_MD/1_WT_3BWM/2_SAM/analysis/150903-3BWM_DNC_docked_distances.csv'\n",
      "# distances_df_path = '/home/nathan/projects/DOCK/COMT/2_MD/1_WT_3BWM/2_SAM/analysis/150903-3BWM_LDP_docked_distances.csv'\n",
      "# distances_df_path = '/home/nathan/projects/DOCK/COMT/2_MD/1_WT_3BWM/2_SAM/analysis/150903-3BWM_LNR_docked_distances.csv'\n",
      "# distances_df_path = '/home/nathan/projects/DOCK/COMT/2_MD/1_WT_3BWM/2_SAM/analysis/150903-3BWM_SID_docked_distances.csv'\n",
      "# distances_df_path = '/home/nathan/projects/DOCK/COMT/2_MD/1_WT_3BWM/2_SAM/analysis/150903-3BWM_TCW_docked_distances.csv'\n",
      "# distances_df_path = '/home/nathan/projects/DOCK/COMT/2_MD/1_WT_3BWM/3_HALO/analysis/150903-3BWM_ALE_docked_distances.csv'\n",
      "# distances_df_path = '/home/nathan/projects/DOCK/COMT/2_MD/1_WT_3BWM/3_HALO/analysis/150903-3BWM_DNC_docked_distances.csv'\n",
      "# distances_df_path = '/home/nathan/projects/DOCK/COMT/2_MD/1_WT_3BWM/3_HALO/analysis/150903-3BWM_LDP_docked_distances.csv'\n",
      "# distances_df_path = '/home/nathan/projects/DOCK/COMT/2_MD/1_WT_3BWM/3_HALO/analysis/150903-3BWM_LNR_docked_distances.csv'\n",
      "# distances_df_path = '/home/nathan/projects/DOCK/COMT/2_MD/1_WT_3BWM/3_HALO/analysis/150903-3BWM_SID_docked_distances.csv'\n",
      "# distances_df_path = '/home/nathan/projects/DOCK/COMT/2_MD/1_WT_3BWM/3_HALO/analysis/150903-3BWM_TCW_docked_distances.csv'\n",
      "# distances_df_path = '/home/nathan/projects/DOCK/COMT/2_MD/2_SNP_3BWY/2_SAM/analysis/150903-3BWY_ALE_docked_distances.csv'\n",
      "# distances_df_path = '/home/nathan/projects/DOCK/COMT/2_MD/2_SNP_3BWY/2_SAM/analysis/150903-3BWY_DNC_docked_distances.csv'\n",
      "# distances_df_path = '/home/nathan/projects/DOCK/COMT/2_MD/2_SNP_3BWY/2_SAM/analysis/150903-3BWY_LDP_docked_distances.csv'\n",
      "# distances_df_path = '/home/nathan/projects/DOCK/COMT/2_MD/2_SNP_3BWY/2_SAM/analysis/150903-3BWY_LNR_docked_distances.csv'\n",
      "# distances_df_path = '/home/nathan/projects/DOCK/COMT/2_MD/2_SNP_3BWY/2_SAM/analysis/150903-3BWY_SID_docked_distances.csv'\n",
      "# distances_df_path = '/home/nathan/projects/DOCK/COMT/2_MD/2_SNP_3BWY/2_SAM/analysis/150903-3BWY_TCW_docked_distances.csv'\n",
      "# distances_df_path = '/home/nathan/projects/DOCK/COMT/2_MD/2_SNP_3BWY/3_HALO/analysis/150903-3BWY_ALE_docked_distances.csv'\n",
      "# distances_df_path = '/home/nathan/projects/DOCK/COMT/2_MD/2_SNP_3BWY/3_HALO/analysis/150903-3BWY_DNC_docked_distances.csv'\n",
      "# distances_df_path = '/home/nathan/projects/DOCK/COMT/2_MD/2_SNP_3BWY/3_HALO/analysis/150903-3BWY_LDP_docked_distances.csv'\n",
      "# distances_df_path = '/home/nathan/projects/DOCK/COMT/2_MD/2_SNP_3BWY/3_HALO/analysis/150903-3BWY_LNR_docked_distances.csv'\n",
      "# distances_df_path = '/home/nathan/projects/DOCK/COMT/2_MD/2_SNP_3BWY/3_HALO/analysis/150903-3BWY_SID_docked_distances.csv'\n",
      "distances_df_path = '/home/nathan/projects/DOCK/COMT/2_MD/2_SNP_3BWY/3_HALO/analysis/150903-3BWY_TCW_docked_distances.csv'\n",
      "\n",
      "distances_df = pd.read_csv(distances_df_path, index_col=0)\n",
      "\n",
      "basename = os.path.basename(distances_df_path).split('_')[0].split('-')[1]\n",
      "ligand_name = os.path.basename(distances_df_path).split('_')[1]\n",
      "\n",
      "if ligand_name != 'DNC':\n",
      "    ligand_atom1 = catecholamine_atom_mapping.loc[ligand_atom1, ligand_name]\n",
      "    ligand_atom2 = catecholamine_atom_mapping.loc[ligand_atom2, ligand_name]\n",
      "    ligand_atom3 = catecholamine_atom_mapping.loc[ligand_atom3, ligand_name]"
     ],
     "language": "python",
     "metadata": {},
     "outputs": [],
     "prompt_number": 1616
    },
    {
     "cell_type": "code",
     "collapsed": false,
     "input": [
      "print basename\n",
      "print ligand_name\n",
      "print 'Ligand atom 1:', ligand_atom1\n",
      "print 'Ligand atom 2:', ligand_atom2\n",
      "print 'Ligand atom 3:', ligand_atom3"
     ],
     "language": "python",
     "metadata": {},
     "outputs": [
      {
       "output_type": "stream",
       "stream": "stdout",
       "text": [
        "3BWY\n",
        "TCW\n",
        "Ligand atom 1: O5\n",
        "Ligand atom 2: C4\n",
        "Ligand atom 3: O2\n"
       ]
      }
     ],
     "prompt_number": 1617
    },
    {
     "cell_type": "heading",
     "level": 4,
     "metadata": {},
     "source": [
      "Ligand atom #1 to residue atom #1"
     ]
    },
    {
     "cell_type": "code",
     "collapsed": false,
     "input": [
      "atom1 = get_meanshift_groups(distances_df[distances_df.ligand_atom == ligand_atom1], 'distance', 0.35)\n",
      "atom1.head()"
     ],
     "language": "python",
     "metadata": {},
     "outputs": [
      {
       "html": [
        "<div style=\"max-height:1000px;max-width:1500px;overflow:auto;\">\n",
        "<table border=\"1\" class=\"dataframe\">\n",
        "  <thead>\n",
        "    <tr style=\"text-align: right;\">\n",
        "      <th></th>\n",
        "      <th>frame</th>\n",
        "      <th>ligand_atom</th>\n",
        "      <th>residue_atom</th>\n",
        "      <th>distance</th>\n",
        "      <th>cluster</th>\n",
        "    </tr>\n",
        "  </thead>\n",
        "  <tbody>\n",
        "    <tr>\n",
        "      <th>0 </th>\n",
        "      <td> 1</td>\n",
        "      <td> O5</td>\n",
        "      <td> NZ</td>\n",
        "      <td> 12.213777</td>\n",
        "      <td> 2</td>\n",
        "    </tr>\n",
        "    <tr>\n",
        "      <th>3 </th>\n",
        "      <td> 2</td>\n",
        "      <td> O5</td>\n",
        "      <td> NZ</td>\n",
        "      <td>  3.537096</td>\n",
        "      <td> 0</td>\n",
        "    </tr>\n",
        "    <tr>\n",
        "      <th>6 </th>\n",
        "      <td> 3</td>\n",
        "      <td> O5</td>\n",
        "      <td> NZ</td>\n",
        "      <td> 13.440134</td>\n",
        "      <td> 2</td>\n",
        "    </tr>\n",
        "    <tr>\n",
        "      <th>9 </th>\n",
        "      <td> 4</td>\n",
        "      <td> O5</td>\n",
        "      <td> NZ</td>\n",
        "      <td>  3.875364</td>\n",
        "      <td> 0</td>\n",
        "    </tr>\n",
        "    <tr>\n",
        "      <th>12</th>\n",
        "      <td> 5</td>\n",
        "      <td> O5</td>\n",
        "      <td> NZ</td>\n",
        "      <td>  7.254645</td>\n",
        "      <td> 1</td>\n",
        "    </tr>\n",
        "  </tbody>\n",
        "</table>\n",
        "</div>"
       ],
       "metadata": {},
       "output_type": "pyout",
       "prompt_number": 1618,
       "text": [
        "    frame ligand_atom residue_atom   distance  cluster\n",
        "0       1          O5           NZ  12.213777        2\n",
        "3       2          O5           NZ   3.537096        0\n",
        "6       3          O5           NZ  13.440134        2\n",
        "9       4          O5           NZ   3.875364        0\n",
        "12      5          O5           NZ   7.254645        1"
       ]
      }
     ],
     "prompt_number": 1618
    },
    {
     "cell_type": "code",
     "collapsed": false,
     "input": [
      "# what's the frame with the closest distance to the residue atom?\n",
      "atom1.sort('distance').head(10)"
     ],
     "language": "python",
     "metadata": {},
     "outputs": [
      {
       "html": [
        "<div style=\"max-height:1000px;max-width:1500px;overflow:auto;\">\n",
        "<table border=\"1\" class=\"dataframe\">\n",
        "  <thead>\n",
        "    <tr style=\"text-align: right;\">\n",
        "      <th></th>\n",
        "      <th>frame</th>\n",
        "      <th>ligand_atom</th>\n",
        "      <th>residue_atom</th>\n",
        "      <th>distance</th>\n",
        "      <th>cluster</th>\n",
        "    </tr>\n",
        "  </thead>\n",
        "  <tbody>\n",
        "    <tr>\n",
        "      <th>1151</th>\n",
        "      <td> 386</td>\n",
        "      <td> O5</td>\n",
        "      <td> NZ</td>\n",
        "      <td> 2.934249</td>\n",
        "      <td> 0</td>\n",
        "    </tr>\n",
        "    <tr>\n",
        "      <th>424 </th>\n",
        "      <td> 143</td>\n",
        "      <td> O5</td>\n",
        "      <td> NZ</td>\n",
        "      <td> 2.953843</td>\n",
        "      <td> 0</td>\n",
        "    </tr>\n",
        "    <tr>\n",
        "      <th>1325</th>\n",
        "      <td> 444</td>\n",
        "      <td> O5</td>\n",
        "      <td> NZ</td>\n",
        "      <td> 2.988406</td>\n",
        "      <td> 0</td>\n",
        "    </tr>\n",
        "    <tr>\n",
        "      <th>1289</th>\n",
        "      <td> 432</td>\n",
        "      <td> O5</td>\n",
        "      <td> NZ</td>\n",
        "      <td> 2.988575</td>\n",
        "      <td> 0</td>\n",
        "    </tr>\n",
        "    <tr>\n",
        "      <th>394 </th>\n",
        "      <td> 133</td>\n",
        "      <td> O5</td>\n",
        "      <td> NZ</td>\n",
        "      <td> 3.005096</td>\n",
        "      <td> 0</td>\n",
        "    </tr>\n",
        "    <tr>\n",
        "      <th>421 </th>\n",
        "      <td> 142</td>\n",
        "      <td> O5</td>\n",
        "      <td> NZ</td>\n",
        "      <td> 3.008224</td>\n",
        "      <td> 0</td>\n",
        "    </tr>\n",
        "    <tr>\n",
        "      <th>159 </th>\n",
        "      <td>  54</td>\n",
        "      <td> O5</td>\n",
        "      <td> NZ</td>\n",
        "      <td> 3.010805</td>\n",
        "      <td> 0</td>\n",
        "    </tr>\n",
        "    <tr>\n",
        "      <th>937 </th>\n",
        "      <td> 314</td>\n",
        "      <td> O5</td>\n",
        "      <td> NZ</td>\n",
        "      <td> 3.019329</td>\n",
        "      <td> 0</td>\n",
        "    </tr>\n",
        "    <tr>\n",
        "      <th>1064</th>\n",
        "      <td> 357</td>\n",
        "      <td> O5</td>\n",
        "      <td> NZ</td>\n",
        "      <td> 3.025327</td>\n",
        "      <td> 0</td>\n",
        "    </tr>\n",
        "    <tr>\n",
        "      <th>994 </th>\n",
        "      <td> 333</td>\n",
        "      <td> O5</td>\n",
        "      <td> NZ</td>\n",
        "      <td> 3.025876</td>\n",
        "      <td> 0</td>\n",
        "    </tr>\n",
        "  </tbody>\n",
        "</table>\n",
        "</div>"
       ],
       "metadata": {},
       "output_type": "pyout",
       "prompt_number": 1619,
       "text": [
        "      frame ligand_atom residue_atom  distance  cluster\n",
        "1151    386          O5           NZ  2.934249        0\n",
        "424     143          O5           NZ  2.953843        0\n",
        "1325    444          O5           NZ  2.988406        0\n",
        "1289    432          O5           NZ  2.988575        0\n",
        "394     133          O5           NZ  3.005096        0\n",
        "421     142          O5           NZ  3.008224        0\n",
        "159      54          O5           NZ  3.010805        0\n",
        "937     314          O5           NZ  3.019329        0\n",
        "1064    357          O5           NZ  3.025327        0\n",
        "994     333          O5           NZ  3.025876        0"
       ]
      }
     ],
     "prompt_number": 1619
    },
    {
     "cell_type": "code",
     "collapsed": false,
     "input": [
      "# how many clusters are there?\n",
      "atom1.cluster.unique()"
     ],
     "language": "python",
     "metadata": {},
     "outputs": [
      {
       "metadata": {},
       "output_type": "pyout",
       "prompt_number": 1620,
       "text": [
        "array([ 2.,  0.,  1.])"
       ]
      }
     ],
     "prompt_number": 1620
    },
    {
     "cell_type": "code",
     "collapsed": true,
     "input": [
      "limits_1 = []\n",
      "limits_1_best_cluster = -1\n",
      "bottom_tracker = float(np.inf)\n",
      "\n",
      "for cluster in atom1.cluster.unique():\n",
      "    bottom = min(atom1[atom1.cluster == cluster].distance)\n",
      "    top = max(atom1[atom1.cluster == cluster].distance)\n",
      "    if bottom<bottom_tracker:\n",
      "        limits_1_best_cluster = cluster\n",
      "    limits_1.append((bottom,top))\n",
      "    \n",
      "    bottom_tracker = bottom"
     ],
     "language": "python",
     "metadata": {},
     "outputs": [],
     "prompt_number": 1621
    },
    {
     "cell_type": "code",
     "collapsed": false,
     "input": [
      "limits_1"
     ],
     "language": "python",
     "metadata": {},
     "outputs": [
      {
       "metadata": {},
       "output_type": "pyout",
       "prompt_number": 1622,
       "text": [
        "[(11.04580783843994, 16.31236457824707),\n",
        " (2.9342489242553711, 5.5233440399169922),\n",
        " (5.5377492904663086, 11.025750160217283)]"
       ]
      }
     ],
     "prompt_number": 1622
    },
    {
     "cell_type": "code",
     "collapsed": false,
     "input": [
      "limits_1_best_cluster"
     ],
     "language": "python",
     "metadata": {},
     "outputs": [
      {
       "metadata": {},
       "output_type": "pyout",
       "prompt_number": 1623,
       "text": [
        "0.0"
       ]
      }
     ],
     "prompt_number": 1623
    },
    {
     "cell_type": "code",
     "collapsed": false,
     "input": [
      "atom1.distance.hist(bins=50,normed=1)\n",
      "i=0\n",
      "for limit in limits_1:\n",
      "    hist = atom1.distance.plot(kind='kde', grid=False, figsize=(6,3)).axvspan(limit[0], limit[1], color=colors[1-i], alpha=0.3)\n",
      "    i+=1\n",
      "fig = hist.get_figure()\n",
      "# fig.savefig('atom1.svg', type='svg', dpi=300)"
     ],
     "language": "python",
     "metadata": {},
     "outputs": [
      {
       "metadata": {},
       "output_type": "display_data",
       "png": "[encoded data removed]",
       "text": [
        "<matplotlib.figure.Figure at 0x7fac3eb4a890>"
       ]
      }
     ],
     "prompt_number": 1624
    },
    {
     "cell_type": "heading",
     "level": 4,
     "metadata": {},
     "source": [
      "Ligand atom #2 to residue atom #2"
     ]
    },
    {
     "cell_type": "code",
     "collapsed": false,
     "input": [
      "atom2 = get_meanshift_groups(distances_df[distances_df.ligand_atom == ligand_atom2], 'distance', 0.4)\n",
      "atom2.head()"
     ],
     "language": "python",
     "metadata": {
      "scrolled": true
     },
     "outputs": [
      {
       "html": [
        "<div style=\"max-height:1000px;max-width:1500px;overflow:auto;\">\n",
        "<table border=\"1\" class=\"dataframe\">\n",
        "  <thead>\n",
        "    <tr style=\"text-align: right;\">\n",
        "      <th></th>\n",
        "      <th>frame</th>\n",
        "      <th>ligand_atom</th>\n",
        "      <th>residue_atom</th>\n",
        "      <th>distance</th>\n",
        "      <th>cluster</th>\n",
        "    </tr>\n",
        "  </thead>\n",
        "  <tbody>\n",
        "    <tr>\n",
        "      <th>1 </th>\n",
        "      <td> 1</td>\n",
        "      <td> C4</td>\n",
        "      <td> ND2</td>\n",
        "      <td>  7.758713</td>\n",
        "      <td> 1</td>\n",
        "    </tr>\n",
        "    <tr>\n",
        "      <th>4 </th>\n",
        "      <td> 2</td>\n",
        "      <td> C4</td>\n",
        "      <td> ND2</td>\n",
        "      <td>  4.269081</td>\n",
        "      <td> 0</td>\n",
        "    </tr>\n",
        "    <tr>\n",
        "      <th>7 </th>\n",
        "      <td> 3</td>\n",
        "      <td> C4</td>\n",
        "      <td> ND2</td>\n",
        "      <td> 10.581920</td>\n",
        "      <td> 3</td>\n",
        "    </tr>\n",
        "    <tr>\n",
        "      <th>10</th>\n",
        "      <td> 4</td>\n",
        "      <td> C4</td>\n",
        "      <td> ND2</td>\n",
        "      <td>  8.242743</td>\n",
        "      <td> 1</td>\n",
        "    </tr>\n",
        "    <tr>\n",
        "      <th>13</th>\n",
        "      <td> 5</td>\n",
        "      <td> C4</td>\n",
        "      <td> ND2</td>\n",
        "      <td>  3.892209</td>\n",
        "      <td> 0</td>\n",
        "    </tr>\n",
        "  </tbody>\n",
        "</table>\n",
        "</div>"
       ],
       "metadata": {},
       "output_type": "pyout",
       "prompt_number": 1632,
       "text": [
        "    frame ligand_atom residue_atom   distance  cluster\n",
        "1       1          C4          ND2   7.758713        1\n",
        "4       2          C4          ND2   4.269081        0\n",
        "7       3          C4          ND2  10.581920        3\n",
        "10      4          C4          ND2   8.242743        1\n",
        "13      5          C4          ND2   3.892209        0"
       ]
      }
     ],
     "prompt_number": 1632
    },
    {
     "cell_type": "code",
     "collapsed": false,
     "input": [
      "# what's the frame with the closest distance to the residue atom?\n",
      "atom2.sort('distance').head()"
     ],
     "language": "python",
     "metadata": {},
     "outputs": [
      {
       "html": [
        "<div style=\"max-height:1000px;max-width:1500px;overflow:auto;\">\n",
        "<table border=\"1\" class=\"dataframe\">\n",
        "  <thead>\n",
        "    <tr style=\"text-align: right;\">\n",
        "      <th></th>\n",
        "      <th>frame</th>\n",
        "      <th>ligand_atom</th>\n",
        "      <th>residue_atom</th>\n",
        "      <th>distance</th>\n",
        "      <th>cluster</th>\n",
        "    </tr>\n",
        "  </thead>\n",
        "  <tbody>\n",
        "    <tr>\n",
        "      <th>1065</th>\n",
        "      <td> 357</td>\n",
        "      <td> C4</td>\n",
        "      <td> ND2</td>\n",
        "      <td> 3.467032</td>\n",
        "      <td> 0</td>\n",
        "    </tr>\n",
        "    <tr>\n",
        "      <th>1338</th>\n",
        "      <td> 448</td>\n",
        "      <td> C4</td>\n",
        "      <td> ND2</td>\n",
        "      <td> 3.483458</td>\n",
        "      <td> 0</td>\n",
        "    </tr>\n",
        "    <tr>\n",
        "      <th>1326</th>\n",
        "      <td> 444</td>\n",
        "      <td> C4</td>\n",
        "      <td> ND2</td>\n",
        "      <td> 3.501547</td>\n",
        "      <td> 0</td>\n",
        "    </tr>\n",
        "    <tr>\n",
        "      <th>914 </th>\n",
        "      <td> 306</td>\n",
        "      <td> C4</td>\n",
        "      <td> ND2</td>\n",
        "      <td> 3.538326</td>\n",
        "      <td> 0</td>\n",
        "    </tr>\n",
        "    <tr>\n",
        "      <th>740 </th>\n",
        "      <td> 248</td>\n",
        "      <td> C4</td>\n",
        "      <td> ND2</td>\n",
        "      <td> 3.541578</td>\n",
        "      <td> 0</td>\n",
        "    </tr>\n",
        "  </tbody>\n",
        "</table>\n",
        "</div>"
       ],
       "metadata": {},
       "output_type": "pyout",
       "prompt_number": 1633,
       "text": [
        "      frame ligand_atom residue_atom  distance  cluster\n",
        "1065    357          C4          ND2  3.467032        0\n",
        "1338    448          C4          ND2  3.483458        0\n",
        "1326    444          C4          ND2  3.501547        0\n",
        "914     306          C4          ND2  3.538326        0\n",
        "740     248          C4          ND2  3.541578        0"
       ]
      }
     ],
     "prompt_number": 1633
    },
    {
     "cell_type": "code",
     "collapsed": false,
     "input": [
      "# how many clusters are there?\n",
      "atom2.cluster.unique()"
     ],
     "language": "python",
     "metadata": {},
     "outputs": [
      {
       "metadata": {},
       "output_type": "pyout",
       "prompt_number": 1634,
       "text": [
        "array([ 1.,  0.,  3.,  2.])"
       ]
      }
     ],
     "prompt_number": 1634
    },
    {
     "cell_type": "code",
     "collapsed": false,
     "input": [
      "limits_2 = []\n",
      "limits_2_best_cluster = -1\n",
      "bottom_tracker = float(np.inf)\n",
      "\n",
      "for cluster in atom2.cluster.unique():\n",
      "    bottom = min(atom2[atom2.cluster == cluster].distance)\n",
      "    top = max(atom2[atom2.cluster == cluster].distance)\n",
      "    if bottom<bottom_tracker:\n",
      "        limits_2_best_cluster = cluster\n",
      "    limits_2.append((bottom,top))\n",
      "    \n",
      "    bottom_tracker = bottom"
     ],
     "language": "python",
     "metadata": {},
     "outputs": [],
     "prompt_number": 1635
    },
    {
     "cell_type": "code",
     "collapsed": false,
     "input": [
      "limits_2"
     ],
     "language": "python",
     "metadata": {},
     "outputs": [
      {
       "metadata": {},
       "output_type": "pyout",
       "prompt_number": 1636,
       "text": [
        "[(6.4882884025573722, 10.469437599182127),\n",
        " (3.467031717300415, 6.4231905937194824),\n",
        " (10.479642868041992, 13.775928497314453),\n",
        " (14.513395309448242, 17.290866851806641)]"
       ]
      }
     ],
     "prompt_number": 1636
    },
    {
     "cell_type": "code",
     "collapsed": false,
     "input": [
      "limits_2_best_cluster"
     ],
     "language": "python",
     "metadata": {},
     "outputs": [
      {
       "metadata": {},
       "output_type": "pyout",
       "prompt_number": 1637,
       "text": [
        "0.0"
       ]
      }
     ],
     "prompt_number": 1637
    },
    {
     "cell_type": "code",
     "collapsed": false,
     "input": [
      "atom2.distance.hist(bins=50,normed=1)\n",
      "i=0\n",
      "for limit in limits_2:\n",
      "    hist = atom2.distance.plot(kind='kde', grid=False, figsize=(6,3)).axvspan(limit[0], limit[1], color=colors[1-i], alpha=0.3)\n",
      "    i+=1\n",
      "fig = hist.get_figure()\n",
      "# fig.savefig('atom2.svg', type='svg', dpi=300)"
     ],
     "language": "python",
     "metadata": {},
     "outputs": [
      {
       "metadata": {},
       "output_type": "display_data",
       "png": "[encoded data removed]",
       "text": [
        "<matplotlib.figure.Figure at 0x7fac3e766e90>"
       ]
      }
     ],
     "prompt_number": 1638
    },
    {
     "cell_type": "heading",
     "level": 4,
     "metadata": {},
     "source": [
      "Ligand atom #3 to residue atom #3"
     ]
    },
    {
     "cell_type": "code",
     "collapsed": false,
     "input": [
      "atom3 = get_meanshift_groups(distances_df[distances_df.ligand_atom == ligand_atom3], 'distance', 0.4)\n",
      "atom3.head()"
     ],
     "language": "python",
     "metadata": {
      "scrolled": true
     },
     "outputs": [
      {
       "html": [
        "<div style=\"max-height:1000px;max-width:1500px;overflow:auto;\">\n",
        "<table border=\"1\" class=\"dataframe\">\n",
        "  <thead>\n",
        "    <tr style=\"text-align: right;\">\n",
        "      <th></th>\n",
        "      <th>frame</th>\n",
        "      <th>ligand_atom</th>\n",
        "      <th>residue_atom</th>\n",
        "      <th>distance</th>\n",
        "      <th>cluster</th>\n",
        "    </tr>\n",
        "  </thead>\n",
        "  <tbody>\n",
        "    <tr>\n",
        "      <th>2 </th>\n",
        "      <td> 1</td>\n",
        "      <td> O2</td>\n",
        "      <td> OE2</td>\n",
        "      <td>  8.807299</td>\n",
        "      <td> 0</td>\n",
        "    </tr>\n",
        "    <tr>\n",
        "      <th>5 </th>\n",
        "      <td> 2</td>\n",
        "      <td> O2</td>\n",
        "      <td> OE2</td>\n",
        "      <td>  3.040568</td>\n",
        "      <td> 0</td>\n",
        "    </tr>\n",
        "    <tr>\n",
        "      <th>8 </th>\n",
        "      <td> 3</td>\n",
        "      <td> O2</td>\n",
        "      <td> OE2</td>\n",
        "      <td> 10.118380</td>\n",
        "      <td> 0</td>\n",
        "    </tr>\n",
        "    <tr>\n",
        "      <th>11</th>\n",
        "      <td> 4</td>\n",
        "      <td> O2</td>\n",
        "      <td> OE2</td>\n",
        "      <td>  9.302153</td>\n",
        "      <td> 0</td>\n",
        "    </tr>\n",
        "    <tr>\n",
        "      <th>14</th>\n",
        "      <td> 5</td>\n",
        "      <td> O2</td>\n",
        "      <td> OE2</td>\n",
        "      <td>  3.144577</td>\n",
        "      <td> 0</td>\n",
        "    </tr>\n",
        "  </tbody>\n",
        "</table>\n",
        "</div>"
       ],
       "metadata": {},
       "output_type": "pyout",
       "prompt_number": 1639,
       "text": [
        "    frame ligand_atom residue_atom   distance  cluster\n",
        "2       1          O2          OE2   8.807299        0\n",
        "5       2          O2          OE2   3.040568        0\n",
        "8       3          O2          OE2  10.118380        0\n",
        "11      4          O2          OE2   9.302153        0\n",
        "14      5          O2          OE2   3.144577        0"
       ]
      }
     ],
     "prompt_number": 1639
    },
    {
     "cell_type": "code",
     "collapsed": false,
     "input": [
      "# what's the frame with the closest distance to the residue atom?\n",
      "atom3.sort('distance').head()"
     ],
     "language": "python",
     "metadata": {},
     "outputs": [
      {
       "html": [
        "<div style=\"max-height:1000px;max-width:1500px;overflow:auto;\">\n",
        "<table border=\"1\" class=\"dataframe\">\n",
        "  <thead>\n",
        "    <tr style=\"text-align: right;\">\n",
        "      <th></th>\n",
        "      <th>frame</th>\n",
        "      <th>ligand_atom</th>\n",
        "      <th>residue_atom</th>\n",
        "      <th>distance</th>\n",
        "      <th>cluster</th>\n",
        "    </tr>\n",
        "  </thead>\n",
        "  <tbody>\n",
        "    <tr>\n",
        "      <th>447</th>\n",
        "      <td> 150</td>\n",
        "      <td> O2</td>\n",
        "      <td> OE2</td>\n",
        "      <td> 2.660964</td>\n",
        "      <td> 0</td>\n",
        "    </tr>\n",
        "    <tr>\n",
        "      <th>711</th>\n",
        "      <td> 238</td>\n",
        "      <td> O2</td>\n",
        "      <td> OE2</td>\n",
        "      <td> 2.697592</td>\n",
        "      <td> 0</td>\n",
        "    </tr>\n",
        "    <tr>\n",
        "      <th>945</th>\n",
        "      <td> 316</td>\n",
        "      <td> O2</td>\n",
        "      <td> OE2</td>\n",
        "      <td> 2.715016</td>\n",
        "      <td> 0</td>\n",
        "    </tr>\n",
        "    <tr>\n",
        "      <th>663</th>\n",
        "      <td> 222</td>\n",
        "      <td> O2</td>\n",
        "      <td> OE2</td>\n",
        "      <td> 2.738058</td>\n",
        "      <td> 0</td>\n",
        "    </tr>\n",
        "    <tr>\n",
        "      <th>615</th>\n",
        "      <td> 206</td>\n",
        "      <td> O2</td>\n",
        "      <td> OE2</td>\n",
        "      <td> 2.746894</td>\n",
        "      <td> 0</td>\n",
        "    </tr>\n",
        "  </tbody>\n",
        "</table>\n",
        "</div>"
       ],
       "metadata": {},
       "output_type": "pyout",
       "prompt_number": 1640,
       "text": [
        "     frame ligand_atom residue_atom  distance  cluster\n",
        "447    150          O2          OE2  2.660964        0\n",
        "711    238          O2          OE2  2.697592        0\n",
        "945    316          O2          OE2  2.715016        0\n",
        "663    222          O2          OE2  2.738058        0\n",
        "615    206          O2          OE2  2.746894        0"
       ]
      }
     ],
     "prompt_number": 1640
    },
    {
     "cell_type": "code",
     "collapsed": false,
     "input": [
      "# how many clusters are there?\n",
      "atom3.cluster.unique()"
     ],
     "language": "python",
     "metadata": {},
     "outputs": [
      {
       "metadata": {},
       "output_type": "pyout",
       "prompt_number": 1641,
       "text": [
        "array([ 0.,  1.])"
       ]
      }
     ],
     "prompt_number": 1641
    },
    {
     "cell_type": "code",
     "collapsed": true,
     "input": [
      "limits_3 = []\n",
      "limits_3_best_cluster = -1\n",
      "bottom_tracker = float(np.inf)\n",
      "\n",
      "for cluster in atom3.cluster.unique():\n",
      "    bottom = min(atom3[atom3.cluster == cluster].distance)\n",
      "    top = max(atom3[atom3.cluster == cluster].distance)\n",
      "    if bottom<bottom_tracker:\n",
      "        limits_3_best_cluster = cluster\n",
      "    limits_3.append((bottom,top))\n",
      "    \n",
      "    bottom_tracker = bottom"
     ],
     "language": "python",
     "metadata": {},
     "outputs": [],
     "prompt_number": 1642
    },
    {
     "cell_type": "code",
     "collapsed": false,
     "input": [
      "limits_3"
     ],
     "language": "python",
     "metadata": {},
     "outputs": [
      {
       "metadata": {},
       "output_type": "pyout",
       "prompt_number": 1643,
       "text": [
        "[(2.660963773727417, 11.187984466552734),\n",
        " (11.547669410705565, 20.667224884033203)]"
       ]
      }
     ],
     "prompt_number": 1643
    },
    {
     "cell_type": "code",
     "collapsed": false,
     "input": [
      "limits_3_best_cluster"
     ],
     "language": "python",
     "metadata": {},
     "outputs": [
      {
       "metadata": {},
       "output_type": "pyout",
       "prompt_number": 1644,
       "text": [
        "0.0"
       ]
      }
     ],
     "prompt_number": 1644
    },
    {
     "cell_type": "code",
     "collapsed": false,
     "input": [
      "atom3.distance.hist(bins=50,normed=1)\n",
      "i=0\n",
      "for limit in limits_3:\n",
      "    hist = atom3.distance.plot(kind='kde', grid=False, figsize=(6,3)).axvspan(limit[0], limit[1], color=colors[1-i], alpha=0.3)\n",
      "    i+=1\n",
      "fig = hist.get_figure()\n",
      "# fig.savefig('atom3.svg', type='svg', dpi=300)"
     ],
     "language": "python",
     "metadata": {},
     "outputs": [
      {
       "metadata": {},
       "output_type": "display_data",
       "png": "[encoded data removed]",
       "text": [
        "<matplotlib.figure.Figure at 0x7fac4c09f590>"
       ]
      }
     ],
     "prompt_number": 1645
    },
    {
     "cell_type": "heading",
     "level": 1,
     "metadata": {},
     "source": [
      "Choosing frames"
     ]
    },
    {
     "cell_type": "code",
     "collapsed": false,
     "input": [
      "frames = distances_df.frame.unique().tolist()\n",
      "distances_df_frame_indexed = distances_df.set_index('frame')"
     ],
     "language": "python",
     "metadata": {},
     "outputs": [],
     "prompt_number": 1646
    },
    {
     "cell_type": "code",
     "collapsed": false,
     "input": [
      "frames_cluster_dict = defaultdict(dict)\n",
      "\n",
      "for frame in frames:\n",
      "    frame_cluster = ''\n",
      "    for ligand_atom in distances_df_frame_indexed.loc[frame].ligand_atom.values:\n",
      "        if ligand_atom == ligand_atom1:\n",
      "            if atom1[atom1.frame == frame].cluster.unique()[0] == limits_1_best_cluster:\n",
      "                frame_cluster += '1'\n",
      "            else:\n",
      "                frame_cluster += '0'\n",
      "        if ligand_atom == ligand_atom2:\n",
      "            if atom2[atom2.frame == frame].cluster.unique()[0] == limits_2_best_cluster:\n",
      "                frame_cluster += '1'\n",
      "            else:\n",
      "                frame_cluster += '0'\n",
      "        if ligand_atom == ligand_atom3:\n",
      "            if atom3[atom3.frame == frame].cluster.unique()[0] == limits_3_best_cluster:\n",
      "                frame_cluster += '1'\n",
      "            else:\n",
      "                frame_cluster += '0'\n",
      "    frames_cluster_dict[frame]['frame_cluster'] = frame_cluster\n",
      "    \n",
      "frames_cluster_df = pd.DataFrame.from_dict(frames_cluster_dict, orient='index')"
     ],
     "language": "python",
     "metadata": {},
     "outputs": [],
     "prompt_number": 1647
    },
    {
     "cell_type": "code",
     "collapsed": false,
     "input": [
      "frames_cluster_df.head()"
     ],
     "language": "python",
     "metadata": {
      "scrolled": true
     },
     "outputs": [
      {
       "html": [
        "<div style=\"max-height:1000px;max-width:1500px;overflow:auto;\">\n",
        "<table border=\"1\" class=\"dataframe\">\n",
        "  <thead>\n",
        "    <tr style=\"text-align: right;\">\n",
        "      <th></th>\n",
        "      <th>frame_cluster</th>\n",
        "    </tr>\n",
        "  </thead>\n",
        "  <tbody>\n",
        "    <tr>\n",
        "      <th>1</th>\n",
        "      <td> 001</td>\n",
        "    </tr>\n",
        "    <tr>\n",
        "      <th>2</th>\n",
        "      <td> 111</td>\n",
        "    </tr>\n",
        "    <tr>\n",
        "      <th>3</th>\n",
        "      <td> 001</td>\n",
        "    </tr>\n",
        "    <tr>\n",
        "      <th>4</th>\n",
        "      <td> 101</td>\n",
        "    </tr>\n",
        "    <tr>\n",
        "      <th>5</th>\n",
        "      <td> 011</td>\n",
        "    </tr>\n",
        "  </tbody>\n",
        "</table>\n",
        "</div>"
       ],
       "metadata": {},
       "output_type": "pyout",
       "prompt_number": 1648,
       "text": [
        "  frame_cluster\n",
        "1           001\n",
        "2           111\n",
        "3           001\n",
        "4           101\n",
        "5           011"
       ]
      }
     ],
     "prompt_number": 1648
    },
    {
     "cell_type": "code",
     "collapsed": false,
     "input": [
      "frames_cluster_df.frame_cluster.value_counts()/len(frames_cluster_df)"
     ],
     "language": "python",
     "metadata": {},
     "outputs": [
      {
       "metadata": {},
       "output_type": "pyout",
       "prompt_number": 1649,
       "text": [
        "011    0.441532\n",
        "111    0.385081\n",
        "001    0.074597\n",
        "000    0.072581\n",
        "101    0.026210\n",
        "dtype: float64"
       ]
      }
     ],
     "prompt_number": 1649
    },
    {
     "cell_type": "code",
     "collapsed": false,
     "input": [
      "# how many clusters do you wanna choose for free energy calculations?\n",
      "num_clusters = 3\n",
      "\n",
      "cluster_and_counts = frames_cluster_df.frame_cluster.value_counts()[:num_clusters].to_dict()\n",
      "print 'CLUSTERS FOR MMPBSA:', cluster_and_counts.keys()"
     ],
     "language": "python",
     "metadata": {},
     "outputs": [
      {
       "output_type": "stream",
       "stream": "stdout",
       "text": [
        "CLUSTERS FOR MMPBSA: ['011', '001', '111']\n"
       ]
      }
     ],
     "prompt_number": 1650
    },
    {
     "cell_type": "heading",
     "level": 1,
     "metadata": {
      "collapsed": true
     },
     "source": [
      "Visualizing clusters in VMD"
     ]
    },
    {
     "cell_type": "markdown",
     "metadata": {},
     "source": [
      "### Instructions\n",
      "- Run code below\n",
      "- Load resulting .tcl script in VMD to visualize one cluster ('vmd -e $tclscript')"
     ]
    },
    {
     "cell_type": "code",
     "collapsed": false,
     "input": [
      "# load-mpdbs.vmd (http://www.ks.uiuc.edu/Research/vmd/mailing_list/vmd-l/13045.html)\n",
      "\n",
      "for clus in cluster_and_counts.keys():\n",
      "    f_cl = open(\"\".join([os.path.dirname(distances_df_path), '/%s-%s_viz_cl' % (TODAY, ligand_name), str(clus), '.tcl']), 'w+')\n",
      "\n",
      "    first = frames_cluster_df[frames_cluster_df.frame_cluster == clus].index.tolist()[0]\n",
      "    f_cl.write(\"\".join(['mol new {', os.path.abspath(os.path.join(os.path.dirname(distances_df_path), '..')), '/main/',\n",
      "                        basename, '-%.3d' % first, '_receptor_', ligand_name,\n",
      "                        '_docked.pdb} type {pdb} first 0 last -1 step 1 waitfor 1\\n']))\n",
      "\n",
      "    f_cl.write('set lst%s' % clus)\n",
      "    f_cl.write(' {')\n",
      "    for x in frames_cluster_df[frames_cluster_df.frame_cluster == clus].index.tolist()[1:]:\n",
      "        f_cl.write(\"\".join([os.path.abspath(os.path.join(os.path.dirname(distances_df_path), '..')), '/main/', basename, '-%.3d_receptor_' % (x), ligand_name, '_docked.pdb ']))\n",
      "    f_cl.write('}\\n')\n",
      "    f_cl.write('\\n')\n",
      "    f_cl.write('foreach i $lst%s { mol addfile \"$i\" type {pdb} first 0 last -1 step 10 waitfor 1 0 }\\n' % (clus))\n",
      "\n",
      "    f_cl.close()"
     ],
     "language": "python",
     "metadata": {},
     "outputs": [],
     "prompt_number": 1651
    },
    {
     "cell_type": "heading",
     "level": 1,
     "metadata": {},
     "source": [
      "Choice of clusters"
     ]
    },
    {
     "cell_type": "code",
     "collapsed": false,
     "input": [
      "# candidate clusters\n",
      "\n",
      "cluster_to_look_at = '111'\n",
      "\n",
      "# for COMT - O2 (on DNC, most other ligands) should be in close proximity to Lys144 and SAM\n",
      "important_atom_distance = atom1.sort('distance').head(1).frame.tolist()\n",
      "cluster = frames_cluster_df[frames_cluster_df.frame_cluster == cluster_to_look_at].index.tolist()\n",
      "\n",
      "# these are the MD frames to possibly use\n",
      "candidate_frames = set(cluster).intersection(important_atom_distance)\n",
      "\n",
      "# what is the index when viewing in VMD?\n",
      "for x in candidate_frames:\n",
      "    print 'FRAME:', x\n",
      "    print 'VMD index:', cluster.index(x)\n",
      "    print"
     ],
     "language": "python",
     "metadata": {},
     "outputs": [
      {
       "output_type": "stream",
       "stream": "stdout",
       "text": [
        "FRAME: 386\n",
        "VMD index: 142\n",
        "\n"
       ]
      }
     ],
     "prompt_number": 1652
    },
    {
     "cell_type": "markdown",
     "metadata": {},
     "source": [
      "****************************************\n",
      "#### For cluster 111: using frame 386\n",
      "****************************************"
     ]
    },
    {
     "cell_type": "code",
     "collapsed": false,
     "input": [
      "# candidate clusters\n",
      "\n",
      "cluster_to_look_at = '011'\n",
      "\n",
      "# for COMT - O2 (on DNC, most other ligands) should be in close proximity to Lys144 and SAM\n",
      "important_atom_distance = atom1.sort('distance').head(210).frame.tolist()\n",
      "cluster = frames_cluster_df[frames_cluster_df.frame_cluster == cluster_to_look_at].index.tolist()\n",
      "\n",
      "# these are the MD frames to possibly use\n",
      "candidate_frames = set(cluster).intersection(important_atom_distance)\n",
      "\n",
      "# what is the index when viewing in VMD?\n",
      "for x in candidate_frames:\n",
      "    print 'FRAME:', x\n",
      "    print 'VMD index:', cluster.index(x)\n",
      "    print"
     ],
     "language": "python",
     "metadata": {},
     "outputs": [
      {
       "output_type": "stream",
       "stream": "stdout",
       "text": [
        "FRAME: 256\n",
        "VMD index: 130\n",
        "\n",
        "FRAME: 293\n",
        "VMD index: 146\n",
        "\n",
        "FRAME: 104\n",
        "VMD index: 44\n",
        "\n",
        "FRAME: 275\n",
        "VMD index: 137\n",
        "\n",
        "FRAME: 442\n",
        "VMD index: 195\n",
        "\n",
        "FRAME: 412\n",
        "VMD index: 184\n",
        "\n"
       ]
      }
     ],
     "prompt_number": 1657
    },
    {
     "cell_type": "markdown",
     "metadata": {},
     "source": [
      "****************************************\n",
      "#### For cluster 101: using frame 256\n",
      "****************************************"
     ]
    },
    {
     "cell_type": "code",
     "collapsed": false,
     "input": [
      "# candidate clusters\n",
      "\n",
      "cluster_to_look_at = '000'\n",
      "\n",
      "cluster = frames_cluster_df[frames_cluster_df.frame_cluster == cluster_to_look_at].index.tolist()\n",
      "\n",
      "print 'FRAME:', cluster[32]\n",
      "print 'VMD index:', 32"
     ],
     "language": "python",
     "metadata": {},
     "outputs": [
      {
       "output_type": "stream",
       "stream": "stdout",
       "text": [
        "FRAME: 470\n",
        "VMD index: 32\n"
       ]
      }
     ],
     "prompt_number": 1658
    },
    {
     "cell_type": "markdown",
     "metadata": {},
     "source": [
      "****************************************\n",
      "#### For cluster 000: using frame 470\n",
      "****************************************"
     ]
    },
    {
     "cell_type": "code",
     "collapsed": false,
     "input": [
      "ligand_name"
     ],
     "language": "python",
     "metadata": {},
     "outputs": [
      {
       "metadata": {},
       "output_type": "pyout",
       "prompt_number": 1659,
       "text": [
        "'TCW'"
       ]
      }
     ],
     "prompt_number": 1659
    },
    {
     "cell_type": "code",
     "collapsed": false,
     "input": [
      "v1 = '3BWY-386_receptor_%s_docked.pdb' % ligand_name\n",
      "v2 = '3BWY-256_receptor_%s_docked.pdb' % ligand_name\n",
      "v3 = '3BWY-470_receptor_%s_docked.pdb' % ligand_name"
     ],
     "language": "python",
     "metadata": {},
     "outputs": [],
     "prompt_number": 1661
    },
    {
     "cell_type": "heading",
     "level": 1,
     "metadata": {},
     "source": [
      "Quick viewing using PV"
     ]
    },
    {
     "cell_type": "code",
     "collapsed": false,
     "input": [
      "os.chdir(os.path.join(os.path.abspath(os.path.join(os.path.dirname(distances_df_path), '..')), 'main'))"
     ],
     "language": "python",
     "metadata": {},
     "outputs": [],
     "prompt_number": 1662
    },
    {
     "cell_type": "code",
     "collapsed": false,
     "input": [
      "import urllib2\n",
      "import uuid"
     ],
     "language": "python",
     "metadata": {},
     "outputs": [],
     "prompt_number": 1663
    },
    {
     "cell_type": "code",
     "collapsed": false,
     "input": [
      "class PDBViewer(object):\n",
      "    def __init__(self, f):\n",
      "        self.pdb = open(f).read()\n",
      "\n",
      "    def _repr_html_(self):\n",
      "        div_id = str(uuid.uuid4())\n",
      "        return \"\"\"<div id=\"%s\" style=\"width: 800px; height: 600px\"><div>\n",
      "        <!--script src=\"//biasmv.github.io/pv/js/pv.min.js\"></script-->\n",
      "        <script>\n",
      "        require.config({paths: {\"pv\": \"//biasmv.github.io/pv/js/pv.min\"}});\n",
      "        require([\"pv\"], function (pv) {\n",
      "            pdb = \"%s\";\n",
      "            structure = pv.io.pdb(pdb);\n",
      "            viewer = pv.Viewer(document.getElementById('%s'),\n",
      "                               {quality : 'medium', width: 'auto', height : 'auto',\n",
      "                                antialias : true, outline : true});\n",
      "            viewer.fitParent();\n",
      "            var ligand = structure.select({rnames : ['%s', 'SAM', 'MG']});\n",
      "            viewer.ballsAndSticks('ligand', ligand);\n",
      "            viewer.cartoon('molecule', structure);\n",
      "            viewer.centerOn(structure);\n",
      "        });\n",
      "        </script>\n",
      "        \"\"\" % (div_id, self.pdb.replace(\"\\n\", \"\\\\n\"), div_id, ligand_name)"
     ],
     "language": "python",
     "metadata": {},
     "outputs": [],
     "prompt_number": 1664
    },
    {
     "cell_type": "code",
     "collapsed": false,
     "input": [
      "PDBViewer(v1)"
     ],
     "language": "python",
     "metadata": {},
     "outputs": [
      {
       "html": [
        "<div id=\"be5a3153-5ee9-4803-9b62-f37bdae8a4f3\" style=\"width: 800px; height: 600px\"><div>\n",
        "        <!--script src=\"//biasmv.github.io/pv/js/pv.min.js\"></script-->\n",
        "        <script>\n",
        "        require.config({paths: {\"pv\": \"//biasmv.github.io/pv/js/pv.min\"}});\n",
        "        require([\"pv\"], function (pv) {\n",
        "            pdb = \"ATOM      1  N   GLY A   1      24.115 -13.607   2.548  1.00  0.00           N  \\nATOM      2  CA  GLY A   1      23.185 -12.537   2.408  1.00  0.00           C  \\nATOM      3  C   GLY A   1      23.435 -11.457   3.418  1.00  0.00           C  \\nATOM      4  O   GLY A   1      23.135 -11.637   4.628  1.00  0.00           O  \\nATOM      5  N   ASP A   2      24.015 -10.347   3.018  1.00  0.00           N  \\nATOM      6  CA  ASP A   2      24.595  -9.397   3.938  1.00  0.00           C  \\nATOM      7  CB  ASP A   2      25.565  -8.437   3.198  1.00  0.00           C  \\nATOM      8  CG  ASP A   2      26.495  -7.727   4.168  1.00  0.00           C  \\nATOM      9  OD1 ASP A   2      26.795  -6.537   3.928  1.00  0.00           O  \\nATOM     10  OD2 ASP A   2      27.125  -8.347   4.998  1.00  0.00           O  \\nATOM     11  C   ASP A   2      23.605  -8.597   4.758  1.00  0.00           C  \\nATOM     12  O   ASP A   2      23.855  -8.417   5.948  1.00  0.00           O  \\nATOM     13  N   THR A   3      22.425  -8.137   4.288  1.00  0.00           N  \\nATOM     14  CA  THR A   3      21.295  -7.607   5.118  1.00  0.00           C  \\nATOM     15  CB  THR A   3      20.815  -6.247   4.578  1.00  0.00           C  \\nATOM     16  CG2 THR A   3      21.915  -5.257   4.498  1.00  0.00           C  \\nATOM     17  OG1 THR A   3      20.255  -6.387   3.278  1.00  0.00           O  \\nATOM     18  C   THR A   3      20.195  -8.597   5.138  1.00  0.00           C  \\nATOM     19  O   THR A   3      20.155  -9.537   4.328  1.00  0.00           O  \\nATOM     20  N   LYS A   4      19.155  -8.247   5.918  1.00  0.00           N  \\nATOM     21  CA  LYS A   4      17.935  -9.047   5.958  1.00  0.00           C  \\nATOM     22  CB  LYS A   4      16.915  -8.627   7.088  1.00  0.00           C  \\nATOM     23  CG  LYS A   4      16.495  -7.167   7.008  1.00  0.00           C  \\nATOM     24  CD  LYS A   4      15.375  -6.707   7.918  1.00  0.00           C  \\nATOM     25  CE  LYS A   4      15.135  -5.237   7.748  1.00  0.00           C  \\nATOM     26  NZ  LYS A   4      14.815  -4.727   6.348  1.00  0.00           N  \\nATOM     27  C   LYS A   4      17.185  -9.087   4.588  1.00  0.00           C  \\nATOM     28  O   LYS A   4      16.555 -10.077   4.458  1.00  0.00           O  \\nATOM     29  N   GLU A   5      17.315  -8.077   3.728  1.00  0.00           N  \\nATOM     30  CA  GLU A   5      16.675  -7.987   2.408  1.00  0.00           C  \\nATOM     31  CB  GLU A   5      16.985  -6.577   1.728  1.00  0.00           C  \\nATOM     32  CG  GLU A   5      16.405  -5.447   2.478  1.00  0.00           C  \\nATOM     33  CD  GLU A   5      17.335  -4.867   3.508  1.00  0.00           C  \\nATOM     34  OE1 GLU A   5      18.485  -4.457   3.228  1.00  0.00           O  \\nATOM     35  OE2 GLU A   5      16.905  -4.607   4.648  1.00  0.00           O  \\nATOM     36  C   GLU A   5      17.195  -9.077   1.508  1.00  0.00           C  \\nATOM     37  O   GLU A   5      16.475  -9.707   0.718  1.00  0.00           O  \\nATOM     38  N   GLN A   6      18.505  -9.367   1.698  1.00  0.00           N  \\nATOM     39  CA  GLN A   6      19.175 -10.437   0.958  1.00  0.00           C  \\nATOM     40  CB  GLN A   6      20.705 -10.267   0.918  1.00  0.00           C  \\nATOM     41  CG  GLN A   6      20.995  -8.777   0.458  1.00  0.00           C  \\nATOM     42  CD  GLN A   6      22.515  -8.567   0.348  1.00  0.00           C  \\nATOM     43  OE1 GLN A   6      23.295  -9.517   0.318  1.00  0.00           O  \\nATOM     44  NE2 GLN A   6      22.885  -7.377   0.008  1.00  0.00           N  \\nATOM     45  C   GLN A   6      18.835 -11.787   1.478  1.00  0.00           C  \\nATOM     46  O   GLN A   6      18.415 -12.667   0.748  1.00  0.00           O  \\nATOM     47  N   ARG A   7      18.835 -11.957   2.788  1.00  0.00           N  \\nATOM     48  CA  ARG A   7      18.385 -13.147   3.478  1.00  0.00           C  \\nATOM     49  CB  ARG A   7      18.815 -13.027   4.978  1.00  0.00           C  \\nATOM     50  CG  ARG A   7      20.315 -12.777   5.218  1.00  0.00           C  \\nATOM     51  CD  ARG A   7      20.725 -12.977   6.658  1.00  0.00           C  \\nATOM     52  NE  ARG A   7      20.385 -11.907   7.578  1.00  0.00           N  \\nATOM     53  CZ  ARG A   7      20.975 -10.707   7.698  1.00  0.00           C  \\nATOM     54  NH1 ARG A   7      21.975 -10.407   6.928  1.00  0.00           N  \\nATOM     55  NH2 ARG A   7      20.495  -9.817   8.548  1.00  0.00           N  \\nATOM     56  C   ARG A   7      16.875 -13.487   3.208  1.00  0.00           C  \\nATOM     57  O   ARG A   7      16.555 -14.677   3.118  1.00  0.00           O  \\nATOM     58  N   ILE A   8      16.005 -12.527   3.108  1.00  0.00           N  \\nATOM     59  CA  ILE A   8      14.585 -12.897   2.908  1.00  0.00           C  \\nATOM     60  CB  ILE A   8      13.555 -11.877   3.448  1.00  0.00           C  \\nATOM     61  CG2 ILE A   8      13.655 -10.457   2.748  1.00  0.00           C  \\nATOM     62  CG1 ILE A   8      12.095 -12.427   3.498  1.00  0.00           C  \\nATOM     63  CD1 ILE A   8      11.055 -11.377   4.118  1.00  0.00           C  \\nATOM     64  C   ILE A   8      14.345 -13.197   1.478  1.00  0.00           C  \\nATOM     65  O   ILE A   8      13.535 -14.087   1.158  1.00  0.00           O  \\nATOM     66  N   LEU A   9      15.035 -12.477   0.578  1.00  0.00           N  \\nATOM     67  CA  LEU A   9      15.015 -12.847  -0.882  1.00  0.00           C  \\nATOM     68  CB  LEU A   9      16.055 -11.877  -1.682  1.00  0.00           C  \\nATOM     69  CG  LEU A   9      16.365 -12.347  -3.112  1.00  0.00           C  \\nATOM     70  CD1 LEU A   9      15.075 -12.347  -3.952  1.00  0.00           C  \\nATOM     71  CD2 LEU A   9      17.415 -11.387  -3.812  1.00  0.00           C  \\nATOM     72  C   LEU A   9      15.495 -14.257  -1.052  1.00  0.00           C  \\nATOM     73  O   LEU A   9      14.865 -15.007  -1.792  1.00  0.00           O  \\nATOM     74  N   ASN A  10      16.465 -14.707  -0.252  1.00  0.00           N  \\nATOM     75  CA  ASN A  10      17.015 -16.067  -0.212  1.00  0.00           C  \\nATOM     76  CB  ASN A  10      18.415 -16.077   0.588  1.00  0.00           C  \\nATOM     77  CG  ASN A  10      19.215 -17.347   0.528  1.00  0.00           C  \\nATOM     78  OD1 ASN A  10      19.905 -17.537  -0.482  1.00  0.00           O  \\nATOM     79  ND2 ASN A  10      19.125 -18.237   1.468  1.00  0.00           N  \\nATOM     80  C   ASN A  10      15.955 -17.067   0.278  1.00  0.00           C  \\nATOM     81  O   ASN A  10      16.095 -18.257  -0.042  1.00  0.00           O  \\nATOM     82  N   HIE A  11      14.925 -16.627   0.998  1.00  0.00           N  \\nATOM     83  CA  HIE A  11      13.745 -17.427   1.348  1.00  0.00           C  \\nATOM     84  CB  HIE A  11      13.345 -17.057   2.768  1.00  0.00           C  \\nATOM     85  CG  HIE A  11      12.115 -17.667   3.298  1.00  0.00           C  \\nATOM     86  ND1 HIE A  11      12.025 -18.997   3.628  1.00  0.00           N  \\nATOM     87  CE1 HIE A  11      10.795 -19.237   4.178  1.00  0.00           C  \\nATOM     88  NE2 HIE A  11      10.075 -18.057   4.038  1.00  0.00           N  \\nATOM     89  CD2 HIE A  11      10.915 -17.117   3.468  1.00  0.00           C  \\nATOM     90  C   HIE A  11      12.555 -17.327   0.318  1.00  0.00           C  \\nATOM     91  O   HIE A  11      11.835 -18.287   0.148  1.00  0.00           O  \\nATOM     92  N   VAL A  12      12.255 -16.217  -0.362  1.00  0.00           N  \\nATOM     93  CA  VAL A  12      11.305 -16.187  -1.512  1.00  0.00           C  \\nATOM     94  CB  VAL A  12      10.925 -14.717  -1.892  1.00  0.00           C  \\nATOM     95  CG1 VAL A  12       9.865 -14.637  -3.022  1.00  0.00           C  \\nATOM     96  CG2 VAL A  12      10.515 -13.927  -0.642  1.00  0.00           C  \\nATOM     97  C   VAL A  12      11.855 -16.977  -2.662  1.00  0.00           C  \\nATOM     98  O   VAL A  12      11.025 -17.657  -3.272  1.00  0.00           O  \\nATOM     99  N   LEU A  13      13.165 -17.097  -2.872  1.00  0.00           N  \\nATOM    100  CA  LEU A  13      13.715 -18.017  -3.842  1.00  0.00           C  \\nATOM    101  CB  LEU A  13      15.225 -17.597  -4.112  1.00  0.00           C  \\nATOM    102  CG  LEU A  13      15.255 -16.207  -4.802  1.00  0.00           C  \\nATOM    103  CD1 LEU A  13      16.755 -15.737  -4.912  1.00  0.00           C  \\nATOM    104  CD2 LEU A  13      14.655 -16.237  -6.202  1.00  0.00           C  \\nATOM    105  C   LEU A  13      13.495 -19.477  -3.462  1.00  0.00           C  \\nATOM    106  O   LEU A  13      13.605 -20.317  -4.372  1.00  0.00           O  \\nATOM    107  N   GLN A  14      13.095 -19.847  -2.262  1.00  0.00           N  \\nATOM    108  CA  GLN A  14      13.145 -21.237  -1.732  1.00  0.00           C  \\nATOM    109  CB  GLN A  14      14.135 -21.387  -0.572  1.00  0.00           C  \\nATOM    110  CG  GLN A  14      15.595 -21.337  -1.082  1.00  0.00           C  \\nATOM    111  CD  GLN A  14      16.565 -21.657   0.048  1.00  0.00           C  \\nATOM    112  OE1 GLN A  14      16.675 -22.747   0.578  1.00  0.00           O  \\nATOM    113  NE2 GLN A  14      17.315 -20.717   0.568  1.00  0.00           N  \\nATOM    114  C   GLN A  14      11.835 -21.717  -1.202  1.00  0.00           C  \\nATOM    115  O   GLN A  14      11.685 -23.007  -1.112  1.00  0.00           O  \\nATOM    116  N   HIE A  15      10.975 -20.847  -0.732  1.00  0.00           N  \\nATOM    117  CA  HIE A  15       9.765 -21.307  -0.012  1.00  0.00           C  \\nATOM    118  CB  HIE A  15       9.155 -20.087   0.678  1.00  0.00           C  \\nATOM    119  CG  HIE A  15       7.885 -20.307   1.368  1.00  0.00           C  \\nATOM    120  ND1 HIE A  15       7.795 -20.297   2.718  1.00  0.00           N  \\nATOM    121  CE1 HIE A  15       6.485 -20.267   2.978  1.00  0.00           C  \\nATOM    122  NE2 HIE A  15       5.775 -20.417   1.858  1.00  0.00           N  \\nATOM    123  CD2 HIE A  15       6.645 -20.257   0.778  1.00  0.00           C  \\nATOM    124  C   HIE A  15       8.825 -22.087  -0.932  1.00  0.00           C  \\nATOM    125  O   HIE A  15       8.515 -23.247  -0.802  1.00  0.00           O  \\nATOM    126  N   ALA A  16       8.285 -21.417  -1.932  1.00  0.00           N  \\nATOM    127  CA  ALA A  16       7.435 -21.817  -3.042  1.00  0.00           C  \\nATOM    128  CB  ALA A  16       6.005 -21.317  -2.842  1.00  0.00           C  \\nATOM    129  C   ALA A  16       8.035 -21.417  -4.372  1.00  0.00           C  \\nATOM    130  O   ALA A  16       9.215 -21.197  -4.532  1.00  0.00           O  \\nATOM    131  N   GLU A  17       7.265 -21.377  -5.462  1.00  0.00           N  \\nATOM    132  CA  GLU A  17       7.625 -21.167  -6.872  1.00  0.00           C  \\nATOM    133  CB  GLU A  17       7.355 -22.577  -7.552  1.00  0.00           C  \\nATOM    134  CG  GLU A  17       8.255 -23.717  -7.072  1.00  0.00           C  \\nATOM    135  CD  GLU A  17       7.815 -25.057  -7.592  1.00  0.00           C  \\nATOM    136  OE1 GLU A  17       6.885 -25.677  -7.122  1.00  0.00           O  \\nATOM    137  OE2 GLU A  17       8.535 -25.607  -8.432  1.00  0.00           O  \\nATOM    138  C   GLU A  17       6.955 -20.027  -7.642  1.00  0.00           C  \\nATOM    139  O   GLU A  17       5.875 -19.607  -7.232  1.00  0.00           O  \\nATOM    140  N   PRO A  18       7.525 -19.477  -8.782  1.00  0.00           N  \\nATOM    141  CD  PRO A  18       8.655 -19.987  -9.502  1.00  0.00           C  \\nATOM    142  CG  PRO A  18       8.895 -19.127 -10.752  1.00  0.00           C  \\nATOM    143  CB  PRO A  18       8.095 -17.907 -10.462  1.00  0.00           C  \\nATOM    144  CA  PRO A  18       7.005 -18.337  -9.452  1.00  0.00           C  \\nATOM    145  C   PRO A  18       5.685 -18.477 -10.162  1.00  0.00           C  \\nATOM    146  O   PRO A  18       5.395 -19.467 -10.792  1.00  0.00           O  \\nATOM    147  N   GLY A  19       4.855 -17.437 -10.092  1.00  0.00           N  \\nATOM    148  CA  GLY A  19       3.595 -17.237 -10.882  1.00  0.00           C  \\nATOM    149  C   GLY A  19       2.405 -17.347  -9.982  1.00  0.00           C  \\nATOM    150  O   GLY A  19       1.365 -17.587 -10.542  1.00  0.00           O  \\nATOM    151  N   ASN A  20       2.425 -17.347  -8.632  1.00  0.00           N  \\nATOM    152  CA  ASN A  20       1.195 -17.167  -7.812  1.00  0.00           C  \\nATOM    153  CB  ASN A  20       0.915 -18.517  -7.062  1.00  0.00           C  \\nATOM    154  CG  ASN A  20      -0.425 -18.427  -6.442  1.00  0.00           C  \\nATOM    155  OD1 ASN A  20      -0.605 -17.787  -5.412  1.00  0.00           O  \\nATOM    156  ND2 ASN A  20      -1.405 -18.997  -7.132  1.00  0.00           N  \\nATOM    157  C   ASN A  20       1.435 -16.007  -6.782  1.00  0.00           C  \\nATOM    158  O   ASN A  20       2.605 -15.807  -6.382  1.00  0.00           O  \\nATOM    159  N   ALA A  21       0.405 -15.297  -6.272  1.00  0.00           N  \\nATOM    160  CA  ALA A  21       0.565 -14.347  -5.112  1.00  0.00           C  \\nATOM    161  CB  ALA A  21      -0.885 -13.747  -4.982  1.00  0.00           C  \\nATOM    162  C   ALA A  21       1.135 -14.947  -3.802  1.00  0.00           C  \\nATOM    163  O   ALA A  21       1.935 -14.327  -3.112  1.00  0.00           O  \\nATOM    164  N   GLN A  22       0.685 -16.167  -3.442  1.00  0.00           N  \\nATOM    165  CA  GLN A  22       0.995 -16.827  -2.162  1.00  0.00           C  \\nATOM    166  CB  GLN A  22       0.215 -18.107  -2.002  1.00  0.00           C  \\nATOM    167  CG  GLN A  22       0.255 -18.807  -0.642  1.00  0.00           C  \\nATOM    168  CD  GLN A  22      -0.725 -18.197   0.438  1.00  0.00           C  \\nATOM    169  OE1 GLN A  22      -1.155 -17.017   0.368  1.00  0.00           O  \\nATOM    170  NE2 GLN A  22      -1.105 -19.007   1.388  1.00  0.00           N  \\nATOM    171  C   GLN A  22       2.525 -17.077  -1.992  1.00  0.00           C  \\nATOM    172  O   GLN A  22       3.015 -16.927  -0.882  1.00  0.00           O  \\nATOM    173  N   SER A  23       3.215 -17.497  -3.102  1.00  0.00           N  \\nATOM    174  CA  SER A  23       4.645 -17.677  -3.282  1.00  0.00           C  \\nATOM    175  CB  SER A  23       4.795 -18.027  -4.802  1.00  0.00           C  \\nATOM    176  OG  SER A  23       4.045 -19.127  -5.262  1.00  0.00           O  \\nATOM    177  C   SER A  23       5.475 -16.437  -3.052  1.00  0.00           C  \\nATOM    178  O   SER A  23       6.685 -16.607  -2.962  1.00  0.00           O  \\nATOM    179  N   VAL A  24       4.845 -15.287  -2.832  1.00  0.00           N  \\nATOM    180  CA  VAL A  24       5.415 -14.067  -2.272  1.00  0.00           C  \\nATOM    181  CB  VAL A  24       5.135 -12.787  -3.132  1.00  0.00           C  \\nATOM    182  CG1 VAL A  24       5.745 -11.437  -2.562  1.00  0.00           C  \\nATOM    183  CG2 VAL A  24       5.745 -12.927  -4.542  1.00  0.00           C  \\nATOM    184  C   VAL A  24       4.845 -13.827  -0.842  1.00  0.00           C  \\nATOM    185  O   VAL A  24       5.665 -13.697   0.078  1.00  0.00           O  \\nATOM    186  N   LEU A  25       3.535 -13.897  -0.572  1.00  0.00           N  \\nATOM    187  CA  LEU A  25       2.935 -13.397   0.718  1.00  0.00           C  \\nATOM    188  CB  LEU A  25       1.415 -12.957   0.558  1.00  0.00           C  \\nATOM    189  CG  LEU A  25       1.245 -11.957  -0.632  1.00  0.00           C  \\nATOM    190  CD1 LEU A  25      -0.265 -11.777  -0.992  1.00  0.00           C  \\nATOM    191  CD2 LEU A  25       1.895 -10.607  -0.212  1.00  0.00           C  \\nATOM    192  C   LEU A  25       3.185 -14.257   1.968  1.00  0.00           C  \\nATOM    193  O   LEU A  25       3.735 -13.797   2.928  1.00  0.00           O  \\nATOM    194  N   GLU A  26       2.965 -15.557   1.698  1.00  0.00           N  \\nATOM    195  CA  GLU A  26       3.295 -16.597   2.718  1.00  0.00           C  \\nATOM    196  CB  GLU A  26       2.715 -17.947   2.198  1.00  0.00           C  \\nATOM    197  CG  GLU A  26       2.815 -19.107   3.218  1.00  0.00           C  \\nATOM    198  CD  GLU A  26       2.335 -20.407   2.718  1.00  0.00           C  \\nATOM    199  OE1 GLU A  26       3.185 -21.287   2.538  1.00  0.00           O  \\nATOM    200  OE2 GLU A  26       1.205 -20.547   2.308  1.00  0.00           O  \\nATOM    201  C   GLU A  26       4.845 -16.607   2.888  1.00  0.00           C  \\nATOM    202  O   GLU A  26       5.325 -16.777   3.968  1.00  0.00           O  \\nATOM    203  N   ALA A  27       5.575 -16.387   1.848  1.00  0.00           N  \\nATOM    204  CA  ALA A  27       7.095 -16.427   1.858  1.00  0.00           C  \\nATOM    205  CB  ALA A  27       7.625 -16.487   0.428  1.00  0.00           C  \\nATOM    206  C   ALA A  27       7.685 -15.227   2.658  1.00  0.00           C  \\nATOM    207  O   ALA A  27       8.515 -15.477   3.548  1.00  0.00           O  \\nATOM    208  N   ILE A  28       7.145 -14.007   2.408  1.00  0.00           N  \\nATOM    209  CA  ILE A  28       7.485 -12.847   3.248  1.00  0.00           C  \\nATOM    210  CB  ILE A  28       7.115 -11.507   2.548  1.00  0.00           C  \\nATOM    211  CG2 ILE A  28       7.245 -10.327   3.538  1.00  0.00           C  \\nATOM    212  CG1 ILE A  28       7.955 -11.387   1.248  1.00  0.00           C  \\nATOM    213  CD1 ILE A  28       7.555 -10.107   0.448  1.00  0.00           C  \\nATOM    214  C   ILE A  28       6.945 -12.937   4.698  1.00  0.00           C  \\nATOM    215  O   ILE A  28       7.605 -12.507   5.648  1.00  0.00           O  \\nATOM    216  N   ASP A  29       5.705 -13.417   4.928  1.00  0.00           N  \\nATOM    217  CA  ASP A  29       5.055 -13.377   6.268  1.00  0.00           C  \\nATOM    218  CB  ASP A  29       3.565 -13.647   6.068  1.00  0.00           C  \\nATOM    219  CG  ASP A  29       2.675 -13.157   7.208  1.00  0.00           C  \\nATOM    220  OD1 ASP A  29       2.475 -11.977   7.198  1.00  0.00           O  \\nATOM    221  OD2 ASP A  29       2.235 -13.897   8.088  1.00  0.00           O  \\nATOM    222  C   ASP A  29       5.585 -14.227   7.298  1.00  0.00           C  \\nATOM    223  O   ASP A  29       6.105 -13.747   8.308  1.00  0.00           O  \\nATOM    224  N   THR A  30       5.655 -15.507   6.928  1.00  0.00           N  \\nATOM    225  CA  THR A  30       6.285 -16.527   7.768  1.00  0.00           C  \\nATOM    226  CB  THR A  30       6.165 -17.947   7.228  1.00  0.00           C  \\nATOM    227  CG2 THR A  30       4.725 -18.367   6.818  1.00  0.00           C  \\nATOM    228  OG1 THR A  30       6.965 -18.107   6.038  1.00  0.00           O  \\nATOM    229  C   THR A  30       7.745 -16.217   8.078  1.00  0.00           C  \\nATOM    230  O   THR A  30       8.235 -16.567   9.218  1.00  0.00           O  \\nATOM    231  N   TYR A  31       8.485 -15.497   7.228  1.00  0.00           N  \\nATOM    232  CA  TYR A  31       9.855 -15.157   7.588  1.00  0.00           C  \\nATOM    233  CB  TYR A  31      10.775 -14.977   6.358  1.00  0.00           C  \\nATOM    234  CG  TYR A  31      12.285 -14.797   6.568  1.00  0.00           C  \\nATOM    235  CD1 TYR A  31      13.135 -15.837   6.228  1.00  0.00           C  \\nATOM    236  CE1 TYR A  31      14.515 -15.777   6.438  1.00  0.00           C  \\nATOM    237  CZ  TYR A  31      15.095 -14.657   7.108  1.00  0.00           C  \\nATOM    238  OH  TYR A  31      16.405 -14.627   7.378  1.00  0.00           O  \\nATOM    239  CE2 TYR A  31      14.215 -13.527   7.288  1.00  0.00           C  \\nATOM    240  CD2 TYR A  31      12.855 -13.637   7.088  1.00  0.00           C  \\nATOM    241  C   TYR A  31       9.945 -13.917   8.528  1.00  0.00           C  \\nATOM    242  O   TYR A  31      10.685 -13.977   9.458  1.00  0.00           O  \\nATOM    243  N   CYS A  32       9.165 -12.807   8.308  1.00  0.00           N  \\nATOM    244  CA  CYS A  32       9.275 -11.537   9.098  1.00  0.00           C  \\nATOM    245  CB  CYS A  32       8.395 -10.457   8.368  1.00  0.00           C  \\nATOM    246  SG  CYS A  32       9.125 -10.167   6.698  1.00  0.00           S  \\nATOM    247  C   CYS A  32       8.915 -11.747  10.538  1.00  0.00           C  \\nATOM    248  O   CYS A  32       9.585 -11.357  11.488  1.00  0.00           O  \\nATOM    249  N   GLU A  33       7.795 -12.517  10.698  1.00  0.00           N  \\nATOM    250  CA  GLU A  33       7.185 -12.967  11.998  1.00  0.00           C  \\nATOM    251  CB  GLU A  33       5.965 -13.717  11.518  1.00  0.00           C  \\nATOM    252  CG  GLU A  33       5.035 -14.227  12.628  1.00  0.00           C  \\nATOM    253  CD  GLU A  33       4.025 -15.207  12.088  1.00  0.00           C  \\nATOM    254  OE1 GLU A  33       2.915 -15.107  12.588  1.00  0.00           O  \\nATOM    255  OE2 GLU A  33       4.355 -16.307  11.618  1.00  0.00           O  \\nATOM    256  C   GLU A  33       8.075 -13.737  12.978  1.00  0.00           C  \\nATOM    257  O   GLU A  33       7.915 -13.687  14.188  1.00  0.00           O  \\nATOM    258  N   GLN A  34       8.885 -14.607  12.448  1.00  0.00           N  \\nATOM    259  CA  GLN A  34       9.615 -15.677  13.178  1.00  0.00           C  \\nATOM    260  CB  GLN A  34       9.255 -17.027  12.458  1.00  0.00           C  \\nATOM    261  CG  GLN A  34       7.755 -17.437  12.778  1.00  0.00           C  \\nATOM    262  CD  GLN A  34       7.315 -18.717  12.168  1.00  0.00           C  \\nATOM    263  OE1 GLN A  34       7.785 -19.827  12.458  1.00  0.00           O  \\nATOM    264  NE2 GLN A  34       6.475 -18.687  11.148  1.00  0.00           N  \\nATOM    265  C   GLN A  34      11.095 -15.627  13.148  1.00  0.00           C  \\nATOM    266  O   GLN A  34      11.725 -16.197  14.008  1.00  0.00           O  \\nATOM    267  N   LYS A  35      11.735 -14.867  12.238  1.00  0.00           N  \\nATOM    268  CA  LYS A  35      13.125 -14.767  11.998  1.00  0.00           C  \\nATOM    269  CB  LYS A  35      13.525 -15.437  10.618  1.00  0.00           C  \\nATOM    270  CG  LYS A  35      13.475 -17.007  10.688  1.00  0.00           C  \\nATOM    271  CD  LYS A  35      13.705 -17.617   9.258  1.00  0.00           C  \\nATOM    272  CE  LYS A  35      13.865 -19.137   9.218  1.00  0.00           C  \\nATOM    273  NZ  LYS A  35      12.695 -19.847   9.788  1.00  0.00           N  \\nATOM    274  C   LYS A  35      13.705 -13.347  12.098  1.00  0.00           C  \\nATOM    275  O   LYS A  35      14.555 -13.067  12.938  1.00  0.00           O  \\nATOM    276  N   GLU A  36      13.245 -12.377  11.338  1.00  0.00           N  \\nATOM    277  CA  GLU A  36      13.905 -11.057  11.268  1.00  0.00           C  \\nATOM    278  CB  GLU A  36      14.965 -10.927  10.168  1.00  0.00           C  \\nATOM    279  CG  GLU A  36      16.125 -11.877  10.428  1.00  0.00           C  \\nATOM    280  CD  GLU A  36      17.265 -11.657   9.468  1.00  0.00           C  \\nATOM    281  OE1 GLU A  36      17.565 -12.537   8.658  1.00  0.00           O  \\nATOM    282  OE2 GLU A  36      18.045 -10.707   9.548  1.00  0.00           O  \\nATOM    283  C   GLU A  36      12.835 -10.017  11.018  1.00  0.00           C  \\nATOM    284  O   GLU A  36      12.075 -10.097  10.058  1.00  0.00           O  \\nATOM    285  N   TRP A  37      12.545  -9.077  11.948  1.00  0.00           N  \\nATOM    286  CA  TRP A  37      11.445  -8.087  11.868  1.00  0.00           C  \\nATOM    287  CB  TRP A  37      11.315  -7.387  13.218  1.00  0.00           C  \\nATOM    288  CG  TRP A  37      10.055  -6.527  13.168  1.00  0.00           C  \\nATOM    289  CD1 TRP A  37       8.825  -7.007  13.298  1.00  0.00           C  \\nATOM    290  NE1 TRP A  37       7.865  -6.027  13.148  1.00  0.00           N  \\nATOM    291  CE2 TRP A  37       8.465  -4.797  13.028  1.00  0.00           C  \\nATOM    292  CZ2 TRP A  37       8.025  -3.437  12.958  1.00  0.00           C  \\nATOM    293  CH2 TRP A  37       8.865  -2.397  12.658  1.00  0.00           C  \\nATOM    294  CZ3 TRP A  37      10.205  -2.697  12.408  1.00  0.00           C  \\nATOM    295  CE3 TRP A  37      10.705  -3.967  12.558  1.00  0.00           C  \\nATOM    296  CD2 TRP A  37       9.855  -5.087  12.908  1.00  0.00           C  \\nATOM    297  C   TRP A  37      11.615  -7.077  10.728  1.00  0.00           C  \\nATOM    298  O   TRP A  37      12.715  -6.577  10.558  1.00  0.00           O  \\nATOM    299  N   ALA A  38      10.565  -6.787   9.978  1.00  0.00           N  \\nATOM    300  CA  ALA A  38      10.545  -5.937   8.778  1.00  0.00           C  \\nATOM    301  CB  ALA A  38      11.175  -6.617   7.568  1.00  0.00           C  \\nATOM    302  C   ALA A  38       9.115  -5.437   8.448  1.00  0.00           C  \\nATOM    303  O   ALA A  38       8.055  -6.017   8.858  1.00  0.00           O  \\nATOM    304  N   MET A  39       9.025  -4.227   7.848  1.00  0.00           N  \\nATOM    305  CA  MET A  39       7.945  -3.307   7.918  1.00  0.00           C  \\nATOM    306  CB  MET A  39       8.325  -1.777   8.138  1.00  0.00           C  \\nATOM    307  CG  MET A  39       9.165  -1.147   7.038  1.00  0.00           C  \\nATOM    308  SD  MET A  39       9.375   0.633   7.298  1.00  0.00           S  \\nATOM    309  CE  MET A  39      11.035   0.913   6.508  1.00  0.00           C  \\nATOM    310  C   MET A  39       6.825  -3.507   6.928  1.00  0.00           C  \\nATOM    311  O   MET A  39       6.025  -2.637   6.738  1.00  0.00           O  \\nATOM    312  N   ASN A  40       6.615  -4.707   6.488  1.00  0.00           N  \\nATOM    313  CA  ASN A  40       5.665  -5.197   5.518  1.00  0.00           C  \\nATOM    314  CB  ASN A  40       6.085  -6.677   4.988  1.00  0.00           C  \\nATOM    315  CG  ASN A  40       7.345  -6.657   4.168  1.00  0.00           C  \\nATOM    316  OD1 ASN A  40       7.265  -6.117   3.048  1.00  0.00           O  \\nATOM    317  ND2 ASN A  40       8.425  -7.047   4.728  1.00  0.00           N  \\nATOM    318  C   ASN A  40       4.205  -5.307   6.158  1.00  0.00           C  \\nATOM    319  O   ASN A  40       4.055  -5.827   7.258  1.00  0.00           O  \\nATOM    320  N   VAL A  41       3.045  -4.887   5.468  1.00  0.00           N  \\nATOM    321  CA  VAL A  41       1.765  -4.697   6.108  1.00  0.00           C  \\nATOM    322  CB  VAL A  41       0.845  -4.007   5.028  1.00  0.00           C  \\nATOM    323  CG1 VAL A  41      -0.505  -3.647   5.628  1.00  0.00           C  \\nATOM    324  CG2 VAL A  41       1.395  -2.737   4.428  1.00  0.00           C  \\nATOM    325  C   VAL A  41       1.085  -5.977   6.618  1.00  0.00           C  \\nATOM    326  O   VAL A  41       0.345  -5.907   7.598  1.00  0.00           O  \\nATOM    327  N   GLY A  42       1.465  -7.137   6.058  1.00  0.00           N  \\nATOM    328  CA  GLY A  42       1.045  -8.457   6.588  1.00  0.00           C  \\nATOM    329  C   GLY A  42      -0.465  -8.857   6.498  1.00  0.00           C  \\nATOM    330  O   GLY A  42      -1.265  -8.077   5.948  1.00  0.00           O  \\nATOM    331  N   ASP A  43      -0.825 -10.107   6.898  1.00  0.00           N  \\nATOM    332  CA  ASP A  43      -2.145 -10.677   6.598  1.00  0.00           C  \\nATOM    333  CB  ASP A  43      -1.845 -12.167   6.788  1.00  0.00           C  \\nATOM    334  CG  ASP A  43      -3.145 -12.997   6.838  1.00  0.00           C  \\nATOM    335  OD1 ASP A  43      -3.685 -13.267   5.798  1.00  0.00           O  \\nATOM    336  OD2 ASP A  43      -3.635 -13.297   7.918  1.00  0.00           O  \\nATOM    337  C   ASP A  43      -3.145 -10.057   7.508  1.00  0.00           C  \\nATOM    338  O   ASP A  43      -4.265  -9.767   7.048  1.00  0.00           O  \\nATOM    339  N   LYS A  44      -2.765  -9.847   8.838  1.00  0.00           N  \\nATOM    340  CA  LYS A  44      -3.745  -9.507   9.858  1.00  0.00           C  \\nATOM    341  CB  LYS A  44      -3.045  -9.537  11.228  1.00  0.00           C  \\nATOM    342  CG  LYS A  44      -2.525 -11.037  11.608  1.00  0.00           C  \\nATOM    343  CD  LYS A  44      -1.715 -11.007  12.898  1.00  0.00           C  \\nATOM    344  CE  LYS A  44      -1.095 -12.377  13.248  1.00  0.00           C  \\nATOM    345  NZ  LYS A  44      -0.225 -12.237  14.438  1.00  0.00           N  \\nATOM    346  C   LYS A  44      -4.415  -8.177   9.608  1.00  0.00           C  \\nATOM    347  O   LYS A  44      -5.625  -7.977   9.848  1.00  0.00           O  \\nATOM    348  N   LYS A  45      -3.605  -7.217   9.238  1.00  0.00           N  \\nATOM    349  CA  LYS A  45      -4.165  -5.967   8.658  1.00  0.00           C  \\nATOM    350  CB  LYS A  45      -3.015  -4.857   8.628  1.00  0.00           C  \\nATOM    351  CG  LYS A  45      -2.695  -4.257  10.068  1.00  0.00           C  \\nATOM    352  CD  LYS A  45      -1.775  -3.077   9.918  1.00  0.00           C  \\nATOM    353  CE  LYS A  45      -1.545  -2.117  11.118  1.00  0.00           C  \\nATOM    354  NZ  LYS A  45      -0.485  -1.137  10.948  1.00  0.00           N  \\nATOM    355  C   LYS A  45      -4.735  -6.207   7.248  1.00  0.00           C  \\nATOM    356  O   LYS A  45      -5.815  -5.747   6.988  1.00  0.00           O  \\nATOM    357  N   GLY A  46      -4.085  -7.017   6.458  1.00  0.00           N  \\nATOM    358  CA  GLY A  46      -4.275  -7.397   5.058  1.00  0.00           C  \\nATOM    359  C   GLY A  46      -5.715  -7.777   4.828  1.00  0.00           C  \\nATOM    360  O   GLY A  46      -6.215  -7.547   3.768  1.00  0.00           O  \\nATOM    361  N   LYS A  47      -6.415  -8.357   5.868  1.00  0.00           N  \\nATOM    362  CA  LYS A  47      -7.855  -8.627   5.758  1.00  0.00           C  \\nATOM    363  CB  LYS A  47      -8.205  -9.377   7.058  1.00  0.00           C  \\nATOM    364  CG  LYS A  47      -7.795 -10.807   7.148  1.00  0.00           C  \\nATOM    365  CD  LYS A  47      -8.445 -11.287   8.528  1.00  0.00           C  \\nATOM    366  CE  LYS A  47      -8.245 -12.827   8.638  1.00  0.00           C  \\nATOM    367  NZ  LYS A  47      -8.245 -13.277  10.038  1.00  0.00           N  \\nATOM    368  C   LYS A  47      -8.785  -7.417   5.468  1.00  0.00           C  \\nATOM    369  O   LYS A  47      -9.815  -7.617   4.828  1.00  0.00           O  \\nATOM    370  N   ILE A  48      -8.415  -6.177   5.928  1.00  0.00           N  \\nATOM    371  CA  ILE A  48      -8.995  -4.907   5.498  1.00  0.00           C  \\nATOM    372  CB  ILE A  48      -8.665  -3.767   6.588  1.00  0.00           C  \\nATOM    373  CG2 ILE A  48      -9.545  -2.567   6.298  1.00  0.00           C  \\nATOM    374  CG1 ILE A  48      -8.895  -4.247   8.118  1.00  0.00           C  \\nATOM    375  CD1 ILE A  48     -10.255  -4.877   8.368  1.00  0.00           C  \\nATOM    376  C   ILE A  48      -8.625  -4.557   4.078  1.00  0.00           C  \\nATOM    377  O   ILE A  48      -9.435  -4.097   3.258  1.00  0.00           O  \\nATOM    378  N   VAL A  49      -7.445  -4.837   3.628  1.00  0.00           N  \\nATOM    379  CA  VAL A  49      -6.945  -4.527   2.308  1.00  0.00           C  \\nATOM    380  CB  VAL A  49      -5.365  -4.597   2.328  1.00  0.00           C  \\nATOM    381  CG1 VAL A  49      -4.685  -4.117   1.028  1.00  0.00           C  \\nATOM    382  CG2 VAL A  49      -4.695  -3.967   3.568  1.00  0.00           C  \\nATOM    383  C   VAL A  49      -7.565  -5.377   1.218  1.00  0.00           C  \\nATOM    384  O   VAL A  49      -7.545  -4.987   0.048  1.00  0.00           O  \\nATOM    385  N   ASP A  50      -8.165  -6.477   1.658  1.00  0.00           N  \\nATOM    386  CA  ASP A  50      -9.015  -7.277   0.788  1.00  0.00           C  \\nATOM    387  CB  ASP A  50      -9.235  -8.677   1.278  1.00  0.00           C  \\nATOM    388  CG  ASP A  50      -8.075  -9.577   1.148  1.00  0.00           C  \\nATOM    389  OD1 ASP A  50      -8.125 -10.697   1.568  1.00  0.00           O  \\nATOM    390  OD2 ASP A  50      -7.085  -9.217   0.608  1.00  0.00           O  \\nATOM    391  C   ASP A  50     -10.355  -6.687   0.498  1.00  0.00           C  \\nATOM    392  O   ASP A  50     -10.935  -6.807  -0.592  1.00  0.00           O  \\nATOM    393  N   ALA A  51     -10.905  -5.947   1.488  1.00  0.00           N  \\nATOM    394  CA  ALA A  51     -12.295  -5.477   1.408  1.00  0.00           C  \\nATOM    395  CB  ALA A  51     -12.735  -4.977   2.808  1.00  0.00           C  \\nATOM    396  C   ALA A  51     -12.405  -4.327   0.428  1.00  0.00           C  \\nATOM    397  O   ALA A  51     -13.395  -4.217  -0.302  1.00  0.00           O  \\nATOM    398  N   VAL A  52     -11.405  -3.417   0.468  1.00  0.00           N  \\nATOM    399  CA  VAL A  52     -11.385  -2.227  -0.422  1.00  0.00           C  \\nATOM    400  CB  VAL A  52     -10.555  -1.107   0.198  1.00  0.00           C  \\nATOM    401  CG1 VAL A  52     -10.915  -0.697   1.598  1.00  0.00           C  \\nATOM    402  CG2 VAL A  52      -9.015  -1.477   0.218  1.00  0.00           C  \\nATOM    403  C   VAL A  52     -10.975  -2.587  -1.872  1.00  0.00           C  \\nATOM    404  O   VAL A  52     -10.785  -1.727  -2.732  1.00  0.00           O  \\nATOM    405  N   ILE A  53     -10.985  -3.867  -2.252  1.00  0.00           N  \\nATOM    406  CA  ILE A  53     -10.965  -4.377  -3.642  1.00  0.00           C  \\nATOM    407  CB  ILE A  53      -9.635  -5.117  -3.952  1.00  0.00           C  \\nATOM    408  CG2 ILE A  53      -9.545  -5.577  -5.462  1.00  0.00           C  \\nATOM    409  CG1 ILE A  53      -8.315  -4.377  -3.502  1.00  0.00           C  \\nATOM    410  CD1 ILE A  53      -7.985  -3.137  -4.222  1.00  0.00           C  \\nATOM    411  C   ILE A  53     -12.175  -5.257  -3.882  1.00  0.00           C  \\nATOM    412  O   ILE A  53     -13.005  -4.977  -4.752  1.00  0.00           O  \\nATOM    413  N   GLN A  54     -12.265  -6.337  -3.122  1.00  0.00           N  \\nATOM    414  CA  GLN A  54     -13.235  -7.417  -3.332  1.00  0.00           C  \\nATOM    415  CB  GLN A  54     -12.885  -8.777  -2.622  1.00  0.00           C  \\nATOM    416  CG  GLN A  54     -13.415  -8.907  -1.202  1.00  0.00           C  \\nATOM    417  CD  GLN A  54     -12.605  -9.917  -0.352  1.00  0.00           C  \\nATOM    418  OE1 GLN A  54     -11.675 -10.567  -0.902  1.00  0.00           O  \\nATOM    419  NE2 GLN A  54     -13.015 -10.217   0.868  1.00  0.00           N  \\nATOM    420  C   GLN A  54     -14.765  -7.097  -3.162  1.00  0.00           C  \\nATOM    421  O   GLN A  54     -15.715  -7.807  -3.652  1.00  0.00           O  \\nATOM    422  N   GLU A  55     -15.065  -6.017  -2.442  1.00  0.00           N  \\nATOM    423  CA  GLU A  55     -16.425  -5.477  -2.262  1.00  0.00           C  \\nATOM    424  CB  GLU A  55     -16.715  -5.417  -0.782  1.00  0.00           C  \\nATOM    425  CG  GLU A  55     -16.295  -6.657   0.048  1.00  0.00           C  \\nATOM    426  CD  GLU A  55     -16.615  -6.467   1.568  1.00  0.00           C  \\nATOM    427  OE1 GLU A  55     -17.215  -7.327   2.228  1.00  0.00           O  \\nATOM    428  OE2 GLU A  55     -16.515  -5.367   2.058  1.00  0.00           O  \\nATOM    429  C   GLU A  55     -16.605  -4.107  -3.012  1.00  0.00           C  \\nATOM    430  O   GLU A  55     -17.565  -3.357  -2.712  1.00  0.00           O  \\nATOM    431  N   HIE A  56     -15.615  -3.717  -3.852  1.00  0.00           N  \\nATOM    432  CA  HIE A  56     -15.495  -2.317  -4.372  1.00  0.00           C  \\nATOM    433  CB  HIE A  56     -14.445  -1.627  -3.502  1.00  0.00           C  \\nATOM    434  CG  HIE A  56     -14.305  -0.087  -3.612  1.00  0.00           C  \\nATOM    435  ND1 HIE A  56     -15.325   0.813  -3.912  1.00  0.00           N  \\nATOM    436  CE1 HIE A  56     -14.725   1.993  -4.192  1.00  0.00           C  \\nATOM    437  NE2 HIE A  56     -13.445   1.893  -4.132  1.00  0.00           N  \\nATOM    438  CD2 HIE A  56     -13.095   0.573  -3.732  1.00  0.00           C  \\nATOM    439  C   HIE A  56     -15.185  -2.277  -5.862  1.00  0.00           C  \\nATOM    440  O   HIE A  56     -15.435  -1.317  -6.522  1.00  0.00           O  \\nATOM    441  N   GLN A  57     -14.615  -3.307  -6.452  1.00  0.00           N  \\nATOM    442  CA  GLN A  57     -14.395  -3.437  -7.952  1.00  0.00           C  \\nATOM    443  CB  GLN A  57     -15.795  -3.757  -8.702  1.00  0.00           C  \\nATOM    444  CG  GLN A  57     -16.265  -5.187  -8.472  1.00  0.00           C  \\nATOM    445  CD  GLN A  57     -16.535  -5.487  -7.042  1.00  0.00           C  \\nATOM    446  OE1 GLN A  57     -17.395  -4.867  -6.462  1.00  0.00           O  \\nATOM    447  NE2 GLN A  57     -15.835  -6.397  -6.412  1.00  0.00           N  \\nATOM    448  C   GLN A  57     -13.685  -2.257  -8.612  1.00  0.00           C  \\nATOM    449  O   GLN A  57     -14.285  -1.647  -9.562  1.00  0.00           O  \\nATOM    450  N   PRO A  58     -12.565  -1.757  -8.092  1.00  0.00           N  \\nATOM    451  CD  PRO A  58     -11.755  -2.227  -6.922  1.00  0.00           C  \\nATOM    452  CG  PRO A  58     -10.335  -1.727  -7.242  1.00  0.00           C  \\nATOM    453  CB  PRO A  58     -10.545  -0.357  -7.872  1.00  0.00           C  \\nATOM    454  CA  PRO A  58     -11.895  -0.697  -8.692  1.00  0.00           C  \\nATOM    455  C   PRO A  58     -11.505  -0.927 -10.122  1.00  0.00           C  \\nATOM    456  O   PRO A  58     -11.285  -2.067 -10.532  1.00  0.00           O  \\nATOM    457  N   SER A  59     -11.285   0.133 -10.922  1.00  0.00           N  \\nATOM    458  CA  SER A  59     -10.725   0.093 -12.232  1.00  0.00           C  \\nATOM    459  CB  SER A  59     -11.495   1.133 -13.092  1.00  0.00           C  \\nATOM    460  OG  SER A  59     -12.885   0.833 -13.242  1.00  0.00           O  \\nATOM    461  C   SER A  59      -9.245   0.473 -12.212  1.00  0.00           C  \\nATOM    462  O   SER A  59      -8.485  -0.047 -13.062  1.00  0.00           O  \\nATOM    463  N   VAL A  60      -8.845   1.493 -11.422  1.00  0.00           N  \\nATOM    464  CA  VAL A  60      -7.435   1.943 -11.212  1.00  0.00           C  \\nATOM    465  CB  VAL A  60      -7.115   3.113 -12.242  1.00  0.00           C  \\nATOM    466  CG1 VAL A  60      -5.555   3.343 -12.372  1.00  0.00           C  \\nATOM    467  CG2 VAL A  60      -7.575   2.863 -13.732  1.00  0.00           C  \\nATOM    468  C   VAL A  60      -7.225   2.483  -9.792  1.00  0.00           C  \\nATOM    469  O   VAL A  60      -8.115   3.153  -9.282  1.00  0.00           O  \\nATOM    470  N   LEU A  61      -6.025   2.213  -9.262  1.00  0.00           N  \\nATOM    471  CA  LEU A  61      -5.695   2.603  -7.872  1.00  0.00           C  \\nATOM    472  CB  LEU A  61      -6.255   1.583  -6.822  1.00  0.00           C  \\nATOM    473  CG  LEU A  61      -5.685   0.133  -6.872  1.00  0.00           C  \\nATOM    474  CD1 LEU A  61      -5.695  -0.567  -5.482  1.00  0.00           C  \\nATOM    475  CD2 LEU A  61      -6.485  -0.787  -7.832  1.00  0.00           C  \\nATOM    476  C   LEU A  61      -4.225   2.983  -7.652  1.00  0.00           C  \\nATOM    477  O   LEU A  61      -3.425   2.743  -8.522  1.00  0.00           O  \\nATOM    478  N   LEU A  62      -3.915   3.503  -6.462  1.00  0.00           N  \\nATOM    479  CA  LEU A  62      -2.625   3.963  -6.022  1.00  0.00           C  \\nATOM    480  CB  LEU A  62      -2.805   5.503  -5.762  1.00  0.00           C  \\nATOM    481  CG  LEU A  62      -1.605   6.323  -5.222  1.00  0.00           C  \\nATOM    482  CD1 LEU A  62      -0.415   6.203  -6.142  1.00  0.00           C  \\nATOM    483  CD2 LEU A  62      -2.115   7.743  -5.122  1.00  0.00           C  \\nATOM    484  C   LEU A  62      -2.115   3.253  -4.782  1.00  0.00           C  \\nATOM    485  O   LEU A  62      -2.905   2.883  -3.932  1.00  0.00           O  \\nATOM    486  N   GLU A  63      -0.815   3.093  -4.642  1.00  0.00           N  \\nATOM    487  CA  GLU A  63      -0.105   2.693  -3.442  1.00  0.00           C  \\nATOM    488  CB  GLU A  63       0.495   1.253  -3.622  1.00  0.00           C  \\nATOM    489  CG  GLU A  63       1.185   0.733  -2.352  1.00  0.00           C  \\nATOM    490  CD  GLU A  63       1.725  -0.667  -2.532  1.00  0.00           C  \\nATOM    491  OE1 GLU A  63       1.005  -1.497  -1.962  1.00  0.00           O  \\nATOM    492  OE2 GLU A  63       2.735  -0.897  -3.082  1.00  0.00           O  \\nATOM    493  C   GLU A  63       1.005   3.713  -3.162  1.00  0.00           C  \\nATOM    494  O   GLU A  63       1.795   4.073  -4.032  1.00  0.00           O  \\nATOM    495  N   LEU A  64       1.025   4.233  -1.942  1.00  0.00           N  \\nATOM    496  CA  LEU A  64       2.085   5.093  -1.462  1.00  0.00           C  \\nATOM    497  CB  LEU A  64       1.455   6.393  -0.812  1.00  0.00           C  \\nATOM    498  CG  LEU A  64       0.605   7.183  -1.862  1.00  0.00           C  \\nATOM    499  CD1 LEU A  64       0.165   8.603  -1.312  1.00  0.00           C  \\nATOM    500  CD2 LEU A  64       1.425   7.623  -2.992  1.00  0.00           C  \\nATOM    501  C   LEU A  64       3.205   4.413  -0.652  1.00  0.00           C  \\nATOM    502  O   LEU A  64       2.865   4.053   0.508  1.00  0.00           O  \\nATOM    503  N   GLY A  65       4.475   4.263  -1.112  1.00  0.00           N  \\nATOM    504  CA  GLY A  65       5.565   3.453  -0.462  1.00  0.00           C  \\nATOM    505  C   GLY A  65       5.535   1.953  -0.632  1.00  0.00           C  \\nATOM    506  O   GLY A  65       4.895   1.163   0.078  1.00  0.00           O  \\nATOM    507  N   ALA A  66       6.355   1.413  -1.512  1.00  0.00           N  \\nATOM    508  CA  ALA A  66       6.135   0.013  -1.982  1.00  0.00           C  \\nATOM    509  CB  ALA A  66       6.305  -0.007  -3.492  1.00  0.00           C  \\nATOM    510  C   ALA A  66       7.075  -0.897  -1.202  1.00  0.00           C  \\nATOM    511  O   ALA A  66       6.695  -2.027  -0.922  1.00  0.00           O  \\nATOM    512  N   TYR A  67       8.215  -0.437  -0.782  1.00  0.00           N  \\nATOM    513  CA  TYR A  67       9.265  -1.277   0.038  1.00  0.00           C  \\nATOM    514  CB  TYR A  67       8.705  -1.487   1.428  1.00  0.00           C  \\nATOM    515  CG  TYR A  67       9.635  -1.997   2.418  1.00  0.00           C  \\nATOM    516  CD1 TYR A  67      10.675  -1.217   2.948  1.00  0.00           C  \\nATOM    517  CE1 TYR A  67      11.435  -1.737   4.008  1.00  0.00           C  \\nATOM    518  CZ  TYR A  67      11.075  -2.977   4.698  1.00  0.00           C  \\nATOM    519  OH  TYR A  67      11.655  -3.337   5.868  1.00  0.00           O  \\nATOM    520  CE2 TYR A  67      10.005  -3.707   4.058  1.00  0.00           C  \\nATOM    521  CD2 TYR A  67       9.325  -3.247   2.938  1.00  0.00           C  \\nATOM    522  C   TYR A  67       9.795  -2.627  -0.582  1.00  0.00           C  \\nATOM    523  O   TYR A  67      10.945  -2.727  -1.042  1.00  0.00           O  \\nATOM    524  N   CYS A  68       8.865  -3.637  -0.602  1.00  0.00           N  \\nATOM    525  CA  CYS A  68       8.975  -4.907  -1.262  1.00  0.00           C  \\nATOM    526  CB  CYS A  68       9.155  -5.917  -0.112  1.00  0.00           C  \\nATOM    527  SG  CYS A  68      10.065  -7.387  -0.752  1.00  0.00           S  \\nATOM    528  C   CYS A  68       7.715  -5.297  -2.052  1.00  0.00           C  \\nATOM    529  O   CYS A  68       7.725  -6.347  -2.662  1.00  0.00           O  \\nATOM    530  N   GLY A  69       6.565  -4.627  -1.872  1.00  0.00           N  \\nATOM    531  CA  GLY A  69       5.345  -4.967  -2.522  1.00  0.00           C  \\nATOM    532  C   GLY A  69       4.395  -6.027  -1.872  1.00  0.00           C  \\nATOM    533  O   GLY A  69       3.605  -6.687  -2.562  1.00  0.00           O  \\nATOM    534  N   TYR A  70       4.385  -6.117  -0.492  1.00  0.00           N  \\nATOM    535  CA  TYR A  70       3.485  -7.087   0.258  1.00  0.00           C  \\nATOM    536  CB  TYR A  70       3.705  -7.157   1.818  1.00  0.00           C  \\nATOM    537  CG  TYR A  70       2.995  -8.317   2.538  1.00  0.00           C  \\nATOM    538  CD1 TYR A  70       3.755  -9.437   2.878  1.00  0.00           C  \\nATOM    539  CE1 TYR A  70       3.145 -10.497   3.518  1.00  0.00           C  \\nATOM    540  CZ  TYR A  70       1.735 -10.547   3.918  1.00  0.00           C  \\nATOM    541  OH  TYR A  70       1.095 -11.667   4.448  1.00  0.00           O  \\nATOM    542  CE2 TYR A  70       0.975  -9.417   3.508  1.00  0.00           C  \\nATOM    543  CD2 TYR A  70       1.645  -8.327   2.888  1.00  0.00           C  \\nATOM    544  C   TYR A  70       2.055  -6.667   0.038  1.00  0.00           C  \\nATOM    545  O   TYR A  70       1.105  -7.427  -0.182  1.00  0.00           O  \\nATOM    546  N   SER A  71       1.805  -5.357   0.078  1.00  0.00           N  \\nATOM    547  CA  SER A  71       0.525  -4.717  -0.152  1.00  0.00           C  \\nATOM    548  CB  SER A  71       0.365  -3.397   0.538  1.00  0.00           C  \\nATOM    549  OG  SER A  71       1.575  -2.617   0.418  1.00  0.00           O  \\nATOM    550  C   SER A  71       0.045  -4.627  -1.622  1.00  0.00           C  \\nATOM    551  O   SER A  71      -1.085  -4.937  -1.902  1.00  0.00           O  \\nATOM    552  N   ALA A  72       1.065  -4.467  -2.492  1.00  0.00           N  \\nATOM    553  CA  ALA A  72       0.875  -4.437  -3.942  1.00  0.00           C  \\nATOM    554  CB  ALA A  72       2.195  -4.087  -4.512  1.00  0.00           C  \\nATOM    555  C   ALA A  72       0.375  -5.787  -4.382  1.00  0.00           C  \\nATOM    556  O   ALA A  72      -0.695  -5.877  -4.982  1.00  0.00           O  \\nATOM    557  N   VAL A  73       0.975  -6.897  -3.952  1.00  0.00           N  \\nATOM    558  CA  VAL A  73       0.665  -8.277  -4.382  1.00  0.00           C  \\nATOM    559  CB  VAL A  73       1.785  -9.337  -4.242  1.00  0.00           C  \\nATOM    560  CG1 VAL A  73       1.345 -10.757  -4.632  1.00  0.00           C  \\nATOM    561  CG2 VAL A  73       3.055  -9.067  -5.142  1.00  0.00           C  \\nATOM    562  C   VAL A  73      -0.635  -8.697  -3.642  1.00  0.00           C  \\nATOM    563  O   VAL A  73      -1.505  -9.267  -4.292  1.00  0.00           O  \\nATOM    564  N   ARG A  74      -0.835  -8.347  -2.342  1.00  0.00           N  \\nATOM    565  CA  ARG A  74      -2.095  -8.417  -1.632  1.00  0.00           C  \\nATOM    566  CB  ARG A  74      -1.995  -7.747  -0.212  1.00  0.00           C  \\nATOM    567  CG  ARG A  74      -3.205  -7.937   0.748  1.00  0.00           C  \\nATOM    568  CD  ARG A  74      -3.155  -9.347   1.308  1.00  0.00           C  \\nATOM    569  NE  ARG A  74      -4.395  -9.557   2.128  1.00  0.00           N  \\nATOM    570  CZ  ARG A  74      -4.665 -10.607   2.868  1.00  0.00           C  \\nATOM    571  NH1 ARG A  74      -3.685 -11.347   3.408  1.00  0.00           N  \\nATOM    572  NH2 ARG A  74      -5.865 -10.917   3.278  1.00  0.00           N  \\nATOM    573  C   ARG A  74      -3.275  -7.887  -2.472  1.00  0.00           C  \\nATOM    574  O   ARG A  74      -4.225  -8.597  -2.652  1.00  0.00           O  \\nATOM    575  N   MET A  75      -3.185  -6.707  -3.002  1.00  0.00           N  \\nATOM    576  CA  MET A  75      -4.195  -6.097  -3.862  1.00  0.00           C  \\nATOM    577  CB  MET A  75      -3.905  -4.587  -4.042  1.00  0.00           C  \\nATOM    578  CG  MET A  75      -4.205  -3.797  -2.812  1.00  0.00           C  \\nATOM    579  SD  MET A  75      -4.215  -1.997  -3.022  1.00  0.00           S  \\nATOM    580  CE  MET A  75      -2.745  -1.377  -2.192  1.00  0.00           C  \\nATOM    581  C   MET A  75      -4.275  -6.657  -5.322  1.00  0.00           C  \\nATOM    582  O   MET A  75      -5.395  -7.087  -5.692  1.00  0.00           O  \\nATOM    583  N   ALA A  76      -3.135  -6.847  -6.092  1.00  0.00           N  \\nATOM    584  CA  ALA A  76      -3.225  -7.377  -7.412  1.00  0.00           C  \\nATOM    585  CB  ALA A  76      -1.745  -7.487  -7.882  1.00  0.00           C  \\nATOM    586  C   ALA A  76      -3.965  -8.727  -7.452  1.00  0.00           C  \\nATOM    587  O   ALA A  76      -4.575  -8.827  -8.562  1.00  0.00           O  \\nATOM    588  N   ARG A  77      -3.955  -9.687  -6.502  1.00  0.00           N  \\nATOM    589  CA  ARG A  77      -4.505 -11.047  -6.602  1.00  0.00           C  \\nATOM    590  CB  ARG A  77      -3.915 -11.937  -5.432  1.00  0.00           C  \\nATOM    591  CG  ARG A  77      -4.645 -11.847  -4.062  1.00  0.00           C  \\nATOM    592  CD  ARG A  77      -3.925 -12.367  -2.772  1.00  0.00           C  \\nATOM    593  NE  ARG A  77      -4.925 -12.707  -1.692  1.00  0.00           N  \\nATOM    594  CZ  ARG A  77      -5.595 -11.797  -0.962  1.00  0.00           C  \\nATOM    595  NH1 ARG A  77      -5.405 -10.497  -1.042  1.00  0.00           N  \\nATOM    596  NH2 ARG A  77      -6.345 -12.257  -0.052  1.00  0.00           N  \\nATOM    597  C   ARG A  77      -6.045 -11.047  -6.632  1.00  0.00           C  \\nATOM    598  O   ARG A  77      -6.535 -12.147  -6.902  1.00  0.00           O  \\nATOM    599  N   LEU A  78      -6.745  -9.967  -6.402  1.00  0.00           N  \\nATOM    600  CA  LEU A  78      -8.225  -9.877  -6.412  1.00  0.00           C  \\nATOM    601  CB  LEU A  78      -8.755  -9.247  -5.042  1.00  0.00           C  \\nATOM    602  CG  LEU A  78      -8.185  -9.927  -3.752  1.00  0.00           C  \\nATOM    603  CD1 LEU A  78      -8.675  -9.137  -2.572  1.00  0.00           C  \\nATOM    604  CD2 LEU A  78      -8.665 -11.357  -3.522  1.00  0.00           C  \\nATOM    605  C   LEU A  78      -8.805  -9.057  -7.542  1.00  0.00           C  \\nATOM    606  O   LEU A  78      -9.995  -8.767  -7.542  1.00  0.00           O  \\nATOM    607  N   LEU A  79      -7.925  -8.507  -8.402  1.00  0.00           N  \\nATOM    608  CA  LEU A  79      -8.245  -7.547  -9.442  1.00  0.00           C  \\nATOM    609  CB  LEU A  79      -7.035  -6.917  -9.952  1.00  0.00           C  \\nATOM    610  CG  LEU A  79      -6.395  -5.867  -9.082  1.00  0.00           C  \\nATOM    611  CD1 LEU A  79      -5.195  -5.317  -9.862  1.00  0.00           C  \\nATOM    612  CD2 LEU A  79      -7.385  -4.747  -8.612  1.00  0.00           C  \\nATOM    613  C   LEU A  79      -9.045  -8.287 -10.572  1.00  0.00           C  \\nATOM    614  O   LEU A  79      -8.745  -9.377 -11.002  1.00  0.00           O  \\nATOM    615  N   SER A  80     -10.055  -7.487 -11.012  1.00  0.00           N  \\nATOM    616  CA  SER A  80     -10.755  -7.917 -12.212  1.00  0.00           C  \\nATOM    617  CB  SER A  80     -12.025  -7.037 -12.382  1.00  0.00           C  \\nATOM    618  OG  SER A  80     -12.665  -6.877 -11.142  1.00  0.00           O  \\nATOM    619  C   SER A  80      -9.935  -7.847 -13.562  1.00  0.00           C  \\nATOM    620  O   SER A  80      -8.955  -7.147 -13.592  1.00  0.00           O  \\nATOM    621  N   PRO A  81     -10.275  -8.567 -14.682  1.00  0.00           N  \\nATOM    622  CD  PRO A  81     -11.435  -9.477 -14.852  1.00  0.00           C  \\nATOM    623  CG  PRO A  81     -11.385 -10.067 -16.292  1.00  0.00           C  \\nATOM    624  CB  PRO A  81     -10.705  -8.967 -17.042  1.00  0.00           C  \\nATOM    625  CA  PRO A  81      -9.705  -8.367 -16.002  1.00  0.00           C  \\nATOM    626  C   PRO A  81      -9.415  -6.907 -16.322  1.00  0.00           C  \\nATOM    627  O   PRO A  81     -10.275  -5.987 -16.182  1.00  0.00           O  \\nATOM    628  N   GLY A  82      -8.155  -6.667 -16.722  1.00  0.00           N  \\nATOM    629  CA  GLY A  82      -7.805  -5.357 -17.182  1.00  0.00           C  \\nATOM    630  C   GLY A  82      -7.645  -4.317 -16.092  1.00  0.00           C  \\nATOM    631  O   GLY A  82      -7.295  -3.187 -16.482  1.00  0.00           O  \\nATOM    632  N   ALA A  83      -7.805  -4.567 -14.752  1.00  0.00           N  \\nATOM    633  CA  ALA A  83      -7.745  -3.587 -13.712  1.00  0.00           C  \\nATOM    634  CB  ALA A  83      -8.595  -4.027 -12.492  1.00  0.00           C  \\nATOM    635  C   ALA A  83      -6.245  -3.297 -13.412  1.00  0.00           C  \\nATOM    636  O   ALA A  83      -5.425  -4.147 -13.862  1.00  0.00           O  \\nATOM    637  N   ARG A  84      -5.955  -2.147 -12.802  1.00  0.00           N  \\nATOM    638  CA  ARG A  84      -4.595  -1.537 -12.682  1.00  0.00           C  \\nATOM    639  CB  ARG A  84      -4.465  -0.437 -13.802  1.00  0.00           C  \\nATOM    640  CG  ARG A  84      -4.235  -1.077 -15.212  1.00  0.00           C  \\nATOM    641  CD  ARG A  84      -3.725  -0.027 -16.192  1.00  0.00           C  \\nATOM    642  NE  ARG A  84      -4.675   1.063 -16.412  1.00  0.00           N  \\nATOM    643  CZ  ARG A  84      -4.365   2.383 -16.262  1.00  0.00           C  \\nATOM    644  NH1 ARG A  84      -5.355   3.243 -16.352  1.00  0.00           N  \\nATOM    645  NH2 ARG A  84      -3.155   2.873 -15.952  1.00  0.00           N  \\nATOM    646  C   ARG A  84      -4.235  -1.007 -11.322  1.00  0.00           C  \\nATOM    647  O   ARG A  84      -5.055  -0.637 -10.532  1.00  0.00           O  \\nATOM    648  N   LEU A  85      -2.925  -0.937 -11.112  1.00  0.00           N  \\nATOM    649  CA  LEU A  85      -2.385  -0.427  -9.892  1.00  0.00           C  \\nATOM    650  CB  LEU A  85      -2.205  -1.667  -8.982  1.00  0.00           C  \\nATOM    651  CG  LEU A  85      -1.885  -1.197  -7.522  1.00  0.00           C  \\nATOM    652  CD1 LEU A  85      -2.415  -2.187  -6.452  1.00  0.00           C  \\nATOM    653  CD2 LEU A  85      -0.385  -0.897  -7.192  1.00  0.00           C  \\nATOM    654  C   LEU A  85      -1.065   0.293 -10.242  1.00  0.00           C  \\nATOM    655  O   LEU A  85      -0.245  -0.217 -11.002  1.00  0.00           O  \\nATOM    656  N   ILE A  86      -0.955   1.503  -9.692  1.00  0.00           N  \\nATOM    657  CA  ILE A  86       0.355   2.183  -9.712  1.00  0.00           C  \\nATOM    658  CB  ILE A  86       0.155   3.593 -10.362  1.00  0.00           C  \\nATOM    659  CG2 ILE A  86       1.355   4.463 -10.172  1.00  0.00           C  \\nATOM    660  CG1 ILE A  86      -0.145   3.413 -11.922  1.00  0.00           C  \\nATOM    661  CD1 ILE A  86      -1.455   4.123 -12.352  1.00  0.00           C  \\nATOM    662  C   ILE A  86       0.945   2.193  -8.312  1.00  0.00           C  \\nATOM    663  O   ILE A  86       0.215   2.593  -7.442  1.00  0.00           O  \\nATOM    664  N   THR A  87       2.195   1.833  -8.022  1.00  0.00           N  \\nATOM    665  CA  THR A  87       2.805   2.083  -6.712  1.00  0.00           C  \\nATOM    666  CB  THR A  87       3.195   0.723  -6.092  1.00  0.00           C  \\nATOM    667  CG2 THR A  87       4.175  -0.087  -6.872  1.00  0.00           C  \\nATOM    668  OG1 THR A  87       3.705   0.923  -4.752  1.00  0.00           O  \\nATOM    669  C   THR A  87       3.995   3.043  -6.852  1.00  0.00           C  \\nATOM    670  O   THR A  87       4.605   3.083  -7.922  1.00  0.00           O  \\nATOM    671  N   ILE A  88       4.245   3.853  -5.832  1.00  0.00           N  \\nATOM    672  CA  ILE A  88       5.175   5.013  -5.882  1.00  0.00           C  \\nATOM    673  CB  ILE A  88       4.475   6.383  -5.712  1.00  0.00           C  \\nATOM    674  CG2 ILE A  88       5.625   7.443  -5.942  1.00  0.00           C  \\nATOM    675  CG1 ILE A  88       3.345   6.673  -6.702  1.00  0.00           C  \\nATOM    676  CD1 ILE A  88       2.605   7.993  -6.482  1.00  0.00           C  \\nATOM    677  C   ILE A  88       6.235   4.883  -4.722  1.00  0.00           C  \\nATOM    678  O   ILE A  88       5.825   4.873  -3.562  1.00  0.00           O  \\nATOM    679  N   GLU A  89       7.535   4.843  -4.962  1.00  0.00           N  \\nATOM    680  CA  GLU A  89       8.585   4.593  -3.942  1.00  0.00           C  \\nATOM    681  CB  GLU A  89       8.995   3.103  -4.132  1.00  0.00           C  \\nATOM    682  CG  GLU A  89      10.075   2.583  -3.162  1.00  0.00           C  \\nATOM    683  CD  GLU A  89       9.925   2.943  -1.732  1.00  0.00           C  \\nATOM    684  OE1 GLU A  89       9.105   2.403  -1.032  1.00  0.00           O  \\nATOM    685  OE2 GLU A  89      10.565   3.843  -1.292  1.00  0.00           O  \\nATOM    686  C   GLU A  89       9.755   5.543  -4.202  1.00  0.00           C  \\nATOM    687  O   GLU A  89      10.165   5.673  -5.332  1.00  0.00           O  \\nATOM    688  N   ILE A  90      10.355   6.193  -3.202  1.00  0.00           N  \\nATOM    689  CA  ILE A  90      11.495   7.103  -3.172  1.00  0.00           C  \\nATOM    690  CB  ILE A  90      11.315   8.153  -2.062  1.00  0.00           C  \\nATOM    691  CG2 ILE A  90      11.805   7.603  -0.672  1.00  0.00           C  \\nATOM    692  CG1 ILE A  90      12.075   9.453  -2.402  1.00  0.00           C  \\nATOM    693  CD1 ILE A  90      12.035  10.473  -1.322  1.00  0.00           C  \\nATOM    694  C   ILE A  90      12.925   6.493  -3.042  1.00  0.00           C  \\nATOM    695  O   ILE A  90      13.885   6.973  -3.682  1.00  0.00           O  \\nATOM    696  N   ASN A  91      13.055   5.283  -2.432  1.00  0.00           N  \\nATOM    697  CA  ASN A  91      14.355   4.553  -2.232  1.00  0.00           C  \\nATOM    698  CB  ASN A  91      14.265   3.923  -0.842  1.00  0.00           C  \\nATOM    699  CG  ASN A  91      15.465   3.123  -0.422  1.00  0.00           C  \\nATOM    700  OD1 ASN A  91      16.425   3.123  -1.152  1.00  0.00           O  \\nATOM    701  ND2 ASN A  91      15.515   2.333   0.628  1.00  0.00           N  \\nATOM    702  C   ASN A  91      14.425   3.593  -3.332  1.00  0.00           C  \\nATOM    703  O   ASN A  91      13.575   2.653  -3.452  1.00  0.00           O  \\nATOM    704  N   PRO A  92      15.395   3.733  -4.252  1.00  0.00           N  \\nATOM    705  CD  PRO A  92      16.495   4.723  -4.242  1.00  0.00           C  \\nATOM    706  CG  PRO A  92      17.365   4.493  -5.532  1.00  0.00           C  \\nATOM    707  CB  PRO A  92      16.585   3.463  -6.352  1.00  0.00           C  \\nATOM    708  CA  PRO A  92      15.505   2.823  -5.472  1.00  0.00           C  \\nATOM    709  C   PRO A  92      15.885   1.413  -5.092  1.00  0.00           C  \\nATOM    710  O   PRO A  92      15.425   0.443  -5.692  1.00  0.00           O  \\nATOM    711  N   ASP A  93      16.595   1.173  -3.992  1.00  0.00           N  \\nATOM    712  CA  ASP A  93      16.785  -0.157  -3.482  1.00  0.00           C  \\nATOM    713  CB  ASP A  93      17.475  -0.117  -2.082  1.00  0.00           C  \\nATOM    714  CG  ASP A  93      18.125  -1.397  -1.712  1.00  0.00           C  \\nATOM    715  OD1 ASP A  93      17.895  -1.757  -0.572  1.00  0.00           O  \\nATOM    716  OD2 ASP A  93      18.965  -1.947  -2.412  1.00  0.00           O  \\nATOM    717  C   ASP A  93      15.515  -0.967  -3.212  1.00  0.00           C  \\nATOM    718  O   ASP A  93      15.505  -2.177  -3.452  1.00  0.00           O  \\nATOM    719  N   CYS A  94      14.455  -0.287  -2.702  1.00  0.00           N  \\nATOM    720  CA  CYS A  94      13.145  -0.837  -2.482  1.00  0.00           C  \\nATOM    721  CB  CYS A  94      12.335   0.053  -1.602  1.00  0.00           C  \\nATOM    722  SG  CYS A  94      13.055   0.023   0.048  1.00  0.00           S  \\nATOM    723  C   CYS A  94      12.385  -1.017  -3.802  1.00  0.00           C  \\nATOM    724  O   CYS A  94      11.505  -1.857  -3.892  1.00  0.00           O  \\nATOM    725  N   ALA A  95      12.805  -0.317  -4.832  1.00  0.00           N  \\nATOM    726  CA  ALA A  95      12.175  -0.447  -6.162  1.00  0.00           C  \\nATOM    727  CB  ALA A  95      12.355   0.833  -7.002  1.00  0.00           C  \\nATOM    728  C   ALA A  95      12.685  -1.627  -6.992  1.00  0.00           C  \\nATOM    729  O   ALA A  95      11.925  -2.597  -7.292  1.00  0.00           O  \\nATOM    730  N   ALA A  96      14.005  -1.817  -6.932  1.00  0.00           N  \\nATOM    731  CA  ALA A  96      14.775  -2.987  -7.382  1.00  0.00           C  \\nATOM    732  CB  ALA A  96      16.215  -2.527  -7.382  1.00  0.00           C  \\nATOM    733  C   ALA A  96      14.455  -4.277  -6.782  1.00  0.00           C  \\nATOM    734  O   ALA A  96      14.625  -5.257  -7.452  1.00  0.00           O  \\nATOM    735  N   ILE A  97      13.925  -4.307  -5.562  1.00  0.00           N  \\nATOM    736  CA  ILE A  97      13.275  -5.587  -5.052  1.00  0.00           C  \\nATOM    737  CB  ILE A  97      13.565  -5.887  -3.542  1.00  0.00           C  \\nATOM    738  CG2 ILE A  97      12.795  -4.827  -2.722  1.00  0.00           C  \\nATOM    739  CG1 ILE A  97      13.235  -7.377  -3.142  1.00  0.00           C  \\nATOM    740  CD1 ILE A  97      13.655  -7.807  -1.672  1.00  0.00           C  \\nATOM    741  C   ILE A  97      11.855  -5.757  -5.382  1.00  0.00           C  \\nATOM    742  O   ILE A  97      11.465  -6.827  -5.852  1.00  0.00           O  \\nATOM    743  N   THR A  98      11.055  -4.687  -5.332  1.00  0.00           N  \\nATOM    744  CA  THR A  98       9.635  -4.667  -5.642  1.00  0.00           C  \\nATOM    745  CB  THR A  98       8.925  -3.387  -5.252  1.00  0.00           C  \\nATOM    746  CG2 THR A  98       7.415  -3.507  -5.432  1.00  0.00           C  \\nATOM    747  OG1 THR A  98       9.185  -3.057  -3.902  1.00  0.00           O  \\nATOM    748  C   THR A  98       9.185  -5.077  -7.052  1.00  0.00           C  \\nATOM    749  O   THR A  98       8.295  -5.937  -7.192  1.00  0.00           O  \\nATOM    750  N   GLN A  99       9.985  -4.647  -8.042  1.00  0.00           N  \\nATOM    751  CA  GLN A  99       9.955  -5.087  -9.492  1.00  0.00           C  \\nATOM    752  CB  GLN A  99      11.045  -4.337 -10.212  1.00  0.00           C  \\nATOM    753  CG  GLN A  99      11.075  -4.597 -11.722  1.00  0.00           C  \\nATOM    754  CD  GLN A  99       9.855  -4.167 -12.482  1.00  0.00           C  \\nATOM    755  OE1 GLN A  99       9.215  -3.237 -12.082  1.00  0.00           O  \\nATOM    756  NE2 GLN A  99       9.725  -4.707 -13.682  1.00  0.00           N  \\nATOM    757  C   GLN A  99      10.135  -6.617  -9.592  1.00  0.00           C  \\nATOM    758  O   GLN A  99       9.395  -7.297 -10.322  1.00  0.00           O  \\nATOM    759  N   ARG A 100      11.035  -7.187  -8.862  1.00  0.00           N  \\nATOM    760  CA  ARG A 100      11.225  -8.707  -8.822  1.00  0.00           C  \\nATOM    761  CB  ARG A 100      12.615  -9.047  -8.232  1.00  0.00           C  \\nATOM    762  CG  ARG A 100      13.815  -8.477  -9.022  1.00  0.00           C  \\nATOM    763  CD  ARG A 100      15.215  -8.617  -8.362  1.00  0.00           C  \\nATOM    764  NE  ARG A 100      15.655  -9.987  -8.062  1.00  0.00           N  \\nATOM    765  CZ  ARG A 100      16.815 -10.477  -7.622  1.00  0.00           C  \\nATOM    766  NH1 ARG A 100      17.815  -9.667  -7.212  1.00  0.00           N  \\nATOM    767  NH2 ARG A 100      16.995 -11.767  -7.432  1.00  0.00           N  \\nATOM    768  C   ARG A 100      10.115  -9.477  -8.052  1.00  0.00           C  \\nATOM    769  O   ARG A 100       9.785 -10.637  -8.322  1.00  0.00           O  \\nATOM    770  N   MET A 101       9.465  -8.857  -7.072  1.00  0.00           N  \\nATOM    771  CA  MET A 101       8.325  -9.427  -6.362  1.00  0.00           C  \\nATOM    772  CB  MET A 101       8.045  -8.737  -5.072  1.00  0.00           C  \\nATOM    773  CG  MET A 101       9.265  -8.977  -4.132  1.00  0.00           C  \\nATOM    774  SD  MET A 101       9.595 -10.617  -3.652  1.00  0.00           S  \\nATOM    775  CE  MET A 101      11.335 -10.527  -3.252  1.00  0.00           C  \\nATOM    776  C   MET A 101       7.045  -9.507  -7.232  1.00  0.00           C  \\nATOM    777  O   MET A 101       6.515 -10.617  -7.402  1.00  0.00           O  \\nATOM    778  N   VAL A 102       6.735  -8.407  -7.892  1.00  0.00           N  \\nATOM    779  CA  VAL A 102       5.675  -8.287  -8.932  1.00  0.00           C  \\nATOM    780  CB  VAL A 102       5.465  -6.887  -9.332  1.00  0.00           C  \\nATOM    781  CG1 VAL A 102       4.425  -6.757 -10.462  1.00  0.00           C  \\nATOM    782  CG2 VAL A 102       4.955  -6.097  -8.092  1.00  0.00           C  \\nATOM    783  C   VAL A 102       5.875  -9.197 -10.082  1.00  0.00           C  \\nATOM    784  O   VAL A 102       4.875  -9.707 -10.642  1.00  0.00           O  \\nATOM    785  N   ASP A 103       7.105  -9.457 -10.492  1.00  0.00           N  \\nATOM    786  CA  ASP A 103       7.555 -10.567 -11.422  1.00  0.00           C  \\nATOM    787  CB  ASP A 103       9.065 -10.467 -11.852  1.00  0.00           C  \\nATOM    788  CG  ASP A 103       9.495 -11.637 -12.732  1.00  0.00           C  \\nATOM    789  OD1 ASP A 103       8.855 -11.787 -13.732  1.00  0.00           O  \\nATOM    790  OD2 ASP A 103      10.605 -12.077 -12.592  1.00  0.00           O  \\nATOM    791  C   ASP A 103       7.215 -11.937 -10.802  1.00  0.00           C  \\nATOM    792  O   ASP A 103       6.595 -12.747 -11.452  1.00  0.00           O  \\nATOM    793  N   PHE A 104       7.705 -12.257  -9.542  1.00  0.00           N  \\nATOM    794  CA  PHE A 104       7.575 -13.607  -8.952  1.00  0.00           C  \\nATOM    795  CB  PHE A 104       8.405 -13.657  -7.642  1.00  0.00           C  \\nATOM    796  CG  PHE A 104       8.835 -15.097  -7.282  1.00  0.00           C  \\nATOM    797  CD1 PHE A 104       9.915 -15.737  -7.932  1.00  0.00           C  \\nATOM    798  CE1 PHE A 104      10.445 -16.887  -7.442  1.00  0.00           C  \\nATOM    799  CZ  PHE A 104       9.855 -17.607  -6.382  1.00  0.00           C  \\nATOM    800  CE2 PHE A 104       8.705 -17.047  -5.832  1.00  0.00           C  \\nATOM    801  CD2 PHE A 104       8.185 -15.797  -6.242  1.00  0.00           C  \\nATOM    802  C   PHE A 104       6.155 -14.127  -8.762  1.00  0.00           C  \\nATOM    803  O   PHE A 104       5.785 -15.237  -8.882  1.00  0.00           O  \\nATOM    804  N   ALA A 105       5.195 -13.207  -8.612  1.00  0.00           N  \\nATOM    805  CA  ALA A 105       3.715 -13.267  -8.562  1.00  0.00           C  \\nATOM    806  CB  ALA A 105       3.225 -12.127  -7.612  1.00  0.00           C  \\nATOM    807  C   ALA A 105       3.055 -13.217  -9.952  1.00  0.00           C  \\nATOM    808  O   ALA A 105       1.825 -13.387  -9.992  1.00  0.00           O  \\nATOM    809  N   GLY A 106       3.715 -13.117 -11.102  1.00  0.00           N  \\nATOM    810  CA  GLY A 106       3.035 -12.997 -12.402  1.00  0.00           C  \\nATOM    811  C   GLY A 106       2.075 -11.857 -12.552  1.00  0.00           C  \\nATOM    812  O   GLY A 106       1.005 -12.037 -13.082  1.00  0.00           O  \\nATOM    813  N   MET A 107       2.455 -10.657 -12.022  1.00  0.00           N  \\nATOM    814  CA  MET A 107       1.585  -9.517 -11.882  1.00  0.00           C  \\nATOM    815  CB  MET A 107       1.075  -9.527 -10.362  1.00  0.00           C  \\nATOM    816  CG  MET A 107      -0.095 -10.547 -10.062  1.00  0.00           C  \\nATOM    817  SD  MET A 107      -0.665 -10.727  -8.302  1.00  0.00           S  \\nATOM    818  CE  MET A 107      -1.775 -12.047  -8.662  1.00  0.00           C  \\nATOM    819  C   MET A 107       2.135  -8.147 -12.352  1.00  0.00           C  \\nATOM    820  O   MET A 107       1.505  -7.097 -12.112  1.00  0.00           O  \\nATOM    821  N   LYS A 108       3.105  -8.167 -13.272  1.00  0.00           N  \\nATOM    822  CA  LYS A 108       3.655  -6.967 -13.912  1.00  0.00           C  \\nATOM    823  CB  LYS A 108       4.965  -7.187 -14.692  1.00  0.00           C  \\nATOM    824  CG  LYS A 108       6.115  -7.507 -13.732  1.00  0.00           C  \\nATOM    825  CD  LYS A 108       7.475  -7.847 -14.482  1.00  0.00           C  \\nATOM    826  CE  LYS A 108       7.545  -9.067 -15.322  1.00  0.00           C  \\nATOM    827  NZ  LYS A 108       8.965  -9.327 -15.902  1.00  0.00           N  \\nATOM    828  C   LYS A 108       2.725  -6.247 -14.892  1.00  0.00           C  \\nATOM    829  O   LYS A 108       2.675  -4.967 -15.012  1.00  0.00           O  \\nATOM    830  N   ASP A 109       1.845  -7.047 -15.502  1.00  0.00           N  \\nATOM    831  CA  ASP A 109       0.645  -6.557 -16.202  1.00  0.00           C  \\nATOM    832  CB  ASP A 109      -0.115  -7.747 -16.762  1.00  0.00           C  \\nATOM    833  CG  ASP A 109      -0.605  -8.787 -15.772  1.00  0.00           C  \\nATOM    834  OD1 ASP A 109      -1.785  -9.257 -15.852  1.00  0.00           O  \\nATOM    835  OD2 ASP A 109       0.275  -9.437 -15.252  1.00  0.00           O  \\nATOM    836  C   ASP A 109      -0.305  -5.737 -15.372  1.00  0.00           C  \\nATOM    837  O   ASP A 109      -1.185  -5.007 -15.892  1.00  0.00           O  \\nATOM    838  N   LYS A 110      -0.335  -5.947 -14.042  1.00  0.00           N  \\nATOM    839  CA  LYS A 110      -1.345  -5.307 -13.072  1.00  0.00           C  \\nATOM    840  CB  LYS A 110      -2.025  -6.397 -12.232  1.00  0.00           C  \\nATOM    841  CG  LYS A 110      -2.315  -7.757 -12.962  1.00  0.00           C  \\nATOM    842  CD  LYS A 110      -3.245  -8.717 -12.202  1.00  0.00           C  \\nATOM    843  CE  LYS A 110      -3.265 -10.067 -12.832  1.00  0.00           C  \\nATOM    844  NZ  LYS A 110      -3.855 -10.117 -14.252  1.00  0.00           N  \\nATOM    845  C   LYS A 110      -0.835  -4.227 -12.132  1.00  0.00           C  \\nATOM    846  O   LYS A 110      -1.575  -3.337 -11.742  1.00  0.00           O  \\nATOM    847  N   VAL A 111       0.435  -4.307 -11.812  1.00  0.00           N  \\nATOM    848  CA  VAL A 111       1.135  -3.457 -10.862  1.00  0.00           C  \\nATOM    849  CB  VAL A 111       1.675  -4.177  -9.582  1.00  0.00           C  \\nATOM    850  CG1 VAL A 111       2.575  -3.297  -8.742  1.00  0.00           C  \\nATOM    851  CG2 VAL A 111       0.465  -4.727  -8.792  1.00  0.00           C  \\nATOM    852  C   VAL A 111       2.285  -2.757 -11.562  1.00  0.00           C  \\nATOM    853  O   VAL A 111       3.135  -3.417 -12.152  1.00  0.00           O  \\nATOM    854  N   THR A 112       2.225  -1.437 -11.712  1.00  0.00           N  \\nATOM    855  CA  THR A 112       3.225  -0.517 -12.292  1.00  0.00           C  \\nATOM    856  CB  THR A 112       2.435   0.433 -13.242  1.00  0.00           C  \\nATOM    857  CG2 THR A 112       3.395   1.133 -14.302  1.00  0.00           C  \\nATOM    858  OG1 THR A 112       1.585  -0.497 -13.942  1.00  0.00           O  \\nATOM    859  C   THR A 112       4.005   0.323 -11.312  1.00  0.00           C  \\nATOM    860  O   THR A 112       3.475   1.333 -10.822  1.00  0.00           O  \\nATOM    861  N   LEU A 113       5.285  -0.057 -10.892  1.00  0.00           N  \\nATOM    862  CA  LEU A 113       6.225   0.703 -10.062  1.00  0.00           C  \\nATOM    863  CB  LEU A 113       7.295  -0.397  -9.742  1.00  0.00           C  \\nATOM    864  CG  LEU A 113       8.395   0.033  -8.772  1.00  0.00           C  \\nATOM    865  CD1 LEU A 113       7.955   0.333  -7.322  1.00  0.00           C  \\nATOM    866  CD2 LEU A 113       9.355  -1.167  -8.562  1.00  0.00           C  \\nATOM    867  C   LEU A 113       6.625   1.943 -10.832  1.00  0.00           C  \\nATOM    868  O   LEU A 113       6.985   1.983 -12.002  1.00  0.00           O  \\nATOM    869  N   VAL A 114       6.655   3.033 -10.062  1.00  0.00           N  \\nATOM    870  CA  VAL A 114       7.415   4.183 -10.402  1.00  0.00           C  \\nATOM    871  CB  VAL A 114       6.535   5.333 -11.052  1.00  0.00           C  \\nATOM    872  CG1 VAL A 114       5.205   5.683 -10.352  1.00  0.00           C  \\nATOM    873  CG2 VAL A 114       7.335   6.583 -11.302  1.00  0.00           C  \\nATOM    874  C   VAL A 114       8.285   4.633  -9.172  1.00  0.00           C  \\nATOM    875  O   VAL A 114       7.855   4.813  -8.022  1.00  0.00           O  \\nATOM    876  N   VAL A 115       9.565   4.893  -9.472  1.00  0.00           N  \\nATOM    877  CA  VAL A 115      10.445   5.643  -8.562  1.00  0.00           C  \\nATOM    878  CB  VAL A 115      11.965   5.433  -8.862  1.00  0.00           C  \\nATOM    879  CG1 VAL A 115      12.915   6.353  -8.052  1.00  0.00           C  \\nATOM    880  CG2 VAL A 115      12.545   3.993  -8.782  1.00  0.00           C  \\nATOM    881  C   VAL A 115      10.045   7.093  -8.612  1.00  0.00           C  \\nATOM    882  O   VAL A 115      10.035   7.663  -9.712  1.00  0.00           O  \\nATOM    883  N   GLY A 116       9.945   7.643  -7.432  1.00  0.00           N  \\nATOM    884  CA  GLY A 116       9.985   9.033  -7.112  1.00  0.00           C  \\nATOM    885  C   GLY A 116       9.155   9.433  -5.862  1.00  0.00           C  \\nATOM    886  O   GLY A 116       8.345   8.613  -5.372  1.00  0.00           O  \\nATOM    887  N   ALA A 117       9.475  10.603  -5.312  1.00  0.00           N  \\nATOM    888  CA  ALA A 117       8.565  11.123  -4.242  1.00  0.00           C  \\nATOM    889  CB  ALA A 117       9.295  12.383  -3.602  1.00  0.00           C  \\nATOM    890  C   ALA A 117       7.105  11.303  -4.592  1.00  0.00           C  \\nATOM    891  O   ALA A 117       6.785  11.833  -5.662  1.00  0.00           O  \\nATOM    892  N   SER A 118       6.245  10.993  -3.582  1.00  0.00           N  \\nATOM    893  CA  SER A 118       4.795  11.133  -3.882  1.00  0.00           C  \\nATOM    894  CB  SER A 118       3.975  10.873  -2.572  1.00  0.00           C  \\nATOM    895  OG  SER A 118       4.465  11.663  -1.412  1.00  0.00           O  \\nATOM    896  C   SER A 118       4.385  12.583  -4.372  1.00  0.00           C  \\nATOM    897  O   SER A 118       3.575  12.783  -5.242  1.00  0.00           O  \\nATOM    898  N   GLN A 119       5.135  13.553  -3.832  1.00  0.00           N  \\nATOM    899  CA  GLN A 119       5.045  14.963  -4.032  1.00  0.00           C  \\nATOM    900  CB  GLN A 119       6.065  15.613  -3.072  1.00  0.00           C  \\nATOM    901  CG  GLN A 119       5.925  17.133  -2.962  1.00  0.00           C  \\nATOM    902  CD  GLN A 119       6.695  17.713  -1.822  1.00  0.00           C  \\nATOM    903  OE1 GLN A 119       7.545  17.093  -1.222  1.00  0.00           O  \\nATOM    904  NE2 GLN A 119       6.495  18.903  -1.392  1.00  0.00           N  \\nATOM    905  C   GLN A 119       5.365  15.293  -5.462  1.00  0.00           C  \\nATOM    906  O   GLN A 119       4.815  16.283  -5.922  1.00  0.00           O  \\nATOM    907  N   ASP A 120       6.355  14.603  -6.112  1.00  0.00           N  \\nATOM    908  CA  ASP A 120       6.595  14.693  -7.572  1.00  0.00           C  \\nATOM    909  CB  ASP A 120       8.065  14.243  -7.852  1.00  0.00           C  \\nATOM    910  CG  ASP A 120       8.445  14.333  -9.262  1.00  0.00           C  \\nATOM    911  OD1 ASP A 120       9.445  13.743  -9.542  1.00  0.00           O  \\nATOM    912  OD2 ASP A 120       8.065  15.203 -10.002  1.00  0.00           O  \\nATOM    913  C   ASP A 120       5.655  13.913  -8.422  1.00  0.00           C  \\nATOM    914  O   ASP A 120       5.215  14.423  -9.422  1.00  0.00           O  \\nATOM    915  N   ILE A 121       5.425  12.653  -8.062  1.00  0.00           N  \\nATOM    916  CA  ILE A 121       4.725  11.653  -8.952  1.00  0.00           C  \\nATOM    917  CB  ILE A 121       5.155  10.233  -8.422  1.00  0.00           C  \\nATOM    918  CG2 ILE A 121       4.455   9.123  -9.172  1.00  0.00           C  \\nATOM    919  CG1 ILE A 121       6.705   9.963  -8.322  1.00  0.00           C  \\nATOM    920  CD1 ILE A 121       7.445  10.193  -9.642  1.00  0.00           C  \\nATOM    921  C   ILE A 121       3.225  11.813  -8.982  1.00  0.00           C  \\nATOM    922  O   ILE A 121       2.655  11.563 -10.052  1.00  0.00           O  \\nATOM    923  N   ILE A 122       2.545  12.323  -7.992  1.00  0.00           N  \\nATOM    924  CA  ILE A 122       1.125  12.523  -8.142  1.00  0.00           C  \\nATOM    925  CB  ILE A 122       0.405  12.853  -6.802  1.00  0.00           C  \\nATOM    926  CG2 ILE A 122      -1.155  12.983  -7.042  1.00  0.00           C  \\nATOM    927  CG1 ILE A 122       0.525  11.623  -5.772  1.00  0.00           C  \\nATOM    928  CD1 ILE A 122      -0.045  11.953  -4.382  1.00  0.00           C  \\nATOM    929  C   ILE A 122       0.815  13.503  -9.242  1.00  0.00           C  \\nATOM    930  O   ILE A 122      -0.095  13.253 -10.052  1.00  0.00           O  \\nATOM    931  N   PRO A 123       1.545  14.613  -9.422  1.00  0.00           N  \\nATOM    932  CD  PRO A 123       2.145  15.393  -8.362  1.00  0.00           C  \\nATOM    933  CG  PRO A 123       2.535  16.793  -8.892  1.00  0.00           C  \\nATOM    934  CB  PRO A 123       2.585  16.523 -10.432  1.00  0.00           C  \\nATOM    935  CA  PRO A 123       1.485  15.413 -10.652  1.00  0.00           C  \\nATOM    936  C   PRO A 123       1.755  14.653 -11.952  1.00  0.00           C  \\nATOM    937  O   PRO A 123       1.145  14.973 -12.942  1.00  0.00           O  \\nATOM    938  N   GLN A 124       2.505  13.523 -11.982  1.00  0.00           N  \\nATOM    939  CA  GLN A 124       2.775  12.753 -13.242  1.00  0.00           C  \\nATOM    940  CB  GLN A 124       4.265  12.143 -13.212  1.00  0.00           C  \\nATOM    941  CG  GLN A 124       5.315  13.253 -13.132  1.00  0.00           C  \\nATOM    942  CD  GLN A 124       5.655  14.053 -14.332  1.00  0.00           C  \\nATOM    943  OE1 GLN A 124       4.955  14.203 -15.362  1.00  0.00           O  \\nATOM    944  NE2 GLN A 124       6.555  15.053 -14.162  1.00  0.00           N  \\nATOM    945  C   GLN A 124       1.765  11.733 -13.652  1.00  0.00           C  \\nATOM    946  O   GLN A 124       1.615  11.463 -14.852  1.00  0.00           O  \\nATOM    947  N   LEU A 125       0.945  11.263 -12.682  1.00  0.00           N  \\nATOM    948  CA  LEU A 125       0.045  10.043 -13.042  1.00  0.00           C  \\nATOM    949  CB  LEU A 125      -0.905   9.833 -11.872  1.00  0.00           C  \\nATOM    950  CG  LEU A 125      -0.255   9.403 -10.522  1.00  0.00           C  \\nATOM    951  CD1 LEU A 125      -1.285   9.283  -9.422  1.00  0.00           C  \\nATOM    952  CD2 LEU A 125       0.575   8.133 -10.692  1.00  0.00           C  \\nATOM    953  C   LEU A 125      -0.905  10.253 -14.262  1.00  0.00           C  \\nATOM    954  O   LEU A 125      -0.995   9.343 -15.112  1.00  0.00           O  \\nATOM    955  N   LYS A 126      -1.575  11.433 -14.382  1.00  0.00           N  \\nATOM    956  CA  LYS A 126      -2.385  11.703 -15.542  1.00  0.00           C  \\nATOM    957  CB  LYS A 126      -3.245  13.043 -15.322  1.00  0.00           C  \\nATOM    958  CG  LYS A 126      -4.245  12.993 -14.072  1.00  0.00           C  \\nATOM    959  CD  LYS A 126      -4.585  14.403 -13.542  1.00  0.00           C  \\nATOM    960  CE  LYS A 126      -6.035  14.593 -13.702  1.00  0.00           C  \\nATOM    961  NZ  LYS A 126      -6.425  15.953 -13.162  1.00  0.00           N  \\nATOM    962  C   LYS A 126      -1.605  11.983 -16.872  1.00  0.00           C  \\nATOM    963  O   LYS A 126      -2.215  11.953 -17.962  1.00  0.00           O  \\nATOM    964  N   LYS A 127      -0.305  12.173 -16.712  1.00  0.00           N  \\nATOM    965  CA  LYS A 127       0.615  12.543 -17.872  1.00  0.00           C  \\nATOM    966  CB  LYS A 127       1.715  13.533 -17.502  1.00  0.00           C  \\nATOM    967  CG  LYS A 127       1.065  14.673 -16.622  1.00  0.00           C  \\nATOM    968  CD  LYS A 127       2.105  15.803 -16.642  1.00  0.00           C  \\nATOM    969  CE  LYS A 127       1.575  17.103 -15.942  1.00  0.00           C  \\nATOM    970  NZ  LYS A 127       1.495  17.183 -14.422  1.00  0.00           N  \\nATOM    971  C   LYS A 127       1.395  11.383 -18.412  1.00  0.00           C  \\nATOM    972  O   LYS A 127       1.905  11.413 -19.532  1.00  0.00           O  \\nATOM    973  N   LYS A 128       1.595  10.323 -17.632  1.00  0.00           N  \\nATOM    974  CA  LYS A 128       2.465   9.193 -17.872  1.00  0.00           C  \\nATOM    975  CB  LYS A 128       3.735   9.293 -16.972  1.00  0.00           C  \\nATOM    976  CG  LYS A 128       4.695  10.493 -17.422  1.00  0.00           C  \\nATOM    977  CD  LYS A 128       6.035  10.403 -16.692  1.00  0.00           C  \\nATOM    978  CE  LYS A 128       6.985  11.443 -17.292  1.00  0.00           C  \\nATOM    979  NZ  LYS A 128       8.315  11.373 -16.692  1.00  0.00           N  \\nATOM    980  C   LYS A 128       1.825   7.823 -17.682  1.00  0.00           C  \\nATOM    981  O   LYS A 128       2.165   6.893 -18.422  1.00  0.00           O  \\nATOM    982  N   TYR A 129       0.895   7.623 -16.812  1.00  0.00           N  \\nATOM    983  CA  TYR A 129       0.425   6.273 -16.462  1.00  0.00           C  \\nATOM    984  CB  TYR A 129       1.055   5.963 -15.082  1.00  0.00           C  \\nATOM    985  CG  TYR A 129       2.535   6.123 -15.042  1.00  0.00           C  \\nATOM    986  CD1 TYR A 129       3.275   5.303 -15.872  1.00  0.00           C  \\nATOM    987  CE1 TYR A 129       4.635   5.333 -15.822  1.00  0.00           C  \\nATOM    988  CZ  TYR A 129       5.255   6.213 -14.882  1.00  0.00           C  \\nATOM    989  OH  TYR A 129       6.625   6.403 -14.992  1.00  0.00           O  \\nATOM    990  CE2 TYR A 129       4.505   7.143 -14.122  1.00  0.00           C  \\nATOM    991  CD2 TYR A 129       3.145   7.013 -14.142  1.00  0.00           C  \\nATOM    992  C   TYR A 129      -1.155   6.143 -16.652  1.00  0.00           C  \\nATOM    993  O   TYR A 129      -1.805   5.363 -15.942  1.00  0.00           O  \\nATOM    994  N   ASP A 130      -1.725   6.813 -17.672  1.00  0.00           N  \\nATOM    995  CA  ASP A 130      -3.085   6.593 -18.182  1.00  0.00           C  \\nATOM    996  CB  ASP A 130      -3.185   5.323 -19.132  1.00  0.00           C  \\nATOM    997  CG  ASP A 130      -4.325   5.523 -20.122  1.00  0.00           C  \\nATOM    998  OD1 ASP A 130      -4.975   6.573 -20.152  1.00  0.00           O  \\nATOM    999  OD2 ASP A 130      -4.485   4.593 -20.902  1.00  0.00           O  \\nATOM   1000  C   ASP A 130      -4.135   6.743 -17.062  1.00  0.00           C  \\nATOM   1001  O   ASP A 130      -5.035   5.873 -16.912  1.00  0.00           O  \\nATOM   1002  N   VAL A 131      -4.025   7.773 -16.242  1.00  0.00           N  \\nATOM   1003  CA  VAL A 131      -4.855   8.093 -15.102  1.00  0.00           C  \\nATOM   1004  CB  VAL A 131      -4.125   8.363 -13.822  1.00  0.00           C  \\nATOM   1005  CG1 VAL A 131      -4.995   8.573 -12.592  1.00  0.00           C  \\nATOM   1006  CG2 VAL A 131      -3.155   7.103 -13.422  1.00  0.00           C  \\nATOM   1007  C   VAL A 131      -5.865   9.233 -15.362  1.00  0.00           C  \\nATOM   1008  O   VAL A 131      -5.455  10.323 -15.762  1.00  0.00           O  \\nATOM   1009  N   ASP A 132      -7.125   9.093 -14.942  1.00  0.00           N  \\nATOM   1010  CA  ASP A 132      -8.115  10.103 -14.832  1.00  0.00           C  \\nATOM   1011  CB  ASP A 132      -9.205   9.973 -15.972  1.00  0.00           C  \\nATOM   1012  CG  ASP A 132     -10.355  10.883 -15.672  1.00  0.00           C  \\nATOM   1013  OD1 ASP A 132     -10.225  12.103 -15.712  1.00  0.00           O  \\nATOM   1014  OD2 ASP A 132     -11.365  10.293 -15.282  1.00  0.00           O  \\nATOM   1015  C   ASP A 132      -8.635  10.283 -13.452  1.00  0.00           C  \\nATOM   1016  O   ASP A 132      -8.445  11.363 -12.922  1.00  0.00           O  \\nATOM   1017  N   THR A 133      -9.265   9.253 -12.842  1.00  0.00           N  \\nATOM   1018  CA  THR A 133      -9.765   9.343 -11.532  1.00  0.00           C  \\nATOM   1019  CB  THR A 133     -11.215   9.763 -11.512  1.00  0.00           C  \\nATOM   1020  CG2 THR A 133     -11.335  11.233 -11.662  1.00  0.00           C  \\nATOM   1021  OG1 THR A 133     -12.185   9.253 -12.472  1.00  0.00           O  \\nATOM   1022  C   THR A 133      -9.575   7.993 -10.782  1.00  0.00           C  \\nATOM   1023  O   THR A 133      -9.995   6.923 -11.242  1.00  0.00           O  \\nATOM   1024  N   LEU A 134      -8.985   8.053  -9.592  1.00  0.00           N  \\nATOM   1025  CA  LEU A 134      -8.575   6.923  -8.752  1.00  0.00           C  \\nATOM   1026  CB  LEU A 134      -7.445   7.293  -7.732  1.00  0.00           C  \\nATOM   1027  CG  LEU A 134      -6.025   7.533  -8.382  1.00  0.00           C  \\nATOM   1028  CD1 LEU A 134      -5.025   8.133  -7.382  1.00  0.00           C  \\nATOM   1029  CD2 LEU A 134      -5.445   6.293  -8.922  1.00  0.00           C  \\nATOM   1030  C   LEU A 134      -9.785   6.423  -7.982  1.00  0.00           C  \\nATOM   1031  O   LEU A 134     -10.435   7.203  -7.232  1.00  0.00           O  \\nATOM   1032  N   ASP A 135     -10.125   5.113  -8.082  1.00  0.00           N  \\nATOM   1033  CA  ASP A 135     -11.175   4.423  -7.302  1.00  0.00           C  \\nATOM   1034  CB  ASP A 135     -11.535   3.183  -8.062  1.00  0.00           C  \\nATOM   1035  CG  ASP A 135     -11.875   3.403  -9.572  1.00  0.00           C  \\nATOM   1036  OD1 ASP A 135     -11.075   3.013 -10.402  1.00  0.00           O  \\nATOM   1037  OD2 ASP A 135     -12.935   3.943  -9.822  1.00  0.00           O  \\nATOM   1038  C   ASP A 135     -10.645   4.033  -5.902  1.00  0.00           C  \\nATOM   1039  O   ASP A 135     -11.515   3.803  -5.072  1.00  0.00           O  \\nATOM   1040  N   MET A 136      -9.315   3.823  -5.762  1.00  0.00           N  \\nATOM   1041  CA  MET A 136      -8.755   3.363  -4.462  1.00  0.00           C  \\nATOM   1042  CB  MET A 136      -8.695   1.843  -4.382  1.00  0.00           C  \\nATOM   1043  CG  MET A 136      -9.135   1.333  -2.962  1.00  0.00           C  \\nATOM   1044  SD  MET A 136      -8.035   1.613  -1.582  1.00  0.00           S  \\nATOM   1045  CE  MET A 136      -6.605   0.653  -2.212  1.00  0.00           C  \\nATOM   1046  C   MET A 136      -7.385   3.883  -4.212  1.00  0.00           C  \\nATOM   1047  O   MET A 136      -6.705   4.173  -5.162  1.00  0.00           O  \\nATOM   1048  N   VAL A 137      -6.995   4.143  -2.992  1.00  0.00           N  \\nATOM   1049  CA  VAL A 137      -5.665   4.703  -2.492  1.00  0.00           C  \\nATOM   1050  CB  VAL A 137      -5.705   6.243  -2.332  1.00  0.00           C  \\nATOM   1051  CG1 VAL A 137      -4.355   6.813  -2.102  1.00  0.00           C  \\nATOM   1052  CG2 VAL A 137      -6.445   7.023  -3.492  1.00  0.00           C  \\nATOM   1053  C   VAL A 137      -5.315   4.053  -1.102  1.00  0.00           C  \\nATOM   1054  O   VAL A 137      -6.085   4.163  -0.112  1.00  0.00           O  \\nATOM   1055  N   PHE A 138      -4.175   3.303  -1.132  1.00  0.00           N  \\nATOM   1056  CA  PHE A 138      -3.505   2.943   0.148  1.00  0.00           C  \\nATOM   1057  CB  PHE A 138      -3.025   1.513  -0.012  1.00  0.00           C  \\nATOM   1058  CG  PHE A 138      -2.545   0.933   1.338  1.00  0.00           C  \\nATOM   1059  CD1 PHE A 138      -1.195   0.643   1.468  1.00  0.00           C  \\nATOM   1060  CE1 PHE A 138      -0.695   0.023   2.578  1.00  0.00           C  \\nATOM   1061  CZ  PHE A 138      -1.515  -0.217   3.728  1.00  0.00           C  \\nATOM   1062  CE2 PHE A 138      -2.885   0.083   3.558  1.00  0.00           C  \\nATOM   1063  CD2 PHE A 138      -3.415   0.613   2.378  1.00  0.00           C  \\nATOM   1064  C   PHE A 138      -2.405   3.933   0.558  1.00  0.00           C  \\nATOM   1065  O   PHE A 138      -1.865   4.523  -0.382  1.00  0.00           O  \\nATOM   1066  N   LEU A 139      -2.055   4.143   1.828  1.00  0.00           N  \\nATOM   1067  CA  LEU A 139      -1.055   5.033   2.338  1.00  0.00           C  \\nATOM   1068  CB  LEU A 139      -1.745   6.233   2.978  1.00  0.00           C  \\nATOM   1069  CG  LEU A 139      -2.425   7.233   2.048  1.00  0.00           C  \\nATOM   1070  CD1 LEU A 139      -3.945   6.993   2.008  1.00  0.00           C  \\nATOM   1071  CD2 LEU A 139      -2.185   8.663   2.568  1.00  0.00           C  \\nATOM   1072  C   LEU A 139      -0.325   4.293   3.428  1.00  0.00           C  \\nATOM   1073  O   LEU A 139      -0.945   3.793   4.378  1.00  0.00           O  \\nATOM   1074  N   ASP A 140       0.955   4.113   3.298  1.00  0.00           N  \\nATOM   1075  CA  ASP A 140       1.795   3.413   4.308  1.00  0.00           C  \\nATOM   1076  CB  ASP A 140       1.845   1.923   3.958  1.00  0.00           C  \\nATOM   1077  CG  ASP A 140       2.655   1.063   4.978  1.00  0.00           C  \\nATOM   1078  OD1 ASP A 140       2.575   1.303   6.138  1.00  0.00           O  \\nATOM   1079  OD2 ASP A 140       3.155   0.053   4.558  1.00  0.00           O  \\nATOM   1080  C   ASP A 140       3.155   3.983   4.368  1.00  0.00           C  \\nATOM   1081  O   ASP A 140       4.035   3.423   4.988  1.00  0.00           O  \\nATOM   1082  N   HIE A 141       3.335   5.173   3.738  1.00  0.00           N  \\nATOM   1083  CA  HIE A 141       4.565   5.973   3.708  1.00  0.00           C  \\nATOM   1084  CB  HIE A 141       4.665   6.703   2.348  1.00  0.00           C  \\nATOM   1085  CG  HIE A 141       3.645   7.843   2.108  1.00  0.00           C  \\nATOM   1086  ND1 HIE A 141       2.235   7.833   2.158  1.00  0.00           N  \\nATOM   1087  CE1 HIE A 141       1.845   9.063   1.918  1.00  0.00           C  \\nATOM   1088  NE2 HIE A 141       2.945   9.803   1.668  1.00  0.00           N  \\nATOM   1089  CD2 HIE A 141       4.125   9.053   1.888  1.00  0.00           C  \\nATOM   1090  C   HIE A 141       4.845   6.933   4.908  1.00  0.00           C  \\nATOM   1091  O   HIE A 141       4.235   6.753   5.968  1.00  0.00           O  \\nATOM   1092  N   TRP A 142       5.785   7.823   4.728  1.00  0.00           N  \\nATOM   1093  CA  TRP A 142       6.395   8.843   5.738  1.00  0.00           C  \\nATOM   1094  CB  TRP A 142       7.505   9.703   5.068  1.00  0.00           C  \\nATOM   1095  CG  TRP A 142       8.135  10.543   6.148  1.00  0.00           C  \\nATOM   1096  CD1 TRP A 142       7.915  11.843   6.448  1.00  0.00           C  \\nATOM   1097  NE1 TRP A 142       8.595  12.243   7.608  1.00  0.00           N  \\nATOM   1098  CE2 TRP A 142       9.205  11.173   8.158  1.00  0.00           C  \\nATOM   1099  CZ2 TRP A 142       9.865  10.923   9.348  1.00  0.00           C  \\nATOM   1100  CH2 TRP A 142      10.325   9.653   9.658  1.00  0.00           C  \\nATOM   1101  CZ3 TRP A 142      10.185   8.613   8.758  1.00  0.00           C  \\nATOM   1102  CE3 TRP A 142       9.405   8.763   7.618  1.00  0.00           C  \\nATOM   1103  CD2 TRP A 142       8.995  10.063   7.218  1.00  0.00           C  \\nATOM   1104  C   TRP A 142       5.355   9.803   6.298  1.00  0.00           C  \\nATOM   1105  O   TRP A 142       4.695  10.523   5.548  1.00  0.00           O  \\nATOM   1106  N   LYS A 143       4.985   9.743   7.578  1.00  0.00           N  \\nATOM   1107  CA  LYS A 143       3.735  10.233   8.198  1.00  0.00           C  \\nATOM   1108  CB  LYS A 143       3.745   9.813   9.718  1.00  0.00           C  \\nATOM   1109  CG  LYS A 143       3.435   8.333   9.948  1.00  0.00           C  \\nATOM   1110  CD  LYS A 143       2.065   7.853   9.508  1.00  0.00           C  \\nATOM   1111  CE  LYS A 143       1.885   6.403   9.268  1.00  0.00           C  \\nATOM   1112  NZ  LYS A 143       2.605   5.953   8.028  1.00  0.00           N  \\nATOM   1113  C   LYS A 143       3.485  11.753   8.058  1.00  0.00           C  \\nATOM   1114  O   LYS A 143       2.305  12.083   7.848  1.00  0.00           O  \\nATOM   1115  N   ASP A 144       4.585  12.563   7.988  1.00  0.00           N  \\nATOM   1116  CA  ASP A 144       4.535  13.963   7.678  1.00  0.00           C  \\nATOM   1117  CB  ASP A 144       5.905  14.613   7.638  1.00  0.00           C  \\nATOM   1118  CG  ASP A 144       5.765  16.163   7.548  1.00  0.00           C  \\nATOM   1119  OD1 ASP A 144       6.135  16.623   6.508  1.00  0.00           O  \\nATOM   1120  OD2 ASP A 144       5.355  16.803   8.488  1.00  0.00           O  \\nATOM   1121  C   ASP A 144       3.735  14.253   6.348  1.00  0.00           C  \\nATOM   1122  O   ASP A 144       2.985  15.123   6.408  1.00  0.00           O  \\nATOM   1123  N   ARG A 145       3.805  13.313   5.368  1.00  0.00           N  \\nATOM   1124  CA  ARG A 145       3.235  13.403   4.018  1.00  0.00           C  \\nATOM   1125  CB  ARG A 145       3.985  12.603   2.968  1.00  0.00           C  \\nATOM   1126  CG  ARG A 145       5.435  13.063   2.668  1.00  0.00           C  \\nATOM   1127  CD  ARG A 145       5.525  14.533   2.118  1.00  0.00           C  \\nATOM   1128  NE  ARG A 145       4.645  14.773   0.868  1.00  0.00           N  \\nATOM   1129  CZ  ARG A 145       4.275  15.903   0.288  1.00  0.00           C  \\nATOM   1130  NH1 ARG A 145       4.595  17.073   0.818  1.00  0.00           N  \\nATOM   1131  NH2 ARG A 145       3.605  15.863  -0.792  1.00  0.00           N  \\nATOM   1132  C   ARG A 145       1.815  13.073   3.928  1.00  0.00           C  \\nATOM   1133  O   ARG A 145       1.165  13.443   2.948  1.00  0.00           O  \\nATOM   1134  N   TYR A 146       1.205  12.363   4.888  1.00  0.00           N  \\nATOM   1135  CA  TYR A 146      -0.115  11.773   4.528  1.00  0.00           C  \\nATOM   1136  CB  TYR A 146      -0.645  10.943   5.698  1.00  0.00           C  \\nATOM   1137  CG  TYR A 146      -0.345   9.473   5.948  1.00  0.00           C  \\nATOM   1138  CD1 TYR A 146       0.835   8.933   5.438  1.00  0.00           C  \\nATOM   1139  CE1 TYR A 146       1.045   7.523   5.598  1.00  0.00           C  \\nATOM   1140  CZ  TYR A 146       0.045   6.733   6.228  1.00  0.00           C  \\nATOM   1141  OH  TYR A 146       0.175   5.413   6.408  1.00  0.00           O  \\nATOM   1142  CE2 TYR A 146      -1.125   7.313   6.728  1.00  0.00           C  \\nATOM   1143  CD2 TYR A 146      -1.245   8.693   6.668  1.00  0.00           C  \\nATOM   1144  C   TYR A 146      -1.215  12.813   4.198  1.00  0.00           C  \\nATOM   1145  O   TYR A 146      -1.925  12.683   3.138  1.00  0.00           O  \\nATOM   1146  N   LEU A 147      -1.295  13.923   4.938  1.00  0.00           N  \\nATOM   1147  CA  LEU A 147      -2.125  15.103   4.738  1.00  0.00           C  \\nATOM   1148  CB  LEU A 147      -2.105  15.903   6.038  1.00  0.00           C  \\nATOM   1149  CG  LEU A 147      -2.955  17.223   5.868  1.00  0.00           C  \\nATOM   1150  CD1 LEU A 147      -4.425  17.003   5.478  1.00  0.00           C  \\nATOM   1151  CD2 LEU A 147      -2.835  18.073   7.118  1.00  0.00           C  \\nATOM   1152  C   LEU A 147      -1.785  15.943   3.468  1.00  0.00           C  \\nATOM   1153  O   LEU A 147      -2.705  16.113   2.718  1.00  0.00           O  \\nATOM   1154  N   PRO A 148      -0.585  16.423   3.298  1.00  0.00           N  \\nATOM   1155  CD  PRO A 148       0.365  16.863   4.308  1.00  0.00           C  \\nATOM   1156  CG  PRO A 148       1.615  17.403   3.558  1.00  0.00           C  \\nATOM   1157  CB  PRO A 148       1.395  16.993   2.128  1.00  0.00           C  \\nATOM   1158  CA  PRO A 148      -0.175  16.983   2.048  1.00  0.00           C  \\nATOM   1159  C   PRO A 148      -0.505  16.133   0.828  1.00  0.00           C  \\nATOM   1160  O   PRO A 148      -0.895  16.633  -0.242  1.00  0.00           O  \\nATOM   1161  N   ASP A 149      -0.415  14.753   0.838  1.00  0.00           N  \\nATOM   1162  CA  ASP A 149      -0.755  13.893  -0.312  1.00  0.00           C  \\nATOM   1163  CB  ASP A 149      -0.015  12.533  -0.222  1.00  0.00           C  \\nATOM   1164  CG  ASP A 149       1.505  12.643  -0.272  1.00  0.00           C  \\nATOM   1165  OD1 ASP A 149       2.105  13.633  -0.562  1.00  0.00           O  \\nATOM   1166  OD2 ASP A 149       2.135  11.603  -0.052  1.00  0.00           O  \\nATOM   1167  C   ASP A 149      -2.345  13.713  -0.532  1.00  0.00           C  \\nATOM   1168  O   ASP A 149      -2.815  13.893  -1.652  1.00  0.00           O  \\nATOM   1169  N   THR A 150      -3.065  13.553   0.618  1.00  0.00           N  \\nATOM   1170  CA  THR A 150      -4.565  13.743   0.668  1.00  0.00           C  \\nATOM   1171  CB  THR A 150      -5.035  13.833   2.108  1.00  0.00           C  \\nATOM   1172  CG2 THR A 150      -6.545  13.943   2.148  1.00  0.00           C  \\nATOM   1173  OG1 THR A 150      -4.665  12.703   2.888  1.00  0.00           O  \\nATOM   1174  C   THR A 150      -4.895  15.003  -0.082  1.00  0.00           C  \\nATOM   1175  O   THR A 150      -5.725  14.983  -0.962  1.00  0.00           O  \\nATOM   1176  N   LEU A 151      -4.205  16.133   0.198  1.00  0.00           N  \\nATOM   1177  CA  LEU A 151      -4.545  17.483  -0.422  1.00  0.00           C  \\nATOM   1178  CB  LEU A 151      -4.085  18.653   0.498  1.00  0.00           C  \\nATOM   1179  CG  LEU A 151      -4.665  18.763   1.918  1.00  0.00           C  \\nATOM   1180  CD1 LEU A 151      -3.745  19.523   2.868  1.00  0.00           C  \\nATOM   1181  CD2 LEU A 151      -5.995  19.553   1.848  1.00  0.00           C  \\nATOM   1182  C   LEU A 151      -3.975  17.613  -1.862  1.00  0.00           C  \\nATOM   1183  O   LEU A 151      -4.695  18.223  -2.642  1.00  0.00           O  \\nATOM   1184  N   LEU A 152      -2.835  17.003  -2.252  1.00  0.00           N  \\nATOM   1185  CA  LEU A 152      -2.325  16.973  -3.582  1.00  0.00           C  \\nATOM   1186  CB  LEU A 152      -0.955  16.343  -3.472  1.00  0.00           C  \\nATOM   1187  CG  LEU A 152       0.065  16.363  -4.722  1.00  0.00           C  \\nATOM   1188  CD1 LEU A 152       0.275  17.763  -5.312  1.00  0.00           C  \\nATOM   1189  CD2 LEU A 152       1.435  15.753  -4.422  1.00  0.00           C  \\nATOM   1190  C   LEU A 152      -3.075  16.143  -4.582  1.00  0.00           C  \\nATOM   1191  O   LEU A 152      -3.255  16.443  -5.762  1.00  0.00           O  \\nATOM   1192  N   LEU A 153      -3.625  15.073  -4.062  1.00  0.00           N  \\nATOM   1193  CA  LEU A 153      -4.575  14.163  -4.712  1.00  0.00           C  \\nATOM   1194  CB  LEU A 153      -4.935  12.893  -3.842  1.00  0.00           C  \\nATOM   1195  CG  LEU A 153      -3.755  11.893  -3.682  1.00  0.00           C  \\nATOM   1196  CD1 LEU A 153      -3.975  10.843  -2.592  1.00  0.00           C  \\nATOM   1197  CD2 LEU A 153      -3.615  11.143  -5.052  1.00  0.00           C  \\nATOM   1198  C   LEU A 153      -5.855  14.913  -5.042  1.00  0.00           C  \\nATOM   1199  O   LEU A 153      -6.425  14.663  -6.142  1.00  0.00           O  \\nATOM   1200  N   GLU A 154      -6.295  15.783  -4.182  1.00  0.00           N  \\nATOM   1201  CA  GLU A 154      -7.495  16.583  -4.462  1.00  0.00           C  \\nATOM   1202  CB  GLU A 154      -8.195  16.893  -3.082  1.00  0.00           C  \\nATOM   1203  CG  GLU A 154      -9.505  17.603  -3.152  1.00  0.00           C  \\nATOM   1204  CD  GLU A 154      -9.945  17.983  -1.762  1.00  0.00           C  \\nATOM   1205  OE1 GLU A 154      -9.245  18.513  -0.982  1.00  0.00           O  \\nATOM   1206  OE2 GLU A 154     -11.115  17.783  -1.392  1.00  0.00           O  \\nATOM   1207  C   GLU A 154      -7.195  17.873  -5.272  1.00  0.00           C  \\nATOM   1208  O   GLU A 154      -7.985  18.323  -6.082  1.00  0.00           O  \\nATOM   1209  N   GLU A 155      -6.065  18.493  -5.192  1.00  0.00           N  \\nATOM   1210  CA  GLU A 155      -5.525  19.613  -6.082  1.00  0.00           C  \\nATOM   1211  CB  GLU A 155      -4.275  20.083  -5.372  1.00  0.00           C  \\nATOM   1212  CG  GLU A 155      -3.765  21.313  -6.122  1.00  0.00           C  \\nATOM   1213  CD  GLU A 155      -2.785  22.013  -5.292  1.00  0.00           C  \\nATOM   1214  OE1 GLU A 155      -1.575  21.863  -5.482  1.00  0.00           O  \\nATOM   1215  OE2 GLU A 155      -3.155  22.733  -4.402  1.00  0.00           O  \\nATOM   1216  C   GLU A 155      -5.265  19.163  -7.502  1.00  0.00           C  \\nATOM   1217  O   GLU A 155      -5.615  19.843  -8.482  1.00  0.00           O  \\nATOM   1218  N   CYS A 156      -4.635  18.033  -7.762  1.00  0.00           N  \\nATOM   1219  CA  CYS A 156      -4.685  17.243  -9.042  1.00  0.00           C  \\nATOM   1220  CB  CYS A 156      -3.415  16.293  -9.092  1.00  0.00           C  \\nATOM   1221  SG  CYS A 156      -1.845  17.093  -8.732  1.00  0.00           S  \\nATOM   1222  C   CYS A 156      -6.035  16.533  -9.442  1.00  0.00           C  \\nATOM   1223  O   CYS A 156      -6.115  15.773 -10.462  1.00  0.00           O  \\nATOM   1224  N   GLY A 157      -7.045  16.643  -8.622  1.00  0.00           N  \\nATOM   1225  CA  GLY A 157      -8.405  16.193  -8.972  1.00  0.00           C  \\nATOM   1226  C   GLY A 157      -8.615  14.723  -9.242  1.00  0.00           C  \\nATOM   1227  O   GLY A 157      -9.605  14.353  -9.882  1.00  0.00           O  \\nATOM   1228  N   LEU A 158      -7.795  13.833  -8.682  1.00  0.00           N  \\nATOM   1229  CA  LEU A 158      -7.925  12.383  -8.782  1.00  0.00           C  \\nATOM   1230  CB  LEU A 158      -6.575  11.693  -8.462  1.00  0.00           C  \\nATOM   1231  CG  LEU A 158      -5.395  12.353  -9.282  1.00  0.00           C  \\nATOM   1232  CD1 LEU A 158      -4.115  11.423  -9.102  1.00  0.00           C  \\nATOM   1233  CD2 LEU A 158      -5.655  12.343 -10.782  1.00  0.00           C  \\nATOM   1234  C   LEU A 158      -8.955  11.693  -7.852  1.00  0.00           C  \\nATOM   1235  O   LEU A 158      -9.215  10.523  -8.032  1.00  0.00           O  \\nATOM   1236  N   LEU A 159      -9.455  12.473  -6.882  1.00  0.00           N  \\nATOM   1237  CA  LEU A 159     -10.495  11.943  -5.992  1.00  0.00           C  \\nATOM   1238  CB  LEU A 159     -10.145  12.443  -4.512  1.00  0.00           C  \\nATOM   1239  CG  LEU A 159      -8.675  12.273  -4.012  1.00  0.00           C  \\nATOM   1240  CD1 LEU A 159      -8.715  12.763  -2.552  1.00  0.00           C  \\nATOM   1241  CD2 LEU A 159      -8.345  10.783  -3.922  1.00  0.00           C  \\nATOM   1242  C   LEU A 159     -11.975  12.353  -6.462  1.00  0.00           C  \\nATOM   1243  O   LEU A 159     -12.185  13.483  -6.982  1.00  0.00           O  \\nATOM   1244  N   ARG A 160     -12.905  11.443  -6.422  1.00  0.00           N  \\nATOM   1245  CA  ARG A 160     -14.255  11.623  -6.922  1.00  0.00           C  \\nATOM   1246  CB  ARG A 160     -14.285  11.153  -8.392  1.00  0.00           C  \\nATOM   1247  CG  ARG A 160     -13.955   9.623  -8.572  1.00  0.00           C  \\nATOM   1248  CD  ARG A 160     -15.175   8.713  -8.172  1.00  0.00           C  \\nATOM   1249  NE  ARG A 160     -14.965   7.283  -8.602  1.00  0.00           N  \\nATOM   1250  CZ  ARG A 160     -15.595   6.203  -8.102  1.00  0.00           C  \\nATOM   1251  NH1 ARG A 160     -16.805   6.213  -7.512  1.00  0.00           N  \\nATOM   1252  NH2 ARG A 160     -15.025   5.003  -8.252  1.00  0.00           N  \\nATOM   1253  C   ARG A 160     -15.335  11.093  -6.012  1.00  0.00           C  \\nATOM   1254  O   ARG A 160     -15.005  10.383  -5.092  1.00  0.00           O  \\nATOM   1255  N   LYS A 161     -16.635  11.253  -6.292  1.00  0.00           N  \\nATOM   1256  CA  LYS A 161     -17.665  10.673  -5.402  1.00  0.00           C  \\nATOM   1257  CB  LYS A 161     -19.025  11.393  -5.472  1.00  0.00           C  \\nATOM   1258  CG  LYS A 161     -20.055  10.833  -4.442  1.00  0.00           C  \\nATOM   1259  CD  LYS A 161     -21.335  11.673  -4.202  1.00  0.00           C  \\nATOM   1260  CE  LYS A 161     -22.325  11.663  -5.432  1.00  0.00           C  \\nATOM   1261  NZ  LYS A 161     -23.395  12.723  -5.392  1.00  0.00           N  \\nATOM   1262  C   LYS A 161     -17.665   9.173  -5.352  1.00  0.00           C  \\nATOM   1263  O   LYS A 161     -17.955   8.573  -6.402  1.00  0.00           O  \\nATOM   1264  N   GLY A 162     -17.355   8.643  -4.182  1.00  0.00           N  \\nATOM   1265  CA  GLY A 162     -17.095   7.223  -3.902  1.00  0.00           C  \\nATOM   1266  C   GLY A 162     -15.675   6.703  -3.932  1.00  0.00           C  \\nATOM   1267  O   GLY A 162     -15.475   5.463  -3.782  1.00  0.00           O  \\nATOM   1268  N   THR A 163     -14.605   7.483  -4.252  1.00  0.00           N  \\nATOM   1269  CA  THR A 163     -13.185   7.053  -4.122  1.00  0.00           C  \\nATOM   1270  CB  THR A 163     -12.255   8.253  -4.352  1.00  0.00           C  \\nATOM   1271  CG2 THR A 163     -10.775   7.923  -3.912  1.00  0.00           C  \\nATOM   1272  OG1 THR A 163     -12.355   8.683  -5.672  1.00  0.00           O  \\nATOM   1273  C   THR A 163     -12.965   6.623  -2.682  1.00  0.00           C  \\nATOM   1274  O   THR A 163     -13.335   7.383  -1.792  1.00  0.00           O  \\nATOM   1275  N   VAL A 164     -12.345   5.543  -2.392  1.00  0.00           N  \\nATOM   1276  CA  VAL A 164     -11.895   5.103  -1.042  1.00  0.00           C  \\nATOM   1277  CB  VAL A 164     -12.245   3.593  -0.812  1.00  0.00           C  \\nATOM   1278  CG1 VAL A 164     -11.835   3.183   0.628  1.00  0.00           C  \\nATOM   1279  CG2 VAL A 164     -13.725   3.233  -1.082  1.00  0.00           C  \\nATOM   1280  C   VAL A 164     -10.365   5.413  -0.922  1.00  0.00           C  \\nATOM   1281  O   VAL A 164      -9.605   5.253  -1.892  1.00  0.00           O  \\nATOM   1282  N   LEU A 165      -9.965   5.933   0.218  1.00  0.00           N  \\nATOM   1283  CA  LEU A 165      -8.585   5.953   0.808  1.00  0.00           C  \\nATOM   1284  CB  LEU A 165      -8.085   7.413   1.018  1.00  0.00           C  \\nATOM   1285  CG  LEU A 165      -8.145   8.253  -0.292  1.00  0.00           C  \\nATOM   1286  CD1 LEU A 165      -9.485   9.013  -0.432  1.00  0.00           C  \\nATOM   1287  CD2 LEU A 165      -7.095   9.393  -0.232  1.00  0.00           C  \\nATOM   1288  C   LEU A 165      -8.425   5.073   2.048  1.00  0.00           C  \\nATOM   1289  O   LEU A 165      -9.495   4.933   2.728  1.00  0.00           O  \\nATOM   1290  N   LEU A 166      -7.285   4.493   2.358  1.00  0.00           N  \\nATOM   1291  CA  LEU A 166      -7.145   3.463   3.318  1.00  0.00           C  \\nATOM   1292  CB  LEU A 166      -7.245   2.043   2.788  1.00  0.00           C  \\nATOM   1293  CG  LEU A 166      -6.825   0.943   3.788  1.00  0.00           C  \\nATOM   1294  CD1 LEU A 166      -7.755   0.853   4.988  1.00  0.00           C  \\nATOM   1295  CD2 LEU A 166      -6.735  -0.517   3.118  1.00  0.00           C  \\nATOM   1296  C   LEU A 166      -5.795   3.773   3.898  1.00  0.00           C  \\nATOM   1297  O   LEU A 166      -4.785   3.483   3.278  1.00  0.00           O  \\nATOM   1298  N   ALA A 167      -5.805   4.323   5.118  1.00  0.00           N  \\nATOM   1299  CA  ALA A 167      -4.655   4.813   5.798  1.00  0.00           C  \\nATOM   1300  CB  ALA A 167      -4.995   6.193   6.338  1.00  0.00           C  \\nATOM   1301  C   ALA A 167      -4.115   3.813   6.818  1.00  0.00           C  \\nATOM   1302  O   ALA A 167      -4.765   3.523   7.818  1.00  0.00           O  \\nATOM   1303  N   ASP A 168      -2.875   3.303   6.588  1.00  0.00           N  \\nATOM   1304  CA  ASP A 168      -2.205   2.403   7.558  1.00  0.00           C  \\nATOM   1305  CB  ASP A 168      -1.305   1.553   6.678  1.00  0.00           C  \\nATOM   1306  CG  ASP A 168      -0.575   0.373   7.418  1.00  0.00           C  \\nATOM   1307  OD1 ASP A 168      -1.105   0.113   8.528  1.00  0.00           O  \\nATOM   1308  OD2 ASP A 168       0.475  -0.107   6.888  1.00  0.00           O  \\nATOM   1309  C   ASP A 168      -1.485   3.243   8.638  1.00  0.00           C  \\nATOM   1310  O   ASP A 168      -1.205   4.473   8.608  1.00  0.00           O  \\nATOM   1311  N   ASN A 169      -1.065   2.563   9.698  1.00  0.00           N  \\nATOM   1312  CA  ASN A 169      -0.345   3.023  10.878  1.00  0.00           C  \\nATOM   1313  CB  ASN A 169       1.115   3.033  10.438  1.00  0.00           C  \\nATOM   1314  CG  ASN A 169       1.705   1.713  10.118  1.00  0.00           C  \\nATOM   1315  OD1 ASN A 169       1.745   1.303   8.918  1.00  0.00           O  \\nATOM   1316  ND2 ASN A 169       2.015   0.953  11.098  1.00  0.00           N  \\nATOM   1317  C   ASN A 169      -0.775   4.383  11.458  1.00  0.00           C  \\nATOM   1318  O   ASN A 169       0.045   5.273  11.858  1.00  0.00           O  \\nATOM   1319  N   VAL A 170      -2.065   4.683  11.478  1.00  0.00           N  \\nATOM   1320  CA  VAL A 170      -2.605   6.073  11.848  1.00  0.00           C  \\nATOM   1321  CB  VAL A 170      -4.095   6.333  11.398  1.00  0.00           C  \\nATOM   1322  CG1 VAL A 170      -4.075   6.563   9.878  1.00  0.00           C  \\nATOM   1323  CG2 VAL A 170      -5.055   5.193  11.768  1.00  0.00           C  \\nATOM   1324  C   VAL A 170      -2.625   6.203  13.418  1.00  0.00           C  \\nATOM   1325  O   VAL A 170      -2.925   7.253  13.948  1.00  0.00           O  \\nATOM   1326  N   ILE A 171      -2.245   5.243  14.228  1.00  0.00           N  \\nATOM   1327  CA  ILE A 171      -2.125   5.353  15.698  1.00  0.00           C  \\nATOM   1328  CB  ILE A 171      -3.205   4.413  16.428  1.00  0.00           C  \\nATOM   1329  CG2 ILE A 171      -3.265   4.373  17.918  1.00  0.00           C  \\nATOM   1330  CG1 ILE A 171      -4.615   4.493  15.828  1.00  0.00           C  \\nATOM   1331  CD1 ILE A 171      -5.375   5.783  16.148  1.00  0.00           C  \\nATOM   1332  C   ILE A 171      -0.755   5.133  16.298  1.00  0.00           C  \\nATOM   1333  O   ILE A 171      -0.455   5.633  17.388  1.00  0.00           O  \\nATOM   1334  N   CYS A 172       0.085   4.403  15.558  1.00  0.00           N  \\nATOM   1335  CA  CYS A 172       1.475   4.133  15.888  1.00  0.00           C  \\nATOM   1336  CB  CYS A 172       1.475   2.943  16.808  1.00  0.00           C  \\nATOM   1337  SG  CYS A 172       3.065   2.973  17.668  1.00  0.00           S  \\nATOM   1338  C   CYS A 172       2.415   3.903  14.608  1.00  0.00           C  \\nATOM   1339  O   CYS A 172       2.285   2.933  13.838  1.00  0.00           O  \\nATOM   1340  N   PRO A 173       3.425   4.793  14.318  1.00  0.00           N  \\nATOM   1341  CD  PRO A 173       4.305   4.533  13.178  1.00  0.00           C  \\nATOM   1342  CG  PRO A 173       4.885   5.863  12.788  1.00  0.00           C  \\nATOM   1343  CB  PRO A 173       5.125   6.483  14.148  1.00  0.00           C  \\nATOM   1344  CA  PRO A 173       3.845   6.023  14.948  1.00  0.00           C  \\nATOM   1345  C   PRO A 173       2.745   7.033  15.158  1.00  0.00           C  \\nATOM   1346  O   PRO A 173       2.715   7.843  16.098  1.00  0.00           O  \\nATOM   1347  N   GLY A 174       1.725   6.973  14.378  1.00  0.00           N  \\nATOM   1348  CA  GLY A 174       0.465   7.813  14.368  1.00  0.00           C  \\nATOM   1349  C   GLY A 174       0.455   8.873  13.278  1.00  0.00           C  \\nATOM   1350  O   GLY A 174       1.435   9.133  12.578  1.00  0.00           O  \\nATOM   1351  N   ALA A 175      -0.665   9.563  13.038  1.00  0.00           N  \\nATOM   1352  CA  ALA A 175      -0.905  10.623  12.058  1.00  0.00           C  \\nATOM   1353  CB  ALA A 175      -1.455   9.903  10.758  1.00  0.00           C  \\nATOM   1354  C   ALA A 175      -1.915  11.763  12.348  1.00  0.00           C  \\nATOM   1355  O   ALA A 175      -2.955  11.833  11.688  1.00  0.00           O  \\nATOM   1356  N   PRO A 176      -1.765  12.603  13.408  1.00  0.00           N  \\nATOM   1357  CD  PRO A 176      -0.515  12.663  14.138  1.00  0.00           C  \\nATOM   1358  CG  PRO A 176      -0.615  13.833  15.108  1.00  0.00           C  \\nATOM   1359  CB  PRO A 176      -2.145  14.013  15.388  1.00  0.00           C  \\nATOM   1360  CA  PRO A 176      -2.855  13.333  14.118  1.00  0.00           C  \\nATOM   1361  C   PRO A 176      -3.565  14.403  13.268  1.00  0.00           C  \\nATOM   1362  O   PRO A 176      -4.805  14.493  13.368  1.00  0.00           O  \\nATOM   1363  N   ASP A 177      -2.975  15.023  12.248  1.00  0.00           N  \\nATOM   1364  CA  ASP A 177      -3.585  16.043  11.428  1.00  0.00           C  \\nATOM   1365  CB  ASP A 177      -2.625  17.233  11.298  1.00  0.00           C  \\nATOM   1366  CG  ASP A 177      -3.355  18.513  11.138  1.00  0.00           C  \\nATOM   1367  OD1 ASP A 177      -3.865  19.033  12.118  1.00  0.00           O  \\nATOM   1368  OD2 ASP A 177      -3.255  19.153  10.118  1.00  0.00           O  \\nATOM   1369  C   ASP A 177      -4.135  15.423  10.158  1.00  0.00           C  \\nATOM   1370  O   ASP A 177      -5.135  15.983   9.748  1.00  0.00           O  \\nATOM   1371  N   PHE A 178      -3.565  14.383   9.518  1.00  0.00           N  \\nATOM   1372  CA  PHE A 178      -4.265  13.583   8.478  1.00  0.00           C  \\nATOM   1373  CB  PHE A 178      -3.445  12.293   8.178  1.00  0.00           C  \\nATOM   1374  CG  PHE A 178      -4.275  11.293   7.408  1.00  0.00           C  \\nATOM   1375  CD1 PHE A 178      -4.655  11.543   6.068  1.00  0.00           C  \\nATOM   1376  CE1 PHE A 178      -5.505  10.563   5.408  1.00  0.00           C  \\nATOM   1377  CZ  PHE A 178      -5.985   9.473   6.098  1.00  0.00           C  \\nATOM   1378  CE2 PHE A 178      -5.625   9.323   7.448  1.00  0.00           C  \\nATOM   1379  CD2 PHE A 178      -4.775  10.213   8.118  1.00  0.00           C  \\nATOM   1380  C   PHE A 178      -5.675  13.223   9.018  1.00  0.00           C  \\nATOM   1381  O   PHE A 178      -6.665  13.563   8.438  1.00  0.00           O  \\nATOM   1382  N   LEU A 179      -5.705  12.673  10.248  1.00  0.00           N  \\nATOM   1383  CA  LEU A 179      -7.035  12.273  10.868  1.00  0.00           C  \\nATOM   1384  CB  LEU A 179      -6.725  11.543  12.148  1.00  0.00           C  \\nATOM   1385  CG  LEU A 179      -6.045  10.143  12.038  1.00  0.00           C  \\nATOM   1386  CD1 LEU A 179      -5.895   9.613  13.458  1.00  0.00           C  \\nATOM   1387  CD2 LEU A 179      -7.005   9.203  11.198  1.00  0.00           C  \\nATOM   1388  C   LEU A 179      -8.015  13.453  11.058  1.00  0.00           C  \\nATOM   1389  O   LEU A 179      -9.165  13.363  10.648  1.00  0.00           O  \\nATOM   1390  N   ALA A 180      -7.475  14.493  11.568  1.00  0.00           N  \\nATOM   1391  CA  ALA A 180      -8.275  15.693  11.768  1.00  0.00           C  \\nATOM   1392  CB  ALA A 180      -7.325  16.713  12.558  1.00  0.00           C  \\nATOM   1393  C   ALA A 180      -8.825  16.313  10.538  1.00  0.00           C  \\nATOM   1394  O   ALA A 180      -9.745  17.133  10.568  1.00  0.00           O  \\nATOM   1395  N   HIE A 181      -8.245  15.993   9.368  1.00  0.00           N  \\nATOM   1396  CA  HIE A 181      -8.685  16.433   8.028  1.00  0.00           C  \\nATOM   1397  CB  HIE A 181      -7.615  16.433   6.858  1.00  0.00           C  \\nATOM   1398  CG  HIE A 181      -8.085  17.093   5.628  1.00  0.00           C  \\nATOM   1399  ND1 HIE A 181      -8.295  18.493   5.448  1.00  0.00           N  \\nATOM   1400  CE1 HIE A 181      -8.675  18.693   4.198  1.00  0.00           C  \\nATOM   1401  NE2 HIE A 181      -8.665  17.513   3.578  1.00  0.00           N  \\nATOM   1402  CD2 HIE A 181      -8.435  16.493   4.458  1.00  0.00           C  \\nATOM   1403  C   HIE A 181      -9.925  15.643   7.618  1.00  0.00           C  \\nATOM   1404  O   HIE A 181     -10.995  16.163   7.458  1.00  0.00           O  \\nATOM   1405  N   VAL A 182      -9.735  14.343   7.348  1.00  0.00           N  \\nATOM   1406  CA  VAL A 182     -10.835  13.473   6.778  1.00  0.00           C  \\nATOM   1407  CB  VAL A 182     -10.405  12.083   6.318  1.00  0.00           C  \\nATOM   1408  CG1 VAL A 182      -9.245  12.313   5.358  1.00  0.00           C  \\nATOM   1409  CG2 VAL A 182     -10.055  11.053   7.438  1.00  0.00           C  \\nATOM   1410  C   VAL A 182     -12.105  13.363   7.628  1.00  0.00           C  \\nATOM   1411  O   VAL A 182     -13.185  13.383   7.068  1.00  0.00           O  \\nATOM   1412  N   ARG A 183     -11.855  13.423   8.938  1.00  0.00           N  \\nATOM   1413  CA  ARG A 183     -12.905  13.373   9.988  1.00  0.00           C  \\nATOM   1414  CB  ARG A 183     -12.265  12.953  11.318  1.00  0.00           C  \\nATOM   1415  CG  ARG A 183     -11.545  11.583  11.338  1.00  0.00           C  \\nATOM   1416  CD  ARG A 183     -10.785  11.373  12.698  1.00  0.00           C  \\nATOM   1417  NE  ARG A 183     -10.355   9.993  12.798  1.00  0.00           N  \\nATOM   1418  CZ  ARG A 183      -9.845   9.373  13.838  1.00  0.00           C  \\nATOM   1419  NH1 ARG A 183      -9.775   9.783  15.108  1.00  0.00           N  \\nATOM   1420  NH2 ARG A 183      -9.465   8.143  13.688  1.00  0.00           N  \\nATOM   1421  C   ARG A 183     -13.645  14.683  10.058  1.00  0.00           C  \\nATOM   1422  O   ARG A 183     -14.755  14.653  10.558  1.00  0.00           O  \\nATOM   1423  N   GLY A 184     -13.055  15.753   9.568  1.00  0.00           N  \\nATOM   1424  CA  GLY A 184     -13.615  17.133   9.648  1.00  0.00           C  \\nATOM   1425  C   GLY A 184     -14.145  17.793   8.348  1.00  0.00           C  \\nATOM   1426  O   GLY A 184     -14.985  18.673   8.398  1.00  0.00           O  \\nATOM   1427  N   SER A 185     -13.565  17.433   7.238  1.00  0.00           N  \\nATOM   1428  CA  SER A 185     -13.645  18.113   5.948  1.00  0.00           C  \\nATOM   1429  CB  SER A 185     -12.455  17.733   5.008  1.00  0.00           C  \\nATOM   1430  OG  SER A 185     -12.715  18.153   3.598  1.00  0.00           O  \\nATOM   1431  C   SER A 185     -14.895  17.853   5.068  1.00  0.00           C  \\nATOM   1432  O   SER A 185     -15.265  16.673   5.018  1.00  0.00           O  \\nATOM   1433  N   SER A 186     -15.685  18.813   4.578  1.00  0.00           N  \\nATOM   1434  CA  SER A 186     -16.915  18.683   3.768  1.00  0.00           C  \\nATOM   1435  CB  SER A 186     -17.545  20.003   3.258  1.00  0.00           C  \\nATOM   1436  OG  SER A 186     -16.655  20.563   2.268  1.00  0.00           O  \\nATOM   1437  C   SER A 186     -16.715  17.713   2.608  1.00  0.00           C  \\nATOM   1438  O   SER A 186     -17.755  17.063   2.218  1.00  0.00           O  \\nATOM   1439  N   CYS A 187     -15.465  17.573   2.128  1.00  0.00           N  \\nATOM   1440  CA  CYS A 187     -15.085  16.713   0.988  1.00  0.00           C  \\nATOM   1441  CB  CYS A 187     -13.695  17.223   0.498  1.00  0.00           C  \\nATOM   1442  SG  CYS A 187     -13.725  18.943  -0.042  1.00  0.00           S  \\nATOM   1443  C   CYS A 187     -15.155  15.213   1.398  1.00  0.00           C  \\nATOM   1444  O   CYS A 187     -15.055  14.343   0.588  1.00  0.00           O  \\nATOM   1445  N   PHE A 188     -15.355  14.803   2.648  1.00  0.00           N  \\nATOM   1446  CA  PHE A 188     -15.085  13.433   3.188  1.00  0.00           C  \\nATOM   1447  CB  PHE A 188     -13.715  13.423   3.878  1.00  0.00           C  \\nATOM   1448  CG  PHE A 188     -12.545  13.373   2.958  1.00  0.00           C  \\nATOM   1449  CD1 PHE A 188     -12.125  12.133   2.478  1.00  0.00           C  \\nATOM   1450  CE1 PHE A 188     -10.965  12.103   1.708  1.00  0.00           C  \\nATOM   1451  CZ  PHE A 188     -10.235  13.253   1.458  1.00  0.00           C  \\nATOM   1452  CE2 PHE A 188     -10.695  14.413   2.008  1.00  0.00           C  \\nATOM   1453  CD2 PHE A 188     -11.805  14.563   2.778  1.00  0.00           C  \\nATOM   1454  C   PHE A 188     -16.065  12.863   4.238  1.00  0.00           C  \\nATOM   1455  O   PHE A 188     -16.765  13.583   4.948  1.00  0.00           O  \\nATOM   1456  N   GLU A 189     -16.105  11.543   4.418  1.00  0.00           N  \\nATOM   1457  CA  GLU A 189     -16.625  10.763   5.578  1.00  0.00           C  \\nATOM   1458  CB  GLU A 189     -18.035  10.313   5.278  1.00  0.00           C  \\nATOM   1459  CG  GLU A 189     -18.215   9.603   3.888  1.00  0.00           C  \\nATOM   1460  CD  GLU A 189     -19.605   9.043   3.968  1.00  0.00           C  \\nATOM   1461  OE1 GLU A 189     -20.585   9.793   3.828  1.00  0.00           O  \\nATOM   1462  OE2 GLU A 189     -19.725   7.863   4.408  1.00  0.00           O  \\nATOM   1463  C   GLU A 189     -15.635   9.533   5.788  1.00  0.00           C  \\nATOM   1464  O   GLU A 189     -14.935   9.083   4.878  1.00  0.00           O  \\nATOM   1465  N   CYS A 190     -15.585   8.973   6.998  1.00  0.00           N  \\nATOM   1466  CA  CYS A 190     -14.685   7.923   7.368  1.00  0.00           C  \\nATOM   1467  CB  CYS A 190     -13.325   8.483   7.738  1.00  0.00           C  \\nATOM   1468  SG  CYS A 190     -13.475   9.563   9.118  1.00  0.00           S  \\nATOM   1469  C   CYS A 190     -15.215   7.013   8.418  1.00  0.00           C  \\nATOM   1470  O   CYS A 190     -16.185   7.373   9.108  1.00  0.00           O  \\nATOM   1471  N   THR A 191     -14.495   5.923   8.558  1.00  0.00           N  \\nATOM   1472  CA  THR A 191     -14.615   4.943   9.618  1.00  0.00           C  \\nATOM   1473  CB  THR A 191     -15.335   3.683   9.118  1.00  0.00           C  \\nATOM   1474  CG2 THR A 191     -16.885   3.873   8.898  1.00  0.00           C  \\nATOM   1475  OG1 THR A 191     -14.745   3.143   7.948  1.00  0.00           O  \\nATOM   1476  C   THR A 191     -13.265   4.523  10.128  1.00  0.00           C  \\nATOM   1477  O   THR A 191     -12.245   4.493   9.388  1.00  0.00           O  \\nATOM   1478  N   HIE A 192     -13.185   3.993  11.288  1.00  0.00           N  \\nATOM   1479  CA  HIE A 192     -11.955   3.663  12.028  1.00  0.00           C  \\nATOM   1480  CB  HIE A 192     -12.195   4.343  13.388  1.00  0.00           C  \\nATOM   1481  CG  HIE A 192     -13.305   3.733  14.258  1.00  0.00           C  \\nATOM   1482  ND1 HIE A 192     -14.605   3.473  13.778  1.00  0.00           N  \\nATOM   1483  CE1 HIE A 192     -15.325   3.213  14.858  1.00  0.00           C  \\nATOM   1484  NE2 HIE A 192     -14.555   3.403  15.948  1.00  0.00           N  \\nATOM   1485  CD2 HIE A 192     -13.305   3.883  15.568  1.00  0.00           C  \\nATOM   1486  C   HIE A 192     -11.855   2.163  12.188  1.00  0.00           C  \\nATOM   1487  O   HIE A 192     -12.865   1.483  12.238  1.00  0.00           O  \\nATOM   1488  N   TYR A 193     -10.665   1.573  12.188  1.00  0.00           N  \\nATOM   1489  CA  TYR A 193     -10.335   0.233  12.548  1.00  0.00           C  \\nATOM   1490  CB  TYR A 193     -10.075  -0.577  11.218  1.00  0.00           C  \\nATOM   1491  CG  TYR A 193     -11.125  -0.597  10.208  1.00  0.00           C  \\nATOM   1492  CD1 TYR A 193     -11.235   0.423   9.218  1.00  0.00           C  \\nATOM   1493  CE1 TYR A 193     -12.315   0.363   8.328  1.00  0.00           C  \\nATOM   1494  CZ  TYR A 193     -13.095  -0.837   8.278  1.00  0.00           C  \\nATOM   1495  OH  TYR A 193     -13.995  -0.997   7.338  1.00  0.00           O  \\nATOM   1496  CE2 TYR A 193     -12.905  -1.897   9.188  1.00  0.00           C  \\nATOM   1497  CD2 TYR A 193     -11.925  -1.757  10.168  1.00  0.00           C  \\nATOM   1498  C   TYR A 193      -9.205   0.233  13.528  1.00  0.00           C  \\nATOM   1499  O   TYR A 193      -8.085   0.653  13.308  1.00  0.00           O  \\nATOM   1500  N   GLN A 194      -9.365  -0.427  14.648  1.00  0.00           N  \\nATOM   1501  CA  GLN A 194      -8.355  -0.767  15.708  1.00  0.00           C  \\nATOM   1502  CB  GLN A 194      -9.045  -0.887  17.078  1.00  0.00           C  \\nATOM   1503  CG  GLN A 194      -9.815   0.423  17.528  1.00  0.00           C  \\nATOM   1504  CD  GLN A 194     -11.105   0.783  16.948  1.00  0.00           C  \\nATOM   1505  OE1 GLN A 194     -11.695   0.133  16.068  1.00  0.00           O  \\nATOM   1506  NE2 GLN A 194     -11.725   1.883  17.248  1.00  0.00           N  \\nATOM   1507  C   GLN A 194      -7.695  -2.097  15.398  1.00  0.00           C  \\nATOM   1508  O   GLN A 194      -8.325  -3.057  15.038  1.00  0.00           O  \\nATOM   1509  N   SER A 195      -6.355  -2.067  15.578  1.00  0.00           N  \\nATOM   1510  CA  SER A 195      -5.395  -3.137  15.178  1.00  0.00           C  \\nATOM   1511  CB  SER A 195      -4.855  -2.957  13.708  1.00  0.00           C  \\nATOM   1512  OG  SER A 195      -4.305  -4.127  13.138  1.00  0.00           O  \\nATOM   1513  C   SER A 195      -4.255  -3.337  16.098  1.00  0.00           C  \\nATOM   1514  O   SER A 195      -4.315  -2.887  17.278  1.00  0.00           O  \\nATOM   1515  N   PHE A 196      -3.135  -3.867  15.568  1.00  0.00           N  \\nATOM   1516  CA  PHE A 196      -1.835  -3.917  16.168  1.00  0.00           C  \\nATOM   1517  CB  PHE A 196      -1.655  -5.257  16.938  1.00  0.00           C  \\nATOM   1518  CG  PHE A 196      -2.705  -5.467  18.058  1.00  0.00           C  \\nATOM   1519  CD1 PHE A 196      -2.535  -4.787  19.288  1.00  0.00           C  \\nATOM   1520  CE1 PHE A 196      -3.425  -5.017  20.328  1.00  0.00           C  \\nATOM   1521  CZ  PHE A 196      -4.505  -5.837  20.158  1.00  0.00           C  \\nATOM   1522  CE2 PHE A 196      -4.685  -6.487  18.928  1.00  0.00           C  \\nATOM   1523  CD2 PHE A 196      -3.785  -6.297  17.848  1.00  0.00           C  \\nATOM   1524  C   PHE A 196      -0.815  -3.777  15.038  1.00  0.00           C  \\nATOM   1525  O   PHE A 196      -1.075  -4.157  13.948  1.00  0.00           O  \\nATOM   1526  N   LEU A 197       0.325  -3.217  15.408  1.00  0.00           N  \\nATOM   1527  CA  LEU A 197       1.385  -2.957  14.418  1.00  0.00           C  \\nATOM   1528  CB  LEU A 197       2.605  -2.397  15.208  1.00  0.00           C  \\nATOM   1529  CG  LEU A 197       3.755  -1.697  14.548  1.00  0.00           C  \\nATOM   1530  CD1 LEU A 197       3.375  -0.437  13.718  1.00  0.00           C  \\nATOM   1531  CD2 LEU A 197       4.765  -1.177  15.658  1.00  0.00           C  \\nATOM   1532  C   LEU A 197       1.835  -4.227  13.748  1.00  0.00           C  \\nATOM   1533  O   LEU A 197       1.575  -5.307  14.208  1.00  0.00           O  \\nATOM   1534  N   GLU A 198       2.505  -4.057  12.658  1.00  0.00           N  \\nATOM   1535  CA  GLU A 198       3.185  -4.977  11.698  1.00  0.00           C  \\nATOM   1536  CB  GLU A 198       4.095  -4.127  10.668  1.00  0.00           C  \\nATOM   1537  CG  GLU A 198       3.225  -3.497   9.518  1.00  0.00           C  \\nATOM   1538  CD  GLU A 198       2.585  -2.147   9.868  1.00  0.00           C  \\nATOM   1539  OE1 GLU A 198       2.375  -1.867  10.988  1.00  0.00           O  \\nATOM   1540  OE2 GLU A 198       2.115  -1.407   8.968  1.00  0.00           O  \\nATOM   1541  C   GLU A 198       4.205  -5.837  12.528  1.00  0.00           C  \\nATOM   1542  O   GLU A 198       5.205  -5.347  13.048  1.00  0.00           O  \\nATOM   1543  N   TYR A 199       3.775  -7.127  12.718  1.00  0.00           N  \\nATOM   1544  CA  TYR A 199       4.485  -8.187  13.468  1.00  0.00           C  \\nATOM   1545  CB  TYR A 199       5.635  -8.897  12.608  1.00  0.00           C  \\nATOM   1546  CG  TYR A 199       5.265  -9.207  11.168  1.00  0.00           C  \\nATOM   1547  CD1 TYR A 199       4.515 -10.347  10.908  1.00  0.00           C  \\nATOM   1548  CE1 TYR A 199       4.115 -10.607   9.578  1.00  0.00           C  \\nATOM   1549  CZ  TYR A 199       4.615  -9.787   8.538  1.00  0.00           C  \\nATOM   1550  OH  TYR A 199       4.155  -9.937   7.268  1.00  0.00           O  \\nATOM   1551  CE2 TYR A 199       5.505  -8.737   8.838  1.00  0.00           C  \\nATOM   1552  CD2 TYR A 199       5.855  -8.497  10.148  1.00  0.00           C  \\nATOM   1553  C   TYR A 199       4.965  -7.937  14.878  1.00  0.00           C  \\nATOM   1554  O   TYR A 199       5.865  -8.577  15.408  1.00  0.00           O  \\nATOM   1555  N   ARG A 200       4.275  -6.927  15.498  1.00  0.00           N  \\nATOM   1556  CA  ARG A 200       4.475  -6.647  16.928  1.00  0.00           C  \\nATOM   1557  CB  ARG A 200       5.335  -5.357  17.008  1.00  0.00           C  \\nATOM   1558  CG  ARG A 200       6.845  -5.637  16.758  1.00  0.00           C  \\nATOM   1559  CD  ARG A 200       7.755  -4.427  16.948  1.00  0.00           C  \\nATOM   1560  NE  ARG A 200       9.125  -4.857  16.738  1.00  0.00           N  \\nATOM   1561  CZ  ARG A 200      10.195  -4.137  16.298  1.00  0.00           C  \\nATOM   1562  NH1 ARG A 200      10.245  -2.837  16.138  1.00  0.00           N  \\nATOM   1563  NH2 ARG A 200      11.345  -4.737  16.038  1.00  0.00           N  \\nATOM   1564  C   ARG A 200       3.155  -6.457  17.668  1.00  0.00           C  \\nATOM   1565  O   ARG A 200       2.135  -6.327  17.058  1.00  0.00           O  \\nATOM   1566  N   GLU A 201       3.145  -6.607  18.968  1.00  0.00           N  \\nATOM   1567  CA  GLU A 201       1.865  -6.437  19.678  1.00  0.00           C  \\nATOM   1568  CB  GLU A 201       1.845  -7.317  20.948  1.00  0.00           C  \\nATOM   1569  CG  GLU A 201       2.215  -8.827  20.878  1.00  0.00           C  \\nATOM   1570  CD  GLU A 201       2.435  -9.287  22.298  1.00  0.00           C  \\nATOM   1571  OE1 GLU A 201       3.545  -9.497  22.628  1.00  0.00           O  \\nATOM   1572  OE2 GLU A 201       1.505  -9.387  23.108  1.00  0.00           O  \\nATOM   1573  C   GLU A 201       1.605  -5.057  20.218  1.00  0.00           C  \\nATOM   1574  O   GLU A 201       0.585  -4.827  20.868  1.00  0.00           O  \\nATOM   1575  N   VAL A 202       2.485  -4.087  19.918  1.00  0.00           N  \\nATOM   1576  CA  VAL A 202       2.265  -2.627  20.058  1.00  0.00           C  \\nATOM   1577  CB  VAL A 202       3.475  -1.857  19.468  1.00  0.00           C  \\nATOM   1578  CG1 VAL A 202       3.335  -0.297  19.618  1.00  0.00           C  \\nATOM   1579  CG2 VAL A 202       4.705  -2.257  20.298  1.00  0.00           C  \\nATOM   1580  C   VAL A 202       0.995  -2.137  19.338  1.00  0.00           C  \\nATOM   1581  O   VAL A 202       0.725  -2.577  18.248  1.00  0.00           O  \\nATOM   1582  N   VAL A 203       0.235  -1.247  20.008  1.00  0.00           N  \\nATOM   1583  CA  VAL A 203      -1.185  -0.887  19.638  1.00  0.00           C  \\nATOM   1584  CB  VAL A 203      -2.005  -0.317  20.858  1.00  0.00           C  \\nATOM   1585  CG1 VAL A 203      -3.415   0.153  20.448  1.00  0.00           C  \\nATOM   1586  CG2 VAL A 203      -2.115  -1.467  21.918  1.00  0.00           C  \\nATOM   1587  C   VAL A 203      -1.215   0.083  18.448  1.00  0.00           C  \\nATOM   1588  O   VAL A 203      -0.565   1.113  18.478  1.00  0.00           O  \\nATOM   1589  N   ASP A 204      -2.085  -0.217  17.478  1.00  0.00           N  \\nATOM   1590  CA  ASP A 204      -2.085   0.453  16.158  1.00  0.00           C  \\nATOM   1591  CB  ASP A 204      -0.925  -0.107  15.258  1.00  0.00           C  \\nATOM   1592  CG  ASP A 204      -0.435   0.903  14.188  1.00  0.00           C  \\nATOM   1593  OD1 ASP A 204      -0.845   2.043  14.258  1.00  0.00           O  \\nATOM   1594  OD2 ASP A 204       0.125   0.483  13.218  1.00  0.00           O  \\nATOM   1595  C   ASP A 204      -3.475   0.363  15.548  1.00  0.00           C  \\nATOM   1596  O   ASP A 204      -4.355  -0.127  16.148  1.00  0.00           O  \\nATOM   1597  N   GLY A 205      -3.745   0.943  14.368  1.00  0.00           N  \\nATOM   1598  CA  GLY A 205      -4.995   0.853  13.658  1.00  0.00           C  \\nATOM   1599  C   GLY A 205      -4.855   1.363  12.268  1.00  0.00           C  \\nATOM   1600  O   GLY A 205      -3.705   1.613  11.818  1.00  0.00           O  \\nATOM   1601  N   LEU A 206      -6.045   1.523  11.658  1.00  0.00           N  \\nATOM   1602  CA  LEU A 206      -6.275   1.933  10.248  1.00  0.00           C  \\nATOM   1603  CB  LEU A 206      -6.555   0.783   9.258  1.00  0.00           C  \\nATOM   1604  CG  LEU A 206      -5.525  -0.327   9.208  1.00  0.00           C  \\nATOM   1605  CD1 LEU A 206      -5.615  -1.357  10.388  1.00  0.00           C  \\nATOM   1606  CD2 LEU A 206      -5.525  -1.117   7.828  1.00  0.00           C  \\nATOM   1607  C   LEU A 206      -7.485   2.883  10.278  1.00  0.00           C  \\nATOM   1608  O   LEU A 206      -8.355   2.743  11.108  1.00  0.00           O  \\nATOM   1609  N   GLU A 207      -7.495   3.763   9.298  1.00  0.00           N  \\nATOM   1610  CA  GLU A 207      -8.795   4.453   8.898  1.00  0.00           C  \\nATOM   1611  CB  GLU A 207      -8.585   5.983   9.118  1.00  0.00           C  \\nATOM   1612  CG  GLU A 207      -9.885   6.813   9.238  1.00  0.00           C  \\nATOM   1613  CD  GLU A 207     -10.345   7.093  10.668  1.00  0.00           C  \\nATOM   1614  OE1 GLU A 207      -9.925   6.473  11.588  1.00  0.00           O  \\nATOM   1615  OE2 GLU A 207     -10.865   8.183  10.868  1.00  0.00           O  \\nATOM   1616  C   GLU A 207      -9.095   4.163   7.468  1.00  0.00           C  \\nATOM   1617  O   GLU A 207      -8.125   3.943   6.678  1.00  0.00           O  \\nATOM   1618  N   LYS A 208     -10.405   4.183   7.098  1.00  0.00           N  \\nATOM   1619  CA  LYS A 208     -10.845   4.243   5.678  1.00  0.00           C  \\nATOM   1620  CB  LYS A 208     -11.645   2.963   5.488  1.00  0.00           C  \\nATOM   1621  CG  LYS A 208     -12.205   2.743   4.088  1.00  0.00           C  \\nATOM   1622  CD  LYS A 208     -13.075   1.463   3.898  1.00  0.00           C  \\nATOM   1623  CE  LYS A 208     -14.555   1.753   4.288  1.00  0.00           C  \\nATOM   1624  NZ  LYS A 208     -15.415   0.563   4.118  1.00  0.00           N  \\nATOM   1625  C   LYS A 208     -11.715   5.443   5.428  1.00  0.00           C  \\nATOM   1626  O   LYS A 208     -12.625   5.713   6.208  1.00  0.00           O  \\nATOM   1627  N   ALA A 209     -11.495   6.153   4.338  1.00  0.00           N  \\nATOM   1628  CA  ALA A 209     -12.145   7.453   4.118  1.00  0.00           C  \\nATOM   1629  CB  ALA A 209     -11.245   8.563   4.598  1.00  0.00           C  \\nATOM   1630  C   ALA A 209     -12.565   7.573   2.728  1.00  0.00           C  \\nATOM   1631  O   ALA A 209     -11.745   7.343   1.798  1.00  0.00           O  \\nATOM   1632  N   ILE A 210     -13.865   7.783   2.508  1.00  0.00           N  \\nATOM   1633  CA  ILE A 210     -14.575   7.923   1.288  1.00  0.00           C  \\nATOM   1634  CB  ILE A 210     -15.995   7.263   1.408  1.00  0.00           C  \\nATOM   1635  CG2 ILE A 210     -16.425   6.943  -0.042  1.00  0.00           C  \\nATOM   1636  CG1 ILE A 210     -16.055   5.923   2.258  1.00  0.00           C  \\nATOM   1637  CD1 ILE A 210     -17.505   5.613   2.738  1.00  0.00           C  \\nATOM   1638  C   ILE A 210     -14.705   9.363   0.878  1.00  0.00           C  \\nATOM   1639  O   ILE A 210     -15.295  10.203   1.588  1.00  0.00           O  \\nATOM   1640  N   TYR A 211     -14.215   9.733  -0.292  1.00  0.00           N  \\nATOM   1641  CA  TYR A 211     -14.365  11.053  -0.922  1.00  0.00           C  \\nATOM   1642  CB  TYR A 211     -13.305  11.233  -2.102  1.00  0.00           C  \\nATOM   1643  CG  TYR A 211     -13.125  12.683  -2.442  1.00  0.00           C  \\nATOM   1644  CD1 TYR A 211     -12.335  13.443  -1.612  1.00  0.00           C  \\nATOM   1645  CE1 TYR A 211     -12.235  14.843  -1.742  1.00  0.00           C  \\nATOM   1646  CZ  TYR A 211     -12.875  15.473  -2.872  1.00  0.00           C  \\nATOM   1647  OH  TYR A 211     -12.825  16.833  -3.022  1.00  0.00           O  \\nATOM   1648  CE2 TYR A 211     -13.685  14.703  -3.662  1.00  0.00           C  \\nATOM   1649  CD2 TYR A 211     -13.895  13.333  -3.442  1.00  0.00           C  \\nATOM   1650  C   TYR A 211     -15.845  11.273  -1.442  1.00  0.00           C  \\nATOM   1651  O   TYR A 211     -16.425  10.403  -2.082  1.00  0.00           O  \\nATOM   1652  N   LYS A 212     -16.375  12.543  -1.272  1.00  0.00           N  \\nATOM   1653  CA  LYS A 212     -17.785  12.903  -1.702  1.00  0.00           C  \\nATOM   1654  CB  LYS A 212     -18.735  12.663  -0.542  1.00  0.00           C  \\nATOM   1655  CG  LYS A 212     -18.515  13.593   0.638  1.00  0.00           C  \\nATOM   1656  CD  LYS A 212     -19.505  13.293   1.768  1.00  0.00           C  \\nATOM   1657  CE  LYS A 212     -19.485  14.323   2.898  1.00  0.00           C  \\nATOM   1658  NZ  LYS A 212     -20.455  15.433   2.558  1.00  0.00           N  \\nATOM   1659  C   LYS A 212     -17.905  14.373  -2.182  1.00  0.00           C  \\nATOM   1660  O   LYS A 212     -18.855  14.683  -2.942  1.00  0.00           O  \\nATOM   1661  N   GLY A 213     -16.835  15.123  -2.042  1.00  0.00           N  \\nATOM   1662  CA  GLY A 213     -16.535  16.303  -2.872  1.00  0.00           C  \\nATOM   1663  C   GLY A 213     -17.565  17.473  -2.842  1.00  0.00           C  \\nATOM   1664  O   GLY A 213     -18.445  17.503  -1.962  1.00  0.00           O  \\nATOM   1665  N   PRO A 214     -17.435  18.333  -3.842  1.00  0.00           N  \\nATOM   1666  CD  PRO A 214     -16.265  18.523  -4.682  1.00  0.00           C  \\nATOM   1667  CG  PRO A 214     -16.145  20.023  -4.882  1.00  0.00           C  \\nATOM   1668  CB  PRO A 214     -17.585  20.513  -4.812  1.00  0.00           C  \\nATOM   1669  CA  PRO A 214     -18.315  19.433  -4.002  1.00  0.00           C  \\nATOM   1670  C   PRO A 214     -19.605  19.053  -4.672  1.00  0.00           C  \\nATOM   1671  O   PRO A 214     -19.665  18.393  -5.712  1.00  0.00           O  \\nATOM   1672  OXT PRO A 214     -20.655  19.173  -3.992  1.00  0.00           O  \\nATOM   1673 MG   MG  A 215       2.275  -0.067   7.568  1.00  0.00          MG  \\nATOM   1674  O1  SAM A 216       7.625   4.313   2.058  1.00  0.00           O  \\nATOM   1675  C1  SAM A 216       8.755   4.853   1.288  1.00  0.00           C  \\nATOM   1676  N1  SAM A 216       8.755   6.293   1.228  1.00  0.00           N  \\nATOM   1677  C5  SAM A 216       8.125   7.013   0.258  1.00  0.00           C  \\nATOM   1678  C6  SAM A 216       7.755   8.323   0.688  1.00  0.00           C  \\nATOM   1679  N2  SAM A 216       8.155   8.373   2.068  1.00  0.00           N  \\nATOM   1680  C7  SAM A 216       8.745   7.143   2.308  1.00  0.00           C  \\nATOM   1681  C8  SAM A 216       7.115   9.213  -0.222  1.00  0.00           C  \\nATOM   1682  N3  SAM A 216       6.755   8.863  -1.512  1.00  0.00           N  \\nATOM   1683  C9  SAM A 216       7.235   7.633  -1.882  1.00  0.00           C  \\nATOM   1684  N4  SAM A 216       7.785   6.693  -1.022  1.00  0.00           N  \\nATOM   1685  N5  SAM A 216       6.725  10.433   0.078  1.00  0.00           N  \\nATOM   1686  C2  SAM A 216       9.985   4.183   1.918  1.00  0.00           C  \\nATOM   1687  O2  SAM A 216      11.185   4.263   1.148  1.00  0.00           O  \\nATOM   1688  C3  SAM A 216       9.425   2.743   2.218  1.00  0.00           C  \\nATOM   1689  O3  SAM A 216       9.945   1.783   1.228  1.00  0.00           O  \\nATOM   1690  C4  SAM A 216       7.895   2.923   2.208  1.00  0.00           C  \\nATOM   1691  C10 SAM A 216       7.145   2.603   3.538  1.00  0.00           C  \\nATOM   1692  S1  SAM A 216       7.215   0.893   4.008  1.00  0.00           S  \\nATOM   1693  C15 SAM A 216       6.405   1.033   5.538  1.00  0.00           C  \\nATOM   1694  C11 SAM A 216       5.895   0.253   2.978  1.00  0.00           C  \\nATOM   1695  C12 SAM A 216       5.575  -1.267   3.148  1.00  0.00           C  \\nATOM   1696  C13 SAM A 216       4.675  -1.757   2.038  1.00  0.00           C  \\nATOM   1697  N6  SAM A 216       3.315  -1.077   1.828  1.00  0.00           N  \\nATOM   1698  C14 SAM A 216       4.675  -3.297   2.028  1.00  0.00           C  \\nATOM   1699  O5  SAM A 216       3.865  -3.807   2.778  1.00  0.00           O  \\nATOM   1700  O4  SAM A 216       5.325  -3.877   1.268  1.00  0.00           O  \\nHETATM 1701  O1  TCW A 217      10.084   4.400  11.274  1.00  0.00           O  \\nHETATM 1702  C1  TCW A 217       9.123   3.771  11.613  1.00  0.00           C  \\nHETATM 1703  C2  TCW A 217       7.920   3.742  10.713  1.00  0.00           C  \\nHETATM 1704  C3  TCW A 217       7.501   4.956  10.148  1.00  0.00           C  \\nHETATM 1705  C4  TCW A 217       6.450   5.002   9.274  1.00  0.00           C  \\nHETATM 1706  O2  TCW A 217       6.051   6.181   8.764  1.00  0.00           O  \\nHETATM 1707  H2  TCW A 217       6.705   6.848   8.931  1.00  0.00           H  \\nHETATM 1708  C7  TCW A 217       5.786   3.823   8.901  1.00  0.00           C  \\nHETATM 1709  C6  TCW A 217       6.224   2.623   9.449  1.00  0.00           C  \\nHETATM 1710  C5  TCW A 217       7.285   2.578  10.356  1.00  0.00           C  \\nHETATM 1711  H3  TCW A 217       7.591   1.628  10.739  1.00  0.00           H  \\nHETATM 1712  N1  TCW A 217       5.588   1.374   9.092  1.00  0.00           N  \\nHETATM 1713  O3  TCW A 217       5.985   0.373   9.589  1.00  0.00           O  \\nHETATM 1714  O4  TCW A 217       4.674   1.406   8.303  1.00  0.00           O  \\nHETATM 1715  O5  TCW A 217       4.785   3.989   8.039  1.00  0.00           O  \\nHETATM 1716  H4  TCW A 217       4.554   3.154   7.635  1.00  0.00           H  \\nHETATM 1717  H1  TCW A 217       8.009   5.866  10.401  1.00  0.00           H  \\nHETATM 1718  C8  TCW A 217       9.130   3.019  12.906  1.00  0.00           C  \\nHETATM 1719  C9  TCW A 217       7.926   2.474  13.352  1.00  0.00           C  \\nHETATM 1720  H5  TCW A 217       7.035   2.638  12.775  1.00  0.00           H  \\nHETATM 1721  C10 TCW A 217       7.880   1.735  14.514  1.00  0.00           C  \\nHETATM 1722  H6  TCW A 217       6.939   1.333  14.849  1.00  0.00           H  \\nHETATM 1723  C11 TCW A 217       9.035   1.494  15.258  1.00  0.00           C  \\nHETATM 1724  C12 TCW A 217       8.968   0.685  16.531  1.00  0.00           C  \\nHETATM 1725  H7  TCW A 217       8.458  -0.258  16.368  1.00  0.00           H  \\nHETATM 1726  H8  TCW A 217       9.957   0.472  16.916  1.00  0.00           H  \\nHETATM 1727  H9  TCW A 217       8.421   1.223  17.300  1.00  0.00           H  \\nHETATM 1728  C13 TCW A 217      10.235   2.015  14.797  1.00  0.00           C  \\nHETATM 1729  H10 TCW A 217      11.143   1.829  15.343  1.00  0.00           H  \\nHETATM 1730  C14 TCW A 217      10.283   2.776  13.639  1.00  0.00           C  \\nHETATM 1731  H11 TCW A 217      11.232   3.154  13.302  1.00  0.00           H  \\nTER\\nEND\\n\";\n",
        "            structure = pv.io.pdb(pdb);\n",
        "            viewer = pv.Viewer(document.getElementById('be5a3153-5ee9-4803-9b62-f37bdae8a4f3'),\n",
        "                               {quality : 'medium', width: 'auto', height : 'auto',\n",
        "                                antialias : true, outline : true});\n",
        "            viewer.fitParent();\n",
        "            var ligand = structure.select({rnames : ['TCW', 'SAM', 'MG']});\n",
        "            viewer.ballsAndSticks('ligand', ligand);\n",
        "            viewer.cartoon('molecule', structure);\n",
        "            viewer.centerOn(structure);\n",
        "        });\n",
        "        </script>\n",
        "        "
       ],
       "metadata": {},
       "output_type": "pyout",
       "prompt_number": 1665,
       "text": [
        "<__main__.PDBViewer at 0x7fac3e74a790>"
       ]
      }
     ],
     "prompt_number": 1665
    },
    {
     "cell_type": "code",
     "collapsed": false,
     "input": [
      "PDBViewer(v2)"
     ],
     "language": "python",
     "metadata": {},
     "outputs": [
      {
       "html": [
        "<div id=\"37b6fd3f-a266-4353-8d92-28d4fc5e366f\" style=\"width: 800px; height: 600px\"><div>\n",
        "        <!--script src=\"//biasmv.github.io/pv/js/pv.min.js\"></script-->\n",
        "        <script>\n",
        "        require.config({paths: {\"pv\": \"//biasmv.github.io/pv/js/pv.min\"}});\n",
        "        require([\"pv\"], function (pv) {\n",
        "            pdb = \"ATOM      1  N   GLY A   1       0.955  13.351  24.385  1.00  0.00           N  \\nATOM      2  CA  GLY A   1       0.005  12.331  24.905  1.00  0.00           C  \\nATOM      3  C   GLY A   1       0.455  10.921  24.565  1.00  0.00           C  \\nATOM      4  O   GLY A   1       1.385  10.731  23.845  1.00  0.00           O  \\nATOM      5  N   ASP A   2      -0.125   9.831  25.205  1.00  0.00           N  \\nATOM      6  CA  ASP A   2      -0.005   8.441  24.825  1.00  0.00           C  \\nATOM      7  CB  ASP A   2      -0.265   7.451  25.965  1.00  0.00           C  \\nATOM      8  CG  ASP A   2      -0.265   6.041  25.445  1.00  0.00           C  \\nATOM      9  OD1 ASP A   2       0.705   5.611  24.855  1.00  0.00           O  \\nATOM     10  OD2 ASP A   2      -1.185   5.311  25.675  1.00  0.00           O  \\nATOM     11  C   ASP A   2      -0.935   8.051  23.705  1.00  0.00           C  \\nATOM     12  O   ASP A   2      -2.175   8.321  23.745  1.00  0.00           O  \\nATOM     13  N   THR A   3      -0.355   7.541  22.615  1.00  0.00           N  \\nATOM     14  CA  THR A   3      -1.035   7.301  21.325  1.00  0.00           C  \\nATOM     15  CB  THR A   3      -0.945   8.451  20.295  1.00  0.00           C  \\nATOM     16  CG2 THR A   3      -1.495   9.821  20.625  1.00  0.00           C  \\nATOM     17  OG1 THR A   3       0.465   8.621  20.085  1.00  0.00           O  \\nATOM     18  C   THR A   3      -0.545   5.991  20.685  1.00  0.00           C  \\nATOM     19  O   THR A   3       0.535   5.501  21.045  1.00  0.00           O  \\nATOM     20  N   LYS A   4      -1.335   5.421  19.725  1.00  0.00           N  \\nATOM     21  CA  LYS A   4      -0.955   4.131  19.175  1.00  0.00           C  \\nATOM     22  CB  LYS A   4      -2.095   3.601  18.385  1.00  0.00           C  \\nATOM     23  CG  LYS A   4      -1.855   2.121  17.955  1.00  0.00           C  \\nATOM     24  CD  LYS A   4      -2.955   1.571  17.035  1.00  0.00           C  \\nATOM     25  CE  LYS A   4      -4.455   1.711  17.475  1.00  0.00           C  \\nATOM     26  NZ  LYS A   4      -4.905   0.771  18.575  1.00  0.00           N  \\nATOM     27  C   LYS A   4       0.385   4.161  18.465  1.00  0.00           C  \\nATOM     28  O   LYS A   4       1.235   3.381  18.755  1.00  0.00           O  \\nATOM     29  N   GLU A   5       0.575   5.111  17.495  1.00  0.00           N  \\nATOM     30  CA  GLU A   5       1.755   5.191  16.565  1.00  0.00           C  \\nATOM     31  CB  GLU A   5       1.545   6.411  15.655  1.00  0.00           C  \\nATOM     32  CG  GLU A   5       0.345   6.411  14.735  1.00  0.00           C  \\nATOM     33  CD  GLU A   5      -1.055   6.541  15.375  1.00  0.00           C  \\nATOM     34  OE1 GLU A   5      -1.945   5.771  15.065  1.00  0.00           O  \\nATOM     35  OE2 GLU A   5      -1.165   7.241  16.395  1.00  0.00           O  \\nATOM     36  C   GLU A   5       3.075   5.141  17.325  1.00  0.00           C  \\nATOM     37  O   GLU A   5       3.915   4.231  17.125  1.00  0.00           O  \\nATOM     38  N   GLN A   6       3.145   6.011  18.355  1.00  0.00           N  \\nATOM     39  CA  GLN A   6       4.195   5.941  19.315  1.00  0.00           C  \\nATOM     40  CB  GLN A   6       4.105   7.171  20.275  1.00  0.00           C  \\nATOM     41  CG  GLN A   6       4.675   8.471  19.625  1.00  0.00           C  \\nATOM     42  CD  GLN A   6       4.785   9.641  20.625  1.00  0.00           C  \\nATOM     43  OE1 GLN A   6       5.825  10.121  20.965  1.00  0.00           O  \\nATOM     44  NE2 GLN A   6       3.605  10.181  21.065  1.00  0.00           N  \\nATOM     45  C   GLN A   6       4.435   4.671  20.105  1.00  0.00           C  \\nATOM     46  O   GLN A   6       5.645   4.321  20.215  1.00  0.00           O  \\nATOM     47  N   ARG A   7       3.415   3.821  20.395  1.00  0.00           N  \\nATOM     48  CA  ARG A   7       3.645   2.431  20.905  1.00  0.00           C  \\nATOM     49  CB  ARG A   7       2.345   1.961  21.625  1.00  0.00           C  \\nATOM     50  CG  ARG A   7       1.825   2.811  22.835  1.00  0.00           C  \\nATOM     51  CD  ARG A   7       0.745   2.061  23.635  1.00  0.00           C  \\nATOM     52  NE  ARG A   7      -0.555   2.011  22.885  1.00  0.00           N  \\nATOM     53  CZ  ARG A   7      -1.495   2.971  22.735  1.00  0.00           C  \\nATOM     54  NH1 ARG A   7      -1.385   4.161  23.195  1.00  0.00           N  \\nATOM     55  NH2 ARG A   7      -2.585   2.691  22.115  1.00  0.00           N  \\nATOM     56  C   ARG A   7       4.075   1.331  19.855  1.00  0.00           C  \\nATOM     57  O   ARG A   7       4.855   0.461  20.225  1.00  0.00           O  \\nATOM     58  N   ILE A   8       3.725   1.491  18.595  1.00  0.00           N  \\nATOM     59  CA  ILE A   8       4.245   0.641  17.445  1.00  0.00           C  \\nATOM     60  CB  ILE A   8       3.335   0.741  16.175  1.00  0.00           C  \\nATOM     61  CG2 ILE A   8       3.775  -0.289  15.075  1.00  0.00           C  \\nATOM     62  CG1 ILE A   8       1.855   0.591  16.515  1.00  0.00           C  \\nATOM     63  CD1 ILE A   8       0.795   0.701  15.365  1.00  0.00           C  \\nATOM     64  C   ILE A   8       5.715   0.931  17.195  1.00  0.00           C  \\nATOM     65  O   ILE A   8       6.575   0.031  17.225  1.00  0.00           O  \\nATOM     66  N   LEU A   9       6.075   2.271  17.115  1.00  0.00           N  \\nATOM     67  CA  LEU A   9       7.515   2.761  17.045  1.00  0.00           C  \\nATOM     68  CB  LEU A   9       7.465   4.301  16.905  1.00  0.00           C  \\nATOM     69  CG  LEU A   9       8.855   4.931  16.615  1.00  0.00           C  \\nATOM     70  CD1 LEU A   9       9.075   5.061  15.115  1.00  0.00           C  \\nATOM     71  CD2 LEU A   9       8.845   6.291  17.225  1.00  0.00           C  \\nATOM     72  C   LEU A   9       8.365   2.361  18.225  1.00  0.00           C  \\nATOM     73  O   LEU A   9       9.435   1.831  18.005  1.00  0.00           O  \\nATOM     74  N   ASN A  10       7.825   2.421  19.485  1.00  0.00           N  \\nATOM     75  CA  ASN A  10       8.515   2.041  20.715  1.00  0.00           C  \\nATOM     76  CB  ASN A  10       7.815   2.851  21.875  1.00  0.00           C  \\nATOM     77  CG  ASN A  10       8.515   2.571  23.175  1.00  0.00           C  \\nATOM     78  OD1 ASN A  10       9.645   2.981  23.315  1.00  0.00           O  \\nATOM     79  ND2 ASN A  10       7.995   1.821  24.105  1.00  0.00           N  \\nATOM     80  C   ASN A  10       8.745   0.521  20.865  1.00  0.00           C  \\nATOM     81  O   ASN A  10       9.695   0.091  21.515  1.00  0.00           O  \\nATOM     82  N   HIE A  11       7.995  -0.289  20.145  1.00  0.00           N  \\nATOM     83  CA  HIE A  11       8.265  -1.699  19.975  1.00  0.00           C  \\nATOM     84  CB  HIE A  11       6.975  -2.559  19.715  1.00  0.00           C  \\nATOM     85  CG  HIE A  11       7.215  -4.059  19.495  1.00  0.00           C  \\nATOM     86  ND1 HIE A  11       7.015  -5.069  20.435  1.00  0.00           N  \\nATOM     87  CE1 HIE A  11       6.975  -6.209  19.755  1.00  0.00           C  \\nATOM     88  NE2 HIE A  11       7.105  -6.009  18.485  1.00  0.00           N  \\nATOM     89  CD2 HIE A  11       7.265  -4.639  18.245  1.00  0.00           C  \\nATOM     90  C   HIE A  11       9.315  -1.959  18.935  1.00  0.00           C  \\nATOM     91  O   HIE A  11      10.285  -2.709  19.145  1.00  0.00           O  \\nATOM     92  N   VAL A  12       9.295  -1.229  17.815  1.00  0.00           N  \\nATOM     93  CA  VAL A  12      10.165  -1.419  16.645  1.00  0.00           C  \\nATOM     94  CB  VAL A  12       9.625  -0.609  15.395  1.00  0.00           C  \\nATOM     95  CG1 VAL A  12      10.605   0.511  14.845  1.00  0.00           C  \\nATOM     96  CG2 VAL A  12       9.635  -1.549  14.215  1.00  0.00           C  \\nATOM     97  C   VAL A  12      11.615  -1.069  16.985  1.00  0.00           C  \\nATOM     98  O   VAL A  12      12.555  -1.799  16.675  1.00  0.00           O  \\nATOM     99  N   LEU A  13      11.885   0.091  17.625  1.00  0.00           N  \\nATOM    100  CA  LEU A  13      13.145   0.621  17.985  1.00  0.00           C  \\nATOM    101  CB  LEU A  13      12.935   2.031  18.635  1.00  0.00           C  \\nATOM    102  CG  LEU A  13      12.695   3.201  17.645  1.00  0.00           C  \\nATOM    103  CD1 LEU A  13      12.445   4.531  18.325  1.00  0.00           C  \\nATOM    104  CD2 LEU A  13      13.855   3.281  16.595  1.00  0.00           C  \\nATOM    105  C   LEU A  13      13.975  -0.279  18.895  1.00  0.00           C  \\nATOM    106  O   LEU A  13      15.225  -0.389  18.845  1.00  0.00           O  \\nATOM    107  N   GLN A  14      13.235  -1.059  19.745  1.00  0.00           N  \\nATOM    108  CA  GLN A  14      13.765  -2.009  20.725  1.00  0.00           C  \\nATOM    109  CB  GLN A  14      12.875  -1.889  21.985  1.00  0.00           C  \\nATOM    110  CG  GLN A  14      13.465  -2.389  23.275  1.00  0.00           C  \\nATOM    111  CD  GLN A  14      12.445  -2.159  24.325  1.00  0.00           C  \\nATOM    112  OE1 GLN A  14      11.515  -2.939  24.395  1.00  0.00           O  \\nATOM    113  NE2 GLN A  14      12.355  -0.989  24.965  1.00  0.00           N  \\nATOM    114  C   GLN A  14      13.805  -3.419  20.175  1.00  0.00           C  \\nATOM    115  O   GLN A  14      14.355  -4.329  20.805  1.00  0.00           O  \\nATOM    116  N   HIE A  15      13.315  -3.699  18.935  1.00  0.00           N  \\nATOM    117  CA  HIE A  15      12.965  -5.069  18.395  1.00  0.00           C  \\nATOM    118  CB  HIE A  15      11.905  -4.949  17.315  1.00  0.00           C  \\nATOM    119  CG  HIE A  15      11.395  -6.329  16.935  1.00  0.00           C  \\nATOM    120  ND1 HIE A  15      10.565  -7.049  17.755  1.00  0.00           N  \\nATOM    121  CE1 HIE A  15      10.375  -8.189  17.115  1.00  0.00           C  \\nATOM    122  NE2 HIE A  15      11.085  -8.249  15.935  1.00  0.00           N  \\nATOM    123  CD2 HIE A  15      11.805  -7.089  15.885  1.00  0.00           C  \\nATOM    124  C   HIE A  15      14.125  -5.889  17.925  1.00  0.00           C  \\nATOM    125  O   HIE A  15      14.345  -7.019  18.435  1.00  0.00           O  \\nATOM    126  N   ALA A  16      14.895  -5.349  16.985  1.00  0.00           N  \\nATOM    127  CA  ALA A  16      16.025  -6.079  16.335  1.00  0.00           C  \\nATOM    128  CB  ALA A  16      15.355  -6.979  15.255  1.00  0.00           C  \\nATOM    129  C   ALA A  16      16.965  -5.049  15.775  1.00  0.00           C  \\nATOM    130  O   ALA A  16      16.865  -3.889  16.145  1.00  0.00           O  \\nATOM    131  N   GLU A  17      17.995  -5.479  15.115  1.00  0.00           N  \\nATOM    132  CA  GLU A  17      19.055  -4.639  14.515  1.00  0.00           C  \\nATOM    133  CB  GLU A  17      20.235  -5.559  13.985  1.00  0.00           C  \\nATOM    134  CG  GLU A  17      21.545  -4.779  13.705  1.00  0.00           C  \\nATOM    135  CD  GLU A  17      22.075  -4.009  14.915  1.00  0.00           C  \\nATOM    136  OE1 GLU A  17      21.795  -4.349  16.045  1.00  0.00           O  \\nATOM    137  OE2 GLU A  17      22.945  -3.199  14.765  1.00  0.00           O  \\nATOM    138  C   GLU A  17      18.515  -3.879  13.275  1.00  0.00           C  \\nATOM    139  O   GLU A  17      18.045  -4.489  12.335  1.00  0.00           O  \\nATOM    140  N   PRO A  18      18.535  -2.529  13.225  1.00  0.00           N  \\nATOM    141  CD  PRO A  18      18.905  -1.629  14.345  1.00  0.00           C  \\nATOM    142  CG  PRO A  18      19.005  -0.189  13.675  1.00  0.00           C  \\nATOM    143  CB  PRO A  18      18.035  -0.279  12.605  1.00  0.00           C  \\nATOM    144  CA  PRO A  18      17.945  -1.779  12.165  1.00  0.00           C  \\nATOM    145  C   PRO A  18      18.745  -1.889  10.865  1.00  0.00           C  \\nATOM    146  O   PRO A  18      19.695  -2.649  10.785  1.00  0.00           O  \\nATOM    147  N   GLY A  19      18.245  -1.259   9.805  1.00  0.00           N  \\nATOM    148  CA  GLY A  19      18.675  -1.459   8.355  1.00  0.00           C  \\nATOM    149  C   GLY A  19      18.355  -2.739   7.625  1.00  0.00           C  \\nATOM    150  O   GLY A  19      18.915  -2.899   6.555  1.00  0.00           O  \\nATOM    151  N   ASN A  20      17.365  -3.509   8.125  1.00  0.00           N  \\nATOM    152  CA  ASN A  20      17.005  -4.739   7.535  1.00  0.00           C  \\nATOM    153  CB  ASN A  20      17.775  -5.879   8.315  1.00  0.00           C  \\nATOM    154  CG  ASN A  20      17.515  -7.309   7.865  1.00  0.00           C  \\nATOM    155  OD1 ASN A  20      16.735  -7.619   6.935  1.00  0.00           O  \\nATOM    156  ND2 ASN A  20      18.145  -8.249   8.535  1.00  0.00           N  \\nATOM    157  C   ASN A  20      15.475  -4.899   7.645  1.00  0.00           C  \\nATOM    158  O   ASN A  20      14.855  -4.469   8.625  1.00  0.00           O  \\nATOM    159  N   ALA A  21      14.805  -5.399   6.635  1.00  0.00           N  \\nATOM    160  CA  ALA A  21      13.375  -5.609   6.565  1.00  0.00           C  \\nATOM    161  CB  ALA A  21      12.955  -6.039   5.145  1.00  0.00           C  \\nATOM    162  C   ALA A  21      12.765  -6.569   7.605  1.00  0.00           C  \\nATOM    163  O   ALA A  21      11.685  -6.229   8.155  1.00  0.00           O  \\nATOM    164  N   GLN A  22      13.495  -7.619   8.015  1.00  0.00           N  \\nATOM    165  CA  GLN A  22      12.945  -8.499   9.045  1.00  0.00           C  \\nATOM    166  CB  GLN A  22      13.775  -9.819   9.175  1.00  0.00           C  \\nATOM    167  CG  GLN A  22      15.075  -9.669  10.005  1.00  0.00           C  \\nATOM    168  CD  GLN A  22      15.995 -10.879  10.005  1.00  0.00           C  \\nATOM    169  OE1 GLN A  22      16.295 -11.579   9.035  1.00  0.00           O  \\nATOM    170  NE2 GLN A  22      16.595 -11.279  11.135  1.00  0.00           N  \\nATOM    171  C   GLN A  22      12.765  -7.859  10.405  1.00  0.00           C  \\nATOM    172  O   GLN A  22      11.935  -8.319  11.155  1.00  0.00           O  \\nATOM    173  N   SER A  23      13.605  -6.909  10.775  1.00  0.00           N  \\nATOM    174  CA  SER A  23      13.525  -6.049  12.005  1.00  0.00           C  \\nATOM    175  CB  SER A  23      14.775  -5.019  12.025  1.00  0.00           C  \\nATOM    176  OG  SER A  23      15.885  -5.789  11.695  1.00  0.00           O  \\nATOM    177  C   SER A  23      12.285  -5.129  12.005  1.00  0.00           C  \\nATOM    178  O   SER A  23      11.935  -4.599  13.055  1.00  0.00           O  \\nATOM    179  N   VAL A  24      11.555  -4.979  10.885  1.00  0.00           N  \\nATOM    180  CA  VAL A  24      10.245  -4.309  10.815  1.00  0.00           C  \\nATOM    181  CB  VAL A  24      10.225  -3.209   9.755  1.00  0.00           C  \\nATOM    182  CG1 VAL A  24       8.805  -2.569   9.535  1.00  0.00           C  \\nATOM    183  CG2 VAL A  24      11.255  -2.099  10.125  1.00  0.00           C  \\nATOM    184  C   VAL A  24       9.135  -5.299  10.585  1.00  0.00           C  \\nATOM    185  O   VAL A  24       8.205  -5.269  11.365  1.00  0.00           O  \\nATOM    186  N   LEU A  25       9.095  -6.069   9.495  1.00  0.00           N  \\nATOM    187  CA  LEU A  25       7.905  -6.939   9.235  1.00  0.00           C  \\nATOM    188  CB  LEU A  25       8.055  -7.619   7.855  1.00  0.00           C  \\nATOM    189  CG  LEU A  25       8.255  -6.649   6.695  1.00  0.00           C  \\nATOM    190  CD1 LEU A  25       8.495  -7.469   5.385  1.00  0.00           C  \\nATOM    191  CD2 LEU A  25       7.105  -5.709   6.295  1.00  0.00           C  \\nATOM    192  C   LEU A  25       7.585  -8.059  10.175  1.00  0.00           C  \\nATOM    193  O   LEU A  25       6.475  -8.599  10.085  1.00  0.00           O  \\nATOM    194  N   GLU A  26       8.485  -8.429  11.055  1.00  0.00           N  \\nATOM    195  CA  GLU A  26       8.205  -9.339  12.265  1.00  0.00           C  \\nATOM    196  CB  GLU A  26       9.475 -10.259  12.485  1.00  0.00           C  \\nATOM    197  CG  GLU A  26       9.385 -11.399  13.605  1.00  0.00           C  \\nATOM    198  CD  GLU A  26      10.815 -11.759  14.165  1.00  0.00           C  \\nATOM    199  OE1 GLU A  26      11.485 -10.909  14.645  1.00  0.00           O  \\nATOM    200  OE2 GLU A  26      11.115 -12.889  14.425  1.00  0.00           O  \\nATOM    201  C   GLU A  26       7.825  -8.489  13.495  1.00  0.00           C  \\nATOM    202  O   GLU A  26       6.825  -8.859  14.195  1.00  0.00           O  \\nATOM    203  N   ALA A  27       8.455  -7.279  13.635  1.00  0.00           N  \\nATOM    204  CA  ALA A  27       8.205  -6.289  14.715  1.00  0.00           C  \\nATOM    205  CB  ALA A  27       9.225  -5.189  14.605  1.00  0.00           C  \\nATOM    206  C   ALA A  27       6.795  -5.829  14.665  1.00  0.00           C  \\nATOM    207  O   ALA A  27       6.055  -5.919  15.665  1.00  0.00           O  \\nATOM    208  N   ILE A  28       6.285  -5.319  13.535  1.00  0.00           N  \\nATOM    209  CA  ILE A  28       4.955  -4.779  13.435  1.00  0.00           C  \\nATOM    210  CB  ILE A  28       4.755  -3.679  12.315  1.00  0.00           C  \\nATOM    211  CG2 ILE A  28       3.375  -2.959  12.535  1.00  0.00           C  \\nATOM    212  CG1 ILE A  28       5.845  -2.629  12.265  1.00  0.00           C  \\nATOM    213  CD1 ILE A  28       5.585  -1.369  11.315  1.00  0.00           C  \\nATOM    214  C   ILE A  28       3.995  -5.969  13.455  1.00  0.00           C  \\nATOM    215  O   ILE A  28       2.855  -5.799  13.855  1.00  0.00           O  \\nATOM    216  N   ASP A  29       4.335  -7.189  13.085  1.00  0.00           N  \\nATOM    217  CA  ASP A  29       3.435  -8.359  13.305  1.00  0.00           C  \\nATOM    218  CB  ASP A  29       3.735  -9.459  12.275  1.00  0.00           C  \\nATOM    219  CG  ASP A  29       2.995 -10.689  12.755  1.00  0.00           C  \\nATOM    220  OD1 ASP A  29       1.825 -10.709  12.385  1.00  0.00           O  \\nATOM    221  OD2 ASP A  29       3.615 -11.589  13.405  1.00  0.00           O  \\nATOM    222  C   ASP A  29       3.205  -8.759  14.815  1.00  0.00           C  \\nATOM    223  O   ASP A  29       2.075  -8.809  15.235  1.00  0.00           O  \\nATOM    224  N   THR A  30       4.295  -8.979  15.485  1.00  0.00           N  \\nATOM    225  CA  THR A  30       4.325  -9.099  16.945  1.00  0.00           C  \\nATOM    226  CB  THR A  30       5.775  -9.359  17.485  1.00  0.00           C  \\nATOM    227  CG2 THR A  30       6.245 -10.799  17.125  1.00  0.00           C  \\nATOM    228  OG1 THR A  30       6.715  -8.349  17.015  1.00  0.00           O  \\nATOM    229  C   THR A  30       3.835  -7.909  17.745  1.00  0.00           C  \\nATOM    230  O   THR A  30       3.385  -8.199  18.895  1.00  0.00           O  \\nATOM    231  N   TYR A  31       3.735  -6.709  17.205  1.00  0.00           N  \\nATOM    232  CA  TYR A  31       2.795  -5.759  17.845  1.00  0.00           C  \\nATOM    233  CB  TYR A  31       3.205  -4.289  17.575  1.00  0.00           C  \\nATOM    234  CG  TYR A  31       2.645  -3.199  18.495  1.00  0.00           C  \\nATOM    235  CD1 TYR A  31       3.295  -2.929  19.665  1.00  0.00           C  \\nATOM    236  CE1 TYR A  31       2.675  -2.119  20.605  1.00  0.00           C  \\nATOM    237  CZ  TYR A  31       1.395  -1.589  20.415  1.00  0.00           C  \\nATOM    238  OH  TYR A  31       0.845  -0.739  21.345  1.00  0.00           O  \\nATOM    239  CE2 TYR A  31       0.815  -1.819  19.145  1.00  0.00           C  \\nATOM    240  CD2 TYR A  31       1.365  -2.709  18.265  1.00  0.00           C  \\nATOM    241  C   TYR A  31       1.325  -6.069  17.605  1.00  0.00           C  \\nATOM    242  O   TYR A  31       0.565  -6.379  18.555  1.00  0.00           O  \\nATOM    243  N   CYS A  32       0.975  -6.069  16.285  1.00  0.00           N  \\nATOM    244  CA  CYS A  32      -0.445  -6.089  15.935  1.00  0.00           C  \\nATOM    245  CB  CYS A  32      -0.665  -5.819  14.475  1.00  0.00           C  \\nATOM    246  SG  CYS A  32      -0.155  -4.079  14.055  1.00  0.00           S  \\nATOM    247  C   CYS A  32      -1.135  -7.399  16.285  1.00  0.00           C  \\nATOM    248  O   CYS A  32      -2.375  -7.369  16.465  1.00  0.00           O  \\nATOM    249  N   GLU A  33      -0.455  -8.529  16.465  1.00  0.00           N  \\nATOM    250  CA  GLU A  33      -1.015  -9.769  16.925  1.00  0.00           C  \\nATOM    251  CB  GLU A  33      -0.165 -10.909  16.335  1.00  0.00           C  \\nATOM    252  CG  GLU A  33      -0.735 -12.309  16.635  1.00  0.00           C  \\nATOM    253  CD  GLU A  33      -0.225 -13.359  15.715  1.00  0.00           C  \\nATOM    254  OE1 GLU A  33      -0.985 -13.899  14.985  1.00  0.00           O  \\nATOM    255  OE2 GLU A  33       0.965 -13.689  15.705  1.00  0.00           O  \\nATOM    256  C   GLU A  33      -1.075  -9.709  18.445  1.00  0.00           C  \\nATOM    257  O   GLU A  33      -2.185  -9.929  18.955  1.00  0.00           O  \\nATOM    258  N   GLN A  34       0.065  -9.519  19.145  1.00  0.00           N  \\nATOM    259  CA  GLN A  34       0.275  -9.899  20.585  1.00  0.00           C  \\nATOM    260  CB  GLN A  34       1.735 -10.459  20.745  1.00  0.00           C  \\nATOM    261  CG  GLN A  34       2.075 -11.589  19.745  1.00  0.00           C  \\nATOM    262  CD  GLN A  34       3.435 -12.189  19.995  1.00  0.00           C  \\nATOM    263  OE1 GLN A  34       3.965 -12.129  21.045  1.00  0.00           O  \\nATOM    264  NE2 GLN A  34       4.025 -12.829  19.045  1.00  0.00           N  \\nATOM    265  C   GLN A  34      -0.015  -8.829  21.685  1.00  0.00           C  \\nATOM    266  O   GLN A  34      -0.225  -9.119  22.875  1.00  0.00           O  \\nATOM    267  N   LYS A  35       0.015  -7.529  21.295  1.00  0.00           N  \\nATOM    268  CA  LYS A  35       0.105  -6.339  22.105  1.00  0.00           C  \\nATOM    269  CB  LYS A  35       1.435  -5.649  21.915  1.00  0.00           C  \\nATOM    270  CG  LYS A  35       2.675  -6.419  22.465  1.00  0.00           C  \\nATOM    271  CD  LYS A  35       4.025  -5.659  22.335  1.00  0.00           C  \\nATOM    272  CE  LYS A  35       5.085  -6.239  23.355  1.00  0.00           C  \\nATOM    273  NZ  LYS A  35       6.415  -5.539  23.285  1.00  0.00           N  \\nATOM    274  C   LYS A  35      -1.135  -5.419  22.025  1.00  0.00           C  \\nATOM    275  O   LYS A  35      -1.885  -5.329  22.965  1.00  0.00           O  \\nATOM    276  N   GLU A  36      -1.335  -4.799  20.865  1.00  0.00           N  \\nATOM    277  CA  GLU A  36      -2.515  -4.079  20.435  1.00  0.00           C  \\nATOM    278  CB  GLU A  36      -2.485  -2.679  21.115  1.00  0.00           C  \\nATOM    279  CG  GLU A  36      -2.995  -1.569  20.215  1.00  0.00           C  \\nATOM    280  CD  GLU A  36      -2.705  -0.249  20.915  1.00  0.00           C  \\nATOM    281  OE1 GLU A  36      -3.625   0.511  21.135  1.00  0.00           O  \\nATOM    282  OE2 GLU A  36      -1.595   0.191  21.005  1.00  0.00           O  \\nATOM    283  C   GLU A  36      -2.755  -4.099  19.015  1.00  0.00           C  \\nATOM    284  O   GLU A  36      -1.855  -4.079  18.205  1.00  0.00           O  \\nATOM    285  N   TRP A  37      -4.045  -4.209  18.615  1.00  0.00           N  \\nATOM    286  CA  TRP A  37      -4.515  -4.029  17.185  1.00  0.00           C  \\nATOM    287  CB  TRP A  37      -6.015  -4.039  17.065  1.00  0.00           C  \\nATOM    288  CG  TRP A  37      -6.525  -3.919  15.675  1.00  0.00           C  \\nATOM    289  CD1 TRP A  37      -6.665  -4.939  14.795  1.00  0.00           C  \\nATOM    290  NE1 TRP A  37      -7.135  -4.409  13.605  1.00  0.00           N  \\nATOM    291  CE2 TRP A  37      -7.255  -3.049  13.625  1.00  0.00           C  \\nATOM    292  CZ2 TRP A  37      -7.805  -2.079  12.825  1.00  0.00           C  \\nATOM    293  CH2 TRP A  37      -7.905  -0.739  13.205  1.00  0.00           C  \\nATOM    294  CZ3 TRP A  37      -7.375  -0.429  14.525  1.00  0.00           C  \\nATOM    295  CE3 TRP A  37      -7.005  -1.349  15.465  1.00  0.00           C  \\nATOM    296  CD2 TRP A  37      -6.945  -2.699  15.015  1.00  0.00           C  \\nATOM    297  C   TRP A  37      -4.035  -2.669  16.595  1.00  0.00           C  \\nATOM    298  O   TRP A  37      -4.215  -1.659  17.205  1.00  0.00           O  \\nATOM    299  N   ALA A  38      -3.575  -2.629  15.315  1.00  0.00           N  \\nATOM    300  CA  ALA A  38      -3.475  -1.499  14.405  1.00  0.00           C  \\nATOM    301  CB  ALA A  38      -2.115  -0.869  14.365  1.00  0.00           C  \\nATOM    302  C   ALA A  38      -3.795  -1.939  12.925  1.00  0.00           C  \\nATOM    303  O   ALA A  38      -3.715  -3.089  12.535  1.00  0.00           O  \\nATOM    304  N   MET A  39      -4.075  -0.959  12.055  1.00  0.00           N  \\nATOM    305  CA  MET A  39      -4.625  -1.189  10.705  1.00  0.00           C  \\nATOM    306  CB  MET A  39      -5.555   0.021  10.375  1.00  0.00           C  \\nATOM    307  CG  MET A  39      -4.815   1.371  10.185  1.00  0.00           C  \\nATOM    308  SD  MET A  39      -5.845   2.651   9.645  1.00  0.00           S  \\nATOM    309  CE  MET A  39      -6.315   3.351  11.205  1.00  0.00           C  \\nATOM    310  C   MET A  39      -3.575  -1.519   9.645  1.00  0.00           C  \\nATOM    311  O   MET A  39      -3.655  -1.139   8.465  1.00  0.00           O  \\nATOM    312  N   ASN A  40      -2.595  -2.339  10.055  1.00  0.00           N  \\nATOM    313  CA  ASN A  40      -1.435  -2.879   9.305  1.00  0.00           C  \\nATOM    314  CB  ASN A  40      -0.495  -3.369  10.485  1.00  0.00           C  \\nATOM    315  CG  ASN A  40       0.625  -4.259   9.985  1.00  0.00           C  \\nATOM    316  OD1 ASN A  40       0.855  -4.459   8.815  1.00  0.00           O  \\nATOM    317  ND2 ASN A  40       1.135  -5.049  10.855  1.00  0.00           N  \\nATOM    318  C   ASN A  40      -1.995  -4.029   8.465  1.00  0.00           C  \\nATOM    319  O   ASN A  40      -2.755  -4.839   9.015  1.00  0.00           O  \\nATOM    320  N   VAL A  41      -1.455  -4.199   7.255  1.00  0.00           N  \\nATOM    321  CA  VAL A  41      -1.945  -5.249   6.355  1.00  0.00           C  \\nATOM    322  CB  VAL A  41      -1.335  -5.179   4.885  1.00  0.00           C  \\nATOM    323  CG1 VAL A  41      -1.975  -4.079   4.035  1.00  0.00           C  \\nATOM    324  CG2 VAL A  41       0.105  -5.329   4.745  1.00  0.00           C  \\nATOM    325  C   VAL A  41      -1.685  -6.639   6.815  1.00  0.00           C  \\nATOM    326  O   VAL A  41      -2.495  -7.539   6.545  1.00  0.00           O  \\nATOM    327  N   GLY A  42      -0.605  -6.839   7.655  1.00  0.00           N  \\nATOM    328  CA  GLY A  42      -0.155  -8.199   8.045  1.00  0.00           C  \\nATOM    329  C   GLY A  42       0.405  -9.039   6.925  1.00  0.00           C  \\nATOM    330  O   GLY A  42       0.445  -8.679   5.755  1.00  0.00           O  \\nATOM    331  N   ASP A  43       0.835 -10.249   7.245  1.00  0.00           N  \\nATOM    332  CA  ASP A  43       1.505 -11.249   6.365  1.00  0.00           C  \\nATOM    333  CB  ASP A  43       2.365 -12.279   7.165  1.00  0.00           C  \\nATOM    334  CG  ASP A  43       3.345 -12.909   6.245  1.00  0.00           C  \\nATOM    335  OD1 ASP A  43       4.385 -12.299   6.115  1.00  0.00           O  \\nATOM    336  OD2 ASP A  43       3.315 -14.129   5.985  1.00  0.00           O  \\nATOM    337  C   ASP A  43       0.505 -11.919   5.455  1.00  0.00           C  \\nATOM    338  O   ASP A  43       0.825 -12.249   4.335  1.00  0.00           O  \\nATOM    339  N   LYS A  44      -0.715 -12.269   5.935  1.00  0.00           N  \\nATOM    340  CA  LYS A  44      -1.695 -12.879   5.035  1.00  0.00           C  \\nATOM    341  CB  LYS A  44      -2.775 -13.489   5.895  1.00  0.00           C  \\nATOM    342  CG  LYS A  44      -2.475 -14.909   6.425  1.00  0.00           C  \\nATOM    343  CD  LYS A  44      -1.595 -14.959   7.695  1.00  0.00           C  \\nATOM    344  CE  LYS A  44      -1.805 -16.229   8.475  1.00  0.00           C  \\nATOM    345  NZ  LYS A  44      -1.295 -16.239   9.865  1.00  0.00           N  \\nATOM    346  C   LYS A  44      -2.185 -12.039   3.885  1.00  0.00           C  \\nATOM    347  O   LYS A  44      -2.405 -12.609   2.795  1.00  0.00           O  \\nATOM    348  N   LYS A  45      -2.245 -10.679   4.045  1.00  0.00           N  \\nATOM    349  CA  LYS A  45      -2.365  -9.779   2.915  1.00  0.00           C  \\nATOM    350  CB  LYS A  45      -3.245  -8.549   3.265  1.00  0.00           C  \\nATOM    351  CG  LYS A  45      -4.575  -8.969   3.855  1.00  0.00           C  \\nATOM    352  CD  LYS A  45      -5.515  -7.739   4.045  1.00  0.00           C  \\nATOM    353  CE  LYS A  45      -6.955  -8.199   4.195  1.00  0.00           C  \\nATOM    354  NZ  LYS A  45      -8.005  -7.059   4.165  1.00  0.00           N  \\nATOM    355  C   LYS A  45      -1.025  -9.409   2.375  1.00  0.00           C  \\nATOM    356  O   LYS A  45      -0.985  -9.399   1.125  1.00  0.00           O  \\nATOM    357  N   GLY A  46       0.025  -9.329   3.135  1.00  0.00           N  \\nATOM    358  CA  GLY A  46       1.415  -9.319   2.565  1.00  0.00           C  \\nATOM    359  C   GLY A  46       1.825 -10.209   1.445  1.00  0.00           C  \\nATOM    360  O   GLY A  46       2.475  -9.799   0.465  1.00  0.00           O  \\nATOM    361  N   LYS A  47       1.405 -11.469   1.555  1.00  0.00           N  \\nATOM    362  CA  LYS A  47       1.765 -12.549   0.575  1.00  0.00           C  \\nATOM    363  CB  LYS A  47       1.285 -13.889   1.135  1.00  0.00           C  \\nATOM    364  CG  LYS A  47       1.665 -15.189   0.405  1.00  0.00           C  \\nATOM    365  CD  LYS A  47       3.175 -15.149   0.145  1.00  0.00           C  \\nATOM    366  CE  LYS A  47       3.685 -16.499  -0.415  1.00  0.00           C  \\nATOM    367  NZ  LYS A  47       5.265 -16.459  -0.535  1.00  0.00           N  \\nATOM    368  C   LYS A  47       1.135 -12.329  -0.855  1.00  0.00           C  \\nATOM    369  O   LYS A  47       1.735 -12.719  -1.815  1.00  0.00           O  \\nATOM    370  N   ILE A  48       0.025 -11.609  -0.885  1.00  0.00           N  \\nATOM    371  CA  ILE A  48      -0.705 -11.269  -2.135  1.00  0.00           C  \\nATOM    372  CB  ILE A  48      -2.225 -11.159  -1.835  1.00  0.00           C  \\nATOM    373  CG2 ILE A  48      -3.035 -10.759  -3.095  1.00  0.00           C  \\nATOM    374  CG1 ILE A  48      -2.785 -12.559  -1.295  1.00  0.00           C  \\nATOM    375  CD1 ILE A  48      -4.255 -12.529  -0.845  1.00  0.00           C  \\nATOM    376  C   ILE A  48      -0.055  -9.969  -2.665  1.00  0.00           C  \\nATOM    377  O   ILE A  48       0.015  -9.749  -3.885  1.00  0.00           O  \\nATOM    378  N   VAL A  49       0.385  -9.059  -1.795  1.00  0.00           N  \\nATOM    379  CA  VAL A  49       1.235  -7.909  -2.195  1.00  0.00           C  \\nATOM    380  CB  VAL A  49       1.295  -6.899  -0.995  1.00  0.00           C  \\nATOM    381  CG1 VAL A  49       2.245  -5.719  -1.335  1.00  0.00           C  \\nATOM    382  CG2 VAL A  49      -0.075  -6.319  -0.605  1.00  0.00           C  \\nATOM    383  C   VAL A  49       2.645  -8.329  -2.755  1.00  0.00           C  \\nATOM    384  O   VAL A  49       3.205  -7.659  -3.585  1.00  0.00           O  \\nATOM    385  N   ASP A  50       3.185  -9.449  -2.345  1.00  0.00           N  \\nATOM    386  CA  ASP A  50       4.535  -9.909  -2.835  1.00  0.00           C  \\nATOM    387  CB  ASP A  50       5.015 -11.119  -2.075  1.00  0.00           C  \\nATOM    388  CG  ASP A  50       5.485 -10.979  -0.615  1.00  0.00           C  \\nATOM    389  OD1 ASP A  50       5.375 -11.949   0.035  1.00  0.00           O  \\nATOM    390  OD2 ASP A  50       5.895  -9.899  -0.135  1.00  0.00           O  \\nATOM    391  C   ASP A  50       4.375 -10.339  -4.285  1.00  0.00           C  \\nATOM    392  O   ASP A  50       5.275 -10.189  -5.135  1.00  0.00           O  \\nATOM    393  N   ALA A  51       3.265 -11.059  -4.505  1.00  0.00           N  \\nATOM    394  CA  ALA A  51       2.975 -11.739  -5.815  1.00  0.00           C  \\nATOM    395  CB  ALA A  51       1.955 -12.849  -5.435  1.00  0.00           C  \\nATOM    396  C   ALA A  51       2.545 -10.869  -6.955  1.00  0.00           C  \\nATOM    397  O   ALA A  51       2.275 -11.399  -8.055  1.00  0.00           O  \\nATOM    398  N   VAL A  52       2.605  -9.569  -6.825  1.00  0.00           N  \\nATOM    399  CA  VAL A  52       2.525  -8.469  -7.835  1.00  0.00           C  \\nATOM    400  CB  VAL A  52       1.455  -7.369  -7.635  1.00  0.00           C  \\nATOM    401  CG1 VAL A  52       0.055  -7.979  -7.705  1.00  0.00           C  \\nATOM    402  CG2 VAL A  52       1.635  -6.659  -6.265  1.00  0.00           C  \\nATOM    403  C   VAL A  52       3.865  -7.779  -8.125  1.00  0.00           C  \\nATOM    404  O   VAL A  52       3.885  -7.059  -9.105  1.00  0.00           O  \\nATOM    405  N   ILE A  53       4.875  -7.909  -7.235  1.00  0.00           N  \\nATOM    406  CA  ILE A  53       6.255  -7.449  -7.575  1.00  0.00           C  \\nATOM    407  CB  ILE A  53       6.825  -6.819  -6.295  1.00  0.00           C  \\nATOM    408  CG2 ILE A  53       8.175  -6.029  -6.605  1.00  0.00           C  \\nATOM    409  CG1 ILE A  53       5.905  -5.829  -5.585  1.00  0.00           C  \\nATOM    410  CD1 ILE A  53       5.575  -4.549  -6.315  1.00  0.00           C  \\nATOM    411  C   ILE A  53       7.225  -8.599  -7.955  1.00  0.00           C  \\nATOM    412  O   ILE A  53       8.135  -8.399  -8.755  1.00  0.00           O  \\nATOM    413  N   GLN A  54       6.995  -9.809  -7.535  1.00  0.00           N  \\nATOM    414  CA  GLN A  54       8.035 -10.889  -7.515  1.00  0.00           C  \\nATOM    415  CB  GLN A  54       7.605 -12.129  -6.685  1.00  0.00           C  \\nATOM    416  CG  GLN A  54       6.475 -13.019  -7.425  1.00  0.00           C  \\nATOM    417  CD  GLN A  54       5.875 -14.049  -6.525  1.00  0.00           C  \\nATOM    418  OE1 GLN A  54       6.375 -14.449  -5.465  1.00  0.00           O  \\nATOM    419  NE2 GLN A  54       4.725 -14.479  -7.015  1.00  0.00           N  \\nATOM    420  C   GLN A  54       8.485 -11.369  -8.925  1.00  0.00           C  \\nATOM    421  O   GLN A  54       9.595 -11.789  -9.065  1.00  0.00           O  \\nATOM    422  N   GLU A  55       7.695 -11.209  -9.985  1.00  0.00           N  \\nATOM    423  CA  GLU A  55       8.145 -11.379 -11.405  1.00  0.00           C  \\nATOM    424  CB  GLU A  55       7.865 -12.849 -11.915  1.00  0.00           C  \\nATOM    425  CG  GLU A  55       6.455 -13.489 -11.565  1.00  0.00           C  \\nATOM    426  CD  GLU A  55       6.115 -14.799 -12.395  1.00  0.00           C  \\nATOM    427  OE1 GLU A  55       6.605 -15.879 -12.065  1.00  0.00           O  \\nATOM    428  OE2 GLU A  55       5.325 -14.629 -13.315  1.00  0.00           O  \\nATOM    429  C   GLU A  55       7.755 -10.349 -12.415  1.00  0.00           C  \\nATOM    430  O   GLU A  55       8.045 -10.409 -13.615  1.00  0.00           O  \\nATOM    431  N   HIE A  56       7.125  -9.269 -11.855  1.00  0.00           N  \\nATOM    432  CA  HIE A  56       6.745  -8.119 -12.605  1.00  0.00           C  \\nATOM    433  CB  HIE A  56       5.435  -7.619 -11.985  1.00  0.00           C  \\nATOM    434  CG  HIE A  56       4.865  -6.419 -12.725  1.00  0.00           C  \\nATOM    435  ND1 HIE A  56       4.675  -6.149 -14.065  1.00  0.00           N  \\nATOM    436  CE1 HIE A  56       3.955  -5.049 -14.195  1.00  0.00           C  \\nATOM    437  NE2 HIE A  56       3.755  -4.569 -12.925  1.00  0.00           N  \\nATOM    438  CD2 HIE A  56       4.285  -5.379 -12.015  1.00  0.00           C  \\nATOM    439  C   HIE A  56       7.935  -7.139 -12.785  1.00  0.00           C  \\nATOM    440  O   HIE A  56       8.105  -6.579 -13.845  1.00  0.00           O  \\nATOM    441  N   GLN A  57       8.715  -6.909 -11.695  1.00  0.00           N  \\nATOM    442  CA  GLN A  57       9.885  -6.089 -11.735  1.00  0.00           C  \\nATOM    443  CB  GLN A  57      11.055  -6.669 -12.605  1.00  0.00           C  \\nATOM    444  CG  GLN A  57      12.315  -5.879 -12.355  1.00  0.00           C  \\nATOM    445  CD  GLN A  57      13.555  -6.329 -13.005  1.00  0.00           C  \\nATOM    446  OE1 GLN A  57      13.915  -5.929 -14.105  1.00  0.00           O  \\nATOM    447  NE2 GLN A  57      14.245  -7.259 -12.425  1.00  0.00           N  \\nATOM    448  C   GLN A  57       9.495  -4.639 -12.155  1.00  0.00           C  \\nATOM    449  O   GLN A  57       9.755  -4.289 -13.305  1.00  0.00           O  \\nATOM    450  N   PRO A  58       8.755  -3.879 -11.295  1.00  0.00           N  \\nATOM    451  CD  PRO A  58       8.355  -4.339  -9.925  1.00  0.00           C  \\nATOM    452  CG  PRO A  58       7.505  -3.179  -9.405  1.00  0.00           C  \\nATOM    453  CB  PRO A  58       7.035  -2.399 -10.655  1.00  0.00           C  \\nATOM    454  CA  PRO A  58       8.175  -2.639 -11.665  1.00  0.00           C  \\nATOM    455  C   PRO A  58       9.315  -1.599 -11.715  1.00  0.00           C  \\nATOM    456  O   PRO A  58      10.115  -1.619 -10.765  1.00  0.00           O  \\nATOM    457  N   SER A  59       9.475  -0.719 -12.725  1.00  0.00           N  \\nATOM    458  CA  SER A  59      10.425   0.431 -12.875  1.00  0.00           C  \\nATOM    459  CB  SER A  59      10.445   0.941 -14.315  1.00  0.00           C  \\nATOM    460  OG  SER A  59       9.225   1.521 -14.845  1.00  0.00           O  \\nATOM    461  C   SER A  59      10.005   1.591 -11.925  1.00  0.00           C  \\nATOM    462  O   SER A  59      10.875   2.091 -11.155  1.00  0.00           O  \\nATOM    463  N   VAL A  60       8.745   1.941 -11.885  1.00  0.00           N  \\nATOM    464  CA  VAL A  60       8.055   2.841 -10.885  1.00  0.00           C  \\nATOM    465  CB  VAL A  60       8.015   4.321 -11.385  1.00  0.00           C  \\nATOM    466  CG1 VAL A  60       9.465   4.831 -11.535  1.00  0.00           C  \\nATOM    467  CG2 VAL A  60       7.325   4.671 -12.715  1.00  0.00           C  \\nATOM    468  C   VAL A  60       6.605   2.511 -10.625  1.00  0.00           C  \\nATOM    469  O   VAL A  60       5.875   2.231 -11.595  1.00  0.00           O  \\nATOM    470  N   LEU A  61       6.145   2.771  -9.405  1.00  0.00           N  \\nATOM    471  CA  LEU A  61       4.875   2.341  -8.775  1.00  0.00           C  \\nATOM    472  CB  LEU A  61       5.055   0.851  -8.405  1.00  0.00           C  \\nATOM    473  CG  LEU A  61       6.215   0.621  -7.365  1.00  0.00           C  \\nATOM    474  CD1 LEU A  61       5.985  -0.759  -6.715  1.00  0.00           C  \\nATOM    475  CD2 LEU A  61       7.615   0.411  -8.095  1.00  0.00           C  \\nATOM    476  C   LEU A  61       4.445   3.271  -7.615  1.00  0.00           C  \\nATOM    477  O   LEU A  61       5.325   4.061  -7.095  1.00  0.00           O  \\nATOM    478  N   LEU A  62       3.105   3.221  -7.335  1.00  0.00           N  \\nATOM    479  CA  LEU A  62       2.365   3.951  -6.295  1.00  0.00           C  \\nATOM    480  CB  LEU A  62       1.295   4.841  -6.975  1.00  0.00           C  \\nATOM    481  CG  LEU A  62       0.605   5.901  -6.095  1.00  0.00           C  \\nATOM    482  CD1 LEU A  62       1.655   6.911  -5.505  1.00  0.00           C  \\nATOM    483  CD2 LEU A  62      -0.505   6.591  -6.885  1.00  0.00           C  \\nATOM    484  C   LEU A  62       1.845   2.981  -5.215  1.00  0.00           C  \\nATOM    485  O   LEU A  62       1.325   1.901  -5.555  1.00  0.00           O  \\nATOM    486  N   GLU A  63       1.715   3.521  -3.955  1.00  0.00           N  \\nATOM    487  CA  GLU A  63       0.835   2.931  -2.865  1.00  0.00           C  \\nATOM    488  CB  GLU A  63       1.815   2.361  -1.785  1.00  0.00           C  \\nATOM    489  CG  GLU A  63       1.085   2.001  -0.475  1.00  0.00           C  \\nATOM    490  CD  GLU A  63       1.925   1.281   0.645  1.00  0.00           C  \\nATOM    491  OE1 GLU A  63       1.485   0.271   1.085  1.00  0.00           O  \\nATOM    492  OE2 GLU A  63       2.955   1.841   0.965  1.00  0.00           O  \\nATOM    493  C   GLU A  63       0.015   4.041  -2.295  1.00  0.00           C  \\nATOM    494  O   GLU A  63       0.565   5.141  -2.065  1.00  0.00           O  \\nATOM    495  N   LEU A  64      -1.255   3.841  -1.995  1.00  0.00           N  \\nATOM    496  CA  LEU A  64      -2.145   4.891  -1.445  1.00  0.00           C  \\nATOM    497  CB  LEU A  64      -3.295   5.181  -2.425  1.00  0.00           C  \\nATOM    498  CG  LEU A  64      -2.835   5.861  -3.695  1.00  0.00           C  \\nATOM    499  CD1 LEU A  64      -4.055   6.171  -4.515  1.00  0.00           C  \\nATOM    500  CD2 LEU A  64      -2.175   7.231  -3.445  1.00  0.00           C  \\nATOM    501  C   LEU A  64      -2.635   4.401  -0.025  1.00  0.00           C  \\nATOM    502  O   LEU A  64      -3.255   3.401   0.125  1.00  0.00           O  \\nATOM    503  N   GLY A  65      -2.405   5.261   0.985  1.00  0.00           N  \\nATOM    504  CA  GLY A  65      -2.585   5.001   2.345  1.00  0.00           C  \\nATOM    505  C   GLY A  65      -1.405   4.181   2.905  1.00  0.00           C  \\nATOM    506  O   GLY A  65      -1.285   2.951   2.805  1.00  0.00           O  \\nATOM    507  N   ALA A  66      -0.555   4.861   3.675  1.00  0.00           N  \\nATOM    508  CA  ALA A  66       0.795   4.341   4.145  1.00  0.00           C  \\nATOM    509  CB  ALA A  66       1.865   5.451   3.995  1.00  0.00           C  \\nATOM    510  C   ALA A  66       0.785   3.941   5.615  1.00  0.00           C  \\nATOM    511  O   ALA A  66       1.375   2.991   6.015  1.00  0.00           O  \\nATOM    512  N   TYR A  67      -0.035   4.631   6.475  1.00  0.00           N  \\nATOM    513  CA  TYR A  67      -0.255   4.481   7.935  1.00  0.00           C  \\nATOM    514  CB  TYR A  67      -1.335   3.471   8.275  1.00  0.00           C  \\nATOM    515  CG  TYR A  67      -1.535   3.381   9.795  1.00  0.00           C  \\nATOM    516  CD1 TYR A  67      -1.705   4.551  10.515  1.00  0.00           C  \\nATOM    517  CE1 TYR A  67      -1.725   4.551  11.915  1.00  0.00           C  \\nATOM    518  CZ  TYR A  67      -1.455   3.301  12.545  1.00  0.00           C  \\nATOM    519  OH  TYR A  67      -1.565   3.361  13.885  1.00  0.00           O  \\nATOM    520  CE2 TYR A  67      -1.225   2.091  11.805  1.00  0.00           C  \\nATOM    521  CD2 TYR A  67      -1.215   2.131  10.455  1.00  0.00           C  \\nATOM    522  C   TYR A  67       0.995   4.211   8.775  1.00  0.00           C  \\nATOM    523  O   TYR A  67       1.555   5.161   9.335  1.00  0.00           O  \\nATOM    524  N   CYS A  68       1.495   2.931   8.885  1.00  0.00           N  \\nATOM    525  CA  CYS A  68       2.675   2.541   9.615  1.00  0.00           C  \\nATOM    526  CB  CYS A  68       2.325   1.691  10.935  1.00  0.00           C  \\nATOM    527  SG  CYS A  68       1.495   0.071  10.435  1.00  0.00           S  \\nATOM    528  C   CYS A  68       3.795   1.881   8.775  1.00  0.00           C  \\nATOM    529  O   CYS A  68       4.745   1.421   9.365  1.00  0.00           O  \\nATOM    530  N   GLY A  69       3.615   1.741   7.435  1.00  0.00           N  \\nATOM    531  CA  GLY A  69       4.745   1.621   6.475  1.00  0.00           C  \\nATOM    532  C   GLY A  69       5.415   0.181   6.435  1.00  0.00           C  \\nATOM    533  O   GLY A  69       6.315  -0.029   5.695  1.00  0.00           O  \\nATOM    534  N   TYR A  70       4.825  -0.849   7.095  1.00  0.00           N  \\nATOM    535  CA  TYR A  70       4.935  -2.279   6.815  1.00  0.00           C  \\nATOM    536  CB  TYR A  70       3.855  -3.119   7.465  1.00  0.00           C  \\nATOM    537  CG  TYR A  70       3.855  -4.599   7.225  1.00  0.00           C  \\nATOM    538  CD1 TYR A  70       4.235  -5.459   8.255  1.00  0.00           C  \\nATOM    539  CE1 TYR A  70       4.275  -6.819   7.965  1.00  0.00           C  \\nATOM    540  CZ  TYR A  70       3.795  -7.329   6.765  1.00  0.00           C  \\nATOM    541  OH  TYR A  70       3.655  -8.699   6.635  1.00  0.00           O  \\nATOM    542  CE2 TYR A  70       3.415  -6.469   5.765  1.00  0.00           C  \\nATOM    543  CD2 TYR A  70       3.495  -5.139   5.975  1.00  0.00           C  \\nATOM    544  C   TYR A  70       4.825  -2.489   5.325  1.00  0.00           C  \\nATOM    545  O   TYR A  70       5.525  -3.299   4.715  1.00  0.00           O  \\nATOM    546  N   SER A  71       3.875  -1.829   4.665  1.00  0.00           N  \\nATOM    547  CA  SER A  71       3.345  -2.119   3.345  1.00  0.00           C  \\nATOM    548  CB  SER A  71       1.885  -1.659   3.325  1.00  0.00           C  \\nATOM    549  OG  SER A  71       1.725  -0.229   3.435  1.00  0.00           O  \\nATOM    550  C   SER A  71       4.255  -1.479   2.295  1.00  0.00           C  \\nATOM    551  O   SER A  71       4.405  -2.119   1.225  1.00  0.00           O  \\nATOM    552  N   ALA A  72       4.985  -0.399   2.605  1.00  0.00           N  \\nATOM    553  CA  ALA A  72       6.175   0.171   1.835  1.00  0.00           C  \\nATOM    554  CB  ALA A  72       6.585   1.601   2.365  1.00  0.00           C  \\nATOM    555  C   ALA A  72       7.315  -0.789   1.875  1.00  0.00           C  \\nATOM    556  O   ALA A  72       7.755  -1.289   0.825  1.00  0.00           O  \\nATOM    557  N   VAL A  73       7.715  -1.239   3.045  1.00  0.00           N  \\nATOM    558  CA  VAL A  73       8.805  -2.149   3.285  1.00  0.00           C  \\nATOM    559  CB  VAL A  73       9.055  -2.279   4.795  1.00  0.00           C  \\nATOM    560  CG1 VAL A  73      10.195  -3.299   5.155  1.00  0.00           C  \\nATOM    561  CG2 VAL A  73       9.465  -0.929   5.375  1.00  0.00           C  \\nATOM    562  C   VAL A  73       8.515  -3.559   2.735  1.00  0.00           C  \\nATOM    563  O   VAL A  73       9.475  -4.159   2.205  1.00  0.00           O  \\nATOM    564  N   ARG A  74       7.225  -3.979   2.625  1.00  0.00           N  \\nATOM    565  CA  ARG A  74       6.905  -5.279   1.975  1.00  0.00           C  \\nATOM    566  CB  ARG A  74       5.315  -5.519   2.065  1.00  0.00           C  \\nATOM    567  CG  ARG A  74       4.895  -6.919   1.685  1.00  0.00           C  \\nATOM    568  CD  ARG A  74       5.465  -7.969   2.665  1.00  0.00           C  \\nATOM    569  NE  ARG A  74       4.935  -9.269   2.275  1.00  0.00           N  \\nATOM    570  CZ  ARG A  74       4.885 -10.339   3.075  1.00  0.00           C  \\nATOM    571  NH1 ARG A  74       4.835 -10.209   4.365  1.00  0.00           N  \\nATOM    572  NH2 ARG A  74       4.825 -11.519   2.585  1.00  0.00           N  \\nATOM    573  C   ARG A  74       7.275  -5.299   0.525  1.00  0.00           C  \\nATOM    574  O   ARG A  74       7.895  -6.209   0.065  1.00  0.00           O  \\nATOM    575  N   MET A  75       6.815  -4.289  -0.235  1.00  0.00           N  \\nATOM    576  CA  MET A  75       7.075  -4.229  -1.685  1.00  0.00           C  \\nATOM    577  CB  MET A  75       6.155  -3.159  -2.335  1.00  0.00           C  \\nATOM    578  CG  MET A  75       4.625  -3.629  -2.275  1.00  0.00           C  \\nATOM    579  SD  MET A  75       3.465  -2.729  -3.295  1.00  0.00           S  \\nATOM    580  CE  MET A  75       2.895  -1.659  -1.935  1.00  0.00           C  \\nATOM    581  C   MET A  75       8.505  -3.849  -1.915  1.00  0.00           C  \\nATOM    582  O   MET A  75       9.165  -4.319  -2.845  1.00  0.00           O  \\nATOM    583  N   ALA A  76       9.015  -2.919  -1.185  1.00  0.00           N  \\nATOM    584  CA  ALA A  76      10.395  -2.359  -1.365  1.00  0.00           C  \\nATOM    585  CB  ALA A  76      10.685  -1.289  -0.255  1.00  0.00           C  \\nATOM    586  C   ALA A  76      11.505  -3.369  -1.335  1.00  0.00           C  \\nATOM    587  O   ALA A  76      12.315  -3.419  -2.225  1.00  0.00           O  \\nATOM    588  N   ARG A  77      11.505  -4.329  -0.365  1.00  0.00           N  \\nATOM    589  CA  ARG A  77      12.515  -5.469  -0.285  1.00  0.00           C  \\nATOM    590  CB  ARG A  77      12.375  -6.399   0.975  1.00  0.00           C  \\nATOM    591  CG  ARG A  77      11.265  -7.399   0.895  1.00  0.00           C  \\nATOM    592  CD  ARG A  77      10.965  -8.119   2.185  1.00  0.00           C  \\nATOM    593  NE  ARG A  77      10.275  -9.429   1.985  1.00  0.00           N  \\nATOM    594  CZ  ARG A  77       9.125  -9.759   1.345  1.00  0.00           C  \\nATOM    595  NH1 ARG A  77       8.345  -8.989   0.645  1.00  0.00           N  \\nATOM    596  NH2 ARG A  77       8.695 -10.969   1.325  1.00  0.00           N  \\nATOM    597  C   ARG A  77      12.565  -6.239  -1.585  1.00  0.00           C  \\nATOM    598  O   ARG A  77      13.635  -6.699  -1.985  1.00  0.00           O  \\nATOM    599  N   LEU A  78      11.545  -6.359  -2.355  1.00  0.00           N  \\nATOM    600  CA  LEU A  78      11.465  -6.999  -3.665  1.00  0.00           C  \\nATOM    601  CB  LEU A  78       9.965  -7.459  -3.975  1.00  0.00           C  \\nATOM    602  CG  LEU A  78       9.555  -8.629  -2.975  1.00  0.00           C  \\nATOM    603  CD1 LEU A  78       8.135  -8.449  -2.625  1.00  0.00           C  \\nATOM    604  CD2 LEU A  78       9.615  -9.979  -3.645  1.00  0.00           C  \\nATOM    605  C   LEU A  78      11.795  -6.129  -4.865  1.00  0.00           C  \\nATOM    606  O   LEU A  78      12.025  -6.639  -5.965  1.00  0.00           O  \\nATOM    607  N   LEU A  79      11.935  -4.819  -4.745  1.00  0.00           N  \\nATOM    608  CA  LEU A  79      12.335  -3.949  -5.865  1.00  0.00           C  \\nATOM    609  CB  LEU A  79      12.095  -2.449  -5.595  1.00  0.00           C  \\nATOM    610  CG  LEU A  79      10.505  -2.129  -5.365  1.00  0.00           C  \\nATOM    611  CD1 LEU A  79      10.265  -0.639  -5.035  1.00  0.00           C  \\nATOM    612  CD2 LEU A  79       9.525  -2.549  -6.475  1.00  0.00           C  \\nATOM    613  C   LEU A  79      13.775  -4.119  -6.355  1.00  0.00           C  \\nATOM    614  O   LEU A  79      14.675  -4.579  -5.605  1.00  0.00           O  \\nATOM    615  N   SER A  80      14.045  -3.709  -7.585  1.00  0.00           N  \\nATOM    616  CA  SER A  80      15.365  -3.929  -8.205  1.00  0.00           C  \\nATOM    617  CB  SER A  80      15.115  -4.579  -9.615  1.00  0.00           C  \\nATOM    618  OG  SER A  80      14.175  -3.769 -10.365  1.00  0.00           O  \\nATOM    619  C   SER A  80      16.125  -2.629  -8.265  1.00  0.00           C  \\nATOM    620  O   SER A  80      15.535  -1.549  -8.015  1.00  0.00           O  \\nATOM    621  N   PRO A  81      17.435  -2.599  -8.605  1.00  0.00           N  \\nATOM    622  CD  PRO A  81      18.255  -3.679  -9.005  1.00  0.00           C  \\nATOM    623  CG  PRO A  81      19.685  -3.199  -8.575  1.00  0.00           C  \\nATOM    624  CB  PRO A  81      19.625  -1.659  -8.885  1.00  0.00           C  \\nATOM    625  CA  PRO A  81      18.265  -1.329  -8.445  1.00  0.00           C  \\nATOM    626  C   PRO A  81      17.625  -0.189  -9.265  1.00  0.00           C  \\nATOM    627  O   PRO A  81      17.375  -0.299 -10.465  1.00  0.00           O  \\nATOM    628  N   GLY A  82      17.395   0.961  -8.665  1.00  0.00           N  \\nATOM    629  CA  GLY A  82      16.785   2.111  -9.195  1.00  0.00           C  \\nATOM    630  C   GLY A  82      15.265   2.071  -9.185  1.00  0.00           C  \\nATOM    631  O   GLY A  82      14.755   3.131  -9.455  1.00  0.00           O  \\nATOM    632  N   ALA A  83      14.555   0.921  -8.985  1.00  0.00           N  \\nATOM    633  CA  ALA A  83      13.075   0.991  -9.055  1.00  0.00           C  \\nATOM    634  CB  ALA A  83      12.395  -0.419  -9.255  1.00  0.00           C  \\nATOM    635  C   ALA A  83      12.615   1.561  -7.715  1.00  0.00           C  \\nATOM    636  O   ALA A  83      13.245   1.311  -6.705  1.00  0.00           O  \\nATOM    637  N   ARG A  84      11.555   2.301  -7.705  1.00  0.00           N  \\nATOM    638  CA  ARG A  84      11.085   3.021  -6.535  1.00  0.00           C  \\nATOM    639  CB  ARG A  84      11.525   4.501  -6.605  1.00  0.00           C  \\nATOM    640  CG  ARG A  84      13.085   4.621  -6.425  1.00  0.00           C  \\nATOM    641  CD  ARG A  84      13.735   5.991  -6.245  1.00  0.00           C  \\nATOM    642  NE  ARG A  84      15.115   5.801  -5.895  1.00  0.00           N  \\nATOM    643  CZ  ARG A  84      16.195   5.781  -6.615  1.00  0.00           C  \\nATOM    644  NH1 ARG A  84      17.375   5.761  -6.105  1.00  0.00           N  \\nATOM    645  NH2 ARG A  84      16.135   5.901  -7.915  1.00  0.00           N  \\nATOM    646  C   ARG A  84       9.575   3.021  -6.275  1.00  0.00           C  \\nATOM    647  O   ARG A  84       8.825   3.341  -7.165  1.00  0.00           O  \\nATOM    648  N   LEU A  85       9.175   2.781  -5.045  1.00  0.00           N  \\nATOM    649  CA  LEU A  85       7.845   3.081  -4.485  1.00  0.00           C  \\nATOM    650  CB  LEU A  85       7.535   2.031  -3.375  1.00  0.00           C  \\nATOM    651  CG  LEU A  85       5.975   2.071  -2.935  1.00  0.00           C  \\nATOM    652  CD1 LEU A  85       5.025   1.611  -4.055  1.00  0.00           C  \\nATOM    653  CD2 LEU A  85       5.885   1.071  -1.805  1.00  0.00           C  \\nATOM    654  C   LEU A  85       7.615   4.521  -4.045  1.00  0.00           C  \\nATOM    655  O   LEU A  85       8.195   4.941  -3.045  1.00  0.00           O  \\nATOM    656  N   ILE A  86       6.655   5.251  -4.685  1.00  0.00           N  \\nATOM    657  CA  ILE A  86       5.985   6.451  -4.065  1.00  0.00           C  \\nATOM    658  CB  ILE A  86       5.295   7.411  -5.145  1.00  0.00           C  \\nATOM    659  CG2 ILE A  86       4.655   8.561  -4.395  1.00  0.00           C  \\nATOM    660  CG1 ILE A  86       6.335   7.951  -6.155  1.00  0.00           C  \\nATOM    661  CD1 ILE A  86       5.755   8.871  -7.245  1.00  0.00           C  \\nATOM    662  C   ILE A  86       4.895   5.881  -3.175  1.00  0.00           C  \\nATOM    663  O   ILE A  86       3.995   5.131  -3.635  1.00  0.00           O  \\nATOM    664  N   THR A  87       4.785   6.331  -1.945  1.00  0.00           N  \\nATOM    665  CA  THR A  87       3.795   5.851  -0.905  1.00  0.00           C  \\nATOM    666  CB  THR A  87       4.415   4.741  -0.025  1.00  0.00           C  \\nATOM    667  CG2 THR A  87       5.765   5.161   0.665  1.00  0.00           C  \\nATOM    668  OG1 THR A  87       3.375   4.501   1.025  1.00  0.00           O  \\nATOM    669  C   THR A  87       3.265   7.121  -0.225  1.00  0.00           C  \\nATOM    670  O   THR A  87       4.085   7.901   0.335  1.00  0.00           O  \\nATOM    671  N   ILE A  88       1.965   7.311  -0.245  1.00  0.00           N  \\nATOM    672  CA  ILE A  88       1.275   8.611   0.195  1.00  0.00           C  \\nATOM    673  CB  ILE A  88       0.615   9.231  -1.065  1.00  0.00           C  \\nATOM    674  CG2 ILE A  88       0.125  10.691  -0.825  1.00  0.00           C  \\nATOM    675  CG1 ILE A  88       1.505   9.221  -2.365  1.00  0.00           C  \\nATOM    676  CD1 ILE A  88       0.975   9.941  -3.615  1.00  0.00           C  \\nATOM    677  C   ILE A  88       0.325   8.501   1.415  1.00  0.00           C  \\nATOM    678  O   ILE A  88      -0.595   7.661   1.325  1.00  0.00           O  \\nATOM    679  N   GLU A  89       0.485   9.351   2.515  1.00  0.00           N  \\nATOM    680  CA  GLU A  89      -0.485   9.481   3.605  1.00  0.00           C  \\nATOM    681  CB  GLU A  89       0.235   8.721   4.755  1.00  0.00           C  \\nATOM    682  CG  GLU A  89      -0.385   8.831   6.195  1.00  0.00           C  \\nATOM    683  CD  GLU A  89      -1.725   8.091   6.185  1.00  0.00           C  \\nATOM    684  OE1 GLU A  89      -1.845   6.881   5.905  1.00  0.00           O  \\nATOM    685  OE2 GLU A  89      -2.715   8.731   6.445  1.00  0.00           O  \\nATOM    686  C   GLU A  89      -0.945  10.891   4.015  1.00  0.00           C  \\nATOM    687  O   GLU A  89      -0.105  11.771   4.195  1.00  0.00           O  \\nATOM    688  N   ILE A  90      -2.265  11.031   4.225  1.00  0.00           N  \\nATOM    689  CA  ILE A  90      -2.895  12.281   4.505  1.00  0.00           C  \\nATOM    690  CB  ILE A  90      -4.315  12.451   3.855  1.00  0.00           C  \\nATOM    691  CG2 ILE A  90      -5.275  11.771   4.765  1.00  0.00           C  \\nATOM    692  CG1 ILE A  90      -4.585  13.951   3.595  1.00  0.00           C  \\nATOM    693  CD1 ILE A  90      -5.855  14.201   2.805  1.00  0.00           C  \\nATOM    694  C   ILE A  90      -2.775  12.781   5.905  1.00  0.00           C  \\nATOM    695  O   ILE A  90      -2.795  13.981   6.065  1.00  0.00           O  \\nATOM    696  N   ASN A  91      -2.605  11.881   6.885  1.00  0.00           N  \\nATOM    697  CA  ASN A  91      -2.365  12.381   8.275  1.00  0.00           C  \\nATOM    698  CB  ASN A  91      -2.955  11.361   9.255  1.00  0.00           C  \\nATOM    699  CG  ASN A  91      -2.685  11.651  10.695  1.00  0.00           C  \\nATOM    700  OD1 ASN A  91      -1.565  11.701  11.165  1.00  0.00           O  \\nATOM    701  ND2 ASN A  91      -3.635  11.871  11.535  1.00  0.00           N  \\nATOM    702  C   ASN A  91      -0.915  12.681   8.455  1.00  0.00           C  \\nATOM    703  O   ASN A  91      -0.125  11.761   8.275  1.00  0.00           O  \\nATOM    704  N   PRO A  92      -0.475  13.901   8.895  1.00  0.00           N  \\nATOM    705  CD  PRO A  92      -1.235  15.021   9.315  1.00  0.00           C  \\nATOM    706  CG  PRO A  92      -0.315  16.181   9.755  1.00  0.00           C  \\nATOM    707  CB  PRO A  92       1.045  15.791   9.225  1.00  0.00           C  \\nATOM    708  CA  PRO A  92       0.975  14.261   9.025  1.00  0.00           C  \\nATOM    709  C   PRO A  92       1.785  13.411  10.025  1.00  0.00           C  \\nATOM    710  O   PRO A  92       2.945  13.121   9.745  1.00  0.00           O  \\nATOM    711  N   ASP A  93       1.095  13.011  11.095  1.00  0.00           N  \\nATOM    712  CA  ASP A  93       1.585  12.281  12.245  1.00  0.00           C  \\nATOM    713  CB  ASP A  93       0.705  12.471  13.495  1.00  0.00           C  \\nATOM    714  CG  ASP A  93       1.365  12.041  14.745  1.00  0.00           C  \\nATOM    715  OD1 ASP A  93       2.315  12.681  15.195  1.00  0.00           O  \\nATOM    716  OD2 ASP A  93       0.805  11.171  15.425  1.00  0.00           O  \\nATOM    717  C   ASP A  93       1.765  10.811  11.905  1.00  0.00           C  \\nATOM    718  O   ASP A  93       2.765  10.221  12.325  1.00  0.00           O  \\nATOM    719  N   CYS A  94       0.845  10.211  11.055  1.00  0.00           N  \\nATOM    720  CA  CYS A  94       1.005   8.951  10.305  1.00  0.00           C  \\nATOM    721  CB  CYS A  94      -0.335   8.591   9.675  1.00  0.00           C  \\nATOM    722  SG  CYS A  94      -1.605   8.281  10.995  1.00  0.00           S  \\nATOM    723  C   CYS A  94       2.105   9.071   9.335  1.00  0.00           C  \\nATOM    724  O   CYS A  94       2.915   8.191   9.255  1.00  0.00           O  \\nATOM    725  N   ALA A  95       2.185  10.091   8.555  1.00  0.00           N  \\nATOM    726  CA  ALA A  95       3.235  10.201   7.485  1.00  0.00           C  \\nATOM    727  CB  ALA A  95       2.965  11.341   6.495  1.00  0.00           C  \\nATOM    728  C   ALA A  95       4.635  10.211   8.055  1.00  0.00           C  \\nATOM    729  O   ALA A  95       5.545   9.541   7.545  1.00  0.00           O  \\nATOM    730  N   ALA A  96       4.755  10.871   9.215  1.00  0.00           N  \\nATOM    731  CA  ALA A  96       5.925  10.941  10.045  1.00  0.00           C  \\nATOM    732  CB  ALA A  96       5.635  11.901  11.185  1.00  0.00           C  \\nATOM    733  C   ALA A  96       6.405   9.611  10.575  1.00  0.00           C  \\nATOM    734  O   ALA A  96       7.515   9.241  10.475  1.00  0.00           O  \\nATOM    735  N   ILE A  97       5.425   8.861  11.205  1.00  0.00           N  \\nATOM    736  CA  ILE A  97       5.665   7.461  11.685  1.00  0.00           C  \\nATOM    737  CB  ILE A  97       4.585   6.811  12.625  1.00  0.00           C  \\nATOM    738  CG2 ILE A  97       3.605   5.841  11.865  1.00  0.00           C  \\nATOM    739  CG1 ILE A  97       5.205   6.111  13.875  1.00  0.00           C  \\nATOM    740  CD1 ILE A  97       5.675   7.061  15.015  1.00  0.00           C  \\nATOM    741  C   ILE A  97       6.055   6.511  10.595  1.00  0.00           C  \\nATOM    742  O   ILE A  97       7.105   5.851  10.795  1.00  0.00           O  \\nATOM    743  N   THR A  98       5.505   6.591   9.395  1.00  0.00           N  \\nATOM    744  CA  THR A  98       5.935   5.871   8.215  1.00  0.00           C  \\nATOM    745  CB  THR A  98       4.855   6.131   7.045  1.00  0.00           C  \\nATOM    746  CG2 THR A  98       5.445   5.631   5.695  1.00  0.00           C  \\nATOM    747  OG1 THR A  98       3.775   5.251   7.235  1.00  0.00           O  \\nATOM    748  C   THR A  98       7.355   6.251   7.835  1.00  0.00           C  \\nATOM    749  O   THR A  98       8.195   5.351   7.675  1.00  0.00           O  \\nATOM    750  N   GLN A  99       7.735   7.521   7.795  1.00  0.00           N  \\nATOM    751  CA  GLN A  99       9.085   7.931   7.355  1.00  0.00           C  \\nATOM    752  CB  GLN A  99       9.255   9.431   7.175  1.00  0.00           C  \\nATOM    753  CG  GLN A  99      10.575   9.971   6.585  1.00  0.00           C  \\nATOM    754  CD  GLN A  99      10.925   9.491   5.185  1.00  0.00           C  \\nATOM    755  OE1 GLN A  99      10.555  10.161   4.205  1.00  0.00           O  \\nATOM    756  NE2 GLN A  99      11.575   8.331   5.015  1.00  0.00           N  \\nATOM    757  C   GLN A  99      10.225   7.421   8.255  1.00  0.00           C  \\nATOM    758  O   GLN A  99      11.225   6.931   7.725  1.00  0.00           O  \\nATOM    759  N   ARG A 100      10.035   7.561   9.565  1.00  0.00           N  \\nATOM    760  CA  ARG A 100      10.965   6.981  10.565  1.00  0.00           C  \\nATOM    761  CB  ARG A 100      11.025   7.691  11.995  1.00  0.00           C  \\nATOM    762  CG  ARG A 100      12.305   7.441  12.795  1.00  0.00           C  \\nATOM    763  CD  ARG A 100      12.165   8.101  14.195  1.00  0.00           C  \\nATOM    764  NE  ARG A 100      13.275   7.841  15.195  1.00  0.00           N  \\nATOM    765  CZ  ARG A 100      13.315   8.111  16.545  1.00  0.00           C  \\nATOM    766  NH1 ARG A 100      12.445   8.871  17.205  1.00  0.00           N  \\nATOM    767  NH2 ARG A 100      14.225   7.511  17.275  1.00  0.00           N  \\nATOM    768  C   ARG A 100      10.995   5.441  10.515  1.00  0.00           C  \\nATOM    769  O   ARG A 100      12.155   4.901  10.665  1.00  0.00           O  \\nATOM    770  N   MET A 101       9.905   4.711  10.425  1.00  0.00           N  \\nATOM    771  CA  MET A 101       9.885   3.291  10.045  1.00  0.00           C  \\nATOM    772  CB  MET A 101       8.415   2.921   9.855  1.00  0.00           C  \\nATOM    773  CG  MET A 101       8.125   1.491  10.495  1.00  0.00           C  \\nATOM    774  SD  MET A 101       7.985   1.531  12.355  1.00  0.00           S  \\nATOM    775  CE  MET A 101       6.405   2.431  12.645  1.00  0.00           C  \\nATOM    776  C   MET A 101      10.675   2.921   8.805  1.00  0.00           C  \\nATOM    777  O   MET A 101      11.545   1.961   8.905  1.00  0.00           O  \\nATOM    778  N   VAL A 102      10.495   3.631   7.705  1.00  0.00           N  \\nATOM    779  CA  VAL A 102      11.165   3.281   6.485  1.00  0.00           C  \\nATOM    780  CB  VAL A 102      10.585   4.231   5.415  1.00  0.00           C  \\nATOM    781  CG1 VAL A 102      11.435   4.351   4.195  1.00  0.00           C  \\nATOM    782  CG2 VAL A 102       9.165   3.751   5.015  1.00  0.00           C  \\nATOM    783  C   VAL A 102      12.705   3.351   6.645  1.00  0.00           C  \\nATOM    784  O   VAL A 102      13.405   2.501   6.075  1.00  0.00           O  \\nATOM    785  N   ASP A 103      13.175   4.361   7.425  1.00  0.00           N  \\nATOM    786  CA  ASP A 103      14.595   4.441   7.725  1.00  0.00           C  \\nATOM    787  CB  ASP A 103      14.825   5.811   8.445  1.00  0.00           C  \\nATOM    788  CG  ASP A 103      16.225   5.991   9.055  1.00  0.00           C  \\nATOM    789  OD1 ASP A 103      17.105   6.381   8.295  1.00  0.00           O  \\nATOM    790  OD2 ASP A 103      16.335   5.911  10.295  1.00  0.00           O  \\nATOM    791  C   ASP A 103      15.035   3.261   8.555  1.00  0.00           C  \\nATOM    792  O   ASP A 103      16.105   2.741   8.215  1.00  0.00           O  \\nATOM    793  N   PHE A 104      14.305   2.931   9.555  1.00  0.00           N  \\nATOM    794  CA  PHE A 104      14.655   1.811  10.475  1.00  0.00           C  \\nATOM    795  CB  PHE A 104      13.655   1.881  11.625  1.00  0.00           C  \\nATOM    796  CG  PHE A 104      14.015   0.931  12.825  1.00  0.00           C  \\nATOM    797  CD1 PHE A 104      14.915   1.421  13.775  1.00  0.00           C  \\nATOM    798  CE1 PHE A 104      15.295   0.511  14.715  1.00  0.00           C  \\nATOM    799  CZ  PHE A 104      14.675  -0.679  14.885  1.00  0.00           C  \\nATOM    800  CE2 PHE A 104      13.845  -1.179  13.935  1.00  0.00           C  \\nATOM    801  CD2 PHE A 104      13.545  -0.389  12.795  1.00  0.00           C  \\nATOM    802  C   PHE A 104      14.705   0.451   9.685  1.00  0.00           C  \\nATOM    803  O   PHE A 104      15.505  -0.389  10.075  1.00  0.00           O  \\nATOM    804  N   ALA A 105      13.915   0.321   8.565  1.00  0.00           N  \\nATOM    805  CA  ALA A 105      13.945  -0.799   7.625  1.00  0.00           C  \\nATOM    806  CB  ALA A 105      12.545  -0.859   6.855  1.00  0.00           C  \\nATOM    807  C   ALA A 105      15.155  -0.709   6.715  1.00  0.00           C  \\nATOM    808  O   ALA A 105      15.445  -1.659   6.035  1.00  0.00           O  \\nATOM    809  N   GLY A 106      15.815   0.451   6.415  1.00  0.00           N  \\nATOM    810  CA  GLY A 106      16.895   0.491   5.405  1.00  0.00           C  \\nATOM    811  C   GLY A 106      16.465   0.671   3.975  1.00  0.00           C  \\nATOM    812  O   GLY A 106      17.045   0.161   3.025  1.00  0.00           O  \\nATOM    813  N   MET A 107      15.355   1.411   3.825  1.00  0.00           N  \\nATOM    814  CA  MET A 107      14.545   1.411   2.575  1.00  0.00           C  \\nATOM    815  CB  MET A 107      13.085   0.891   2.855  1.00  0.00           C  \\nATOM    816  CG  MET A 107      13.075  -0.659   3.075  1.00  0.00           C  \\nATOM    817  SD  MET A 107      13.555  -1.549   1.565  1.00  0.00           S  \\nATOM    818  CE  MET A 107      13.965  -3.169   2.115  1.00  0.00           C  \\nATOM    819  C   MET A 107      14.435   2.811   1.915  1.00  0.00           C  \\nATOM    820  O   MET A 107      13.845   2.891   0.875  1.00  0.00           O  \\nATOM    821  N   LYS A 108      15.045   3.881   2.405  1.00  0.00           N  \\nATOM    822  CA  LYS A 108      14.805   5.281   1.805  1.00  0.00           C  \\nATOM    823  CB  LYS A 108      15.495   6.261   2.795  1.00  0.00           C  \\nATOM    824  CG  LYS A 108      15.345   7.711   2.315  1.00  0.00           C  \\nATOM    825  CD  LYS A 108      16.665   8.251   1.775  1.00  0.00           C  \\nATOM    826  CE  LYS A 108      16.435   9.531   0.985  1.00  0.00           C  \\nATOM    827  NZ  LYS A 108      16.195  10.761   1.835  1.00  0.00           N  \\nATOM    828  C   LYS A 108      15.305   5.421   0.325  1.00  0.00           C  \\nATOM    829  O   LYS A 108      14.775   6.221  -0.385  1.00  0.00           O  \\nATOM    830  N   ASP A 109      16.235   4.621  -0.095  1.00  0.00           N  \\nATOM    831  CA  ASP A 109      16.675   4.621  -1.565  1.00  0.00           C  \\nATOM    832  CB  ASP A 109      18.085   4.081  -1.685  1.00  0.00           C  \\nATOM    833  CG  ASP A 109      18.555   4.021  -3.165  1.00  0.00           C  \\nATOM    834  OD1 ASP A 109      18.885   2.931  -3.605  1.00  0.00           O  \\nATOM    835  OD2 ASP A 109      18.765   5.001  -3.745  1.00  0.00           O  \\nATOM    836  C   ASP A 109      15.755   3.851  -2.505  1.00  0.00           C  \\nATOM    837  O   ASP A 109      15.575   4.141  -3.695  1.00  0.00           O  \\nATOM    838  N   LYS A 110      14.875   2.981  -1.995  1.00  0.00           N  \\nATOM    839  CA  LYS A 110      13.785   2.261  -2.675  1.00  0.00           C  \\nATOM    840  CB  LYS A 110      13.795   0.731  -2.095  1.00  0.00           C  \\nATOM    841  CG  LYS A 110      15.175   0.011  -2.265  1.00  0.00           C  \\nATOM    842  CD  LYS A 110      15.015  -1.539  -2.175  1.00  0.00           C  \\nATOM    843  CE  LYS A 110      16.275  -2.319  -2.655  1.00  0.00           C  \\nATOM    844  NZ  LYS A 110      16.265  -2.459  -4.115  1.00  0.00           N  \\nATOM    845  C   LYS A 110      12.355   2.821  -2.525  1.00  0.00           C  \\nATOM    846  O   LYS A 110      11.405   2.361  -3.225  1.00  0.00           O  \\nATOM    847  N   VAL A 111      12.155   3.671  -1.505  1.00  0.00           N  \\nATOM    848  CA  VAL A 111      10.845   4.171  -0.955  1.00  0.00           C  \\nATOM    849  CB  VAL A 111      10.415   3.501   0.395  1.00  0.00           C  \\nATOM    850  CG1 VAL A 111       9.095   4.031   0.865  1.00  0.00           C  \\nATOM    851  CG2 VAL A 111      10.345   1.981   0.215  1.00  0.00           C  \\nATOM    852  C   VAL A 111      10.865   5.691  -0.815  1.00  0.00           C  \\nATOM    853  O   VAL A 111      11.795   6.341  -0.295  1.00  0.00           O  \\nATOM    854  N   THR A 112       9.775   6.351  -1.295  1.00  0.00           N  \\nATOM    855  CA  THR A 112       9.625   7.831  -1.305  1.00  0.00           C  \\nATOM    856  CB  THR A 112       9.725   8.351  -2.745  1.00  0.00           C  \\nATOM    857  CG2 THR A 112       9.635   9.891  -2.825  1.00  0.00           C  \\nATOM    858  OG1 THR A 112      10.935   8.001  -3.395  1.00  0.00           O  \\nATOM    859  C   THR A 112       8.265   8.181  -0.575  1.00  0.00           C  \\nATOM    860  O   THR A 112       7.215   8.041  -1.255  1.00  0.00           O  \\nATOM    861  N   LEU A 113       8.385   8.701   0.675  1.00  0.00           N  \\nATOM    862  CA  LEU A 113       7.165   9.081   1.435  1.00  0.00           C  \\nATOM    863  CB  LEU A 113       7.345   8.721   2.935  1.00  0.00           C  \\nATOM    864  CG  LEU A 113       6.135   8.961   3.915  1.00  0.00           C  \\nATOM    865  CD1 LEU A 113       5.975  10.411   4.285  1.00  0.00           C  \\nATOM    866  CD2 LEU A 113       4.845   8.241   3.535  1.00  0.00           C  \\nATOM    867  C   LEU A 113       6.855  10.531   1.115  1.00  0.00           C  \\nATOM    868  O   LEU A 113       7.665  11.451   0.975  1.00  0.00           O  \\nATOM    869  N   VAL A 114       5.535  10.681   0.995  1.00  0.00           N  \\nATOM    870  CA  VAL A 114       4.885  11.951   0.655  1.00  0.00           C  \\nATOM    871  CB  VAL A 114       4.465  11.941  -0.805  1.00  0.00           C  \\nATOM    872  CG1 VAL A 114       3.955  13.321  -1.335  1.00  0.00           C  \\nATOM    873  CG2 VAL A 114       5.625  11.481  -1.685  1.00  0.00           C  \\nATOM    874  C   VAL A 114       3.715  12.261   1.535  1.00  0.00           C  \\nATOM    875  O   VAL A 114       2.935  11.341   1.895  1.00  0.00           O  \\nATOM    876  N   VAL A 115       3.445  13.531   2.025  1.00  0.00           N  \\nATOM    877  CA  VAL A 115       2.315  13.901   2.835  1.00  0.00           C  \\nATOM    878  CB  VAL A 115       2.865  14.901   3.865  1.00  0.00           C  \\nATOM    879  CG1 VAL A 115       1.895  15.001   5.025  1.00  0.00           C  \\nATOM    880  CG2 VAL A 115       4.245  14.611   4.445  1.00  0.00           C  \\nATOM    881  C   VAL A 115       1.215  14.461   1.955  1.00  0.00           C  \\nATOM    882  O   VAL A 115       1.535  15.201   1.015  1.00  0.00           O  \\nATOM    883  N   GLY A 116      -0.065  14.211   2.265  1.00  0.00           N  \\nATOM    884  CA  GLY A 116      -1.195  14.991   1.685  1.00  0.00           C  \\nATOM    885  C   GLY A 116      -2.145  14.111   0.855  1.00  0.00           C  \\nATOM    886  O   GLY A 116      -2.285  12.921   1.215  1.00  0.00           O  \\nATOM    887  N   ALA A 117      -2.915  14.681  -0.035  1.00  0.00           N  \\nATOM    888  CA  ALA A 117      -4.195  14.231  -0.585  1.00  0.00           C  \\nATOM    889  CB  ALA A 117      -5.225  15.391  -0.575  1.00  0.00           C  \\nATOM    890  C   ALA A 117      -3.875  13.651  -1.945  1.00  0.00           C  \\nATOM    891  O   ALA A 117      -3.375  14.331  -2.865  1.00  0.00           O  \\nATOM    892  N   SER A 118      -4.325  12.431  -2.105  1.00  0.00           N  \\nATOM    893  CA  SER A 118      -4.205  11.621  -3.295  1.00  0.00           C  \\nATOM    894  CB  SER A 118      -4.905  10.231  -3.015  1.00  0.00           C  \\nATOM    895  OG  SER A 118      -6.275  10.391  -2.915  1.00  0.00           O  \\nATOM    896  C   SER A 118      -4.765  12.391  -4.465  1.00  0.00           C  \\nATOM    897  O   SER A 118      -4.115  12.441  -5.565  1.00  0.00           O  \\nATOM    898  N   GLN A 119      -5.975  12.981  -4.285  1.00  0.00           N  \\nATOM    899  CA  GLN A 119      -6.765  13.801  -5.215  1.00  0.00           C  \\nATOM    900  CB  GLN A 119      -8.175  14.041  -4.585  1.00  0.00           C  \\nATOM    901  CG  GLN A 119      -8.265  14.871  -3.285  1.00  0.00           C  \\nATOM    902  CD  GLN A 119      -9.755  15.081  -2.915  1.00  0.00           C  \\nATOM    903  OE1 GLN A 119     -10.205  14.661  -1.835  1.00  0.00           O  \\nATOM    904  NE2 GLN A 119     -10.505  15.591  -3.785  1.00  0.00           N  \\nATOM    905  C   GLN A 119      -6.155  15.111  -5.625  1.00  0.00           C  \\nATOM    906  O   GLN A 119      -6.555  15.711  -6.645  1.00  0.00           O  \\nATOM    907  N   ASP A 120      -5.185  15.581  -4.825  1.00  0.00           N  \\nATOM    908  CA  ASP A 120      -4.405  16.791  -5.055  1.00  0.00           C  \\nATOM    909  CB  ASP A 120      -4.365  17.501  -3.715  1.00  0.00           C  \\nATOM    910  CG  ASP A 120      -3.535  18.801  -3.785  1.00  0.00           C  \\nATOM    911  OD1 ASP A 120      -2.565  18.901  -3.035  1.00  0.00           O  \\nATOM    912  OD2 ASP A 120      -3.815  19.601  -4.645  1.00  0.00           O  \\nATOM    913  C   ASP A 120      -3.015  16.561  -5.575  1.00  0.00           C  \\nATOM    914  O   ASP A 120      -2.455  17.371  -6.315  1.00  0.00           O  \\nATOM    915  N   ILE A 121      -2.415  15.331  -5.325  1.00  0.00           N  \\nATOM    916  CA  ILE A 121      -1.045  14.971  -5.685  1.00  0.00           C  \\nATOM    917  CB  ILE A 121      -0.335  14.231  -4.565  1.00  0.00           C  \\nATOM    918  CG2 ILE A 121       1.035  13.701  -4.825  1.00  0.00           C  \\nATOM    919  CG1 ILE A 121      -0.215  15.131  -3.225  1.00  0.00           C  \\nATOM    920  CD1 ILE A 121       0.265  14.281  -2.065  1.00  0.00           C  \\nATOM    921  C   ILE A 121      -0.945  14.211  -7.065  1.00  0.00           C  \\nATOM    922  O   ILE A 121      -0.155  14.531  -7.985  1.00  0.00           O  \\nATOM    923  N   ILE A 122      -1.875  13.311  -7.245  1.00  0.00           N  \\nATOM    924  CA  ILE A 122      -1.865  12.561  -8.505  1.00  0.00           C  \\nATOM    925  CB  ILE A 122      -2.925  11.461  -8.435  1.00  0.00           C  \\nATOM    926  CG2 ILE A 122      -3.125  10.751  -9.845  1.00  0.00           C  \\nATOM    927  CG1 ILE A 122      -2.415  10.391  -7.415  1.00  0.00           C  \\nATOM    928  CD1 ILE A 122      -3.465   9.411  -6.985  1.00  0.00           C  \\nATOM    929  C   ILE A 122      -2.025  13.341  -9.865  1.00  0.00           C  \\nATOM    930  O   ILE A 122      -1.305  13.041 -10.815  1.00  0.00           O  \\nATOM    931  N   PRO A 123      -2.895  14.401  -9.955  1.00  0.00           N  \\nATOM    932  CD  PRO A 123      -3.885  14.891  -8.965  1.00  0.00           C  \\nATOM    933  CG  PRO A 123      -4.445  16.231  -9.495  1.00  0.00           C  \\nATOM    934  CB  PRO A 123      -4.075  16.171 -11.015  1.00  0.00           C  \\nATOM    935  CA  PRO A 123      -2.885  15.231 -11.115  1.00  0.00           C  \\nATOM    936  C   PRO A 123      -1.625  16.041 -11.325  1.00  0.00           C  \\nATOM    937  O   PRO A 123      -1.365  16.571 -12.445  1.00  0.00           O  \\nATOM    938  N   GLN A 124      -0.765  16.111 -10.315  1.00  0.00           N  \\nATOM    939  CA  GLN A 124       0.565  16.781 -10.295  1.00  0.00           C  \\nATOM    940  CB  GLN A 124       0.745  17.651  -9.085  1.00  0.00           C  \\nATOM    941  CG  GLN A 124      -0.405  18.631  -8.955  1.00  0.00           C  \\nATOM    942  CD  GLN A 124      -0.465  19.611 -10.115  1.00  0.00           C  \\nATOM    943  OE1 GLN A 124      -1.305  19.621 -10.965  1.00  0.00           O  \\nATOM    944  NE2 GLN A 124       0.555  20.491 -10.145  1.00  0.00           N  \\nATOM    945  C   GLN A 124       1.725  15.781 -10.405  1.00  0.00           C  \\nATOM    946  O   GLN A 124       2.885  16.191 -10.305  1.00  0.00           O  \\nATOM    947  N   LEU A 125       1.445  14.471 -10.395  1.00  0.00           N  \\nATOM    948  CA  LEU A 125       2.445  13.411 -10.165  1.00  0.00           C  \\nATOM    949  CB  LEU A 125       1.885  11.981 -10.235  1.00  0.00           C  \\nATOM    950  CG  LEU A 125       2.535  10.971  -9.315  1.00  0.00           C  \\nATOM    951  CD1 LEU A 125       2.365  11.191  -7.815  1.00  0.00           C  \\nATOM    952  CD2 LEU A 125       1.995   9.551  -9.645  1.00  0.00           C  \\nATOM    953  C   LEU A 125       3.625  13.591 -11.115  1.00  0.00           C  \\nATOM    954  O   LEU A 125       4.745  13.691 -10.605  1.00  0.00           O  \\nATOM    955  N   LYS A 126       3.345  13.691 -12.425  1.00  0.00           N  \\nATOM    956  CA  LYS A 126       4.455  13.811 -13.435  1.00  0.00           C  \\nATOM    957  CB  LYS A 126       3.705  14.101 -14.825  1.00  0.00           C  \\nATOM    958  CG  LYS A 126       2.805  12.901 -15.305  1.00  0.00           C  \\nATOM    959  CD  LYS A 126       2.035  13.281 -16.565  1.00  0.00           C  \\nATOM    960  CE  LYS A 126       1.105  12.141 -17.025  1.00  0.00           C  \\nATOM    961  NZ  LYS A 126       0.355  12.231 -18.365  1.00  0.00           N  \\nATOM    962  C   LYS A 126       5.265  14.981 -13.095  1.00  0.00           C  \\nATOM    963  O   LYS A 126       6.515  14.891 -13.205  1.00  0.00           O  \\nATOM    964  N   LYS A 127       4.685  16.191 -12.895  1.00  0.00           N  \\nATOM    965  CA  LYS A 127       5.335  17.481 -12.605  1.00  0.00           C  \\nATOM    966  CB  LYS A 127       4.265  18.501 -12.335  1.00  0.00           C  \\nATOM    967  CG  LYS A 127       4.855  19.971 -12.445  1.00  0.00           C  \\nATOM    968  CD  LYS A 127       3.765  21.061 -12.205  1.00  0.00           C  \\nATOM    969  CE  LYS A 127       4.375  22.481 -12.305  1.00  0.00           C  \\nATOM    970  NZ  LYS A 127       4.025  23.161 -13.565  1.00  0.00           N  \\nATOM    971  C   LYS A 127       6.265  17.441 -11.345  1.00  0.00           C  \\nATOM    972  O   LYS A 127       7.335  18.051 -11.215  1.00  0.00           O  \\nATOM    973  N   LYS A 128       5.975  16.511 -10.405  1.00  0.00           N  \\nATOM    974  CA  LYS A 128       6.605  16.281  -9.015  1.00  0.00           C  \\nATOM    975  CB  LYS A 128       5.515  15.711  -8.065  1.00  0.00           C  \\nATOM    976  CG  LYS A 128       4.655  16.821  -7.575  1.00  0.00           C  \\nATOM    977  CD  LYS A 128       3.525  16.341  -6.605  1.00  0.00           C  \\nATOM    978  CE  LYS A 128       3.015  17.501  -5.765  1.00  0.00           C  \\nATOM    979  NZ  LYS A 128       3.835  17.981  -4.545  1.00  0.00           N  \\nATOM    980  C   LYS A 128       7.695  15.281  -9.095  1.00  0.00           C  \\nATOM    981  O   LYS A 128       8.775  15.541  -8.565  1.00  0.00           O  \\nATOM    982  N   TYR A 129       7.515  14.091  -9.685  1.00  0.00           N  \\nATOM    983  CA  TYR A 129       8.335  12.891  -9.675  1.00  0.00           C  \\nATOM    984  CB  TYR A 129       7.695  11.751  -8.785  1.00  0.00           C  \\nATOM    985  CG  TYR A 129       7.515  12.181  -7.315  1.00  0.00           C  \\nATOM    986  CD1 TYR A 129       8.665  12.221  -6.515  1.00  0.00           C  \\nATOM    987  CE1 TYR A 129       8.555  12.681  -5.175  1.00  0.00           C  \\nATOM    988  CZ  TYR A 129       7.265  13.021  -4.655  1.00  0.00           C  \\nATOM    989  OH  TYR A 129       7.145  13.481  -3.425  1.00  0.00           O  \\nATOM    990  CE2 TYR A 129       6.105  12.931  -5.425  1.00  0.00           C  \\nATOM    991  CD2 TYR A 129       6.275  12.511  -6.735  1.00  0.00           C  \\nATOM    992  C   TYR A 129       8.845  12.361 -11.005  1.00  0.00           C  \\nATOM    993  O   TYR A 129       9.395  11.281 -11.105  1.00  0.00           O  \\nATOM    994  N   ASP A 130       8.685  13.131 -12.145  1.00  0.00           N  \\nATOM    995  CA  ASP A 130       9.135  12.731 -13.555  1.00  0.00           C  \\nATOM    996  CB  ASP A 130      10.665  12.881 -13.765  1.00  0.00           C  \\nATOM    997  CG  ASP A 130      11.065  12.971 -15.225  1.00  0.00           C  \\nATOM    998  OD1 ASP A 130      10.455  13.721 -15.935  1.00  0.00           O  \\nATOM    999  OD2 ASP A 130      12.115  12.471 -15.645  1.00  0.00           O  \\nATOM   1000  C   ASP A 130       8.645  11.331 -14.015  1.00  0.00           C  \\nATOM   1001  O   ASP A 130       9.335  10.501 -14.605  1.00  0.00           O  \\nATOM   1002  N   VAL A 131       7.415  11.071 -13.605  1.00  0.00           N  \\nATOM   1003  CA  VAL A 131       6.685   9.931 -13.985  1.00  0.00           C  \\nATOM   1004  CB  VAL A 131       5.525   9.451 -13.015  1.00  0.00           C  \\nATOM   1005  CG1 VAL A 131       5.065   8.101 -13.545  1.00  0.00           C  \\nATOM   1006  CG2 VAL A 131       5.925   9.461 -11.505  1.00  0.00           C  \\nATOM   1007  C   VAL A 131       6.175  10.061 -15.425  1.00  0.00           C  \\nATOM   1008  O   VAL A 131       5.625  11.131 -15.715  1.00  0.00           O  \\nATOM   1009  N   ASP A 132       6.325   9.021 -16.255  1.00  0.00           N  \\nATOM   1010  CA  ASP A 132       5.465   8.931 -17.515  1.00  0.00           C  \\nATOM   1011  CB  ASP A 132       6.325   8.481 -18.735  1.00  0.00           C  \\nATOM   1012  CG  ASP A 132       5.505   8.111 -20.015  1.00  0.00           C  \\nATOM   1013  OD1 ASP A 132       5.675   6.981 -20.465  1.00  0.00           O  \\nATOM   1014  OD2 ASP A 132       5.035   9.031 -20.695  1.00  0.00           O  \\nATOM   1015  C   ASP A 132       4.235   8.061 -17.245  1.00  0.00           C  \\nATOM   1016  O   ASP A 132       3.195   8.511 -17.555  1.00  0.00           O  \\nATOM   1017  N   THR A 133       4.395   6.841 -16.705  1.00  0.00           N  \\nATOM   1018  CA  THR A 133       3.325   5.901 -16.335  1.00  0.00           C  \\nATOM   1019  CB  THR A 133       2.835   4.981 -17.475  1.00  0.00           C  \\nATOM   1020  CG2 THR A 133       2.215   5.751 -18.615  1.00  0.00           C  \\nATOM   1021  OG1 THR A 133       3.905   4.301 -18.105  1.00  0.00           O  \\nATOM   1022  C   THR A 133       3.645   4.961 -15.215  1.00  0.00           C  \\nATOM   1023  O   THR A 133       4.785   4.691 -14.965  1.00  0.00           O  \\nATOM   1024  N   LEU A 134       2.755   4.501 -14.345  1.00  0.00           N  \\nATOM   1025  CA  LEU A 134       2.985   3.581 -13.195  1.00  0.00           C  \\nATOM   1026  CB  LEU A 134       1.945   3.811 -12.045  1.00  0.00           C  \\nATOM   1027  CG  LEU A 134       2.135   5.171 -11.345  1.00  0.00           C  \\nATOM   1028  CD1 LEU A 134       0.925   5.591 -10.545  1.00  0.00           C  \\nATOM   1029  CD2 LEU A 134       3.315   5.261 -10.365  1.00  0.00           C  \\nATOM   1030  C   LEU A 134       2.845   2.131 -13.745  1.00  0.00           C  \\nATOM   1031  O   LEU A 134       2.125   1.871 -14.735  1.00  0.00           O  \\nATOM   1032  N   ASP A 135       3.685   1.171 -13.195  1.00  0.00           N  \\nATOM   1033  CA  ASP A 135       3.665  -0.219 -13.555  1.00  0.00           C  \\nATOM   1034  CB  ASP A 135       5.135  -0.699 -13.535  1.00  0.00           C  \\nATOM   1035  CG  ASP A 135       6.025   0.111 -14.425  1.00  0.00           C  \\nATOM   1036  OD1 ASP A 135       5.795   0.131 -15.695  1.00  0.00           O  \\nATOM   1037  OD2 ASP A 135       6.855   0.881 -13.975  1.00  0.00           O  \\nATOM   1038  C   ASP A 135       2.795  -1.009 -12.595  1.00  0.00           C  \\nATOM   1039  O   ASP A 135       2.295  -2.119 -12.935  1.00  0.00           O  \\nATOM   1040  N   MET A 136       2.635  -0.519 -11.395  1.00  0.00           N  \\nATOM   1041  CA  MET A 136       2.025  -1.139 -10.195  1.00  0.00           C  \\nATOM   1042  CB  MET A 136       3.055  -1.889  -9.295  1.00  0.00           C  \\nATOM   1043  CG  MET A 136       2.615  -3.319  -8.975  1.00  0.00           C  \\nATOM   1044  SD  MET A 136       1.025  -3.539  -8.175  1.00  0.00           S  \\nATOM   1045  CE  MET A 136       1.255  -2.789  -6.575  1.00  0.00           C  \\nATOM   1046  C   MET A 136       1.315  -0.129  -9.325  1.00  0.00           C  \\nATOM   1047  O   MET A 136       1.835   1.001  -9.215  1.00  0.00           O  \\nATOM   1048  N   VAL A 137       0.115  -0.449  -8.895  1.00  0.00           N  \\nATOM   1049  CA  VAL A 137      -0.675   0.441  -7.935  1.00  0.00           C  \\nATOM   1050  CB  VAL A 137      -1.835   1.071  -8.695  1.00  0.00           C  \\nATOM   1051  CG1 VAL A 137      -2.765   1.951  -7.805  1.00  0.00           C  \\nATOM   1052  CG2 VAL A 137      -1.325   2.061  -9.805  1.00  0.00           C  \\nATOM   1053  C   VAL A 137      -1.235  -0.409  -6.735  1.00  0.00           C  \\nATOM   1054  O   VAL A 137      -1.835  -1.479  -7.025  1.00  0.00           O  \\nATOM   1055  N   PHE A 138      -1.105   0.061  -5.515  1.00  0.00           N  \\nATOM   1056  CA  PHE A 138      -1.785  -0.519  -4.365  1.00  0.00           C  \\nATOM   1057  CB  PHE A 138      -0.805  -1.319  -3.515  1.00  0.00           C  \\nATOM   1058  CG  PHE A 138      -1.365  -2.009  -2.315  1.00  0.00           C  \\nATOM   1059  CD1 PHE A 138      -0.955  -1.689  -0.995  1.00  0.00           C  \\nATOM   1060  CE1 PHE A 138      -1.605  -2.209   0.105  1.00  0.00           C  \\nATOM   1061  CZ  PHE A 138      -2.605  -3.129  -0.055  1.00  0.00           C  \\nATOM   1062  CE2 PHE A 138      -2.965  -3.539  -1.345  1.00  0.00           C  \\nATOM   1063  CD2 PHE A 138      -2.325  -2.989  -2.475  1.00  0.00           C  \\nATOM   1064  C   PHE A 138      -2.675   0.401  -3.555  1.00  0.00           C  \\nATOM   1065  O   PHE A 138      -2.315   1.421  -3.065  1.00  0.00           O  \\nATOM   1066  N   LEU A 139      -3.935  -0.039  -3.515  1.00  0.00           N  \\nATOM   1067  CA  LEU A 139      -5.025   0.831  -2.935  1.00  0.00           C  \\nATOM   1068  CB  LEU A 139      -6.245   0.971  -3.845  1.00  0.00           C  \\nATOM   1069  CG  LEU A 139      -6.065   1.291  -5.325  1.00  0.00           C  \\nATOM   1070  CD1 LEU A 139      -7.435   1.691  -5.905  1.00  0.00           C  \\nATOM   1071  CD2 LEU A 139      -5.175   2.511  -5.455  1.00  0.00           C  \\nATOM   1072  C   LEU A 139      -5.565   0.381  -1.545  1.00  0.00           C  \\nATOM   1073  O   LEU A 139      -5.875  -0.829  -1.575  1.00  0.00           O  \\nATOM   1074  N   ASP A 140      -5.435   1.121  -0.425  1.00  0.00           N  \\nATOM   1075  CA  ASP A 140      -5.745   0.641   0.945  1.00  0.00           C  \\nATOM   1076  CB  ASP A 140      -4.545  -0.069   1.595  1.00  0.00           C  \\nATOM   1077  CG  ASP A 140      -4.705  -0.909   2.845  1.00  0.00           C  \\nATOM   1078  OD1 ASP A 140      -5.745  -1.499   3.175  1.00  0.00           O  \\nATOM   1079  OD2 ASP A 140      -3.685  -1.009   3.485  1.00  0.00           O  \\nATOM   1080  C   ASP A 140      -6.175   1.871   1.795  1.00  0.00           C  \\nATOM   1081  O   ASP A 140      -6.275   1.621   3.015  1.00  0.00           O  \\nATOM   1082  N   HIE A 141      -6.375   3.131   1.285  1.00  0.00           N  \\nATOM   1083  CA  HIE A 141      -6.805   4.341   1.915  1.00  0.00           C  \\nATOM   1084  CB  HIE A 141      -6.355   5.521   1.005  1.00  0.00           C  \\nATOM   1085  CG  HIE A 141      -6.845   5.571  -0.395  1.00  0.00           C  \\nATOM   1086  ND1 HIE A 141      -6.745   4.571  -1.365  1.00  0.00           N  \\nATOM   1087  CE1 HIE A 141      -6.955   5.161  -2.565  1.00  0.00           C  \\nATOM   1088  NE2 HIE A 141      -7.135   6.491  -2.325  1.00  0.00           N  \\nATOM   1089  CD2 HIE A 141      -7.055   6.781  -1.005  1.00  0.00           C  \\nATOM   1090  C   HIE A 141      -8.345   4.241   2.105  1.00  0.00           C  \\nATOM   1091  O   HIE A 141      -8.955   3.261   1.895  1.00  0.00           O  \\nATOM   1092  N   TRP A 142      -8.955   5.321   2.575  1.00  0.00           N  \\nATOM   1093  CA  TRP A 142     -10.435   5.441   2.725  1.00  0.00           C  \\nATOM   1094  CB  TRP A 142     -10.805   6.841   3.105  1.00  0.00           C  \\nATOM   1095  CG  TRP A 142     -10.395   7.381   4.455  1.00  0.00           C  \\nATOM   1096  CD1 TRP A 142     -10.635   8.651   4.795  1.00  0.00           C  \\nATOM   1097  NE1 TRP A 142     -10.115   8.831   6.045  1.00  0.00           N  \\nATOM   1098  CE2 TRP A 142      -9.555   7.691   6.595  1.00  0.00           C  \\nATOM   1099  CZ2 TRP A 142      -8.935   7.441   7.775  1.00  0.00           C  \\nATOM   1100  CH2 TRP A 142      -8.455   6.201   8.095  1.00  0.00           C  \\nATOM   1101  CZ3 TRP A 142      -8.645   5.181   7.215  1.00  0.00           C  \\nATOM   1102  CE3 TRP A 142      -9.265   5.381   5.965  1.00  0.00           C  \\nATOM   1103  CD2 TRP A 142      -9.715   6.691   5.565  1.00  0.00           C  \\nATOM   1104  C   TRP A 142     -11.105   5.211   1.385  1.00  0.00           C  \\nATOM   1105  O   TRP A 142     -10.685   5.661   0.335  1.00  0.00           O  \\nATOM   1106  N   LYS A 143     -12.245   4.531   1.495  1.00  0.00           N  \\nATOM   1107  CA  LYS A 143     -12.955   4.041   0.365  1.00  0.00           C  \\nATOM   1108  CB  LYS A 143     -13.965   2.891   0.825  1.00  0.00           C  \\nATOM   1109  CG  LYS A 143     -13.265   1.791   1.555  1.00  0.00           C  \\nATOM   1110  CD  LYS A 143     -12.505   0.881   0.565  1.00  0.00           C  \\nATOM   1111  CE  LYS A 143     -11.445   0.001   1.265  1.00  0.00           C  \\nATOM   1112  NZ  LYS A 143     -10.155   0.691   1.675  1.00  0.00           N  \\nATOM   1113  C   LYS A 143     -13.715   5.201  -0.335  1.00  0.00           C  \\nATOM   1114  O   LYS A 143     -14.135   4.891  -1.435  1.00  0.00           O  \\nATOM   1115  N   ASP A 144     -13.825   6.411   0.235  1.00  0.00           N  \\nATOM   1116  CA  ASP A 144     -14.275   7.611  -0.395  1.00  0.00           C  \\nATOM   1117  CB  ASP A 144     -14.115   8.771   0.575  1.00  0.00           C  \\nATOM   1118  CG  ASP A 144     -14.645  10.071  -0.085  1.00  0.00           C  \\nATOM   1119  OD1 ASP A 144     -15.745  10.391   0.205  1.00  0.00           O  \\nATOM   1120  OD2 ASP A 144     -13.765  10.761  -0.595  1.00  0.00           O  \\nATOM   1121  C   ASP A 144     -13.625   7.841  -1.755  1.00  0.00           C  \\nATOM   1122  O   ASP A 144     -14.245   8.291  -2.745  1.00  0.00           O  \\nATOM   1123  N   ARG A 145     -12.305   7.561  -1.835  1.00  0.00           N  \\nATOM   1124  CA  ARG A 145     -11.445   7.851  -2.915  1.00  0.00           C  \\nATOM   1125  CB  ARG A 145     -10.065   8.291  -2.315  1.00  0.00           C  \\nATOM   1126  CG  ARG A 145     -10.105   9.651  -1.635  1.00  0.00           C  \\nATOM   1127  CD  ARG A 145     -10.645  10.751  -2.585  1.00  0.00           C  \\nATOM   1128  NE  ARG A 145     -10.145  10.801  -3.975  1.00  0.00           N  \\nATOM   1129  CZ  ARG A 145     -10.595  11.551  -4.935  1.00  0.00           C  \\nATOM   1130  NH1 ARG A 145     -11.505  12.521  -4.855  1.00  0.00           N  \\nATOM   1131  NH2 ARG A 145     -10.025  11.491  -6.095  1.00  0.00           N  \\nATOM   1132  C   ARG A 145     -11.185   6.711  -3.945  1.00  0.00           C  \\nATOM   1133  O   ARG A 145     -10.865   7.101  -5.055  1.00  0.00           O  \\nATOM   1134  N   TYR A 146     -11.435   5.461  -3.625  1.00  0.00           N  \\nATOM   1135  CA  TYR A 146     -11.005   4.311  -4.525  1.00  0.00           C  \\nATOM   1136  CB  TYR A 146     -11.545   3.031  -3.905  1.00  0.00           C  \\nATOM   1137  CG  TYR A 146     -10.645   2.151  -3.035  1.00  0.00           C  \\nATOM   1138  CD1 TYR A 146      -9.735   2.711  -2.125  1.00  0.00           C  \\nATOM   1139  CE1 TYR A 146      -8.955   1.841  -1.395  1.00  0.00           C  \\nATOM   1140  CZ  TYR A 146      -9.095   0.441  -1.485  1.00  0.00           C  \\nATOM   1141  OH  TYR A 146      -8.475  -0.389  -0.595  1.00  0.00           O  \\nATOM   1142  CE2 TYR A 146     -10.115  -0.109  -2.315  1.00  0.00           C  \\nATOM   1143  CD2 TYR A 146     -10.835   0.761  -3.135  1.00  0.00           C  \\nATOM   1144  C   TYR A 146     -11.295   4.391  -6.035  1.00  0.00           C  \\nATOM   1145  O   TYR A 146     -10.285   4.361  -6.785  1.00  0.00           O  \\nATOM   1146  N   LEU A 147     -12.495   4.391  -6.485  1.00  0.00           N  \\nATOM   1147  CA  LEU A 147     -12.905   4.711  -7.875  1.00  0.00           C  \\nATOM   1148  CB  LEU A 147     -14.465   4.531  -7.905  1.00  0.00           C  \\nATOM   1149  CG  LEU A 147     -15.115   4.811  -9.325  1.00  0.00           C  \\nATOM   1150  CD1 LEU A 147     -14.725   3.721 -10.375  1.00  0.00           C  \\nATOM   1151  CD2 LEU A 147     -16.635   4.781  -9.295  1.00  0.00           C  \\nATOM   1152  C   LEU A 147     -12.515   6.041  -8.415  1.00  0.00           C  \\nATOM   1153  O   LEU A 147     -11.925   6.031  -9.485  1.00  0.00           O  \\nATOM   1154  N   PRO A 148     -12.725   7.231  -7.735  1.00  0.00           N  \\nATOM   1155  CD  PRO A 148     -13.575   7.521  -6.535  1.00  0.00           C  \\nATOM   1156  CG  PRO A 148     -13.365   9.021  -6.235  1.00  0.00           C  \\nATOM   1157  CB  PRO A 148     -13.025   9.591  -7.635  1.00  0.00           C  \\nATOM   1158  CA  PRO A 148     -12.385   8.491  -8.435  1.00  0.00           C  \\nATOM   1159  C   PRO A 148     -10.835   8.641  -8.585  1.00  0.00           C  \\nATOM   1160  O   PRO A 148     -10.415   9.391  -9.445  1.00  0.00           O  \\nATOM   1161  N   ASP A 149     -10.065   8.041  -7.735  1.00  0.00           N  \\nATOM   1162  CA  ASP A 149      -8.565   7.951  -7.885  1.00  0.00           C  \\nATOM   1163  CB  ASP A 149      -7.885   7.481  -6.595  1.00  0.00           C  \\nATOM   1164  CG  ASP A 149      -7.625   8.631  -5.605  1.00  0.00           C  \\nATOM   1165  OD1 ASP A 149      -7.935   9.781  -5.825  1.00  0.00           O  \\nATOM   1166  OD2 ASP A 149      -7.205   8.291  -4.515  1.00  0.00           O  \\nATOM   1167  C   ASP A 149      -8.185   6.961  -8.965  1.00  0.00           C  \\nATOM   1168  O   ASP A 149      -7.305   7.181  -9.815  1.00  0.00           O  \\nATOM   1169  N   THR A 150      -8.975   5.851  -9.235  1.00  0.00           N  \\nATOM   1170  CA  THR A 150      -8.755   4.971 -10.365  1.00  0.00           C  \\nATOM   1171  CB  THR A 150      -9.565   3.681 -10.115  1.00  0.00           C  \\nATOM   1172  CG2 THR A 150      -9.585   2.691 -11.265  1.00  0.00           C  \\nATOM   1173  OG1 THR A 150      -9.075   2.951  -8.905  1.00  0.00           O  \\nATOM   1174  C   THR A 150      -9.245   5.571 -11.705  1.00  0.00           C  \\nATOM   1175  O   THR A 150      -8.665   5.311 -12.715  1.00  0.00           O  \\nATOM   1176  N   LEU A 151     -10.315   6.421 -11.615  1.00  0.00           N  \\nATOM   1177  CA  LEU A 151     -10.745   7.301 -12.735  1.00  0.00           C  \\nATOM   1178  CB  LEU A 151     -12.235   7.681 -12.495  1.00  0.00           C  \\nATOM   1179  CG  LEU A 151     -13.265   6.571 -12.425  1.00  0.00           C  \\nATOM   1180  CD1 LEU A 151     -14.645   7.151 -12.115  1.00  0.00           C  \\nATOM   1181  CD2 LEU A 151     -13.305   5.841 -13.785  1.00  0.00           C  \\nATOM   1182  C   LEU A 151      -9.835   8.591 -12.905  1.00  0.00           C  \\nATOM   1183  O   LEU A 151      -9.735   9.011 -14.065  1.00  0.00           O  \\nATOM   1184  N   LEU A 152      -9.075   9.041 -11.955  1.00  0.00           N  \\nATOM   1185  CA  LEU A 152      -7.955   9.991 -11.935  1.00  0.00           C  \\nATOM   1186  CB  LEU A 152      -7.845  10.561 -10.525  1.00  0.00           C  \\nATOM   1187  CG  LEU A 152      -6.695  11.621 -10.315  1.00  0.00           C  \\nATOM   1188  CD1 LEU A 152      -6.685  12.881 -11.185  1.00  0.00           C  \\nATOM   1189  CD2 LEU A 152      -6.845  12.211  -8.925  1.00  0.00           C  \\nATOM   1190  C   LEU A 152      -6.615   9.631 -12.565  1.00  0.00           C  \\nATOM   1191  O   LEU A 152      -6.065  10.311 -13.435  1.00  0.00           O  \\nATOM   1192  N   LEU A 153      -6.235   8.431 -12.315  1.00  0.00           N  \\nATOM   1193  CA  LEU A 153      -5.045   7.761 -12.835  1.00  0.00           C  \\nATOM   1194  CB  LEU A 153      -4.775   6.501 -12.045  1.00  0.00           C  \\nATOM   1195  CG  LEU A 153      -4.195   6.741 -10.695  1.00  0.00           C  \\nATOM   1196  CD1 LEU A 153      -4.175   5.361  -9.945  1.00  0.00           C  \\nATOM   1197  CD2 LEU A 153      -2.725   7.301 -10.815  1.00  0.00           C  \\nATOM   1198  C   LEU A 153      -5.125   7.551 -14.375  1.00  0.00           C  \\nATOM   1199  O   LEU A 153      -4.135   7.501 -15.135  1.00  0.00           O  \\nATOM   1200  N   GLU A 154      -6.385   7.261 -14.805  1.00  0.00           N  \\nATOM   1201  CA  GLU A 154      -6.765   7.041 -16.175  1.00  0.00           C  \\nATOM   1202  CB  GLU A 154      -7.955   6.101 -16.255  1.00  0.00           C  \\nATOM   1203  CG  GLU A 154      -8.385   5.761 -17.685  1.00  0.00           C  \\nATOM   1204  CD  GLU A 154      -9.485   4.801 -17.885  1.00  0.00           C  \\nATOM   1205  OE1 GLU A 154     -10.135   4.491 -16.905  1.00  0.00           O  \\nATOM   1206  OE2 GLU A 154      -9.735   4.341 -18.975  1.00  0.00           O  \\nATOM   1207  C   GLU A 154      -6.915   8.341 -16.915  1.00  0.00           C  \\nATOM   1208  O   GLU A 154      -6.455   8.441 -18.005  1.00  0.00           O  \\nATOM   1209  N   GLU A 155      -7.385   9.431 -16.305  1.00  0.00           N  \\nATOM   1210  CA  GLU A 155      -7.625  10.761 -17.035  1.00  0.00           C  \\nATOM   1211  CB  GLU A 155      -8.735  11.651 -16.405  1.00  0.00           C  \\nATOM   1212  CG  GLU A 155      -8.285  12.481 -15.145  1.00  0.00           C  \\nATOM   1213  CD  GLU A 155      -9.405  13.221 -14.445  1.00  0.00           C  \\nATOM   1214  OE1 GLU A 155      -9.215  14.331 -14.025  1.00  0.00           O  \\nATOM   1215  OE2 GLU A 155     -10.515  12.791 -14.665  1.00  0.00           O  \\nATOM   1216  C   GLU A 155      -6.315  11.571 -17.345  1.00  0.00           C  \\nATOM   1217  O   GLU A 155      -6.165  12.191 -18.385  1.00  0.00           O  \\nATOM   1218  N   CYS A 156      -5.375  11.371 -16.435  1.00  0.00           N  \\nATOM   1219  CA  CYS A 156      -3.905  11.661 -16.445  1.00  0.00           C  \\nATOM   1220  CB  CYS A 156      -3.315  11.661 -15.005  1.00  0.00           C  \\nATOM   1221  SG  CYS A 156      -4.115  13.001 -14.115  1.00  0.00           S  \\nATOM   1222  C   CYS A 156      -3.065  10.701 -17.225  1.00  0.00           C  \\nATOM   1223  O   CYS A 156      -1.855  10.861 -17.465  1.00  0.00           O  \\nATOM   1224  N   GLY A 157      -3.585   9.671 -17.725  1.00  0.00           N  \\nATOM   1225  CA  GLY A 157      -2.835   8.501 -18.405  1.00  0.00           C  \\nATOM   1226  C   GLY A 157      -1.625   7.841 -17.705  1.00  0.00           C  \\nATOM   1227  O   GLY A 157      -0.745   7.331 -18.385  1.00  0.00           O  \\nATOM   1228  N   LEU A 158      -1.605   7.881 -16.405  1.00  0.00           N  \\nATOM   1229  CA  LEU A 158      -0.555   7.251 -15.595  1.00  0.00           C  \\nATOM   1230  CB  LEU A 158      -0.685   8.031 -14.255  1.00  0.00           C  \\nATOM   1231  CG  LEU A 158      -0.115   9.451 -14.395  1.00  0.00           C  \\nATOM   1232  CD1 LEU A 158      -0.425  10.281 -13.145  1.00  0.00           C  \\nATOM   1233  CD2 LEU A 158       1.415   9.411 -14.485  1.00  0.00           C  \\nATOM   1234  C   LEU A 158      -0.785   5.721 -15.455  1.00  0.00           C  \\nATOM   1235  O   LEU A 158       0.075   5.021 -14.845  1.00  0.00           O  \\nATOM   1236  N   LEU A 159      -1.885   5.231 -15.985  1.00  0.00           N  \\nATOM   1237  CA  LEU A 159      -2.045   3.771 -16.265  1.00  0.00           C  \\nATOM   1238  CB  LEU A 159      -3.495   3.241 -16.025  1.00  0.00           C  \\nATOM   1239  CG  LEU A 159      -4.155   3.581 -14.585  1.00  0.00           C  \\nATOM   1240  CD1 LEU A 159      -5.575   3.021 -14.335  1.00  0.00           C  \\nATOM   1241  CD2 LEU A 159      -3.245   3.181 -13.395  1.00  0.00           C  \\nATOM   1242  C   LEU A 159      -1.775   3.551 -17.755  1.00  0.00           C  \\nATOM   1243  O   LEU A 159      -2.035   4.391 -18.575  1.00  0.00           O  \\nATOM   1244  N   ARG A 160      -1.275   2.411 -18.165  1.00  0.00           N  \\nATOM   1245  CA  ARG A 160      -1.035   2.021 -19.605  1.00  0.00           C  \\nATOM   1246  CB  ARG A 160       0.385   2.411 -20.075  1.00  0.00           C  \\nATOM   1247  CG  ARG A 160       1.485   1.881 -19.195  1.00  0.00           C  \\nATOM   1248  CD  ARG A 160       2.035   0.531 -19.615  1.00  0.00           C  \\nATOM   1249  NE  ARG A 160       3.065  -0.029 -18.705  1.00  0.00           N  \\nATOM   1250  CZ  ARG A 160       3.575  -1.269 -18.695  1.00  0.00           C  \\nATOM   1251  NH1 ARG A 160       3.075  -2.239 -19.505  1.00  0.00           N  \\nATOM   1252  NH2 ARG A 160       4.525  -1.539 -17.785  1.00  0.00           N  \\nATOM   1253  C   ARG A 160      -1.285   0.501 -19.765  1.00  0.00           C  \\nATOM   1254  O   ARG A 160      -1.495  -0.239 -18.765  1.00  0.00           O  \\nATOM   1255  N   LYS A 161      -1.195   0.011 -21.025  1.00  0.00           N  \\nATOM   1256  CA  LYS A 161      -1.525  -1.319 -21.355  1.00  0.00           C  \\nATOM   1257  CB  LYS A 161      -1.505  -1.609 -22.895  1.00  0.00           C  \\nATOM   1258  CG  LYS A 161      -2.355  -2.859 -23.295  1.00  0.00           C  \\nATOM   1259  CD  LYS A 161      -2.405  -3.109 -24.805  1.00  0.00           C  \\nATOM   1260  CE  LYS A 161      -3.125  -4.399 -25.195  1.00  0.00           C  \\nATOM   1261  NZ  LYS A 161      -3.215  -4.519 -26.675  1.00  0.00           N  \\nATOM   1262  C   LYS A 161      -0.595  -2.299 -20.585  1.00  0.00           C  \\nATOM   1263  O   LYS A 161       0.635  -2.419 -20.885  1.00  0.00           O  \\nATOM   1264  N   GLY A 162      -1.145  -2.929 -19.525  1.00  0.00           N  \\nATOM   1265  CA  GLY A 162      -0.455  -3.759 -18.645  1.00  0.00           C  \\nATOM   1266  C   GLY A 162       0.125  -3.229 -17.335  1.00  0.00           C  \\nATOM   1267  O   GLY A 162       0.995  -3.899 -16.765  1.00  0.00           O  \\nATOM   1268  N   THR A 163      -0.405  -2.039 -16.905  1.00  0.00           N  \\nATOM   1269  CA  THR A 163      -0.255  -1.579 -15.565  1.00  0.00           C  \\nATOM   1270  CB  THR A 163      -0.735  -0.169 -15.305  1.00  0.00           C  \\nATOM   1271  CG2 THR A 163      -0.555   0.421 -13.905  1.00  0.00           C  \\nATOM   1272  OG1 THR A 163      -0.035   0.721 -16.075  1.00  0.00           O  \\nATOM   1273  C   THR A 163      -1.045  -2.529 -14.615  1.00  0.00           C  \\nATOM   1274  O   THR A 163      -2.205  -2.819 -14.855  1.00  0.00           O  \\nATOM   1275  N   VAL A 164      -0.365  -2.919 -13.485  1.00  0.00           N  \\nATOM   1276  CA  VAL A 164      -1.015  -3.859 -12.565  1.00  0.00           C  \\nATOM   1277  CB  VAL A 164      -0.005  -4.889 -11.925  1.00  0.00           C  \\nATOM   1278  CG1 VAL A 164      -0.635  -5.719 -10.805  1.00  0.00           C  \\nATOM   1279  CG2 VAL A 164       0.615  -5.669 -13.075  1.00  0.00           C  \\nATOM   1280  C   VAL A 164      -1.695  -2.959 -11.515  1.00  0.00           C  \\nATOM   1281  O   VAL A 164      -1.045  -2.009 -11.025  1.00  0.00           O  \\nATOM   1282  N   LEU A 165      -2.875  -3.359 -11.085  1.00  0.00           N  \\nATOM   1283  CA  LEU A 165      -3.645  -2.659 -10.085  1.00  0.00           C  \\nATOM   1284  CB  LEU A 165      -4.925  -2.149 -10.765  1.00  0.00           C  \\nATOM   1285  CG  LEU A 165      -5.885  -1.319  -9.775  1.00  0.00           C  \\nATOM   1286  CD1 LEU A 165      -5.275  -0.059  -9.075  1.00  0.00           C  \\nATOM   1287  CD2 LEU A 165      -7.155  -1.019 -10.575  1.00  0.00           C  \\nATOM   1288  C   LEU A 165      -3.885  -3.689  -9.065  1.00  0.00           C  \\nATOM   1289  O   LEU A 165      -4.015  -4.829  -9.355  1.00  0.00           O  \\nATOM   1290  N   LEU A 166      -4.055  -3.249  -7.805  1.00  0.00           N  \\nATOM   1291  CA  LEU A 166      -4.315  -4.089  -6.575  1.00  0.00           C  \\nATOM   1292  CB  LEU A 166      -2.925  -4.739  -6.155  1.00  0.00           C  \\nATOM   1293  CG  LEU A 166      -3.115  -5.799  -4.975  1.00  0.00           C  \\nATOM   1294  CD1 LEU A 166      -4.015  -7.019  -5.345  1.00  0.00           C  \\nATOM   1295  CD2 LEU A 166      -1.815  -6.419  -4.475  1.00  0.00           C  \\nATOM   1296  C   LEU A 166      -4.985  -3.229  -5.505  1.00  0.00           C  \\nATOM   1297  O   LEU A 166      -4.595  -2.089  -5.255  1.00  0.00           O  \\nATOM   1298  N   ALA A 167      -6.025  -3.779  -4.885  1.00  0.00           N  \\nATOM   1299  CA  ALA A 167      -6.915  -3.129  -3.925  1.00  0.00           C  \\nATOM   1300  CB  ALA A 167      -8.195  -2.749  -4.605  1.00  0.00           C  \\nATOM   1301  C   ALA A 167      -7.205  -4.049  -2.765  1.00  0.00           C  \\nATOM   1302  O   ALA A 167      -7.495  -5.229  -2.895  1.00  0.00           O  \\nATOM   1303  N   ASP A 168      -7.205  -3.429  -1.565  1.00  0.00           N  \\nATOM   1304  CA  ASP A 168      -7.475  -4.119  -0.265  1.00  0.00           C  \\nATOM   1305  CB  ASP A 168      -6.235  -3.939   0.715  1.00  0.00           C  \\nATOM   1306  CG  ASP A 168      -6.385  -4.689   2.035  1.00  0.00           C  \\nATOM   1307  OD1 ASP A 168      -7.135  -5.679   2.075  1.00  0.00           O  \\nATOM   1308  OD2 ASP A 168      -5.925  -4.199   3.035  1.00  0.00           O  \\nATOM   1309  C   ASP A 168      -8.765  -3.739   0.435  1.00  0.00           C  \\nATOM   1310  O   ASP A 168      -9.305  -2.709  -0.035  1.00  0.00           O  \\nATOM   1311  N   ASN A 169      -9.375  -4.559   1.285  1.00  0.00           N  \\nATOM   1312  CA  ASN A 169     -10.615  -4.249   1.925  1.00  0.00           C  \\nATOM   1313  CB  ASN A 169     -10.515  -3.129   2.915  1.00  0.00           C  \\nATOM   1314  CG  ASN A 169      -9.535  -3.509   3.995  1.00  0.00           C  \\nATOM   1315  OD1 ASN A 169      -8.355  -3.079   3.845  1.00  0.00           O  \\nATOM   1316  ND2 ASN A 169      -9.965  -4.319   4.915  1.00  0.00           N  \\nATOM   1317  C   ASN A 169     -11.895  -4.239   1.105  1.00  0.00           C  \\nATOM   1318  O   ASN A 169     -12.885  -3.529   1.325  1.00  0.00           O  \\nATOM   1319  N   VAL A 170     -11.915  -5.049   0.045  1.00  0.00           N  \\nATOM   1320  CA  VAL A 170     -12.875  -4.979  -1.135  1.00  0.00           C  \\nATOM   1321  CB  VAL A 170     -12.225  -5.759  -2.275  1.00  0.00           C  \\nATOM   1322  CG1 VAL A 170     -13.105  -6.449  -3.335  1.00  0.00           C  \\nATOM   1323  CG2 VAL A 170     -11.195  -4.839  -3.005  1.00  0.00           C  \\nATOM   1324  C   VAL A 170     -14.225  -5.579  -0.655  1.00  0.00           C  \\nATOM   1325  O   VAL A 170     -15.265  -5.269  -1.275  1.00  0.00           O  \\nATOM   1326  N   ILE A 171     -14.315  -6.459   0.325  1.00  0.00           N  \\nATOM   1327  CA  ILE A 171     -15.535  -7.019   0.805  1.00  0.00           C  \\nATOM   1328  CB  ILE A 171     -15.395  -8.549   0.865  1.00  0.00           C  \\nATOM   1329  CG2 ILE A 171     -16.225  -9.279   1.945  1.00  0.00           C  \\nATOM   1330  CG1 ILE A 171     -15.785  -9.199  -0.525  1.00  0.00           C  \\nATOM   1331  CD1 ILE A 171     -17.215  -9.039  -1.035  1.00  0.00           C  \\nATOM   1332  C   ILE A 171     -15.925  -6.469   2.195  1.00  0.00           C  \\nATOM   1333  O   ILE A 171     -17.095  -6.279   2.495  1.00  0.00           O  \\nATOM   1334  N   CYS A 172     -14.985  -6.069   3.045  1.00  0.00           N  \\nATOM   1335  CA  CYS A 172     -15.085  -5.369   4.355  1.00  0.00           C  \\nATOM   1336  CB  CYS A 172     -15.005  -6.379   5.495  1.00  0.00           C  \\nATOM   1337  SG  CYS A 172     -15.125  -5.599   7.105  1.00  0.00           S  \\nATOM   1338  C   CYS A 172     -13.875  -4.369   4.615  1.00  0.00           C  \\nATOM   1339  O   CYS A 172     -12.715  -4.839   4.575  1.00  0.00           O  \\nATOM   1340  N   PRO A 173     -14.195  -3.129   4.985  1.00  0.00           N  \\nATOM   1341  CD  PRO A 173     -13.105  -2.359   5.605  1.00  0.00           C  \\nATOM   1342  CG  PRO A 173     -13.825  -1.329   6.465  1.00  0.00           C  \\nATOM   1343  CB  PRO A 173     -15.095  -1.039   5.565  1.00  0.00           C  \\nATOM   1344  CA  PRO A 173     -15.505  -2.409   4.945  1.00  0.00           C  \\nATOM   1345  C   PRO A 173     -16.195  -2.289   3.655  1.00  0.00           C  \\nATOM   1346  O   PRO A 173     -17.365  -1.889   3.645  1.00  0.00           O  \\nATOM   1347  N   GLY A 174     -15.555  -2.709   2.595  1.00  0.00           N  \\nATOM   1348  CA  GLY A 174     -16.005  -2.899   1.225  1.00  0.00           C  \\nATOM   1349  C   GLY A 174     -15.665  -1.699   0.315  1.00  0.00           C  \\nATOM   1350  O   GLY A 174     -15.305  -0.599   0.805  1.00  0.00           O  \\nATOM   1351  N   ALA A 175     -15.665  -1.939  -1.005  1.00  0.00           N  \\nATOM   1352  CA  ALA A 175     -15.335  -0.959  -2.035  1.00  0.00           C  \\nATOM   1353  CB  ALA A 175     -13.885  -1.139  -2.465  1.00  0.00           C  \\nATOM   1354  C   ALA A 175     -16.345  -1.229  -3.165  1.00  0.00           C  \\nATOM   1355  O   ALA A 175     -15.915  -1.569  -4.295  1.00  0.00           O  \\nATOM   1356  N   PRO A 176     -17.675  -1.079  -2.905  1.00  0.00           N  \\nATOM   1357  CD  PRO A 176     -18.325  -0.419  -1.775  1.00  0.00           C  \\nATOM   1358  CG  PRO A 176     -19.595  -1.249  -1.555  1.00  0.00           C  \\nATOM   1359  CB  PRO A 176     -19.965  -1.679  -2.995  1.00  0.00           C  \\nATOM   1360  CA  PRO A 176     -18.625  -1.739  -3.725  1.00  0.00           C  \\nATOM   1361  C   PRO A 176     -18.835  -1.169  -5.115  1.00  0.00           C  \\nATOM   1362  O   PRO A 176     -19.065  -1.849  -6.095  1.00  0.00           O  \\nATOM   1363  N   ASP A 177     -18.675   0.161  -5.335  1.00  0.00           N  \\nATOM   1364  CA  ASP A 177     -18.725   0.891  -6.635  1.00  0.00           C  \\nATOM   1365  CB  ASP A 177     -19.005   2.431  -6.475  1.00  0.00           C  \\nATOM   1366  CG  ASP A 177     -20.475   2.691  -6.175  1.00  0.00           C  \\nATOM   1367  OD1 ASP A 177     -21.315   1.811  -6.255  1.00  0.00           O  \\nATOM   1368  OD2 ASP A 177     -20.805   3.771  -5.735  1.00  0.00           O  \\nATOM   1369  C   ASP A 177     -17.435   0.791  -7.485  1.00  0.00           C  \\nATOM   1370  O   ASP A 177     -17.465   0.591  -8.685  1.00  0.00           O  \\nATOM   1371  N   PHE A 178     -16.295   0.911  -6.875  1.00  0.00           N  \\nATOM   1372  CA  PHE A 178     -14.955   0.491  -7.385  1.00  0.00           C  \\nATOM   1373  CB  PHE A 178     -13.915   0.461  -6.285  1.00  0.00           C  \\nATOM   1374  CG  PHE A 178     -12.585  -0.109  -6.725  1.00  0.00           C  \\nATOM   1375  CD1 PHE A 178     -11.655   0.701  -7.365  1.00  0.00           C  \\nATOM   1376  CE1 PHE A 178     -10.545   0.021  -7.885  1.00  0.00           C  \\nATOM   1377  CZ  PHE A 178     -10.305  -1.329  -7.715  1.00  0.00           C  \\nATOM   1378  CE2 PHE A 178     -11.205  -2.039  -6.955  1.00  0.00           C  \\nATOM   1379  CD2 PHE A 178     -12.315  -1.419  -6.385  1.00  0.00           C  \\nATOM   1380  C   PHE A 178     -15.005  -0.919  -8.055  1.00  0.00           C  \\nATOM   1381  O   PHE A 178     -14.565  -1.139  -9.175  1.00  0.00           O  \\nATOM   1382  N   LEU A 179     -15.485  -1.859  -7.275  1.00  0.00           N  \\nATOM   1383  CA  LEU A 179     -15.535  -3.299  -7.655  1.00  0.00           C  \\nATOM   1384  CB  LEU A 179     -16.025  -4.119  -6.435  1.00  0.00           C  \\nATOM   1385  CG  LEU A 179     -15.925  -5.649  -6.535  1.00  0.00           C  \\nATOM   1386  CD1 LEU A 179     -14.375  -6.039  -6.595  1.00  0.00           C  \\nATOM   1387  CD2 LEU A 179     -16.515  -6.269  -5.305  1.00  0.00           C  \\nATOM   1388  C   LEU A 179     -16.385  -3.579  -8.915  1.00  0.00           C  \\nATOM   1389  O   LEU A 179     -15.995  -4.379  -9.715  1.00  0.00           O  \\nATOM   1390  N   ALA A 180     -17.575  -2.849  -9.055  1.00  0.00           N  \\nATOM   1391  CA  ALA A 180     -18.515  -2.939 -10.205  1.00  0.00           C  \\nATOM   1392  CB  ALA A 180     -19.735  -2.299  -9.565  1.00  0.00           C  \\nATOM   1393  C   ALA A 180     -18.045  -2.109 -11.415  1.00  0.00           C  \\nATOM   1394  O   ALA A 180     -18.615  -2.289 -12.535  1.00  0.00           O  \\nATOM   1395  N   HIE A 181     -17.045  -1.199 -11.275  1.00  0.00           N  \\nATOM   1396  CA  HIE A 181     -16.235  -0.629 -12.315  1.00  0.00           C  \\nATOM   1397  CB  HIE A 181     -15.515   0.691 -11.835  1.00  0.00           C  \\nATOM   1398  CG  HIE A 181     -14.645   1.301 -12.965  1.00  0.00           C  \\nATOM   1399  ND1 HIE A 181     -15.055   1.401 -14.295  1.00  0.00           N  \\nATOM   1400  CE1 HIE A 181     -13.915   1.781 -14.935  1.00  0.00           C  \\nATOM   1401  NE2 HIE A 181     -12.925   2.131 -14.085  1.00  0.00           N  \\nATOM   1402  CD2 HIE A 181     -13.385   1.761 -12.785  1.00  0.00           C  \\nATOM   1403  C   HIE A 181     -15.215  -1.699 -12.835  1.00  0.00           C  \\nATOM   1404  O   HIE A 181     -15.325  -2.179 -13.935  1.00  0.00           O  \\nATOM   1405  N   VAL A 182     -14.235  -2.049 -11.985  1.00  0.00           N  \\nATOM   1406  CA  VAL A 182     -13.155  -2.949 -12.425  1.00  0.00           C  \\nATOM   1407  CB  VAL A 182     -12.055  -3.049 -11.335  1.00  0.00           C  \\nATOM   1408  CG1 VAL A 182     -11.375  -1.639 -11.065  1.00  0.00           C  \\nATOM   1409  CG2 VAL A 182     -12.435  -3.769 -10.095  1.00  0.00           C  \\nATOM   1410  C   VAL A 182     -13.595  -4.249 -13.045  1.00  0.00           C  \\nATOM   1411  O   VAL A 182     -13.085  -4.609 -14.145  1.00  0.00           O  \\nATOM   1412  N   ARG A 183     -14.595  -4.909 -12.455  1.00  0.00           N  \\nATOM   1413  CA  ARG A 183     -15.155  -6.149 -12.995  1.00  0.00           C  \\nATOM   1414  CB  ARG A 183     -15.945  -6.809 -11.855  1.00  0.00           C  \\nATOM   1415  CG  ARG A 183     -15.015  -7.559 -10.895  1.00  0.00           C  \\nATOM   1416  CD  ARG A 183     -15.835  -8.179  -9.795  1.00  0.00           C  \\nATOM   1417  NE  ARG A 183     -15.035  -8.889  -8.765  1.00  0.00           N  \\nATOM   1418  CZ  ARG A 183     -15.505  -9.499  -7.655  1.00  0.00           C  \\nATOM   1419  NH1 ARG A 183     -16.825  -9.609  -7.495  1.00  0.00           N  \\nATOM   1420  NH2 ARG A 183     -14.685 -10.029  -6.735  1.00  0.00           N  \\nATOM   1421  C   ARG A 183     -16.045  -6.099 -14.255  1.00  0.00           C  \\nATOM   1422  O   ARG A 183     -16.495  -7.109 -14.775  1.00  0.00           O  \\nATOM   1423  N   GLY A 184     -16.565  -4.909 -14.645  1.00  0.00           N  \\nATOM   1424  CA  GLY A 184     -17.565  -4.749 -15.735  1.00  0.00           C  \\nATOM   1425  C   GLY A 184     -16.795  -4.169 -16.885  1.00  0.00           C  \\nATOM   1426  O   GLY A 184     -16.905  -4.629 -18.005  1.00  0.00           O  \\nATOM   1427  N   SER A 185     -16.015  -3.129 -16.615  1.00  0.00           N  \\nATOM   1428  CA  SER A 185     -15.415  -2.269 -17.705  1.00  0.00           C  \\nATOM   1429  CB  SER A 185     -14.725  -1.029 -17.065  1.00  0.00           C  \\nATOM   1430  OG  SER A 185     -14.345  -0.109 -18.165  1.00  0.00           O  \\nATOM   1431  C   SER A 185     -14.475  -2.999 -18.645  1.00  0.00           C  \\nATOM   1432  O   SER A 185     -13.615  -3.749 -18.175  1.00  0.00           O  \\nATOM   1433  N   SER A 186     -14.635  -2.759 -19.955  1.00  0.00           N  \\nATOM   1434  CA  SER A 186     -13.725  -3.189 -21.045  1.00  0.00           C  \\nATOM   1435  CB  SER A 186     -13.965  -2.539 -22.355  1.00  0.00           C  \\nATOM   1436  OG  SER A 186     -15.345  -2.949 -22.675  1.00  0.00           O  \\nATOM   1437  C   SER A 186     -12.275  -2.849 -20.745  1.00  0.00           C  \\nATOM   1438  O   SER A 186     -11.395  -3.469 -21.275  1.00  0.00           O  \\nATOM   1439  N   CYS A 187     -12.055  -1.799 -19.955  1.00  0.00           N  \\nATOM   1440  CA  CYS A 187     -10.695  -1.269 -19.775  1.00  0.00           C  \\nATOM   1441  CB  CYS A 187     -10.805   0.221 -19.485  1.00  0.00           C  \\nATOM   1442  SG  CYS A 187     -12.025   1.031 -20.525  1.00  0.00           S  \\nATOM   1443  C   CYS A 187      -9.875  -2.109 -18.845  1.00  0.00           C  \\nATOM   1444  O   CYS A 187      -8.635  -1.949 -18.855  1.00  0.00           O  \\nATOM   1445  N   PHE A 188     -10.505  -2.979 -17.985  1.00  0.00           N  \\nATOM   1446  CA  PHE A 188      -9.785  -3.839 -17.035  1.00  0.00           C  \\nATOM   1447  CB  PHE A 188     -10.065  -3.289 -15.585  1.00  0.00           C  \\nATOM   1448  CG  PHE A 188      -9.445  -1.969 -15.195  1.00  0.00           C  \\nATOM   1449  CD1 PHE A 188      -8.275  -1.859 -14.365  1.00  0.00           C  \\nATOM   1450  CE1 PHE A 188      -7.815  -0.589 -13.885  1.00  0.00           C  \\nATOM   1451  CZ  PHE A 188      -8.565   0.521 -14.105  1.00  0.00           C  \\nATOM   1452  CE2 PHE A 188      -9.695   0.481 -14.945  1.00  0.00           C  \\nATOM   1453  CD2 PHE A 188     -10.085  -0.709 -15.525  1.00  0.00           C  \\nATOM   1454  C   PHE A 188     -10.155  -5.309 -17.195  1.00  0.00           C  \\nATOM   1455  O   PHE A 188     -11.205  -5.679 -17.735  1.00  0.00           O  \\nATOM   1456  N   GLU A 189      -9.345  -6.179 -16.565  1.00  0.00           N  \\nATOM   1457  CA  GLU A 189      -9.645  -7.559 -16.365  1.00  0.00           C  \\nATOM   1458  CB  GLU A 189      -9.395  -8.479 -17.615  1.00  0.00           C  \\nATOM   1459  CG  GLU A 189      -8.035  -8.179 -18.285  1.00  0.00           C  \\nATOM   1460  CD  GLU A 189      -7.645  -9.069 -19.395  1.00  0.00           C  \\nATOM   1461  OE1 GLU A 189      -6.665  -9.719 -19.345  1.00  0.00           O  \\nATOM   1462  OE2 GLU A 189      -8.375  -9.199 -20.345  1.00  0.00           O  \\nATOM   1463  C   GLU A 189      -8.915  -8.099 -15.135  1.00  0.00           C  \\nATOM   1464  O   GLU A 189      -7.725  -7.829 -14.875  1.00  0.00           O  \\nATOM   1465  N   CYS A 190      -9.705  -8.869 -14.315  1.00  0.00           N  \\nATOM   1466  CA  CYS A 190      -9.715  -8.869 -12.895  1.00  0.00           C  \\nATOM   1467  CB  CYS A 190     -10.965  -8.059 -12.345  1.00  0.00           C  \\nATOM   1468  SG  CYS A 190     -10.745  -6.289 -12.625  1.00  0.00           S  \\nATOM   1469  C   CYS A 190      -9.625 -10.219 -12.275  1.00  0.00           C  \\nATOM   1470  O   CYS A 190     -10.055 -11.229 -12.865  1.00  0.00           O  \\nATOM   1471  N   THR A 191      -9.065 -10.389 -11.075  1.00  0.00           N  \\nATOM   1472  CA  THR A 191      -8.765 -11.609 -10.305  1.00  0.00           C  \\nATOM   1473  CB  THR A 191      -7.265 -12.059 -10.485  1.00  0.00           C  \\nATOM   1474  CG2 THR A 191      -6.945 -13.409  -9.905  1.00  0.00           C  \\nATOM   1475  OG1 THR A 191      -6.925 -12.019 -11.855  1.00  0.00           O  \\nATOM   1476  C   THR A 191      -9.075 -11.329  -8.895  1.00  0.00           C  \\nATOM   1477  O   THR A 191      -8.755 -10.259  -8.325  1.00  0.00           O  \\nATOM   1478  N   HIE A 192      -9.825 -12.249  -8.245  1.00  0.00           N  \\nATOM   1479  CA  HIE A 192     -10.335 -12.079  -6.875  1.00  0.00           C  \\nATOM   1480  CB  HIE A 192     -11.885 -12.329  -6.745  1.00  0.00           C  \\nATOM   1481  CG  HIE A 192     -12.355 -13.749  -6.985  1.00  0.00           C  \\nATOM   1482  ND1 HIE A 192     -11.815 -14.709  -7.835  1.00  0.00           N  \\nATOM   1483  CE1 HIE A 192     -12.635 -15.719  -7.705  1.00  0.00           C  \\nATOM   1484  NE2 HIE A 192     -13.725 -15.399  -6.965  1.00  0.00           N  \\nATOM   1485  CD2 HIE A 192     -13.585 -14.139  -6.445  1.00  0.00           C  \\nATOM   1486  C   HIE A 192      -9.555 -12.939  -5.925  1.00  0.00           C  \\nATOM   1487  O   HIE A 192      -9.315 -14.069  -6.185  1.00  0.00           O  \\nATOM   1488  N   TYR A 193      -9.465 -12.389  -4.715  1.00  0.00           N  \\nATOM   1489  CA  TYR A 193      -8.685 -12.939  -3.635  1.00  0.00           C  \\nATOM   1490  CB  TYR A 193      -7.425 -12.149  -3.625  1.00  0.00           C  \\nATOM   1491  CG  TYR A 193      -6.235 -12.349  -4.675  1.00  0.00           C  \\nATOM   1492  CD1 TYR A 193      -6.265 -11.719  -5.915  1.00  0.00           C  \\nATOM   1493  CE1 TYR A 193      -5.345 -11.969  -6.915  1.00  0.00           C  \\nATOM   1494  CZ  TYR A 193      -4.255 -12.919  -6.675  1.00  0.00           C  \\nATOM   1495  OH  TYR A 193      -3.255 -13.029  -7.525  1.00  0.00           O  \\nATOM   1496  CE2 TYR A 193      -4.245 -13.559  -5.365  1.00  0.00           C  \\nATOM   1497  CD2 TYR A 193      -5.145 -13.159  -4.385  1.00  0.00           C  \\nATOM   1498  C   TYR A 193      -9.465 -12.869  -2.375  1.00  0.00           C  \\nATOM   1499  O   TYR A 193     -10.025 -11.849  -1.995  1.00  0.00           O  \\nATOM   1500  N   GLN A 194      -9.675 -13.999  -1.635  1.00  0.00           N  \\nATOM   1501  CA  GLN A 194     -10.375 -14.099  -0.385  1.00  0.00           C  \\nATOM   1502  CB  GLN A 194     -10.985 -15.509  -0.125  1.00  0.00           C  \\nATOM   1503  CG  GLN A 194     -12.165 -15.859  -1.035  1.00  0.00           C  \\nATOM   1504  CD  GLN A 194     -12.675 -17.269  -0.745  1.00  0.00           C  \\nATOM   1505  OE1 GLN A 194     -12.025 -18.059  -0.125  1.00  0.00           O  \\nATOM   1506  NE2 GLN A 194     -13.785 -17.759  -1.315  1.00  0.00           N  \\nATOM   1507  C   GLN A 194      -9.435 -13.769   0.765  1.00  0.00           C  \\nATOM   1508  O   GLN A 194      -8.245 -14.089   0.715  1.00  0.00           O  \\nATOM   1509  N   SER A 195      -9.895 -13.299   1.935  1.00  0.00           N  \\nATOM   1510  CA  SER A 195      -9.085 -12.919   3.135  1.00  0.00           C  \\nATOM   1511  CB  SER A 195      -8.225 -11.669   2.695  1.00  0.00           C  \\nATOM   1512  OG  SER A 195      -7.155 -11.719   3.615  1.00  0.00           O  \\nATOM   1513  C   SER A 195     -10.005 -12.709   4.295  1.00  0.00           C  \\nATOM   1514  O   SER A 195     -11.145 -13.239   4.345  1.00  0.00           O  \\nATOM   1515  N   PHE A 196      -9.515 -11.939   5.245  1.00  0.00           N  \\nATOM   1516  CA  PHE A 196     -10.185 -11.579   6.555  1.00  0.00           C  \\nATOM   1517  CB  PHE A 196      -9.795 -12.549   7.715  1.00  0.00           C  \\nATOM   1518  CG  PHE A 196      -8.335 -12.579   8.065  1.00  0.00           C  \\nATOM   1519  CD1 PHE A 196      -7.945 -11.869   9.185  1.00  0.00           C  \\nATOM   1520  CE1 PHE A 196      -6.715 -12.039   9.715  1.00  0.00           C  \\nATOM   1521  CZ  PHE A 196      -5.855 -12.859   9.055  1.00  0.00           C  \\nATOM   1522  CE2 PHE A 196      -6.225 -13.569   7.925  1.00  0.00           C  \\nATOM   1523  CD2 PHE A 196      -7.455 -13.369   7.355  1.00  0.00           C  \\nATOM   1524  C   PHE A 196      -9.795 -10.179   6.845  1.00  0.00           C  \\nATOM   1525  O   PHE A 196      -8.695  -9.729   6.445  1.00  0.00           O  \\nATOM   1526  N   LEU A 197     -10.575  -9.409   7.555  1.00  0.00           N  \\nATOM   1527  CA  LEU A 197     -10.205  -8.049   7.965  1.00  0.00           C  \\nATOM   1528  CB  LEU A 197     -11.415  -7.409   8.745  1.00  0.00           C  \\nATOM   1529  CG  LEU A 197     -11.075  -6.109   9.455  1.00  0.00           C  \\nATOM   1530  CD1 LEU A 197     -10.705  -4.969   8.485  1.00  0.00           C  \\nATOM   1531  CD2 LEU A 197     -12.285  -5.599  10.295  1.00  0.00           C  \\nATOM   1532  C   LEU A 197      -9.015  -8.099   8.865  1.00  0.00           C  \\nATOM   1533  O   LEU A 197      -8.915  -8.919   9.735  1.00  0.00           O  \\nATOM   1534  N   GLU A 198      -8.065  -7.259   8.545  1.00  0.00           N  \\nATOM   1535  CA  GLU A 198      -6.755  -7.149   9.215  1.00  0.00           C  \\nATOM   1536  CB  GLU A 198      -5.785  -6.069   8.655  1.00  0.00           C  \\nATOM   1537  CG  GLU A 198      -6.535  -4.709   8.395  1.00  0.00           C  \\nATOM   1538  CD  GLU A 198      -7.035  -4.639   6.975  1.00  0.00           C  \\nATOM   1539  OE1 GLU A 198      -7.875  -5.379   6.635  1.00  0.00           O  \\nATOM   1540  OE2 GLU A 198      -6.585  -3.919   6.085  1.00  0.00           O  \\nATOM   1541  C   GLU A 198      -6.785  -7.039  10.725  1.00  0.00           C  \\nATOM   1542  O   GLU A 198      -7.385  -6.209  11.385  1.00  0.00           O  \\nATOM   1543  N   TYR A 199      -6.035  -7.999  11.275  1.00  0.00           N  \\nATOM   1544  CA  TYR A 199      -5.895  -8.439  12.665  1.00  0.00           C  \\nATOM   1545  CB  TYR A 199      -4.785  -7.629  13.355  1.00  0.00           C  \\nATOM   1546  CG  TYR A 199      -3.375  -7.899  12.795  1.00  0.00           C  \\nATOM   1547  CD1 TYR A 199      -2.595  -8.899  13.415  1.00  0.00           C  \\nATOM   1548  CE1 TYR A 199      -1.385  -9.219  12.855  1.00  0.00           C  \\nATOM   1549  CZ  TYR A 199      -0.865  -8.459  11.765  1.00  0.00           C  \\nATOM   1550  OH  TYR A 199       0.245  -8.869  11.045  1.00  0.00           O  \\nATOM   1551  CE2 TYR A 199      -1.595  -7.369  11.325  1.00  0.00           C  \\nATOM   1552  CD2 TYR A 199      -2.845  -7.059  11.835  1.00  0.00           C  \\nATOM   1553  C   TYR A 199      -7.195  -8.589  13.445  1.00  0.00           C  \\nATOM   1554  O   TYR A 199      -7.195  -8.559  14.685  1.00  0.00           O  \\nATOM   1555  N   ARG A 200      -8.345  -8.749  12.775  1.00  0.00           N  \\nATOM   1556  CA  ARG A 200      -9.725  -9.129  13.305  1.00  0.00           C  \\nATOM   1557  CB  ARG A 200     -10.745  -7.969  12.955  1.00  0.00           C  \\nATOM   1558  CG  ARG A 200     -10.265  -6.539  13.365  1.00  0.00           C  \\nATOM   1559  CD  ARG A 200     -10.405  -6.259  14.895  1.00  0.00           C  \\nATOM   1560  NE  ARG A 200      -9.265  -6.849  15.625  1.00  0.00           N  \\nATOM   1561  CZ  ARG A 200      -8.935  -6.589  16.935  1.00  0.00           C  \\nATOM   1562  NH1 ARG A 200      -9.785  -5.889  17.705  1.00  0.00           N  \\nATOM   1563  NH2 ARG A 200      -7.795  -7.069  17.485  1.00  0.00           N  \\nATOM   1564  C   ARG A 200     -10.085 -10.469  12.665  1.00  0.00           C  \\nATOM   1565  O   ARG A 200      -9.185 -11.199  12.255  1.00  0.00           O  \\nATOM   1566  N   GLU A 201     -11.385 -10.929  12.665  1.00  0.00           N  \\nATOM   1567  CA  GLU A 201     -11.805 -12.259  12.055  1.00  0.00           C  \\nATOM   1568  CB  GLU A 201     -12.295 -13.209  13.195  1.00  0.00           C  \\nATOM   1569  CG  GLU A 201     -11.095 -13.869  13.925  1.00  0.00           C  \\nATOM   1570  CD  GLU A 201     -11.585 -14.429  15.265  1.00  0.00           C  \\nATOM   1571  OE1 GLU A 201     -12.355 -15.369  15.335  1.00  0.00           O  \\nATOM   1572  OE2 GLU A 201     -11.095 -14.049  16.305  1.00  0.00           O  \\nATOM   1573  C   GLU A 201     -12.795 -12.219  10.965  1.00  0.00           C  \\nATOM   1574  O   GLU A 201     -12.685 -13.089  10.125  1.00  0.00           O  \\nATOM   1575  N   VAL A 202     -13.665 -11.179  10.965  1.00  0.00           N  \\nATOM   1576  CA  VAL A 202     -14.705 -11.019   9.895  1.00  0.00           C  \\nATOM   1577  CB  VAL A 202     -15.625  -9.719  10.125  1.00  0.00           C  \\nATOM   1578  CG1 VAL A 202     -16.575  -9.929  11.325  1.00  0.00           C  \\nATOM   1579  CG2 VAL A 202     -14.815  -8.409  10.275  1.00  0.00           C  \\nATOM   1580  C   VAL A 202     -14.125 -11.189   8.445  1.00  0.00           C  \\nATOM   1581  O   VAL A 202     -13.125 -10.609   8.135  1.00  0.00           O  \\nATOM   1582  N   VAL A 203     -14.885 -11.859   7.585  1.00  0.00           N  \\nATOM   1583  CA  VAL A 203     -14.505 -12.169   6.205  1.00  0.00           C  \\nATOM   1584  CB  VAL A 203     -15.735 -12.999   5.655  1.00  0.00           C  \\nATOM   1585  CG1 VAL A 203     -15.595 -13.319   4.145  1.00  0.00           C  \\nATOM   1586  CG2 VAL A 203     -15.875 -14.399   6.345  1.00  0.00           C  \\nATOM   1587  C   VAL A 203     -14.135 -10.909   5.365  1.00  0.00           C  \\nATOM   1588  O   VAL A 203     -14.825  -9.929   5.465  1.00  0.00           O  \\nATOM   1589  N   ASP A 204     -13.165 -11.029   4.505  1.00  0.00           N  \\nATOM   1590  CA  ASP A 204     -12.805  -9.989   3.485  1.00  0.00           C  \\nATOM   1591  CB  ASP A 204     -11.905  -8.989   4.155  1.00  0.00           C  \\nATOM   1592  CG  ASP A 204     -11.715  -7.669   3.465  1.00  0.00           C  \\nATOM   1593  OD1 ASP A 204     -12.545  -7.299   2.665  1.00  0.00           O  \\nATOM   1594  OD2 ASP A 204     -10.695  -7.179   3.815  1.00  0.00           O  \\nATOM   1595  C   ASP A 204     -12.205 -10.599   2.225  1.00  0.00           C  \\nATOM   1596  O   ASP A 204     -12.165 -11.809   2.025  1.00  0.00           O  \\nATOM   1597  N   GLY A 205     -11.685  -9.699   1.385  1.00  0.00           N  \\nATOM   1598  CA  GLY A 205     -11.085  -9.919   0.125  1.00  0.00           C  \\nATOM   1599  C   GLY A 205     -10.085  -8.779  -0.315  1.00  0.00           C  \\nATOM   1600  O   GLY A 205      -9.895  -7.729   0.335  1.00  0.00           O  \\nATOM   1601  N   LEU A 206      -9.375  -9.029  -1.405  1.00  0.00           N  \\nATOM   1602  CA  LEU A 206      -8.635  -8.099  -2.245  1.00  0.00           C  \\nATOM   1603  CB  LEU A 206      -7.085  -8.329  -2.135  1.00  0.00           C  \\nATOM   1604  CG  LEU A 206      -6.435  -8.169  -0.735  1.00  0.00           C  \\nATOM   1605  CD1 LEU A 206      -6.415  -9.459   0.155  1.00  0.00           C  \\nATOM   1606  CD2 LEU A 206      -4.945  -7.829  -0.865  1.00  0.00           C  \\nATOM   1607  C   LEU A 206      -8.995  -8.369  -3.735  1.00  0.00           C  \\nATOM   1608  O   LEU A 206      -9.435  -9.449  -4.055  1.00  0.00           O  \\nATOM   1609  N   GLU A 207      -8.725  -7.429  -4.545  1.00  0.00           N  \\nATOM   1610  CA  GLU A 207      -8.965  -7.589  -6.005  1.00  0.00           C  \\nATOM   1611  CB  GLU A 207     -10.315  -6.879  -6.425  1.00  0.00           C  \\nATOM   1612  CG  GLU A 207     -10.765  -7.189  -7.805  1.00  0.00           C  \\nATOM   1613  CD  GLU A 207     -11.755  -8.379  -7.855  1.00  0.00           C  \\nATOM   1614  OE1 GLU A 207     -12.105  -9.049  -6.885  1.00  0.00           O  \\nATOM   1615  OE2 GLU A 207     -12.235  -8.749  -8.935  1.00  0.00           O  \\nATOM   1616  C   GLU A 207      -7.765  -7.139  -6.895  1.00  0.00           C  \\nATOM   1617  O   GLU A 207      -7.395  -5.959  -6.765  1.00  0.00           O  \\nATOM   1618  N   LYS A 208      -7.235  -8.049  -7.755  1.00  0.00           N  \\nATOM   1619  CA  LYS A 208      -6.015  -7.739  -8.675  1.00  0.00           C  \\nATOM   1620  CB  LYS A 208      -5.055  -8.969  -8.675  1.00  0.00           C  \\nATOM   1621  CG  LYS A 208      -3.725  -8.889  -9.515  1.00  0.00           C  \\nATOM   1622  CD  LYS A 208      -3.945  -9.389 -10.975  1.00  0.00           C  \\nATOM   1623  CE  LYS A 208      -2.595  -9.519 -11.795  1.00  0.00           C  \\nATOM   1624  NZ  LYS A 208      -1.505 -10.459 -11.335  1.00  0.00           N  \\nATOM   1625  C   LYS A 208      -6.465  -7.489 -10.045  1.00  0.00           C  \\nATOM   1626  O   LYS A 208      -7.305  -8.229 -10.555  1.00  0.00           O  \\nATOM   1627  N   ALA A 209      -5.945  -6.519 -10.775  1.00  0.00           N  \\nATOM   1628  CA  ALA A 209      -6.445  -6.199 -12.145  1.00  0.00           C  \\nATOM   1629  CB  ALA A 209      -7.645  -5.229 -12.115  1.00  0.00           C  \\nATOM   1630  C   ALA A 209      -5.335  -5.859 -13.065  1.00  0.00           C  \\nATOM   1631  O   ALA A 209      -4.305  -5.249 -12.685  1.00  0.00           O  \\nATOM   1632  N   ILE A 210      -5.505  -6.209 -14.325  1.00  0.00           N  \\nATOM   1633  CA  ILE A 210      -4.755  -5.619 -15.485  1.00  0.00           C  \\nATOM   1634  CB  ILE A 210      -4.265  -6.639 -16.555  1.00  0.00           C  \\nATOM   1635  CG2 ILE A 210      -3.625  -5.949 -17.785  1.00  0.00           C  \\nATOM   1636  CG1 ILE A 210      -3.335  -7.709 -15.925  1.00  0.00           C  \\nATOM   1637  CD1 ILE A 210      -2.145  -7.259 -15.065  1.00  0.00           C  \\nATOM   1638  C   ILE A 210      -5.595  -4.489 -16.215  1.00  0.00           C  \\nATOM   1639  O   ILE A 210      -6.635  -4.809 -16.795  1.00  0.00           O  \\nATOM   1640  N   TYR A 211      -5.055  -3.279 -16.225  1.00  0.00           N  \\nATOM   1641  CA  TYR A 211      -5.635  -2.219 -17.065  1.00  0.00           C  \\nATOM   1642  CB  TYR A 211      -5.085  -0.819 -16.595  1.00  0.00           C  \\nATOM   1643  CG  TYR A 211      -5.635   0.291 -17.485  1.00  0.00           C  \\nATOM   1644  CD1 TYR A 211      -7.035   0.611 -17.395  1.00  0.00           C  \\nATOM   1645  CE1 TYR A 211      -7.575   1.661 -18.125  1.00  0.00           C  \\nATOM   1646  CZ  TYR A 211      -6.775   2.311 -19.055  1.00  0.00           C  \\nATOM   1647  OH  TYR A 211      -7.305   3.321 -19.725  1.00  0.00           O  \\nATOM   1648  CE2 TYR A 211      -5.405   2.001 -19.215  1.00  0.00           C  \\nATOM   1649  CD2 TYR A 211      -4.845   0.971 -18.385  1.00  0.00           C  \\nATOM   1650  C   TYR A 211      -5.075  -2.559 -18.495  1.00  0.00           C  \\nATOM   1651  O   TYR A 211      -3.855  -2.589 -18.695  1.00  0.00           O  \\nATOM   1652  N   LYS A 212      -6.015  -2.859 -19.385  1.00  0.00           N  \\nATOM   1653  CA  LYS A 212      -5.655  -2.999 -20.795  1.00  0.00           C  \\nATOM   1654  CB  LYS A 212      -6.035  -4.429 -21.195  1.00  0.00           C  \\nATOM   1655  CG  LYS A 212      -7.595  -4.669 -21.045  1.00  0.00           C  \\nATOM   1656  CD  LYS A 212      -8.035  -6.019 -21.705  1.00  0.00           C  \\nATOM   1657  CE  LYS A 212      -9.575  -6.099 -21.685  1.00  0.00           C  \\nATOM   1658  NZ  LYS A 212     -10.235  -7.439 -21.885  1.00  0.00           N  \\nATOM   1659  C   LYS A 212      -6.265  -1.979 -21.695  1.00  0.00           C  \\nATOM   1660  O   LYS A 212      -5.755  -1.829 -22.825  1.00  0.00           O  \\nATOM   1661  N   GLY A 213      -7.245  -1.169 -21.325  1.00  0.00           N  \\nATOM   1662  CA  GLY A 213      -7.795  -0.089 -22.155  1.00  0.00           C  \\nATOM   1663  C   GLY A 213      -8.845  -0.709 -23.095  1.00  0.00           C  \\nATOM   1664  O   GLY A 213      -8.995  -1.919 -23.195  1.00  0.00           O  \\nATOM   1665  N   PRO A 214      -9.515   0.131 -23.875  1.00  0.00           N  \\nATOM   1666  CD  PRO A 214      -9.495   1.651 -23.675  1.00  0.00           C  \\nATOM   1667  CG  PRO A 214     -10.295   2.091 -24.855  1.00  0.00           C  \\nATOM   1668  CB  PRO A 214     -11.265   0.971 -25.275  1.00  0.00           C  \\nATOM   1669  CA  PRO A 214     -10.505  -0.289 -24.865  1.00  0.00           C  \\nATOM   1670  C   PRO A 214      -9.895  -0.989 -26.075  1.00  0.00           C  \\nATOM   1671  O   PRO A 214     -10.375  -2.059 -26.365  1.00  0.00           O  \\nATOM   1672  OXT PRO A 214      -9.275  -0.349 -26.855  1.00  0.00           O  \\nATOM   1673 MG   MG  A 215      -6.245  -2.909   4.485  1.00  0.00          MG  \\nATOM   1674  O1  SAM A 216      -4.975   5.841   4.345  1.00  0.00           O  \\nATOM   1675  C1  SAM A 216      -5.055   7.191   4.655  1.00  0.00           C  \\nATOM   1676  N1  SAM A 216      -5.835   7.751   3.545  1.00  0.00           N  \\nATOM   1677  C5  SAM A 216      -5.225   8.451   2.575  1.00  0.00           C  \\nATOM   1678  C6  SAM A 216      -6.135   9.331   1.905  1.00  0.00           C  \\nATOM   1679  N2  SAM A 216      -7.385   9.291   2.605  1.00  0.00           N  \\nATOM   1680  C7  SAM A 216      -7.065   8.401   3.615  1.00  0.00           C  \\nATOM   1681  C8  SAM A 216      -5.595  10.131   0.865  1.00  0.00           C  \\nATOM   1682  N3  SAM A 216      -4.335  10.171   0.465  1.00  0.00           N  \\nATOM   1683  C9  SAM A 216      -3.535   9.371   1.225  1.00  0.00           C  \\nATOM   1684  N4  SAM A 216      -3.945   8.471   2.275  1.00  0.00           N  \\nATOM   1685  N5  SAM A 216      -6.405  10.871   0.065  1.00  0.00           N  \\nATOM   1686  C2  SAM A 216      -5.555   7.171   6.105  1.00  0.00           C  \\nATOM   1687  O2  SAM A 216      -5.245   8.451   6.755  1.00  0.00           O  \\nATOM   1688  C3  SAM A 216      -4.875   5.941   6.755  1.00  0.00           C  \\nATOM   1689  O3  SAM A 216      -3.755   6.231   7.585  1.00  0.00           O  \\nATOM   1690  C4  SAM A 216      -4.505   5.081   5.515  1.00  0.00           C  \\nATOM   1691  C10 SAM A 216      -5.265   3.751   5.385  1.00  0.00           C  \\nATOM   1692  S1  SAM A 216      -4.485   2.421   6.365  1.00  0.00           S  \\nATOM   1693  C15 SAM A 216      -5.735   1.201   6.365  1.00  0.00           C  \\nATOM   1694  C11 SAM A 216      -3.345   1.721   5.225  1.00  0.00           C  \\nATOM   1695  C12 SAM A 216      -2.525   0.611   5.945  1.00  0.00           C  \\nATOM   1696  C13 SAM A 216      -1.095   0.521   5.335  1.00  0.00           C  \\nATOM   1697  N6  SAM A 216      -1.095   0.271   3.855  1.00  0.00           N  \\nATOM   1698  C14 SAM A 216      -0.285  -0.509   6.195  1.00  0.00           C  \\nATOM   1699  O5  SAM A 216      -0.545  -1.699   6.135  1.00  0.00           O  \\nATOM   1700  O4  SAM A 216       0.355  -0.049   7.075  1.00  0.00           O  \\nHETATM 1701  O1  TCW A 217     -10.311   2.345  10.904  1.00  0.00           O  \\nHETATM 1702  C1  TCW A 217     -10.504   2.474   9.730  1.00  0.00           C  \\nHETATM 1703  C2  TCW A 217      -9.894   1.481   8.781  1.00  0.00           C  \\nHETATM 1704  C3  TCW A 217      -9.517   0.233   9.300  1.00  0.00           C  \\nHETATM 1705  C4  TCW A 217      -9.008  -0.744   8.490  1.00  0.00           C  \\nHETATM 1706  O2  TCW A 217      -8.631  -1.925   9.013  1.00  0.00           O  \\nHETATM 1707  H2  TCW A 217      -9.262  -2.211   9.663  1.00  0.00           H  \\nHETATM 1708  C7  TCW A 217      -8.881  -0.525   7.109  1.00  0.00           C  \\nHETATM 1709  C6  TCW A 217      -9.279   0.707   6.602  1.00  0.00           C  \\nHETATM 1710  C5  TCW A 217      -9.781   1.711   7.432  1.00  0.00           C  \\nHETATM 1711  H3  TCW A 217     -10.084   2.637   6.991  1.00  0.00           H  \\nHETATM 1712  N1  TCW A 217      -9.184   0.987   5.186  1.00  0.00           N  \\nHETATM 1713  O3  TCW A 217      -9.525   2.053   4.795  1.00  0.00           O  \\nHETATM 1714  O4  TCW A 217      -8.757   0.119   4.462  1.00  0.00           O  \\nHETATM 1715  O5  TCW A 217      -8.382  -1.549   6.419  1.00  0.00           O  \\nHETATM 1716  H4  TCW A 217      -9.081  -2.012   5.962  1.00  0.00           H  \\nHETATM 1717  H1  TCW A 217      -9.627   0.035  10.348  1.00  0.00           H  \\nHETATM 1718  C8  TCW A 217     -11.349   3.599   9.221  1.00  0.00           C  \\nHETATM 1719  C9  TCW A 217     -10.948   4.902   9.513  1.00  0.00           C  \\nHETATM 1720  H5  TCW A 217     -10.072   5.054  10.116  1.00  0.00           H  \\nHETATM 1721  C10 TCW A 217     -11.663   5.979   9.035  1.00  0.00           C  \\nHETATM 1722  H6  TCW A 217     -11.345   6.977   9.281  1.00  0.00           H  \\nHETATM 1723  C11 TCW A 217     -12.786   5.793   8.229  1.00  0.00           C  \\nHETATM 1724  C12 TCW A 217     -13.562   6.982   7.716  1.00  0.00           C  \\nHETATM 1725  H7  TCW A 217     -12.904   7.698   7.233  1.00  0.00           H  \\nHETATM 1726  H8  TCW A 217     -14.317   6.683   7.000  1.00  0.00           H  \\nHETATM 1727  H9  TCW A 217     -14.061   7.497   8.531  1.00  0.00           H  \\nHETATM 1728  C13 TCW A 217     -13.167   4.496   7.919  1.00  0.00           C  \\nHETATM 1729  H10 TCW A 217     -14.019   4.326   7.286  1.00  0.00           H  \\nHETATM 1730  C14 TCW A 217     -12.462   3.409   8.414  1.00  0.00           C  \\nHETATM 1731  H11 TCW A 217     -12.776   2.417   8.144  1.00  0.00           H  \\nTER\\nEND\\n\";\n",
        "            structure = pv.io.pdb(pdb);\n",
        "            viewer = pv.Viewer(document.getElementById('37b6fd3f-a266-4353-8d92-28d4fc5e366f'),\n",
        "                               {quality : 'medium', width: 'auto', height : 'auto',\n",
        "                                antialias : true, outline : true});\n",
        "            viewer.fitParent();\n",
        "            var ligand = structure.select({rnames : ['TCW', 'SAM', 'MG']});\n",
        "            viewer.ballsAndSticks('ligand', ligand);\n",
        "            viewer.cartoon('molecule', structure);\n",
        "            viewer.centerOn(structure);\n",
        "        });\n",
        "        </script>\n",
        "        "
       ],
       "metadata": {},
       "output_type": "pyout",
       "prompt_number": 1666,
       "text": [
        "<__main__.PDBViewer at 0x7fac3eb89850>"
       ]
      }
     ],
     "prompt_number": 1666
    },
    {
     "cell_type": "code",
     "collapsed": false,
     "input": [
      "PDBViewer(v3)"
     ],
     "language": "python",
     "metadata": {},
     "outputs": [
      {
       "html": [
        "<div id=\"8c5e5fe2-a6d0-43e0-9d66-93bb8c068277\" style=\"width: 800px; height: 600px\"><div>\n",
        "        <!--script src=\"//biasmv.github.io/pv/js/pv.min.js\"></script-->\n",
        "        <script>\n",
        "        require.config({paths: {\"pv\": \"//biasmv.github.io/pv/js/pv.min\"}});\n",
        "        require([\"pv\"], function (pv) {\n",
        "            pdb = \"ATOM      1  N   GLY A   1      24.064 -13.167  -8.306  1.00  0.00           N  \\nATOM      2  CA  GLY A   1      24.164 -13.637  -6.906  1.00  0.00           C  \\nATOM      3  C   GLY A   1      22.824 -13.707  -6.156  1.00  0.00           C  \\nATOM      4  O   GLY A   1      21.774 -13.317  -6.676  1.00  0.00           O  \\nATOM      5  N   ASP A   2      22.774 -14.327  -5.006  1.00  0.00           N  \\nATOM      6  CA  ASP A   2      21.554 -14.667  -4.186  1.00  0.00           C  \\nATOM      7  CB  ASP A   2      21.904 -15.837  -3.276  1.00  0.00           C  \\nATOM      8  CG  ASP A   2      20.814 -16.047  -2.356  1.00  0.00           C  \\nATOM      9  OD1 ASP A   2      19.714 -16.257  -2.836  1.00  0.00           O  \\nATOM     10  OD2 ASP A   2      21.004 -16.087  -1.176  1.00  0.00           O  \\nATOM     11  C   ASP A   2      21.154 -13.417  -3.356  1.00  0.00           C  \\nATOM     12  O   ASP A   2      22.054 -12.727  -2.836  1.00  0.00           O  \\nATOM     13  N   THR A   3      19.814 -13.107  -3.336  1.00  0.00           N  \\nATOM     14  CA  THR A   3      19.284 -11.947  -2.526  1.00  0.00           C  \\nATOM     15  CB  THR A   3      18.964 -10.787  -3.496  1.00  0.00           C  \\nATOM     16  CG2 THR A   3      20.204 -10.117  -4.086  1.00  0.00           C  \\nATOM     17  OG1 THR A   3      18.054 -11.177  -4.536  1.00  0.00           O  \\nATOM     18  C   THR A   3      18.034 -12.307  -1.826  1.00  0.00           C  \\nATOM     19  O   THR A   3      17.364 -13.177  -2.266  1.00  0.00           O  \\nATOM     20  N   LYS A   4      17.544 -11.447  -0.896  1.00  0.00           N  \\nATOM     21  CA  LYS A   4      16.214 -11.527  -0.266  1.00  0.00           C  \\nATOM     22  CB  LYS A   4      15.964 -10.267   0.684  1.00  0.00           C  \\nATOM     23  CG  LYS A   4      14.584 -10.347   1.404  1.00  0.00           C  \\nATOM     24  CD  LYS A   4      14.454  -9.397   2.634  1.00  0.00           C  \\nATOM     25  CE  LYS A   4      14.664  -7.917   2.204  1.00  0.00           C  \\nATOM     26  NZ  LYS A   4      14.094  -7.547   0.824  1.00  0.00           N  \\nATOM     27  C   LYS A   4      15.094 -11.687  -1.266  1.00  0.00           C  \\nATOM     28  O   LYS A   4      14.194 -12.457  -0.946  1.00  0.00           O  \\nATOM     29  N   GLU A   5      15.214 -11.087  -2.416  1.00  0.00           N  \\nATOM     30  CA  GLU A   5      14.094 -10.967  -3.326  1.00  0.00           C  \\nATOM     31  CB  GLU A   5      14.354  -9.867  -4.396  1.00  0.00           C  \\nATOM     32  CG  GLU A   5      14.474  -8.387  -3.966  1.00  0.00           C  \\nATOM     33  CD  GLU A   5      15.534  -8.187  -2.926  1.00  0.00           C  \\nATOM     34  OE1 GLU A   5      16.634  -8.517  -3.216  1.00  0.00           O  \\nATOM     35  OE2 GLU A   5      15.254  -7.637  -1.866  1.00  0.00           O  \\nATOM     36  C   GLU A   5      13.914 -12.317  -4.016  1.00  0.00           C  \\nATOM     37  O   GLU A   5      12.804 -12.557  -4.526  1.00  0.00           O  \\nATOM     38  N   GLN A   6      15.014 -13.127  -4.056  1.00  0.00           N  \\nATOM     39  CA  GLN A   6      14.984 -14.537  -4.496  1.00  0.00           C  \\nATOM     40  CB  GLN A   6      16.404 -14.807  -5.066  1.00  0.00           C  \\nATOM     41  CG  GLN A   6      16.714 -14.207  -6.426  1.00  0.00           C  \\nATOM     42  CD  GLN A   6      18.204 -14.437  -6.756  1.00  0.00           C  \\nATOM     43  OE1 GLN A   6      18.744 -15.507  -6.936  1.00  0.00           O  \\nATOM     44  NE2 GLN A   6      18.994 -13.377  -6.786  1.00  0.00           N  \\nATOM     45  C   GLN A   6      14.514 -15.457  -3.416  1.00  0.00           C  \\nATOM     46  O   GLN A   6      13.704 -16.367  -3.556  1.00  0.00           O  \\nATOM     47  N   ARG A   7      15.024 -15.187  -2.216  1.00  0.00           N  \\nATOM     48  CA  ARG A   7      14.794 -15.997  -1.016  1.00  0.00           C  \\nATOM     49  CB  ARG A   7      15.804 -15.647   0.104  1.00  0.00           C  \\nATOM     50  CG  ARG A   7      17.214 -15.977  -0.236  1.00  0.00           C  \\nATOM     51  CD  ARG A   7      17.984 -15.907   1.034  1.00  0.00           C  \\nATOM     52  NE  ARG A   7      18.164 -14.497   1.434  1.00  0.00           N  \\nATOM     53  CZ  ARG A   7      19.224 -13.687   1.104  1.00  0.00           C  \\nATOM     54  NH1 ARG A   7      20.174 -14.067   0.284  1.00  0.00           N  \\nATOM     55  NH2 ARG A   7      19.394 -12.427   1.604  1.00  0.00           N  \\nATOM     56  C   ARG A   7      13.374 -16.057  -0.516  1.00  0.00           C  \\nATOM     57  O   ARG A   7      12.914 -17.127  -0.206  1.00  0.00           O  \\nATOM     58  N   ILE A   8      12.764 -14.887  -0.426  1.00  0.00           N  \\nATOM     59  CA  ILE A   8      11.294 -14.637  -0.246  1.00  0.00           C  \\nATOM     60  CB  ILE A   8      10.934 -13.177   0.074  1.00  0.00           C  \\nATOM     61  CG2 ILE A   8      11.134 -12.257  -1.136  1.00  0.00           C  \\nATOM     62  CG1 ILE A   8       9.464 -13.147   0.574  1.00  0.00           C  \\nATOM     63  CD1 ILE A   8       9.094 -11.907   1.324  1.00  0.00           C  \\nATOM     64  C   ILE A   8      10.484 -15.527  -1.156  1.00  0.00           C  \\nATOM     65  O   ILE A   8       9.684 -16.347  -0.736  1.00  0.00           O  \\nATOM     66  N   LEU A   9      10.824 -15.417  -2.436  1.00  0.00           N  \\nATOM     67  CA  LEU A   9      10.044 -15.957  -3.576  1.00  0.00           C  \\nATOM     68  CB  LEU A   9      10.414 -15.117  -4.866  1.00  0.00           C  \\nATOM     69  CG  LEU A   9       9.404 -15.377  -6.026  1.00  0.00           C  \\nATOM     70  CD1 LEU A   9       7.924 -15.017  -5.746  1.00  0.00           C  \\nATOM     71  CD2 LEU A   9       9.794 -14.587  -7.266  1.00  0.00           C  \\nATOM     72  C   LEU A   9      10.184 -17.457  -3.686  1.00  0.00           C  \\nATOM     73  O   LEU A   9       9.244 -18.167  -3.926  1.00  0.00           O  \\nATOM     74  N   ASN A  10      11.344 -18.037  -3.406  1.00  0.00           N  \\nATOM     75  CA  ASN A  10      11.514 -19.577  -3.386  1.00  0.00           C  \\nATOM     76  CB  ASN A  10      13.034 -19.887  -3.286  1.00  0.00           C  \\nATOM     77  CG  ASN A  10      13.514 -21.337  -3.406  1.00  0.00           C  \\nATOM     78  OD1 ASN A  10      12.904 -22.177  -4.056  1.00  0.00           O  \\nATOM     79  ND2 ASN A  10      14.624 -21.607  -2.886  1.00  0.00           N  \\nATOM     80  C   ASN A  10      10.724 -20.317  -2.276  1.00  0.00           C  \\nATOM     81  O   ASN A  10      10.114 -21.347  -2.436  1.00  0.00           O  \\nATOM     82  N   HIE A  11      10.584 -19.607  -1.196  1.00  0.00           N  \\nATOM     83  CA  HIE A  11       9.714 -19.927   0.014  1.00  0.00           C  \\nATOM     84  CB  HIE A  11      10.104 -19.027   1.154  1.00  0.00           C  \\nATOM     85  CG  HIE A  11       9.244 -19.077   2.364  1.00  0.00           C  \\nATOM     86  ND1 HIE A  11       9.614 -19.597   3.634  1.00  0.00           N  \\nATOM     87  CE1 HIE A  11       8.614 -19.227   4.464  1.00  0.00           C  \\nATOM     88  NE2 HIE A  11       7.584 -18.687   3.814  1.00  0.00           N  \\nATOM     89  CD2 HIE A  11       8.004 -18.487   2.474  1.00  0.00           C  \\nATOM     90  C   HIE A  11       8.224 -19.837  -0.296  1.00  0.00           C  \\nATOM     91  O   HIE A  11       7.454 -20.707   0.174  1.00  0.00           O  \\nATOM     92  N   VAL A  12       7.904 -18.927  -1.206  1.00  0.00           N  \\nATOM     93  CA  VAL A  12       6.524 -18.737  -1.706  1.00  0.00           C  \\nATOM     94  CB  VAL A  12       6.394 -17.447  -2.516  1.00  0.00           C  \\nATOM     95  CG1 VAL A  12       4.984 -17.297  -3.236  1.00  0.00           C  \\nATOM     96  CG2 VAL A  12       6.484 -16.227  -1.556  1.00  0.00           C  \\nATOM     97  C   VAL A  12       6.144 -19.847  -2.596  1.00  0.00           C  \\nATOM     98  O   VAL A  12       5.154 -20.517  -2.316  1.00  0.00           O  \\nATOM     99  N   LEU A  13       7.034 -20.127  -3.616  1.00  0.00           N  \\nATOM    100  CA  LEU A  13       6.934 -21.267  -4.566  1.00  0.00           C  \\nATOM    101  CB  LEU A  13       8.224 -21.297  -5.356  1.00  0.00           C  \\nATOM    102  CG  LEU A  13       8.324 -22.587  -6.306  1.00  0.00           C  \\nATOM    103  CD1 LEU A  13       7.444 -22.427  -7.516  1.00  0.00           C  \\nATOM    104  CD2 LEU A  13       9.714 -22.807  -6.816  1.00  0.00           C  \\nATOM    105  C   LEU A  13       6.794 -22.637  -3.786  1.00  0.00           C  \\nATOM    106  O   LEU A  13       6.114 -23.527  -4.276  1.00  0.00           O  \\nATOM    107  N   GLN A  14       7.374 -22.757  -2.546  1.00  0.00           N  \\nATOM    108  CA  GLN A  14       7.264 -23.977  -1.746  1.00  0.00           C  \\nATOM    109  CB  GLN A  14       8.564 -24.087  -0.976  1.00  0.00           C  \\nATOM    110  CG  GLN A  14       9.664 -24.697  -1.966  1.00  0.00           C  \\nATOM    111  CD  GLN A  14      10.964 -24.667  -1.256  1.00  0.00           C  \\nATOM    112  OE1 GLN A  14      11.284 -25.307  -0.266  1.00  0.00           O  \\nATOM    113  NE2 GLN A  14      11.864 -23.797  -1.546  1.00  0.00           N  \\nATOM    114  C   GLN A  14       6.014 -23.957  -0.876  1.00  0.00           C  \\nATOM    115  O   GLN A  14       5.624 -24.937  -0.226  1.00  0.00           O  \\nATOM    116  N   HIE A  15       5.374 -22.747  -0.686  1.00  0.00           N  \\nATOM    117  CA  HIE A  15       4.294 -22.587   0.304  1.00  0.00           C  \\nATOM    118  CB  HIE A  15       4.374 -21.137   0.954  1.00  0.00           C  \\nATOM    119  CG  HIE A  15       3.564 -20.927   2.204  1.00  0.00           C  \\nATOM    120  ND1 HIE A  15       4.144 -20.817   3.454  1.00  0.00           N  \\nATOM    121  CE1 HIE A  15       3.064 -20.617   4.254  1.00  0.00           C  \\nATOM    122  NE2 HIE A  15       1.894 -20.717   3.604  1.00  0.00           N  \\nATOM    123  CD2 HIE A  15       2.244 -20.717   2.224  1.00  0.00           C  \\nATOM    124  C   HIE A  15       2.894 -22.737  -0.296  1.00  0.00           C  \\nATOM    125  O   HIE A  15       1.994 -23.237   0.344  1.00  0.00           O  \\nATOM    126  N   ALA A  16       2.704 -22.057  -1.456  1.00  0.00           N  \\nATOM    127  CA  ALA A  16       1.434 -21.727  -2.036  1.00  0.00           C  \\nATOM    128  CB  ALA A  16       1.434 -20.167  -2.086  1.00  0.00           C  \\nATOM    129  C   ALA A  16       1.244 -22.337  -3.356  1.00  0.00           C  \\nATOM    130  O   ALA A  16       2.184 -22.657  -4.056  1.00  0.00           O  \\nATOM    131  N   GLU A  17      -0.036 -22.437  -3.866  1.00  0.00           N  \\nATOM    132  CA  GLU A  17      -0.366 -22.707  -5.176  1.00  0.00           C  \\nATOM    133  CB  GLU A  17      -1.726 -23.377  -5.046  1.00  0.00           C  \\nATOM    134  CG  GLU A  17      -1.636 -24.737  -4.246  1.00  0.00           C  \\nATOM    135  CD  GLU A  17      -0.286 -25.447  -4.386  1.00  0.00           C  \\nATOM    136  OE1 GLU A  17       0.424 -25.557  -3.436  1.00  0.00           O  \\nATOM    137  OE2 GLU A  17      -0.056 -26.067  -5.396  1.00  0.00           O  \\nATOM    138  C   GLU A  17      -0.436 -21.477  -6.116  1.00  0.00           C  \\nATOM    139  O   GLU A  17      -0.856 -20.367  -5.636  1.00  0.00           O  \\nATOM    140  N   PRO A  18      -0.126 -21.687  -7.436  1.00  0.00           N  \\nATOM    141  CD  PRO A  18       0.524 -22.817  -8.066  1.00  0.00           C  \\nATOM    142  CG  PRO A  18       1.144 -22.267  -9.426  1.00  0.00           C  \\nATOM    143  CB  PRO A  18       0.114 -21.257  -9.796  1.00  0.00           C  \\nATOM    144  CA  PRO A  18      -0.316 -20.647  -8.406  1.00  0.00           C  \\nATOM    145  C   PRO A  18      -1.726 -20.037  -8.566  1.00  0.00           C  \\nATOM    146  O   PRO A  18      -2.716 -20.717  -8.856  1.00  0.00           O  \\nATOM    147  N   GLY A  19      -1.766 -18.727  -8.296  1.00  0.00           N  \\nATOM    148  CA  GLY A  19      -2.936 -17.837  -8.346  1.00  0.00           C  \\nATOM    149  C   GLY A  19      -3.796 -17.777  -7.076  1.00  0.00           C  \\nATOM    150  O   GLY A  19      -4.946 -17.367  -7.176  1.00  0.00           O  \\nATOM    151  N   ASN A  20      -3.316 -18.267  -5.886  1.00  0.00           N  \\nATOM    152  CA  ASN A  20      -4.026 -18.257  -4.626  1.00  0.00           C  \\nATOM    153  CB  ASN A  20      -3.856 -19.597  -3.886  1.00  0.00           C  \\nATOM    154  CG  ASN A  20      -4.706 -19.627  -2.656  1.00  0.00           C  \\nATOM    155  OD1 ASN A  20      -5.176 -18.587  -2.136  1.00  0.00           O  \\nATOM    156  ND2 ASN A  20      -5.066 -20.807  -2.226  1.00  0.00           N  \\nATOM    157  C   ASN A  20      -3.446 -17.127  -3.746  1.00  0.00           C  \\nATOM    158  O   ASN A  20      -2.646 -17.327  -2.876  1.00  0.00           O  \\nATOM    159  N   ALA A  21      -3.896 -15.917  -4.126  1.00  0.00           N  \\nATOM    160  CA  ALA A  21      -3.576 -14.747  -3.366  1.00  0.00           C  \\nATOM    161  CB  ALA A  21      -4.626 -13.697  -3.936  1.00  0.00           C  \\nATOM    162  C   ALA A  21      -3.556 -14.837  -1.866  1.00  0.00           C  \\nATOM    163  O   ALA A  21      -2.676 -14.287  -1.196  1.00  0.00           O  \\nATOM    164  N   GLN A  22      -4.466 -15.687  -1.306  1.00  0.00           N  \\nATOM    165  CA  GLN A  22      -4.646 -15.897   0.144  1.00  0.00           C  \\nATOM    166  CB  GLN A  22      -5.996 -16.717   0.374  1.00  0.00           C  \\nATOM    167  CG  GLN A  22      -7.316 -16.217  -0.336  1.00  0.00           C  \\nATOM    168  CD  GLN A  22      -7.936 -14.957   0.204  1.00  0.00           C  \\nATOM    169  OE1 GLN A  22      -7.706 -14.387   1.254  1.00  0.00           O  \\nATOM    170  NE2 GLN A  22      -8.776 -14.437  -0.636  1.00  0.00           N  \\nATOM    171  C   GLN A  22      -3.436 -16.567   0.734  1.00  0.00           C  \\nATOM    172  O   GLN A  22      -2.756 -16.107   1.654  1.00  0.00           O  \\nATOM    173  N   SER A  23      -3.046 -17.707   0.174  1.00  0.00           N  \\nATOM    174  CA  SER A  23      -1.876 -18.467   0.594  1.00  0.00           C  \\nATOM    175  CB  SER A  23      -1.816 -19.877  -0.046  1.00  0.00           C  \\nATOM    176  OG  SER A  23      -3.026 -20.557   0.224  1.00  0.00           O  \\nATOM    177  C   SER A  23      -0.576 -17.727   0.264  1.00  0.00           C  \\nATOM    178  O   SER A  23       0.404 -17.867   0.934  1.00  0.00           O  \\nATOM    179  N   VAL A  24      -0.606 -16.977  -0.806  1.00  0.00           N  \\nATOM    180  CA  VAL A  24       0.574 -16.177  -1.176  1.00  0.00           C  \\nATOM    181  CB  VAL A  24       0.514 -15.717  -2.656  1.00  0.00           C  \\nATOM    182  CG1 VAL A  24       1.604 -14.617  -3.016  1.00  0.00           C  \\nATOM    183  CG2 VAL A  24       0.684 -16.907  -3.676  1.00  0.00           C  \\nATOM    184  C   VAL A  24       0.924 -15.037  -0.216  1.00  0.00           C  \\nATOM    185  O   VAL A  24       2.074 -14.917   0.244  1.00  0.00           O  \\nATOM    186  N   LEU A  25      -0.096 -14.317   0.324  1.00  0.00           N  \\nATOM    187  CA  LEU A  25       0.114 -13.387   1.414  1.00  0.00           C  \\nATOM    188  CB  LEU A  25      -1.256 -12.717   1.734  1.00  0.00           C  \\nATOM    189  CG  LEU A  25      -1.676 -11.807   0.554  1.00  0.00           C  \\nATOM    190  CD1 LEU A  25      -3.176 -11.627   0.564  1.00  0.00           C  \\nATOM    191  CD2 LEU A  25      -1.066 -10.397   0.584  1.00  0.00           C  \\nATOM    192  C   LEU A  25       0.654 -14.047   2.684  1.00  0.00           C  \\nATOM    193  O   LEU A  25       1.594 -13.547   3.274  1.00  0.00           O  \\nATOM    194  N   GLU A  26       0.134 -15.257   3.024  1.00  0.00           N  \\nATOM    195  CA  GLU A  26       0.684 -15.997   4.144  1.00  0.00           C  \\nATOM    196  CB  GLU A  26      -0.166 -17.267   4.244  1.00  0.00           C  \\nATOM    197  CG  GLU A  26       0.014 -17.987   5.574  1.00  0.00           C  \\nATOM    198  CD  GLU A  26      -0.846 -19.247   5.744  1.00  0.00           C  \\nATOM    199  OE1 GLU A  26      -0.356 -20.287   5.444  1.00  0.00           O  \\nATOM    200  OE2 GLU A  26      -2.036 -19.127   6.024  1.00  0.00           O  \\nATOM    201  C   GLU A  26       2.174 -16.367   3.994  1.00  0.00           C  \\nATOM    202  O   GLU A  26       2.904 -16.497   5.024  1.00  0.00           O  \\nATOM    203  N   ALA A  27       2.584 -16.557   2.724  1.00  0.00           N  \\nATOM    204  CA  ALA A  27       3.884 -16.957   2.374  1.00  0.00           C  \\nATOM    205  CB  ALA A  27       3.954 -17.267   0.864  1.00  0.00           C  \\nATOM    206  C   ALA A  27       4.894 -15.807   2.604  1.00  0.00           C  \\nATOM    207  O   ALA A  27       5.974 -16.047   3.164  1.00  0.00           O  \\nATOM    208  N   ILE A  28       4.534 -14.617   2.234  1.00  0.00           N  \\nATOM    209  CA  ILE A  28       5.234 -13.367   2.524  1.00  0.00           C  \\nATOM    210  CB  ILE A  28       4.424 -12.207   1.934  1.00  0.00           C  \\nATOM    211  CG2 ILE A  28       5.294 -10.887   2.174  1.00  0.00           C  \\nATOM    212  CG1 ILE A  28       4.164 -12.337   0.374  1.00  0.00           C  \\nATOM    213  CD1 ILE A  28       3.584 -11.127  -0.356  1.00  0.00           C  \\nATOM    214  C   ILE A  28       5.384 -13.177   4.074  1.00  0.00           C  \\nATOM    215  O   ILE A  28       6.514 -13.027   4.574  1.00  0.00           O  \\nATOM    216  N   ASP A  29       4.264 -13.247   4.784  1.00  0.00           N  \\nATOM    217  CA  ASP A  29       4.084 -12.927   6.224  1.00  0.00           C  \\nATOM    218  CB  ASP A  29       2.614 -12.987   6.604  1.00  0.00           C  \\nATOM    219  CG  ASP A  29       2.444 -12.407   8.024  1.00  0.00           C  \\nATOM    220  OD1 ASP A  29       2.164 -13.247   8.884  1.00  0.00           O  \\nATOM    221  OD2 ASP A  29       2.504 -11.217   8.224  1.00  0.00           O  \\nATOM    222  C   ASP A  29       4.904 -13.897   7.084  1.00  0.00           C  \\nATOM    223  O   ASP A  29       5.364 -13.467   8.154  1.00  0.00           O  \\nATOM    224  N   THR A  30       5.034 -15.167   6.734  1.00  0.00           N  \\nATOM    225  CA  THR A  30       5.724 -16.057   7.624  1.00  0.00           C  \\nATOM    226  CB  THR A  30       5.364 -17.557   7.364  1.00  0.00           C  \\nATOM    227  CG2 THR A  30       3.894 -17.767   7.784  1.00  0.00           C  \\nATOM    228  OG1 THR A  30       5.564 -17.877   5.944  1.00  0.00           O  \\nATOM    229  C   THR A  30       7.194 -15.967   7.294  1.00  0.00           C  \\nATOM    230  O   THR A  30       8.044 -16.127   8.194  1.00  0.00           O  \\nATOM    231  N   TYR A  31       7.564 -15.427   6.164  1.00  0.00           N  \\nATOM    232  CA  TYR A  31       8.984 -15.237   5.844  1.00  0.00           C  \\nATOM    233  CB  TYR A  31       9.144 -14.937   4.334  1.00  0.00           C  \\nATOM    234  CG  TYR A  31      10.564 -14.757   3.904  1.00  0.00           C  \\nATOM    235  CD1 TYR A  31      11.274 -15.917   3.384  1.00  0.00           C  \\nATOM    236  CE1 TYR A  31      12.634 -15.847   3.034  1.00  0.00           C  \\nATOM    237  CZ  TYR A  31      13.364 -14.667   3.114  1.00  0.00           C  \\nATOM    238  OH  TYR A  31      14.644 -14.677   2.764  1.00  0.00           O  \\nATOM    239  CE2 TYR A  31      12.654 -13.527   3.474  1.00  0.00           C  \\nATOM    240  CD2 TYR A  31      11.334 -13.597   3.984  1.00  0.00           C  \\nATOM    241  C   TYR A  31       9.614 -14.067   6.544  1.00  0.00           C  \\nATOM    242  O   TYR A  31      10.664 -14.167   7.114  1.00  0.00           O  \\nATOM    243  N   CYS A  32       8.844 -12.997   6.704  1.00  0.00           N  \\nATOM    244  CA  CYS A  32       9.274 -11.737   7.394  1.00  0.00           C  \\nATOM    245  CB  CYS A  32       8.194 -10.597   7.014  1.00  0.00           C  \\nATOM    246  SG  CYS A  32       7.984 -10.317   5.184  1.00  0.00           S  \\nATOM    247  C   CYS A  32       9.434 -11.827   8.884  1.00  0.00           C  \\nATOM    248  O   CYS A  32      10.324 -11.157   9.414  1.00  0.00           O  \\nATOM    249  N   GLU A  33       8.704 -12.747   9.584  1.00  0.00           N  \\nATOM    250  CA  GLU A  33       8.774 -12.957  11.014  1.00  0.00           C  \\nATOM    251  CB  GLU A  33       7.374 -13.167  11.684  1.00  0.00           C  \\nATOM    252  CG  GLU A  33       7.524 -13.237  13.214  1.00  0.00           C  \\nATOM    253  CD  GLU A  33       6.284 -13.467  13.954  1.00  0.00           C  \\nATOM    254  OE1 GLU A  33       5.924 -14.617  14.174  1.00  0.00           O  \\nATOM    255  OE2 GLU A  33       5.714 -12.477  14.404  1.00  0.00           O  \\nATOM    256  C   GLU A  33       9.734 -14.087  11.214  1.00  0.00           C  \\nATOM    257  O   GLU A  33      10.584 -13.927  12.074  1.00  0.00           O  \\nATOM    258  N   GLN A  34       9.574 -15.237  10.474  1.00  0.00           N  \\nATOM    259  CA  GLN A  34      10.344 -16.467  10.814  1.00  0.00           C  \\nATOM    260  CB  GLN A  34       9.504 -17.757  10.424  1.00  0.00           C  \\nATOM    261  CG  GLN A  34       8.174 -17.797  11.214  1.00  0.00           C  \\nATOM    262  CD  GLN A  34       7.274 -19.097  10.954  1.00  0.00           C  \\nATOM    263  OE1 GLN A  34       7.764 -20.147  10.614  1.00  0.00           O  \\nATOM    264  NE2 GLN A  34       5.974 -18.867  10.914  1.00  0.00           N  \\nATOM    265  C   GLN A  34      11.764 -16.427  10.264  1.00  0.00           C  \\nATOM    266  O   GLN A  34      12.744 -16.557  10.984  1.00  0.00           O  \\nATOM    267  N   LYS A  35      11.924 -16.387   8.954  1.00  0.00           N  \\nATOM    268  CA  LYS A  35      13.164 -16.537   8.194  1.00  0.00           C  \\nATOM    269  CB  LYS A  35      12.924 -16.877   6.724  1.00  0.00           C  \\nATOM    270  CG  LYS A  35      12.004 -18.077   6.564  1.00  0.00           C  \\nATOM    271  CD  LYS A  35      12.724 -19.407   6.904  1.00  0.00           C  \\nATOM    272  CE  LYS A  35      11.794 -20.627   6.684  1.00  0.00           C  \\nATOM    273  NZ  LYS A  35      12.314 -21.857   7.374  1.00  0.00           N  \\nATOM    274  C   LYS A  35      14.064 -15.287   8.114  1.00  0.00           C  \\nATOM    275  O   LYS A  35      15.254 -15.377   8.374  1.00  0.00           O  \\nATOM    276  N   GLU A  36      13.554 -14.107   7.594  1.00  0.00           N  \\nATOM    277  CA  GLU A  36      14.294 -12.897   7.334  1.00  0.00           C  \\nATOM    278  CB  GLU A  36      15.264 -13.137   6.094  1.00  0.00           C  \\nATOM    279  CG  GLU A  36      15.904 -11.877   5.504  1.00  0.00           C  \\nATOM    280  CD  GLU A  36      16.844 -12.187   4.304  1.00  0.00           C  \\nATOM    281  OE1 GLU A  36      17.794 -11.477   4.094  1.00  0.00           O  \\nATOM    282  OE2 GLU A  36      16.694 -13.287   3.704  1.00  0.00           O  \\nATOM    283  C   GLU A  36      13.394 -11.707   7.184  1.00  0.00           C  \\nATOM    284  O   GLU A  36      12.404 -11.717   6.404  1.00  0.00           O  \\nATOM    285  N   TRP A  37      13.754 -10.627   7.854  1.00  0.00           N  \\nATOM    286  CA  TRP A  37      13.104  -9.347   8.024  1.00  0.00           C  \\nATOM    287  CB  TRP A  37      13.724  -8.537   9.144  1.00  0.00           C  \\nATOM    288  CG  TRP A  37      13.134  -7.217   9.494  1.00  0.00           C  \\nATOM    289  CD1 TRP A  37      12.224  -6.947  10.464  1.00  0.00           C  \\nATOM    290  NE1 TRP A  37      11.754  -5.677  10.344  1.00  0.00           N  \\nATOM    291  CE2 TRP A  37      12.414  -5.007   9.314  1.00  0.00           C  \\nATOM    292  CZ2 TRP A  37      12.264  -3.677   8.854  1.00  0.00           C  \\nATOM    293  CH2 TRP A  37      12.874  -3.357   7.644  1.00  0.00           C  \\nATOM    294  CZ3 TRP A  37      13.804  -4.257   7.064  1.00  0.00           C  \\nATOM    295  CE3 TRP A  37      13.994  -5.517   7.604  1.00  0.00           C  \\nATOM    296  CD2 TRP A  37      13.294  -5.947   8.794  1.00  0.00           C  \\nATOM    297  C   TRP A  37      12.954  -8.537   6.744  1.00  0.00           C  \\nATOM    298  O   TRP A  37      13.874  -8.477   5.964  1.00  0.00           O  \\nATOM    299  N   ALA A  38      11.724  -8.037   6.514  1.00  0.00           N  \\nATOM    300  CA  ALA A  38      11.344  -7.157   5.484  1.00  0.00           C  \\nATOM    301  CB  ALA A  38      10.934  -7.977   4.244  1.00  0.00           C  \\nATOM    302  C   ALA A  38      10.074  -6.327   5.954  1.00  0.00           C  \\nATOM    303  O   ALA A  38       9.294  -6.797   6.764  1.00  0.00           O  \\nATOM    304  N   MET A  39       9.934  -5.127   5.394  1.00  0.00           N  \\nATOM    305  CA  MET A  39       8.984  -4.107   5.844  1.00  0.00           C  \\nATOM    306  CB  MET A  39       9.534  -2.657   5.824  1.00  0.00           C  \\nATOM    307  CG  MET A  39      10.314  -2.247   4.584  1.00  0.00           C  \\nATOM    308  SD  MET A  39      10.924  -0.527   4.804  1.00  0.00           S  \\nATOM    309  CE  MET A  39      12.194  -0.517   3.464  1.00  0.00           C  \\nATOM    310  C   MET A  39       7.644  -4.297   5.234  1.00  0.00           C  \\nATOM    311  O   MET A  39       7.024  -3.267   4.844  1.00  0.00           O  \\nATOM    312  N   ASN A  40       7.184  -5.537   5.184  1.00  0.00           N  \\nATOM    313  CA  ASN A  40       5.854  -5.917   4.654  1.00  0.00           C  \\nATOM    314  CB  ASN A  40       5.804  -7.437   4.304  1.00  0.00           C  \\nATOM    315  CG  ASN A  40       6.464  -7.627   2.954  1.00  0.00           C  \\nATOM    316  OD1 ASN A  40       6.014  -7.157   1.894  1.00  0.00           O  \\nATOM    317  ND2 ASN A  40       7.574  -8.297   2.874  1.00  0.00           N  \\nATOM    318  C   ASN A  40       4.644  -5.507   5.554  1.00  0.00           C  \\nATOM    319  O   ASN A  40       4.644  -5.647   6.814  1.00  0.00           O  \\nATOM    320  N   VAL A  41       3.574  -4.887   4.994  1.00  0.00           N  \\nATOM    321  CA  VAL A  41       2.374  -4.467   5.794  1.00  0.00           C  \\nATOM    322  CB  VAL A  41       1.264  -3.867   5.014  1.00  0.00           C  \\nATOM    323  CG1 VAL A  41      -0.066  -3.677   5.774  1.00  0.00           C  \\nATOM    324  CG2 VAL A  41       1.724  -2.507   4.504  1.00  0.00           C  \\nATOM    325  C   VAL A  41       1.954  -5.577   6.754  1.00  0.00           C  \\nATOM    326  O   VAL A  41       1.854  -5.297   7.964  1.00  0.00           O  \\nATOM    327  N   GLY A  42       1.714  -6.807   6.244  1.00  0.00           N  \\nATOM    328  CA  GLY A  42       1.604  -8.037   7.024  1.00  0.00           C  \\nATOM    329  C   GLY A  42       0.274  -8.267   7.494  1.00  0.00           C  \\nATOM    330  O   GLY A  42      -0.646  -7.437   7.414  1.00  0.00           O  \\nATOM    331  N   ASP A  43       0.074  -9.467   8.044  1.00  0.00           N  \\nATOM    332  CA  ASP A  43      -1.296 -10.067   8.274  1.00  0.00           C  \\nATOM    333  CB  ASP A  43      -1.076 -11.527   8.954  1.00  0.00           C  \\nATOM    334  CG  ASP A  43      -2.386 -12.327   8.694  1.00  0.00           C  \\nATOM    335  OD1 ASP A  43      -2.846 -12.317   7.554  1.00  0.00           O  \\nATOM    336  OD2 ASP A  43      -2.736 -13.157   9.504  1.00  0.00           O  \\nATOM    337  C   ASP A  43      -2.106  -9.177   9.304  1.00  0.00           C  \\nATOM    338  O   ASP A  43      -3.306  -9.347   9.374  1.00  0.00           O  \\nATOM    339  N   LYS A  44      -1.556  -8.247  10.124  1.00  0.00           N  \\nATOM    340  CA  LYS A  44      -2.186  -7.677  11.354  1.00  0.00           C  \\nATOM    341  CB  LYS A  44      -1.176  -7.857  12.564  1.00  0.00           C  \\nATOM    342  CG  LYS A  44      -1.076  -9.317  12.904  1.00  0.00           C  \\nATOM    343  CD  LYS A  44      -0.056  -9.647  14.044  1.00  0.00           C  \\nATOM    344  CE  LYS A  44      -0.226 -11.147  14.574  1.00  0.00           C  \\nATOM    345  NZ  LYS A  44       0.504 -12.197  13.874  1.00  0.00           N  \\nATOM    346  C   LYS A  44      -2.616  -6.187  11.094  1.00  0.00           C  \\nATOM    347  O   LYS A  44      -3.756  -5.807  11.334  1.00  0.00           O  \\nATOM    348  N   LYS A  45      -1.686  -5.377  10.554  1.00  0.00           N  \\nATOM    349  CA  LYS A  45      -2.046  -4.087   9.864  1.00  0.00           C  \\nATOM    350  CB  LYS A  45      -0.756  -3.467   9.464  1.00  0.00           C  \\nATOM    351  CG  LYS A  45       0.234  -3.087  10.574  1.00  0.00           C  \\nATOM    352  CD  LYS A  45       1.144  -2.057  10.054  1.00  0.00           C  \\nATOM    353  CE  LYS A  45       2.114  -1.607  11.174  1.00  0.00           C  \\nATOM    354  NZ  LYS A  45       3.114  -0.487  10.724  1.00  0.00           N  \\nATOM    355  C   LYS A  45      -2.956  -4.287   8.694  1.00  0.00           C  \\nATOM    356  O   LYS A  45      -3.726  -3.457   8.264  1.00  0.00           O  \\nATOM    357  N   GLY A  46      -2.746  -5.377   8.014  1.00  0.00           N  \\nATOM    358  CA  GLY A  46      -3.646  -6.017   6.974  1.00  0.00           C  \\nATOM    359  C   GLY A  46      -5.126  -5.937   7.294  1.00  0.00           C  \\nATOM    360  O   GLY A  46      -5.926  -5.827   6.384  1.00  0.00           O  \\nATOM    361  N   LYS A  47      -5.526  -5.977   8.574  1.00  0.00           N  \\nATOM    362  CA  LYS A  47      -6.956  -5.917   8.994  1.00  0.00           C  \\nATOM    363  CB  LYS A  47      -7.126  -6.237  10.474  1.00  0.00           C  \\nATOM    364  CG  LYS A  47      -6.836  -7.687  10.804  1.00  0.00           C  \\nATOM    365  CD  LYS A  47      -6.846  -7.787  12.414  1.00  0.00           C  \\nATOM    366  CE  LYS A  47      -6.976  -9.247  12.934  1.00  0.00           C  \\nATOM    367  NZ  LYS A  47      -6.916  -9.227  14.484  1.00  0.00           N  \\nATOM    368  C   LYS A  47      -7.566  -4.577   8.614  1.00  0.00           C  \\nATOM    369  O   LYS A  47      -8.776  -4.607   8.334  1.00  0.00           O  \\nATOM    370  N   ILE A  48      -6.866  -3.457   8.574  1.00  0.00           N  \\nATOM    371  CA  ILE A  48      -7.546  -2.137   8.364  1.00  0.00           C  \\nATOM    372  CB  ILE A  48      -6.956  -1.027   9.294  1.00  0.00           C  \\nATOM    373  CG2 ILE A  48      -7.626   0.343   9.074  1.00  0.00           C  \\nATOM    374  CG1 ILE A  48      -6.876  -1.367  10.824  1.00  0.00           C  \\nATOM    375  CD1 ILE A  48      -5.636  -2.277  11.214  1.00  0.00           C  \\nATOM    376  C   ILE A  48      -7.476  -1.887   6.864  1.00  0.00           C  \\nATOM    377  O   ILE A  48      -8.396  -1.237   6.384  1.00  0.00           O  \\nATOM    378  N   VAL A  49      -6.536  -2.467   6.104  1.00  0.00           N  \\nATOM    379  CA  VAL A  49      -6.346  -2.607   4.674  1.00  0.00           C  \\nATOM    380  CB  VAL A  49      -5.066  -3.277   4.314  1.00  0.00           C  \\nATOM    381  CG1 VAL A  49      -5.016  -3.617   2.734  1.00  0.00           C  \\nATOM    382  CG2 VAL A  49      -3.866  -2.407   4.674  1.00  0.00           C  \\nATOM    383  C   VAL A  49      -7.546  -3.387   4.124  1.00  0.00           C  \\nATOM    384  O   VAL A  49      -8.176  -2.927   3.224  1.00  0.00           O  \\nATOM    385  N   ASP A  50      -7.816  -4.567   4.684  1.00  0.00           N  \\nATOM    386  CA  ASP A  50      -9.086  -5.227   4.404  1.00  0.00           C  \\nATOM    387  CB  ASP A  50      -9.336  -6.497   5.254  1.00  0.00           C  \\nATOM    388  CG  ASP A  50      -8.526  -7.717   4.804  1.00  0.00           C  \\nATOM    389  OD1 ASP A  50      -8.606  -8.727   5.414  1.00  0.00           O  \\nATOM    390  OD2 ASP A  50      -7.766  -7.617   3.814  1.00  0.00           O  \\nATOM    391  C   ASP A  50     -10.346  -4.277   4.574  1.00  0.00           C  \\nATOM    392  O   ASP A  50     -11.206  -4.227   3.724  1.00  0.00           O  \\nATOM    393  N   ALA A  51     -10.346  -3.557   5.674  1.00  0.00           N  \\nATOM    394  CA  ALA A  51     -11.466  -2.747   6.154  1.00  0.00           C  \\nATOM    395  CB  ALA A  51     -11.146  -2.227   7.624  1.00  0.00           C  \\nATOM    396  C   ALA A  51     -11.756  -1.577   5.264  1.00  0.00           C  \\nATOM    397  O   ALA A  51     -12.926  -1.177   5.174  1.00  0.00           O  \\nATOM    398  N   VAL A  52     -10.716  -1.007   4.554  1.00  0.00           N  \\nATOM    399  CA  VAL A  52     -11.016   0.043   3.604  1.00  0.00           C  \\nATOM    400  CB  VAL A  52      -9.846   1.013   3.484  1.00  0.00           C  \\nATOM    401  CG1 VAL A  52      -9.656   1.933   4.694  1.00  0.00           C  \\nATOM    402  CG2 VAL A  52      -8.566   0.313   3.174  1.00  0.00           C  \\nATOM    403  C   VAL A  52     -11.526  -0.437   2.294  1.00  0.00           C  \\nATOM    404  O   VAL A  52     -12.026   0.393   1.494  1.00  0.00           O  \\nATOM    405  N   ILE A  53     -11.576  -1.757   1.994  1.00  0.00           N  \\nATOM    406  CA  ILE A  53     -12.056  -2.347   0.694  1.00  0.00           C  \\nATOM    407  CB  ILE A  53     -10.906  -3.087  -0.066  1.00  0.00           C  \\nATOM    408  CG2 ILE A  53     -11.366  -3.357  -1.566  1.00  0.00           C  \\nATOM    409  CG1 ILE A  53      -9.486  -2.487  -0.136  1.00  0.00           C  \\nATOM    410  CD1 ILE A  53      -9.376  -1.067  -0.826  1.00  0.00           C  \\nATOM    411  C   ILE A  53     -13.416  -3.087   0.754  1.00  0.00           C  \\nATOM    412  O   ILE A  53     -14.316  -2.927  -0.056  1.00  0.00           O  \\nATOM    413  N   GLN A  54     -13.566  -3.867   1.864  1.00  0.00           N  \\nATOM    414  CA  GLN A  54     -14.426  -5.027   1.844  1.00  0.00           C  \\nATOM    415  CB  GLN A  54     -14.026  -5.977   3.054  1.00  0.00           C  \\nATOM    416  CG  GLN A  54     -14.356  -5.407   4.444  1.00  0.00           C  \\nATOM    417  CD  GLN A  54     -14.476  -6.397   5.594  1.00  0.00           C  \\nATOM    418  OE1 GLN A  54     -14.156  -7.547   5.564  1.00  0.00           O  \\nATOM    419  NE2 GLN A  54     -15.026  -5.977   6.704  1.00  0.00           N  \\nATOM    420  C   GLN A  54     -15.926  -4.707   1.884  1.00  0.00           C  \\nATOM    421  O   GLN A  54     -16.706  -5.647   1.804  1.00  0.00           O  \\nATOM    422  N   GLU A  55     -16.366  -3.447   1.984  1.00  0.00           N  \\nATOM    423  CA  GLU A  55     -17.746  -3.007   1.924  1.00  0.00           C  \\nATOM    424  CB  GLU A  55     -18.056  -2.357   3.284  1.00  0.00           C  \\nATOM    425  CG  GLU A  55     -18.216  -3.487   4.374  1.00  0.00           C  \\nATOM    426  CD  GLU A  55     -18.536  -2.867   5.794  1.00  0.00           C  \\nATOM    427  OE1 GLU A  55     -17.806  -2.047   6.304  1.00  0.00           O  \\nATOM    428  OE2 GLU A  55     -19.506  -3.297   6.374  1.00  0.00           O  \\nATOM    429  C   GLU A  55     -17.916  -1.797   0.914  1.00  0.00           C  \\nATOM    430  O   GLU A  55     -19.056  -1.277   0.784  1.00  0.00           O  \\nATOM    431  N   HIE A  56     -16.826  -1.297   0.274  1.00  0.00           N  \\nATOM    432  CA  HIE A  56     -16.796  -0.087  -0.546  1.00  0.00           C  \\nATOM    433  CB  HIE A  56     -15.546   0.673  -0.036  1.00  0.00           C  \\nATOM    434  CG  HIE A  56     -15.126   2.093  -0.546  1.00  0.00           C  \\nATOM    435  ND1 HIE A  56     -15.876   3.003  -1.266  1.00  0.00           N  \\nATOM    436  CE1 HIE A  56     -15.086   4.083  -1.426  1.00  0.00           C  \\nATOM    437  NE2 HIE A  56     -13.926   3.973  -0.826  1.00  0.00           N  \\nATOM    438  CD2 HIE A  56     -13.916   2.703  -0.226  1.00  0.00           C  \\nATOM    439  C   HIE A  56     -16.766  -0.477  -2.026  1.00  0.00           C  \\nATOM    440  O   HIE A  56     -17.086   0.383  -2.786  1.00  0.00           O  \\nATOM    441  N   GLN A  57     -16.266  -1.677  -2.396  1.00  0.00           N  \\nATOM    442  CA  GLN A  57     -16.006  -2.217  -3.686  1.00  0.00           C  \\nATOM    443  CB  GLN A  57     -17.246  -2.987  -4.256  1.00  0.00           C  \\nATOM    444  CG  GLN A  57     -17.816  -4.187  -3.366  1.00  0.00           C  \\nATOM    445  CD  GLN A  57     -16.696  -5.097  -2.976  1.00  0.00           C  \\nATOM    446  OE1 GLN A  57     -16.336  -5.337  -1.836  1.00  0.00           O  \\nATOM    447  NE2 GLN A  57     -16.056  -5.787  -3.906  1.00  0.00           N  \\nATOM    448  C   GLN A  57     -15.606  -1.047  -4.606  1.00  0.00           C  \\nATOM    449  O   GLN A  57     -16.376  -0.697  -5.466  1.00  0.00           O  \\nATOM    450  N   PRO A  58     -14.436  -0.417  -4.346  1.00  0.00           N  \\nATOM    451  CD  PRO A  58     -13.476  -0.857  -3.356  1.00  0.00           C  \\nATOM    452  CG  PRO A  58     -12.186   0.013  -3.616  1.00  0.00           C  \\nATOM    453  CB  PRO A  58     -12.716   1.193  -4.406  1.00  0.00           C  \\nATOM    454  CA  PRO A  58     -13.936   0.743  -5.146  1.00  0.00           C  \\nATOM    455  C   PRO A  58     -13.536   0.343  -6.576  1.00  0.00           C  \\nATOM    456  O   PRO A  58     -13.086  -0.737  -6.936  1.00  0.00           O  \\nATOM    457  N   SER A  59     -13.676   1.323  -7.486  1.00  0.00           N  \\nATOM    458  CA  SER A  59     -13.486   1.053  -8.956  1.00  0.00           C  \\nATOM    459  CB  SER A  59     -14.416   2.023  -9.726  1.00  0.00           C  \\nATOM    460  OG  SER A  59     -15.796   1.723  -9.626  1.00  0.00           O  \\nATOM    461  C   SER A  59     -12.076   1.423  -9.476  1.00  0.00           C  \\nATOM    462  O   SER A  59     -11.446   0.723 -10.276  1.00  0.00           O  \\nATOM    463  N   VAL A  60     -11.486   2.513  -8.956  1.00  0.00           N  \\nATOM    464  CA  VAL A  60     -10.096   2.873  -9.146  1.00  0.00           C  \\nATOM    465  CB  VAL A  60      -9.916   3.883 -10.306  1.00  0.00           C  \\nATOM    466  CG1 VAL A  60      -8.406   4.133 -10.546  1.00  0.00           C  \\nATOM    467  CG2 VAL A  60     -10.446   3.513 -11.686  1.00  0.00           C  \\nATOM    468  C   VAL A  60      -9.496   3.383  -7.846  1.00  0.00           C  \\nATOM    469  O   VAL A  60     -10.086   4.163  -7.136  1.00  0.00           O  \\nATOM    470  N   LEU A  61      -8.316   2.833  -7.496  1.00  0.00           N  \\nATOM    471  CA  LEU A  61      -7.496   3.233  -6.336  1.00  0.00           C  \\nATOM    472  CB  LEU A  61      -7.896   2.273  -5.166  1.00  0.00           C  \\nATOM    473  CG  LEU A  61      -7.156   0.823  -5.186  1.00  0.00           C  \\nATOM    474  CD1 LEU A  61      -6.966   0.353  -3.686  1.00  0.00           C  \\nATOM    475  CD2 LEU A  61      -8.106  -0.127  -5.836  1.00  0.00           C  \\nATOM    476  C   LEU A  61      -6.016   3.163  -6.566  1.00  0.00           C  \\nATOM    477  O   LEU A  61      -5.556   2.603  -7.486  1.00  0.00           O  \\nATOM    478  N   LEU A  62      -5.236   3.923  -5.726  1.00  0.00           N  \\nATOM    479  CA  LEU A  62      -3.826   4.233  -5.756  1.00  0.00           C  \\nATOM    480  CB  LEU A  62      -3.796   5.783  -5.846  1.00  0.00           C  \\nATOM    481  CG  LEU A  62      -2.326   6.363  -5.886  1.00  0.00           C  \\nATOM    482  CD1 LEU A  62      -1.526   5.923  -7.006  1.00  0.00           C  \\nATOM    483  CD2 LEU A  62      -2.376   7.893  -5.796  1.00  0.00           C  \\nATOM    484  C   LEU A  62      -3.056   3.703  -4.526  1.00  0.00           C  \\nATOM    485  O   LEU A  62      -3.646   3.683  -3.476  1.00  0.00           O  \\nATOM    486  N   GLU A  63      -1.786   3.273  -4.666  1.00  0.00           N  \\nATOM    487  CA  GLU A  63      -0.956   2.933  -3.496  1.00  0.00           C  \\nATOM    488  CB  GLU A  63      -0.896   1.373  -3.506  1.00  0.00           C  \\nATOM    489  CG  GLU A  63       0.184   0.853  -2.486  1.00  0.00           C  \\nATOM    490  CD  GLU A  63       0.204  -0.677  -2.546  1.00  0.00           C  \\nATOM    491  OE1 GLU A  63      -0.186  -1.287  -1.526  1.00  0.00           O  \\nATOM    492  OE2 GLU A  63       0.684  -1.207  -3.496  1.00  0.00           O  \\nATOM    493  C   GLU A  63       0.504   3.493  -3.666  1.00  0.00           C  \\nATOM    494  O   GLU A  63       1.174   3.333  -4.666  1.00  0.00           O  \\nATOM    495  N   LEU A  64       1.044   4.183  -2.646  1.00  0.00           N  \\nATOM    496  CA  LEU A  64       2.344   4.883  -2.626  1.00  0.00           C  \\nATOM    497  CB  LEU A  64       2.134   6.373  -2.196  1.00  0.00           C  \\nATOM    498  CG  LEU A  64       1.174   7.293  -3.056  1.00  0.00           C  \\nATOM    499  CD1 LEU A  64       1.314   8.863  -2.676  1.00  0.00           C  \\nATOM    500  CD2 LEU A  64       1.554   7.213  -4.446  1.00  0.00           C  \\nATOM    501  C   LEU A  64       3.384   4.053  -1.756  1.00  0.00           C  \\nATOM    502  O   LEU A  64       3.624   4.403  -0.596  1.00  0.00           O  \\nATOM    503  N   GLY A  65       3.974   3.053  -2.446  1.00  0.00           N  \\nATOM    504  CA  GLY A  65       5.114   2.193  -1.976  1.00  0.00           C  \\nATOM    505  C   GLY A  65       4.764   0.713  -2.156  1.00  0.00           C  \\nATOM    506  O   GLY A  65       4.114   0.133  -1.266  1.00  0.00           O  \\nATOM    507  N   ALA A  66       5.114   0.163  -3.336  1.00  0.00           N  \\nATOM    508  CA  ALA A  66       4.854  -1.257  -3.726  1.00  0.00           C  \\nATOM    509  CB  ALA A  66       4.934  -1.347  -5.206  1.00  0.00           C  \\nATOM    510  C   ALA A  66       5.804  -2.307  -3.026  1.00  0.00           C  \\nATOM    511  O   ALA A  66       5.224  -3.177  -2.356  1.00  0.00           O  \\nATOM    512  N   TYR A  67       7.084  -2.137  -2.986  1.00  0.00           N  \\nATOM    513  CA  TYR A  67       8.174  -2.987  -2.306  1.00  0.00           C  \\nATOM    514  CB  TYR A  67       8.084  -2.847  -0.756  1.00  0.00           C  \\nATOM    515  CG  TYR A  67       9.114  -3.587   0.214  1.00  0.00           C  \\nATOM    516  CD1 TYR A  67      10.474  -3.157   0.254  1.00  0.00           C  \\nATOM    517  CE1 TYR A  67      11.404  -3.637   1.154  1.00  0.00           C  \\nATOM    518  CZ  TYR A  67      10.894  -4.597   2.084  1.00  0.00           C  \\nATOM    519  OH  TYR A  67      11.664  -5.047   3.084  1.00  0.00           O  \\nATOM    520  CE2 TYR A  67       9.534  -5.077   1.984  1.00  0.00           C  \\nATOM    521  CD2 TYR A  67       8.694  -4.517   1.094  1.00  0.00           C  \\nATOM    522  C   TYR A  67       8.224  -4.447  -2.696  1.00  0.00           C  \\nATOM    523  O   TYR A  67       9.224  -4.937  -3.206  1.00  0.00           O  \\nATOM    524  N   CYS A  68       7.164  -5.217  -2.296  1.00  0.00           N  \\nATOM    525  CA  CYS A  68       7.174  -6.657  -2.566  1.00  0.00           C  \\nATOM    526  CB  CYS A  68       7.604  -7.337  -1.196  1.00  0.00           C  \\nATOM    527  SG  CYS A  68       7.954  -9.207  -1.276  1.00  0.00           S  \\nATOM    528  C   CYS A  68       5.844  -7.167  -3.046  1.00  0.00           C  \\nATOM    529  O   CYS A  68       5.674  -8.397  -3.326  1.00  0.00           O  \\nATOM    530  N   GLY A  69       4.764  -6.297  -3.156  1.00  0.00           N  \\nATOM    531  CA  GLY A  69       3.434  -6.737  -3.516  1.00  0.00           C  \\nATOM    532  C   GLY A  69       2.484  -7.137  -2.416  1.00  0.00           C  \\nATOM    533  O   GLY A  69       1.374  -7.637  -2.736  1.00  0.00           O  \\nATOM    534  N   TYR A  70       2.794  -7.017  -1.096  1.00  0.00           N  \\nATOM    535  CA  TYR A  70       1.934  -7.517  -0.036  1.00  0.00           C  \\nATOM    536  CB  TYR A  70       2.694  -7.417   1.314  1.00  0.00           C  \\nATOM    537  CG  TYR A  70       1.854  -8.037   2.454  1.00  0.00           C  \\nATOM    538  CD1 TYR A  70       1.924  -9.357   2.764  1.00  0.00           C  \\nATOM    539  CE1 TYR A  70       1.044  -9.967   3.644  1.00  0.00           C  \\nATOM    540  CZ  TYR A  70      -0.106  -9.267   4.084  1.00  0.00           C  \\nATOM    541  OH  TYR A  70      -1.016  -9.897   4.874  1.00  0.00           O  \\nATOM    542  CE2 TYR A  70      -0.206  -7.887   3.774  1.00  0.00           C  \\nATOM    543  CD2 TYR A  70       0.764  -7.277   2.974  1.00  0.00           C  \\nATOM    544  C   TYR A  70       0.684  -6.727  -0.066  1.00  0.00           C  \\nATOM    545  O   TYR A  70      -0.356  -7.267  -0.296  1.00  0.00           O  \\nATOM    546  N   SER A  71       0.704  -5.417   0.194  1.00  0.00           N  \\nATOM    547  CA  SER A  71      -0.586  -4.727   0.374  1.00  0.00           C  \\nATOM    548  CB  SER A  71      -0.346  -3.387   1.004  1.00  0.00           C  \\nATOM    549  OG  SER A  71       0.694  -2.687   0.324  1.00  0.00           O  \\nATOM    550  C   SER A  71      -1.376  -4.487  -0.876  1.00  0.00           C  \\nATOM    551  O   SER A  71      -2.596  -4.597  -0.846  1.00  0.00           O  \\nATOM    552  N   ALA A  72      -0.746  -4.327  -2.046  1.00  0.00           N  \\nATOM    553  CA  ALA A  72      -1.356  -4.457  -3.416  1.00  0.00           C  \\nATOM    554  CB  ALA A  72      -0.136  -4.487  -4.366  1.00  0.00           C  \\nATOM    555  C   ALA A  72      -2.226  -5.677  -3.756  1.00  0.00           C  \\nATOM    556  O   ALA A  72      -3.286  -5.397  -4.356  1.00  0.00           O  \\nATOM    557  N   VAL A  73      -1.886  -6.867  -3.286  1.00  0.00           N  \\nATOM    558  CA  VAL A  73      -2.686  -8.147  -3.266  1.00  0.00           C  \\nATOM    559  CB  VAL A  73      -1.716  -9.417  -3.356  1.00  0.00           C  \\nATOM    560  CG1 VAL A  73      -2.386 -10.817  -3.196  1.00  0.00           C  \\nATOM    561  CG2 VAL A  73      -0.886  -9.447  -4.646  1.00  0.00           C  \\nATOM    562  C   VAL A  73      -3.656  -8.227  -2.156  1.00  0.00           C  \\nATOM    563  O   VAL A  73      -4.756  -8.787  -2.316  1.00  0.00           O  \\nATOM    564  N   ARG A  74      -3.356  -7.597  -0.976  1.00  0.00           N  \\nATOM    565  CA  ARG A  74      -4.336  -7.647   0.124  1.00  0.00           C  \\nATOM    566  CB  ARG A  74      -3.596  -7.097   1.364  1.00  0.00           C  \\nATOM    567  CG  ARG A  74      -4.376  -7.247   2.744  1.00  0.00           C  \\nATOM    568  CD  ARG A  74      -4.536  -8.717   3.274  1.00  0.00           C  \\nATOM    569  NE  ARG A  74      -5.346  -8.897   4.504  1.00  0.00           N  \\nATOM    570  CZ  ARG A  74      -4.986  -9.357   5.664  1.00  0.00           C  \\nATOM    571  NH1 ARG A  74      -3.836  -9.827   6.054  1.00  0.00           N  \\nATOM    572  NH2 ARG A  74      -5.976  -9.487   6.534  1.00  0.00           N  \\nATOM    573  C   ARG A  74      -5.566  -6.887  -0.146  1.00  0.00           C  \\nATOM    574  O   ARG A  74      -6.626  -7.417  -0.006  1.00  0.00           O  \\nATOM    575  N   MET A  75      -5.376  -5.667  -0.626  1.00  0.00           N  \\nATOM    576  CA  MET A  75      -6.386  -4.837  -1.246  1.00  0.00           C  \\nATOM    577  CB  MET A  75      -5.856  -3.477  -1.686  1.00  0.00           C  \\nATOM    578  CG  MET A  75      -5.586  -2.477  -0.476  1.00  0.00           C  \\nATOM    579  SD  MET A  75      -5.176  -0.717  -0.926  1.00  0.00           S  \\nATOM    580  CE  MET A  75      -3.486  -0.937  -1.486  1.00  0.00           C  \\nATOM    581  C   MET A  75      -7.156  -5.607  -2.406  1.00  0.00           C  \\nATOM    582  O   MET A  75      -8.336  -5.807  -2.346  1.00  0.00           O  \\nATOM    583  N   ALA A  76      -6.396  -6.077  -3.406  1.00  0.00           N  \\nATOM    584  CA  ALA A  76      -6.996  -6.477  -4.686  1.00  0.00           C  \\nATOM    585  CB  ALA A  76      -5.856  -6.517  -5.726  1.00  0.00           C  \\nATOM    586  C   ALA A  76      -7.856  -7.727  -4.626  1.00  0.00           C  \\nATOM    587  O   ALA A  76      -8.876  -7.827  -5.326  1.00  0.00           O  \\nATOM    588  N   ARG A  77      -7.586  -8.707  -3.776  1.00  0.00           N  \\nATOM    589  CA  ARG A  77      -8.316  -9.947  -3.496  1.00  0.00           C  \\nATOM    590  CB  ARG A  77      -7.496 -10.957  -2.526  1.00  0.00           C  \\nATOM    591  CG  ARG A  77      -7.816 -10.707  -1.026  1.00  0.00           C  \\nATOM    592  CD  ARG A  77      -6.806 -11.427  -0.086  1.00  0.00           C  \\nATOM    593  NE  ARG A  77      -7.256 -11.487   1.354  1.00  0.00           N  \\nATOM    594  CZ  ARG A  77      -7.536 -10.477   2.204  1.00  0.00           C  \\nATOM    595  NH1 ARG A  77      -7.606  -9.207   1.754  1.00  0.00           N  \\nATOM    596  NH2 ARG A  77      -7.946 -10.637   3.444  1.00  0.00           N  \\nATOM    597  C   ARG A  77      -9.756  -9.707  -3.026  1.00  0.00           C  \\nATOM    598  O   ARG A  77     -10.606 -10.637  -3.146  1.00  0.00           O  \\nATOM    599  N   LEU A  78     -10.056  -8.527  -2.486  1.00  0.00           N  \\nATOM    600  CA  LEU A  78     -11.376  -7.977  -2.246  1.00  0.00           C  \\nATOM    601  CB  LEU A  78     -11.276  -7.027  -1.016  1.00  0.00           C  \\nATOM    602  CG  LEU A  78     -10.716  -7.797   0.224  1.00  0.00           C  \\nATOM    603  CD1 LEU A  78     -10.126  -6.837   1.304  1.00  0.00           C  \\nATOM    604  CD2 LEU A  78     -11.776  -8.657   0.914  1.00  0.00           C  \\nATOM    605  C   LEU A  78     -12.156  -7.217  -3.376  1.00  0.00           C  \\nATOM    606  O   LEU A  78     -13.376  -7.007  -3.196  1.00  0.00           O  \\nATOM    607  N   LEU A  79     -11.566  -6.917  -4.476  1.00  0.00           N  \\nATOM    608  CA  LEU A  79     -12.196  -6.117  -5.636  1.00  0.00           C  \\nATOM    609  CB  LEU A  79     -11.106  -5.557  -6.606  1.00  0.00           C  \\nATOM    610  CG  LEU A  79     -10.156  -4.487  -5.906  1.00  0.00           C  \\nATOM    611  CD1 LEU A  79      -8.936  -3.957  -6.706  1.00  0.00           C  \\nATOM    612  CD2 LEU A  79     -10.956  -3.167  -5.726  1.00  0.00           C  \\nATOM    613  C   LEU A  79     -13.266  -6.947  -6.446  1.00  0.00           C  \\nATOM    614  O   LEU A  79     -13.026  -8.107  -6.726  1.00  0.00           O  \\nATOM    615  N   SER A  80     -14.276  -6.237  -7.016  1.00  0.00           N  \\nATOM    616  CA  SER A  80     -15.206  -6.737  -8.056  1.00  0.00           C  \\nATOM    617  CB  SER A  80     -16.426  -5.747  -8.126  1.00  0.00           C  \\nATOM    618  OG  SER A  80     -17.086  -5.757  -6.806  1.00  0.00           O  \\nATOM    619  C   SER A  80     -14.556  -6.657  -9.496  1.00  0.00           C  \\nATOM    620  O   SER A  80     -13.536  -5.967  -9.706  1.00  0.00           O  \\nATOM    621  N   PRO A  81     -15.136  -7.307 -10.586  1.00  0.00           N  \\nATOM    622  CD  PRO A  81     -16.136  -8.337 -10.516  1.00  0.00           C  \\nATOM    623  CG  PRO A  81     -16.606  -8.637 -11.926  1.00  0.00           C  \\nATOM    624  CB  PRO A  81     -15.486  -8.117 -12.796  1.00  0.00           C  \\nATOM    625  CA  PRO A  81     -14.596  -7.197 -11.926  1.00  0.00           C  \\nATOM    626  C   PRO A  81     -14.556  -5.807 -12.376  1.00  0.00           C  \\nATOM    627  O   PRO A  81     -15.326  -4.937 -11.986  1.00  0.00           O  \\nATOM    628  N   GLY A  82     -13.516  -5.507 -13.236  1.00  0.00           N  \\nATOM    629  CA  GLY A  82     -13.306  -4.287 -13.986  1.00  0.00           C  \\nATOM    630  C   GLY A  82     -12.636  -3.137 -13.186  1.00  0.00           C  \\nATOM    631  O   GLY A  82     -12.376  -2.107 -13.716  1.00  0.00           O  \\nATOM    632  N   ALA A  83     -12.386  -3.427 -11.916  1.00  0.00           N  \\nATOM    633  CA  ALA A  83     -11.646  -2.487 -10.986  1.00  0.00           C  \\nATOM    634  CB  ALA A  83     -12.116  -2.767  -9.516  1.00  0.00           C  \\nATOM    635  C   ALA A  83     -10.096  -2.517 -11.016  1.00  0.00           C  \\nATOM    636  O   ALA A  83      -9.596  -3.527 -11.496  1.00  0.00           O  \\nATOM    637  N   ARG A  84      -9.446  -1.387 -10.646  1.00  0.00           N  \\nATOM    638  CA  ARG A  84      -8.036  -1.077 -10.826  1.00  0.00           C  \\nATOM    639  CB  ARG A  84      -7.986  -0.037 -11.936  1.00  0.00           C  \\nATOM    640  CG  ARG A  84      -8.416  -0.537 -13.326  1.00  0.00           C  \\nATOM    641  CD  ARG A  84      -8.456   0.463 -14.496  1.00  0.00           C  \\nATOM    642  NE  ARG A  84      -7.106   0.773 -14.906  1.00  0.00           N  \\nATOM    643  CZ  ARG A  84      -6.476   1.963 -15.096  1.00  0.00           C  \\nATOM    644  NH1 ARG A  84      -5.276   1.983 -15.566  1.00  0.00           N  \\nATOM    645  NH2 ARG A  84      -6.996   3.113 -14.746  1.00  0.00           N  \\nATOM    646  C   ARG A  84      -7.346  -0.557  -9.576  1.00  0.00           C  \\nATOM    647  O   ARG A  84      -7.726   0.503  -9.106  1.00  0.00           O  \\nATOM    648  N   LEU A  85      -6.276  -1.197  -9.246  1.00  0.00           N  \\nATOM    649  CA  LEU A  85      -5.186  -0.717  -8.406  1.00  0.00           C  \\nATOM    650  CB  LEU A  85      -4.746  -1.837  -7.366  1.00  0.00           C  \\nATOM    651  CG  LEU A  85      -3.426  -1.367  -6.576  1.00  0.00           C  \\nATOM    652  CD1 LEU A  85      -3.566  -0.157  -5.676  1.00  0.00           C  \\nATOM    653  CD2 LEU A  85      -2.906  -2.527  -5.686  1.00  0.00           C  \\nATOM    654  C   LEU A  85      -4.016  -0.237  -9.306  1.00  0.00           C  \\nATOM    655  O   LEU A  85      -3.596  -0.977 -10.186  1.00  0.00           O  \\nATOM    656  N   ILE A  86      -3.546   1.033  -9.086  1.00  0.00           N  \\nATOM    657  CA  ILE A  86      -2.316   1.493  -9.596  1.00  0.00           C  \\nATOM    658  CB  ILE A  86      -2.446   2.713 -10.556  1.00  0.00           C  \\nATOM    659  CG2 ILE A  86      -1.066   3.323 -10.976  1.00  0.00           C  \\nATOM    660  CG1 ILE A  86      -3.506   2.373 -11.666  1.00  0.00           C  \\nATOM    661  CD1 ILE A  86      -4.226   3.673 -12.076  1.00  0.00           C  \\nATOM    662  C   ILE A  86      -1.336   1.703  -8.456  1.00  0.00           C  \\nATOM    663  O   ILE A  86      -1.626   2.363  -7.486  1.00  0.00           O  \\nATOM    664  N   THR A  87      -0.136   1.083  -8.516  1.00  0.00           N  \\nATOM    665  CA  THR A  87       0.834   1.043  -7.386  1.00  0.00           C  \\nATOM    666  CB  THR A  87       0.864  -0.287  -6.676  1.00  0.00           C  \\nATOM    667  CG2 THR A  87       1.174  -1.457  -7.646  1.00  0.00           C  \\nATOM    668  OG1 THR A  87       1.754  -0.377  -5.636  1.00  0.00           O  \\nATOM    669  C   THR A  87       2.184   1.453  -7.846  1.00  0.00           C  \\nATOM    670  O   THR A  87       2.574   1.253  -8.996  1.00  0.00           O  \\nATOM    671  N   ILE A  88       2.954   2.093  -6.956  1.00  0.00           N  \\nATOM    672  CA  ILE A  88       4.224   2.803  -7.326  1.00  0.00           C  \\nATOM    673  CB  ILE A  88       4.004   4.383  -7.296  1.00  0.00           C  \\nATOM    674  CG2 ILE A  88       5.184   5.093  -8.006  1.00  0.00           C  \\nATOM    675  CG1 ILE A  88       2.604   4.883  -7.836  1.00  0.00           C  \\nATOM    676  CD1 ILE A  88       2.584   6.393  -7.746  1.00  0.00           C  \\nATOM    677  C   ILE A  88       5.324   2.383  -6.416  1.00  0.00           C  \\nATOM    678  O   ILE A  88       5.274   2.523  -5.226  1.00  0.00           O  \\nATOM    679  N   GLU A  89       6.464   2.083  -7.016  1.00  0.00           N  \\nATOM    680  CA  GLU A  89       7.754   1.863  -6.366  1.00  0.00           C  \\nATOM    681  CB  GLU A  89       8.054   0.333  -6.296  1.00  0.00           C  \\nATOM    682  CG  GLU A  89       9.564  -0.077  -6.056  1.00  0.00           C  \\nATOM    683  CD  GLU A  89       9.964   0.313  -4.616  1.00  0.00           C  \\nATOM    684  OE1 GLU A  89       9.304  -0.147  -3.726  1.00  0.00           O  \\nATOM    685  OE2 GLU A  89      10.834   1.073  -4.376  1.00  0.00           O  \\nATOM    686  C   GLU A  89       8.884   2.473  -7.126  1.00  0.00           C  \\nATOM    687  O   GLU A  89       8.794   2.383  -8.356  1.00  0.00           O  \\nATOM    688  N   ILE A  90       9.864   3.093  -6.516  1.00  0.00           N  \\nATOM    689  CA  ILE A  90      11.004   3.783  -7.116  1.00  0.00           C  \\nATOM    690  CB  ILE A  90      11.344   4.973  -6.076  1.00  0.00           C  \\nATOM    691  CG2 ILE A  90      11.994   4.453  -4.746  1.00  0.00           C  \\nATOM    692  CG1 ILE A  90      12.344   6.013  -6.746  1.00  0.00           C  \\nATOM    693  CD1 ILE A  90      12.644   7.133  -5.766  1.00  0.00           C  \\nATOM    694  C   ILE A  90      12.184   2.953  -7.486  1.00  0.00           C  \\nATOM    695  O   ILE A  90      12.914   3.293  -8.436  1.00  0.00           O  \\nATOM    696  N   ASN A  91      12.494   1.903  -6.726  1.00  0.00           N  \\nATOM    697  CA  ASN A  91      13.604   0.973  -6.826  1.00  0.00           C  \\nATOM    698  CB  ASN A  91      13.914   0.323  -5.416  1.00  0.00           C  \\nATOM    699  CG  ASN A  91      15.114  -0.547  -5.416  1.00  0.00           C  \\nATOM    700  OD1 ASN A  91      15.674  -0.917  -6.456  1.00  0.00           O  \\nATOM    701  ND2 ASN A  91      15.704  -0.967  -4.236  1.00  0.00           N  \\nATOM    702  C   ASN A  91      13.284  -0.087  -7.866  1.00  0.00           C  \\nATOM    703  O   ASN A  91      12.404  -0.917  -7.546  1.00  0.00           O  \\nATOM    704  N   PRO A  92      13.924  -0.207  -9.066  1.00  0.00           N  \\nATOM    705  CD  PRO A  92      14.864   0.763  -9.576  1.00  0.00           C  \\nATOM    706  CG  PRO A  92      15.554   0.023 -10.786  1.00  0.00           C  \\nATOM    707  CB  PRO A  92      14.484  -0.807 -11.306  1.00  0.00           C  \\nATOM    708  CA  PRO A  92      13.634  -1.187 -10.056  1.00  0.00           C  \\nATOM    709  C   PRO A  92      13.814  -2.647  -9.596  1.00  0.00           C  \\nATOM    710  O   PRO A  92      13.494  -3.597 -10.336  1.00  0.00           O  \\nATOM    711  N   ASP A  93      14.404  -3.017  -8.446  1.00  0.00           N  \\nATOM    712  CA  ASP A  93      14.724  -4.357  -7.926  1.00  0.00           C  \\nATOM    713  CB  ASP A  93      16.004  -4.207  -7.146  1.00  0.00           C  \\nATOM    714  CG  ASP A  93      16.284  -5.567  -6.436  1.00  0.00           C  \\nATOM    715  OD1 ASP A  93      16.474  -5.557  -5.266  1.00  0.00           O  \\nATOM    716  OD2 ASP A  93      16.684  -6.517  -7.116  1.00  0.00           O  \\nATOM    717  C   ASP A  93      13.644  -4.887  -6.996  1.00  0.00           C  \\nATOM    718  O   ASP A  93      13.084  -5.957  -7.206  1.00  0.00           O  \\nATOM    719  N   CYS A  94      13.124  -4.007  -6.186  1.00  0.00           N  \\nATOM    720  CA  CYS A  94      11.784  -4.017  -5.456  1.00  0.00           C  \\nATOM    721  CB  CYS A  94      11.624  -2.647  -4.716  1.00  0.00           C  \\nATOM    722  SG  CYS A  94      12.794  -2.517  -3.316  1.00  0.00           S  \\nATOM    723  C   CYS A  94      10.694  -4.157  -6.546  1.00  0.00           C  \\nATOM    724  O   CYS A  94       9.714  -4.877  -6.396  1.00  0.00           O  \\nATOM    725  N   ALA A  95      10.784  -3.477  -7.726  1.00  0.00           N  \\nATOM    726  CA  ALA A  95       9.684  -3.587  -8.776  1.00  0.00           C  \\nATOM    727  CB  ALA A  95       9.844  -2.447  -9.716  1.00  0.00           C  \\nATOM    728  C   ALA A  95       9.594  -4.927  -9.516  1.00  0.00           C  \\nATOM    729  O   ALA A  95       8.524  -5.277 -10.036  1.00  0.00           O  \\nATOM    730  N   ALA A  96      10.644  -5.727  -9.406  1.00  0.00           N  \\nATOM    731  CA  ALA A  96      10.804  -6.987 -10.076  1.00  0.00           C  \\nATOM    732  CB  ALA A  96      12.334  -7.197 -10.376  1.00  0.00           C  \\nATOM    733  C   ALA A  96      10.234  -8.117  -9.256  1.00  0.00           C  \\nATOM    734  O   ALA A  96       9.424  -8.837  -9.836  1.00  0.00           O  \\nATOM    735  N   ILE A  97      10.414  -8.067  -7.936  1.00  0.00           N  \\nATOM    736  CA  ILE A  97       9.804  -9.007  -7.026  1.00  0.00           C  \\nATOM    737  CB  ILE A  97      10.694  -9.097  -5.696  1.00  0.00           C  \\nATOM    738  CG2 ILE A  97      10.804  -7.727  -5.006  1.00  0.00           C  \\nATOM    739  CG1 ILE A  97      10.104 -10.067  -4.646  1.00  0.00           C  \\nATOM    740  CD1 ILE A  97       9.814 -11.477  -5.196  1.00  0.00           C  \\nATOM    741  C   ILE A  97       8.364  -8.677  -6.686  1.00  0.00           C  \\nATOM    742  O   ILE A  97       7.514  -9.567  -6.726  1.00  0.00           O  \\nATOM    743  N   THR A  98       8.064  -7.367  -6.636  1.00  0.00           N  \\nATOM    744  CA  THR A  98       6.654  -6.917  -6.846  1.00  0.00           C  \\nATOM    745  CB  THR A  98       6.534  -5.417  -6.706  1.00  0.00           C  \\nATOM    746  CG2 THR A  98       5.074  -4.887  -6.576  1.00  0.00           C  \\nATOM    747  OG1 THR A  98       7.244  -5.107  -5.506  1.00  0.00           O  \\nATOM    748  C   THR A  98       5.824  -7.527  -8.016  1.00  0.00           C  \\nATOM    749  O   THR A  98       4.764  -8.137  -7.876  1.00  0.00           O  \\nATOM    750  N   GLN A  99       6.374  -7.437  -9.236  1.00  0.00           N  \\nATOM    751  CA  GLN A  99       5.654  -7.907 -10.396  1.00  0.00           C  \\nATOM    752  CB  GLN A  99       6.384  -7.277 -11.586  1.00  0.00           C  \\nATOM    753  CG  GLN A  99       5.614  -7.577 -12.916  1.00  0.00           C  \\nATOM    754  CD  GLN A  99       4.354  -6.837 -13.096  1.00  0.00           C  \\nATOM    755  OE1 GLN A  99       4.234  -5.837 -13.756  1.00  0.00           O  \\nATOM    756  NE2 GLN A  99       3.284  -7.277 -12.466  1.00  0.00           N  \\nATOM    757  C   GLN A  99       5.654  -9.407 -10.496  1.00  0.00           C  \\nATOM    758  O   GLN A  99       4.624 -10.007 -10.756  1.00  0.00           O  \\nATOM    759  N   ARG A 100       6.734 -10.017  -9.936  1.00  0.00           N  \\nATOM    760  CA  ARG A 100       6.884 -11.527  -9.846  1.00  0.00           C  \\nATOM    761  CB  ARG A 100       8.364 -11.887  -9.766  1.00  0.00           C  \\nATOM    762  CG  ARG A 100       9.164 -11.737 -11.116  1.00  0.00           C  \\nATOM    763  CD  ARG A 100      10.684 -11.607 -10.846  1.00  0.00           C  \\nATOM    764  NE  ARG A 100      11.484 -11.617 -12.096  1.00  0.00           N  \\nATOM    765  CZ  ARG A 100      12.744 -11.087 -12.336  1.00  0.00           C  \\nATOM    766  NH1 ARG A 100      13.374 -10.407 -11.396  1.00  0.00           N  \\nATOM    767  NH2 ARG A 100      13.304 -11.317 -13.496  1.00  0.00           N  \\nATOM    768  C   ARG A 100       5.984 -12.157  -8.756  1.00  0.00           C  \\nATOM    769  O   ARG A 100       5.504 -13.317  -8.806  1.00  0.00           O  \\nATOM    770  N   MET A 101       5.724 -11.437  -7.726  1.00  0.00           N  \\nATOM    771  CA  MET A 101       4.784 -11.897  -6.676  1.00  0.00           C  \\nATOM    772  CB  MET A 101       5.104 -11.067  -5.426  1.00  0.00           C  \\nATOM    773  CG  MET A 101       4.444 -11.537  -4.116  1.00  0.00           C  \\nATOM    774  SD  MET A 101       5.134 -13.107  -3.476  1.00  0.00           S  \\nATOM    775  CE  MET A 101       6.684 -12.527  -2.846  1.00  0.00           C  \\nATOM    776  C   MET A 101       3.274 -11.747  -7.036  1.00  0.00           C  \\nATOM    777  O   MET A 101       2.454 -12.587  -6.736  1.00  0.00           O  \\nATOM    778  N   VAL A 102       3.064 -10.637  -7.806  1.00  0.00           N  \\nATOM    779  CA  VAL A 102       1.734 -10.377  -8.356  1.00  0.00           C  \\nATOM    780  CB  VAL A 102       1.694  -8.887  -8.806  1.00  0.00           C  \\nATOM    781  CG1 VAL A 102       0.524  -8.587  -9.656  1.00  0.00           C  \\nATOM    782  CG2 VAL A 102       1.744  -7.877  -7.656  1.00  0.00           C  \\nATOM    783  C   VAL A 102       1.324 -11.337  -9.486  1.00  0.00           C  \\nATOM    784  O   VAL A 102       0.254 -11.937  -9.496  1.00  0.00           O  \\nATOM    785  N   ASP A 103       2.304 -11.617 -10.376  1.00  0.00           N  \\nATOM    786  CA  ASP A 103       2.144 -12.667 -11.406  1.00  0.00           C  \\nATOM    787  CB  ASP A 103       3.464 -12.617 -12.196  1.00  0.00           C  \\nATOM    788  CG  ASP A 103       3.494 -13.607 -13.356  1.00  0.00           C  \\nATOM    789  OD1 ASP A 103       3.774 -14.777 -13.176  1.00  0.00           O  \\nATOM    790  OD2 ASP A 103       2.914 -13.297 -14.426  1.00  0.00           O  \\nATOM    791  C   ASP A 103       1.964 -14.067 -10.856  1.00  0.00           C  \\nATOM    792  O   ASP A 103       0.964 -14.647 -11.246  1.00  0.00           O  \\nATOM    793  N   PHE A 104       2.714 -14.547  -9.886  1.00  0.00           N  \\nATOM    794  CA  PHE A 104       2.304 -15.817  -9.176  1.00  0.00           C  \\nATOM    795  CB  PHE A 104       3.394 -16.327  -8.276  1.00  0.00           C  \\nATOM    796  CG  PHE A 104       3.414 -17.777  -7.876  1.00  0.00           C  \\nATOM    797  CD1 PHE A 104       4.164 -18.787  -8.546  1.00  0.00           C  \\nATOM    798  CE1 PHE A 104       4.194 -20.047  -8.076  1.00  0.00           C  \\nATOM    799  CZ  PHE A 104       3.394 -20.467  -7.036  1.00  0.00           C  \\nATOM    800  CE2 PHE A 104       2.654 -19.497  -6.326  1.00  0.00           C  \\nATOM    801  CD2 PHE A 104       2.654 -18.177  -6.736  1.00  0.00           C  \\nATOM    802  C   PHE A 104       0.974 -15.707  -8.416  1.00  0.00           C  \\nATOM    803  O   PHE A 104       0.234 -16.687  -8.506  1.00  0.00           O  \\nATOM    804  N   ALA A 105       0.704 -14.527  -7.806  1.00  0.00           N  \\nATOM    805  CA  ALA A 105      -0.526 -14.337  -7.056  1.00  0.00           C  \\nATOM    806  CB  ALA A 105      -0.406 -13.097  -6.156  1.00  0.00           C  \\nATOM    807  C   ALA A 105      -1.796 -14.327  -7.946  1.00  0.00           C  \\nATOM    808  O   ALA A 105      -2.876 -14.337  -7.356  1.00  0.00           O  \\nATOM    809  N   GLY A 106      -1.596 -14.247  -9.256  1.00  0.00           N  \\nATOM    810  CA  GLY A 106      -2.656 -14.077 -10.216  1.00  0.00           C  \\nATOM    811  C   GLY A 106      -3.486 -12.787 -10.236  1.00  0.00           C  \\nATOM    812  O   GLY A 106      -4.626 -12.827 -10.566  1.00  0.00           O  \\nATOM    813  N   MET A 107      -2.796 -11.737  -9.786  1.00  0.00           N  \\nATOM    814  CA  MET A 107      -3.476 -10.467  -9.546  1.00  0.00           C  \\nATOM    815  CB  MET A 107      -3.256  -9.907  -8.106  1.00  0.00           C  \\nATOM    816  CG  MET A 107      -4.386 -10.517  -7.206  1.00  0.00           C  \\nATOM    817  SD  MET A 107      -6.056  -9.827  -7.556  1.00  0.00           S  \\nATOM    818  CE  MET A 107      -7.146 -11.127  -6.916  1.00  0.00           C  \\nATOM    819  C   MET A 107      -3.326  -9.437 -10.676  1.00  0.00           C  \\nATOM    820  O   MET A 107      -3.656  -8.307 -10.376  1.00  0.00           O  \\nATOM    821  N   LYS A 108      -2.736  -9.737 -11.866  1.00  0.00           N  \\nATOM    822  CA  LYS A 108      -2.516  -8.737 -13.016  1.00  0.00           C  \\nATOM    823  CB  LYS A 108      -1.556  -9.307 -14.066  1.00  0.00           C  \\nATOM    824  CG  LYS A 108      -0.126  -9.567 -13.506  1.00  0.00           C  \\nATOM    825  CD  LYS A 108       0.824  -9.737 -14.666  1.00  0.00           C  \\nATOM    826  CE  LYS A 108       0.424 -10.837 -15.686  1.00  0.00           C  \\nATOM    827  NZ  LYS A 108       1.684 -11.607 -16.066  1.00  0.00           N  \\nATOM    828  C   LYS A 108      -3.836  -8.297 -13.716  1.00  0.00           C  \\nATOM    829  O   LYS A 108      -3.796  -7.217 -14.306  1.00  0.00           O  \\nATOM    830  N   ASP A 109      -4.956  -8.997 -13.436  1.00  0.00           N  \\nATOM    831  CA  ASP A 109      -6.256  -8.487 -13.816  1.00  0.00           C  \\nATOM    832  CB  ASP A 109      -7.196  -9.727 -13.736  1.00  0.00           C  \\nATOM    833  CG  ASP A 109      -8.626  -9.397 -14.186  1.00  0.00           C  \\nATOM    834  OD1 ASP A 109      -9.536  -9.267 -13.366  1.00  0.00           O  \\nATOM    835  OD2 ASP A 109      -8.936  -9.357 -15.366  1.00  0.00           O  \\nATOM    836  C   ASP A 109      -6.826  -7.377 -12.976  1.00  0.00           C  \\nATOM    837  O   ASP A 109      -7.576  -6.537 -13.446  1.00  0.00           O  \\nATOM    838  N   LYS A 110      -6.356  -7.177 -11.746  1.00  0.00           N  \\nATOM    839  CA  LYS A 110      -6.596  -5.917 -10.896  1.00  0.00           C  \\nATOM    840  CB  LYS A 110      -7.216  -6.387  -9.536  1.00  0.00           C  \\nATOM    841  CG  LYS A 110      -8.496  -7.247  -9.626  1.00  0.00           C  \\nATOM    842  CD  LYS A 110      -9.576  -6.457 -10.406  1.00  0.00           C  \\nATOM    843  CE  LYS A 110     -10.886  -7.257 -10.476  1.00  0.00           C  \\nATOM    844  NZ  LYS A 110     -10.786  -8.667 -11.046  1.00  0.00           N  \\nATOM    845  C   LYS A 110      -5.416  -4.867 -10.646  1.00  0.00           C  \\nATOM    846  O   LYS A 110      -5.716  -3.677 -10.546  1.00  0.00           O  \\nATOM    847  N   VAL A 111      -4.166  -5.207 -10.776  1.00  0.00           N  \\nATOM    848  CA  VAL A 111      -2.916  -4.427 -10.436  1.00  0.00           C  \\nATOM    849  CB  VAL A 111      -2.086  -5.227  -9.406  1.00  0.00           C  \\nATOM    850  CG1 VAL A 111      -0.766  -4.537  -8.966  1.00  0.00           C  \\nATOM    851  CG2 VAL A 111      -2.966  -5.447  -8.126  1.00  0.00           C  \\nATOM    852  C   VAL A 111      -2.086  -4.047 -11.616  1.00  0.00           C  \\nATOM    853  O   VAL A 111      -1.656  -4.887 -12.336  1.00  0.00           O  \\nATOM    854  N   THR A 112      -1.776  -2.737 -11.726  1.00  0.00           N  \\nATOM    855  CA  THR A 112      -0.946  -2.117 -12.656  1.00  0.00           C  \\nATOM    856  CB  THR A 112      -1.616  -0.967 -13.426  1.00  0.00           C  \\nATOM    857  CG2 THR A 112      -0.676  -0.157 -14.326  1.00  0.00           C  \\nATOM    858  OG1 THR A 112      -2.496  -1.627 -14.376  1.00  0.00           O  \\nATOM    859  C   THR A 112       0.154  -1.457 -11.866  1.00  0.00           C  \\nATOM    860  O   THR A 112      -0.116  -0.427 -11.216  1.00  0.00           O  \\nATOM    861  N   LEU A 113       1.364  -1.997 -11.966  1.00  0.00           N  \\nATOM    862  CA  LEU A 113       2.534  -1.537 -11.236  1.00  0.00           C  \\nATOM    863  CB  LEU A 113       3.314  -2.757 -10.876  1.00  0.00           C  \\nATOM    864  CG  LEU A 113       4.714  -2.477 -10.336  1.00  0.00           C  \\nATOM    865  CD1 LEU A 113       4.644  -1.857  -8.886  1.00  0.00           C  \\nATOM    866  CD2 LEU A 113       5.414  -3.887 -10.336  1.00  0.00           C  \\nATOM    867  C   LEU A 113       3.324  -0.617 -12.146  1.00  0.00           C  \\nATOM    868  O   LEU A 113       3.534  -0.817 -13.326  1.00  0.00           O  \\nATOM    869  N   VAL A 114       3.904   0.413 -11.576  1.00  0.00           N  \\nATOM    870  CA  VAL A 114       4.494   1.593 -12.276  1.00  0.00           C  \\nATOM    871  CB  VAL A 114       3.484   2.853 -12.176  1.00  0.00           C  \\nATOM    872  CG1 VAL A 114       4.084   4.033 -12.876  1.00  0.00           C  \\nATOM    873  CG2 VAL A 114       2.114   2.563 -12.806  1.00  0.00           C  \\nATOM    874  C   VAL A 114       5.764   1.963 -11.576  1.00  0.00           C  \\nATOM    875  O   VAL A 114       5.754   2.023 -10.286  1.00  0.00           O  \\nATOM    876  N   VAL A 115       6.824   2.123 -12.286  1.00  0.00           N  \\nATOM    877  CA  VAL A 115       8.224   2.323 -11.816  1.00  0.00           C  \\nATOM    878  CB  VAL A 115       9.224   1.523 -12.646  1.00  0.00           C  \\nATOM    879  CG1 VAL A 115      10.664   1.733 -12.036  1.00  0.00           C  \\nATOM    880  CG2 VAL A 115       8.814   0.053 -12.666  1.00  0.00           C  \\nATOM    881  C   VAL A 115       8.514   3.843 -11.786  1.00  0.00           C  \\nATOM    882  O   VAL A 115       8.434   4.453 -12.836  1.00  0.00           O  \\nATOM    883  N   GLY A 116       8.864   4.383 -10.656  1.00  0.00           N  \\nATOM    884  CA  GLY A 116       9.374   5.783 -10.436  1.00  0.00           C  \\nATOM    885  C   GLY A 116       9.054   6.413  -9.086  1.00  0.00           C  \\nATOM    886  O   GLY A 116       8.584   5.733  -8.186  1.00  0.00           O  \\nATOM    887  N   ALA A 117       9.384   7.693  -8.976  1.00  0.00           N  \\nATOM    888  CA  ALA A 117       9.174   8.483  -7.786  1.00  0.00           C  \\nATOM    889  CB  ALA A 117      10.204   9.633  -7.816  1.00  0.00           C  \\nATOM    890  C   ALA A 117       7.734   9.063  -7.686  1.00  0.00           C  \\nATOM    891  O   ALA A 117       7.234   9.633  -8.706  1.00  0.00           O  \\nATOM    892  N   SER A 118       7.024   9.033  -6.576  1.00  0.00           N  \\nATOM    893  CA  SER A 118       5.704   9.493  -6.386  1.00  0.00           C  \\nATOM    894  CB  SER A 118       5.264   9.513  -4.876  1.00  0.00           C  \\nATOM    895  OG  SER A 118       6.314   9.923  -3.976  1.00  0.00           O  \\nATOM    896  C   SER A 118       5.564  10.953  -6.876  1.00  0.00           C  \\nATOM    897  O   SER A 118       4.634  11.223  -7.606  1.00  0.00           O  \\nATOM    898  N   GLN A 119       6.604  11.773  -6.586  1.00  0.00           N  \\nATOM    899  CA  GLN A 119       6.774  13.123  -7.096  1.00  0.00           C  \\nATOM    900  CB  GLN A 119       8.194  13.603  -6.606  1.00  0.00           C  \\nATOM    901  CG  GLN A 119       8.454  13.563  -5.096  1.00  0.00           C  \\nATOM    902  CD  GLN A 119       9.704  14.303  -4.546  1.00  0.00           C  \\nATOM    903  OE1 GLN A 119      10.664  13.693  -3.996  1.00  0.00           O  \\nATOM    904  NE2 GLN A 119       9.744  15.603  -4.526  1.00  0.00           N  \\nATOM    905  C   GLN A 119       6.774  13.293  -8.616  1.00  0.00           C  \\nATOM    906  O   GLN A 119       6.534  14.383  -9.046  1.00  0.00           O  \\nATOM    907  N   ASP A 120       7.024  12.253  -9.416  1.00  0.00           N  \\nATOM    908  CA  ASP A 120       7.074  12.173 -10.866  1.00  0.00           C  \\nATOM    909  CB  ASP A 120       8.284  11.273 -11.306  1.00  0.00           C  \\nATOM    910  CG  ASP A 120       8.474  10.943 -12.796  1.00  0.00           C  \\nATOM    911  OD1 ASP A 120       8.354  11.853 -13.586  1.00  0.00           O  \\nATOM    912  OD2 ASP A 120       8.744   9.793 -13.166  1.00  0.00           O  \\nATOM    913  C   ASP A 120       5.824  11.533 -11.516  1.00  0.00           C  \\nATOM    914  O   ASP A 120       5.364  11.823 -12.606  1.00  0.00           O  \\nATOM    915  N   ILE A 121       5.464  10.403 -10.906  1.00  0.00           N  \\nATOM    916  CA  ILE A 121       4.374   9.533 -11.296  1.00  0.00           C  \\nATOM    917  CB  ILE A 121       4.524   8.133 -10.776  1.00  0.00           C  \\nATOM    918  CG2 ILE A 121       3.384   7.233 -11.196  1.00  0.00           C  \\nATOM    919  CG1 ILE A 121       5.944   7.563 -11.086  1.00  0.00           C  \\nATOM    920  CD1 ILE A 121       6.114   7.203 -12.596  1.00  0.00           C  \\nATOM    921  C   ILE A 121       2.964  10.103 -10.966  1.00  0.00           C  \\nATOM    922  O   ILE A 121       2.084  10.073 -11.816  1.00  0.00           O  \\nATOM    923  N   ILE A 122       2.724  10.783  -9.876  1.00  0.00           N  \\nATOM    924  CA  ILE A 122       1.434  11.453  -9.606  1.00  0.00           C  \\nATOM    925  CB  ILE A 122       1.314  12.103  -8.176  1.00  0.00           C  \\nATOM    926  CG2 ILE A 122      -0.056  12.783  -7.976  1.00  0.00           C  \\nATOM    927  CG1 ILE A 122       1.314  10.863  -7.116  1.00  0.00           C  \\nATOM    928  CD1 ILE A 122       1.694  11.353  -5.686  1.00  0.00           C  \\nATOM    929  C   ILE A 122       1.024  12.503 -10.656  1.00  0.00           C  \\nATOM    930  O   ILE A 122      -0.096  12.453 -11.176  1.00  0.00           O  \\nATOM    931  N   PRO A 123       1.974  13.373 -11.136  1.00  0.00           N  \\nATOM    932  CD  PRO A 123       3.124  13.903 -10.446  1.00  0.00           C  \\nATOM    933  CG  PRO A 123       3.624  15.133 -11.096  1.00  0.00           C  \\nATOM    934  CB  PRO A 123       3.204  14.903 -12.536  1.00  0.00           C  \\nATOM    935  CA  PRO A 123       1.774  14.193 -12.346  1.00  0.00           C  \\nATOM    936  C   PRO A 123       1.474  13.473 -13.636  1.00  0.00           C  \\nATOM    937  O   PRO A 123       1.324  14.193 -14.676  1.00  0.00           O  \\nATOM    938  N   GLN A 124       1.314  12.163 -13.736  1.00  0.00           N  \\nATOM    939  CA  GLN A 124       1.154  11.423 -14.996  1.00  0.00           C  \\nATOM    940  CB  GLN A 124       2.474  10.683 -15.316  1.00  0.00           C  \\nATOM    941  CG  GLN A 124       3.674  11.603 -15.646  1.00  0.00           C  \\nATOM    942  CD  GLN A 124       4.914  10.883 -16.036  1.00  0.00           C  \\nATOM    943  OE1 GLN A 124       5.104  10.513 -17.176  1.00  0.00           O  \\nATOM    944  NE2 GLN A 124       5.854  10.603 -15.116  1.00  0.00           N  \\nATOM    945  C   GLN A 124       0.044  10.393 -14.936  1.00  0.00           C  \\nATOM    946  O   GLN A 124      -0.276   9.903 -15.976  1.00  0.00           O  \\nATOM    947  N   LEU A 125      -0.636  10.183 -13.756  1.00  0.00           N  \\nATOM    948  CA  LEU A 125      -1.746   9.173 -13.626  1.00  0.00           C  \\nATOM    949  CB  LEU A 125      -2.246   9.233 -12.146  1.00  0.00           C  \\nATOM    950  CG  LEU A 125      -1.246   8.603 -11.096  1.00  0.00           C  \\nATOM    951  CD1 LEU A 125      -1.776   8.673  -9.656  1.00  0.00           C  \\nATOM    952  CD2 LEU A 125      -0.886   7.133 -11.406  1.00  0.00           C  \\nATOM    953  C   LEU A 125      -2.906   9.333 -14.546  1.00  0.00           C  \\nATOM    954  O   LEU A 125      -3.366   8.333 -15.096  1.00  0.00           O  \\nATOM    955  N   LYS A 126      -3.356  10.573 -14.856  1.00  0.00           N  \\nATOM    956  CA  LYS A 126      -4.416  10.793 -15.856  1.00  0.00           C  \\nATOM    957  CB  LYS A 126      -5.146  12.143 -15.566  1.00  0.00           C  \\nATOM    958  CG  LYS A 126      -5.766  12.293 -14.146  1.00  0.00           C  \\nATOM    959  CD  LYS A 126      -7.166  13.003 -14.086  1.00  0.00           C  \\nATOM    960  CE  LYS A 126      -6.936  14.503 -14.236  1.00  0.00           C  \\nATOM    961  NZ  LYS A 126      -8.216  15.313 -14.366  1.00  0.00           N  \\nATOM    962  C   LYS A 126      -3.926  10.813 -17.276  1.00  0.00           C  \\nATOM    963  O   LYS A 126      -4.706  10.393 -18.116  1.00  0.00           O  \\nATOM    964  N   LYS A 127      -2.706  11.293 -17.576  1.00  0.00           N  \\nATOM    965  CA  LYS A 127      -2.126  11.403 -18.976  1.00  0.00           C  \\nATOM    966  CB  LYS A 127      -1.046  12.473 -19.166  1.00  0.00           C  \\nATOM    967  CG  LYS A 127      -1.686  13.873 -19.086  1.00  0.00           C  \\nATOM    968  CD  LYS A 127      -0.676  15.033 -19.206  1.00  0.00           C  \\nATOM    969  CE  LYS A 127       0.064  15.093 -20.546  1.00  0.00           C  \\nATOM    970  NZ  LYS A 127      -0.846  15.063 -21.756  1.00  0.00           N  \\nATOM    971  C   LYS A 127      -1.516  10.033 -19.506  1.00  0.00           C  \\nATOM    972  O   LYS A 127      -1.236   9.873 -20.696  1.00  0.00           O  \\nATOM    973  N   LYS A 128      -1.316   9.023 -18.616  1.00  0.00           N  \\nATOM    974  CA  LYS A 128      -0.596   7.763 -18.816  1.00  0.00           C  \\nATOM    975  CB  LYS A 128       0.844   8.023 -18.406  1.00  0.00           C  \\nATOM    976  CG  LYS A 128       1.784   6.983 -19.096  1.00  0.00           C  \\nATOM    977  CD  LYS A 128       3.254   7.523 -19.306  1.00  0.00           C  \\nATOM    978  CE  LYS A 128       4.174   6.483 -19.986  1.00  0.00           C  \\nATOM    979  NZ  LYS A 128       4.484   5.303 -19.106  1.00  0.00           N  \\nATOM    980  C   LYS A 128      -1.176   6.483 -18.166  1.00  0.00           C  \\nATOM    981  O   LYS A 128      -0.836   5.363 -18.656  1.00  0.00           O  \\nATOM    982  N   TYR A 129      -2.076   6.523 -17.216  1.00  0.00           N  \\nATOM    983  CA  TYR A 129      -2.556   5.353 -16.406  1.00  0.00           C  \\nATOM    984  CB  TYR A 129      -1.656   5.073 -15.146  1.00  0.00           C  \\nATOM    985  CG  TYR A 129      -0.246   4.923 -15.486  1.00  0.00           C  \\nATOM    986  CD1 TYR A 129       0.194   3.673 -15.976  1.00  0.00           C  \\nATOM    987  CE1 TYR A 129       1.474   3.433 -16.356  1.00  0.00           C  \\nATOM    988  CZ  TYR A 129       2.484   4.443 -16.166  1.00  0.00           C  \\nATOM    989  OH  TYR A 129       3.724   4.053 -16.376  1.00  0.00           O  \\nATOM    990  CE2 TYR A 129       2.094   5.743 -15.656  1.00  0.00           C  \\nATOM    991  CD2 TYR A 129       0.724   5.913 -15.266  1.00  0.00           C  \\nATOM    992  C   TYR A 129      -4.106   5.383 -16.156  1.00  0.00           C  \\nATOM    993  O   TYR A 129      -4.576   4.843 -15.146  1.00  0.00           O  \\nATOM    994  N   ASP A 130      -4.926   5.993 -17.046  1.00  0.00           N  \\nATOM    995  CA  ASP A 130      -6.416   6.033 -17.006  1.00  0.00           C  \\nATOM    996  CB  ASP A 130      -6.926   4.773 -17.736  1.00  0.00           C  \\nATOM    997  CG  ASP A 130      -8.456   4.713 -17.926  1.00  0.00           C  \\nATOM    998  OD1 ASP A 130      -9.076   3.733 -17.596  1.00  0.00           O  \\nATOM    999  OD2 ASP A 130      -9.026   5.673 -18.436  1.00  0.00           O  \\nATOM   1000  C   ASP A 130      -7.136   6.363 -15.696  1.00  0.00           C  \\nATOM   1001  O   ASP A 130      -7.926   5.623 -15.216  1.00  0.00           O  \\nATOM   1002  N   VAL A 131      -6.936   7.573 -15.166  1.00  0.00           N  \\nATOM   1003  CA  VAL A 131      -7.526   8.223 -13.996  1.00  0.00           C  \\nATOM   1004  CB  VAL A 131      -6.456   8.523 -12.916  1.00  0.00           C  \\nATOM   1005  CG1 VAL A 131      -7.156   8.943 -11.626  1.00  0.00           C  \\nATOM   1006  CG2 VAL A 131      -5.486   7.323 -12.556  1.00  0.00           C  \\nATOM   1007  C   VAL A 131      -8.386   9.393 -14.326  1.00  0.00           C  \\nATOM   1008  O   VAL A 131      -8.046  10.173 -15.196  1.00  0.00           O  \\nATOM   1009  N   ASP A 132      -9.466   9.623 -13.536  1.00  0.00           N  \\nATOM   1010  CA  ASP A 132     -10.256  10.843 -13.456  1.00  0.00           C  \\nATOM   1011  CB  ASP A 132     -11.676  10.613 -14.126  1.00  0.00           C  \\nATOM   1012  CG  ASP A 132     -12.366  11.953 -14.206  1.00  0.00           C  \\nATOM   1013  OD1 ASP A 132     -13.616  11.893 -14.146  1.00  0.00           O  \\nATOM   1014  OD2 ASP A 132     -11.856  12.983 -14.576  1.00  0.00           O  \\nATOM   1015  C   ASP A 132     -10.326  11.363 -11.996  1.00  0.00           C  \\nATOM   1016  O   ASP A 132      -9.786  12.393 -11.686  1.00  0.00           O  \\nATOM   1017  N   THR A 133     -10.966  10.623 -11.096  1.00  0.00           N  \\nATOM   1018  CA  THR A 133     -10.906  10.893  -9.636  1.00  0.00           C  \\nATOM   1019  CB  THR A 133     -12.236  11.493  -9.026  1.00  0.00           C  \\nATOM   1020  CG2 THR A 133     -12.626  12.843  -9.776  1.00  0.00           C  \\nATOM   1021  OG1 THR A 133     -13.326  10.613  -9.276  1.00  0.00           O  \\nATOM   1022  C   THR A 133     -10.756   9.593  -8.866  1.00  0.00           C  \\nATOM   1023  O   THR A 133     -10.976   8.563  -9.446  1.00  0.00           O  \\nATOM   1024  N   LEU A 134     -10.296   9.583  -7.616  1.00  0.00           N  \\nATOM   1025  CA  LEU A 134      -9.886   8.333  -6.836  1.00  0.00           C  \\nATOM   1026  CB  LEU A 134      -8.526   8.583  -6.016  1.00  0.00           C  \\nATOM   1027  CG  LEU A 134      -7.296   8.623  -6.996  1.00  0.00           C  \\nATOM   1028  CD1 LEU A 134      -6.016   9.123  -6.286  1.00  0.00           C  \\nATOM   1029  CD2 LEU A 134      -6.866   7.253  -7.576  1.00  0.00           C  \\nATOM   1030  C   LEU A 134     -11.016   7.903  -5.886  1.00  0.00           C  \\nATOM   1031  O   LEU A 134     -11.586   8.743  -5.156  1.00  0.00           O  \\nATOM   1032  N   ASP A 135     -11.266   6.583  -5.756  1.00  0.00           N  \\nATOM   1033  CA  ASP A 135     -12.096   6.063  -4.656  1.00  0.00           C  \\nATOM   1034  CB  ASP A 135     -12.726   4.723  -5.226  1.00  0.00           C  \\nATOM   1035  CG  ASP A 135     -13.516   5.013  -6.516  1.00  0.00           C  \\nATOM   1036  OD1 ASP A 135     -14.596   5.583  -6.416  1.00  0.00           O  \\nATOM   1037  OD2 ASP A 135     -13.356   4.273  -7.456  1.00  0.00           O  \\nATOM   1038  C   ASP A 135     -11.356   5.713  -3.316  1.00  0.00           C  \\nATOM   1039  O   ASP A 135     -11.946   5.783  -2.206  1.00  0.00           O  \\nATOM   1040  N   MET A 136     -10.076   5.303  -3.396  1.00  0.00           N  \\nATOM   1041  CA  MET A 136      -9.186   4.873  -2.276  1.00  0.00           C  \\nATOM   1042  CB  MET A 136      -9.466   3.403  -1.946  1.00  0.00           C  \\nATOM   1043  CG  MET A 136      -9.516   2.873  -0.506  1.00  0.00           C  \\nATOM   1044  SD  MET A 136      -8.036   3.273   0.624  1.00  0.00           S  \\nATOM   1045  CE  MET A 136      -6.826   2.393  -0.286  1.00  0.00           C  \\nATOM   1046  C   MET A 136      -7.706   5.123  -2.536  1.00  0.00           C  \\nATOM   1047  O   MET A 136      -7.196   5.023  -3.636  1.00  0.00           O  \\nATOM   1048  N   VAL A 137      -6.966   5.493  -1.476  1.00  0.00           N  \\nATOM   1049  CA  VAL A 137      -5.516   5.823  -1.436  1.00  0.00           C  \\nATOM   1050  CB  VAL A 137      -5.246   7.373  -1.386  1.00  0.00           C  \\nATOM   1051  CG1 VAL A 137      -3.856   7.643  -1.916  1.00  0.00           C  \\nATOM   1052  CG2 VAL A 137      -6.186   8.143  -2.246  1.00  0.00           C  \\nATOM   1053  C   VAL A 137      -4.826   5.133  -0.276  1.00  0.00           C  \\nATOM   1054  O   VAL A 137      -5.246   5.243   0.864  1.00  0.00           O  \\nATOM   1055  N   PHE A 138      -3.626   4.553  -0.476  1.00  0.00           N  \\nATOM   1056  CA  PHE A 138      -2.716   3.983   0.554  1.00  0.00           C  \\nATOM   1057  CB  PHE A 138      -2.606   2.453   0.474  1.00  0.00           C  \\nATOM   1058  CG  PHE A 138      -2.016   1.703   1.674  1.00  0.00           C  \\nATOM   1059  CD1 PHE A 138      -0.806   0.993   1.544  1.00  0.00           C  \\nATOM   1060  CE1 PHE A 138      -0.246   0.253   2.624  1.00  0.00           C  \\nATOM   1061  CZ  PHE A 138      -0.936   0.333   3.784  1.00  0.00           C  \\nATOM   1062  CE2 PHE A 138      -2.116   1.043   3.934  1.00  0.00           C  \\nATOM   1063  CD2 PHE A 138      -2.676   1.763   2.874  1.00  0.00           C  \\nATOM   1064  C   PHE A 138      -1.326   4.613   0.614  1.00  0.00           C  \\nATOM   1065  O   PHE A 138      -0.716   4.883  -0.406  1.00  0.00           O  \\nATOM   1066  N   LEU A 139      -0.816   4.963   1.814  1.00  0.00           N  \\nATOM   1067  CA  LEU A 139       0.584   5.453   2.144  1.00  0.00           C  \\nATOM   1068  CB  LEU A 139       0.464   6.853   2.694  1.00  0.00           C  \\nATOM   1069  CG  LEU A 139       0.554   7.953   1.534  1.00  0.00           C  \\nATOM   1070  CD1 LEU A 139      -0.776   8.133   0.744  1.00  0.00           C  \\nATOM   1071  CD2 LEU A 139       0.854   9.323   2.184  1.00  0.00           C  \\nATOM   1072  C   LEU A 139       1.404   4.643   3.114  1.00  0.00           C  \\nATOM   1073  O   LEU A 139       0.914   4.363   4.244  1.00  0.00           O  \\nATOM   1074  N   ASP A 140       2.614   4.123   2.714  1.00  0.00           N  \\nATOM   1075  CA  ASP A 140       3.594   3.293   3.424  1.00  0.00           C  \\nATOM   1076  CB  ASP A 140       3.214   1.793   3.404  1.00  0.00           C  \\nATOM   1077  CG  ASP A 140       4.054   0.773   4.124  1.00  0.00           C  \\nATOM   1078  OD1 ASP A 140       4.684   1.063   5.134  1.00  0.00           O  \\nATOM   1079  OD2 ASP A 140       3.854  -0.367   3.894  1.00  0.00           O  \\nATOM   1080  C   ASP A 140       4.954   3.523   2.774  1.00  0.00           C  \\nATOM   1081  O   ASP A 140       5.764   2.563   2.724  1.00  0.00           O  \\nATOM   1082  N   HIE A 141       5.304   4.693   2.164  1.00  0.00           N  \\nATOM   1083  CA  HIE A 141       6.664   5.053   1.664  1.00  0.00           C  \\nATOM   1084  CB  HIE A 141       6.634   5.603   0.224  1.00  0.00           C  \\nATOM   1085  CG  HIE A 141       5.814   6.863  -0.036  1.00  0.00           C  \\nATOM   1086  ND1 HIE A 141       4.854   7.373   0.864  1.00  0.00           N  \\nATOM   1087  CE1 HIE A 141       4.344   8.453   0.244  1.00  0.00           C  \\nATOM   1088  NE2 HIE A 141       4.904   8.603  -0.926  1.00  0.00           N  \\nATOM   1089  CD2 HIE A 141       5.824   7.643  -1.166  1.00  0.00           C  \\nATOM   1090  C   HIE A 141       7.424   5.853   2.714  1.00  0.00           C  \\nATOM   1091  O   HIE A 141       7.004   5.903   3.884  1.00  0.00           O  \\nATOM   1092  N   TRP A 142       8.574   6.503   2.334  1.00  0.00           N  \\nATOM   1093  CA  TRP A 142       9.294   7.473   3.264  1.00  0.00           C  \\nATOM   1094  CB  TRP A 142      10.534   8.053   2.564  1.00  0.00           C  \\nATOM   1095  CG  TRP A 142      11.574   7.073   2.064  1.00  0.00           C  \\nATOM   1096  CD1 TRP A 142      11.924   7.263   0.774  1.00  0.00           C  \\nATOM   1097  NE1 TRP A 142      12.954   6.313   0.544  1.00  0.00           N  \\nATOM   1098  CE2 TRP A 142      13.214   5.593   1.684  1.00  0.00           C  \\nATOM   1099  CZ2 TRP A 142      14.134   4.543   1.944  1.00  0.00           C  \\nATOM   1100  CH2 TRP A 142      14.294   4.033   3.214  1.00  0.00           C  \\nATOM   1101  CZ3 TRP A 142      13.474   4.513   4.254  1.00  0.00           C  \\nATOM   1102  CE3 TRP A 142      12.604   5.593   4.024  1.00  0.00           C  \\nATOM   1103  CD2 TRP A 142      12.414   6.113   2.684  1.00  0.00           C  \\nATOM   1104  C   TRP A 142       8.344   8.593   3.754  1.00  0.00           C  \\nATOM   1105  O   TRP A 142       7.404   9.073   3.124  1.00  0.00           O  \\nATOM   1106  N   LYS A 143       8.604   9.093   4.954  1.00  0.00           N  \\nATOM   1107  CA  LYS A 143       7.674  10.003   5.694  1.00  0.00           C  \\nATOM   1108  CB  LYS A 143       7.864   9.913   7.234  1.00  0.00           C  \\nATOM   1109  CG  LYS A 143       7.584   8.533   7.734  1.00  0.00           C  \\nATOM   1110  CD  LYS A 143       6.044   8.183   7.934  1.00  0.00           C  \\nATOM   1111  CE  LYS A 143       5.844   6.653   7.964  1.00  0.00           C  \\nATOM   1112  NZ  LYS A 143       6.204   5.963   6.614  1.00  0.00           N  \\nATOM   1113  C   LYS A 143       7.814  11.463   5.344  1.00  0.00           C  \\nATOM   1114  O   LYS A 143       6.864  12.203   5.584  1.00  0.00           O  \\nATOM   1115  N   ASP A 144       8.984  11.893   4.914  1.00  0.00           N  \\nATOM   1116  CA  ASP A 144       9.274  13.233   4.404  1.00  0.00           C  \\nATOM   1117  CB  ASP A 144      10.764  13.253   4.204  1.00  0.00           C  \\nATOM   1118  CG  ASP A 144      11.124  12.483   2.934  1.00  0.00           C  \\nATOM   1119  OD1 ASP A 144      11.274  11.283   3.054  1.00  0.00           O  \\nATOM   1120  OD2 ASP A 144      11.294  13.013   1.814  1.00  0.00           O  \\nATOM   1121  C   ASP A 144       8.434  13.543   3.204  1.00  0.00           C  \\nATOM   1122  O   ASP A 144       8.294  14.723   2.854  1.00  0.00           O  \\nATOM   1123  N   ARG A 145       7.794  12.473   2.594  1.00  0.00           N  \\nATOM   1124  CA  ARG A 145       6.854  12.583   1.464  1.00  0.00           C  \\nATOM   1125  CB  ARG A 145       7.044  11.403   0.394  1.00  0.00           C  \\nATOM   1126  CG  ARG A 145       8.384  11.263  -0.356  1.00  0.00           C  \\nATOM   1127  CD  ARG A 145       8.764  12.683  -0.856  1.00  0.00           C  \\nATOM   1128  NE  ARG A 145       7.684  13.313  -1.596  1.00  0.00           N  \\nATOM   1129  CZ  ARG A 145       7.514  14.663  -1.866  1.00  0.00           C  \\nATOM   1130  NH1 ARG A 145       8.264  15.603  -1.366  1.00  0.00           N  \\nATOM   1131  NH2 ARG A 145       6.524  15.053  -2.686  1.00  0.00           N  \\nATOM   1132  C   ARG A 145       5.404  12.763   1.874  1.00  0.00           C  \\nATOM   1133  O   ARG A 145       4.694  13.513   1.144  1.00  0.00           O  \\nATOM   1134  N   TYR A 146       4.984  12.353   3.094  1.00  0.00           N  \\nATOM   1135  CA  TYR A 146       3.534  12.023   3.324  1.00  0.00           C  \\nATOM   1136  CB  TYR A 146       3.304  11.503   4.734  1.00  0.00           C  \\nATOM   1137  CG  TYR A 146       3.474  10.013   5.024  1.00  0.00           C  \\nATOM   1138  CD1 TYR A 146       4.314   9.283   4.194  1.00  0.00           C  \\nATOM   1139  CE1 TYR A 146       4.394   7.903   4.424  1.00  0.00           C  \\nATOM   1140  CZ  TYR A 146       3.484   7.253   5.314  1.00  0.00           C  \\nATOM   1141  OH  TYR A 146       3.554   5.893   5.524  1.00  0.00           O  \\nATOM   1142  CE2 TYR A 146       2.664   7.993   6.094  1.00  0.00           C  \\nATOM   1143  CD2 TYR A 146       2.684   9.413   6.024  1.00  0.00           C  \\nATOM   1144  C   TYR A 146       2.634  13.303   3.084  1.00  0.00           C  \\nATOM   1145  O   TYR A 146       1.654  13.153   2.394  1.00  0.00           O  \\nATOM   1146  N   LEU A 147       2.874  14.453   3.754  1.00  0.00           N  \\nATOM   1147  CA  LEU A 147       2.204  15.693   3.414  1.00  0.00           C  \\nATOM   1148  CB  LEU A 147       2.464  16.753   4.474  1.00  0.00           C  \\nATOM   1149  CG  LEU A 147       1.714  18.073   4.194  1.00  0.00           C  \\nATOM   1150  CD1 LEU A 147       0.184  17.943   4.084  1.00  0.00           C  \\nATOM   1151  CD2 LEU A 147       1.944  19.143   5.294  1.00  0.00           C  \\nATOM   1152  C   LEU A 147       2.504  16.193   1.984  1.00  0.00           C  \\nATOM   1153  O   LEU A 147       1.584  16.173   1.174  1.00  0.00           O  \\nATOM   1154  N   PRO A 148       3.714  16.553   1.524  1.00  0.00           N  \\nATOM   1155  CD  PRO A 148       4.964  16.773   2.324  1.00  0.00           C  \\nATOM   1156  CG  PRO A 148       5.914  17.323   1.284  1.00  0.00           C  \\nATOM   1157  CB  PRO A 148       5.404  16.813  -0.066  1.00  0.00           C  \\nATOM   1158  CA  PRO A 148       3.914  16.933   0.094  1.00  0.00           C  \\nATOM   1159  C   PRO A 148       3.264  16.113  -0.996  1.00  0.00           C  \\nATOM   1160  O   PRO A 148       2.764  16.663  -1.986  1.00  0.00           O  \\nATOM   1161  N   ASP A 149       3.234  14.733  -0.886  1.00  0.00           N  \\nATOM   1162  CA  ASP A 149       2.544  13.903  -1.836  1.00  0.00           C  \\nATOM   1163  CB  ASP A 149       3.014  12.443  -1.656  1.00  0.00           C  \\nATOM   1164  CG  ASP A 149       4.344  12.073  -2.296  1.00  0.00           C  \\nATOM   1165  OD1 ASP A 149       5.044  12.903  -2.816  1.00  0.00           O  \\nATOM   1166  OD2 ASP A 149       4.714  10.903  -2.196  1.00  0.00           O  \\nATOM   1167  C   ASP A 149       1.034  13.893  -1.706  1.00  0.00           C  \\nATOM   1168  O   ASP A 149       0.214  13.763  -2.666  1.00  0.00           O  \\nATOM   1169  N   THR A 150       0.524  14.133  -0.536  1.00  0.00           N  \\nATOM   1170  CA  THR A 150      -0.916  14.303  -0.246  1.00  0.00           C  \\nATOM   1171  CB  THR A 150      -1.236  14.133   1.274  1.00  0.00           C  \\nATOM   1172  CG2 THR A 150      -2.696  14.283   1.714  1.00  0.00           C  \\nATOM   1173  OG1 THR A 150      -0.856  12.903   1.704  1.00  0.00           O  \\nATOM   1174  C   THR A 150      -1.496  15.583  -0.796  1.00  0.00           C  \\nATOM   1175  O   THR A 150      -2.596  15.643  -1.336  1.00  0.00           O  \\nATOM   1176  N   LEU A 151      -0.676  16.683  -0.666  1.00  0.00           N  \\nATOM   1177  CA  LEU A 151      -0.926  17.973  -1.266  1.00  0.00           C  \\nATOM   1178  CB  LEU A 151       0.024  19.103  -0.806  1.00  0.00           C  \\nATOM   1179  CG  LEU A 151      -0.066  19.393   0.684  1.00  0.00           C  \\nATOM   1180  CD1 LEU A 151       0.994  20.473   1.044  1.00  0.00           C  \\nATOM   1181  CD2 LEU A 151      -1.456  20.013   1.094  1.00  0.00           C  \\nATOM   1182  C   LEU A 151      -0.846  17.903  -2.826  1.00  0.00           C  \\nATOM   1183  O   LEU A 151      -1.736  18.473  -3.476  1.00  0.00           O  \\nATOM   1184  N   LEU A 152       0.114  17.133  -3.336  1.00  0.00           N  \\nATOM   1185  CA  LEU A 152       0.334  16.943  -4.796  1.00  0.00           C  \\nATOM   1186  CB  LEU A 152       1.694  16.473  -5.206  1.00  0.00           C  \\nATOM   1187  CG  LEU A 152       2.054  16.063  -6.656  1.00  0.00           C  \\nATOM   1188  CD1 LEU A 152       2.134  17.223  -7.626  1.00  0.00           C  \\nATOM   1189  CD2 LEU A 152       3.454  15.343  -6.546  1.00  0.00           C  \\nATOM   1190  C   LEU A 152      -0.776  16.113  -5.486  1.00  0.00           C  \\nATOM   1191  O   LEU A 152      -1.086  16.273  -6.636  1.00  0.00           O  \\nATOM   1192  N   LEU A 153      -1.516  15.293  -4.736  1.00  0.00           N  \\nATOM   1193  CA  LEU A 153      -2.726  14.533  -5.146  1.00  0.00           C  \\nATOM   1194  CB  LEU A 153      -3.006  13.423  -4.116  1.00  0.00           C  \\nATOM   1195  CG  LEU A 153      -2.176  12.193  -4.346  1.00  0.00           C  \\nATOM   1196  CD1 LEU A 153      -2.356  11.183  -3.196  1.00  0.00           C  \\nATOM   1197  CD2 LEU A 153      -2.736  11.413  -5.616  1.00  0.00           C  \\nATOM   1198  C   LEU A 153      -3.796  15.573  -5.316  1.00  0.00           C  \\nATOM   1199  O   LEU A 153      -4.226  15.773  -6.426  1.00  0.00           O  \\nATOM   1200  N   GLU A 154      -4.156  16.343  -4.246  1.00  0.00           N  \\nATOM   1201  CA  GLU A 154      -5.196  17.353  -4.326  1.00  0.00           C  \\nATOM   1202  CB  GLU A 154      -5.466  17.923  -2.926  1.00  0.00           C  \\nATOM   1203  CG  GLU A 154      -6.596  18.953  -2.846  1.00  0.00           C  \\nATOM   1204  CD  GLU A 154      -7.006  19.363  -1.436  1.00  0.00           C  \\nATOM   1205  OE1 GLU A 154      -8.066  19.813  -1.096  1.00  0.00           O  \\nATOM   1206  OE2 GLU A 154      -6.086  19.393  -0.656  1.00  0.00           O  \\nATOM   1207  C   GLU A 154      -4.926  18.423  -5.436  1.00  0.00           C  \\nATOM   1208  O   GLU A 154      -5.906  18.863  -6.086  1.00  0.00           O  \\nATOM   1209  N   GLU A 155      -3.656  18.833  -5.646  1.00  0.00           N  \\nATOM   1210  CA  GLU A 155      -3.266  19.773  -6.666  1.00  0.00           C  \\nATOM   1211  CB  GLU A 155      -1.816  20.183  -6.546  1.00  0.00           C  \\nATOM   1212  CG  GLU A 155      -1.276  21.033  -7.686  1.00  0.00           C  \\nATOM   1213  CD  GLU A 155       0.174  21.413  -7.396  1.00  0.00           C  \\nATOM   1214  OE1 GLU A 155       0.804  21.973  -8.256  1.00  0.00           O  \\nATOM   1215  OE2 GLU A 155       0.674  21.473  -6.286  1.00  0.00           O  \\nATOM   1216  C   GLU A 155      -3.516  19.203  -8.056  1.00  0.00           C  \\nATOM   1217  O   GLU A 155      -4.076  19.923  -8.896  1.00  0.00           O  \\nATOM   1218  N   CYS A 156      -3.156  17.933  -8.306  1.00  0.00           N  \\nATOM   1219  CA  CYS A 156      -3.566  17.283  -9.566  1.00  0.00           C  \\nATOM   1220  CB  CYS A 156      -2.866  15.913  -9.656  1.00  0.00           C  \\nATOM   1221  SG  CYS A 156      -1.046  16.103  -9.706  1.00  0.00           S  \\nATOM   1222  C   CYS A 156      -5.096  17.083  -9.686  1.00  0.00           C  \\nATOM   1223  O   CYS A 156      -5.616  16.673 -10.736  1.00  0.00           O  \\nATOM   1224  N   GLY A 157      -5.846  17.443  -8.596  1.00  0.00           N  \\nATOM   1225  CA  GLY A 157      -7.316  17.323  -8.546  1.00  0.00           C  \\nATOM   1226  C   GLY A 157      -7.846  15.913  -8.416  1.00  0.00           C  \\nATOM   1227  O   GLY A 157      -8.966  15.643  -8.986  1.00  0.00           O  \\nATOM   1228  N   LEU A 158      -6.976  14.953  -7.956  1.00  0.00           N  \\nATOM   1229  CA  LEU A 158      -7.276  13.523  -8.036  1.00  0.00           C  \\nATOM   1230  CB  LEU A 158      -5.956  12.613  -8.046  1.00  0.00           C  \\nATOM   1231  CG  LEU A 158      -5.146  12.863  -9.286  1.00  0.00           C  \\nATOM   1232  CD1 LEU A 158      -3.686  12.503  -9.076  1.00  0.00           C  \\nATOM   1233  CD2 LEU A 158      -5.706  12.203 -10.516  1.00  0.00           C  \\nATOM   1234  C   LEU A 158      -8.206  12.983  -6.966  1.00  0.00           C  \\nATOM   1235  O   LEU A 158      -8.756  11.893  -7.136  1.00  0.00           O  \\nATOM   1236  N   LEU A 159      -8.506  13.763  -5.906  1.00  0.00           N  \\nATOM   1237  CA  LEU A 159      -9.376  13.453  -4.776  1.00  0.00           C  \\nATOM   1238  CB  LEU A 159      -8.756  13.883  -3.426  1.00  0.00           C  \\nATOM   1239  CG  LEU A 159      -7.186  13.583  -3.306  1.00  0.00           C  \\nATOM   1240  CD1 LEU A 159      -6.696  13.973  -1.856  1.00  0.00           C  \\nATOM   1241  CD2 LEU A 159      -6.986  12.043  -3.536  1.00  0.00           C  \\nATOM   1242  C   LEU A 159     -10.826  14.043  -4.866  1.00  0.00           C  \\nATOM   1243  O   LEU A 159     -10.916  15.223  -5.266  1.00  0.00           O  \\nATOM   1244  N   ARG A 160     -11.886  13.293  -4.466  1.00  0.00           N  \\nATOM   1245  CA  ARG A 160     -13.276  13.853  -4.446  1.00  0.00           C  \\nATOM   1246  CB  ARG A 160     -13.986  13.243  -5.736  1.00  0.00           C  \\nATOM   1247  CG  ARG A 160     -14.126  11.713  -5.846  1.00  0.00           C  \\nATOM   1248  CD  ARG A 160     -15.136  11.053  -4.876  1.00  0.00           C  \\nATOM   1249  NE  ARG A 160     -16.416  11.703  -5.026  1.00  0.00           N  \\nATOM   1250  CZ  ARG A 160     -17.526  11.123  -5.596  1.00  0.00           C  \\nATOM   1251  NH1 ARG A 160     -17.736   9.833  -5.746  1.00  0.00           N  \\nATOM   1252  NH2 ARG A 160     -18.586  11.843  -5.896  1.00  0.00           N  \\nATOM   1253  C   ARG A 160     -13.976  13.613  -3.166  1.00  0.00           C  \\nATOM   1254  O   ARG A 160     -13.556  12.783  -2.396  1.00  0.00           O  \\nATOM   1255  N   LYS A 161     -15.196  14.183  -3.036  1.00  0.00           N  \\nATOM   1256  CA  LYS A 161     -15.906  14.003  -1.726  1.00  0.00           C  \\nATOM   1257  CB  LYS A 161     -17.186  14.833  -1.726  1.00  0.00           C  \\nATOM   1258  CG  LYS A 161     -17.056  16.323  -1.426  1.00  0.00           C  \\nATOM   1259  CD  LYS A 161     -18.466  16.903  -1.666  1.00  0.00           C  \\nATOM   1260  CE  LYS A 161     -18.486  18.453  -1.486  1.00  0.00           C  \\nATOM   1261  NZ  LYS A 161     -17.676  18.953  -0.346  1.00  0.00           N  \\nATOM   1262  C   LYS A 161     -16.186  12.543  -1.506  1.00  0.00           C  \\nATOM   1263  O   LYS A 161     -16.896  11.843  -2.256  1.00  0.00           O  \\nATOM   1264  N   GLY A 162     -15.606  12.053  -0.456  1.00  0.00           N  \\nATOM   1265  CA  GLY A 162     -15.636  10.673  -0.026  1.00  0.00           C  \\nATOM   1266  C   GLY A 162     -14.566   9.773  -0.576  1.00  0.00           C  \\nATOM   1267  O   GLY A 162     -14.616   8.593  -0.186  1.00  0.00           O  \\nATOM   1268  N   THR A 163     -13.476  10.223  -1.226  1.00  0.00           N  \\nATOM   1269  CA  THR A 163     -12.226   9.433  -1.316  1.00  0.00           C  \\nATOM   1270  CB  THR A 163     -11.186  10.223  -2.076  1.00  0.00           C  \\nATOM   1271  CG2 THR A 163      -9.896   9.503  -2.326  1.00  0.00           C  \\nATOM   1272  OG1 THR A 163     -11.696  10.733  -3.326  1.00  0.00           O  \\nATOM   1273  C   THR A 163     -11.696   9.133   0.034  1.00  0.00           C  \\nATOM   1274  O   THR A 163     -11.576  10.073   0.804  1.00  0.00           O  \\nATOM   1275  N   VAL A 164     -11.356   7.913   0.344  1.00  0.00           N  \\nATOM   1276  CA  VAL A 164     -10.506   7.353   1.444  1.00  0.00           C  \\nATOM   1277  CB  VAL A 164     -10.756   5.903   1.794  1.00  0.00           C  \\nATOM   1278  CG1 VAL A 164     -10.186   5.493   3.154  1.00  0.00           C  \\nATOM   1279  CG2 VAL A 164     -12.246   5.573   1.794  1.00  0.00           C  \\nATOM   1280  C   VAL A 164      -9.056   7.523   1.154  1.00  0.00           C  \\nATOM   1281  O   VAL A 164      -8.736   7.363  -0.006  1.00  0.00           O  \\nATOM   1282  N   LEU A 165      -8.296   7.723   2.204  1.00  0.00           N  \\nATOM   1283  CA  LEU A 165      -6.876   7.733   2.354  1.00  0.00           C  \\nATOM   1284  CB  LEU A 165      -6.236   9.133   2.154  1.00  0.00           C  \\nATOM   1285  CG  LEU A 165      -4.626   9.323   2.214  1.00  0.00           C  \\nATOM   1286  CD1 LEU A 165      -4.326  10.493   1.274  1.00  0.00           C  \\nATOM   1287  CD2 LEU A 165      -3.986   9.523   3.634  1.00  0.00           C  \\nATOM   1288  C   LEU A 165      -6.386   7.143   3.704  1.00  0.00           C  \\nATOM   1289  O   LEU A 165      -6.776   7.673   4.744  1.00  0.00           O  \\nATOM   1290  N   LEU A 166      -5.506   6.133   3.834  1.00  0.00           N  \\nATOM   1291  CA  LEU A 166      -5.066   5.283   5.014  1.00  0.00           C  \\nATOM   1292  CB  LEU A 166      -5.756   3.883   4.894  1.00  0.00           C  \\nATOM   1293  CG  LEU A 166      -5.206   2.903   5.874  1.00  0.00           C  \\nATOM   1294  CD1 LEU A 166      -5.676   3.383   7.264  1.00  0.00           C  \\nATOM   1295  CD2 LEU A 166      -5.716   1.493   5.654  1.00  0.00           C  \\nATOM   1296  C   LEU A 166      -3.586   5.173   4.994  1.00  0.00           C  \\nATOM   1297  O   LEU A 166      -2.976   4.723   4.044  1.00  0.00           O  \\nATOM   1298  N   ALA A 167      -3.016   5.643   6.084  1.00  0.00           N  \\nATOM   1299  CA  ALA A 167      -1.586   5.913   6.274  1.00  0.00           C  \\nATOM   1300  CB  ALA A 167      -1.326   7.283   6.774  1.00  0.00           C  \\nATOM   1301  C   ALA A 167      -0.986   4.823   7.184  1.00  0.00           C  \\nATOM   1302  O   ALA A 167      -1.346   4.813   8.354  1.00  0.00           O  \\nATOM   1303  N   ASP A 168      -0.096   3.943   6.734  1.00  0.00           N  \\nATOM   1304  CA  ASP A 168       0.764   3.153   7.674  1.00  0.00           C  \\nATOM   1305  CB  ASP A 168       1.284   1.903   6.914  1.00  0.00           C  \\nATOM   1306  CG  ASP A 168       2.004   0.923   7.774  1.00  0.00           C  \\nATOM   1307  OD1 ASP A 168       1.794   0.853   8.944  1.00  0.00           O  \\nATOM   1308  OD2 ASP A 168       2.904   0.253   7.254  1.00  0.00           O  \\nATOM   1309  C   ASP A 168       2.014   3.873   8.244  1.00  0.00           C  \\nATOM   1310  O   ASP A 168       2.564   4.743   7.624  1.00  0.00           O  \\nATOM   1311  N   ASN A 169       2.494   3.453   9.434  1.00  0.00           N  \\nATOM   1312  CA  ASN A 169       3.644   3.923  10.254  1.00  0.00           C  \\nATOM   1313  CB  ASN A 169       4.944   3.633   9.544  1.00  0.00           C  \\nATOM   1314  CG  ASN A 169       5.204   2.203   9.274  1.00  0.00           C  \\nATOM   1315  OD1 ASN A 169       4.884   1.763   8.174  1.00  0.00           O  \\nATOM   1316  ND2 ASN A 169       5.774   1.513  10.204  1.00  0.00           N  \\nATOM   1317  C   ASN A 169       3.624   5.463  10.684  1.00  0.00           C  \\nATOM   1318  O   ASN A 169       4.704   5.993  10.864  1.00  0.00           O  \\nATOM   1319  N   VAL A 170       2.444   6.063  10.774  1.00  0.00           N  \\nATOM   1320  CA  VAL A 170       2.234   7.443  11.274  1.00  0.00           C  \\nATOM   1321  CB  VAL A 170       0.724   7.813  11.224  1.00  0.00           C  \\nATOM   1322  CG1 VAL A 170       0.184   7.713   9.734  1.00  0.00           C  \\nATOM   1323  CG2 VAL A 170      -0.146   6.983  12.144  1.00  0.00           C  \\nATOM   1324  C   VAL A 170       2.694   7.683  12.684  1.00  0.00           C  \\nATOM   1325  O   VAL A 170       2.884   8.843  13.024  1.00  0.00           O  \\nATOM   1326  N   ILE A 171       2.994   6.623  13.444  1.00  0.00           N  \\nATOM   1327  CA  ILE A 171       3.524   6.743  14.844  1.00  0.00           C  \\nATOM   1328  CB  ILE A 171       2.744   5.863  15.884  1.00  0.00           C  \\nATOM   1329  CG2 ILE A 171       3.394   6.113  17.284  1.00  0.00           C  \\nATOM   1330  CG1 ILE A 171       1.224   6.333  16.084  1.00  0.00           C  \\nATOM   1331  CD1 ILE A 171       1.024   7.843  16.324  1.00  0.00           C  \\nATOM   1332  C   ILE A 171       4.984   6.463  14.894  1.00  0.00           C  \\nATOM   1333  O   ILE A 171       5.734   7.363  15.354  1.00  0.00           O  \\nATOM   1334  N   CYS A 172       5.364   5.323  14.314  1.00  0.00           N  \\nATOM   1335  CA  CYS A 172       6.824   4.913  14.044  1.00  0.00           C  \\nATOM   1336  CB  CYS A 172       7.124   3.953  15.204  1.00  0.00           C  \\nATOM   1337  SG  CYS A 172       8.974   3.753  15.314  1.00  0.00           S  \\nATOM   1338  C   CYS A 172       7.144   4.403  12.644  1.00  0.00           C  \\nATOM   1339  O   CYS A 172       6.474   3.423  12.254  1.00  0.00           O  \\nATOM   1340  N   PRO A 173       8.004   5.023  11.754  1.00  0.00           N  \\nATOM   1341  CD  PRO A 173       8.434   4.293  10.544  1.00  0.00           C  \\nATOM   1342  CG  PRO A 173       9.774   4.883  10.174  1.00  0.00           C  \\nATOM   1343  CB  PRO A 173       9.864   6.203  11.014  1.00  0.00           C  \\nATOM   1344  CA  PRO A 173       8.844   6.133  12.144  1.00  0.00           C  \\nATOM   1345  C   PRO A 173       8.274   7.503  12.314  1.00  0.00           C  \\nATOM   1346  O   PRO A 173       9.004   8.403  12.774  1.00  0.00           O  \\nATOM   1347  N   GLY A 174       6.954   7.623  12.144  1.00  0.00           N  \\nATOM   1348  CA  GLY A 174       6.184   8.873  12.534  1.00  0.00           C  \\nATOM   1349  C   GLY A 174       5.934   9.823  11.354  1.00  0.00           C  \\nATOM   1350  O   GLY A 174       6.834   9.993  10.534  1.00  0.00           O  \\nATOM   1351  N   ALA A 175       4.794  10.563  11.354  1.00  0.00           N  \\nATOM   1352  CA  ALA A 175       4.544  11.583  10.374  1.00  0.00           C  \\nATOM   1353  CB  ALA A 175       3.694  10.993   9.224  1.00  0.00           C  \\nATOM   1354  C   ALA A 175       3.794  12.743  10.974  1.00  0.00           C  \\nATOM   1355  O   ALA A 175       2.584  12.943  10.724  1.00  0.00           O  \\nATOM   1356  N   PRO A 176       4.474  13.593  11.754  1.00  0.00           N  \\nATOM   1357  CD  PRO A 176       5.844  13.553  12.344  1.00  0.00           C  \\nATOM   1358  CG  PRO A 176       5.804  14.223  13.704  1.00  0.00           C  \\nATOM   1359  CB  PRO A 176       4.874  15.353  13.374  1.00  0.00           C  \\nATOM   1360  CA  PRO A 176       3.824  14.773  12.444  1.00  0.00           C  \\nATOM   1361  C   PRO A 176       3.114  15.863  11.594  1.00  0.00           C  \\nATOM   1362  O   PRO A 176       2.044  16.303  12.044  1.00  0.00           O  \\nATOM   1363  N   ASP A 177       3.684  16.163  10.464  1.00  0.00           N  \\nATOM   1364  CA  ASP A 177       3.294  17.333   9.594  1.00  0.00           C  \\nATOM   1365  CB  ASP A 177       4.474  17.873   8.794  1.00  0.00           C  \\nATOM   1366  CG  ASP A 177       5.594  18.393   9.614  1.00  0.00           C  \\nATOM   1367  OD1 ASP A 177       6.684  17.853   9.584  1.00  0.00           O  \\nATOM   1368  OD2 ASP A 177       5.474  19.443  10.174  1.00  0.00           O  \\nATOM   1369  C   ASP A 177       2.044  17.013   8.764  1.00  0.00           C  \\nATOM   1370  O   ASP A 177       1.084  17.793   8.624  1.00  0.00           O  \\nATOM   1371  N   PHE A 178       2.054  15.733   8.314  1.00  0.00           N  \\nATOM   1372  CA  PHE A 178       0.934  15.023   7.674  1.00  0.00           C  \\nATOM   1373  CB  PHE A 178       1.444  13.693   7.054  1.00  0.00           C  \\nATOM   1374  CG  PHE A 178       0.344  12.713   6.664  1.00  0.00           C  \\nATOM   1375  CD1 PHE A 178      -0.266  12.783   5.404  1.00  0.00           C  \\nATOM   1376  CE1 PHE A 178      -1.366  12.073   5.134  1.00  0.00           C  \\nATOM   1377  CZ  PHE A 178      -1.836  11.093   6.064  1.00  0.00           C  \\nATOM   1378  CE2 PHE A 178      -1.206  10.923   7.294  1.00  0.00           C  \\nATOM   1379  CD2 PHE A 178      -0.106  11.763   7.584  1.00  0.00           C  \\nATOM   1380  C   PHE A 178      -0.246  14.853   8.554  1.00  0.00           C  \\nATOM   1381  O   PHE A 178      -1.346  15.233   8.214  1.00  0.00           O  \\nATOM   1382  N   LEU A 179       0.014  14.283   9.784  1.00  0.00           N  \\nATOM   1383  CA  LEU A 179      -1.006  14.023  10.774  1.00  0.00           C  \\nATOM   1384  CB  LEU A 179      -0.346  13.543  12.094  1.00  0.00           C  \\nATOM   1385  CG  LEU A 179      -0.196  11.953  12.274  1.00  0.00           C  \\nATOM   1386  CD1 LEU A 179       0.474  11.843  13.674  1.00  0.00           C  \\nATOM   1387  CD2 LEU A 179      -1.416  11.073  12.224  1.00  0.00           C  \\nATOM   1388  C   LEU A 179      -1.786  15.273  11.164  1.00  0.00           C  \\nATOM   1389  O   LEU A 179      -2.986  15.143  11.354  1.00  0.00           O  \\nATOM   1390  N   ALA A 180      -1.126  16.403  11.174  1.00  0.00           N  \\nATOM   1391  CA  ALA A 180      -1.656  17.723  11.454  1.00  0.00           C  \\nATOM   1392  CB  ALA A 180      -0.456  18.653  11.714  1.00  0.00           C  \\nATOM   1393  C   ALA A 180      -2.516  18.273  10.334  1.00  0.00           C  \\nATOM   1394  O   ALA A 180      -3.436  19.033  10.564  1.00  0.00           O  \\nATOM   1395  N   HIE A 181      -2.376  17.783   9.074  1.00  0.00           N  \\nATOM   1396  CA  HIE A 181      -3.116  18.113   7.874  1.00  0.00           C  \\nATOM   1397  CB  HIE A 181      -2.236  17.923   6.624  1.00  0.00           C  \\nATOM   1398  CG  HIE A 181      -2.806  18.223   5.224  1.00  0.00           C  \\nATOM   1399  ND1 HIE A 181      -3.026  19.563   4.864  1.00  0.00           N  \\nATOM   1400  CE1 HIE A 181      -3.556  19.453   3.634  1.00  0.00           C  \\nATOM   1401  NE2 HIE A 181      -3.746  18.213   3.224  1.00  0.00           N  \\nATOM   1402  CD2 HIE A 181      -3.356  17.363   4.254  1.00  0.00           C  \\nATOM   1403  C   HIE A 181      -4.336  17.313   7.774  1.00  0.00           C  \\nATOM   1404  O   HIE A 181      -5.296  17.903   7.304  1.00  0.00           O  \\nATOM   1405  N   VAL A 182      -4.306  16.073   8.234  1.00  0.00           N  \\nATOM   1406  CA  VAL A 182      -5.526  15.233   8.154  1.00  0.00           C  \\nATOM   1407  CB  VAL A 182      -5.136  13.793   7.664  1.00  0.00           C  \\nATOM   1408  CG1 VAL A 182      -4.256  13.963   6.474  1.00  0.00           C  \\nATOM   1409  CG2 VAL A 182      -4.386  12.933   8.754  1.00  0.00           C  \\nATOM   1410  C   VAL A 182      -6.316  15.113   9.374  1.00  0.00           C  \\nATOM   1411  O   VAL A 182      -7.516  14.763   9.324  1.00  0.00           O  \\nATOM   1412  N   ARG A 183      -5.716  15.303  10.584  1.00  0.00           N  \\nATOM   1413  CA  ARG A 183      -6.426  15.593  11.884  1.00  0.00           C  \\nATOM   1414  CB  ARG A 183      -5.566  15.213  13.144  1.00  0.00           C  \\nATOM   1415  CG  ARG A 183      -5.236  13.743  13.204  1.00  0.00           C  \\nATOM   1416  CD  ARG A 183      -4.376  13.403  14.464  1.00  0.00           C  \\nATOM   1417  NE  ARG A 183      -4.196  11.943  14.664  1.00  0.00           N  \\nATOM   1418  CZ  ARG A 183      -3.276  11.353  15.484  1.00  0.00           C  \\nATOM   1419  NH1 ARG A 183      -2.276  11.993  16.044  1.00  0.00           N  \\nATOM   1420  NH2 ARG A 183      -3.436  10.043  15.634  1.00  0.00           N  \\nATOM   1421  C   ARG A 183      -6.836  17.073  11.954  1.00  0.00           C  \\nATOM   1422  O   ARG A 183      -6.406  18.003  11.184  1.00  0.00           O  \\nATOM   1423  N   GLY A 184      -7.846  17.263  12.824  1.00  0.00           N  \\nATOM   1424  CA  GLY A 184      -8.396  18.503  13.284  1.00  0.00           C  \\nATOM   1425  C   GLY A 184      -9.016  19.443  12.184  1.00  0.00           C  \\nATOM   1426  O   GLY A 184      -8.936  20.673  12.324  1.00  0.00           O  \\nATOM   1427  N   SER A 185      -9.536  18.883  11.124  1.00  0.00           N  \\nATOM   1428  CA  SER A 185     -10.056  19.573   9.914  1.00  0.00           C  \\nATOM   1429  CB  SER A 185      -9.206  19.033   8.754  1.00  0.00           C  \\nATOM   1430  OG  SER A 185      -9.406  19.743   7.514  1.00  0.00           O  \\nATOM   1431  C   SER A 185     -11.526  19.413   9.634  1.00  0.00           C  \\nATOM   1432  O   SER A 185     -12.216  18.623  10.264  1.00  0.00           O  \\nATOM   1433  N   SER A 186     -11.956  20.153   8.654  1.00  0.00           N  \\nATOM   1434  CA  SER A 186     -13.216  20.233   7.934  1.00  0.00           C  \\nATOM   1435  CB  SER A 186     -13.636  21.713   7.874  1.00  0.00           C  \\nATOM   1436  OG  SER A 186     -12.526  22.403   7.284  1.00  0.00           O  \\nATOM   1437  C   SER A 186     -13.176  19.673   6.434  1.00  0.00           C  \\nATOM   1438  O   SER A 186     -14.166  19.123   5.934  1.00  0.00           O  \\nATOM   1439  N   CYS A 187     -11.946  19.733   5.864  1.00  0.00           N  \\nATOM   1440  CA  CYS A 187     -11.696  19.183   4.584  1.00  0.00           C  \\nATOM   1441  CB  CYS A 187     -10.596  20.033   3.804  1.00  0.00           C  \\nATOM   1442  SG  CYS A 187     -11.276  21.713   3.494  1.00  0.00           S  \\nATOM   1443  C   CYS A 187     -11.346  17.673   4.614  1.00  0.00           C  \\nATOM   1444  O   CYS A 187     -11.266  17.083   3.524  1.00  0.00           O  \\nATOM   1445  N   PHE A 188     -11.316  17.123   5.804  1.00  0.00           N  \\nATOM   1446  CA  PHE A 188     -11.216  15.663   6.094  1.00  0.00           C  \\nATOM   1447  CB  PHE A 188      -9.696  15.283   6.334  1.00  0.00           C  \\nATOM   1448  CG  PHE A 188      -8.746  15.383   5.114  1.00  0.00           C  \\nATOM   1449  CD1 PHE A 188      -8.506  14.223   4.364  1.00  0.00           C  \\nATOM   1450  CE1 PHE A 188      -7.476  14.213   3.414  1.00  0.00           C  \\nATOM   1451  CZ  PHE A 188      -6.686  15.313   3.114  1.00  0.00           C  \\nATOM   1452  CE2 PHE A 188      -6.936  16.473   3.904  1.00  0.00           C  \\nATOM   1453  CD2 PHE A 188      -8.026  16.533   4.864  1.00  0.00           C  \\nATOM   1454  C   PHE A 188     -11.976  15.443   7.374  1.00  0.00           C  \\nATOM   1455  O   PHE A 188     -11.906  16.303   8.284  1.00  0.00           O  \\nATOM   1456  N   GLU A 189     -12.516  14.253   7.594  1.00  0.00           N  \\nATOM   1457  CA  GLU A 189     -12.836  13.543   8.864  1.00  0.00           C  \\nATOM   1458  CB  GLU A 189     -14.216  12.993   8.874  1.00  0.00           C  \\nATOM   1459  CG  GLU A 189     -14.456  11.873   7.924  1.00  0.00           C  \\nATOM   1460  CD  GLU A 189     -15.876  11.423   7.834  1.00  0.00           C  \\nATOM   1461  OE1 GLU A 189     -16.326  10.603   8.644  1.00  0.00           O  \\nATOM   1462  OE2 GLU A 189     -16.606  12.073   7.124  1.00  0.00           O  \\nATOM   1463  C   GLU A 189     -11.836  12.463   9.104  1.00  0.00           C  \\nATOM   1464  O   GLU A 189     -11.296  11.843   8.134  1.00  0.00           O  \\nATOM   1465  N   CYS A 190     -11.566  12.023  10.364  1.00  0.00           N  \\nATOM   1466  CA  CYS A 190     -10.426  11.103  10.584  1.00  0.00           C  \\nATOM   1467  CB  CYS A 190      -9.226  12.073  10.794  1.00  0.00           C  \\nATOM   1468  SG  CYS A 190      -9.546  13.133  12.244  1.00  0.00           S  \\nATOM   1469  C   CYS A 190     -10.606  10.033  11.664  1.00  0.00           C  \\nATOM   1470  O   CYS A 190     -11.546  10.153  12.504  1.00  0.00           O  \\nATOM   1471  N   THR A 191      -9.696   9.093  11.794  1.00  0.00           N  \\nATOM   1472  CA  THR A 191      -9.776   7.983  12.734  1.00  0.00           C  \\nATOM   1473  CB  THR A 191     -10.646   6.843  12.104  1.00  0.00           C  \\nATOM   1474  CG2 THR A 191     -11.076   5.893  13.224  1.00  0.00           C  \\nATOM   1475  OG1 THR A 191     -11.836   7.283  11.354  1.00  0.00           O  \\nATOM   1476  C   THR A 191      -8.406   7.423  12.944  1.00  0.00           C  \\nATOM   1477  O   THR A 191      -7.676   6.973  12.014  1.00  0.00           O  \\nATOM   1478  N   HIE A 192      -8.086   7.313  14.214  1.00  0.00           N  \\nATOM   1479  CA  HIE A 192      -6.786   6.803  14.684  1.00  0.00           C  \\nATOM   1480  CB  HIE A 192      -6.186   7.663  15.904  1.00  0.00           C  \\nATOM   1481  CG  HIE A 192      -6.956   7.503  17.154  1.00  0.00           C  \\nATOM   1482  ND1 HIE A 192      -6.626   6.533  18.164  1.00  0.00           N  \\nATOM   1483  CE1 HIE A 192      -7.516   6.703  19.114  1.00  0.00           C  \\nATOM   1484  NE2 HIE A 192      -8.406   7.573  18.784  1.00  0.00           N  \\nATOM   1485  CD2 HIE A 192      -8.066   8.113  17.624  1.00  0.00           C  \\nATOM   1486  C   HIE A 192      -6.756   5.283  15.074  1.00  0.00           C  \\nATOM   1487  O   HIE A 192      -7.836   4.893  15.564  1.00  0.00           O  \\nATOM   1488  N   TYR A 193      -5.706   4.513  14.884  1.00  0.00           N  \\nATOM   1489  CA  TYR A 193      -5.596   3.033  15.064  1.00  0.00           C  \\nATOM   1490  CB  TYR A 193      -5.666   2.253  13.674  1.00  0.00           C  \\nATOM   1491  CG  TYR A 193      -6.976   2.413  12.874  1.00  0.00           C  \\nATOM   1492  CD1 TYR A 193      -7.266   3.583  12.234  1.00  0.00           C  \\nATOM   1493  CE1 TYR A 193      -8.396   3.703  11.394  1.00  0.00           C  \\nATOM   1494  CZ  TYR A 193      -9.306   2.643  11.404  1.00  0.00           C  \\nATOM   1495  OH  TYR A 193     -10.486   2.763  10.794  1.00  0.00           O  \\nATOM   1496  CE2 TYR A 193      -9.086   1.473  12.164  1.00  0.00           C  \\nATOM   1497  CD2 TYR A 193      -7.916   1.393  12.914  1.00  0.00           C  \\nATOM   1498  C   TYR A 193      -4.186   2.643  15.594  1.00  0.00           C  \\nATOM   1499  O   TYR A 193      -3.206   3.283  15.264  1.00  0.00           O  \\nATOM   1500  N   GLN A 194      -4.076   1.463  16.294  1.00  0.00           N  \\nATOM   1501  CA  GLN A 194      -2.906   1.213  17.194  1.00  0.00           C  \\nATOM   1502  CB  GLN A 194      -3.356   1.193  18.704  1.00  0.00           C  \\nATOM   1503  CG  GLN A 194      -2.206   0.753  19.604  1.00  0.00           C  \\nATOM   1504  CD  GLN A 194      -2.666   0.863  21.074  1.00  0.00           C  \\nATOM   1505  OE1 GLN A 194      -2.376   1.793  21.804  1.00  0.00           O  \\nATOM   1506  NE2 GLN A 194      -3.406  -0.147  21.544  1.00  0.00           N  \\nATOM   1507  C   GLN A 194      -2.386  -0.207  16.794  1.00  0.00           C  \\nATOM   1508  O   GLN A 194      -3.086  -1.167  16.574  1.00  0.00           O  \\nATOM   1509  N   SER A 195      -1.036  -0.307  16.674  1.00  0.00           N  \\nATOM   1510  CA  SER A 195      -0.356  -1.417  16.024  1.00  0.00           C  \\nATOM   1511  CB  SER A 195      -0.516  -1.207  14.464  1.00  0.00           C  \\nATOM   1512  OG  SER A 195      -0.096  -2.417  13.814  1.00  0.00           O  \\nATOM   1513  C   SER A 195       1.164  -1.457  16.534  1.00  0.00           C  \\nATOM   1514  O   SER A 195       1.474  -0.927  17.614  1.00  0.00           O  \\nATOM   1515  N   PHE A 196       2.024  -2.167  15.854  1.00  0.00           N  \\nATOM   1516  CA  PHE A 196       3.474  -2.207  16.054  1.00  0.00           C  \\nATOM   1517  CB  PHE A 196       3.864  -3.407  16.974  1.00  0.00           C  \\nATOM   1518  CG  PHE A 196       3.224  -3.527  18.394  1.00  0.00           C  \\nATOM   1519  CD1 PHE A 196       3.904  -3.047  19.464  1.00  0.00           C  \\nATOM   1520  CE1 PHE A 196       3.394  -3.137  20.734  1.00  0.00           C  \\nATOM   1521  CZ  PHE A 196       2.074  -3.507  20.964  1.00  0.00           C  \\nATOM   1522  CE2 PHE A 196       1.284  -3.897  19.884  1.00  0.00           C  \\nATOM   1523  CD2 PHE A 196       1.874  -3.927  18.634  1.00  0.00           C  \\nATOM   1524  C   PHE A 196       4.274  -2.277  14.714  1.00  0.00           C  \\nATOM   1525  O   PHE A 196       3.774  -2.587  13.654  1.00  0.00           O  \\nATOM   1526  N   LEU A 197       5.494  -1.867  14.814  1.00  0.00           N  \\nATOM   1527  CA  LEU A 197       6.494  -1.607  13.814  1.00  0.00           C  \\nATOM   1528  CB  LEU A 197       7.704  -0.957  14.434  1.00  0.00           C  \\nATOM   1529  CG  LEU A 197       8.964  -0.427  13.604  1.00  0.00           C  \\nATOM   1530  CD1 LEU A 197       8.384   0.563  12.564  1.00  0.00           C  \\nATOM   1531  CD2 LEU A 197      10.054   0.243  14.454  1.00  0.00           C  \\nATOM   1532  C   LEU A 197       6.794  -2.937  13.164  1.00  0.00           C  \\nATOM   1533  O   LEU A 197       6.924  -3.967  13.834  1.00  0.00           O  \\nATOM   1534  N   GLU A 198       7.074  -2.947  11.804  1.00  0.00           N  \\nATOM   1535  CA  GLU A 198       7.024  -4.127  10.954  1.00  0.00           C  \\nATOM   1536  CB  GLU A 198       7.344  -3.857   9.514  1.00  0.00           C  \\nATOM   1537  CG  GLU A 198       6.244  -3.147   8.624  1.00  0.00           C  \\nATOM   1538  CD  GLU A 198       6.004  -1.667   9.034  1.00  0.00           C  \\nATOM   1539  OE1 GLU A 198       6.754  -1.057   9.774  1.00  0.00           O  \\nATOM   1540  OE2 GLU A 198       5.094  -1.027   8.574  1.00  0.00           O  \\nATOM   1541  C   GLU A 198       7.864  -5.277  11.484  1.00  0.00           C  \\nATOM   1542  O   GLU A 198       9.054  -5.207  11.524  1.00  0.00           O  \\nATOM   1543  N   TYR A 199       7.174  -6.307  11.944  1.00  0.00           N  \\nATOM   1544  CA  TYR A 199       7.704  -7.487  12.614  1.00  0.00           C  \\nATOM   1545  CB  TYR A 199       8.154  -8.547  11.594  1.00  0.00           C  \\nATOM   1546  CG  TYR A 199       7.044  -8.757  10.554  1.00  0.00           C  \\nATOM   1547  CD1 TYR A 199       6.014  -9.637  10.714  1.00  0.00           C  \\nATOM   1548  CE1 TYR A 199       5.194 -10.107   9.624  1.00  0.00           C  \\nATOM   1549  CZ  TYR A 199       5.324  -9.427   8.364  1.00  0.00           C  \\nATOM   1550  OH  TYR A 199       4.404  -9.657   7.354  1.00  0.00           O  \\nATOM   1551  CE2 TYR A 199       6.314  -8.387   8.254  1.00  0.00           C  \\nATOM   1552  CD2 TYR A 199       7.154  -8.207   9.314  1.00  0.00           C  \\nATOM   1553  C   TYR A 199       8.764  -7.237  13.674  1.00  0.00           C  \\nATOM   1554  O   TYR A 199       9.664  -8.047  13.794  1.00  0.00           O  \\nATOM   1555  N   ARG A 200       8.604  -6.107  14.384  1.00  0.00           N  \\nATOM   1556  CA  ARG A 200       9.404  -5.677  15.584  1.00  0.00           C  \\nATOM   1557  CB  ARG A 200      10.204  -4.467  15.254  1.00  0.00           C  \\nATOM   1558  CG  ARG A 200      11.484  -4.787  14.494  1.00  0.00           C  \\nATOM   1559  CD  ARG A 200      12.264  -3.557  13.924  1.00  0.00           C  \\nATOM   1560  NE  ARG A 200      12.714  -2.627  14.984  1.00  0.00           N  \\nATOM   1561  CZ  ARG A 200      13.324  -1.457  14.804  1.00  0.00           C  \\nATOM   1562  NH1 ARG A 200      13.544  -0.817  13.684  1.00  0.00           N  \\nATOM   1563  NH2 ARG A 200      13.804  -0.897  15.884  1.00  0.00           N  \\nATOM   1564  C   ARG A 200       8.494  -5.347  16.764  1.00  0.00           C  \\nATOM   1565  O   ARG A 200       7.354  -4.977  16.544  1.00  0.00           O  \\nATOM   1566  N   GLU A 201       8.954  -5.447  18.034  1.00  0.00           N  \\nATOM   1567  CA  GLU A 201       8.154  -5.227  19.224  1.00  0.00           C  \\nATOM   1568  CB  GLU A 201       8.704  -5.947  20.404  1.00  0.00           C  \\nATOM   1569  CG  GLU A 201       9.954  -5.327  21.074  1.00  0.00           C  \\nATOM   1570  CD  GLU A 201      11.214  -5.227  20.214  1.00  0.00           C  \\nATOM   1571  OE1 GLU A 201      11.964  -4.317  20.274  1.00  0.00           O  \\nATOM   1572  OE2 GLU A 201      11.454  -6.077  19.384  1.00  0.00           O  \\nATOM   1573  C   GLU A 201       7.794  -3.767  19.564  1.00  0.00           C  \\nATOM   1574  O   GLU A 201       7.184  -3.507  20.654  1.00  0.00           O  \\nATOM   1575  N   VAL A 202       8.134  -2.817  18.704  1.00  0.00           N  \\nATOM   1576  CA  VAL A 202       7.874  -1.347  18.974  1.00  0.00           C  \\nATOM   1577  CB  VAL A 202       9.054  -0.557  18.314  1.00  0.00           C  \\nATOM   1578  CG1 VAL A 202       8.814   0.933  18.524  1.00  0.00           C  \\nATOM   1579  CG2 VAL A 202      10.434  -1.007  18.714  1.00  0.00           C  \\nATOM   1580  C   VAL A 202       6.564  -0.837  18.664  1.00  0.00           C  \\nATOM   1581  O   VAL A 202       6.054  -1.027  17.524  1.00  0.00           O  \\nATOM   1582  N   VAL A 203       5.884  -0.217  19.684  1.00  0.00           N  \\nATOM   1583  CA  VAL A 203       4.464   0.373  19.494  1.00  0.00           C  \\nATOM   1584  CB  VAL A 203       3.964   1.033  20.844  1.00  0.00           C  \\nATOM   1585  CG1 VAL A 203       2.534   1.663  20.774  1.00  0.00           C  \\nATOM   1586  CG2 VAL A 203       4.094   0.063  22.014  1.00  0.00           C  \\nATOM   1587  C   VAL A 203       4.454   1.383  18.294  1.00  0.00           C  \\nATOM   1588  O   VAL A 203       5.284   2.333  18.194  1.00  0.00           O  \\nATOM   1589  N   ASP A 204       3.434   1.233  17.504  1.00  0.00           N  \\nATOM   1590  CA  ASP A 204       3.154   1.993  16.284  1.00  0.00           C  \\nATOM   1591  CB  ASP A 204       3.714   1.133  15.074  1.00  0.00           C  \\nATOM   1592  CG  ASP A 204       3.794   1.883  13.714  1.00  0.00           C  \\nATOM   1593  OD1 ASP A 204       3.784   3.123  13.694  1.00  0.00           O  \\nATOM   1594  OD2 ASP A 204       3.704   1.233  12.704  1.00  0.00           O  \\nATOM   1595  C   ASP A 204       1.694   2.223  16.044  1.00  0.00           C  \\nATOM   1596  O   ASP A 204       0.954   1.933  17.004  1.00  0.00           O  \\nATOM   1597  N   GLY A 205       1.194   2.713  14.904  1.00  0.00           N  \\nATOM   1598  CA  GLY A 205      -0.146   3.013  14.554  1.00  0.00           C  \\nATOM   1599  C   GLY A 205      -0.356   3.343  13.104  1.00  0.00           C  \\nATOM   1600  O   GLY A 205       0.624   3.523  12.354  1.00  0.00           O  \\nATOM   1601  N   LEU A 206      -1.596   3.363  12.674  1.00  0.00           N  \\nATOM   1602  CA  LEU A 206      -2.086   3.763  11.294  1.00  0.00           C  \\nATOM   1603  CB  LEU A 206      -2.676   2.523  10.574  1.00  0.00           C  \\nATOM   1604  CG  LEU A 206      -1.626   1.483  10.164  1.00  0.00           C  \\nATOM   1605  CD1 LEU A 206      -1.436   0.483  11.304  1.00  0.00           C  \\nATOM   1606  CD2 LEU A 206      -1.996   0.763   8.804  1.00  0.00           C  \\nATOM   1607  C   LEU A 206      -3.136   4.873  11.434  1.00  0.00           C  \\nATOM   1608  O   LEU A 206      -3.666   4.973  12.544  1.00  0.00           O  \\nATOM   1609  N   GLU A 207      -3.456   5.653  10.414  1.00  0.00           N  \\nATOM   1610  CA  GLU A 207      -4.486   6.753  10.554  1.00  0.00           C  \\nATOM   1611  CB  GLU A 207      -3.846   8.073  10.824  1.00  0.00           C  \\nATOM   1612  CG  GLU A 207      -4.796   9.213  11.334  1.00  0.00           C  \\nATOM   1613  CD  GLU A 207      -4.996   9.283  12.824  1.00  0.00           C  \\nATOM   1614  OE1 GLU A 207      -4.236   8.653  13.584  1.00  0.00           O  \\nATOM   1615  OE2 GLU A 207      -5.796  10.073  13.204  1.00  0.00           O  \\nATOM   1616  C   GLU A 207      -5.256   6.803   9.254  1.00  0.00           C  \\nATOM   1617  O   GLU A 207      -4.616   6.723   8.274  1.00  0.00           O  \\nATOM   1618  N   LYS A 208      -6.636   6.813   9.284  1.00  0.00           N  \\nATOM   1619  CA  LYS A 208      -7.576   6.983   8.144  1.00  0.00           C  \\nATOM   1620  CB  LYS A 208      -8.766   6.013   8.334  1.00  0.00           C  \\nATOM   1621  CG  LYS A 208      -9.636   6.113   7.134  1.00  0.00           C  \\nATOM   1622  CD  LYS A 208     -10.646   4.943   7.184  1.00  0.00           C  \\nATOM   1623  CE  LYS A 208     -11.786   5.213   8.254  1.00  0.00           C  \\nATOM   1624  NZ  LYS A 208     -12.966   4.373   8.094  1.00  0.00           N  \\nATOM   1625  C   LYS A 208      -7.996   8.393   8.014  1.00  0.00           C  \\nATOM   1626  O   LYS A 208      -8.286   9.133   8.984  1.00  0.00           O  \\nATOM   1627  N   ALA A 209      -8.186   8.833   6.754  1.00  0.00           N  \\nATOM   1628  CA  ALA A 209      -8.806  10.123   6.404  1.00  0.00           C  \\nATOM   1629  CB  ALA A 209      -7.706  11.073   5.884  1.00  0.00           C  \\nATOM   1630  C   ALA A 209      -9.876   9.873   5.334  1.00  0.00           C  \\nATOM   1631  O   ALA A 209      -9.666   9.243   4.324  1.00  0.00           O  \\nATOM   1632  N   ILE A 210     -11.056  10.463   5.554  1.00  0.00           N  \\nATOM   1633  CA  ILE A 210     -12.086  10.563   4.464  1.00  0.00           C  \\nATOM   1634  CB  ILE A 210     -13.466  10.003   4.934  1.00  0.00           C  \\nATOM   1635  CG2 ILE A 210     -14.736  10.653   4.234  1.00  0.00           C  \\nATOM   1636  CG1 ILE A 210     -13.676   8.513   4.984  1.00  0.00           C  \\nATOM   1637  CD1 ILE A 210     -12.586   7.623   5.694  1.00  0.00           C  \\nATOM   1638  C   ILE A 210     -12.116  12.013   4.044  1.00  0.00           C  \\nATOM   1639  O   ILE A 210     -12.506  12.923   4.844  1.00  0.00           O  \\nATOM   1640  N   TYR A 211     -11.786  12.263   2.774  1.00  0.00           N  \\nATOM   1641  CA  TYR A 211     -11.686  13.563   2.154  1.00  0.00           C  \\nATOM   1642  CB  TYR A 211     -10.836  13.553   0.844  1.00  0.00           C  \\nATOM   1643  CG  TYR A 211     -10.696  14.883   0.174  1.00  0.00           C  \\nATOM   1644  CD1 TYR A 211      -9.976  15.953   0.754  1.00  0.00           C  \\nATOM   1645  CE1 TYR A 211      -9.766  17.143   0.044  1.00  0.00           C  \\nATOM   1646  CZ  TYR A 211     -10.166  17.283  -1.296  1.00  0.00           C  \\nATOM   1647  OH  TYR A 211      -9.966  18.443  -1.986  1.00  0.00           O  \\nATOM   1648  CE2 TYR A 211     -10.936  16.253  -1.806  1.00  0.00           C  \\nATOM   1649  CD2 TYR A 211     -11.176  15.033  -1.116  1.00  0.00           C  \\nATOM   1650  C   TYR A 211     -13.046  14.123   1.984  1.00  0.00           C  \\nATOM   1651  O   TYR A 211     -14.006  13.393   1.714  1.00  0.00           O  \\nATOM   1652  N   LYS A 212     -13.056  15.483   1.894  1.00  0.00           N  \\nATOM   1653  CA  LYS A 212     -14.316  16.243   1.644  1.00  0.00           C  \\nATOM   1654  CB  LYS A 212     -14.966  16.653   2.984  1.00  0.00           C  \\nATOM   1655  CG  LYS A 212     -16.326  17.413   2.834  1.00  0.00           C  \\nATOM   1656  CD  LYS A 212     -17.046  17.193   4.174  1.00  0.00           C  \\nATOM   1657  CE  LYS A 212     -18.436  17.913   4.214  1.00  0.00           C  \\nATOM   1658  NZ  LYS A 212     -19.576  17.063   3.834  1.00  0.00           N  \\nATOM   1659  C   LYS A 212     -14.066  17.543   0.944  1.00  0.00           C  \\nATOM   1660  O   LYS A 212     -14.946  17.963   0.114  1.00  0.00           O  \\nATOM   1661  N   GLY A 213     -12.866  18.113   1.054  1.00  0.00           N  \\nATOM   1662  CA  GLY A 213     -12.546  19.353   0.394  1.00  0.00           C  \\nATOM   1663  C   GLY A 213     -13.606  20.483   0.334  1.00  0.00           C  \\nATOM   1664  O   GLY A 213     -14.206  20.603   1.394  1.00  0.00           O  \\nATOM   1665  N   PRO A 214     -13.796  21.293  -0.736  1.00  0.00           N  \\nATOM   1666  CD  PRO A 214     -12.796  21.363  -1.846  1.00  0.00           C  \\nATOM   1667  CG  PRO A 214     -13.366  22.323  -2.826  1.00  0.00           C  \\nATOM   1668  CB  PRO A 214     -14.276  23.223  -2.006  1.00  0.00           C  \\nATOM   1669  CA  PRO A 214     -14.906  22.263  -0.966  1.00  0.00           C  \\nATOM   1670  C   PRO A 214     -16.226  21.543  -1.346  1.00  0.00           C  \\nATOM   1671  O   PRO A 214     -17.266  21.843  -0.776  1.00  0.00           O  \\nATOM   1672  OXT PRO A 214     -16.156  20.633  -2.176  1.00  0.00           O  \\nATOM   1673 MG   MG  A 215       4.804   0.053   7.014  1.00  0.00          MG  \\nATOM   1674  O1  SAM A 216       8.604   2.353  -1.016  1.00  0.00           O  \\nATOM   1675  C1  SAM A 216       9.624   2.863  -1.926  1.00  0.00           C  \\nATOM   1676  N1  SAM A 216       9.424   4.313  -1.956  1.00  0.00           N  \\nATOM   1677  C5  SAM A 216       8.934   4.943  -3.056  1.00  0.00           C  \\nATOM   1678  C6  SAM A 216       9.244   6.313  -2.986  1.00  0.00           C  \\nATOM   1679  N2  SAM A 216      10.054   6.633  -1.866  1.00  0.00           N  \\nATOM   1680  C7  SAM A 216      10.084   5.373  -1.286  1.00  0.00           C  \\nATOM   1681  C8  SAM A 216       8.664   7.083  -4.076  1.00  0.00           C  \\nATOM   1682  N3  SAM A 216       7.774   6.643  -4.976  1.00  0.00           N  \\nATOM   1683  C9  SAM A 216       7.524   5.303  -4.906  1.00  0.00           C  \\nATOM   1684  N4  SAM A 216       8.154   4.413  -4.036  1.00  0.00           N  \\nATOM   1685  N5  SAM A 216       8.694   8.383  -4.096  1.00  0.00           N  \\nATOM   1686  C2  SAM A 216      10.894   2.273  -1.286  1.00  0.00           C  \\nATOM   1687  O2  SAM A 216      11.934   2.083  -2.246  1.00  0.00           O  \\nATOM   1688  C3  SAM A 216      10.404   0.943  -0.706  1.00  0.00           C  \\nATOM   1689  O3  SAM A 216      10.754  -0.247  -1.566  1.00  0.00           O  \\nATOM   1690  C4  SAM A 216       8.894   1.043  -0.476  1.00  0.00           C  \\nATOM   1691  C10 SAM A 216       8.394   1.133   0.954  1.00  0.00           C  \\nATOM   1692  S1  SAM A 216       7.864  -0.417   1.694  1.00  0.00           S  \\nATOM   1693  C15 SAM A 216       7.564   0.063   3.414  1.00  0.00           C  \\nATOM   1694  C11 SAM A 216       6.144  -0.567   1.164  1.00  0.00           C  \\nATOM   1695  C12 SAM A 216       5.574  -1.887   1.704  1.00  0.00           C  \\nATOM   1696  C13 SAM A 216       4.254  -2.247   0.974  1.00  0.00           C  \\nATOM   1697  N6  SAM A 216       3.194  -1.237   1.224  1.00  0.00           N  \\nATOM   1698  C14 SAM A 216       3.874  -3.727   1.194  1.00  0.00           C  \\nATOM   1699  O5  SAM A 216       3.624  -4.317   0.244  1.00  0.00           O  \\nATOM   1700  O4  SAM A 216       3.894  -4.227   2.314  1.00  0.00           O  \\nHETATM 1701  O1  TCW A 217       9.177  12.402   9.685  1.00  0.00           O  \\nHETATM 1702  C1  TCW A 217       9.533  13.511   9.408  1.00  0.00           C  \\nHETATM 1703  C2  TCW A 217       8.717  14.313   8.433  1.00  0.00           C  \\nHETATM 1704  C3  TCW A 217       9.403  15.181   7.570  1.00  0.00           C  \\nHETATM 1705  C4  TCW A 217       8.736  15.901   6.617  1.00  0.00           C  \\nHETATM 1706  O2  TCW A 217       9.412  16.746   5.816  1.00  0.00           O  \\nHETATM 1707  H2  TCW A 217       8.865  17.488   5.590  1.00  0.00           H  \\nHETATM 1708  C7  TCW A 217       7.348  15.760   6.463  1.00  0.00           C  \\nHETATM 1709  C6  TCW A 217       6.681  14.880   7.309  1.00  0.00           C  \\nHETATM 1710  C5  TCW A 217       7.359  14.159   8.294  1.00  0.00           C  \\nHETATM 1711  H3  TCW A 217       6.802  13.486   8.911  1.00  0.00           H  \\nHETATM 1712  N1  TCW A 217       5.254  14.683   7.190  1.00  0.00           N  \\nHETATM 1713  O3  TCW A 217       4.721  13.930   7.936  1.00  0.00           O  \\nHETATM 1714  O4  TCW A 217       4.663  15.299   6.334  1.00  0.00           O  \\nHETATM 1715  O5  TCW A 217       6.809  16.504   5.499  1.00  0.00           O  \\nHETATM 1716  H4  TCW A 217       7.491  16.974   5.023  1.00  0.00           H  \\nHETATM 1717  H1  TCW A 217      10.467  15.287   7.653  1.00  0.00           H  \\nHETATM 1718  C8  TCW A 217      10.763  14.090  10.033  1.00  0.00           C  \\nHETATM 1719  C9  TCW A 217      10.744  15.438  10.386  1.00  0.00           C  \\nHETATM 1720  H5  TCW A 217       9.868  16.021  10.171  1.00  0.00           H  \\nHETATM 1721  C10 TCW A 217      11.833  16.015  11.004  1.00  0.00           C  \\nHETATM 1722  H6  TCW A 217      11.805  17.060  11.259  1.00  0.00           H  \\nHETATM 1723  C11 TCW A 217      12.966  15.262  11.312  1.00  0.00           C  \\nHETATM 1724  C12 TCW A 217      14.152  15.909  11.985  1.00  0.00           C  \\nHETATM 1725  H7  TCW A 217      13.847  16.454  12.873  1.00  0.00           H  \\nHETATM 1726  H8  TCW A 217      14.890  15.173  12.279  1.00  0.00           H  \\nHETATM 1727  H9  TCW A 217      14.635  16.616  11.318  1.00  0.00           H  \\nHETATM 1728  C13 TCW A 217      12.970  13.915  10.982  1.00  0.00           C  \\nHETATM 1729  H10 TCW A 217      13.825  13.309  11.224  1.00  0.00           H  \\nHETATM 1730  C14 TCW A 217      11.885  13.335  10.343  1.00  0.00           C  \\nHETATM 1731  H11 TCW A 217      11.916  12.285  10.113  1.00  0.00           H  \\nTER\\nEND\\n\";\n",
        "            structure = pv.io.pdb(pdb);\n",
        "            viewer = pv.Viewer(document.getElementById('8c5e5fe2-a6d0-43e0-9d66-93bb8c068277'),\n",
        "                               {quality : 'medium', width: 'auto', height : 'auto',\n",
        "                                antialias : true, outline : true});\n",
        "            viewer.fitParent();\n",
        "            var ligand = structure.select({rnames : ['TCW', 'SAM', 'MG']});\n",
        "            viewer.ballsAndSticks('ligand', ligand);\n",
        "            viewer.cartoon('molecule', structure);\n",
        "            viewer.centerOn(structure);\n",
        "        });\n",
        "        </script>\n",
        "        "
       ],
       "metadata": {},
       "output_type": "pyout",
       "prompt_number": 1667,
       "text": [
        "<__main__.PDBViewer at 0x7fac3eb89a50>"
       ]
      }
     ],
     "prompt_number": 1667
    }
   ],
   "metadata": {}
  }
 ]
}