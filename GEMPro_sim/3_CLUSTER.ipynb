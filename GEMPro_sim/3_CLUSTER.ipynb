{
 "metadata": {
  "kernelspec": {
   "display_name": "Python 2",
   "language": "python",
   "name": "python2"
  },
  "language_info": {
   "codemirror_mode": {
    "name": "ipython",
    "version": 2
   },
   "file_extension": ".py",
   "mimetype": "text/x-python",
   "name": "python",
   "nbconvert_exporter": "python",
   "pygments_lexer": "ipython2",
   "version": "2.7.8"
  },
  "name": "",
  "signature": "sha256:780bfdde9f21a7d5199afe3df8f37f91ee0f8072ec05a4921d87072ff03cd217"
 },
 "nbformat": 3,
 "nbformat_minor": 0,
 "worksheets": [
  {
   "cells": [
    {
     "cell_type": "heading",
     "level": 1,
     "metadata": {},
     "source": [
      "Combining DOCK6 poses with MD trajectory snapshots"
     ]
    },
    {
     "cell_type": "code",
     "collapsed": false,
     "input": [
      "import os\n",
      "import os.path\n",
      "import yaml\n",
      "import numpy as np\n",
      "import pandas as pd\n",
      "from Bio.PDB import *\n",
      "from collections import defaultdict\n",
      "from collections import OrderedDict"
     ],
     "language": "python",
     "metadata": {},
     "outputs": [],
     "prompt_number": 1
    },
    {
     "cell_type": "code",
     "collapsed": false,
     "input": [
      "%matplotlib inline"
     ],
     "language": "python",
     "metadata": {},
     "outputs": [],
     "prompt_number": 2
    },
    {
     "cell_type": "code",
     "collapsed": false,
     "input": [
      "# input the main docking directory here\n",
      "research_folder = '/home/nathan/projects/'\n",
      "dock_base_folder = research_folder + 'DOCK/'"
     ],
     "language": "python",
     "metadata": {},
     "outputs": [],
     "prompt_number": 3
    },
    {
     "cell_type": "code",
     "collapsed": false,
     "input": [
      "# input your proteins, modifications, types, and ligands here\n",
      "docking = yaml.load(\"\"\"\n",
      "---\n",
      "COMT:\n",
      "    1_WT_3BWM:\n",
      "        2_SAM:\n",
      "#             - lnr\n",
      "            - ldp\n",
      "#             - ale\n",
      "#         3_HALO:\n",
      "#             - lnr\n",
      "#             - ldp\n",
      "#             - ale\n",
      "    2_SNP_3BWY:\n",
      "        2_SAM:\n",
      "#             - lnr\n",
      "            - ldp\n",
      "#             - ale\n",
      "#         3_HALO:\n",
      "#             - lnr\n",
      "#             - ldp\n",
      "#             - ale\n",
      "\"\"\")"
     ],
     "language": "python",
     "metadata": {},
     "outputs": [],
     "prompt_number": 4
    },
    {
     "cell_type": "code",
     "collapsed": false,
     "input": [
      "docking"
     ],
     "language": "python",
     "metadata": {},
     "outputs": [
      {
       "metadata": {},
       "output_type": "pyout",
       "prompt_number": 5,
       "text": [
        "{'COMT': {'1_WT_3BWM': {'2_SAM': ['ldp']}, '2_SNP_3BWY': {'2_SAM': ['ldp']}}}"
       ]
      }
     ],
     "prompt_number": 5
    },
    {
     "cell_type": "heading",
     "level": 4,
     "metadata": {},
     "source": [
      "1. Convert all docked mol2 files into pdbs using openbabel"
     ]
    },
    {
     "cell_type": "code",
     "collapsed": false,
     "input": [
      "for protein,x in docking.iteritems():\n",
      "#     print protein\n",
      "    for mod,types in x.iteritems():\n",
      "#         print mod\n",
      "        for ty,ligs in types.iteritems():\n",
      "#             print ty\n",
      "            for lig in ligs:\n",
      "#                 print lig\n",
      "                dock_results = os.path.join(dock_base_folder, protein, '2_MD', mod, ty, 'analysis', lig)\n",
      "                os.chdir(dock_results)\n",
      "            # converting _scored.mol2 to pdb\n",
      "                !obabel *_flexible_scored.mol2 -opdb -m"
     ],
     "language": "python",
     "metadata": {},
     "outputs": [
      {
       "output_type": "stream",
       "stream": "stdout",
       "text": [
        "875 molecules converted\r\n",
        "588 files output. The first is 3BWY-001_LDP_opt_flexible_scored.pdb\r\n"
       ]
      },
      {
       "output_type": "stream",
       "stream": "stdout",
       "text": [
        "783 molecules converted\r\n",
        "500 files output. The first is 3BWM-001_LDP_opt_flexible_scored.pdb\r\n"
       ]
      }
     ],
     "prompt_number": 49
    },
    {
     "cell_type": "heading",
     "level": 4,
     "metadata": {},
     "source": [
      "2. Merge ligand PDBs with receptor PDBs using Biopython"
     ]
    },
    {
     "cell_type": "markdown",
     "metadata": {},
     "source": [
      "Some other ways to do it: http://comments.gmane.org/gmane.comp.python.bio.general/8177"
     ]
    },
    {
     "cell_type": "code",
     "collapsed": false,
     "input": [
      "# note -- a couple manual things to set here\n",
      "\n",
      "io = PDBIO()\n",
      "parser = PDBParser()\n",
      "\n",
      "for protein,y in docking.iteritems():\n",
      "    for mod,types in y.iteritems():\n",
      "        for ty,ligs in types.iteritems():\n",
      "            for ligand in ligs:\n",
      "                start = 1\n",
      "                # set these\n",
      "                if mod == '1_WT_3BWM':\n",
      "                    if ty == '2_SAM':\n",
      "                        end = 500\n",
      "                    elif ty == '3_HALO':\n",
      "                        end = 700\n",
      "                if mod == '2_SNP_3BWY':\n",
      "                    if ty == '2_SAM':\n",
      "                        end = 588\n",
      "                    elif ty == '3_HALO':\n",
      "                        end = 500\n",
      "\n",
      "                # check these\n",
      "                receptornoh = os.path.join(dock_base_folder, protein, '2_MD', mod, ty, 'analysis', 'receptor_noH')\n",
      "                dock_results = os.path.join(dock_base_folder, protein, '2_MD', mod, ty, 'analysis', ligand)\n",
      "                os.chdir(dock_results)\n",
      "\n",
      "                for x in range(start,end+1):\n",
      "                    \n",
      "                    # check names\n",
      "                    # load the receptor\n",
      "                    rec = parser.get_structure('receptor', receptornoh + '/%s-%.3d_receptor_noH.pdb' % ( mod[-4:], x))\n",
      "                    # load the ligand\n",
      "                    lig = parser.get_structure('ligand', dock_results + '/%s-%.3d_%s_opt_flexible_scored.pdb' % (mod[-4:], x, ligand.upper()))\n",
      "\n",
      "                    num_docked = len(list(lig.get_residues()))\n",
      "                    # if there is no docked ligand (because of various errors, skip it)\n",
      "                    if num_docked == 0: continue\n",
      "                    \n",
      "                    # set this (your cofactors)\n",
      "                    # changing hetero atom to normal atoms (so biopython can easily find the docked ligand later)\n",
      "                    elif protein == 'COMT':\n",
      "                        rec[0]['A'][('H_NAD',334,' ')].id = (' ', 334, ' ')\n",
      "\n",
      "                    # get the number of residues in the receptor\n",
      "                    last_resnum = len(list(rec.get_residues()))\n",
      "                    for l in lig.get_residues():\n",
      "                        # adjust the id of the ligand as well as its resnum (to be +1 the number of receptor residues)\n",
      "                        l.id = ('H_%s' % ligand, last_resnum+1, ' ')\n",
      "                        # add the ligand to the receptor structure\n",
      "                        rec.child_list[0].child_list[0].add(l)\n",
      "\n",
      "                    # check names\n",
      "                    # save the docked PDB\n",
      "                    io.set_structure(rec)\n",
      "#                     print 'saving %s-%.3d_receptor_%s_docked.pdb' % ( mod[-4:], x, ligand)\n",
      "                    io.save('%s-%.3d_receptor_%s_docked.pdb' % ( mod[-4:], x, ligand))"
     ],
     "language": "python",
     "metadata": {},
     "outputs": [],
     "prompt_number": 50
    },
    {
     "cell_type": "heading",
     "level": 1,
     "metadata": {},
     "source": [
      "Cluster docked poses of ligands for further analysis"
     ]
    },
    {
     "cell_type": "heading",
     "level": 2,
     "metadata": {},
     "source": [
      "Option 1: load coordinates from crystal structure with ligand of interest"
     ]
    },
    {
     "cell_type": "code",
     "collapsed": false,
     "input": [
      "my_protein = 'COMT_WT'\n",
      "my_chain = 'A'\n",
      "crystal = dock_base_folder + 'COMT/2_MD/1_WT_3BWM/3_HALO/original/3BWM.pdb'"
     ],
     "language": "python",
     "metadata": {},
     "outputs": [],
     "prompt_number": 6
    },
    {
     "cell_type": "code",
     "collapsed": false,
     "input": [
      "parser = PDBParser()\n",
      "structure = parser.get_structure(my_protein, crystal)\n",
      "\n",
      "# 0 takes the first \"model\" - with x-ray structure it is always 0\n",
      "model = structure[0]\n",
      "\n",
      "# make sure chain is the correct one!\n",
      "chain = model[my_chain]"
     ],
     "language": "python",
     "metadata": {},
     "outputs": [],
     "prompt_number": 7
    },
    {
     "cell_type": "heading",
     "level": 4,
     "metadata": {},
     "source": [
      "Get cartesian coordinates of existing ligand"
     ]
    },
    {
     "cell_type": "code",
     "collapsed": false,
     "input": [
      "# see all residues by doing:\n",
      "# chain.child_list\n",
      "\n",
      "ligand = chain[('H_DNC', 302, ' ')]"
     ],
     "language": "python",
     "metadata": {},
     "outputs": [],
     "prompt_number": 8
    },
    {
     "cell_type": "code",
     "collapsed": false,
     "input": [
      "ligand_xyz_dict = defaultdict(dict)\n",
      "\n",
      "# creating dataframe of all atoms in ligand\n",
      "first = True\n",
      "for atom in ligand.get_list():\n",
      "    ligand_xyz_dict[atom.get_name()]['atom_x'] = atom.get_coord()[0]\n",
      "    ligand_xyz_dict[atom.get_name()]['atom_y'] = atom.get_coord()[1]\n",
      "    ligand_xyz_dict[atom.get_name()]['atom_z'] = atom.get_coord()[2]\n",
      "\n",
      "ligand_xyz_df = pd.DataFrame.from_dict(ligand_xyz_dict, orient='index')"
     ],
     "language": "python",
     "metadata": {},
     "outputs": [],
     "prompt_number": 9
    },
    {
     "cell_type": "code",
     "collapsed": false,
     "input": [
      "ligand_xyz_df"
     ],
     "language": "python",
     "metadata": {
      "scrolled": false
     },
     "outputs": [
      {
       "html": [
        "<div style=\"max-height:1000px;max-width:1500px;overflow:auto;\">\n",
        "<table border=\"1\" class=\"dataframe\">\n",
        "  <thead>\n",
        "    <tr style=\"text-align: right;\">\n",
        "      <th></th>\n",
        "      <th>atom_x</th>\n",
        "      <th>atom_y</th>\n",
        "      <th>atom_z</th>\n",
        "    </tr>\n",
        "  </thead>\n",
        "  <tbody>\n",
        "    <tr>\n",
        "      <th>C1</th>\n",
        "      <td>-4.540</td>\n",
        "      <td>-12.555</td>\n",
        "      <td>-16.207001</td>\n",
        "    </tr>\n",
        "    <tr>\n",
        "      <th>C2</th>\n",
        "      <td>-4.419</td>\n",
        "      <td>-11.187</td>\n",
        "      <td>-16.750999</td>\n",
        "    </tr>\n",
        "    <tr>\n",
        "      <th>C3</th>\n",
        "      <td>-3.946</td>\n",
        "      <td>-11.022</td>\n",
        "      <td>-18.139000</td>\n",
        "    </tr>\n",
        "    <tr>\n",
        "      <th>C4</th>\n",
        "      <td>-3.639</td>\n",
        "      <td>-12.157</td>\n",
        "      <td>-18.875999</td>\n",
        "    </tr>\n",
        "    <tr>\n",
        "      <th>C5</th>\n",
        "      <td>-3.773</td>\n",
        "      <td>-13.433</td>\n",
        "      <td>-18.327999</td>\n",
        "    </tr>\n",
        "    <tr>\n",
        "      <th>C6</th>\n",
        "      <td>-4.211</td>\n",
        "      <td>-13.629</td>\n",
        "      <td>-17.016001</td>\n",
        "    </tr>\n",
        "    <tr>\n",
        "      <th>N1</th>\n",
        "      <td>-3.797</td>\n",
        "      <td> -9.746</td>\n",
        "      <td>-18.695999</td>\n",
        "    </tr>\n",
        "    <tr>\n",
        "      <th>N2</th>\n",
        "      <td>-3.431</td>\n",
        "      <td>-14.541</td>\n",
        "      <td>-19.112000</td>\n",
        "    </tr>\n",
        "    <tr>\n",
        "      <th>O1</th>\n",
        "      <td>-4.979</td>\n",
        "      <td>-12.746</td>\n",
        "      <td>-14.930000</td>\n",
        "    </tr>\n",
        "    <tr>\n",
        "      <th>O2</th>\n",
        "      <td>-4.730</td>\n",
        "      <td>-10.119</td>\n",
        "      <td>-15.972000</td>\n",
        "    </tr>\n",
        "    <tr>\n",
        "      <th>O3</th>\n",
        "      <td>-4.338</td>\n",
        "      <td> -8.772</td>\n",
        "      <td>-18.200001</td>\n",
        "    </tr>\n",
        "    <tr>\n",
        "      <th>O4</th>\n",
        "      <td>-3.105</td>\n",
        "      <td> -9.595</td>\n",
        "      <td>-19.686001</td>\n",
        "    </tr>\n",
        "    <tr>\n",
        "      <th>O5</th>\n",
        "      <td>-3.053</td>\n",
        "      <td>-14.345</td>\n",
        "      <td>-20.250999</td>\n",
        "    </tr>\n",
        "    <tr>\n",
        "      <th>O6</th>\n",
        "      <td>-3.483</td>\n",
        "      <td>-15.692</td>\n",
        "      <td>-18.664000</td>\n",
        "    </tr>\n",
        "  </tbody>\n",
        "</table>\n",
        "</div>"
       ],
       "metadata": {},
       "output_type": "pyout",
       "prompt_number": 10,
       "text": [
        "    atom_x  atom_y     atom_z\n",
        "C1  -4.540 -12.555 -16.207001\n",
        "C2  -4.419 -11.187 -16.750999\n",
        "C3  -3.946 -11.022 -18.139000\n",
        "C4  -3.639 -12.157 -18.875999\n",
        "C5  -3.773 -13.433 -18.327999\n",
        "C6  -4.211 -13.629 -17.016001\n",
        "N1  -3.797  -9.746 -18.695999\n",
        "N2  -3.431 -14.541 -19.112000\n",
        "O1  -4.979 -12.746 -14.930000\n",
        "O2  -4.730 -10.119 -15.972000\n",
        "O3  -4.338  -8.772 -18.200001\n",
        "O4  -3.105  -9.595 -19.686001\n",
        "O5  -3.053 -14.345 -20.250999\n",
        "O6  -3.483 -15.692 -18.664000"
       ]
      }
     ],
     "prompt_number": 10
    },
    {
     "cell_type": "heading",
     "level": 4,
     "metadata": {},
     "source": [
      "choose 3 representative points on ligand - k-means clustering of 3d coordinates"
     ]
    },
    {
     "cell_type": "code",
     "collapsed": true,
     "input": [
      "from scipy.cluster.vq import kmeans2,vq"
     ],
     "language": "python",
     "metadata": {},
     "outputs": [],
     "prompt_number": 11
    },
    {
     "cell_type": "code",
     "collapsed": false,
     "input": [
      "# dataframe in numpy matrix form\n",
      "ligand_xyz_df.as_matrix()"
     ],
     "language": "python",
     "metadata": {},
     "outputs": [
      {
       "metadata": {},
       "output_type": "pyout",
       "prompt_number": 12,
       "text": [
        "array([[ -4.53999996, -12.55500031, -16.20700073],\n",
        "       [ -4.41900015, -11.18700027, -16.75099945],\n",
        "       [ -3.9460001 , -11.02200031, -18.13899994],\n",
        "       [ -3.63899994, -12.15699959, -18.87599945],\n",
        "       [ -3.773     , -13.43299961, -18.32799911],\n",
        "       [ -4.21099997, -13.62899971, -17.01600075],\n",
        "       [ -3.79699993,  -9.74600029, -18.69599915],\n",
        "       [ -3.43099999, -14.54100037, -19.11199951],\n",
        "       [ -4.97900009, -12.74600029, -14.93000031],\n",
        "       [ -4.73000002, -10.11900043, -15.97200012],\n",
        "       [ -4.33799982,  -8.77200031, -18.20000076],\n",
        "       [ -3.10500002,  -9.59500027, -19.68600082],\n",
        "       [ -3.05299997, -14.34500027, -20.25099945],\n",
        "       [ -3.48300004, -15.69200039, -18.66399956]])"
       ]
      }
     ],
     "prompt_number": 12
    },
    {
     "cell_type": "code",
     "collapsed": false,
     "input": [
      "# get kmeans centroids and also assignments to the data\n",
      "centroids,idx = kmeans2(ligand_xyz_df.as_matrix(),3)"
     ],
     "language": "python",
     "metadata": {},
     "outputs": [],
     "prompt_number": 13
    },
    {
     "cell_type": "code",
     "collapsed": false,
     "input": [
      "# 3d plot!\n",
      "# note: can be skipped\n",
      "\n",
      "import plotly.plotly as py\n",
      "from plotly.graph_objs import *\n",
      "\n",
      "centroid_points = Scatter3d(\n",
      "    x = centroids.transpose()[0],\n",
      "    y = centroids.transpose()[1],\n",
      "    z = centroids.transpose()[2],\n",
      "    mode='markers',\n",
      "    marker = Marker(\n",
      "             symbol = 'cross',\n",
      "             size=12\n",
      "    )\n",
      ")\n",
      "\n",
      "cluster0 = Scatter3d(\n",
      "    x = ligand_xyz_df.as_matrix()[idx==0,0],\n",
      "    y = ligand_xyz_df.as_matrix()[idx==0,1],\n",
      "    z = ligand_xyz_df.as_matrix()[idx==0,2],\n",
      "    mode='markers',\n",
      "    marker = Marker(size=16)\n",
      ")\n",
      "\n",
      "cluster1 = Scatter3d(\n",
      "    x = ligand_xyz_df.as_matrix()[idx==1,0],\n",
      "    y = ligand_xyz_df.as_matrix()[idx==1,1],\n",
      "    z = ligand_xyz_df.as_matrix()[idx==1,2],\n",
      "    mode='markers',\n",
      "    marker = Marker(size=16)\n",
      ")\n",
      "\n",
      "cluster2 = Scatter3d(\n",
      "    x = ligand_xyz_df.as_matrix()[idx==2,0],\n",
      "    y = ligand_xyz_df.as_matrix()[idx==2,1],\n",
      "    z = ligand_xyz_df.as_matrix()[idx==2,2],\n",
      "    mode='markers',\n",
      "    marker = Marker(size=16)\n",
      ")\n",
      "\n",
      "data = Data([centroid_points,cluster0,cluster1,cluster2])\n",
      "fig = Figure(data=data)\n",
      "py.iplot(fig)"
     ],
     "language": "python",
     "metadata": {},
     "outputs": [
      {
       "html": [
        "<iframe id=\"igraph\" scrolling=\"no\" style=\"border:none;\"seamless=\"seamless\" src=\"https://plot.ly/~nmih/193.embed\" height=\"525\" width=\"100%\"></iframe>"
       ],
       "metadata": {},
       "output_type": "pyout",
       "prompt_number": 14,
       "text": [
        "<plotly.tools.PlotlyDisplay at 0x7f0b1f305390>"
       ]
      }
     ],
     "prompt_number": 14
    },
    {
     "cell_type": "code",
     "collapsed": false,
     "input": [
      "# for now! choose points closest to centroids\n",
      "# TODO: test if distance from other centroids should be taken into account\n",
      "\n",
      "closest_c0_dist = float(np.inf)\n",
      "closest_c0_point = np.zeros(3)\n",
      "for c0 in ligand_xyz_df.as_matrix()[idx==0]:\n",
      "    if np.linalg.norm(centroids[0]-c0) < closest_c0_dist:\n",
      "        closest_c0_dist = np.linalg.norm(centroids[0]-c0)\n",
      "        closest_c0_point = c0\n",
      "print closest_c0_point\n",
      "    \n",
      "closest_c1_dist = float(np.inf)\n",
      "closest_c1_point = np.zeros(3)\n",
      "for c1 in ligand_xyz_df.as_matrix()[idx==1]:\n",
      "    if np.linalg.norm(centroids[1]-c1) < closest_c1_dist:\n",
      "        closest_c1_dist = np.linalg.norm(centroids[0]-c1)\n",
      "        closest_c1_point = c1\n",
      "print closest_c1_point\n",
      "\n",
      "closest_c2_dist = float(np.inf)\n",
      "closest_c2_point = np.zeros(3)\n",
      "for c2 in ligand_xyz_df.as_matrix()[idx==2]:\n",
      "    if np.linalg.norm(centroids[2]-c2) < closest_c2_dist:\n",
      "        closest_c2_dist = np.linalg.norm(centroids[0]-c2)\n",
      "        closest_c2_point = c2\n",
      "print closest_c2_point"
     ],
     "language": "python",
     "metadata": {},
     "outputs": [
      {
       "output_type": "stream",
       "stream": "stdout",
       "text": [
        "[ -4.53999996 -12.55500031 -16.20700073]\n",
        "[ -3.48300004 -15.69200039 -18.66399956]\n",
        "[ -3.10500002  -9.59500027 -19.68600082]\n"
       ]
      }
     ],
     "prompt_number": 15
    },
    {
     "cell_type": "code",
     "collapsed": false,
     "input": [
      "# these are the atoms closest to the clusters\n",
      "\n",
      "rep_atoms = []\n",
      "rep_atoms.append(ligand_xyz_df[(ligand_xyz_df.atom_x == closest_c0_point[0]) & (ligand_xyz_df.atom_y == closest_c0_point[1]) & (ligand_xyz_df.atom_z == closest_c0_point[2])].index[0].strip())\n",
      "rep_atoms.append(ligand_xyz_df[(ligand_xyz_df.atom_x == closest_c1_point[0]) & (ligand_xyz_df.atom_y == closest_c1_point[1]) & (ligand_xyz_df.atom_z == closest_c1_point[2])].index[0].strip())\n",
      "rep_atoms.append(ligand_xyz_df[(ligand_xyz_df.atom_x == closest_c2_point[0]) & (ligand_xyz_df.atom_y == closest_c2_point[1]) & (ligand_xyz_df.atom_z == closest_c2_point[2])].index[0].strip())"
     ],
     "language": "python",
     "metadata": {},
     "outputs": [],
     "prompt_number": 16
    },
    {
     "cell_type": "heading",
     "level": 4,
     "metadata": {
      "collapsed": true
     },
     "source": [
      "get residues in proximity of these 3 points"
     ]
    },
    {
     "cell_type": "code",
     "collapsed": false,
     "input": [
      "rep_atoms"
     ],
     "language": "python",
     "metadata": {},
     "outputs": [
      {
       "metadata": {},
       "output_type": "pyout",
       "prompt_number": 17,
       "text": [
        "['C1', 'O6', 'O4']"
       ]
      }
     ],
     "prompt_number": 17
    },
    {
     "cell_type": "code",
     "collapsed": false,
     "input": [
      "def get_closest_coord(ref_point, dict_of_coords):\n",
      "    '''\n",
      "    Returns closest point in a collection of points to a point in space\n",
      "    Input: ref_point - atom on ligand\n",
      "           dict_of_coords - collection of nearest neighbors to the ref_point\n",
      "    Output: closest_id - full biopython id for closest residue atom\n",
      "            closest_point - coordinates of closest_id\n",
      "    '''\n",
      "    closest_dist = float(np.inf)\n",
      "    closest_id = None\n",
      "    closest_point = None\n",
      "    for k,coord in dict_of_coords.iteritems():\n",
      "        if np.linalg.norm(coord-ref_point) < closest_dist:\n",
      "            closest_dist = np.linalg.norm(coord-ref_point)\n",
      "            closest_point = coord\n",
      "            closest_id = k\n",
      "    return closest_id, closest_point"
     ],
     "language": "python",
     "metadata": {},
     "outputs": [],
     "prompt_number": 18
    },
    {
     "cell_type": "code",
     "collapsed": false,
     "input": [
      "import sys\n",
      "rep_interactions = OrderedDict()\n",
      "for x in rep_atoms:\n",
      "    # for each of the \"representative atoms\", get the neighbor list\n",
      "    coord = np.array(ligand_xyz_df.loc[x])\n",
      "    dist = 5.0\n",
      "    ns = NeighborSearch(Selection.unfold_entities(structure, 'A'))\n",
      "    neighbors = ns.search(coord, dist) # 5.0 for distance in angstrom\n",
      "    residue_list = Selection.unfold_entities(neighbors, 'R') # R for residues\n",
      "    atom_list = Selection.unfold_entities(neighbors, 'A')\n",
      "\n",
      "#     print 'NEIGHBORS WITHIN %d ANGSTROMS OF %s' % (dist, x)\n",
      "#     print 'RESIDUES:', residue_list\n",
      "#     print 'ATOMS:', atom_list\n",
      "#     print\n",
      "\n",
      "    # now for each of the atoms in the neighbor list, pick the closest one to the representative atom\n",
      "    coords_to_pick_from = {}\n",
      "    for a in atom_list:\n",
      "        # choosing atoms that are part of residues, not hetero atoms (could use them though..)\n",
      "        if a.get_parent().get_full_id()[3][0] == \" \":\n",
      "#             print a, a.get_parent(), a.get_full_id()\n",
      "            coords_to_pick_from[a.get_full_id()] = a.get_coord()\n",
      "    \n",
      "    rep_interactions[x] = get_closest_coord(np.array(ligand_xyz_df.loc[x]), coords_to_pick_from)\n",
      "    print 'CLOSEST to', x, get_closest_coord(np.array(ligand_xyz_df.loc[x]), coords_to_pick_from)"
     ],
     "language": "python",
     "metadata": {},
     "outputs": [
      {
       "output_type": "stream",
       "stream": "stdout",
       "text": [
        "CLOSEST to C1 (('COMT_WT', 0, 'A', (' ', 199, ' '), ('OE2', ' ')), array([ -6.83099985, -14.40299988, -15.37100029], dtype=float32))\n",
        "CLOSEST to O6 (('COMT_WT', 0, 'A', (' ', 38, ' '), ('CH2', ' ')), array([ -6.72700024, -15.60299969, -19.33399963], dtype=float32))\n",
        "CLOSEST to O4 (('COMT_WT', 0, 'A', (' ', 143, ' '), ('CZ3', ' ')), array([ -5.16300011,  -7.1500001 , -21.01199913], dtype=float32))\n"
       ]
      }
     ],
     "prompt_number": 19
    },
    {
     "cell_type": "code",
     "collapsed": false,
     "input": [
      "rep_interactions"
     ],
     "language": "python",
     "metadata": {},
     "outputs": [
      {
       "metadata": {},
       "output_type": "pyout",
       "prompt_number": 20,
       "text": [
        "OrderedDict([('C1', (('COMT_WT', 0, 'A', (' ', 199, ' '), ('OE2', ' ')), array([ -6.83099985, -14.40299988, -15.37100029], dtype=float32))), ('O6', (('COMT_WT', 0, 'A', (' ', 38, ' '), ('CH2', ' ')), array([ -6.72700024, -15.60299969, -19.33399963], dtype=float32))), ('O4', (('COMT_WT', 0, 'A', (' ', 143, ' '), ('CZ3', ' ')), array([ -5.16300011,  -7.1500001 , -21.01199913], dtype=float32)))])"
       ]
      }
     ],
     "prompt_number": 20
    },
    {
     "cell_type": "code",
     "collapsed": false,
     "input": [
      "# these are the interacting residues and atoms\n",
      "print '***NOTE: THESE RESIDUE NUMBERS MAY HAVE TO BE ADJUSTED***\\n***since they are from a crystal structure, not your AMBER structures***'\n",
      "print\n",
      "for atom,interaction in rep_interactions.iteritems():\n",
      "    print 'LIGAND ATOM:', atom\n",
      "    print 'CHAIN RESIDUE:', chain[interaction[0][3][1]]\n",
      "    print 'CHAIN RESIDUE + ATOM:', interaction\n",
      "    print"
     ],
     "language": "python",
     "metadata": {},
     "outputs": [
      {
       "output_type": "stream",
       "stream": "stdout",
       "text": [
        "***NOTE: THESE RESIDUE NUMBERS MAY HAVE TO BE ADJUSTED***\n",
        "***since they are from a crystal structure, not your AMBER structures***\n",
        "\n",
        "LIGAND ATOM: C1\n",
        "CHAIN RESIDUE: <Residue GLU het=  resseq=199 icode= >\n",
        "CHAIN RESIDUE + ATOM: (('COMT_WT', 0, 'A', (' ', 199, ' '), ('OE2', ' ')), array([ -6.83099985, -14.40299988, -15.37100029], dtype=float32))\n",
        "\n",
        "LIGAND ATOM: O6\n",
        "CHAIN RESIDUE: <Residue TRP het=  resseq=38 icode= >\n",
        "CHAIN RESIDUE + ATOM: (('COMT_WT', 0, 'A', (' ', 38, ' '), ('CH2', ' ')), array([ -6.72700024, -15.60299969, -19.33399963], dtype=float32))\n",
        "\n",
        "LIGAND ATOM: O4\n",
        "CHAIN RESIDUE: <Residue TRP het=  resseq=143 icode= >\n",
        "CHAIN RESIDUE + ATOM: (('COMT_WT', 0, 'A', (' ', 143, ' '), ('CZ3', ' ')), array([ -5.16300011,  -7.1500001 , -21.01199913], dtype=float32))\n",
        "\n"
       ]
      }
     ],
     "prompt_number": 21
    },
    {
     "cell_type": "heading",
     "level": 2,
     "metadata": {},
     "source": [
      "Option 2: manually input interacting residues"
     ]
    },
    {
     "cell_type": "code",
     "collapsed": false,
     "input": [
      "# input any docked pdb structure here - we just want the correct atom names\n",
      "\n",
      "### **** ###\n",
      "my_protein = 'COMT_docked_frame_499'\n",
      "### **** ###\n",
      "my_chain = 'A'\n",
      "### **** ###\n",
      "crystal = dock_base_folder + 'COMT/2_MD/1_WT_3BWM/2_SAM/analysis/dnc/3BWM-499_receptor_DNC_docked.pdb'"
     ],
     "language": "python",
     "metadata": {},
     "outputs": [],
     "prompt_number": 22
    },
    {
     "cell_type": "code",
     "collapsed": false,
     "input": [
      "parser = PDBParser()\n",
      "structure = parser.get_structure(my_protein, crystal)\n",
      "\n",
      "# 0 takes the first \"model\" - with x-ray structure it is always 0\n",
      "model = structure[0]\n",
      "\n",
      "# make sure chain is the correct one!\n",
      "chain = model[my_chain]"
     ],
     "language": "python",
     "metadata": {},
     "outputs": [],
     "prompt_number": 23
    },
    {
     "cell_type": "code",
     "collapsed": false,
     "input": [
      "# see all residues by doing:\n",
      "# chain.child_list\n",
      "\n",
      "### **** ###\n",
      "#ligand = chain[('H_G3P', 350, ' ')] # for HETATM G3P\n",
      "ligand = chain[('H_DNC', 216, ' ')]"
     ],
     "language": "python",
     "metadata": {},
     "outputs": [],
     "prompt_number": 24
    },
    {
     "cell_type": "code",
     "collapsed": false,
     "input": [
      "### **** ###\n",
      "# residue1 = chain[149]['N'] # for cysteine 149 atom N\n",
      "residue1 = chain[149]['N']\n",
      "residue2 = chain[173]['CG']\n",
      "residue3 = chain[198]['OE2']"
     ],
     "language": "python",
     "metadata": {},
     "outputs": [],
     "prompt_number": 25
    },
    {
     "cell_type": "code",
     "collapsed": false,
     "input": [
      "### **** ###\n",
      "ligand_atom1 = 'O3'\n",
      "ligand_atom2 = 'O5'\n",
      "ligand_atom3 = 'O1'"
     ],
     "language": "python",
     "metadata": {},
     "outputs": [],
     "prompt_number": 26
    },
    {
     "cell_type": "code",
     "collapsed": false,
     "input": [
      "rep_interactions = OrderedDict()\n",
      "rep_interactions[ligand_atom1] = (residue1.get_full_id(), residue1.get_coord())\n",
      "rep_interactions[ligand_atom2] = (residue2.get_full_id(), residue2.get_coord())\n",
      "rep_interactions[ligand_atom3] = (residue3.get_full_id(), residue3.get_coord())"
     ],
     "language": "python",
     "metadata": {},
     "outputs": [],
     "prompt_number": 62
    },
    {
     "cell_type": "code",
     "collapsed": false,
     "input": [
      "# these are the interacting residues and atoms\n",
      "### **** double check residue numbers ###\n",
      "\n",
      "print '***IMPORTANT: DOUBLE CHECK ATOM NAMES, RESIDUE NUMBERS***'\n",
      "print\n",
      "for atom,interaction in rep_interactions.iteritems():\n",
      "    print 'LIGAND ATOM:', atom\n",
      "    print 'CHAIN RESIDUE:', chain[interaction[0][3][1]]\n",
      "    print 'CHAIN RESIDUE + ATOM:', interaction\n",
      "    print"
     ],
     "language": "python",
     "metadata": {},
     "outputs": [
      {
       "output_type": "stream",
       "stream": "stdout",
       "text": [
        "***IMPORTANT: DOUBLE CHECK ATOM NAMES, RESIDUE NUMBERS***\n",
        "\n",
        "LIGAND ATOM: O3\n",
        "CHAIN RESIDUE: <Residue LYS het=  resseq=143 icode= >\n",
        "CHAIN RESIDUE + ATOM: (('COMT_docked_frame_499', 0, 'A', (' ', 143, ' '), ('NZ', ' ')), array([-6.89799976,  3.05299997,  8.06099987], dtype=float32))\n",
        "\n",
        "LIGAND ATOM: O5\n",
        "CHAIN RESIDUE: <Residue PRO het=  resseq=173 icode= >\n",
        "CHAIN RESIDUE + ATOM: (('COMT_docked_frame_499', 0, 'A', (' ', 173, ' '), ('CG', ' ')), array([-12.13599968,   5.73600006,  13.04199982], dtype=float32))\n",
        "\n",
        "LIGAND ATOM: O1\n",
        "CHAIN RESIDUE: <Residue GLU het=  resseq=198 icode= >\n",
        "CHAIN RESIDUE + ATOM: (('COMT_docked_frame_499', 0, 'A', (' ', 198, ' '), ('OE2', ' ')), array([-11.9460001,  -0.234    ,   2.9749999], dtype=float32))\n",
        "\n"
       ]
      }
     ],
     "prompt_number": 67
    },
    {
     "cell_type": "heading",
     "level": 1,
     "metadata": {},
     "source": [
      "Loading receptor + ligand PDBs and calculating all distances"
     ]
    },
    {
     "cell_type": "code",
     "collapsed": true,
     "input": [
      "import string\n",
      "import os"
     ],
     "language": "python",
     "metadata": {},
     "outputs": [],
     "prompt_number": 30
    },
    {
     "cell_type": "code",
     "collapsed": false,
     "input": [
      "# # extra code for fixing ligand resnum if combined incorrectly\n",
      "\n",
      "# os.chdir('/home/nathan/Desktop/DOCK/COMT/MD/HALO/3BWM/')\n",
      "\n",
      "# for i in range(1,700):\n",
      "#     docked = '/home/nathan/Desktop/DOCK/COMT/MD/HALO/3BWM/%s.pdb' % i\n",
      "\n",
      "#     with open(docked) as f:\n",
      "#         xx = f.read()\n",
      "#         newcontents = xx.replace(\"DNC A   1\", \"DNC A 217\")\n",
      "#         with open(\"%s.pdb\" % i, \"w\") as text_file:\n",
      "#             text_file.write(newcontents)"
     ],
     "language": "python",
     "metadata": {},
     "outputs": [],
     "prompt_number": 31
    },
    {
     "cell_type": "code",
     "collapsed": true,
     "input": [
      "### **** ###\n",
      "ligand_resnum = 332\n",
      "ligand_resname = 'H_3PG'\n",
      "num_pdbs_docked = 750\n",
      "\n",
      "distances_dict = defaultdict(dict)\n",
      "\n",
      "idx = 0\n",
      "for i in range(1,num_pdbs_docked+1):\n",
      "    \n",
      "    ### **** ###\n",
      "    docked = '/home/nathan/projects/DOCK/COMT/2_MD/1_WT_3BWM/2_SAM/analysis/dnc/3BWM-%.3d_receptor_DNC_docked.pdb' % i\n",
      "\n",
      "    parser = PDBParser()\n",
      "    structure = parser.get_structure('receptor_and_docked_ligand', docked)\n",
      "    model = structure[0]\n",
      "    chain = model['A']\n",
      "    \n",
      "    for ligand_atom, protein_interaction in rep_interactions.iteritems():\n",
      "        \n",
      "        # first get atom object of the ligand atom\n",
      "        docked_dnc_atom_object = chain[(ligand_resname, ligand_resnum, ' ')][ligand_atom]\n",
      "        \n",
      "        # then get the interaction information for that ligand atom\n",
      "        interaction = protein_interaction[0]\n",
      "\n",
      "        # then get the atom object of the residue\n",
      "        interaction_atom_object = chain[interaction[3][1]][interaction[4][0]]\n",
      "\n",
      "        # then calculate the distance\n",
      "        distance = docked_dnc_atom_object - interaction_atom_object\n",
      "\n",
      "        # frame number, DNC atom, interaction atom, distance\n",
      "        distances_dict[idx]['frame'] = i\n",
      "        distances_dict[idx]['ligand_atom'] = ligand_atom\n",
      "        distances_dict[idx]['residue_atom'] = interaction[4][0]\n",
      "        distances_dict[idx]['distance'] = distance\n",
      "                              \n",
      "        idx += 1\n",
      "        \n",
      "distances_df = pd.DataFrame.from_dict(distances_dict, orient='index')"
     ],
     "language": "python",
     "metadata": {},
     "outputs": [],
     "prompt_number": 32
    },
    {
     "cell_type": "code",
     "collapsed": false,
     "input": [
      "distances_df = distances_df[['frame','ligand_atom','residue_atom','distance']]"
     ],
     "language": "python",
     "metadata": {},
     "outputs": [],
     "prompt_number": 33
    },
    {
     "cell_type": "code",
     "collapsed": false,
     "input": [
      "distances_df.head()"
     ],
     "language": "python",
     "metadata": {},
     "outputs": [
      {
       "html": [
        "<div style=\"max-height:1000px;max-width:1500px;overflow:auto;\">\n",
        "<table border=\"1\" class=\"dataframe\">\n",
        "  <thead>\n",
        "    <tr style=\"text-align: right;\">\n",
        "      <th></th>\n",
        "      <th>frame</th>\n",
        "      <th>ligand_atom</th>\n",
        "      <th>residue_atom</th>\n",
        "      <th>distance</th>\n",
        "    </tr>\n",
        "  </thead>\n",
        "  <tbody>\n",
        "    <tr>\n",
        "      <th>0</th>\n",
        "      <td> 1</td>\n",
        "      <td> O3</td>\n",
        "      <td>  NZ</td>\n",
        "      <td>  4.525630</td>\n",
        "    </tr>\n",
        "    <tr>\n",
        "      <th>1</th>\n",
        "      <td> 1</td>\n",
        "      <td> O5</td>\n",
        "      <td>  CG</td>\n",
        "      <td>  8.961330</td>\n",
        "    </tr>\n",
        "    <tr>\n",
        "      <th>2</th>\n",
        "      <td> 1</td>\n",
        "      <td> O1</td>\n",
        "      <td> OE2</td>\n",
        "      <td>  3.707231</td>\n",
        "    </tr>\n",
        "    <tr>\n",
        "      <th>3</th>\n",
        "      <td> 2</td>\n",
        "      <td> O3</td>\n",
        "      <td>  NZ</td>\n",
        "      <td>  7.222515</td>\n",
        "    </tr>\n",
        "    <tr>\n",
        "      <th>4</th>\n",
        "      <td> 2</td>\n",
        "      <td> O5</td>\n",
        "      <td>  CG</td>\n",
        "      <td> 10.110936</td>\n",
        "    </tr>\n",
        "  </tbody>\n",
        "</table>\n",
        "</div>"
       ],
       "metadata": {},
       "output_type": "pyout",
       "prompt_number": 34,
       "text": [
        "   frame ligand_atom residue_atom   distance\n",
        "0      1          O3           NZ   4.525630\n",
        "1      1          O5           CG   8.961330\n",
        "2      1          O1          OE2   3.707231\n",
        "3      2          O3           NZ   7.222515\n",
        "4      2          O5           CG  10.110936"
       ]
      }
     ],
     "prompt_number": 34
    },
    {
     "cell_type": "code",
     "collapsed": false,
     "input": [
      "### **** ###\n",
      "# SAVE THIS #\n",
      "distances_df"
     ],
     "language": "python",
     "metadata": {},
     "outputs": []
    },
    {
     "cell_type": "heading",
     "level": 1,
     "metadata": {
      "collapsed": true
     },
     "source": [
      "Clustering these distances"
     ]
    },
    {
     "cell_type": "code",
     "collapsed": true,
     "input": [
      "import seaborn as sns\n",
      "sns.set_style('white')\n",
      "sns.set_context('talk')"
     ],
     "language": "python",
     "metadata": {},
     "outputs": [],
     "prompt_number": 35
    },
    {
     "cell_type": "code",
     "collapsed": true,
     "input": [
      "colors = sns.color_palette('bright')"
     ],
     "language": "python",
     "metadata": {},
     "outputs": [],
     "prompt_number": 36
    },
    {
     "cell_type": "code",
     "collapsed": false,
     "input": [
      "# http://stackoverflow.com/questions/18364026/clustering-values-by-their-proximity-in-python-machine-learning\n",
      "# function to cluster points\n",
      "from sklearn.cluster import MeanShift, estimate_bandwidth\n",
      "def get_meanshift_groups(data_df, column, param=0.4):\n",
      "    new_data_df = data_df.copy()\n",
      "    new_data_df['cluster'] = np.nan\n",
      "    \n",
      "    x = data_df[column].tolist()\n",
      "    X = np.array(zip(x,np.zeros(len(x))), dtype=np.float)\n",
      "    \n",
      "    bandwidth = estimate_bandwidth(X, quantile=param)\n",
      "    ms = MeanShift(bandwidth=bandwidth, bin_seeding=True)\n",
      "    ms.fit(X)\n",
      "    labels = ms.labels_\n",
      "    cluster_centers = ms.cluster_centers_\n",
      "    \n",
      "    labels_unique = np.unique(labels)\n",
      "    \n",
      "    n_clusters_ = len(labels_unique)\n",
      "\n",
      "    for k in range(n_clusters_):\n",
      "        my_members = labels == k\n",
      "        for xxx in X[my_members, 0]:\n",
      "            new_data_df.loc[(new_data_df[new_data_df[column] == xxx].index),'cluster'] = k\n",
      "            \n",
      "    return new_data_df"
     ],
     "language": "python",
     "metadata": {},
     "outputs": [],
     "prompt_number": 37
    },
    {
     "cell_type": "heading",
     "level": 4,
     "metadata": {},
     "source": [
      "Ligand atom #1 to residue atom #1"
     ]
    },
    {
     "cell_type": "code",
     "collapsed": false,
     "input": [
      "atom1 = get_meanshift_groups(distances_df[distances_df.ligand_atom == ligand_atom1], 'distance', 0.4)\n",
      "atom1.head()"
     ],
     "language": "python",
     "metadata": {},
     "outputs": [
      {
       "html": [
        "<div style=\"max-height:1000px;max-width:1500px;overflow:auto;\">\n",
        "<table border=\"1\" class=\"dataframe\">\n",
        "  <thead>\n",
        "    <tr style=\"text-align: right;\">\n",
        "      <th></th>\n",
        "      <th>frame</th>\n",
        "      <th>ligand_atom</th>\n",
        "      <th>residue_atom</th>\n",
        "      <th>distance</th>\n",
        "      <th>cluster</th>\n",
        "    </tr>\n",
        "  </thead>\n",
        "  <tbody>\n",
        "    <tr>\n",
        "      <th>0 </th>\n",
        "      <td> 1</td>\n",
        "      <td> O3</td>\n",
        "      <td> NZ</td>\n",
        "      <td> 4.525630</td>\n",
        "      <td> 0</td>\n",
        "    </tr>\n",
        "    <tr>\n",
        "      <th>3 </th>\n",
        "      <td> 2</td>\n",
        "      <td> O3</td>\n",
        "      <td> NZ</td>\n",
        "      <td> 7.222515</td>\n",
        "      <td> 0</td>\n",
        "    </tr>\n",
        "    <tr>\n",
        "      <th>6 </th>\n",
        "      <td> 3</td>\n",
        "      <td> O3</td>\n",
        "      <td> NZ</td>\n",
        "      <td> 3.351027</td>\n",
        "      <td> 0</td>\n",
        "    </tr>\n",
        "    <tr>\n",
        "      <th>9 </th>\n",
        "      <td> 4</td>\n",
        "      <td> O3</td>\n",
        "      <td> NZ</td>\n",
        "      <td> 4.462497</td>\n",
        "      <td> 0</td>\n",
        "    </tr>\n",
        "    <tr>\n",
        "      <th>12</th>\n",
        "      <td> 5</td>\n",
        "      <td> O3</td>\n",
        "      <td> NZ</td>\n",
        "      <td> 2.912228</td>\n",
        "      <td> 0</td>\n",
        "    </tr>\n",
        "  </tbody>\n",
        "</table>\n",
        "</div>"
       ],
       "metadata": {},
       "output_type": "pyout",
       "prompt_number": 77,
       "text": [
        "    frame ligand_atom residue_atom  distance  cluster\n",
        "0       1          O3           NZ  4.525630        0\n",
        "3       2          O3           NZ  7.222515        0\n",
        "6       3          O3           NZ  3.351027        0\n",
        "9       4          O3           NZ  4.462497        0\n",
        "12      5          O3           NZ  2.912228        0"
       ]
      }
     ],
     "prompt_number": 77
    },
    {
     "cell_type": "code",
     "collapsed": false,
     "input": [
      "# how many clusters are there?\n",
      "atom1.cluster.unique()"
     ],
     "language": "python",
     "metadata": {},
     "outputs": [
      {
       "metadata": {},
       "output_type": "pyout",
       "prompt_number": 78,
       "text": [
        "array([ 0.,  1.,  2.])"
       ]
      }
     ],
     "prompt_number": 78
    },
    {
     "cell_type": "code",
     "collapsed": true,
     "input": [
      "limits_1 = []\n",
      "limits_1_best_cluster = -1\n",
      "bottom_tracker = float(np.inf)\n",
      "\n",
      "for cluster in atom1.cluster.unique():\n",
      "    bottom = min(atom1[atom1.cluster == cluster].distance)\n",
      "    top = max(atom1[atom1.cluster == cluster].distance)\n",
      "    if bottom<bottom_tracker:\n",
      "        limits_1_best_cluster = cluster\n",
      "    limits_1.append((bottom,top))\n",
      "    \n",
      "    bottom_tracker = bottom"
     ],
     "language": "python",
     "metadata": {},
     "outputs": [],
     "prompt_number": 79
    },
    {
     "cell_type": "code",
     "collapsed": false,
     "input": [
      "limits_1"
     ],
     "language": "python",
     "metadata": {},
     "outputs": [
      {
       "metadata": {},
       "output_type": "pyout",
       "prompt_number": 80,
       "text": [
        "[(2.8451178073883057, 10.311962127685547),\n",
        " (10.375337600708008, 14.842413902282715),\n",
        " (15.325002670288086, 20.790081024169922)]"
       ]
      }
     ],
     "prompt_number": 80
    },
    {
     "cell_type": "code",
     "collapsed": false,
     "input": [
      "limits_1_best_cluster"
     ],
     "language": "python",
     "metadata": {},
     "outputs": [
      {
       "metadata": {},
       "output_type": "pyout",
       "prompt_number": 81,
       "text": [
        "0.0"
       ]
      }
     ],
     "prompt_number": 81
    },
    {
     "cell_type": "code",
     "collapsed": false,
     "input": [
      "atom1.distance.hist(bins=50,normed=1)\n",
      "i=0\n",
      "for limit in limits_1:\n",
      "    hist = atom1.distance.plot(kind='kde', grid=False, figsize=(6,3)).axvspan(limit[0], limit[1], color=colors[1-i], alpha=0.3)\n",
      "    i+=1\n",
      "fig = hist.get_figure()\n",
      "# fig.savefig('atom1.svg', type='svg', dpi=300)"
     ],
     "language": "python",
     "metadata": {},
     "outputs": [
      {
       "metadata": {},
       "output_type": "display_data",
       "png": "[encoded data removed]",
       "text": [
        "<matplotlib.figure.Figure at 0x7f0b1eb21990>"
       ]
      }
     ],
     "prompt_number": 82
    },
    {
     "cell_type": "heading",
     "level": 4,
     "metadata": {},
     "source": [
      "Ligand atom #2 to residue atom #2"
     ]
    },
    {
     "cell_type": "code",
     "collapsed": false,
     "input": [
      "atom2 = get_meanshift_groups(distances_df[distances_df.ligand_atom == ligand_atom2], 'distance', 0.3)\n",
      "atom2.head()"
     ],
     "language": "python",
     "metadata": {
      "scrolled": true
     },
     "outputs": [
      {
       "html": [
        "<div style=\"max-height:1000px;max-width:1500px;overflow:auto;\">\n",
        "<table border=\"1\" class=\"dataframe\">\n",
        "  <thead>\n",
        "    <tr style=\"text-align: right;\">\n",
        "      <th></th>\n",
        "      <th>frame</th>\n",
        "      <th>ligand_atom</th>\n",
        "      <th>residue_atom</th>\n",
        "      <th>distance</th>\n",
        "      <th>cluster</th>\n",
        "    </tr>\n",
        "  </thead>\n",
        "  <tbody>\n",
        "    <tr>\n",
        "      <th>1 </th>\n",
        "      <td> 1</td>\n",
        "      <td> O5</td>\n",
        "      <td> CG</td>\n",
        "      <td>  8.961330</td>\n",
        "      <td> 0</td>\n",
        "    </tr>\n",
        "    <tr>\n",
        "      <th>4 </th>\n",
        "      <td> 2</td>\n",
        "      <td> O5</td>\n",
        "      <td> CG</td>\n",
        "      <td> 10.110936</td>\n",
        "      <td> 0</td>\n",
        "    </tr>\n",
        "    <tr>\n",
        "      <th>7 </th>\n",
        "      <td> 3</td>\n",
        "      <td> O5</td>\n",
        "      <td> CG</td>\n",
        "      <td> 10.394141</td>\n",
        "      <td> 0</td>\n",
        "    </tr>\n",
        "    <tr>\n",
        "      <th>10</th>\n",
        "      <td> 4</td>\n",
        "      <td> O5</td>\n",
        "      <td> CG</td>\n",
        "      <td> 11.525586</td>\n",
        "      <td> 0</td>\n",
        "    </tr>\n",
        "    <tr>\n",
        "      <th>13</th>\n",
        "      <td> 5</td>\n",
        "      <td> O5</td>\n",
        "      <td> CG</td>\n",
        "      <td> 13.907696</td>\n",
        "      <td> 1</td>\n",
        "    </tr>\n",
        "  </tbody>\n",
        "</table>\n",
        "</div>"
       ],
       "metadata": {},
       "output_type": "pyout",
       "prompt_number": 89,
       "text": [
        "    frame ligand_atom residue_atom   distance  cluster\n",
        "1       1          O5           CG   8.961330        0\n",
        "4       2          O5           CG  10.110936        0\n",
        "7       3          O5           CG  10.394141        0\n",
        "10      4          O5           CG  11.525586        0\n",
        "13      5          O5           CG  13.907696        1"
       ]
      }
     ],
     "prompt_number": 89
    },
    {
     "cell_type": "code",
     "collapsed": false,
     "input": [
      "# how many clusters are there?\n",
      "atom2.cluster.unique()"
     ],
     "language": "python",
     "metadata": {},
     "outputs": [
      {
       "metadata": {},
       "output_type": "pyout",
       "prompt_number": 90,
       "text": [
        "array([ 0.,  1.])"
       ]
      }
     ],
     "prompt_number": 90
    },
    {
     "cell_type": "code",
     "collapsed": false,
     "input": [
      "limits_2 = []\n",
      "limits_2_best_cluster = -1\n",
      "bottom_tracker = float(np.inf)\n",
      "\n",
      "for cluster in atom2.cluster.unique():\n",
      "    bottom = min(atom2[atom2.cluster == cluster].distance)\n",
      "    top = max(atom2[atom2.cluster == cluster].distance)\n",
      "    if bottom<bottom_tracker:\n",
      "        limits_2_best_cluster = cluster\n",
      "    limits_2.append((bottom,top))\n",
      "    \n",
      "    bottom_tracker = bottom"
     ],
     "language": "python",
     "metadata": {},
     "outputs": [],
     "prompt_number": 91
    },
    {
     "cell_type": "code",
     "collapsed": false,
     "input": [
      "limits_2"
     ],
     "language": "python",
     "metadata": {},
     "outputs": [
      {
       "metadata": {},
       "output_type": "pyout",
       "prompt_number": 92,
       "text": [
        "[(4.2251944541931152, 13.663453102111816),\n",
        " (13.681456565856934, 25.384336471557617)]"
       ]
      }
     ],
     "prompt_number": 92
    },
    {
     "cell_type": "code",
     "collapsed": false,
     "input": [
      "limits_2_best_cluster"
     ],
     "language": "python",
     "metadata": {},
     "outputs": [
      {
       "metadata": {},
       "output_type": "pyout",
       "prompt_number": 93,
       "text": [
        "0.0"
       ]
      }
     ],
     "prompt_number": 93
    },
    {
     "cell_type": "code",
     "collapsed": false,
     "input": [
      "atom2.distance.hist(bins=50,normed=1)\n",
      "i=0\n",
      "for limit in limits_2:\n",
      "    hist = atom2.distance.plot(kind='kde', grid=False, figsize=(6,3)).axvspan(limit[0], limit[1], color=colors[1-i], alpha=0.3)\n",
      "    i+=1\n",
      "fig = hist.get_figure()\n",
      "# fig.savefig('atom2.svg', type='svg', dpi=300)"
     ],
     "language": "python",
     "metadata": {},
     "outputs": [
      {
       "metadata": {},
       "output_type": "display_data",
       "png": "[encoded data removed]",
       "text": [
        "<matplotlib.figure.Figure at 0x7f0b1e69a710>"
       ]
      }
     ],
     "prompt_number": 94
    },
    {
     "cell_type": "heading",
     "level": 4,
     "metadata": {},
     "source": [
      "Ligand atom #3 to residue atom #3"
     ]
    },
    {
     "cell_type": "code",
     "collapsed": false,
     "input": [
      "atom3 = get_meanshift_groups(distances_df[distances_df.ligand_atom == ligand_atom3], 'distance', 0.4)\n",
      "atom3.head()"
     ],
     "language": "python",
     "metadata": {
      "scrolled": true
     },
     "outputs": [
      {
       "html": [
        "<div style=\"max-height:1000px;max-width:1500px;overflow:auto;\">\n",
        "<table border=\"1\" class=\"dataframe\">\n",
        "  <thead>\n",
        "    <tr style=\"text-align: right;\">\n",
        "      <th></th>\n",
        "      <th>frame</th>\n",
        "      <th>ligand_atom</th>\n",
        "      <th>residue_atom</th>\n",
        "      <th>distance</th>\n",
        "      <th>cluster</th>\n",
        "    </tr>\n",
        "  </thead>\n",
        "  <tbody>\n",
        "    <tr>\n",
        "      <th>2 </th>\n",
        "      <td> 1</td>\n",
        "      <td> O1</td>\n",
        "      <td> OE2</td>\n",
        "      <td> 3.707231</td>\n",
        "      <td> 0</td>\n",
        "    </tr>\n",
        "    <tr>\n",
        "      <th>5 </th>\n",
        "      <td> 2</td>\n",
        "      <td> O1</td>\n",
        "      <td> OE2</td>\n",
        "      <td> 7.311285</td>\n",
        "      <td> 0</td>\n",
        "    </tr>\n",
        "    <tr>\n",
        "      <th>8 </th>\n",
        "      <td> 3</td>\n",
        "      <td> O1</td>\n",
        "      <td> OE2</td>\n",
        "      <td> 5.051554</td>\n",
        "      <td> 0</td>\n",
        "    </tr>\n",
        "    <tr>\n",
        "      <th>11</th>\n",
        "      <td> 4</td>\n",
        "      <td> O1</td>\n",
        "      <td> OE2</td>\n",
        "      <td> 4.956389</td>\n",
        "      <td> 0</td>\n",
        "    </tr>\n",
        "    <tr>\n",
        "      <th>14</th>\n",
        "      <td> 5</td>\n",
        "      <td> O1</td>\n",
        "      <td> OE2</td>\n",
        "      <td> 5.119088</td>\n",
        "      <td> 0</td>\n",
        "    </tr>\n",
        "  </tbody>\n",
        "</table>\n",
        "</div>"
       ],
       "metadata": {},
       "output_type": "pyout",
       "prompt_number": 96,
       "text": [
        "    frame ligand_atom residue_atom  distance  cluster\n",
        "2       1          O1          OE2  3.707231        0\n",
        "5       2          O1          OE2  7.311285        0\n",
        "8       3          O1          OE2  5.051554        0\n",
        "11      4          O1          OE2  4.956389        0\n",
        "14      5          O1          OE2  5.119088        0"
       ]
      }
     ],
     "prompt_number": 96
    },
    {
     "cell_type": "code",
     "collapsed": false,
     "input": [
      "# how many clusters are there?\n",
      "atom3.cluster.unique()"
     ],
     "language": "python",
     "metadata": {},
     "outputs": [
      {
       "metadata": {},
       "output_type": "pyout",
       "prompt_number": 97,
       "text": [
        "array([ 0.,  1.,  2.])"
       ]
      }
     ],
     "prompt_number": 97
    },
    {
     "cell_type": "code",
     "collapsed": true,
     "input": [
      "limits_3 = []\n",
      "limits_3_best_cluster = -1\n",
      "bottom_tracker = float(np.inf)\n",
      "\n",
      "for cluster in atom3.cluster.unique():\n",
      "    bottom = min(atom3[atom3.cluster == cluster].distance)\n",
      "    top = max(atom3[atom3.cluster == cluster].distance)\n",
      "    if bottom<bottom_tracker:\n",
      "        limits_3_best_cluster = cluster\n",
      "    limits_3.append((bottom,top))\n",
      "    \n",
      "    bottom_tracker = bottom"
     ],
     "language": "python",
     "metadata": {},
     "outputs": [],
     "prompt_number": 98
    },
    {
     "cell_type": "code",
     "collapsed": false,
     "input": [
      "limits_3"
     ],
     "language": "python",
     "metadata": {},
     "outputs": [
      {
       "metadata": {},
       "output_type": "pyout",
       "prompt_number": 99,
       "text": [
        "[(2.7379524707794189, 12.811120986938477),\n",
        " (12.959020614624023, 21.611143112182617),\n",
        " (26.746091842651367, 26.746091842651367)]"
       ]
      }
     ],
     "prompt_number": 99
    },
    {
     "cell_type": "code",
     "collapsed": false,
     "input": [
      "limits_3_best_cluster"
     ],
     "language": "python",
     "metadata": {},
     "outputs": [
      {
       "metadata": {},
       "output_type": "pyout",
       "prompt_number": 100,
       "text": [
        "0.0"
       ]
      }
     ],
     "prompt_number": 100
    },
    {
     "cell_type": "code",
     "collapsed": false,
     "input": [
      "atom3.distance.hist(bins=50,normed=1)\n",
      "i=0\n",
      "for limit in limits_3:\n",
      "    hist = atom3.distance.plot(kind='kde', grid=False, figsize=(6,3)).axvspan(limit[0], limit[1], color=colors[1-i], alpha=0.3)\n",
      "    i+=1\n",
      "fig = hist.get_figure()\n",
      "# fig.savefig('atom3.svg', type='svg', dpi=300)"
     ],
     "language": "python",
     "metadata": {},
     "outputs": [
      {
       "metadata": {},
       "output_type": "display_data",
       "png": "[encoded data removed]",
       "text": [
        "<matplotlib.figure.Figure at 0x7f0b1e83b310>"
       ]
      }
     ],
     "prompt_number": 101
    },
    {
     "cell_type": "heading",
     "level": 1,
     "metadata": {},
     "source": [
      "Choosing frames"
     ]
    },
    {
     "cell_type": "code",
     "collapsed": false,
     "input": [
      "frames = distances_df.frame.unique().tolist()\n",
      "distances_df_frame_indexed = distances_df.set_index('frame')"
     ],
     "language": "python",
     "metadata": {},
     "outputs": [],
     "prompt_number": 102
    },
    {
     "cell_type": "code",
     "collapsed": false,
     "input": [
      "frames_cluster_dict = defaultdict(dict)\n",
      "\n",
      "for frame in frames:\n",
      "    frame_cluster = ''\n",
      "    for ligand_atom in distances_df_frame_indexed.loc[frame].ligand_atom.values:\n",
      "        if ligand_atom == ligand_atom1:\n",
      "            if atom1[atom1.frame == frame].cluster.unique()[0] == limits_1_best_cluster:\n",
      "                frame_cluster += '1'\n",
      "            else:\n",
      "                frame_cluster += '0'\n",
      "        if ligand_atom == ligand_atom2:\n",
      "            if atom2[atom2.frame == frame].cluster.unique()[0] == limits_2_best_cluster:\n",
      "                frame_cluster += '1'\n",
      "            else:\n",
      "                frame_cluster += '0'\n",
      "        if ligand_atom == ligand_atom3:\n",
      "            if atom3[atom3.frame == frame].cluster.unique()[0] == limits_3_best_cluster:\n",
      "                frame_cluster += '1'\n",
      "            else:\n",
      "                frame_cluster += '0'\n",
      "    frames_cluster_dict[frame]['frame_cluster'] = frame_cluster\n",
      "    \n",
      "frames_cluster_df = pd.DataFrame.from_dict(frames_cluster_dict, orient='index')"
     ],
     "language": "python",
     "metadata": {},
     "outputs": [],
     "prompt_number": 57
    },
    {
     "cell_type": "code",
     "collapsed": false,
     "input": [
      "frames_cluster_df.head()"
     ],
     "language": "python",
     "metadata": {
      "scrolled": true
     },
     "outputs": [
      {
       "html": [
        "<div style=\"max-height:1000px;max-width:1500px;overflow:auto;\">\n",
        "<table border=\"1\" class=\"dataframe\">\n",
        "  <thead>\n",
        "    <tr style=\"text-align: right;\">\n",
        "      <th></th>\n",
        "      <th>frame_cluster</th>\n",
        "    </tr>\n",
        "  </thead>\n",
        "  <tbody>\n",
        "    <tr>\n",
        "      <th>1</th>\n",
        "      <td> 111</td>\n",
        "    </tr>\n",
        "    <tr>\n",
        "      <th>2</th>\n",
        "      <td> 111</td>\n",
        "    </tr>\n",
        "    <tr>\n",
        "      <th>3</th>\n",
        "      <td> 111</td>\n",
        "    </tr>\n",
        "    <tr>\n",
        "      <th>4</th>\n",
        "      <td> 111</td>\n",
        "    </tr>\n",
        "    <tr>\n",
        "      <th>5</th>\n",
        "      <td> 101</td>\n",
        "    </tr>\n",
        "  </tbody>\n",
        "</table>\n",
        "</div>"
       ],
       "metadata": {},
       "output_type": "pyout",
       "prompt_number": 58,
       "text": [
        "  frame_cluster\n",
        "1           111\n",
        "2           111\n",
        "3           111\n",
        "4           111\n",
        "5           101"
       ]
      }
     ],
     "prompt_number": 58
    },
    {
     "cell_type": "code",
     "collapsed": false,
     "input": [
      "frames_cluster_df.frame_cluster.value_counts()/len(frames_cluster_df)"
     ],
     "language": "python",
     "metadata": {},
     "outputs": [
      {
       "metadata": {},
       "output_type": "pyout",
       "prompt_number": 59,
       "text": [
        "111    0.740\n",
        "101    0.102\n",
        "001    0.076\n",
        "110    0.024\n",
        "011    0.024\n",
        "100    0.012\n",
        "010    0.012\n",
        "000    0.010\n",
        "dtype: float64"
       ]
      }
     ],
     "prompt_number": 59
    },
    {
     "cell_type": "code",
     "collapsed": false,
     "input": [
      "# how many clusters do you wanna choose for free energy calculations?\n",
      "num_clusters = 3\n",
      "\n",
      "cluster_and_counts = frames_cluster_df.frame_cluster.value_counts()[:num_clusters].to_dict()\n",
      "print 'CLUSTERS FOR MMPBSA:', cluster_and_counts.keys()"
     ],
     "language": "python",
     "metadata": {},
     "outputs": [
      {
       "output_type": "stream",
       "stream": "stdout",
       "text": [
        "CLUSTERS FOR MMPBSA: ['001', '101', '111']\n"
       ]
      }
     ],
     "prompt_number": 60
    },
    {
     "cell_type": "heading",
     "level": 1,
     "metadata": {
      "collapsed": true
     },
     "source": [
      "Visualizing clusters in VMD"
     ]
    },
    {
     "cell_type": "markdown",
     "metadata": {},
     "source": [
      "### Instructions\n",
      "- Run code below\n",
      "- Load in first frame of cluster\n",
      "- Copy and paste the code for loading in the rest of the frames in the VMD terminal\n",
      "    - make sure the molecule number is correct\n",
      "    - make sure filenames are correct"
     ]
    },
    {
     "cell_type": "code",
     "collapsed": false,
     "input": [
      "i = 0\n",
      "for clus in cluster_and_counts.keys():\n",
      "    print 'CLUSTER:'\n",
      "    print clus\n",
      "    print \n",
      "    \n",
      "    first = frames_cluster_df[frames_cluster_df.frame_cluster == clus].index.tolist()[0]\n",
      "    print 'LOAD THIS ONE MANUALLY:'\n",
      "    print '3BWM-%.3d_receptor_DNC_docked.pdb' % (first)\n",
      "    print\n",
      "    \n",
      "    print 'PASTE THIS CODE INTO VMD TERMINAL:'\n",
      "    print '*******START COPY HERE*******'\n",
      "    print 'set lst%s' % clus, '{',\n",
      "    for x in frames_cluster_df[frames_cluster_df.frame_cluster == clus].index.tolist()[1:]:\n",
      "        print '3BWM-%.3d_receptor_DNC_docked.pdb' % (x),\n",
      "    print '}'\n",
      "    print\n",
      "    print 'foreach i $lst%s { mol addfile \"$i\" type {pdb} first 0 last -1 step 10 waitfor 1 %d }' % (clus,i)\n",
      "    i += 1\n",
      "    print '*******END COPY HERE*******'\n",
      "    print\n",
      "    print"
     ],
     "language": "python",
     "metadata": {},
     "outputs": [
      {
       "output_type": "stream",
       "stream": "stdout",
       "text": [
        "CLUSTER:\n",
        "001\n",
        "\n",
        "LOAD THIS ONE MANUALLY:\n",
        "3BWM-006_receptor_DNC_docked.pdb\n",
        "\n",
        "PASTE THIS CODE INTO VMD TERMINAL:\n",
        "*******START COPY HERE*******\n",
        "set lst001 { 3BWM-007_receptor_DNC_docked.pdb 3BWM-010_receptor_DNC_docked.pdb 3BWM-011_receptor_DNC_docked.pdb 3BWM-027_receptor_DNC_docked.pdb 3BWM-028_receptor_DNC_docked.pdb 3BWM-029_receptor_DNC_docked.pdb 3BWM-030_receptor_DNC_docked.pdb 3BWM-033_receptor_DNC_docked.pdb 3BWM-043_receptor_DNC_docked.pdb 3BWM-045_receptor_DNC_docked.pdb 3BWM-048_receptor_DNC_docked.pdb 3BWM-069_receptor_DNC_docked.pdb 3BWM-070_receptor_DNC_docked.pdb 3BWM-071_receptor_DNC_docked.pdb 3BWM-075_receptor_DNC_docked.pdb 3BWM-141_receptor_DNC_docked.pdb 3BWM-233_receptor_DNC_docked.pdb 3BWM-253_receptor_DNC_docked.pdb 3BWM-263_receptor_DNC_docked.pdb 3BWM-265_receptor_DNC_docked.pdb 3BWM-270_receptor_DNC_docked.pdb 3BWM-271_receptor_DNC_docked.pdb 3BWM-273_receptor_DNC_docked.pdb 3BWM-274_receptor_DNC_docked.pdb 3BWM-381_receptor_DNC_docked.pdb 3BWM-382_receptor_DNC_docked.pdb 3BWM-390_receptor_DNC_docked.pdb 3BWM-404_receptor_DNC_docked.pdb 3BWM-411_receptor_DNC_docked.pdb 3BWM-417_receptor_DNC_docked.pdb 3BWM-421_receptor_DNC_docked.pdb 3BWM-429_receptor_DNC_docked.pdb 3BWM-454_receptor_DNC_docked.pdb 3BWM-459_receptor_DNC_docked.pdb 3BWM-466_receptor_DNC_docked.pdb 3BWM-478_receptor_DNC_docked.pdb 3BWM-489_receptor_DNC_docked.pdb }\n",
        "\n",
        "foreach i $lst001 { mol addfile \"$i\" type {pdb} first 0 last -1 step 10 waitfor 1 0 }\n",
        "*******END COPY HERE*******\n",
        "\n",
        "\n",
        "CLUSTER:\n",
        "101\n",
        "\n",
        "LOAD THIS ONE MANUALLY:\n",
        "3BWM-005_receptor_DNC_docked.pdb\n",
        "\n",
        "PASTE THIS CODE INTO VMD TERMINAL:\n",
        "*******START COPY HERE*******\n",
        "set lst101 { 3BWM-023_receptor_DNC_docked.pdb 3BWM-035_receptor_DNC_docked.pdb 3BWM-044_receptor_DNC_docked.pdb 3BWM-059_receptor_DNC_docked.pdb 3BWM-083_receptor_DNC_docked.pdb 3BWM-086_receptor_DNC_docked.pdb 3BWM-090_receptor_DNC_docked.pdb 3BWM-108_receptor_DNC_docked.pdb 3BWM-116_receptor_DNC_docked.pdb 3BWM-117_receptor_DNC_docked.pdb 3BWM-125_receptor_DNC_docked.pdb 3BWM-132_receptor_DNC_docked.pdb 3BWM-137_receptor_DNC_docked.pdb 3BWM-143_receptor_DNC_docked.pdb 3BWM-144_receptor_DNC_docked.pdb 3BWM-147_receptor_DNC_docked.pdb 3BWM-155_receptor_DNC_docked.pdb 3BWM-157_receptor_DNC_docked.pdb 3BWM-159_receptor_DNC_docked.pdb 3BWM-161_receptor_DNC_docked.pdb 3BWM-162_receptor_DNC_docked.pdb 3BWM-165_receptor_DNC_docked.pdb 3BWM-166_receptor_DNC_docked.pdb 3BWM-168_receptor_DNC_docked.pdb 3BWM-173_receptor_DNC_docked.pdb 3BWM-174_receptor_DNC_docked.pdb 3BWM-177_receptor_DNC_docked.pdb 3BWM-179_receptor_DNC_docked.pdb 3BWM-180_receptor_DNC_docked.pdb 3BWM-190_receptor_DNC_docked.pdb 3BWM-194_receptor_DNC_docked.pdb 3BWM-198_receptor_DNC_docked.pdb 3BWM-199_receptor_DNC_docked.pdb 3BWM-202_receptor_DNC_docked.pdb 3BWM-205_receptor_DNC_docked.pdb 3BWM-208_receptor_DNC_docked.pdb 3BWM-212_receptor_DNC_docked.pdb 3BWM-215_receptor_DNC_docked.pdb 3BWM-218_receptor_DNC_docked.pdb 3BWM-228_receptor_DNC_docked.pdb 3BWM-229_receptor_DNC_docked.pdb 3BWM-243_receptor_DNC_docked.pdb 3BWM-244_receptor_DNC_docked.pdb 3BWM-245_receptor_DNC_docked.pdb 3BWM-248_receptor_DNC_docked.pdb 3BWM-249_receptor_DNC_docked.pdb 3BWM-395_receptor_DNC_docked.pdb 3BWM-420_receptor_DNC_docked.pdb 3BWM-437_receptor_DNC_docked.pdb 3BWM-486_receptor_DNC_docked.pdb }\n",
        "\n",
        "foreach i $lst101 { mol addfile \"$i\" type {pdb} first 0 last -1 step 10 waitfor 1 1 }\n",
        "*******END COPY HERE*******\n",
        "\n",
        "\n",
        "CLUSTER:\n",
        "111\n",
        "\n",
        "LOAD THIS ONE MANUALLY:\n",
        "3BWM-001_receptor_DNC_docked.pdb\n",
        "\n",
        "PASTE THIS CODE INTO VMD TERMINAL:\n",
        "*******START COPY HERE*******\n",
        "set lst111 { 3BWM-002_receptor_DNC_docked.pdb 3BWM-003_receptor_DNC_docked.pdb 3BWM-004_receptor_DNC_docked.pdb 3BWM-008_receptor_DNC_docked.pdb 3BWM-009_receptor_DNC_docked.pdb 3BWM-012_receptor_DNC_docked.pdb 3BWM-013_receptor_DNC_docked.pdb 3BWM-014_receptor_DNC_docked.pdb 3BWM-015_receptor_DNC_docked.pdb 3BWM-016_receptor_DNC_docked.pdb 3BWM-017_receptor_DNC_docked.pdb 3BWM-018_receptor_DNC_docked.pdb 3BWM-020_receptor_DNC_docked.pdb 3BWM-021_receptor_DNC_docked.pdb 3BWM-022_receptor_DNC_docked.pdb 3BWM-024_receptor_DNC_docked.pdb 3BWM-025_receptor_DNC_docked.pdb 3BWM-026_receptor_DNC_docked.pdb 3BWM-031_receptor_DNC_docked.pdb 3BWM-032_receptor_DNC_docked.pdb 3BWM-034_receptor_DNC_docked.pdb 3BWM-036_receptor_DNC_docked.pdb 3BWM-037_receptor_DNC_docked.pdb 3BWM-038_receptor_DNC_docked.pdb 3BWM-039_receptor_DNC_docked.pdb 3BWM-040_receptor_DNC_docked.pdb 3BWM-041_receptor_DNC_docked.pdb 3BWM-042_receptor_DNC_docked.pdb 3BWM-046_receptor_DNC_docked.pdb 3BWM-047_receptor_DNC_docked.pdb 3BWM-049_receptor_DNC_docked.pdb 3BWM-050_receptor_DNC_docked.pdb 3BWM-051_receptor_DNC_docked.pdb 3BWM-052_receptor_DNC_docked.pdb 3BWM-053_receptor_DNC_docked.pdb 3BWM-054_receptor_DNC_docked.pdb 3BWM-055_receptor_DNC_docked.pdb 3BWM-056_receptor_DNC_docked.pdb 3BWM-057_receptor_DNC_docked.pdb 3BWM-058_receptor_DNC_docked.pdb 3BWM-060_receptor_DNC_docked.pdb 3BWM-061_receptor_DNC_docked.pdb 3BWM-062_receptor_DNC_docked.pdb 3BWM-063_receptor_DNC_docked.pdb 3BWM-064_receptor_DNC_docked.pdb 3BWM-065_receptor_DNC_docked.pdb 3BWM-066_receptor_DNC_docked.pdb 3BWM-067_receptor_DNC_docked.pdb 3BWM-068_receptor_DNC_docked.pdb 3BWM-072_receptor_DNC_docked.pdb 3BWM-073_receptor_DNC_docked.pdb 3BWM-074_receptor_DNC_docked.pdb 3BWM-076_receptor_DNC_docked.pdb 3BWM-077_receptor_DNC_docked.pdb 3BWM-078_receptor_DNC_docked.pdb 3BWM-079_receptor_DNC_docked.pdb 3BWM-080_receptor_DNC_docked.pdb 3BWM-081_receptor_DNC_docked.pdb 3BWM-082_receptor_DNC_docked.pdb 3BWM-084_receptor_DNC_docked.pdb 3BWM-085_receptor_DNC_docked.pdb 3BWM-088_receptor_DNC_docked.pdb 3BWM-089_receptor_DNC_docked.pdb 3BWM-091_receptor_DNC_docked.pdb 3BWM-092_receptor_DNC_docked.pdb 3BWM-093_receptor_DNC_docked.pdb 3BWM-095_receptor_DNC_docked.pdb 3BWM-096_receptor_DNC_docked.pdb 3BWM-099_receptor_DNC_docked.pdb 3BWM-100_receptor_DNC_docked.pdb 3BWM-101_receptor_DNC_docked.pdb 3BWM-102_receptor_DNC_docked.pdb 3BWM-103_receptor_DNC_docked.pdb 3BWM-104_receptor_DNC_docked.pdb 3BWM-105_receptor_DNC_docked.pdb 3BWM-106_receptor_DNC_docked.pdb 3BWM-107_receptor_DNC_docked.pdb 3BWM-109_receptor_DNC_docked.pdb 3BWM-110_receptor_DNC_docked.pdb 3BWM-111_receptor_DNC_docked.pdb 3BWM-112_receptor_DNC_docked.pdb 3BWM-115_receptor_DNC_docked.pdb 3BWM-118_receptor_DNC_docked.pdb 3BWM-119_receptor_DNC_docked.pdb 3BWM-120_receptor_DNC_docked.pdb 3BWM-121_receptor_DNC_docked.pdb 3BWM-122_receptor_DNC_docked.pdb 3BWM-123_receptor_DNC_docked.pdb 3BWM-124_receptor_DNC_docked.pdb 3BWM-126_receptor_DNC_docked.pdb 3BWM-127_receptor_DNC_docked.pdb 3BWM-128_receptor_DNC_docked.pdb 3BWM-129_receptor_DNC_docked.pdb 3BWM-130_receptor_DNC_docked.pdb 3BWM-131_receptor_DNC_docked.pdb 3BWM-133_receptor_DNC_docked.pdb 3BWM-134_receptor_DNC_docked.pdb 3BWM-135_receptor_DNC_docked.pdb 3BWM-139_receptor_DNC_docked.pdb 3BWM-140_receptor_DNC_docked.pdb 3BWM-142_receptor_DNC_docked.pdb 3BWM-145_receptor_DNC_docked.pdb 3BWM-146_receptor_DNC_docked.pdb 3BWM-148_receptor_DNC_docked.pdb 3BWM-149_receptor_DNC_docked.pdb 3BWM-150_receptor_DNC_docked.pdb 3BWM-151_receptor_DNC_docked.pdb 3BWM-152_receptor_DNC_docked.pdb 3BWM-153_receptor_DNC_docked.pdb 3BWM-154_receptor_DNC_docked.pdb 3BWM-156_receptor_DNC_docked.pdb 3BWM-158_receptor_DNC_docked.pdb 3BWM-160_receptor_DNC_docked.pdb 3BWM-163_receptor_DNC_docked.pdb 3BWM-164_receptor_DNC_docked.pdb 3BWM-167_receptor_DNC_docked.pdb 3BWM-169_receptor_DNC_docked.pdb 3BWM-170_receptor_DNC_docked.pdb 3BWM-172_receptor_DNC_docked.pdb 3BWM-178_receptor_DNC_docked.pdb 3BWM-181_receptor_DNC_docked.pdb 3BWM-184_receptor_DNC_docked.pdb 3BWM-185_receptor_DNC_docked.pdb 3BWM-186_receptor_DNC_docked.pdb 3BWM-187_receptor_DNC_docked.pdb 3BWM-189_receptor_DNC_docked.pdb 3BWM-191_receptor_DNC_docked.pdb 3BWM-192_receptor_DNC_docked.pdb 3BWM-195_receptor_DNC_docked.pdb 3BWM-201_receptor_DNC_docked.pdb 3BWM-203_receptor_DNC_docked.pdb 3BWM-209_receptor_DNC_docked.pdb 3BWM-213_receptor_DNC_docked.pdb 3BWM-214_receptor_DNC_docked.pdb 3BWM-216_receptor_DNC_docked.pdb 3BWM-217_receptor_DNC_docked.pdb 3BWM-219_receptor_DNC_docked.pdb 3BWM-221_receptor_DNC_docked.pdb 3BWM-222_receptor_DNC_docked.pdb 3BWM-223_receptor_DNC_docked.pdb 3BWM-224_receptor_DNC_docked.pdb 3BWM-225_receptor_DNC_docked.pdb 3BWM-226_receptor_DNC_docked.pdb 3BWM-227_receptor_DNC_docked.pdb 3BWM-230_receptor_DNC_docked.pdb 3BWM-231_receptor_DNC_docked.pdb 3BWM-234_receptor_DNC_docked.pdb 3BWM-235_receptor_DNC_docked.pdb 3BWM-236_receptor_DNC_docked.pdb 3BWM-237_receptor_DNC_docked.pdb 3BWM-239_receptor_DNC_docked.pdb 3BWM-240_receptor_DNC_docked.pdb 3BWM-241_receptor_DNC_docked.pdb 3BWM-242_receptor_DNC_docked.pdb 3BWM-247_receptor_DNC_docked.pdb 3BWM-250_receptor_DNC_docked.pdb 3BWM-251_receptor_DNC_docked.pdb 3BWM-252_receptor_DNC_docked.pdb 3BWM-254_receptor_DNC_docked.pdb 3BWM-255_receptor_DNC_docked.pdb 3BWM-256_receptor_DNC_docked.pdb 3BWM-257_receptor_DNC_docked.pdb 3BWM-258_receptor_DNC_docked.pdb 3BWM-259_receptor_DNC_docked.pdb 3BWM-261_receptor_DNC_docked.pdb 3BWM-262_receptor_DNC_docked.pdb 3BWM-264_receptor_DNC_docked.pdb 3BWM-266_receptor_DNC_docked.pdb 3BWM-267_receptor_DNC_docked.pdb 3BWM-268_receptor_DNC_docked.pdb 3BWM-269_receptor_DNC_docked.pdb 3BWM-272_receptor_DNC_docked.pdb 3BWM-275_receptor_DNC_docked.pdb 3BWM-276_receptor_DNC_docked.pdb 3BWM-277_receptor_DNC_docked.pdb 3BWM-278_receptor_DNC_docked.pdb 3BWM-279_receptor_DNC_docked.pdb 3BWM-280_receptor_DNC_docked.pdb 3BWM-281_receptor_DNC_docked.pdb 3BWM-282_receptor_DNC_docked.pdb 3BWM-283_receptor_DNC_docked.pdb 3BWM-284_receptor_DNC_docked.pdb 3BWM-285_receptor_DNC_docked.pdb 3BWM-286_receptor_DNC_docked.pdb 3BWM-287_receptor_DNC_docked.pdb 3BWM-288_receptor_DNC_docked.pdb 3BWM-289_receptor_DNC_docked.pdb 3BWM-290_receptor_DNC_docked.pdb 3BWM-291_receptor_DNC_docked.pdb 3BWM-292_receptor_DNC_docked.pdb 3BWM-293_receptor_DNC_docked.pdb 3BWM-294_receptor_DNC_docked.pdb 3BWM-295_receptor_DNC_docked.pdb 3BWM-296_receptor_DNC_docked.pdb 3BWM-297_receptor_DNC_docked.pdb 3BWM-298_receptor_DNC_docked.pdb 3BWM-299_receptor_DNC_docked.pdb 3BWM-301_receptor_DNC_docked.pdb 3BWM-302_receptor_DNC_docked.pdb 3BWM-303_receptor_DNC_docked.pdb 3BWM-304_receptor_DNC_docked.pdb 3BWM-305_receptor_DNC_docked.pdb 3BWM-306_receptor_DNC_docked.pdb 3BWM-307_receptor_DNC_docked.pdb 3BWM-308_receptor_DNC_docked.pdb 3BWM-310_receptor_DNC_docked.pdb 3BWM-311_receptor_DNC_docked.pdb 3BWM-312_receptor_DNC_docked.pdb 3BWM-313_receptor_DNC_docked.pdb 3BWM-314_receptor_DNC_docked.pdb 3BWM-315_receptor_DNC_docked.pdb 3BWM-316_receptor_DNC_docked.pdb 3BWM-318_receptor_DNC_docked.pdb 3BWM-319_receptor_DNC_docked.pdb 3BWM-320_receptor_DNC_docked.pdb 3BWM-321_receptor_DNC_docked.pdb 3BWM-322_receptor_DNC_docked.pdb 3BWM-323_receptor_DNC_docked.pdb 3BWM-324_receptor_DNC_docked.pdb 3BWM-325_receptor_DNC_docked.pdb 3BWM-326_receptor_DNC_docked.pdb 3BWM-327_receptor_DNC_docked.pdb 3BWM-328_receptor_DNC_docked.pdb 3BWM-329_receptor_DNC_docked.pdb 3BWM-330_receptor_DNC_docked.pdb 3BWM-331_receptor_DNC_docked.pdb 3BWM-332_receptor_DNC_docked.pdb 3BWM-334_receptor_DNC_docked.pdb 3BWM-335_receptor_DNC_docked.pdb 3BWM-336_receptor_DNC_docked.pdb 3BWM-337_receptor_DNC_docked.pdb 3BWM-338_receptor_DNC_docked.pdb 3BWM-339_receptor_DNC_docked.pdb 3BWM-340_receptor_DNC_docked.pdb 3BWM-341_receptor_DNC_docked.pdb 3BWM-342_receptor_DNC_docked.pdb 3BWM-343_receptor_DNC_docked.pdb 3BWM-345_receptor_DNC_docked.pdb 3BWM-346_receptor_DNC_docked.pdb 3BWM-347_receptor_DNC_docked.pdb 3BWM-348_receptor_DNC_docked.pdb 3BWM-349_receptor_DNC_docked.pdb 3BWM-350_receptor_DNC_docked.pdb 3BWM-351_receptor_DNC_docked.pdb 3BWM-352_receptor_DNC_docked.pdb 3BWM-353_receptor_DNC_docked.pdb 3BWM-354_receptor_DNC_docked.pdb 3BWM-355_receptor_DNC_docked.pdb 3BWM-356_receptor_DNC_docked.pdb 3BWM-357_receptor_DNC_docked.pdb 3BWM-358_receptor_DNC_docked.pdb 3BWM-359_receptor_DNC_docked.pdb 3BWM-360_receptor_DNC_docked.pdb 3BWM-361_receptor_DNC_docked.pdb 3BWM-362_receptor_DNC_docked.pdb 3BWM-363_receptor_DNC_docked.pdb 3BWM-364_receptor_DNC_docked.pdb 3BWM-365_receptor_DNC_docked.pdb 3BWM-366_receptor_DNC_docked.pdb 3BWM-367_receptor_DNC_docked.pdb 3BWM-368_receptor_DNC_docked.pdb 3BWM-369_receptor_DNC_docked.pdb 3BWM-370_receptor_DNC_docked.pdb 3BWM-371_receptor_DNC_docked.pdb 3BWM-372_receptor_DNC_docked.pdb 3BWM-373_receptor_DNC_docked.pdb 3BWM-374_receptor_DNC_docked.pdb 3BWM-375_receptor_DNC_docked.pdb 3BWM-376_receptor_DNC_docked.pdb 3BWM-377_receptor_DNC_docked.pdb 3BWM-378_receptor_DNC_docked.pdb 3BWM-379_receptor_DNC_docked.pdb 3BWM-380_receptor_DNC_docked.pdb 3BWM-383_receptor_DNC_docked.pdb 3BWM-384_receptor_DNC_docked.pdb 3BWM-385_receptor_DNC_docked.pdb 3BWM-386_receptor_DNC_docked.pdb 3BWM-387_receptor_DNC_docked.pdb 3BWM-388_receptor_DNC_docked.pdb 3BWM-389_receptor_DNC_docked.pdb 3BWM-391_receptor_DNC_docked.pdb 3BWM-392_receptor_DNC_docked.pdb 3BWM-393_receptor_DNC_docked.pdb 3BWM-394_receptor_DNC_docked.pdb 3BWM-396_receptor_DNC_docked.pdb 3BWM-397_receptor_DNC_docked.pdb 3BWM-398_receptor_DNC_docked.pdb 3BWM-399_receptor_DNC_docked.pdb 3BWM-400_receptor_DNC_docked.pdb 3BWM-401_receptor_DNC_docked.pdb 3BWM-402_receptor_DNC_docked.pdb 3BWM-403_receptor_DNC_docked.pdb 3BWM-405_receptor_DNC_docked.pdb 3BWM-406_receptor_DNC_docked.pdb 3BWM-407_receptor_DNC_docked.pdb 3BWM-408_receptor_DNC_docked.pdb 3BWM-409_receptor_DNC_docked.pdb 3BWM-410_receptor_DNC_docked.pdb 3BWM-412_receptor_DNC_docked.pdb 3BWM-415_receptor_DNC_docked.pdb 3BWM-416_receptor_DNC_docked.pdb 3BWM-418_receptor_DNC_docked.pdb 3BWM-419_receptor_DNC_docked.pdb 3BWM-422_receptor_DNC_docked.pdb 3BWM-423_receptor_DNC_docked.pdb 3BWM-424_receptor_DNC_docked.pdb 3BWM-425_receptor_DNC_docked.pdb 3BWM-426_receptor_DNC_docked.pdb 3BWM-427_receptor_DNC_docked.pdb 3BWM-428_receptor_DNC_docked.pdb 3BWM-430_receptor_DNC_docked.pdb 3BWM-431_receptor_DNC_docked.pdb 3BWM-432_receptor_DNC_docked.pdb 3BWM-433_receptor_DNC_docked.pdb 3BWM-434_receptor_DNC_docked.pdb 3BWM-435_receptor_DNC_docked.pdb 3BWM-436_receptor_DNC_docked.pdb 3BWM-438_receptor_DNC_docked.pdb 3BWM-439_receptor_DNC_docked.pdb 3BWM-440_receptor_DNC_docked.pdb 3BWM-442_receptor_DNC_docked.pdb 3BWM-443_receptor_DNC_docked.pdb 3BWM-444_receptor_DNC_docked.pdb 3BWM-445_receptor_DNC_docked.pdb 3BWM-446_receptor_DNC_docked.pdb 3BWM-448_receptor_DNC_docked.pdb 3BWM-449_receptor_DNC_docked.pdb 3BWM-450_receptor_DNC_docked.pdb 3BWM-451_receptor_DNC_docked.pdb 3BWM-453_receptor_DNC_docked.pdb 3BWM-455_receptor_DNC_docked.pdb 3BWM-456_receptor_DNC_docked.pdb 3BWM-457_receptor_DNC_docked.pdb 3BWM-458_receptor_DNC_docked.pdb 3BWM-460_receptor_DNC_docked.pdb 3BWM-461_receptor_DNC_docked.pdb 3BWM-462_receptor_DNC_docked.pdb 3BWM-464_receptor_DNC_docked.pdb 3BWM-465_receptor_DNC_docked.pdb 3BWM-467_receptor_DNC_docked.pdb 3BWM-468_receptor_DNC_docked.pdb 3BWM-469_receptor_DNC_docked.pdb 3BWM-470_receptor_DNC_docked.pdb 3BWM-472_receptor_DNC_docked.pdb 3BWM-473_receptor_DNC_docked.pdb 3BWM-474_receptor_DNC_docked.pdb 3BWM-475_receptor_DNC_docked.pdb 3BWM-476_receptor_DNC_docked.pdb 3BWM-477_receptor_DNC_docked.pdb 3BWM-479_receptor_DNC_docked.pdb 3BWM-480_receptor_DNC_docked.pdb 3BWM-481_receptor_DNC_docked.pdb 3BWM-482_receptor_DNC_docked.pdb 3BWM-483_receptor_DNC_docked.pdb 3BWM-484_receptor_DNC_docked.pdb 3BWM-485_receptor_DNC_docked.pdb 3BWM-487_receptor_DNC_docked.pdb 3BWM-488_receptor_DNC_docked.pdb 3BWM-490_receptor_DNC_docked.pdb 3BWM-491_receptor_DNC_docked.pdb 3BWM-492_receptor_DNC_docked.pdb 3BWM-493_receptor_DNC_docked.pdb 3BWM-494_receptor_DNC_docked.pdb 3BWM-495_receptor_DNC_docked.pdb 3BWM-496_receptor_DNC_docked.pdb 3BWM-497_receptor_DNC_docked.pdb 3BWM-498_receptor_DNC_docked.pdb 3BWM-499_receptor_DNC_docked.pdb 3BWM-500_receptor_DNC_docked.pdb }\n",
        "\n",
        "foreach i $lst111 { mol addfile \"$i\" type {pdb} first 0 last -1 step 10 waitfor 1 2 }\n",
        "*******END COPY HERE*******\n",
        "\n",
        "\n"
       ]
      }
     ],
     "prompt_number": 113
    },
    {
     "cell_type": "heading",
     "level": 1,
     "metadata": {},
     "source": [
      "Random notes"
     ]
    },
    {
     "cell_type": "markdown",
     "metadata": {},
     "source": [
      "Got info for loading in multiple pdbs into one molecule here:\n",
      "\n",
      "load-mpdbs.vmd (http://www.ks.uiuc.edu/Research/vmd/mailing_list/vmd-l/13045.html)\n",
      "\n",
      "Run this by doing:\n",
      "\n",
      "\t1) Save it as load-mpdbs.vmd\n",
      "\t2) vmd -pdb first.pdb -e ~/bin/load-mpdbs.vmd -args otherdirectory/*.pdb "
     ]
    },
    {
     "cell_type": "raw",
     "metadata": {},
     "source": [
      "# content of load-mpdbs.vmd \n",
      "\n",
      "foreach i $argv {\n",
      " echo \" \"\n",
      " echo \"ADDing pdb file $i to initial molec \"\n",
      " mol addfile \"$i\" type {pdb} first 0 last -1 step 10 waitfor 1 0\n",
      " echo \" \"\n",
      "}"
     ]
    }
   ],
   "metadata": {}
  }
 ]
}