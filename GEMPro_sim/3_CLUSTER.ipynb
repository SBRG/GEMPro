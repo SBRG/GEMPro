{
 "metadata": {
  "kernelspec": {
   "display_name": "Python 2",
   "language": "python",
   "name": "python2"
  },
  "language_info": {
   "codemirror_mode": {
    "name": "ipython",
    "version": 2
   },
   "file_extension": ".py",
   "mimetype": "text/x-python",
   "name": "python",
   "nbconvert_exporter": "python",
   "pygments_lexer": "ipython2",
   "version": "2.7.8"
  },
  "name": ""
 },
 "nbformat": 3,
 "nbformat_minor": 0,
 "worksheets": [
  {
   "cells": [
    {
     "cell_type": "heading",
     "level": 2,
     "metadata": {},
     "source": [
      "GOAL: Cluster docked positions of ligands for further analysis"
     ]
    },
    {
     "cell_type": "code",
     "collapsed": true,
     "input": [
      "research_folder = '/home/nathan/projects/'\n",
      "dock_base_folder = research_folder + 'DOCK/'"
     ],
     "language": "python",
     "metadata": {},
     "outputs": [],
     "prompt_number": 2
    },
    {
     "cell_type": "code",
     "collapsed": true,
     "input": [
      "from Bio.PDB import *"
     ],
     "language": "python",
     "metadata": {},
     "outputs": [],
     "prompt_number": 3
    },
    {
     "cell_type": "code",
     "collapsed": true,
     "input": [
      "import numpy as np\n",
      "import pandas as pd\n",
      "from collections import defaultdict"
     ],
     "language": "python",
     "metadata": {},
     "outputs": [],
     "prompt_number": 4
    },
    {
     "cell_type": "code",
     "collapsed": true,
     "input": [
      "%matplotlib inline"
     ],
     "language": "python",
     "metadata": {},
     "outputs": [],
     "prompt_number": 5
    },
    {
     "cell_type": "heading",
     "level": 3,
     "metadata": {},
     "source": [
      "load in COMT crystal structure"
     ]
    },
    {
     "cell_type": "code",
     "collapsed": false,
     "input": [
      "crystal = dock_base_folder + 'COMT/2_MD/2_SNP_3BWY/3_HALO/original/3BWY.pdb'"
     ],
     "language": "python",
     "metadata": {},
     "outputs": [],
     "prompt_number": 6
    },
    {
     "cell_type": "code",
     "collapsed": false,
     "input": [
      "parser = PDBParser()\n",
      "structure = parser.get_structure('COMT_SNP', crystal)\n",
      "model = structure[0]\n",
      "chain = model['A']"
     ],
     "language": "python",
     "metadata": {},
     "outputs": [],
     "prompt_number": 7
    },
    {
     "cell_type": "heading",
     "level": 3,
     "metadata": {},
     "source": [
      "get cartesian coordinates of ligand"
     ]
    },
    {
     "cell_type": "code",
     "collapsed": false,
     "input": [
      "# <Residue DNC het=H_DNC resseq=302 icode= >\n",
      "# <Residue SAM het=H_SAM resseq=301 icode= >\n",
      "dnc = chain[('H_DNC', 302, ' ')]"
     ],
     "language": "python",
     "metadata": {},
     "outputs": [],
     "prompt_number": 8
    },
    {
     "cell_type": "code",
     "collapsed": false,
     "input": [
      "ligand_xyz_dict = defaultdict(dict)\n",
      "\n",
      "first = True\n",
      "for atom in dnc.get_list():\n",
      "    ligand_xyz_dict[atom.get_name()]['atom_x'] = atom.get_coord()[0]\n",
      "    ligand_xyz_dict[atom.get_name()]['atom_y'] = atom.get_coord()[1]\n",
      "    ligand_xyz_dict[atom.get_name()]['atom_z'] = atom.get_coord()[2]\n",
      "\n",
      "ligand_xyz_df = pd.DataFrame.from_dict(ligand_xyz_dict, orient='index')"
     ],
     "language": "python",
     "metadata": {},
     "outputs": [],
     "prompt_number": 9
    },
    {
     "cell_type": "code",
     "collapsed": false,
     "input": [
      "ligand_xyz_df"
     ],
     "language": "python",
     "metadata": {
      "scrolled": false
     },
     "outputs": [
      {
       "html": [
        "<div style=\"max-height:1000px;max-width:1500px;overflow:auto;\">\n",
        "<table border=\"1\" class=\"dataframe\">\n",
        "  <thead>\n",
        "    <tr style=\"text-align: right;\">\n",
        "      <th></th>\n",
        "      <th>atom_x</th>\n",
        "      <th>atom_y</th>\n",
        "      <th>atom_z</th>\n",
        "    </tr>\n",
        "  </thead>\n",
        "  <tbody>\n",
        "    <tr>\n",
        "      <th>C1</th>\n",
        "      <td>-4.459</td>\n",
        "      <td>-12.588</td>\n",
        "      <td>-16.309999</td>\n",
        "    </tr>\n",
        "    <tr>\n",
        "      <th>C2</th>\n",
        "      <td>-4.334</td>\n",
        "      <td>-11.243</td>\n",
        "      <td>-16.820999</td>\n",
        "    </tr>\n",
        "    <tr>\n",
        "      <th>C3</th>\n",
        "      <td>-3.763</td>\n",
        "      <td>-11.081</td>\n",
        "      <td>-18.145000</td>\n",
        "    </tr>\n",
        "    <tr>\n",
        "      <th>C4</th>\n",
        "      <td>-3.437</td>\n",
        "      <td>-12.210</td>\n",
        "      <td>-18.874001</td>\n",
        "    </tr>\n",
        "    <tr>\n",
        "      <th>C5</th>\n",
        "      <td>-3.575</td>\n",
        "      <td>-13.480</td>\n",
        "      <td>-18.358999</td>\n",
        "    </tr>\n",
        "    <tr>\n",
        "      <th>C6</th>\n",
        "      <td>-4.088</td>\n",
        "      <td>-13.680</td>\n",
        "      <td>-17.097000</td>\n",
        "    </tr>\n",
        "    <tr>\n",
        "      <th>N1</th>\n",
        "      <td>-3.555</td>\n",
        "      <td> -9.837</td>\n",
        "      <td>-18.693001</td>\n",
        "    </tr>\n",
        "    <tr>\n",
        "      <th>N2</th>\n",
        "      <td>-3.165</td>\n",
        "      <td>-14.609</td>\n",
        "      <td>-19.129000</td>\n",
        "    </tr>\n",
        "    <tr>\n",
        "      <th>O1</th>\n",
        "      <td>-4.968</td>\n",
        "      <td>-12.663</td>\n",
        "      <td>-15.084000</td>\n",
        "    </tr>\n",
        "    <tr>\n",
        "      <th>O2</th>\n",
        "      <td>-4.624</td>\n",
        "      <td>-10.254</td>\n",
        "      <td>-16.000000</td>\n",
        "    </tr>\n",
        "    <tr>\n",
        "      <th>O3</th>\n",
        "      <td>-3.982</td>\n",
        "      <td> -8.842</td>\n",
        "      <td>-18.190001</td>\n",
        "    </tr>\n",
        "    <tr>\n",
        "      <th>O4</th>\n",
        "      <td>-2.913</td>\n",
        "      <td> -9.738</td>\n",
        "      <td>-19.764999</td>\n",
        "    </tr>\n",
        "    <tr>\n",
        "      <th>O5</th>\n",
        "      <td>-2.726</td>\n",
        "      <td>-14.406</td>\n",
        "      <td>-20.229000</td>\n",
        "    </tr>\n",
        "    <tr>\n",
        "      <th>O6</th>\n",
        "      <td>-3.200</td>\n",
        "      <td>-15.720</td>\n",
        "      <td>-18.606001</td>\n",
        "    </tr>\n",
        "  </tbody>\n",
        "</table>\n",
        "</div>"
       ],
       "metadata": {},
       "output_type": "pyout",
       "prompt_number": 10,
       "text": [
        "    atom_x  atom_y     atom_z\n",
        "C1  -4.459 -12.588 -16.309999\n",
        "C2  -4.334 -11.243 -16.820999\n",
        "C3  -3.763 -11.081 -18.145000\n",
        "C4  -3.437 -12.210 -18.874001\n",
        "C5  -3.575 -13.480 -18.358999\n",
        "C6  -4.088 -13.680 -17.097000\n",
        "N1  -3.555  -9.837 -18.693001\n",
        "N2  -3.165 -14.609 -19.129000\n",
        "O1  -4.968 -12.663 -15.084000\n",
        "O2  -4.624 -10.254 -16.000000\n",
        "O3  -3.982  -8.842 -18.190001\n",
        "O4  -2.913  -9.738 -19.764999\n",
        "O5  -2.726 -14.406 -20.229000\n",
        "O6  -3.200 -15.720 -18.606001"
       ]
      }
     ],
     "prompt_number": 10
    },
    {
     "cell_type": "heading",
     "level": 3,
     "metadata": {},
     "source": [
      "choose 3 representative points on ligand"
     ]
    },
    {
     "cell_type": "heading",
     "level": 5,
     "metadata": {},
     "source": [
      "method 1: sorting coordinates, choosing head? or tail?"
     ]
    },
    {
     "cell_type": "code",
     "collapsed": false,
     "input": [
      "rep_atoms_sort_tail = []\n",
      "rep_atoms_sort_tail.append(ligand_xyz_df.sort('atom_x').tail(1).index[0].strip())\n",
      "rep_atoms_sort_tail.append(ligand_xyz_df.sort('atom_y').tail(1).index[0].strip())\n",
      "rep_atoms_sort_tail.append(ligand_xyz_df.sort('atom_z').tail(1).index[0].strip())"
     ],
     "language": "python",
     "metadata": {},
     "outputs": [],
     "prompt_number": 11
    },
    {
     "cell_type": "code",
     "collapsed": false,
     "input": [
      "rep_atoms_sort_tail"
     ],
     "language": "python",
     "metadata": {},
     "outputs": [
      {
       "metadata": {},
       "output_type": "pyout",
       "prompt_number": 12,
       "text": [
        "['O5', 'O3', 'O1']"
       ]
      }
     ],
     "prompt_number": 12
    },
    {
     "cell_type": "code",
     "collapsed": false,
     "input": [
      "rep_atoms_sort_head = []\n",
      "rep_atoms_sort_head.append(ligand_xyz_df.sort('atom_x').head(1).index[0].strip())\n",
      "rep_atoms_sort_head.append(ligand_xyz_df.sort('atom_y').head(1).index[0].strip())\n",
      "rep_atoms_sort_head.append(ligand_xyz_df.sort('atom_z').head(1).index[0].strip())"
     ],
     "language": "python",
     "metadata": {},
     "outputs": [],
     "prompt_number": 13
    },
    {
     "cell_type": "code",
     "collapsed": false,
     "input": [
      "rep_atoms_sort_head"
     ],
     "language": "python",
     "metadata": {},
     "outputs": [
      {
       "metadata": {},
       "output_type": "pyout",
       "prompt_number": 14,
       "text": [
        "['O1', 'O6', 'O5']"
       ]
      }
     ],
     "prompt_number": 14
    },
    {
     "cell_type": "heading",
     "level": 5,
     "metadata": {},
     "source": [
      "method 2: k-means clustering of 3d coordinates"
     ]
    },
    {
     "cell_type": "code",
     "collapsed": true,
     "input": [
      "from scipy.cluster.vq import kmeans2,vq"
     ],
     "language": "python",
     "metadata": {},
     "outputs": [],
     "prompt_number": 15
    },
    {
     "cell_type": "code",
     "collapsed": false,
     "input": [
      "ligand_xyz_df.as_matrix()"
     ],
     "language": "python",
     "metadata": {},
     "outputs": [
      {
       "metadata": {},
       "output_type": "pyout",
       "prompt_number": 16,
       "text": [
        "array([[ -4.45900011, -12.5880003 , -16.30999947],\n",
        "       [ -4.33400011, -11.24300003, -16.82099915],\n",
        "       [ -3.76300001, -11.08100033, -18.14500046],\n",
        "       [ -3.43700004, -12.21000004, -18.87400055],\n",
        "       [ -3.57500005, -13.47999954, -18.35899925],\n",
        "       [ -4.08799982, -13.68000031, -17.09700012],\n",
        "       [ -3.55500007,  -9.83699989, -18.69300079],\n",
        "       [ -3.16499996, -14.60900021, -19.12899971],\n",
        "       [ -4.96799994, -12.66300011, -15.08399963],\n",
        "       [ -4.62400007, -10.25399971, -16.        ],\n",
        "       [ -3.98200011,  -8.84200001, -18.19000053],\n",
        "       [ -2.91300011,  -9.73799992, -19.76499939],\n",
        "       [ -2.72600007, -14.40600014, -20.22900009],\n",
        "       [ -3.20000005, -15.72000027, -18.6060009 ]])"
       ]
      }
     ],
     "prompt_number": 16
    },
    {
     "cell_type": "code",
     "collapsed": false,
     "input": [
      "# get kmeans centroids and also assignments to the data\n",
      "centroids,idx = kmeans2(ligand_xyz_df.as_matrix(),3)"
     ],
     "language": "python",
     "metadata": {},
     "outputs": [],
     "prompt_number": 17
    },
    {
     "cell_type": "code",
     "collapsed": false,
     "input": [
      "# 3d plot!\n",
      "import plotly.plotly as py\n",
      "from plotly.graph_objs import *\n",
      "\n",
      "centroid_points = Scatter3d(\n",
      "    x = centroids.transpose()[0],\n",
      "    y = centroids.transpose()[1],\n",
      "    z = centroids.transpose()[2],\n",
      "    mode='markers',\n",
      "    marker = Marker(\n",
      "             symbol = 'cross',\n",
      "             size=12\n",
      "    )\n",
      ")\n",
      "\n",
      "cluster0 = Scatter3d(\n",
      "    x = ligand_xyz_df.as_matrix()[idx==0,0],\n",
      "    y = ligand_xyz_df.as_matrix()[idx==0,1],\n",
      "    z = ligand_xyz_df.as_matrix()[idx==0,2],\n",
      "    mode='markers',\n",
      "    marker = Marker(size=16)\n",
      ")\n",
      "\n",
      "cluster1 = Scatter3d(\n",
      "    x = ligand_xyz_df.as_matrix()[idx==1,0],\n",
      "    y = ligand_xyz_df.as_matrix()[idx==1,1],\n",
      "    z = ligand_xyz_df.as_matrix()[idx==1,2],\n",
      "    mode='markers',\n",
      "    marker = Marker(size=16)\n",
      ")\n",
      "\n",
      "cluster2 = Scatter3d(\n",
      "    x = ligand_xyz_df.as_matrix()[idx==2,0],\n",
      "    y = ligand_xyz_df.as_matrix()[idx==2,1],\n",
      "    z = ligand_xyz_df.as_matrix()[idx==2,2],\n",
      "    mode='markers',\n",
      "    marker = Marker(size=16)\n",
      ")\n",
      "\n",
      "data = Data([centroid_points,cluster0,cluster1,cluster2])\n",
      "fig = Figure(data=data)\n",
      "py.iplot(fig)"
     ],
     "language": "python",
     "metadata": {},
     "outputs": [
      {
       "html": [
        "<iframe id=\"igraph\" scrolling=\"no\" style=\"border:none;\"seamless=\"seamless\" src=\"https://plot.ly/~nmih/171.embed\" height=\"525\" width=\"100%\"></iframe>"
       ],
       "metadata": {},
       "output_type": "pyout",
       "prompt_number": 18,
       "text": [
        "<plotly.tools.PlotlyDisplay at 0x7f199744c610>"
       ]
      }
     ],
     "prompt_number": 18
    },
    {
     "cell_type": "code",
     "collapsed": false,
     "input": [
      "# for now! choose points closest to centroids\n",
      "# TODO: test if distance from other centroids should be taken into account\n",
      "\n",
      "closest_c0_dist = float(np.inf)\n",
      "closest_c0_point = np.zeros(3)\n",
      "for c0 in ligand_xyz_df.as_matrix()[idx==0]:\n",
      "    if np.linalg.norm(centroids[0]-c0) < closest_c0_dist:\n",
      "        closest_c0_dist = np.linalg.norm(centroids[0]-c0)\n",
      "        closest_c0_point = c0\n",
      "print closest_c0_point\n",
      "    \n",
      "closest_c1_dist = float(np.inf)\n",
      "closest_c1_point = np.zeros(3)\n",
      "for c1 in ligand_xyz_df.as_matrix()[idx==1]:\n",
      "    if np.linalg.norm(centroids[1]-c1) < closest_c1_dist:\n",
      "        closest_c1_dist = np.linalg.norm(centroids[0]-c1)\n",
      "        closest_c1_point = c1\n",
      "print closest_c1_point\n",
      "\n",
      "closest_c2_dist = float(np.inf)\n",
      "closest_c2_point = np.zeros(3)\n",
      "for c2 in ligand_xyz_df.as_matrix()[idx==2]:\n",
      "    if np.linalg.norm(centroids[2]-c2) < closest_c2_dist:\n",
      "        closest_c2_dist = np.linalg.norm(centroids[0]-c2)\n",
      "        closest_c2_point = c2\n",
      "print closest_c2_point"
     ],
     "language": "python",
     "metadata": {},
     "outputs": [
      {
       "output_type": "stream",
       "stream": "stdout",
       "text": [
        "[ -4.45900011 -12.5880003  -16.30999947]\n",
        "[ -3.20000005 -15.72000027 -18.6060009 ]\n",
        "[ -2.91300011  -9.73799992 -19.76499939]\n"
       ]
      }
     ],
     "prompt_number": 34
    },
    {
     "cell_type": "code",
     "collapsed": false,
     "input": [
      "rep_atoms_kmeans = []\n",
      "rep_atoms_kmeans.append(ligand_xyz_df[(ligand_xyz_df.atom_x == closest_c0_point[0]) & (ligand_xyz_df.atom_y == closest_c0_point[1]) & (ligand_xyz_df.atom_z == closest_c0_point[2])].index[0].strip())\n",
      "rep_atoms_kmeans.append(ligand_xyz_df[(ligand_xyz_df.atom_x == closest_c1_point[0]) & (ligand_xyz_df.atom_y == closest_c1_point[1]) & (ligand_xyz_df.atom_z == closest_c1_point[2])].index[0].strip())\n",
      "rep_atoms_kmeans.append(ligand_xyz_df[(ligand_xyz_df.atom_x == closest_c2_point[0]) & (ligand_xyz_df.atom_y == closest_c2_point[1]) & (ligand_xyz_df.atom_z == closest_c2_point[2])].index[0].strip())"
     ],
     "language": "python",
     "metadata": {},
     "outputs": [],
     "prompt_number": 35
    },
    {
     "cell_type": "code",
     "collapsed": false,
     "input": [
      "rep_atoms_kmeans"
     ],
     "language": "python",
     "metadata": {},
     "outputs": [
      {
       "metadata": {},
       "output_type": "pyout",
       "prompt_number": 36,
       "text": [
        "['C1', 'O6', 'O4']"
       ]
      }
     ],
     "prompt_number": 36
    },
    {
     "cell_type": "heading",
     "level": 3,
     "metadata": {
      "collapsed": true
     },
     "source": [
      "get residues in proximity of these 3 points"
     ]
    },
    {
     "cell_type": "code",
     "collapsed": false,
     "input": [
      "rep_atoms_sort_tail"
     ],
     "language": "python",
     "metadata": {},
     "outputs": [
      {
       "metadata": {},
       "output_type": "pyout",
       "prompt_number": 37,
       "text": [
        "['O5', 'O3', 'O1']"
       ]
      }
     ],
     "prompt_number": 37
    },
    {
     "cell_type": "code",
     "collapsed": false,
     "input": [
      "def get_closest_coord(ref_point, dict_of_coords):\n",
      "    closest_dist = float(np.inf)\n",
      "    closest_id = None\n",
      "    closest_point = None\n",
      "    for k,coord in dict_of_coords.iteritems():\n",
      "        if np.linalg.norm(coord-ref_point) < closest_dist:\n",
      "            closest_dist = np.linalg.norm(coord-ref_point)\n",
      "            closest_point = coord\n",
      "            closest_id = k\n",
      "    return closest_id, closest_point"
     ],
     "language": "python",
     "metadata": {},
     "outputs": [],
     "prompt_number": 38
    },
    {
     "cell_type": "code",
     "collapsed": false,
     "input": [
      "import sys\n",
      "rep_interactions = []\n",
      "for x in rep_atoms_sort_tail:\n",
      "    print x\n",
      "    # for each of the \"representative atoms\", get the neighbor list\n",
      "    coord = np.array(ligand_xyz_df.loc[x])\n",
      "    dist = 5.0\n",
      "    ns = NeighborSearch(Selection.unfold_entities(structure, 'A'))\n",
      "    neighbors = ns.search(coord, dist) # 5.0 for distance in angstrom\n",
      "    residue_list = Selection.unfold_entities(neighbors, 'R') # R for residues\n",
      "    atom_list = Selection.unfold_entities(neighbors, 'A')\n",
      "\n",
      "#     print 'NEIGHBORS WITHIN %d ANGSTROMS OF %s' % (dist, x)\n",
      "#     print 'RESIDUES:', residue_list\n",
      "#     print 'ATOMS:', atom_list\n",
      "#     print\n",
      "\n",
      "    # now for each of the atoms in the neighbor list, pick the closest one to the representative atom\n",
      "    coords_to_pick_from = {}\n",
      "    for a in atom_list:\n",
      "        # choosing atoms that are part of residues, not hetero atoms (could use them though..)\n",
      "        if a.get_parent().get_full_id()[3][0] == \" \":\n",
      "#             print a, a.get_parent(), a.get_full_id()\n",
      "            coords_to_pick_from[a.get_full_id()] = a.get_coord()\n",
      "    \n",
      "    print 'CLOSEST to ', x, get_closest_coord(np.array(ligand_xyz_df.loc[x]), coords_to_pick_from)\n",
      "    rep_interactions.append(get_closest_coord(np.array(ligand_xyz_df.loc[x]), coords_to_pick_from)[0])"
     ],
     "language": "python",
     "metadata": {},
     "outputs": [
      {
       "output_type": "stream",
       "stream": "stdout",
       "text": [
        "O5\n",
        "CLOSEST to  O5 (('COMT_SNP', 0, 'A', (' ', 174, ' '), ('CG', ' ')), array([  0.198     , -12.92500019, -18.45299911], dtype=float32))\n",
        "O3\n",
        "CLOSEST to  O3 (('COMT_SNP', 0, 'A', (' ', 144, ' '), ('NZ', ' ')), array([ -2.55800009,  -8.38300037, -15.5539999 ], dtype=float32))\n",
        "O1\n",
        "CLOSEST to  O1 (('COMT_SNP', 0, 'A', (' ', 199, ' '), ('OE2', ' ')), array([ -6.70100021, -14.43500042, -15.29100037], dtype=float32))\n"
       ]
      }
     ],
     "prompt_number": 39
    },
    {
     "cell_type": "code",
     "collapsed": false,
     "input": [
      "orig_distance_O5_174 = np.linalg.norm(np.array(ligand_xyz_df.loc['O5'])-chain[174]['CG'].get_coord())\n",
      "orig_distance_O3_144 = np.linalg.norm(np.array(ligand_xyz_df.loc['O3'])-chain[144]['NZ'].get_coord())\n",
      "orig_distance_O1_199 = np.linalg.norm(np.array(ligand_xyz_df.loc['O1'])-chain[199]['OE2'].get_coord())"
     ],
     "language": "python",
     "metadata": {},
     "outputs": [],
     "prompt_number": 41
    },
    {
     "cell_type": "code",
     "collapsed": false,
     "input": [
      "chain[174]"
     ],
     "language": "python",
     "metadata": {},
     "outputs": [
      {
       "metadata": {},
       "output_type": "pyout",
       "prompt_number": 42,
       "text": [
        "<Residue PRO het=  resseq=174 icode= >"
       ]
      }
     ],
     "prompt_number": 42
    },
    {
     "cell_type": "code",
     "collapsed": false,
     "input": [
      "# original DNC distance to these residues\n",
      "print orig_distance_O5_38\n",
      "print orig_distance_O3_144\n",
      "print orig_distance_O1_199"
     ],
     "language": "python",
     "metadata": {},
     "outputs": [
      {
       "output_type": "stream",
       "stream": "stdout",
       "text": [
        "3.99020414759\n",
        "3.31264731136\n",
        "2.52389217897\n"
       ]
      }
     ],
     "prompt_number": 27
    },
    {
     "cell_type": "heading",
     "level": 5,
     "metadata": {},
     "source": [
      "how to select these?"
     ]
    },
    {
     "cell_type": "markdown",
     "metadata": {},
     "source": [
      "Trp38, Lys144, Glu199"
     ]
    },
    {
     "cell_type": "code",
     "collapsed": false,
     "input": [
      "rep_interactions"
     ],
     "language": "python",
     "metadata": {},
     "outputs": [
      {
       "metadata": {},
       "output_type": "pyout",
       "prompt_number": 28,
       "text": [
        "[('COMT_WT', 0, 'A', (' ', 38, ' '), ('CH2', ' ')),\n",
        " ('COMT_WT', 0, 'A', (' ', 144, ' '), ('NZ', ' ')),\n",
        " ('COMT_WT', 0, 'A', (' ', 199, ' '), ('OE2', ' '))]"
       ]
      }
     ],
     "prompt_number": 28
    },
    {
     "cell_type": "code",
     "collapsed": false,
     "input": [
      "for interaction in rep_interactions:\n",
      "    print chain[interaction[3][1]][interaction[4][0]]"
     ],
     "language": "python",
     "metadata": {},
     "outputs": [
      {
       "output_type": "stream",
       "stream": "stdout",
       "text": [
        "<Atom CH2>\n",
        "<Atom NZ>\n",
        "<Atom OE2>\n"
       ]
      }
     ],
     "prompt_number": 29
    },
    {
     "cell_type": "heading",
     "level": 3,
     "metadata": {
      "collapsed": true
     },
     "source": [
      "saving docked pdb coordinates as separate pdb files"
     ]
    },
    {
     "cell_type": "heading",
     "level": 5,
     "metadata": {},
     "source": [
      "first load trajectory into vmd and align to crystal structure"
     ]
    },
    {
     "cell_type": "heading",
     "level": 5,
     "metadata": {},
     "source": [
      "then save separately as pdbs (http://www.ks.uiuc.edu/Research/namd/mailing_list/namd-l.2006-2007/0092.html)"
     ]
    },
    {
     "cell_type": "heading",
     "level": 3,
     "metadata": {},
     "source": [
      "loading those PDBs and getting the distances from representative points"
     ]
    },
    {
     "cell_type": "code",
     "collapsed": true,
     "input": [
      "import string\n",
      "import os"
     ],
     "language": "python",
     "metadata": {},
     "outputs": [],
     "prompt_number": 30
    },
    {
     "cell_type": "code",
     "collapsed": false,
     "input": [
      "# # docked DNC had residue position 1, but it should be 217!\n",
      "# # here we load all the pdb files and replace the residue number so biopython reads it in correctly\n",
      "# # NOTE: ALREADY RUN!! dont need to redo yet\n",
      "\n",
      "# os.chdir('/home/nathan/Desktop/DOCK/COMT/MD/HALO/3BWM/')\n",
      "\n",
      "# for i in range(1,700):\n",
      "#     docked = '/home/nathan/Desktop/DOCK/COMT/MD/HALO/3BWM/%s.pdb' % i\n",
      "\n",
      "#     with open(docked) as f:\n",
      "#         xx = f.read()\n",
      "#         newcontents = xx.replace(\"DNC A   1\", \"DNC A 217\")\n",
      "#         with open(\"%s.pdb\" % i, \"w\") as text_file:\n",
      "#             text_file.write(newcontents)"
     ],
     "language": "python",
     "metadata": {},
     "outputs": [],
     "prompt_number": 31
    },
    {
     "cell_type": "code",
     "collapsed": true,
     "input": [
      "dnc_distances_dict = defaultdict(dict)\n",
      "\n",
      "idx = 0\n",
      "for i in range(1,700):\n",
      "    docked = '/home/nathan/Desktop/DOCK/COMT/MD/HALO/3BWM/%s.pdb' % i\n",
      "\n",
      "    parser = PDBParser()\n",
      "    structure = parser.get_structure('COMT_WT_HALO_docked_%d' % i, docked)\n",
      "    model = structure[0]\n",
      "    chain = model['A']\n",
      "    \n",
      "    for j,docked_dnc_atom in enumerate(rep_atoms_sort_tail):\n",
      "#         print j, docked_dnc_atom, chain[217][docked_dnc_atom].get_coord()\n",
      "        docked_dnc_atom_object = chain[217][docked_dnc_atom]\n",
      "    #     docked_dnc_coords = chain[217][docked_dnc_atom].get_coord()\n",
      "\n",
      "        # docked pdb files residue numbers are shifted by -1\n",
      "        # TODO: check if getting by indices could be done better (interaction of atom in DNC to its closest residue)\n",
      "        interaction = rep_interactions[j]\n",
      "    #     print interaction, chain[interaction[3][1]-1][interaction[4][0]].get_coord()\n",
      "        docked_interaction_atom_object = chain[interaction[3][1]-1][interaction[4][0]]\n",
      "    #     docked_interaction_coords = chain[interaction[3][1]-1][interaction[4][0]].get_coord()\n",
      "\n",
      "        distance = docked_dnc_atom_object - docked_interaction_atom_object\n",
      "    #     distance_np = np.linalg.norm(docked_dnc_coords-docked_interaction_coords)\n",
      "\n",
      "        # frame number, DNC atom, interaction atom, distance\n",
      "        dnc_distances_dict[idx]['frame'] = i\n",
      "        dnc_distances_dict[idx]['ligand_atom'] = docked_dnc_atom\n",
      "        dnc_distances_dict[idx]['residue_atom'] = interaction[4][0]\n",
      "        dnc_distances_dict[idx]['distance'] = distance\n",
      "                              \n",
      "        idx += 1\n",
      "        \n",
      "dnc_distances_df = pd.DataFrame.from_dict(dnc_distances_dict, orient='index')"
     ],
     "language": "python",
     "metadata": {},
     "outputs": [],
     "prompt_number": 32
    },
    {
     "cell_type": "code",
     "collapsed": false,
     "input": [
      "dnc_distances_df = dnc_distances_df[['frame','ligand_atom','residue_atom','distance']]"
     ],
     "language": "python",
     "metadata": {},
     "outputs": [],
     "prompt_number": 33
    },
    {
     "cell_type": "code",
     "collapsed": true,
     "input": [
      "dnc_distances_df['distance_diff'] = np.nan"
     ],
     "language": "python",
     "metadata": {},
     "outputs": [],
     "prompt_number": 34
    },
    {
     "cell_type": "code",
     "collapsed": false,
     "input": [
      "# subtracting original distance\n",
      "for i,r in dnc_distances_df.iterrows():\n",
      "    if r.ligand_atom == 'O5':\n",
      "        distance_diff_num = r.distance - orig_distance_O5_38\n",
      "    elif r.ligand_atom == 'O3':\n",
      "        distance_diff_num = r.distance - orig_distance_O3_144\n",
      "    elif r.ligand_atom == 'O1':\n",
      "        distance_diff_num = r.distance - orig_distance_O1_199\n",
      "        \n",
      "    dnc_distances_df.loc[i, 'distance_diff'] = distance_diff_num"
     ],
     "language": "python",
     "metadata": {},
     "outputs": [],
     "prompt_number": 35
    },
    {
     "cell_type": "code",
     "collapsed": false,
     "input": [
      "dnc_distances_df.head()"
     ],
     "language": "python",
     "metadata": {},
     "outputs": [
      {
       "html": [
        "<div style=\"max-height:1000px;max-width:1500px;overflow:auto;\">\n",
        "<table border=\"1\" class=\"dataframe\">\n",
        "  <thead>\n",
        "    <tr style=\"text-align: right;\">\n",
        "      <th></th>\n",
        "      <th>frame</th>\n",
        "      <th>ligand_atom</th>\n",
        "      <th>residue_atom</th>\n",
        "      <th>distance</th>\n",
        "      <th>distance_diff</th>\n",
        "    </tr>\n",
        "  </thead>\n",
        "  <tbody>\n",
        "    <tr>\n",
        "      <th>0</th>\n",
        "      <td> 1</td>\n",
        "      <td> O5</td>\n",
        "      <td> CH2</td>\n",
        "      <td> 12.770826</td>\n",
        "      <td>  8.780622</td>\n",
        "    </tr>\n",
        "    <tr>\n",
        "      <th>1</th>\n",
        "      <td> 1</td>\n",
        "      <td> O3</td>\n",
        "      <td>  NZ</td>\n",
        "      <td> 16.930836</td>\n",
        "      <td> 13.618188</td>\n",
        "    </tr>\n",
        "    <tr>\n",
        "      <th>2</th>\n",
        "      <td> 1</td>\n",
        "      <td> O1</td>\n",
        "      <td> OE2</td>\n",
        "      <td>  9.484502</td>\n",
        "      <td>  6.960610</td>\n",
        "    </tr>\n",
        "    <tr>\n",
        "      <th>3</th>\n",
        "      <td> 2</td>\n",
        "      <td> O5</td>\n",
        "      <td> CH2</td>\n",
        "      <td> 13.183597</td>\n",
        "      <td>  9.193392</td>\n",
        "    </tr>\n",
        "    <tr>\n",
        "      <th>4</th>\n",
        "      <td> 2</td>\n",
        "      <td> O3</td>\n",
        "      <td>  NZ</td>\n",
        "      <td> 15.253319</td>\n",
        "      <td> 11.940671</td>\n",
        "    </tr>\n",
        "  </tbody>\n",
        "</table>\n",
        "</div>"
       ],
       "metadata": {},
       "output_type": "pyout",
       "prompt_number": 36,
       "text": [
        "   frame ligand_atom residue_atom   distance  distance_diff\n",
        "0      1          O5          CH2  12.770826       8.780622\n",
        "1      1          O3           NZ  16.930836      13.618188\n",
        "2      1          O1          OE2   9.484502       6.960610\n",
        "3      2          O5          CH2  13.183597       9.193392\n",
        "4      2          O3           NZ  15.253319      11.940671"
       ]
      }
     ],
     "prompt_number": 36
    },
    {
     "cell_type": "heading",
     "level": 3,
     "metadata": {},
     "source": [
      "what about center of mass?"
     ]
    },
    {
     "cell_type": "code",
     "collapsed": true,
     "input": [
      "# http://biopython.org/wiki/GSOC2010_Joao\n",
      "from Bio import Struct"
     ],
     "language": "python",
     "metadata": {},
     "outputs": [],
     "prompt_number": 38
    },
    {
     "cell_type": "code",
     "collapsed": true,
     "input": [
      "from Bio.Struct.Geometry import center_of_mass"
     ],
     "language": "python",
     "metadata": {},
     "outputs": [],
     "prompt_number": 39
    },
    {
     "cell_type": "code",
     "collapsed": false,
     "input": [
      "print center_of_mass.__doc__"
     ],
     "language": "python",
     "metadata": {},
     "outputs": [
      {
       "output_type": "stream",
       "stream": "stdout",
       "text": [
        "\n",
        "    Returns gravitic [default] or geometric center of mass of an Entity.\n",
        "    Geometric assumes all masses are equal (geometric=True)\n",
        "    \n"
       ]
      }
     ],
     "prompt_number": 40
    },
    {
     "cell_type": "code",
     "collapsed": true,
     "input": [
      "crystal_dnc_com = center_of_mass(dnc.get_list())"
     ],
     "language": "python",
     "metadata": {},
     "outputs": [],
     "prompt_number": 41
    },
    {
     "cell_type": "code",
     "collapsed": false,
     "input": [
      "dnc_com_dict = defaultdict(dict)\n",
      "\n",
      "idx = 0\n",
      "for i in range(1,700):\n",
      "    docked = '/home/nathan/Desktop/DOCK/COMT/MD/HALO/3BWM/%s.pdb' % i\n",
      "\n",
      "    parser = PDBParser()\n",
      "    structure = parser.get_structure('COMT_WT_HALO_docked_%d' % i, docked)\n",
      "    model = structure[0]\n",
      "    chain = model['A']\n",
      "    \n",
      "    docked_dnc_res_object = chain[217]\n",
      "    docked_dnc_com = center_of_mass(docked_dnc_res_object.get_list())\n",
      "    \n",
      "    distance_com = np.linalg.norm(np.array(crystal_dnc_com)-np.array(docked_dnc_com))\n",
      "    dnc_com_dict[idx]['distance_com'] = distance_com\n",
      "    \n",
      "    idx+=1\n",
      "    \n",
      "dnc_com_df = pd.DataFrame.from_dict(dnc_com_dict, orient='index')"
     ],
     "language": "python",
     "metadata": {},
     "outputs": [],
     "prompt_number": 42
    },
    {
     "cell_type": "code",
     "collapsed": false,
     "input": [
      "# dnc_com_df.distance_com.hist(bins=50)"
     ],
     "language": "python",
     "metadata": {},
     "outputs": [],
     "prompt_number": 43
    },
    {
     "cell_type": "heading",
     "level": 3,
     "metadata": {
      "collapsed": true
     },
     "source": [
      "so how to classify this data??"
     ]
    },
    {
     "cell_type": "code",
     "collapsed": false,
     "input": [
      "# http://stackoverflow.com/questions/18364026/clustering-values-by-their-proximity-in-python-machine-learning\n",
      "from sklearn.cluster import MeanShift, estimate_bandwidth\n",
      "def get_meanshift_groups(data_df, column, param=0.4):\n",
      "    new_data_df = data_df.copy()\n",
      "    new_data_df['cluster'] = np.nan\n",
      "    \n",
      "    x = data_df[column].tolist()\n",
      "    X = np.array(zip(x,np.zeros(len(x))), dtype=np.float)\n",
      "    \n",
      "    bandwidth = estimate_bandwidth(X, quantile=param)\n",
      "    ms = MeanShift(bandwidth=bandwidth, bin_seeding=True)\n",
      "    ms.fit(X)\n",
      "    labels = ms.labels_\n",
      "    cluster_centers = ms.cluster_centers_\n",
      "    \n",
      "    labels_unique = np.unique(labels)\n",
      "    \n",
      "    n_clusters_ = len(labels_unique)\n",
      "\n",
      "    for k in range(n_clusters_):\n",
      "        my_members = labels == k\n",
      "        for xxx in X[my_members, 0]:\n",
      "            new_data_df.loc[(new_data_df[new_data_df[column] == xxx].index),'cluster'] = k\n",
      "            \n",
      "    return new_data_df"
     ],
     "language": "python",
     "metadata": {},
     "outputs": [],
     "prompt_number": 44
    },
    {
     "cell_type": "heading",
     "level": 5,
     "metadata": {},
     "source": [
      "center of mass"
     ]
    },
    {
     "cell_type": "code",
     "collapsed": true,
     "input": [
      "import seaborn as sns\n",
      "sns.set_style('white')\n",
      "sns.set_context('talk')"
     ],
     "language": "python",
     "metadata": {},
     "outputs": [],
     "prompt_number": 93
    },
    {
     "cell_type": "code",
     "collapsed": true,
     "input": [
      "colors = sns.color_palette('bright')"
     ],
     "language": "python",
     "metadata": {},
     "outputs": [],
     "prompt_number": 73
    },
    {
     "cell_type": "code",
     "collapsed": false,
     "input": [
      "clustered_dnc_com_df = get_meanshift_groups(dnc_com_df, 'distance_com')"
     ],
     "language": "python",
     "metadata": {},
     "outputs": [],
     "prompt_number": 74
    },
    {
     "cell_type": "code",
     "collapsed": false,
     "input": [
      "com_limits = []\n",
      "for cluster in clustered_dnc_com_df.cluster.unique():\n",
      "    bottom = min(clustered_dnc_com_df[clustered_dnc_com_df.cluster == cluster].distance_com)\n",
      "    top = max(clustered_dnc_com_df[clustered_dnc_com_df.cluster == cluster].distance_com)\n",
      "    com_limits.append((bottom,top))"
     ],
     "language": "python",
     "metadata": {},
     "outputs": [],
     "prompt_number": 75
    },
    {
     "cell_type": "code",
     "collapsed": false,
     "input": [
      "dnc_com_df.distance_com.hist(bins=50,normed=1)\n",
      "i=0\n",
      "for com_limit in com_limits:\n",
      "    hist = dnc_com_df.distance_com.plot(kind='kde', grid=False, figsize=(6,3)).axvspan(com_limit[0], com_limit[1], color=colors[i], alpha=0.3)\n",
      "    i+=1\n",
      "fig = hist.get_figure()\n",
      "fig.savefig('dist_com.svg', type='svg', dpi=300)"
     ],
     "language": "python",
     "metadata": {},
     "outputs": [
      {
       "metadata": {},
       "output_type": "display_data",
       "png": "[encoded data removed]",
       "text": [
        "<matplotlib.figure.Figure at 0x7f5d056d8a90>"
       ]
      }
     ],
     "prompt_number": 130
    },
    {
     "cell_type": "code",
     "collapsed": false,
     "input": [
      "lowest_com_limit = float(np.inf)\n",
      "for com_limit in com_limits:\n",
      "    if com_limit[1] < lowest_com_limit:\n",
      "        lowest_com_limit = com_limit[1]\n",
      "        \n",
      "print lowest_com_limit"
     ],
     "language": "python",
     "metadata": {},
     "outputs": [
      {
       "output_type": "stream",
       "stream": "stdout",
       "text": [
        "6.15703491393\n"
       ]
      }
     ],
     "prompt_number": 97
    },
    {
     "cell_type": "code",
     "collapsed": false,
     "input": [
      "com_frames_cutoff = [x+1 for x in clustered_dnc_com_df[clustered_dnc_com_df.distance_com < lowest_com_limit].index.tolist()]"
     ],
     "language": "python",
     "metadata": {},
     "outputs": [],
     "prompt_number": 98
    },
    {
     "cell_type": "heading",
     "level": 5,
     "metadata": {},
     "source": [
      "filtering the distance DF for COM less than 5"
     ]
    },
    {
     "cell_type": "code",
     "collapsed": true,
     "input": [
      "dnc_distances_df_filtered = dnc_distances_df[dnc_distances_df.frame.isin(com_frames_cutoff)]"
     ],
     "language": "python",
     "metadata": {},
     "outputs": [],
     "prompt_number": 99
    },
    {
     "cell_type": "heading",
     "level": 5,
     "metadata": {},
     "source": [
      "DNC O5 to Trp38 CH2"
     ]
    },
    {
     "cell_type": "code",
     "collapsed": false,
     "input": [
      "clusteredO5 = get_meanshift_groups(dnc_distances_df_filtered[dnc_distances_df_filtered.ligand_atom == 'O5'], 'distance_diff', 0.3)\n",
      "clusteredO5.head()"
     ],
     "language": "python",
     "metadata": {},
     "outputs": [
      {
       "html": [
        "<div style=\"max-height:1000px;max-width:1500px;overflow:auto;\">\n",
        "<table border=\"1\" class=\"dataframe\">\n",
        "  <thead>\n",
        "    <tr style=\"text-align: right;\">\n",
        "      <th></th>\n",
        "      <th>frame</th>\n",
        "      <th>ligand_atom</th>\n",
        "      <th>residue_atom</th>\n",
        "      <th>distance</th>\n",
        "      <th>distance_diff</th>\n",
        "      <th>cluster</th>\n",
        "    </tr>\n",
        "  </thead>\n",
        "  <tbody>\n",
        "    <tr>\n",
        "      <th>6 </th>\n",
        "      <td>  3</td>\n",
        "      <td> O5</td>\n",
        "      <td> CH2</td>\n",
        "      <td>  6.014091</td>\n",
        "      <td>  2.023886</td>\n",
        "      <td> 1</td>\n",
        "    </tr>\n",
        "    <tr>\n",
        "      <th>15</th>\n",
        "      <td>  6</td>\n",
        "      <td> O5</td>\n",
        "      <td> CH2</td>\n",
        "      <td>  8.823816</td>\n",
        "      <td>  4.833612</td>\n",
        "      <td> 0</td>\n",
        "    </tr>\n",
        "    <tr>\n",
        "      <th>24</th>\n",
        "      <td>  9</td>\n",
        "      <td> O5</td>\n",
        "      <td> CH2</td>\n",
        "      <td> 15.737892</td>\n",
        "      <td> 11.747688</td>\n",
        "      <td> 0</td>\n",
        "    </tr>\n",
        "    <tr>\n",
        "      <th>42</th>\n",
        "      <td> 15</td>\n",
        "      <td> O5</td>\n",
        "      <td> CH2</td>\n",
        "      <td>  3.933409</td>\n",
        "      <td> -0.056795</td>\n",
        "      <td> 1</td>\n",
        "    </tr>\n",
        "    <tr>\n",
        "      <th>45</th>\n",
        "      <td> 16</td>\n",
        "      <td> O5</td>\n",
        "      <td> CH2</td>\n",
        "      <td>  3.403621</td>\n",
        "      <td> -0.586583</td>\n",
        "      <td> 1</td>\n",
        "    </tr>\n",
        "  </tbody>\n",
        "</table>\n",
        "</div>"
       ],
       "metadata": {},
       "output_type": "pyout",
       "prompt_number": 100,
       "text": [
        "    frame ligand_atom residue_atom   distance  distance_diff  cluster\n",
        "6       3          O5          CH2   6.014091       2.023886        1\n",
        "15      6          O5          CH2   8.823816       4.833612        0\n",
        "24      9          O5          CH2  15.737892      11.747688        0\n",
        "42     15          O5          CH2   3.933409      -0.056795        1\n",
        "45     16          O5          CH2   3.403621      -0.586583        1"
       ]
      }
     ],
     "prompt_number": 100
    },
    {
     "cell_type": "code",
     "collapsed": false,
     "input": [
      "clusteredO5.cluster.unique()"
     ],
     "language": "python",
     "metadata": {},
     "outputs": [
      {
       "metadata": {},
       "output_type": "pyout",
       "prompt_number": 101,
       "text": [
        "array([ 1.,  0.])"
       ]
      }
     ],
     "prompt_number": 101
    },
    {
     "cell_type": "code",
     "collapsed": true,
     "input": [
      "o5_limits = []\n",
      "o5_best_cluster = -1\n",
      "bottom_tracker = float(np.inf)\n",
      "\n",
      "for cluster in clusteredO5.cluster.unique():\n",
      "    bottom = min(clusteredO5[clusteredO5.cluster == cluster].distance_diff)\n",
      "    top = max(clusteredO5[clusteredO5.cluster == cluster].distance_diff)\n",
      "    if bottom<bottom_tracker:\n",
      "        o5_best_cluster = cluster\n",
      "    o5_limits.append((bottom,top))\n",
      "    \n",
      "    bottom_tracker = bottom"
     ],
     "language": "python",
     "metadata": {},
     "outputs": [],
     "prompt_number": 102
    },
    {
     "cell_type": "code",
     "collapsed": false,
     "input": [
      "o5_limits"
     ],
     "language": "python",
     "metadata": {},
     "outputs": [
      {
       "metadata": {},
       "output_type": "pyout",
       "prompt_number": 103,
       "text": [
        "[(-0.58658318925869013, 3.2970425565146253),\n",
        " (3.7775227506064222, 16.813901611080055)]"
       ]
      }
     ],
     "prompt_number": 103
    },
    {
     "cell_type": "code",
     "collapsed": false,
     "input": [
      "o5_best_cluster"
     ],
     "language": "python",
     "metadata": {},
     "outputs": [
      {
       "metadata": {},
       "output_type": "pyout",
       "prompt_number": 104,
       "text": [
        "1.0"
       ]
      }
     ],
     "prompt_number": 104
    },
    {
     "cell_type": "code",
     "collapsed": false,
     "input": [
      "clusteredO5.distance_diff.hist(bins=50,normed=1)\n",
      "i=0\n",
      "for o5_limit in o5_limits:\n",
      "    hist = clusteredO5.distance_diff.plot(kind='kde', grid=False, figsize=(6,3)).axvspan(o5_limit[0], o5_limit[1], color=colors[1-i], alpha=0.3)\n",
      "    i+=1\n",
      "fig = hist.get_figure()\n",
      "fig.savefig('dist_05.svg', type='svg', dpi=300)"
     ],
     "language": "python",
     "metadata": {},
     "outputs": [
      {
       "metadata": {},
       "output_type": "display_data",
       "png": "[encoded data removed]",
       "text": [
        "<matplotlib.figure.Figure at 0x7f5d056751d0>"
       ]
      }
     ],
     "prompt_number": 128
    },
    {
     "cell_type": "heading",
     "level": 5,
     "metadata": {},
     "source": [
      "DNC O3 to Val170 OD1"
     ]
    },
    {
     "cell_type": "code",
     "collapsed": false,
     "input": [
      "clusteredO3 = get_meanshift_groups(dnc_distances_df_filtered[dnc_distances_df_filtered.ligand_atom == 'O3'], 'distance_diff', 0.3)\n",
      "clusteredO3.head()"
     ],
     "language": "python",
     "metadata": {
      "scrolled": true
     },
     "outputs": [
      {
       "html": [
        "<div style=\"max-height:1000px;max-width:1500px;overflow:auto;\">\n",
        "<table border=\"1\" class=\"dataframe\">\n",
        "  <thead>\n",
        "    <tr style=\"text-align: right;\">\n",
        "      <th></th>\n",
        "      <th>frame</th>\n",
        "      <th>ligand_atom</th>\n",
        "      <th>residue_atom</th>\n",
        "      <th>distance</th>\n",
        "      <th>distance_diff</th>\n",
        "      <th>cluster</th>\n",
        "    </tr>\n",
        "  </thead>\n",
        "  <tbody>\n",
        "    <tr>\n",
        "      <th>7 </th>\n",
        "      <td>  3</td>\n",
        "      <td> O3</td>\n",
        "      <td> NZ</td>\n",
        "      <td> 3.394275</td>\n",
        "      <td> 0.081628</td>\n",
        "      <td> 0</td>\n",
        "    </tr>\n",
        "    <tr>\n",
        "      <th>16</th>\n",
        "      <td>  6</td>\n",
        "      <td> O3</td>\n",
        "      <td> NZ</td>\n",
        "      <td> 8.494438</td>\n",
        "      <td> 5.181791</td>\n",
        "      <td> 1</td>\n",
        "    </tr>\n",
        "    <tr>\n",
        "      <th>25</th>\n",
        "      <td>  9</td>\n",
        "      <td> O3</td>\n",
        "      <td> NZ</td>\n",
        "      <td> 8.816047</td>\n",
        "      <td> 5.503399</td>\n",
        "      <td> 1</td>\n",
        "    </tr>\n",
        "    <tr>\n",
        "      <th>43</th>\n",
        "      <td> 15</td>\n",
        "      <td> O3</td>\n",
        "      <td> NZ</td>\n",
        "      <td> 5.280034</td>\n",
        "      <td> 1.967386</td>\n",
        "      <td> 0</td>\n",
        "    </tr>\n",
        "    <tr>\n",
        "      <th>46</th>\n",
        "      <td> 16</td>\n",
        "      <td> O3</td>\n",
        "      <td> NZ</td>\n",
        "      <td> 5.308721</td>\n",
        "      <td> 1.996074</td>\n",
        "      <td> 0</td>\n",
        "    </tr>\n",
        "  </tbody>\n",
        "</table>\n",
        "</div>"
       ],
       "metadata": {},
       "output_type": "pyout",
       "prompt_number": 107,
       "text": [
        "    frame ligand_atom residue_atom  distance  distance_diff  cluster\n",
        "7       3          O3           NZ  3.394275       0.081628        0\n",
        "16      6          O3           NZ  8.494438       5.181791        1\n",
        "25      9          O3           NZ  8.816047       5.503399        1\n",
        "43     15          O3           NZ  5.280034       1.967386        0\n",
        "46     16          O3           NZ  5.308721       1.996074        0"
       ]
      }
     ],
     "prompt_number": 107
    },
    {
     "cell_type": "code",
     "collapsed": false,
     "input": [
      "clusteredO3.cluster.unique()"
     ],
     "language": "python",
     "metadata": {},
     "outputs": [
      {
       "metadata": {},
       "output_type": "pyout",
       "prompt_number": 108,
       "text": [
        "array([ 0.,  1.])"
       ]
      }
     ],
     "prompt_number": 108
    },
    {
     "cell_type": "code",
     "collapsed": false,
     "input": [
      "o3_limits = []\n",
      "o3_best_cluster = -1\n",
      "bottom_tracker = float(np.inf)\n",
      "\n",
      "for cluster in clusteredO3.cluster.unique():\n",
      "    bottom = min(clusteredO3[clusteredO3.cluster == cluster].distance_diff)\n",
      "    top = max(clusteredO3[clusteredO3.cluster == cluster].distance_diff)\n",
      "    if bottom<bottom_tracker:\n",
      "        o3_best_cluster = cluster\n",
      "    o3_limits.append((bottom,top))\n",
      "    \n",
      "    bottom_tracker = bottom"
     ],
     "language": "python",
     "metadata": {},
     "outputs": [],
     "prompt_number": 109
    },
    {
     "cell_type": "code",
     "collapsed": false,
     "input": [
      "o3_limits"
     ],
     "language": "python",
     "metadata": {},
     "outputs": [
      {
       "metadata": {},
       "output_type": "pyout",
       "prompt_number": 110,
       "text": [
        "[(-0.36707135883431974, 3.9394173935307926),\n",
        " (4.0169911697759098, 8.8316102341069644)]"
       ]
      }
     ],
     "prompt_number": 110
    },
    {
     "cell_type": "code",
     "collapsed": false,
     "input": [
      "o3_best_cluster"
     ],
     "language": "python",
     "metadata": {},
     "outputs": [
      {
       "metadata": {},
       "output_type": "pyout",
       "prompt_number": 111,
       "text": [
        "0.0"
       ]
      }
     ],
     "prompt_number": 111
    },
    {
     "cell_type": "code",
     "collapsed": false,
     "input": [
      "clusteredO3.distance_diff.hist(bins=50,normed=1)\n",
      "i=0\n",
      "for o3_limit in o3_limits:\n",
      "    hist = clusteredO3.distance_diff.plot(kind='kde', grid=False, figsize=(6,3)).axvspan(o3_limit[0], o3_limit[1], color=colors[1-i], alpha=0.3)\n",
      "    i+=1\n",
      "fig = hist.get_figure()\n",
      "fig.savefig('dist_03.svg', type='svg', dpi=300)"
     ],
     "language": "python",
     "metadata": {},
     "outputs": [
      {
       "metadata": {},
       "output_type": "display_data",
       "png": "[encoded data removed]",
       "text": [
        "<matplotlib.figure.Figure at 0x7f5d056757d0>"
       ]
      }
     ],
     "prompt_number": 127
    },
    {
     "cell_type": "heading",
     "level": 5,
     "metadata": {},
     "source": [
      "DNC O1 to Tyr199 OE2"
     ]
    },
    {
     "cell_type": "code",
     "collapsed": false,
     "input": [
      "clusteredO1 = get_meanshift_groups(dnc_distances_df_filtered[dnc_distances_df_filtered.ligand_atom == 'O1'], 'distance_diff', 0.4)\n",
      "clusteredO1.head()"
     ],
     "language": "python",
     "metadata": {
      "scrolled": true
     },
     "outputs": [
      {
       "html": [
        "<div style=\"max-height:1000px;max-width:1500px;overflow:auto;\">\n",
        "<table border=\"1\" class=\"dataframe\">\n",
        "  <thead>\n",
        "    <tr style=\"text-align: right;\">\n",
        "      <th></th>\n",
        "      <th>frame</th>\n",
        "      <th>ligand_atom</th>\n",
        "      <th>residue_atom</th>\n",
        "      <th>distance</th>\n",
        "      <th>distance_diff</th>\n",
        "      <th>cluster</th>\n",
        "    </tr>\n",
        "  </thead>\n",
        "  <tbody>\n",
        "    <tr>\n",
        "      <th>8 </th>\n",
        "      <td>  3</td>\n",
        "      <td> O1</td>\n",
        "      <td> OE2</td>\n",
        "      <td> 6.359280</td>\n",
        "      <td> 3.835387</td>\n",
        "      <td> 0</td>\n",
        "    </tr>\n",
        "    <tr>\n",
        "      <th>17</th>\n",
        "      <td>  6</td>\n",
        "      <td> O1</td>\n",
        "      <td> OE2</td>\n",
        "      <td> 2.824277</td>\n",
        "      <td> 0.300385</td>\n",
        "      <td> 1</td>\n",
        "    </tr>\n",
        "    <tr>\n",
        "      <th>26</th>\n",
        "      <td>  9</td>\n",
        "      <td> O1</td>\n",
        "      <td> OE2</td>\n",
        "      <td> 5.430467</td>\n",
        "      <td> 2.906575</td>\n",
        "      <td> 0</td>\n",
        "    </tr>\n",
        "    <tr>\n",
        "      <th>44</th>\n",
        "      <td> 15</td>\n",
        "      <td> O1</td>\n",
        "      <td> OE2</td>\n",
        "      <td> 3.039069</td>\n",
        "      <td> 0.515177</td>\n",
        "      <td> 1</td>\n",
        "    </tr>\n",
        "    <tr>\n",
        "      <th>47</th>\n",
        "      <td> 16</td>\n",
        "      <td> O1</td>\n",
        "      <td> OE2</td>\n",
        "      <td> 2.733762</td>\n",
        "      <td> 0.209870</td>\n",
        "      <td> 1</td>\n",
        "    </tr>\n",
        "  </tbody>\n",
        "</table>\n",
        "</div>"
       ],
       "metadata": {},
       "output_type": "pyout",
       "prompt_number": 114,
       "text": [
        "    frame ligand_atom residue_atom  distance  distance_diff  cluster\n",
        "8       3          O1          OE2  6.359280       3.835387        0\n",
        "17      6          O1          OE2  2.824277       0.300385        1\n",
        "26      9          O1          OE2  5.430467       2.906575        0\n",
        "44     15          O1          OE2  3.039069       0.515177        1\n",
        "47     16          O1          OE2  2.733762       0.209870        1"
       ]
      }
     ],
     "prompt_number": 114
    },
    {
     "cell_type": "code",
     "collapsed": false,
     "input": [
      "clusteredO1.cluster.unique()"
     ],
     "language": "python",
     "metadata": {},
     "outputs": [
      {
       "metadata": {},
       "output_type": "pyout",
       "prompt_number": 115,
       "text": [
        "array([ 0.,  1.])"
       ]
      }
     ],
     "prompt_number": 115
    },
    {
     "cell_type": "code",
     "collapsed": true,
     "input": [
      "o1_limits = []\n",
      "o1_best_cluster = -1\n",
      "bottom_tracker = float(np.inf)\n",
      "\n",
      "for cluster in clusteredO1.cluster.unique():\n",
      "    bottom = min(clusteredO1[clusteredO1.cluster == cluster].distance_diff)\n",
      "    top = max(clusteredO1[clusteredO1.cluster == cluster].distance_diff)\n",
      "    if bottom<bottom_tracker:\n",
      "        o1_best_cluster = cluster\n",
      "    o1_limits.append((bottom,top))\n",
      "    bottom_tracker = bottom"
     ],
     "language": "python",
     "metadata": {},
     "outputs": [],
     "prompt_number": 116
    },
    {
     "cell_type": "code",
     "collapsed": false,
     "input": [
      "o1_limits"
     ],
     "language": "python",
     "metadata": {},
     "outputs": [
      {
       "metadata": {},
       "output_type": "pyout",
       "prompt_number": 117,
       "text": [
        "[(2.7021624894599059, 6.9533178658942321),\n",
        " (0.12241624312201527, 2.541623816059027)]"
       ]
      }
     ],
     "prompt_number": 117
    },
    {
     "cell_type": "code",
     "collapsed": false,
     "input": [
      "o1_best_cluster"
     ],
     "language": "python",
     "metadata": {},
     "outputs": [
      {
       "metadata": {},
       "output_type": "pyout",
       "prompt_number": 118,
       "text": [
        "1.0"
       ]
      }
     ],
     "prompt_number": 118
    },
    {
     "cell_type": "code",
     "collapsed": false,
     "input": [
      "clusteredO1.distance_diff.hist(bins=50,normed=1)\n",
      "i=0\n",
      "for o1_limit in o1_limits:\n",
      "    hist = clusteredO1.distance_diff.plot(kind='kde', grid=False, figsize=(6,3)).axvspan(o1_limit[0], o1_limit[1], color=colors[i], alpha=0.3)\n",
      "    i+=1\n",
      "fig = hist.get_figure()\n",
      "fig.savefig('dist_01.svg', type='svg', dpi=300)"
     ],
     "language": "python",
     "metadata": {},
     "outputs": [
      {
       "metadata": {},
       "output_type": "display_data",
       "png": "[encoded data removed]",
       "text": [
        "<matplotlib.figure.Figure at 0x7f5d05133e50>"
       ]
      }
     ],
     "prompt_number": 129
    },
    {
     "cell_type": "heading",
     "level": 3,
     "metadata": {},
     "source": [
      "choosing frames"
     ]
    },
    {
     "cell_type": "heading",
     "level": 5,
     "metadata": {},
     "source": [
      "cluster information dataframe"
     ]
    },
    {
     "cell_type": "code",
     "collapsed": false,
     "input": [
      "frames = dnc_distances_df_filtered.frame.unique().tolist()\n",
      "dnc_distances_df_filtered_frameindexed = dnc_distances_df_filtered.set_index('frame')"
     ],
     "language": "python",
     "metadata": {},
     "outputs": [],
     "prompt_number": 228
    },
    {
     "cell_type": "code",
     "collapsed": false,
     "input": [
      "frames_cluster_dict = defaultdict(dict)\n",
      "\n",
      "for frame in frames:\n",
      "    frame_cluster = ''\n",
      "    for ligand_atom in dnc_distances_df_filtered_frameindexed.loc[frame].ligand_atom.values:\n",
      "        if ligand_atom == 'O5':\n",
      "            if clusteredO5[clusteredO5.frame == frame].cluster.unique()[0] == o5_best_cluster:\n",
      "                frame_cluster += '1'\n",
      "            else:\n",
      "                frame_cluster += '0'\n",
      "        if ligand_atom == 'O3':\n",
      "            if clusteredO3[clusteredO3.frame == frame].cluster.unique()[0] == o3_best_cluster:\n",
      "                frame_cluster += '1'\n",
      "            else:\n",
      "                frame_cluster += '0'\n",
      "        if ligand_atom == 'O1':\n",
      "            if clusteredO1[clusteredO1.frame == frame].cluster.unique()[0] == o1_best_cluster:\n",
      "                frame_cluster += '1'\n",
      "            else:\n",
      "                frame_cluster += '0'\n",
      "    frames_cluster_dict[frame]['frame_cluster'] = frame_cluster\n",
      "    \n",
      "frames_cluster_df = pd.DataFrame.from_dict(frames_cluster_dict, orient='index')"
     ],
     "language": "python",
     "metadata": {},
     "outputs": [],
     "prompt_number": 256
    },
    {
     "cell_type": "code",
     "collapsed": false,
     "input": [
      "frames_cluster_df"
     ],
     "language": "python",
     "metadata": {
      "scrolled": true
     },
     "outputs": [
      {
       "html": [
        "<div style=\"max-height:1000px;max-width:1500px;overflow:auto;\">\n",
        "<table border=\"1\" class=\"dataframe\">\n",
        "  <thead>\n",
        "    <tr style=\"text-align: right;\">\n",
        "      <th></th>\n",
        "      <th>frame_cluster</th>\n",
        "    </tr>\n",
        "  </thead>\n",
        "  <tbody>\n",
        "    <tr>\n",
        "      <th>3  </th>\n",
        "      <td> 110</td>\n",
        "    </tr>\n",
        "    <tr>\n",
        "      <th>6  </th>\n",
        "      <td> 001</td>\n",
        "    </tr>\n",
        "    <tr>\n",
        "      <th>9  </th>\n",
        "      <td> 000</td>\n",
        "    </tr>\n",
        "    <tr>\n",
        "      <th>15 </th>\n",
        "      <td> 111</td>\n",
        "    </tr>\n",
        "    <tr>\n",
        "      <th>16 </th>\n",
        "      <td> 111</td>\n",
        "    </tr>\n",
        "    <tr>\n",
        "      <th>17 </th>\n",
        "      <td> 111</td>\n",
        "    </tr>\n",
        "    <tr>\n",
        "      <th>19 </th>\n",
        "      <td> 111</td>\n",
        "    </tr>\n",
        "    <tr>\n",
        "      <th>20 </th>\n",
        "      <td> 010</td>\n",
        "    </tr>\n",
        "    <tr>\n",
        "      <th>21 </th>\n",
        "      <td> 111</td>\n",
        "    </tr>\n",
        "    <tr>\n",
        "      <th>24 </th>\n",
        "      <td> 111</td>\n",
        "    </tr>\n",
        "    <tr>\n",
        "      <th>25 </th>\n",
        "      <td> 111</td>\n",
        "    </tr>\n",
        "    <tr>\n",
        "      <th>26 </th>\n",
        "      <td> 001</td>\n",
        "    </tr>\n",
        "    <tr>\n",
        "      <th>27 </th>\n",
        "      <td> 111</td>\n",
        "    </tr>\n",
        "    <tr>\n",
        "      <th>28 </th>\n",
        "      <td> 111</td>\n",
        "    </tr>\n",
        "    <tr>\n",
        "      <th>32 </th>\n",
        "      <td> 111</td>\n",
        "    </tr>\n",
        "    <tr>\n",
        "      <th>33 </th>\n",
        "      <td> 001</td>\n",
        "    </tr>\n",
        "    <tr>\n",
        "      <th>34 </th>\n",
        "      <td> 001</td>\n",
        "    </tr>\n",
        "    <tr>\n",
        "      <th>35 </th>\n",
        "      <td> 010</td>\n",
        "    </tr>\n",
        "    <tr>\n",
        "      <th>36 </th>\n",
        "      <td> 111</td>\n",
        "    </tr>\n",
        "    <tr>\n",
        "      <th>37 </th>\n",
        "      <td> 000</td>\n",
        "    </tr>\n",
        "    <tr>\n",
        "      <th>38 </th>\n",
        "      <td> 000</td>\n",
        "    </tr>\n",
        "    <tr>\n",
        "      <th>41 </th>\n",
        "      <td> 011</td>\n",
        "    </tr>\n",
        "    <tr>\n",
        "      <th>43 </th>\n",
        "      <td> 001</td>\n",
        "    </tr>\n",
        "    <tr>\n",
        "      <th>45 </th>\n",
        "      <td> 011</td>\n",
        "    </tr>\n",
        "    <tr>\n",
        "      <th>48 </th>\n",
        "      <td> 011</td>\n",
        "    </tr>\n",
        "    <tr>\n",
        "      <th>49 </th>\n",
        "      <td> 011</td>\n",
        "    </tr>\n",
        "    <tr>\n",
        "      <th>50 </th>\n",
        "      <td> 011</td>\n",
        "    </tr>\n",
        "    <tr>\n",
        "      <th>51 </th>\n",
        "      <td> 011</td>\n",
        "    </tr>\n",
        "    <tr>\n",
        "      <th>52 </th>\n",
        "      <td> 000</td>\n",
        "    </tr>\n",
        "    <tr>\n",
        "      <th>53 </th>\n",
        "      <td> 011</td>\n",
        "    </tr>\n",
        "    <tr>\n",
        "      <th>...</th>\n",
        "      <td>...</td>\n",
        "    </tr>\n",
        "    <tr>\n",
        "      <th>628</th>\n",
        "      <td> 010</td>\n",
        "    </tr>\n",
        "    <tr>\n",
        "      <th>629</th>\n",
        "      <td> 000</td>\n",
        "    </tr>\n",
        "    <tr>\n",
        "      <th>630</th>\n",
        "      <td> 011</td>\n",
        "    </tr>\n",
        "    <tr>\n",
        "      <th>635</th>\n",
        "      <td> 000</td>\n",
        "    </tr>\n",
        "    <tr>\n",
        "      <th>636</th>\n",
        "      <td> 001</td>\n",
        "    </tr>\n",
        "    <tr>\n",
        "      <th>637</th>\n",
        "      <td> 000</td>\n",
        "    </tr>\n",
        "    <tr>\n",
        "      <th>642</th>\n",
        "      <td> 000</td>\n",
        "    </tr>\n",
        "    <tr>\n",
        "      <th>644</th>\n",
        "      <td> 000</td>\n",
        "    </tr>\n",
        "    <tr>\n",
        "      <th>645</th>\n",
        "      <td> 011</td>\n",
        "    </tr>\n",
        "    <tr>\n",
        "      <th>648</th>\n",
        "      <td> 010</td>\n",
        "    </tr>\n",
        "    <tr>\n",
        "      <th>650</th>\n",
        "      <td> 000</td>\n",
        "    </tr>\n",
        "    <tr>\n",
        "      <th>656</th>\n",
        "      <td> 000</td>\n",
        "    </tr>\n",
        "    <tr>\n",
        "      <th>657</th>\n",
        "      <td> 000</td>\n",
        "    </tr>\n",
        "    <tr>\n",
        "      <th>658</th>\n",
        "      <td> 010</td>\n",
        "    </tr>\n",
        "    <tr>\n",
        "      <th>659</th>\n",
        "      <td> 001</td>\n",
        "    </tr>\n",
        "    <tr>\n",
        "      <th>662</th>\n",
        "      <td> 001</td>\n",
        "    </tr>\n",
        "    <tr>\n",
        "      <th>664</th>\n",
        "      <td> 010</td>\n",
        "    </tr>\n",
        "    <tr>\n",
        "      <th>666</th>\n",
        "      <td> 001</td>\n",
        "    </tr>\n",
        "    <tr>\n",
        "      <th>668</th>\n",
        "      <td> 000</td>\n",
        "    </tr>\n",
        "    <tr>\n",
        "      <th>670</th>\n",
        "      <td> 000</td>\n",
        "    </tr>\n",
        "    <tr>\n",
        "      <th>673</th>\n",
        "      <td> 010</td>\n",
        "    </tr>\n",
        "    <tr>\n",
        "      <th>675</th>\n",
        "      <td> 000</td>\n",
        "    </tr>\n",
        "    <tr>\n",
        "      <th>676</th>\n",
        "      <td> 001</td>\n",
        "    </tr>\n",
        "    <tr>\n",
        "      <th>677</th>\n",
        "      <td> 010</td>\n",
        "    </tr>\n",
        "    <tr>\n",
        "      <th>678</th>\n",
        "      <td> 001</td>\n",
        "    </tr>\n",
        "    <tr>\n",
        "      <th>686</th>\n",
        "      <td> 000</td>\n",
        "    </tr>\n",
        "    <tr>\n",
        "      <th>690</th>\n",
        "      <td> 000</td>\n",
        "    </tr>\n",
        "    <tr>\n",
        "      <th>692</th>\n",
        "      <td> 000</td>\n",
        "    </tr>\n",
        "    <tr>\n",
        "      <th>695</th>\n",
        "      <td> 010</td>\n",
        "    </tr>\n",
        "    <tr>\n",
        "      <th>697</th>\n",
        "      <td> 000</td>\n",
        "    </tr>\n",
        "  </tbody>\n",
        "</table>\n",
        "<p>228 rows \u00d7 1 columns</p>\n",
        "</div>"
       ],
       "metadata": {},
       "output_type": "pyout",
       "prompt_number": 280,
       "text": [
        "    frame_cluster\n",
        "3             110\n",
        "6             001\n",
        "9             000\n",
        "15            111\n",
        "16            111\n",
        "17            111\n",
        "19            111\n",
        "20            010\n",
        "21            111\n",
        "24            111\n",
        "25            111\n",
        "26            001\n",
        "27            111\n",
        "28            111\n",
        "32            111\n",
        "33            001\n",
        "34            001\n",
        "35            010\n",
        "36            111\n",
        "37            000\n",
        "38            000\n",
        "41            011\n",
        "43            001\n",
        "45            011\n",
        "48            011\n",
        "49            011\n",
        "50            011\n",
        "51            011\n",
        "52            000\n",
        "53            011\n",
        "..            ...\n",
        "628           010\n",
        "629           000\n",
        "630           011\n",
        "635           000\n",
        "636           001\n",
        "637           000\n",
        "642           000\n",
        "644           000\n",
        "645           011\n",
        "648           010\n",
        "650           000\n",
        "656           000\n",
        "657           000\n",
        "658           010\n",
        "659           001\n",
        "662           001\n",
        "664           010\n",
        "666           001\n",
        "668           000\n",
        "670           000\n",
        "673           010\n",
        "675           000\n",
        "676           001\n",
        "677           010\n",
        "678           001\n",
        "686           000\n",
        "690           000\n",
        "692           000\n",
        "695           010\n",
        "697           000\n",
        "\n",
        "[228 rows x 1 columns]"
       ]
      }
     ],
     "prompt_number": 280
    },
    {
     "cell_type": "code",
     "collapsed": false,
     "input": [
      "len(frames_cluster_df.index.unique())"
     ],
     "language": "python",
     "metadata": {},
     "outputs": [
      {
       "metadata": {},
       "output_type": "pyout",
       "prompt_number": 283,
       "text": [
        "228"
       ]
      }
     ],
     "prompt_number": 283
    },
    {
     "cell_type": "code",
     "collapsed": false,
     "input": [
      "frames_cluster_df.frame_cluster.value_counts()/228"
     ],
     "language": "python",
     "metadata": {},
     "outputs": [
      {
       "metadata": {},
       "output_type": "pyout",
       "prompt_number": 284,
       "text": [
        "010    0.250000\n",
        "011    0.210526\n",
        "000    0.175439\n",
        "111    0.153509\n",
        "110    0.127193\n",
        "001    0.078947\n",
        "100    0.004386\n",
        "dtype: float64"
       ]
      }
     ],
     "prompt_number": 284
    },
    {
     "cell_type": "code",
     "collapsed": false,
     "input": [
      "cluster_and_counts = frames_cluster_df.frame_cluster.value_counts()[:5].to_dict()"
     ],
     "language": "python",
     "metadata": {},
     "outputs": [],
     "prompt_number": 267
    },
    {
     "cell_type": "code",
     "collapsed": false,
     "input": [
      "cluster_and_counts.keys()"
     ],
     "language": "python",
     "metadata": {},
     "outputs": [
      {
       "metadata": {},
       "output_type": "pyout",
       "prompt_number": 269,
       "text": [
        "['010', '011', '000', '111', '110']"
       ]
      }
     ],
     "prompt_number": 269
    },
    {
     "cell_type": "code",
     "collapsed": false,
     "input": [
      "i = 0\n",
      "for clus in sorted(cluster_and_counts.keys()):\n",
      "#     print clus, frames_cluster_df[frames_cluster_df.frame_cluster == clus].index.tolist()\n",
      "    print 'set lst%s' % clus, '{',\n",
      "    for x in frames_cluster_df[frames_cluster_df.frame_cluster == clus].index.tolist()[1:]:\n",
      "        print '%s/%d.pdb' % (clus,x),\n",
      "    print '}'\n",
      "    print\n",
      "    print 'foreach i $lst%s { mol addfile \"$i\" type {pdb} first 0 last -1 step 10 waitfor 1 %d }' % (clus,i)\n",
      "    i += 1\n",
      "    print "
     ],
     "language": "python",
     "metadata": {},
     "outputs": [
      {
       "output_type": "stream",
       "stream": "stdout",
       "text": [
        "set lst000 { 000/37.pdb 000/38.pdb 000/52.pdb 000/105.pdb 000/106.pdb 000/162.pdb 000/186.pdb 000/355.pdb 000/359.pdb 000/480.pdb 000/481.pdb 000/484.pdb 000/488.pdb 000/490.pdb 000/492.pdb 000/510.pdb 000/527.pdb 000/528.pdb 000/529.pdb 000/537.pdb 000/569.pdb 000/579.pdb 000/583.pdb 000/600.pdb 000/629.pdb 000/635.pdb 000/637.pdb 000/642.pdb 000/644.pdb 000/650.pdb 000/656.pdb 000/657.pdb 000/668.pdb 000/670.pdb 000/675.pdb 000/686.pdb 000/690.pdb 000/692.pdb 000/697.pdb }\n",
        "\n",
        "foreach i $lst000 { mol addfile \"$i\" type {pdb} first 0 last -1 step 10 waitfor 1 0 }\n",
        "\n",
        "set lst010 { 010/35.pdb 010/55.pdb 010/59.pdb 010/61.pdb 010/69.pdb 010/81.pdb 010/108.pdb 010/111.pdb 010/122.pdb 010/153.pdb 010/170.pdb 010/177.pdb 010/182.pdb 010/183.pdb 010/188.pdb 010/189.pdb 010/192.pdb 010/200.pdb 010/220.pdb 010/231.pdb 010/286.pdb 010/297.pdb 010/300.pdb 010/313.pdb 010/319.pdb 010/327.pdb 010/341.pdb 010/374.pdb 010/479.pdb 010/497.pdb 010/501.pdb 010/517.pdb 010/536.pdb 010/539.pdb 010/550.pdb 010/553.pdb 010/562.pdb 010/570.pdb 010/581.pdb 010/599.pdb 010/602.pdb 010/604.pdb 010/610.pdb 010/611.pdb 010/621.pdb 010/622.pdb 010/625.pdb 010/626.pdb 010/627.pdb 010/628.pdb 010/648.pdb 010/658.pdb 010/664.pdb 010/673.pdb 010/677.pdb 010/695.pdb }\n",
        "\n",
        "foreach i $lst010 { mol addfile \"$i\" type {pdb} first 0 last -1 step 10 waitfor 1 1 }\n",
        "\n",
        "set lst011 { 011/45.pdb 011/48.pdb 011/49.pdb 011/50.pdb 011/51.pdb 011/53.pdb 011/57.pdb 011/63.pdb 011/64.pdb 011/70.pdb 011/71.pdb 011/77.pdb 011/94.pdb 011/96.pdb 011/114.pdb 011/121.pdb 011/124.pdb 011/128.pdb 011/150.pdb 011/158.pdb 011/171.pdb 011/172.pdb 011/176.pdb 011/190.pdb 011/225.pdb 011/235.pdb 011/243.pdb 011/334.pdb 011/342.pdb 011/375.pdb 011/392.pdb 011/401.pdb 011/403.pdb 011/407.pdb 011/408.pdb 011/415.pdb 011/430.pdb 011/444.pdb 011/451.pdb 011/500.pdb 011/511.pdb 011/534.pdb 011/575.pdb 011/601.pdb 011/623.pdb 011/630.pdb 011/645.pdb }\n",
        "\n",
        "foreach i $lst011 { mol addfile \"$i\" type {pdb} first 0 last -1 step 10 waitfor 1 2 }\n",
        "\n",
        "set lst110 { 110/263.pdb 110/264.pdb 110/272.pdb 110/279.pdb 110/284.pdb 110/285.pdb 110/295.pdb 110/299.pdb 110/306.pdb 110/308.pdb 110/312.pdb 110/317.pdb 110/333.pdb 110/336.pdb 110/338.pdb 110/339.pdb 110/345.pdb 110/373.pdb 110/376.pdb 110/382.pdb 110/385.pdb 110/389.pdb 110/399.pdb 110/433.pdb 110/453.pdb 110/456.pdb 110/472.pdb 110/482.pdb }\n",
        "\n",
        "foreach i $lst110 { mol addfile \"$i\" type {pdb} first 0 last -1 step 10 waitfor 1 3 }\n",
        "\n",
        "set lst111 { 111/16.pdb 111/17.pdb 111/19.pdb 111/21.pdb 111/24.pdb 111/25.pdb 111/27.pdb 111/28.pdb 111/32.pdb 111/36.pdb 111/229.pdb 111/251.pdb 111/252.pdb 111/253.pdb 111/254.pdb 111/262.pdb 111/269.pdb 111/314.pdb 111/316.pdb 111/321.pdb 111/340.pdb 111/343.pdb 111/344.pdb 111/354.pdb 111/390.pdb 111/410.pdb 111/412.pdb 111/416.pdb 111/423.pdb 111/426.pdb 111/436.pdb 111/440.pdb 111/447.pdb 111/463.pdb }\n",
        "\n",
        "foreach i $lst111 { mol addfile \"$i\" type {pdb} first 0 last -1 step 10 waitfor 1 4 }\n",
        "\n"
       ]
      }
     ],
     "prompt_number": 301
    },
    {
     "cell_type": "heading",
     "level": 3,
     "metadata": {
      "collapsed": true
     },
     "source": [
      "loading these into vmd and choosing one to run MD"
     ]
    },
    {
     "cell_type": "markdown",
     "metadata": {},
     "source": [
      "just some notes!\n",
      "\n",
      "load-mpdbs.vmd (http://www.ks.uiuc.edu/Research/vmd/mailing_list/vmd-l/13045.html)\n",
      "\n",
      "Run this by doing:\n",
      "\n",
      "\t1) Save it as load-mpdbs.vmd\n",
      "\t2) vmd -pdb first.pdb -e ~/bin/load-mpdbs.vmd -args otherdirectory/*.pdb "
     ]
    },
    {
     "cell_type": "raw",
     "metadata": {},
     "source": [
      "#load-mpdbs.vmd \n",
      "\n",
      "foreach i $argv {\n",
      " echo \" \"\n",
      " echo \"ADDing pdb file $i to initial molec \"\n",
      " mol addfile \"$i\" type {pdb} first 0 last -1 step 10 waitfor 1 0\n",
      " echo \" \"\n",
      "}"
     ]
    },
    {
     "cell_type": "raw",
     "metadata": {},
     "source": [
      "\u2022 Situation:\n",
      "    \u25cb I docked a ligand to an MD trajectory, so I have a bunch of single pdb files that contain the protein and its docked location\n",
      "    \u25cb I need to load these files into VMD!\n",
      "\u2022 Solution:\n",
      "    \u25cb Easiest - first loading in one set of frames\n",
      "        \u00a7 From the command line, open vmd by doing this:\n",
      "        \u00a7 vmd 1.pdb 2.pdb 3.pdb \u2026\n",
      "    \u25cb More manual work - loading in first frame, and doing similar to load-mpdbs.vmd\n",
      "        \u00a7 Open vmd\n",
      "        \u00a7 Load in the first frame of the trajectory, repeat for each different trajectory\n",
      "        \u00a7 Next do, \n",
      "            set lstTRAJ {###.pdb ###.pdb ...}\n",
      "            foreach i $lstTRAJ{ mol addfile \"$i\" type {pdb} first 0 last -1 step 10 waitfor 1 *MOL#* }\n"
     ]
    },
    {
     "cell_type": "markdown",
     "metadata": {
      "collapsed": true
     },
     "source": [
      "for cluster (0 indexed):\n",
      "\n",
      "* 000 - use last frame of cluster\n",
      "* 010 - use index 27 (57 total)\n",
      "* 011 - use index 37 (48 total)\n",
      "* 110 - use index 0\n",
      "* 111 - use index 0"
     ]
    },
    {
     "cell_type": "code",
     "collapsed": true,
     "input": [
      "whattomd = {'000':39,'010':27,'011':37,'110':0,'111':0}"
     ],
     "language": "python",
     "metadata": {},
     "outputs": [],
     "prompt_number": 303
    },
    {
     "cell_type": "code",
     "collapsed": false,
     "input": [
      "print 'RUN MD ON THESE:'\n",
      "for clus in sorted(cluster_and_counts.keys()):\n",
      "    clus_list = []\n",
      "    for x in frames_cluster_df[frames_cluster_df.frame_cluster == clus].index.tolist():\n",
      "        clus_list.append(x)\n",
      "    print str(clus_list[whattomd[clus]]) + '.pdb'"
     ],
     "language": "python",
     "metadata": {},
     "outputs": [
      {
       "output_type": "stream",
       "stream": "stdout",
       "text": [
        "RUN MD ON THESE:\n",
        "697.pdb\n",
        "341.pdb\n",
        "430.pdb\n",
        "3.pdb\n",
        "15.pdb\n"
       ]
      }
     ],
     "prompt_number": 317
    },
    {
     "cell_type": "heading",
     "level": 5,
     "metadata": {
      "collapsed": true
     },
     "source": [
      "running now! see onenote notebook dated 2015-05-16 for notes on running"
     ]
    }
   ],
   "metadata": {}
  }
 ]
}