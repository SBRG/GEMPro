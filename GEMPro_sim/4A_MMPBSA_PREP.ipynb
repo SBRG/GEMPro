{
 "metadata": {
  "name": "",
  "signature": "sha256:8cd71200f262970e0cd4c2dc241a6368db3ad195cb0a59100cf95f943155a20d"
 },
 "nbformat": 3,
 "nbformat_minor": 0,
 "worksheets": [
  {
   "cells": [
    {
     "cell_type": "heading",
     "level": 2,
     "metadata": {},
     "source": [
      "GOAL: Automate generation of AMBER input files for running MD for MMPBSA"
     ]
    },
    {
     "cell_type": "code",
     "collapsed": false,
     "input": [
      "import os\n",
      "import jinja2\n",
      "import time\n",
      "import yaml\n",
      "import shutil\n",
      "import subprocess"
     ],
     "language": "python",
     "metadata": {},
     "outputs": [],
     "prompt_number": 1
    },
    {
     "cell_type": "code",
     "collapsed": false,
     "input": [
      "ROOT = '/home/nathan/projects'\n",
      "MMPBSA_FOLDER = os.path.join(ROOT, 'MMPBSA')\n",
      "MMPBSA_INPUT_SCRIPTS = os.path.join(MMPBSA_FOLDER, 'mmpbsa_input')\n",
      "TEMPLATE_FILES = os.path.join(ROOT, 'templates')\n",
      "TEMPLATE_GENERATED = os.path.join(TEMPLATE_FILES, 'generated')\n",
      "PARAMETERS = os.path.join(ROOT, 'parameters')\n",
      "COMMON_FILES = os.path.join(PARAMETERS, 'common_files')\n",
      "LIGANDS_PATH = os.path.join(PARAMETERS, 'ligands')"
     ],
     "language": "python",
     "metadata": {},
     "outputs": [],
     "prompt_number": 2
    },
    {
     "cell_type": "code",
     "collapsed": false,
     "input": [
      "print('ROOT: {path}'.format(path=ROOT))\n",
      "print('MMPBSA_FOLDER: {path}'.format(path=MMPBSA_FOLDER))\n",
      "print('MMPBSA_INPUT_SCRIPTS: {path}'.format(path=MMPBSA_INPUT_SCRIPTS))\n",
      "print('TEMPLATE_FILES: {path}'.format(path=TEMPLATE_FILES))\n",
      "print('TEMPLATE_GENERATED: {path}'.format(path=TEMPLATE_GENERATED))\n",
      "print('PARAMETERS: {path}'.format(path=PARAMETERS))\n",
      "print('COMMON_FILES: {path}'.format(path=COMMON_FILES))\n",
      "print('LIGANDS_PATH: {path}'.format(path=LIGANDS_PATH))"
     ],
     "language": "python",
     "metadata": {},
     "outputs": [
      {
       "output_type": "stream",
       "stream": "stdout",
       "text": [
        "ROOT: /home/nathan/projects\n",
        "MMPBSA_FOLDER: /home/nathan/projects/MMPBSA\n",
        "MMPBSA_INPUT_SCRIPTS: /home/nathan/projects/MMPBSA/mmpbsa_input\n",
        "TEMPLATE_FILES: /home/nathan/projects/templates\n",
        "TEMPLATE_GENERATED: /home/nathan/projects/templates/generated\n",
        "PARAMETERS: /home/nathan/projects/parameters\n",
        "COMMON_FILES: /home/nathan/projects/parameters/common_files\n",
        "LIGANDS_PATH: /home/nathan/projects/parameters/ligands\n"
       ]
      }
     ],
     "prompt_number": 3
    },
    {
     "cell_type": "code",
     "collapsed": false,
     "input": [
      "TODAY = time.strftime(\"%y%m%d\")"
     ],
     "language": "python",
     "metadata": {},
     "outputs": [],
     "prompt_number": 4
    },
    {
     "cell_type": "heading",
     "level": 3,
     "metadata": {},
     "source": [
      "some scripts and templates"
     ]
    },
    {
     "cell_type": "code",
     "collapsed": false,
     "input": [
      "def leaprc_maker(leaprc_dict):\n",
      "    # allows loading of templates off filesystems\n",
      "    templateLoader = jinja2.FileSystemLoader( TEMPLATE_FILES )\n",
      "    templateEnv = jinja2.Environment( loader=templateLoader )\n",
      "    \n",
      "    leaprc_dict['date'] = TODAY\n",
      "    leaprc_dict['main_params_path'] = COMMON_FILES\n",
      "    leaprc_dict['ligands_path'] = LIGANDS_PATH\n",
      "\n",
      "    # load the template\n",
      "    if leaprc_dict['solvate']:\n",
      "        template = templateEnv.get_template( 'leaprc_solvate.jinja' )\n",
      "    else:\n",
      "        template = templateEnv.get_template( 'leaprc_gas.jinja' )\n",
      "    \n",
      "    # process the template to produce our final text.\n",
      "    outputText = template.render( leaprc_dict )\n",
      "\n",
      "    file_out = leaprc_dict['date'] + '-' + leaprc_dict['name'] + '.leaprc'\n",
      "    with open(file_out, \"w\") as f:\n",
      "        f.write(outputText)\n",
      "        \n",
      "    return file_out"
     ],
     "language": "python",
     "metadata": {},
     "outputs": [],
     "prompt_number": 5
    },
    {
     "cell_type": "code",
     "collapsed": false,
     "input": [
      "def mdin_maker(template_file, mdin_dict):\n",
      "    # allows loading of templates off filesystems\n",
      "    templateLoader = jinja2.FileSystemLoader( TEMPLATE_FILES )\n",
      "    templateEnv = jinja2.Environment( loader=templateLoader )\n",
      "\n",
      "    # load the template\n",
      "    template = templateEnv.get_template( template_file )\n",
      "\n",
      "    # process the template to produce our final text.\n",
      "    outputText = template.render( mdin_dict )\n",
      "\n",
      "    file_out = os.path.splitext(os.path.basename(template_file))[0]\n",
      "    with open(file_out, \"w\") as f:\n",
      "        f.write(outputText)\n",
      "        \n",
      "    return file_out"
     ],
     "language": "python",
     "metadata": {},
     "outputs": [],
     "prompt_number": 6
    },
    {
     "cell_type": "code",
     "collapsed": false,
     "input": [
      "def ptraj_in_maker(template_file, ptraj_dict):\n",
      "    # allows loading of templates off filesystems\n",
      "    templateLoader = jinja2.FileSystemLoader( TEMPLATE_FILES )\n",
      "    templateEnv = jinja2.Environment( loader=templateLoader )\n",
      "\n",
      "    # load the template\n",
      "    template = templateEnv.get_template( template_file )\n",
      "\n",
      "    # process the template to produce our final text.\n",
      "    outputText = template.render( ptraj_dict )\n",
      "\n",
      "    file_out = os.path.splitext(os.path.basename(template_file))[0]\n",
      "    with open(file_out, \"w\") as f:\n",
      "        f.write(outputText)\n",
      "        \n",
      "    os.chmod(file_out, 0755)\n",
      "        \n"
     ],
     "language": "python",
     "metadata": {},
     "outputs": [],
     "prompt_number": 7
    },
    {
     "cell_type": "code",
     "collapsed": false,
     "input": [
      "def add_ter_to_pdb(infile, outfile_name=None):\n",
      "    '''\n",
      "    Adds 'TER' cards to a PDB file when encountering:\n",
      "    - a OXT atom - indicating the end of an amino acid chain\n",
      "    - a ATOM to HETATM change - indicating a cofactor or ligand\n",
      "    - a HETATM change to a new residue - indicating a new cofactor or ligand\n",
      "    Input: any PDB file\n",
      "    Output: the path to the fixed pdb file\n",
      "    '''\n",
      "    with open(infile,'r') as pdb_file:\n",
      "        lines = pdb_file.readlines()\n",
      "    \n",
      "    # open new file to write to\n",
      "    if not outfile_name:\n",
      "        outfile = os.path.splitext(os.path.basename(infile))[0] + '_fix.pdb'\n",
      "    else:\n",
      "        outfile = outfile_name\n",
      "        \n",
      "    with open(outfile,'w') as new_pdb_file:\n",
      "        \n",
      "        for line in lines:\n",
      "            # grab residue name to compare with previous residue name\n",
      "            resname = line[17:20]\n",
      "            # if AMBER added an OXT, that is usually the end of the protein chain\n",
      "            if 'OXT' in line:\n",
      "#                 print '***END OF PROTEIN CHAIN***'\n",
      "                new_pdb_file.write(line)\n",
      "                new_pdb_file.write('TER\\n')\n",
      "        \n",
      "            # TODO: this should be manual input\n",
      "            elif 'MG' in line:\n",
      "#                 print '***MG ION***'\n",
      "                new_pdb_file.write(line)\n",
      "                new_pdb_file.write('TER\\n')\n",
      "            \n",
      "            # if there is a change from ATOM to HETATM, that usually indicates the presence of a cofactor/ligand\n",
      "            # also check if the previous resname was different - could be a start of a new cofactor/ligand\n",
      "            elif 'HETATM' in line and ('ATOM' in lines[lines.index(line)-1] or resname != prev_resname):\n",
      "#                 print '***LIGAND OR COFACTOR NEXT***'\n",
      "                resname = line[17:20]\n",
      "                new_pdb_file.write('TER\\n')\n",
      "                new_pdb_file.write(line)\n",
      "            else:\n",
      "                new_pdb_file.write(line)\n",
      "            prev_resname = resname\n",
      "                \n",
      "    return outfile"
     ],
     "language": "python",
     "metadata": {},
     "outputs": [],
     "prompt_number": 71
    },
    {
     "cell_type": "raw",
     "metadata": {},
     "source": [
      "MMPBSA\n",
      "\u251c\u2500\u2500 mmpbsa_input\n",
      "\u2502   \u2514\u2500\u2500 mmpbsa_$PARAM.in\n",
      "\u2502\n",
      "\u251c\u2500\u2500 $PROTEIN/\n",
      "\u2502   \u251c\u2500\u2500 $#_$MOD_$PDB\n",
      "\u2502   \u2502\u00a0\u00a0 \u251c\u2500\u2500 $#_$TYPE\n",
      "\u2502   \u2502\u00a0  \u2502   \u251c\u2500\u2500 0_receptor_prep/\n",
      "\u2502   \u2502   \u2502   \u2502   \u2514\u2500\u2500 leaprc_$TYPE  # to make receptor gas\n",
      "\u2502   \u2502\u00a0\u00a0 \u2502   \u2502\n",
      "\u2502   \u2502\u00a0\u00a0 \u2502   \u251c\u2500\u2500 $LIGAND\n",
      "\u2502   \u2502\u00a0\u00a0 \u2502   \u2502   \u251c\u2500\u2500 $CLUSTER\n",
      "\u2502   \u2502\u00a0\u00a0 \u2502   \u2502   \u2502\u00a0\u00a0 \u251c\u2500\u2500 0_complex_prep\n",
      "\u2502   \u2502\u00a0\u00a0 \u2502   \u2502   \u2502   \u2502   \u251c\u2500\u2500 $CLUSTER.pdb\n",
      "\u2502   \u2502\u00a0\u00a0 \u2502   \u2502   \u2502   \u2502   \u2502\n",
      "\u2502   \u2502\u00a0\u00a0 \u2502   \u2502   \u2502   \u2502   \u251c\u2500\u2500 leaprc_$CLUSTER  # to make complex gas and solvated\n",
      "\u2502   \u2502\u00a0\u00a0 \u2502   \u2502   \u2502   \u2502   \u251c\u2500\u2500 $CLUSTER_gas_amber.pdb\n",
      "\u2502   \u2502\u00a0\u00a0 \u2502   \u2502   \u2502   \u2502   \u251c\u2500\u2500 $CLUSTER_gas.inpcrd\n",
      "\u2502   \u2502\u00a0\u00a0 \u2502   \u2502   \u2502   \u2502   \u251c\u2500\u2500 $CLUSTER_gas.prmtop\n",
      "\u2502   \u2502\u00a0\u00a0 \u2502   \u2502   \u2502   \u2502   \u251c\u2500\u2500 $CLUSTER_solv_amber.pdb\n",
      "\u2502   \u2502\u00a0\u00a0 \u2502   \u2502   \u2502   \u2502   \u251c\u2500\u2500 $CLUSTER_solv.inpcrd\n",
      "\u2502   \u2502\u00a0\u00a0 \u2502   \u2502   \u2502   \u2502   \u2514\u2500\u2500 $CLUSTER_solv.prmtop\n",
      "\u2502   \u2502\u00a0\u00a0 \u2502   \u2502   \u2502   \u2502\n",
      "\u2502   \u2502\u00a0\u00a0 \u2502   \u2502   \u2502\u00a0\u00a0 \u251c\u2500\u2500 1_md\n",
      "\u2502   \u2502\u00a0\u00a0 \u2502   \u2502   \u2502   \u2502   \u251c\u2500\u2500 $CLUSTER_solv.inpcrd, $CLUSTER_solv.prmtop  # should change to use from 0_complex_prep folder\n",
      "\u2502   \u2502\u00a0\u00a0 \u2502   \u2502   \u2502   \u2502   \u2502\n",
      "\u2502   \u2502\u00a0\u00a0 \u2502   \u2502   \u2502\u202f\u202f \u2502   \u251c\u2500\u2500 make_input_scripts.sh\n",
      "\u2502   \u2502\u00a0\u00a0 \u2502   \u2502   \u2502\u202f\u202f \u2502   \u251c\u2500\u2500 mdin_min, mdin_equil, mdin_prod\n",
      "\u2502   \u2502\u00a0\u00a0 \u2502   \u2502   \u2502\u202f\u202f \u2502   \u251c\u2500\u2500 send_job\n",
      "\u2502   \u2502\u00a0\u00a0 \u2502   \u2502   \u2502   \u2502   \u2502\n",
      "\u2502   \u2502\u00a0\u00a0 \u2502   \u2502   \u2502\u202f\u202f \u2502   \u251c\u2500\u2500 $PDB_$TYPE_min.out, $PDB_$TYPE_min.rst\n",
      "\u2502   \u2502\u00a0\u00a0 \u2502   \u2502   \u2502\u202f\u202f \u2502   \u251c\u2500\u2500 $PDB_$TYPE_equil.out, $PDB_$TYPE_equil.rst\n",
      "\u2502   \u2502\u00a0\u00a0 \u2502   \u2502   \u2502\u202f\u202f \u2502   \u251c\u2500\u2500 $PDB_$TYPE_prod.out, $PDB_$TYPE_prod.rst\n",
      "\u2502   \u2502\u202f\u202f \u2502\u202f\u202f \u2502\u202f\u202f \u2502   \u2502   \u2502\n",
      "\u2502   \u2502\u00a0\u00a0 \u2502   \u2502   \u2502\u202f\u202f \u2502   \u251c\u2500\u2500 ptraj_recenter, run_cpptraj, reorganize_pdbs.py\n",
      "\u2502   \u2502\u00a0\u00a0 \u2502   \u2502   \u2502\u202f\u202f \u2502   \u2514\u2500\u2500 $PDB_$TYPE_$T1_$T2_weeded_step_$STEP.traj\n",
      "\u2502   \u2502\u00a0\u00a0 \u2502   \u2502   \u2502   \u2502\n",
      "\u2502   \u2502\u00a0\u00a0 \u2502   \u2502   \u2502\u00a0\u00a0 \u251c\u2500\u2500 2_mmpbsa\n",
      "\u2502   \u2502\u00a0\u00a0 \u2502   \u2502   \u2502\u00a0\u00a0 \u2502   \u2514\u2500\u2500 $PARAM\n",
      "\u2502   \u2502\u00a0\u00a0 \u2502   \u2502   \u2502\u00a0\u00a0 \u2502       \u251c\u2500\u2500 $DATE-mmpbsa_input.in\n",
      "\u2502   \u2502\u00a0\u00a0 \u2502   \u2502   \u2502\u00a0\u00a0 \u2502       \u2514\u2500\u2500 $DATE-mmpbsa_output.out"
     ]
    },
    {
     "cell_type": "code",
     "collapsed": false,
     "input": [
      "# input your proteins, modifications, types, ligands, and cluster choices here\n",
      "mmpbsa_prep = yaml.load(\"\"\"\n",
      "---\n",
      "COMT:\n",
      "    1_WT_3BWM:\n",
      "        2_SAM:\n",
      "            num_residues: 216\n",
      "            basename: 3BWM\n",
      "            LIGANDS:\n",
      "                ALE:\n",
      "                    param_loc: l-epinephrine\n",
      "                    CLUSTERS:\n",
      "                        '111': '298'\n",
      "                        '110': '489'\n",
      "                        '000': '101'\n",
      "                DNC:\n",
      "                    param_loc: DNC\n",
      "                    CLUSTERS:\n",
      "                        '111': '083'\n",
      "                        '101': '178'\n",
      "                #LDP:\n",
      "                LNR:\n",
      "                    param_loc: l-norepinephrine\n",
      "                    CLUSTERS:\n",
      "                        '111': '360'\n",
      "                        '110': '100'\n",
      "                SID:\n",
      "                    param_loc: SID\n",
      "                    CLUSTERS:\n",
      "                        '111': '363'\n",
      "                        '101': '256'\n",
      "                        '001': '102'\n",
      "                TCW:\n",
      "                    param_loc: TCW\n",
      "                    CLUSTERS:\n",
      "                        '111': '111'\n",
      "                        '101': '054'\n",
      "                        '011': '353'\n",
      "        3_HALO:\n",
      "            num_residues: 217\n",
      "            basename: 3BWM\n",
      "            LIGANDS:\n",
      "                ALE:\n",
      "                    param_loc: l-epinephrine\n",
      "                    CLUSTERS:\n",
      "                        '111': '298'\n",
      "                        '110': '489'\n",
      "                        '000': '101'\n",
      "                DNC:\n",
      "                    param_loc: DNC\n",
      "                    CLUSTERS:\n",
      "                        '111': '083'\n",
      "                        '101': '178'\n",
      "                #LDP:\n",
      "                LNR:\n",
      "                    param_loc: l-norepinephrine\n",
      "                    CLUSTERS:\n",
      "                        '111': '360'\n",
      "                        '110': '100'\n",
      "                SID:\n",
      "                    param_loc: SID\n",
      "                    CLUSTERS:\n",
      "                        '111': '363'\n",
      "                        '101': '256'\n",
      "                        '001': '102'\n",
      "                TCW:\n",
      "                    param_loc: TCW\n",
      "                    CLUSTERS:\n",
      "                        '111': '111'\n",
      "                        '101': '054'\n",
      "                        '011': '353'\n",
      "    2_SNP_3BWY:\n",
      "        2_SAM:\n",
      "            num_residues: 216\n",
      "            basename: 3BWY\n",
      "            LIGANDS:\n",
      "                ALE:\n",
      "                    param_loc: l-epinephrine\n",
      "                    CLUSTERS:\n",
      "                        '111': '298'\n",
      "                        '110': '489'\n",
      "                        '000': '101'\n",
      "                DNC:\n",
      "                    param_loc: DNC\n",
      "                    CLUSTERS:\n",
      "                        '111': '083'\n",
      "                        '101': '178'\n",
      "                #LDP:\n",
      "                LNR:\n",
      "                    param_loc: l-norepinephrine\n",
      "                    CLUSTERS:\n",
      "                        '111': '360'\n",
      "                        '110': '100'\n",
      "                SID:\n",
      "                    param_loc: SID\n",
      "                    CLUSTERS:\n",
      "                        '111': '363'\n",
      "                        '101': '256'\n",
      "                        '001': '102'\n",
      "                TCW:\n",
      "                    param_loc: TCW\n",
      "                    CLUSTERS:\n",
      "                        '111': '111'\n",
      "                        '101': '054'\n",
      "                        '011': '353'\n",
      "        3_HALO:\n",
      "            num_residues: 217\n",
      "            basename: 3BWY\n",
      "            LIGANDS:\n",
      "                ALE:\n",
      "                    param_loc: l-epinephrine\n",
      "                    CLUSTERS:\n",
      "                        '111': '298'\n",
      "                        '110': '489'\n",
      "                        '000': '101'\n",
      "                DNC:\n",
      "                    param_loc: DNC\n",
      "                    CLUSTERS:\n",
      "                        '111': '083'\n",
      "                        '101': '178'\n",
      "                #LDP:\n",
      "                LNR:\n",
      "                    param_loc: l-norepinephrine\n",
      "                    CLUSTERS:\n",
      "                        '111': '360'\n",
      "                        '110': '100'\n",
      "                SID:\n",
      "                    param_loc: SID\n",
      "                    CLUSTERS:\n",
      "                        '111': '363'\n",
      "                        '101': '256'\n",
      "                        '001': '102'\n",
      "                TCW:\n",
      "                    param_loc: TCW\n",
      "                    CLUSTERS:\n",
      "                        '111': '111'\n",
      "                        '101': '054'\n",
      "                        '011': '353'\n",
      "\"\"\")"
     ],
     "language": "python",
     "metadata": {},
     "outputs": [],
     "prompt_number": 193
    },
    {
     "cell_type": "code",
     "collapsed": false,
     "input": [
      "import pprint\n",
      "pprint.pprint(mmpbsa_prep)"
     ],
     "language": "python",
     "metadata": {},
     "outputs": [
      {
       "output_type": "stream",
       "stream": "stdout",
       "text": [
        "{'COMT': {'1_WT_3BWM': {'2_SAM': {'LIGANDS': {'ALE': {'CLUSTERS': {'000': '101',\n",
        "                                                                   '110': '489',\n",
        "                                                                   '111': '298'},\n",
        "                                                      'param_loc': 'l-epinephrine'},\n",
        "                                              'DNC': {'CLUSTERS': {'101': '178',\n",
        "                                                                   '111': '083'},\n",
        "                                                      'param_loc': 'DNC'},\n",
        "                                              'LNR': {'CLUSTERS': {'110': '100',\n",
        "                                                                   '111': '360'},\n",
        "                                                      'param_loc': 'l-norepinephrine'},\n",
        "                                              'SID': {'CLUSTERS': {'001': '102',\n",
        "                                                                   '101': '256',\n",
        "                                                                   '111': '363'},\n",
        "                                                      'param_loc': 'SID'},\n",
        "                                              'TCW': {'CLUSTERS': {'011': '353',\n",
        "                                                                   '101': '054',\n",
        "                                                                   '111': '111'},\n",
        "                                                      'param_loc': 'TCW'}},\n",
        "                                  'basename': '3BWM',\n",
        "                                  'num_residues': 216},\n",
        "                        '3_HALO': {'LIGANDS': {'ALE': {'CLUSTERS': {'000': '101',\n",
        "                                                                    '110': '489',\n",
        "                                                                    '111': '298'},\n",
        "                                                       'param_loc': 'l-epinephrine'},\n",
        "                                               'DNC': {'CLUSTERS': {'101': '178',\n",
        "                                                                    '111': '083'},\n",
        "                                                       'param_loc': 'DNC'},\n",
        "                                               'LNR': {'CLUSTERS': {'110': '100',\n",
        "                                                                    '111': '360'},\n",
        "                                                       'param_loc': 'l-norepinephrine'},\n",
        "                                               'SID': {'CLUSTERS': {'001': '102',\n",
        "                                                                    '101': '256',\n",
        "                                                                    '111': '363'},\n",
        "                                                       'param_loc': 'SID'},\n",
        "                                               'TCW': {'CLUSTERS': {'011': '353',\n",
        "                                                                    '101': '054',\n",
        "                                                                    '111': '111'},\n",
        "                                                       'param_loc': 'TCW'}},\n",
        "                                   'basename': '3BWM',\n",
        "                                   'num_residues': 217}},\n",
        "          '2_SNP_3BWY': {'2_SAM': {'LIGANDS': {'ALE': {'CLUSTERS': {'000': '101',\n",
        "                                                                    '110': '489',\n",
        "                                                                    '111': '298'},\n",
        "                                                       'param_loc': 'l-epinephrine'},\n",
        "                                               'DNC': {'CLUSTERS': {'101': '178',\n",
        "                                                                    '111': '083'},\n",
        "                                                       'param_loc': 'DNC'},\n",
        "                                               'LNR': {'CLUSTERS': {'110': '100',\n",
        "                                                                    '111': '360'},\n",
        "                                                       'param_loc': 'l-norepinephrine'},\n",
        "                                               'SID': {'CLUSTERS': {'001': '102',\n",
        "                                                                    '101': '256',\n",
        "                                                                    '111': '363'},\n",
        "                                                       'param_loc': 'SID'},\n",
        "                                               'TCW': {'CLUSTERS': {'011': '353',\n",
        "                                                                    '101': '054',\n",
        "                                                                    '111': '111'},\n",
        "                                                       'param_loc': 'TCW'}},\n",
        "                                   'basename': '3BWY',\n",
        "                                   'num_residues': 216},\n",
        "                         '3_HALO': {'LIGANDS': {'ALE': {'CLUSTERS': {'000': '101',\n",
        "                                                                     '110': '489',\n",
        "                                                                     '111': '298'},\n",
        "                                                        'param_loc': 'l-epinephrine'},\n",
        "                                                'DNC': {'CLUSTERS': {'101': '178',\n",
        "                                                                     '111': '083'},\n",
        "                                                        'param_loc': 'DNC'},\n",
        "                                                'LNR': {'CLUSTERS': {'110': '100',\n",
        "                                                                     '111': '360'},\n",
        "                                                        'param_loc': 'l-norepinephrine'},\n",
        "                                                'SID': {'CLUSTERS': {'001': '102',\n",
        "                                                                     '101': '256',\n",
        "                                                                     '111': '363'},\n",
        "                                                        'param_loc': 'SID'},\n",
        "                                                'TCW': {'CLUSTERS': {'011': '353',\n",
        "                                                                     '101': '054',\n",
        "                                                                     '111': '111'},\n",
        "                                                        'param_loc': 'TCW'}},\n",
        "                                    'basename': '3BWY',\n",
        "                                    'num_residues': 217}}}}\n"
       ]
      }
     ],
     "prompt_number": 194
    },
    {
     "cell_type": "code",
     "collapsed": false,
     "input": [
      "from Bio.PDB import *\n",
      "io = PDBIO()\n",
      "parser = PDBParser()"
     ],
     "language": "python",
     "metadata": {},
     "outputs": [],
     "prompt_number": 174
    },
    {
     "cell_type": "code",
     "collapsed": false,
     "input": [
      "for PROTEIN,mods in mmpbsa_prep.iteritems():\n",
      "#     print 'PROTEIN:', PROTEIN\n",
      "\n",
      "    for MOD,types in mods.iteritems():\n",
      "#         print 'MOD:', MOD\n",
      "        f1 = os.path.join(MMPBSA_FOLDER, PROTEIN, MOD)\n",
      "        if not os.path.exists(f1):\n",
      "            os.mkdir(f1)\n",
      "            \n",
      "        for TYPE,info in types.iteritems():\n",
      "#             print 'TYPE:', TYPE\n",
      "\n",
      "            f2 = os.path.join(f1, TYPE)\n",
      "            if not os.path.exists(f2):\n",
      "                os.mkdir(f2)\n",
      "                \n",
      "            DOCK_FILES = os.path.join(ROOT, 'DOCK', PROTEIN, '2_MD', MOD, TYPE, 'main')\n",
      "                \n",
      "            basename = info['basename']\n",
      "            num_residues = info['num_residues']\n",
      "            ligands = info['LIGANDS']\n",
      "            \n",
      "            for LIGAND,lig_info in ligands.iteritems():\n",
      "                clusters = lig_info['CLUSTERS']\n",
      "                param_loc = lig_info['param_loc']\n",
      "                \n",
      "                f3 = os.path.join(f2, LIGAND)\n",
      "                if not os.path.exists(f3):\n",
      "                    os.mkdir(f3)\n",
      "                    \n",
      "                for CLUSTER,FRAME in clusters.iteritems():\n",
      "                    \n",
      "                    main_folder = os.path.join(f3, CLUSTER)\n",
      "                    if not os.path.exists(main_folder):\n",
      "                        os.mkdir(main_folder)\n",
      "\n",
      "                    complex_prep = os.path.join(main_folder, '0_complex_prep')\n",
      "                    md = os.path.join(main_folder, '1_md')\n",
      "                    mmpbsa = os.path.join(main_folder, '2_mmpbsa')\n",
      "\n",
      "                    #### FILE PREP\n",
      "                    if not os.path.exists(complex_prep):\n",
      "                        os.mkdir(complex_prep)\n",
      "                    if not os.path.exists(md):\n",
      "                        os.mkdir(md)\n",
      "                    if not os.path.exists(mmpbsa):\n",
      "                        os.mkdir(mmpbsa)\n",
      "                        \n",
      "                    os.chdir(complex_prep)\n",
      "                    \n",
      "                    representative_frame = '{basename}-{frame}_receptor_{ligand}_docked.pdb'.format(basename=basename, frame=FRAME, ligand=LIGAND)\n",
      "                    \n",
      "                    # copy the representative frame to the prep directory\n",
      "                    shutil.copy(os.path.join(DOCK_FILES, representative_frame), os.path.join(complex_prep))\n",
      "                    \n",
      "                    # add ter cards, copy to a new file so naming is easier to deal with later\n",
      "                    add_ter_to_pdb(representative_frame, '%s_representative.pdb' % CLUSTER)\n",
      "                    \n",
      "                    # create prmtop and inpcrd for this frame\n",
      "                    # make sure ligand and cofactors are in additional params\n",
      "                    names = {'protein':PROTEIN,\n",
      "                             'mod':MOD, \n",
      "                             'type':TYPE, \n",
      "                             'ligand':LIGAND, \n",
      "                             'cluster':CLUSTER,\n",
      "                             'param_loc':param_loc,\n",
      "                             'num_residues':num_residues,\n",
      "                             'complex_prep':complex_prep}\n",
      "                    \n",
      "                    # yaml template\n",
      "                    leaprc_template = \"\"\"\n",
      "---\n",
      "# identifiers\n",
      "fullname: {protein}-{mod}-{type}-{ligand}-{cluster}\n",
      "name: {protein}_{ligand}_{cluster}\n",
      "main_pdb_file : {cluster}_representative.pdb\n",
      "\n",
      "additional_params:\n",
      "    SAM:\n",
      "        params_path: SAM/frcmod.SAM\n",
      "        off_prep: SAM/SAM.off\n",
      "    {ligand}:\n",
      "        params_path: {param_loc}/{ligand}.frcmod\n",
      "        off_prep: {param_loc}/{ligand}.off\n",
      "    MG:\n",
      "        params_path: magnesium/frcmod.magnesium\n",
      "        off_prep: magnesium/magnesium.prep\n",
      "\n",
      "# amber options\n",
      "save_amber_pdb: True\n",
      "set_box: True\n",
      "radii: PBRadii bondi\n",
      "\n",
      "# solvate the molecule\n",
      "solvate: True\n",
      "ion: Na+\n",
      "\"\"\"\n",
      "                    leaprc_template = leaprc_template.format(**names)\n",
      "                    leaprc_yaml = yaml.load(leaprc_template)\n",
      "                    leaprc_file = leaprc_maker(leaprc_yaml)\n",
      "                    \n",
      "                    \n",
      "                    #############################\n",
      "                    # RUN TLEAP\n",
      "                    #############################\n",
      "                    return_code = subprocess.call('tleap -f {leaprc_filename}'.format(leaprc_filename=leaprc_file), shell=True)\n",
      "                    if return_code == 0:\n",
      "                        print 'Ran tleap for {leaprc_filename}. Please check the output for any errors.'.format(leaprc_filename=leaprc_file)\n",
      "                    else:\n",
      "                        print 'Error running tleap for {leaprc_filename}.'.format(leaprc_filename=leaprc_file)\n",
      "                \n",
      "                \n",
      "                \n",
      "                \n",
      "                \n",
      "                    #############################\n",
      "                    # MD PREP\n",
      "                    #############################\n",
      "                    \n",
      "                    os.chdir(md)\n",
      "\n",
      "                    # create mdin scripts\n",
      "                    mdin_template = \"\"\"\n",
      "---\n",
      "# equil\n",
      "res_start: 1\n",
      "res_end: {num_residues}\n",
      "\n",
      "# prod\n",
      "num_steps: 6600000\n",
      "\n",
      "# send_job\n",
      "name: {protein}_{ligand}_{cluster}\n",
      "email: nathanmih@gmail.com\n",
      "\"\"\"\n",
      "\n",
      "                    mdin_template = mdin_template.format(**names)\n",
      "                    mdin_yaml = yaml.load(mdin_template)\n",
      "\n",
      "                    # mdin_min\n",
      "                    mdin_min_file = mdin_maker(\"mdin_min.jinja\", mdin_yaml)\n",
      "\n",
      "                    # mdin_equil\n",
      "                    mdin_equil_file = mdin_maker(\"mdin_equil.jinja\", mdin_yaml)\n",
      "\n",
      "                    # mdin_prod\n",
      "                    mdin_prod_file = mdin_maker(\"mdin_prod.jinja\", mdin_yaml)\n",
      "\n",
      "                    # send_job\n",
      "                    send_job_file = mdin_maker(\"send_job_mmpbsa.jinja\", mdin_yaml)\n",
      "\n",
      "                    !chmod 755 ./$send_job_file\n",
      "                    \n",
      "                    \n",
      "                    \n",
      "                    \n",
      "                    \n",
      "                    #############################\n",
      "                    # POST-MD PREP\n",
      "                    #############################\n",
      "                    \n",
      "                    ptraj_template = \"\"\"\n",
      "---\n",
      "name: {protein}_{ligand}_{cluster}\n",
      "res_start: 1\n",
      "res_end: {num_residues}\n",
      "\n",
      "infile: mdcrd\n",
      "outfile: {protein}_{ligand}_{cluster}\n",
      "steps: 10\n",
      "\n",
      "time_start: 1\n",
      "time_end: 10\n",
      "\n",
      "trajin_start: 1\n",
      "trajin_end: -1\n",
      "\n",
      "prmtop_location: {complex_prep}\n",
      "\"\"\"\n",
      "                    ptraj_template = ptraj_template.format(**names)\n",
      "                    ptraj_yaml = yaml.load(ptraj_template)\n",
      "\n",
      "                    cpptraj = ptraj_in_maker(\"run_cpptraj.jinja\", ptraj_yaml)\n",
      "                    ptraj_in_file = ptraj_in_maker(\"ptraj_recenter.jinja\", ptraj_yaml)\n",
      "                \n",
      "                \n",
      "                \n",
      "                \n",
      "                    #############################\n",
      "                    # RUNNING MD (just printing the command for manual input in bash)\n",
      "                    #############################\n",
      "                    \n",
      "                    print 'nohup %s/send_job_mmpbsa > %s/%s-mdin_min.out &' % (os.getcwd(),os.getcwd(),TODAY)\n",
      "                    print"
     ],
     "language": "python",
     "metadata": {},
     "outputs": [
      {
       "output_type": "stream",
       "stream": "stdout",
       "text": [
        "nohup /home/nathan/projects/MMPBSA/COMT/2_SNP_3BWY/3_HALO/TCW/011/1_md/send_job_mmpbsa > /home/nathan/projects/MMPBSA/COMT/2_SNP_3BWY/3_HALO/TCW/011/1_md/150906-mdin_min.out &\n",
        "\n"
       ]
      },
      {
       "output_type": "stream",
       "stream": "stdout",
       "text": [
        "nohup /home/nathan/projects/MMPBSA/COMT/2_SNP_3BWY/3_HALO/TCW/101/1_md/send_job_mmpbsa > /home/nathan/projects/MMPBSA/COMT/2_SNP_3BWY/3_HALO/TCW/101/1_md/150906-mdin_min.out &\n",
        "\n"
       ]
      },
      {
       "output_type": "stream",
       "stream": "stdout",
       "text": [
        "nohup /home/nathan/projects/MMPBSA/COMT/2_SNP_3BWY/3_HALO/TCW/111/1_md/send_job_mmpbsa > /home/nathan/projects/MMPBSA/COMT/2_SNP_3BWY/3_HALO/TCW/111/1_md/150906-mdin_min.out &\n",
        "\n"
       ]
      },
      {
       "output_type": "stream",
       "stream": "stdout",
       "text": [
        "nohup /home/nathan/projects/MMPBSA/COMT/2_SNP_3BWY/3_HALO/LNR/111/1_md/send_job_mmpbsa > /home/nathan/projects/MMPBSA/COMT/2_SNP_3BWY/3_HALO/LNR/111/1_md/150906-mdin_min.out &\n",
        "\n"
       ]
      },
      {
       "output_type": "stream",
       "stream": "stdout",
       "text": [
        "nohup /home/nathan/projects/MMPBSA/COMT/2_SNP_3BWY/3_HALO/LNR/110/1_md/send_job_mmpbsa > /home/nathan/projects/MMPBSA/COMT/2_SNP_3BWY/3_HALO/LNR/110/1_md/150906-mdin_min.out &\n",
        "\n"
       ]
      },
      {
       "output_type": "stream",
       "stream": "stdout",
       "text": [
        "nohup /home/nathan/projects/MMPBSA/COMT/2_SNP_3BWY/3_HALO/ALE/000/1_md/send_job_mmpbsa > /home/nathan/projects/MMPBSA/COMT/2_SNP_3BWY/3_HALO/ALE/000/1_md/150906-mdin_min.out &\n",
        "\n"
       ]
      },
      {
       "output_type": "stream",
       "stream": "stdout",
       "text": [
        "nohup /home/nathan/projects/MMPBSA/COMT/2_SNP_3BWY/3_HALO/ALE/111/1_md/send_job_mmpbsa > /home/nathan/projects/MMPBSA/COMT/2_SNP_3BWY/3_HALO/ALE/111/1_md/150906-mdin_min.out &\n",
        "\n"
       ]
      },
      {
       "output_type": "stream",
       "stream": "stdout",
       "text": [
        "nohup /home/nathan/projects/MMPBSA/COMT/2_SNP_3BWY/3_HALO/ALE/110/1_md/send_job_mmpbsa > /home/nathan/projects/MMPBSA/COMT/2_SNP_3BWY/3_HALO/ALE/110/1_md/150906-mdin_min.out &\n",
        "\n"
       ]
      },
      {
       "output_type": "stream",
       "stream": "stdout",
       "text": [
        "nohup /home/nathan/projects/MMPBSA/COMT/2_SNP_3BWY/3_HALO/DNC/101/1_md/send_job_mmpbsa > /home/nathan/projects/MMPBSA/COMT/2_SNP_3BWY/3_HALO/DNC/101/1_md/150906-mdin_min.out &\n",
        "\n"
       ]
      },
      {
       "output_type": "stream",
       "stream": "stdout",
       "text": [
        "nohup /home/nathan/projects/MMPBSA/COMT/2_SNP_3BWY/3_HALO/DNC/111/1_md/send_job_mmpbsa > /home/nathan/projects/MMPBSA/COMT/2_SNP_3BWY/3_HALO/DNC/111/1_md/150906-mdin_min.out &\n",
        "\n"
       ]
      },
      {
       "output_type": "stream",
       "stream": "stdout",
       "text": [
        "nohup /home/nathan/projects/MMPBSA/COMT/2_SNP_3BWY/3_HALO/SID/001/1_md/send_job_mmpbsa > /home/nathan/projects/MMPBSA/COMT/2_SNP_3BWY/3_HALO/SID/001/1_md/150906-mdin_min.out &\n",
        "\n"
       ]
      },
      {
       "output_type": "stream",
       "stream": "stdout",
       "text": [
        "nohup /home/nathan/projects/MMPBSA/COMT/2_SNP_3BWY/3_HALO/SID/101/1_md/send_job_mmpbsa > /home/nathan/projects/MMPBSA/COMT/2_SNP_3BWY/3_HALO/SID/101/1_md/150906-mdin_min.out &\n",
        "\n"
       ]
      },
      {
       "output_type": "stream",
       "stream": "stdout",
       "text": [
        "nohup /home/nathan/projects/MMPBSA/COMT/2_SNP_3BWY/3_HALO/SID/111/1_md/send_job_mmpbsa > /home/nathan/projects/MMPBSA/COMT/2_SNP_3BWY/3_HALO/SID/111/1_md/150906-mdin_min.out &\n",
        "\n"
       ]
      },
      {
       "output_type": "stream",
       "stream": "stdout",
       "text": [
        "nohup /home/nathan/projects/MMPBSA/COMT/2_SNP_3BWY/2_SAM/TCW/011/1_md/send_job_mmpbsa > /home/nathan/projects/MMPBSA/COMT/2_SNP_3BWY/2_SAM/TCW/011/1_md/150906-mdin_min.out &\n",
        "\n"
       ]
      },
      {
       "output_type": "stream",
       "stream": "stdout",
       "text": [
        "nohup /home/nathan/projects/MMPBSA/COMT/2_SNP_3BWY/2_SAM/TCW/101/1_md/send_job_mmpbsa > /home/nathan/projects/MMPBSA/COMT/2_SNP_3BWY/2_SAM/TCW/101/1_md/150906-mdin_min.out &\n",
        "\n"
       ]
      },
      {
       "output_type": "stream",
       "stream": "stdout",
       "text": [
        "nohup /home/nathan/projects/MMPBSA/COMT/2_SNP_3BWY/2_SAM/TCW/111/1_md/send_job_mmpbsa > /home/nathan/projects/MMPBSA/COMT/2_SNP_3BWY/2_SAM/TCW/111/1_md/150906-mdin_min.out &\n",
        "\n"
       ]
      },
      {
       "output_type": "stream",
       "stream": "stdout",
       "text": [
        "nohup /home/nathan/projects/MMPBSA/COMT/2_SNP_3BWY/2_SAM/LNR/111/1_md/send_job_mmpbsa > /home/nathan/projects/MMPBSA/COMT/2_SNP_3BWY/2_SAM/LNR/111/1_md/150906-mdin_min.out &\n",
        "\n"
       ]
      },
      {
       "output_type": "stream",
       "stream": "stdout",
       "text": [
        "nohup /home/nathan/projects/MMPBSA/COMT/2_SNP_3BWY/2_SAM/LNR/110/1_md/send_job_mmpbsa > /home/nathan/projects/MMPBSA/COMT/2_SNP_3BWY/2_SAM/LNR/110/1_md/150906-mdin_min.out &\n",
        "\n"
       ]
      },
      {
       "output_type": "stream",
       "stream": "stdout",
       "text": [
        "nohup /home/nathan/projects/MMPBSA/COMT/2_SNP_3BWY/2_SAM/ALE/000/1_md/send_job_mmpbsa > /home/nathan/projects/MMPBSA/COMT/2_SNP_3BWY/2_SAM/ALE/000/1_md/150906-mdin_min.out &\n",
        "\n"
       ]
      },
      {
       "output_type": "stream",
       "stream": "stdout",
       "text": [
        "nohup /home/nathan/projects/MMPBSA/COMT/2_SNP_3BWY/2_SAM/ALE/111/1_md/send_job_mmpbsa > /home/nathan/projects/MMPBSA/COMT/2_SNP_3BWY/2_SAM/ALE/111/1_md/150906-mdin_min.out &\n",
        "\n"
       ]
      },
      {
       "output_type": "stream",
       "stream": "stdout",
       "text": [
        "nohup /home/nathan/projects/MMPBSA/COMT/2_SNP_3BWY/2_SAM/ALE/110/1_md/send_job_mmpbsa > /home/nathan/projects/MMPBSA/COMT/2_SNP_3BWY/2_SAM/ALE/110/1_md/150906-mdin_min.out &\n",
        "\n"
       ]
      },
      {
       "output_type": "stream",
       "stream": "stdout",
       "text": [
        "nohup /home/nathan/projects/MMPBSA/COMT/2_SNP_3BWY/2_SAM/DNC/101/1_md/send_job_mmpbsa > /home/nathan/projects/MMPBSA/COMT/2_SNP_3BWY/2_SAM/DNC/101/1_md/150906-mdin_min.out &\n",
        "\n"
       ]
      },
      {
       "output_type": "stream",
       "stream": "stdout",
       "text": [
        "nohup /home/nathan/projects/MMPBSA/COMT/2_SNP_3BWY/2_SAM/DNC/111/1_md/send_job_mmpbsa > /home/nathan/projects/MMPBSA/COMT/2_SNP_3BWY/2_SAM/DNC/111/1_md/150906-mdin_min.out &\n",
        "\n"
       ]
      },
      {
       "output_type": "stream",
       "stream": "stdout",
       "text": [
        "nohup /home/nathan/projects/MMPBSA/COMT/2_SNP_3BWY/2_SAM/SID/001/1_md/send_job_mmpbsa > /home/nathan/projects/MMPBSA/COMT/2_SNP_3BWY/2_SAM/SID/001/1_md/150906-mdin_min.out &\n",
        "\n"
       ]
      },
      {
       "output_type": "stream",
       "stream": "stdout",
       "text": [
        "nohup /home/nathan/projects/MMPBSA/COMT/2_SNP_3BWY/2_SAM/SID/101/1_md/send_job_mmpbsa > /home/nathan/projects/MMPBSA/COMT/2_SNP_3BWY/2_SAM/SID/101/1_md/150906-mdin_min.out &\n",
        "\n"
       ]
      },
      {
       "output_type": "stream",
       "stream": "stdout",
       "text": [
        "nohup /home/nathan/projects/MMPBSA/COMT/2_SNP_3BWY/2_SAM/SID/111/1_md/send_job_mmpbsa > /home/nathan/projects/MMPBSA/COMT/2_SNP_3BWY/2_SAM/SID/111/1_md/150906-mdin_min.out &\n",
        "\n"
       ]
      },
      {
       "output_type": "stream",
       "stream": "stdout",
       "text": [
        "nohup /home/nathan/projects/MMPBSA/COMT/1_WT_3BWM/3_HALO/TCW/011/1_md/send_job_mmpbsa > /home/nathan/projects/MMPBSA/COMT/1_WT_3BWM/3_HALO/TCW/011/1_md/150906-mdin_min.out &\n",
        "\n"
       ]
      },
      {
       "output_type": "stream",
       "stream": "stdout",
       "text": [
        "nohup /home/nathan/projects/MMPBSA/COMT/1_WT_3BWM/3_HALO/TCW/101/1_md/send_job_mmpbsa > /home/nathan/projects/MMPBSA/COMT/1_WT_3BWM/3_HALO/TCW/101/1_md/150906-mdin_min.out &\n",
        "\n"
       ]
      },
      {
       "output_type": "stream",
       "stream": "stdout",
       "text": [
        "nohup /home/nathan/projects/MMPBSA/COMT/1_WT_3BWM/3_HALO/TCW/111/1_md/send_job_mmpbsa > /home/nathan/projects/MMPBSA/COMT/1_WT_3BWM/3_HALO/TCW/111/1_md/150906-mdin_min.out &\n",
        "\n"
       ]
      },
      {
       "output_type": "stream",
       "stream": "stdout",
       "text": [
        "nohup /home/nathan/projects/MMPBSA/COMT/1_WT_3BWM/3_HALO/LNR/111/1_md/send_job_mmpbsa > /home/nathan/projects/MMPBSA/COMT/1_WT_3BWM/3_HALO/LNR/111/1_md/150906-mdin_min.out &\n",
        "\n"
       ]
      },
      {
       "output_type": "stream",
       "stream": "stdout",
       "text": [
        "nohup /home/nathan/projects/MMPBSA/COMT/1_WT_3BWM/3_HALO/LNR/110/1_md/send_job_mmpbsa > /home/nathan/projects/MMPBSA/COMT/1_WT_3BWM/3_HALO/LNR/110/1_md/150906-mdin_min.out &\n",
        "\n"
       ]
      },
      {
       "output_type": "stream",
       "stream": "stdout",
       "text": [
        "nohup /home/nathan/projects/MMPBSA/COMT/1_WT_3BWM/3_HALO/ALE/000/1_md/send_job_mmpbsa > /home/nathan/projects/MMPBSA/COMT/1_WT_3BWM/3_HALO/ALE/000/1_md/150906-mdin_min.out &\n",
        "\n"
       ]
      },
      {
       "output_type": "stream",
       "stream": "stdout",
       "text": [
        "nohup /home/nathan/projects/MMPBSA/COMT/1_WT_3BWM/3_HALO/ALE/111/1_md/send_job_mmpbsa > /home/nathan/projects/MMPBSA/COMT/1_WT_3BWM/3_HALO/ALE/111/1_md/150906-mdin_min.out &\n",
        "\n"
       ]
      },
      {
       "output_type": "stream",
       "stream": "stdout",
       "text": [
        "nohup /home/nathan/projects/MMPBSA/COMT/1_WT_3BWM/3_HALO/ALE/110/1_md/send_job_mmpbsa > /home/nathan/projects/MMPBSA/COMT/1_WT_3BWM/3_HALO/ALE/110/1_md/150906-mdin_min.out &\n",
        "\n"
       ]
      },
      {
       "output_type": "stream",
       "stream": "stdout",
       "text": [
        "nohup /home/nathan/projects/MMPBSA/COMT/1_WT_3BWM/3_HALO/DNC/101/1_md/send_job_mmpbsa > /home/nathan/projects/MMPBSA/COMT/1_WT_3BWM/3_HALO/DNC/101/1_md/150906-mdin_min.out &\n",
        "\n"
       ]
      },
      {
       "output_type": "stream",
       "stream": "stdout",
       "text": [
        "nohup /home/nathan/projects/MMPBSA/COMT/1_WT_3BWM/3_HALO/DNC/111/1_md/send_job_mmpbsa > /home/nathan/projects/MMPBSA/COMT/1_WT_3BWM/3_HALO/DNC/111/1_md/150906-mdin_min.out &\n",
        "\n"
       ]
      },
      {
       "output_type": "stream",
       "stream": "stdout",
       "text": [
        "nohup /home/nathan/projects/MMPBSA/COMT/1_WT_3BWM/3_HALO/SID/001/1_md/send_job_mmpbsa > /home/nathan/projects/MMPBSA/COMT/1_WT_3BWM/3_HALO/SID/001/1_md/150906-mdin_min.out &\n",
        "\n"
       ]
      },
      {
       "output_type": "stream",
       "stream": "stdout",
       "text": [
        "nohup /home/nathan/projects/MMPBSA/COMT/1_WT_3BWM/3_HALO/SID/101/1_md/send_job_mmpbsa > /home/nathan/projects/MMPBSA/COMT/1_WT_3BWM/3_HALO/SID/101/1_md/150906-mdin_min.out &\n",
        "\n"
       ]
      },
      {
       "output_type": "stream",
       "stream": "stdout",
       "text": [
        "nohup /home/nathan/projects/MMPBSA/COMT/1_WT_3BWM/3_HALO/SID/111/1_md/send_job_mmpbsa > /home/nathan/projects/MMPBSA/COMT/1_WT_3BWM/3_HALO/SID/111/1_md/150906-mdin_min.out &\n",
        "\n"
       ]
      },
      {
       "output_type": "stream",
       "stream": "stdout",
       "text": [
        "nohup /home/nathan/projects/MMPBSA/COMT/1_WT_3BWM/2_SAM/TCW/011/1_md/send_job_mmpbsa > /home/nathan/projects/MMPBSA/COMT/1_WT_3BWM/2_SAM/TCW/011/1_md/150906-mdin_min.out &\n",
        "\n"
       ]
      },
      {
       "output_type": "stream",
       "stream": "stdout",
       "text": [
        "nohup /home/nathan/projects/MMPBSA/COMT/1_WT_3BWM/2_SAM/TCW/101/1_md/send_job_mmpbsa > /home/nathan/projects/MMPBSA/COMT/1_WT_3BWM/2_SAM/TCW/101/1_md/150906-mdin_min.out &\n",
        "\n"
       ]
      },
      {
       "output_type": "stream",
       "stream": "stdout",
       "text": [
        "nohup /home/nathan/projects/MMPBSA/COMT/1_WT_3BWM/2_SAM/TCW/111/1_md/send_job_mmpbsa > /home/nathan/projects/MMPBSA/COMT/1_WT_3BWM/2_SAM/TCW/111/1_md/150906-mdin_min.out &\n",
        "\n"
       ]
      },
      {
       "output_type": "stream",
       "stream": "stdout",
       "text": [
        "nohup /home/nathan/projects/MMPBSA/COMT/1_WT_3BWM/2_SAM/LNR/111/1_md/send_job_mmpbsa > /home/nathan/projects/MMPBSA/COMT/1_WT_3BWM/2_SAM/LNR/111/1_md/150906-mdin_min.out &\n",
        "\n"
       ]
      },
      {
       "output_type": "stream",
       "stream": "stdout",
       "text": [
        "nohup /home/nathan/projects/MMPBSA/COMT/1_WT_3BWM/2_SAM/LNR/110/1_md/send_job_mmpbsa > /home/nathan/projects/MMPBSA/COMT/1_WT_3BWM/2_SAM/LNR/110/1_md/150906-mdin_min.out &\n",
        "\n"
       ]
      },
      {
       "output_type": "stream",
       "stream": "stdout",
       "text": [
        "nohup /home/nathan/projects/MMPBSA/COMT/1_WT_3BWM/2_SAM/ALE/000/1_md/send_job_mmpbsa > /home/nathan/projects/MMPBSA/COMT/1_WT_3BWM/2_SAM/ALE/000/1_md/150906-mdin_min.out &\n",
        "\n"
       ]
      },
      {
       "output_type": "stream",
       "stream": "stdout",
       "text": [
        "nohup /home/nathan/projects/MMPBSA/COMT/1_WT_3BWM/2_SAM/ALE/111/1_md/send_job_mmpbsa > /home/nathan/projects/MMPBSA/COMT/1_WT_3BWM/2_SAM/ALE/111/1_md/150906-mdin_min.out &\n",
        "\n"
       ]
      },
      {
       "output_type": "stream",
       "stream": "stdout",
       "text": [
        "nohup /home/nathan/projects/MMPBSA/COMT/1_WT_3BWM/2_SAM/ALE/110/1_md/send_job_mmpbsa > /home/nathan/projects/MMPBSA/COMT/1_WT_3BWM/2_SAM/ALE/110/1_md/150906-mdin_min.out &\n",
        "\n"
       ]
      },
      {
       "output_type": "stream",
       "stream": "stdout",
       "text": [
        "nohup /home/nathan/projects/MMPBSA/COMT/1_WT_3BWM/2_SAM/DNC/101/1_md/send_job_mmpbsa > /home/nathan/projects/MMPBSA/COMT/1_WT_3BWM/2_SAM/DNC/101/1_md/150906-mdin_min.out &\n",
        "\n"
       ]
      },
      {
       "output_type": "stream",
       "stream": "stdout",
       "text": [
        "nohup /home/nathan/projects/MMPBSA/COMT/1_WT_3BWM/2_SAM/DNC/111/1_md/send_job_mmpbsa > /home/nathan/projects/MMPBSA/COMT/1_WT_3BWM/2_SAM/DNC/111/1_md/150906-mdin_min.out &\n",
        "\n"
       ]
      },
      {
       "output_type": "stream",
       "stream": "stdout",
       "text": [
        "nohup /home/nathan/projects/MMPBSA/COMT/1_WT_3BWM/2_SAM/SID/001/1_md/send_job_mmpbsa > /home/nathan/projects/MMPBSA/COMT/1_WT_3BWM/2_SAM/SID/001/1_md/150906-mdin_min.out &\n",
        "\n"
       ]
      },
      {
       "output_type": "stream",
       "stream": "stdout",
       "text": [
        "nohup /home/nathan/projects/MMPBSA/COMT/1_WT_3BWM/2_SAM/SID/101/1_md/send_job_mmpbsa > /home/nathan/projects/MMPBSA/COMT/1_WT_3BWM/2_SAM/SID/101/1_md/150906-mdin_min.out &\n",
        "\n"
       ]
      },
      {
       "output_type": "stream",
       "stream": "stdout",
       "text": [
        "nohup /home/nathan/projects/MMPBSA/COMT/1_WT_3BWM/2_SAM/SID/111/1_md/send_job_mmpbsa > /home/nathan/projects/MMPBSA/COMT/1_WT_3BWM/2_SAM/SID/111/1_md/150906-mdin_min.out &\n",
        "\n"
       ]
      }
     ],
     "prompt_number": 223
    }
   ],
   "metadata": {}
  }
 ]
}