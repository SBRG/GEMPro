{
 "cells": [
  {
   "cell_type": "markdown",
   "metadata": {
    "toc": "true"
   },
   "source": [
    "# Table of Contents\n",
    " <p><div class=\"lev1\"><a href=\"#Introduction\"><span class=\"toc-item-num\">1 - </span>Introduction</a></div><div class=\"lev1\"><a href=\"#Folder-initialization-&amp;-imports\"><span class=\"toc-item-num\">2 - </span>Folder initialization &amp; imports</a></div><div class=\"lev1\"><a href=\"#Mapping-to-experimental-structures\"><span class=\"toc-item-num\">3 - </span>Mapping to experimental structures</a></div><div class=\"lev2\"><a href=\"#Loading-the-GEM\"><span class=\"toc-item-num\">3.1 - </span>Loading the GEM</a></div><div class=\"lev2\"><a href=\"#Dataframe-creation\"><span class=\"toc-item-num\">3.2 - </span>Dataframe creation</a></div><div class=\"lev3\"><a href=\"#Mapping-gene-IDs-to-UniProt-IDs\"><span class=\"toc-item-num\">3.2.1 - </span>Mapping gene IDs to UniProt IDs</a></div><div class=\"lev4\"><a href=\"#Manually-mapping-ones-that-didn't-map\"><span class=\"toc-item-num\">3.2.1.1 - </span>Manually mapping ones that didn't map</a></div><div class=\"lev3\"><a href=\"#Mapping-UniProt-IDs-to-PDB-IDs\"><span class=\"toc-item-num\">3.2.2 - </span>Mapping UniProt IDs to PDB IDs</a></div><div class=\"lev4\"><a href=\"#Alternate-mapping:-BLASTing-the-PDB\"><span class=\"toc-item-num\">3.2.2.1 - </span>Alternate mapping: BLASTing the PDB</a></div><div class=\"lev3\"><a href=\"#Creating-and-saving-the-mapping-Dataframe\"><span class=\"toc-item-num\">3.2.3 - </span>Creating and saving the mapping Dataframe</a></div><div class=\"lev3\"><a href=\"#Obtaining-sequence-metadata\"><span class=\"toc-item-num\">3.2.4 - </span>Obtaining sequence metadata</a></div><div class=\"lev3\"><a href=\"#Obtaining-structure-metadata\"><span class=\"toc-item-num\">3.2.5 - </span>Obtaining structure metadata</a></div><div class=\"lev3\"><a href=\"#Final-integrated-DataFrame\"><span class=\"toc-item-num\">3.2.6 - </span>Final integrated DataFrame</a></div><div class=\"lev1\"><a href=\"#Mapping-to-homology-models\"><span class=\"toc-item-num\">4 - </span>Mapping to homology models</a></div><div class=\"lev2\"><a href=\"#Loading-existing-gene--&gt;-homology-model-dataframe\"><span class=\"toc-item-num\">4.1 - </span>Loading existing gene -&gt; homology model dataframe</a></div><div class=\"lev2\"><a href=\"#Merging-with-the-created-GEM-PRO\"><span class=\"toc-item-num\">4.2 - </span>Merging with the created GEM-PRO</a></div><div class=\"lev1\"><a href=\"#Ranking-experimental-structures\"><span class=\"toc-item-num\">5 - </span>Ranking experimental structures</a></div><div class=\"lev2\"><a href=\"#Scoring-sequence-identity\"><span class=\"toc-item-num\">5.1 - </span>Scoring sequence identity</a></div><div class=\"lev3\"><a href=\"#Writing-FASTA-files-for-the-original-sequence\"><span class=\"toc-item-num\">5.1.1 - </span>Writing FASTA files for the original sequence</a></div><div class=\"lev3\"><a href=\"#Writing-FASTA-files-for-the-structures\"><span class=\"toc-item-num\">5.1.2 - </span>Writing FASTA files for the structures</a></div><div class=\"lev3\"><a href=\"#Aligning-the-structures-to-the-sequence\"><span class=\"toc-item-num\">5.1.3 - </span>Aligning the structures to the sequence</a></div><div class=\"lev3\"><a href=\"#Scoring\"><span class=\"toc-item-num\">5.1.4 - </span>Scoring</a></div><div class=\"lev2\"><a href=\"#Scoring-resolution\"><span class=\"toc-item-num\">5.2 - </span>Scoring resolution</a></div><div class=\"lev2\"><a href=\"#Merging-scores-&amp;-ranking\"><span class=\"toc-item-num\">5.3 - </span>Merging scores &amp; ranking</a></div><div class=\"lev1\"><a href=\"#Saving-the-final-GEM-PRO-dataframe\"><span class=\"toc-item-num\">6 - </span>Saving the final GEM-PRO dataframe</a></div>"
   ]
  },
  {
   "cell_type": "markdown",
   "metadata": {},
   "source": [
    "# Introduction\n",
    "\n",
    "<span style=\"background-color:#66FF99\">**This IPython notebook will guide you through the creation of a GEM-PRO, for the *E. coli* model iJO1366.**</span>\n",
    "\n",
    "There are three main stages to this workflow.\n",
    "\n",
    "1. Mapping gene IDs to experimentally solved protein structures, available in the Protein Data Bank (PDB)\n",
    "2. Creating new or mapping to existing homology models for genes that do not have an experimentally solved structure.\n",
    "3. Ranking available experimentally solved structures.\n",
    "\n",
    "Following notebooks will outline how we can use this GEM-PRO for strain specific comparisons through 55 *E. coli* strains."
   ]
  },
  {
   "cell_type": "markdown",
   "metadata": {},
   "source": [
    "# Folder initialization & imports\n",
    "\n",
    "<span style=\"background-color:#66FF99\">**Before we begin, we are going to create the folder structure for our files. **</span>\n",
    "\n",
    "Also, there are a couple of packages required (already installed on the 212 machine). If you are planning to use your own machine, let me know!\n",
    "\n",
    "- Bioservices for querying various REST services\n",
    "        pip install bioservices\n",
    "\n",
    "- libsbml for reading SBML models\n",
    "        pip install python-libsbml\n",
    "        \n",
    "- Biopython and ProDy for various structural methods\n",
    "        pip install prody\n",
    "        pip install biopython (https://github.com/nmih/biopython contains an altered version for scripts in stage 3)\n",
    "        \n",
    "- Other\n",
    "        pip install xmltodict"
   ]
  },
  {
   "cell_type": "markdown",
   "metadata": {},
   "source": [
    "<span style=\"background-color:#66FF99\">**SSBIO**</span>\n",
    "\n",
    "This notebook contains a variety of imports and functions that are used throughout the workflow. Functions that are used throughout the workflow or those that have a general use are stored in *ssbio*. More specific functions, such as the manual adder below, are isolated in their respective notebooks. For detailed information on the contents of *ssbio*, simply open the notebook."
   ]
  },
  {
   "cell_type": "code",
   "execution_count": 1,
   "metadata": {
    "collapsed": false
   },
   "outputs": [
    {
     "name": "stderr",
     "output_type": "stream",
     "text": [
      "@> ProDy is configured: verbosity='none'\n",
      "INFO:.prody:ProDy is configured: verbosity='none'\n"
     ]
    }
   ],
   "source": [
    "%run 'ssbio_01.ipynb'"
   ]
  },
  {
   "cell_type": "code",
   "execution_count": 34,
   "metadata": {
    "collapsed": false
   },
   "outputs": [],
   "source": [
    "import os\n",
    "import shutil\n",
    "from tqdm import tqdm"
   ]
  },
  {
   "cell_type": "code",
   "execution_count": 4,
   "metadata": {
    "collapsed": false
   },
   "outputs": [],
   "source": [
    "GEM_FILE_TEMP = './iJO1366.xml'"
   ]
  },
  {
   "cell_type": "code",
   "execution_count": 5,
   "metadata": {
    "collapsed": true
   },
   "outputs": [],
   "source": [
    "GEM_NAME = 'iJO1366'\n",
    "GEM_GENE_SOURCE = 'ENSEMBLGENOME_ID'\n",
    "UNIPROT_REVIEWED_ONLY = True\n",
    "ROOT_DIR = os.getcwd()"
   ]
  },
  {
   "cell_type": "code",
   "execution_count": 6,
   "metadata": {
    "collapsed": true
   },
   "outputs": [],
   "source": [
    "MODEL_DIR = os.path.join(ROOT_DIR, GEM_NAME)\n",
    "\n",
    "# data_frames - directory where all data frames will be stored (all stages)\n",
    "DATA_FRAMES = os.path.join(MODEL_DIR, 'data_frames')\n",
    "\n",
    "# model_files - directory where original GEMs and GEM-related files are stored\n",
    "MODEL_FILES = os.path.join(MODEL_DIR, 'model_files')\n",
    "\n",
    "# sequence_files - directory where all sequence related files are stored\n",
    "SEQ_FILES = os.path.join(MODEL_DIR, 'sequence_files')\n",
    "SEQ_UNIPROT_FILES = os.path.join(SEQ_FILES, 'uniprot_sequences')\n",
    "SEQ_PDB_FILES = os.path.join(SEQ_FILES, 'pdb_sequences')\n",
    "SEQ_ALIGN_FILES = os.path.join(SEQ_FILES, 'alignment')\n",
    "\n",
    "# structure_files - directory where structure related files will be downloaded/are located\n",
    "STRUCT_FILES = os.path.join(MODEL_DIR, 'structure_files')\n",
    "STRUCT_EXP_FILES = os.path.join(STRUCT_FILES, 'experimental')\n",
    "STRUCT_HOMOLOGY_FILES = os.path.join(STRUCT_FILES, 'homology_models')"
   ]
  },
  {
   "cell_type": "code",
   "execution_count": 7,
   "metadata": {
    "collapsed": false
   },
   "outputs": [],
   "source": [
    "for directory in [MODEL_DIR, DATA_FRAMES, MODEL_FILES, \n",
    "                  SEQ_FILES, SEQ_UNIPROT_FILES, SEQ_PDB_FILES, SEQ_ALIGN_FILES,\n",
    "                  STRUCT_FILES, STRUCT_EXP_FILES, STRUCT_HOMOLOGY_FILES]:\n",
    "    if not os.path.exists(directory):\n",
    "        os.makedirs(directory)\n",
    "\n",
    "shutil.copy(GEM_FILE_TEMP, MODEL_FILES)\n",
    "GEM_FILE = os.path.join(MODEL_FILES, os.path.basename(GEM_FILE_TEMP))"
   ]
  },
  {
   "cell_type": "markdown",
   "metadata": {
    "collapsed": true
   },
   "source": [
    "# Mapping to experimental structures"
   ]
  },
  {
   "cell_type": "markdown",
   "metadata": {},
   "source": [
    "<span style=\"background-color:#66FF99\">**The first step of this workflow is to utilize ID mapping services to map gene IDs to:**</span>\n",
    "\n",
    "1. The UniProt sequence database\n",
    "2. Available protein structures in the PDB\n",
    "\n",
    "<span style=\"background-color:orange\">**NOTE: students can skip parts of this for their \"base\" models, we will provide the mapping dataframes of gene to sequence to available structures. Parts that can be skipped will be highlighted in orange.**</span>"
   ]
  },
  {
   "cell_type": "markdown",
   "metadata": {},
   "source": [
    "## Loading the GEM"
   ]
  },
  {
   "cell_type": "code",
   "execution_count": 8,
   "metadata": {
    "collapsed": false
   },
   "outputs": [],
   "source": [
    "from cobra import Model, Reaction, Metabolite\n",
    "from cobra.io.sbml import create_cobra_model_from_sbml_file\n",
    "\n",
    "model = create_cobra_model_from_sbml_file(GEM_FILE)"
   ]
  },
  {
   "cell_type": "markdown",
   "metadata": {
    "collapsed": true
   },
   "source": [
    "## Dataframe creation"
   ]
  },
  {
   "cell_type": "markdown",
   "metadata": {},
   "source": [
    "<span style=\"background-color:#66FF99\">**All data will be stored in a Pandas Dataframe, where a column starting with:**</span>\n",
    "* m_ is information that comes directly from the GEM\n",
    "* u_ is information that comes from UniProt\n",
    "* p_ is information that comes from the PDB"
   ]
  },
  {
   "cell_type": "markdown",
   "metadata": {},
   "source": [
    "### Mapping gene IDs to UniProt IDs"
   ]
  },
  {
   "cell_type": "markdown",
   "metadata": {},
   "source": [
    "<span style=\"background-color:orange\">**SKIP**</span>"
   ]
  },
  {
   "cell_type": "code",
   "execution_count": 9,
   "metadata": {
    "collapsed": false
   },
   "outputs": [],
   "source": [
    "# # mapping gene IDs to uniprot IDs\n",
    "\n",
    "gene_ids = []\n",
    "for gene in model.genes:\n",
    "    gene_ids.append(gene.id)\n",
    "genes_to_uniprots = bsup.mapping(fr=GEM_GENE_SOURCE, to='ACC', query=gene_ids)\n",
    "genes_to_uniprots_missing = list(set(gene_ids).difference(genes_to_uniprots.keys()))"
   ]
  },
  {
   "cell_type": "code",
   "execution_count": 10,
   "metadata": {
    "collapsed": false
   },
   "outputs": [
    {
     "data": {
      "text/plain": [
       "['b2092']"
      ]
     },
     "execution_count": 10,
     "metadata": {},
     "output_type": "execute_result"
    }
   ],
   "source": [
    "genes_to_uniprots_missing"
   ]
  },
  {
   "cell_type": "markdown",
   "metadata": {},
   "source": [
    "#### Manually mapping ones that didn't map"
   ]
  },
  {
   "cell_type": "markdown",
   "metadata": {},
   "source": [
    "<span style=\"background-color:orange\">**SKIP**</span>"
   ]
  },
  {
   "cell_type": "code",
   "execution_count": 11,
   "metadata": {
    "collapsed": false
   },
   "outputs": [
    {
     "name": "stdout",
     "output_type": "stream",
     "text": [
      "Enter UniProt ID for b2092 ('skip' to ignore): P69831\n"
     ]
    }
   ],
   "source": [
    "def manual_adder(no_mapping, mapping_dict):\n",
    "    final_missing = []\n",
    "    for m_gene in no_mapping:\n",
    "        manual_uniprot = raw_input('Enter UniProt ID for %s (\\'skip\\' to ignore): ' % m_gene)\n",
    "        if manual_uniprot.lower() == 'skip':\n",
    "            final_missing.append(m_gene)\n",
    "            continue\n",
    "        while not uniprot_valid_id(manual_uniprot):\n",
    "            warnings.warn('WARNING: invalid UniProt ID, enter again:')\n",
    "            manual_uniprot = raw_input('Enter UniProt ID for %s (\\'skip\\' to ignore): ' % m_gene)\n",
    "        mapping_dict[m_gene] = [manual_uniprot]\n",
    "        \n",
    "    return mapping_dict, final_missing\n",
    "\n",
    "genes_to_uniprots, final_missing = manual_adder(genes_to_uniprots_missing, genes_to_uniprots)"
   ]
  },
  {
   "cell_type": "code",
   "execution_count": 12,
   "metadata": {
    "collapsed": false
   },
   "outputs": [
    {
     "data": {
      "text/plain": [
       "[]"
      ]
     },
     "execution_count": 12,
     "metadata": {},
     "output_type": "execute_result"
    }
   ],
   "source": [
    "# we can't map these\n",
    "final_missing"
   ]
  },
  {
   "cell_type": "markdown",
   "metadata": {},
   "source": [
    "### Mapping UniProt IDs to PDB IDs"
   ]
  },
  {
   "cell_type": "markdown",
   "metadata": {},
   "source": [
    "<span style=\"background-color:orange\">**SKIP**</span>"
   ]
  },
  {
   "cell_type": "code",
   "execution_count": 13,
   "metadata": {
    "collapsed": false
   },
   "outputs": [],
   "source": [
    "uniprots = flatlist_dropdup(genes_to_uniprots.values())\n",
    "uniprots_to_pdbs = bioservices_uniprot_mapper('ACC', 'PDB_ID', uniprots)\n",
    "uniprots_status = uniprot_reviewed_checker(uniprots)\n",
    "unreviewed_uniprots = dict((k, v) for k, v in uniprots_status.iteritems() if v != 'reviewed')"
   ]
  },
  {
   "cell_type": "code",
   "execution_count": 14,
   "metadata": {
    "collapsed": true
   },
   "outputs": [],
   "source": [
    "# gathering obsolete and theoretical PDBs\n",
    "all_pdbs = flatlist_dropdup(uniprots_to_pdbs.values())\n",
    "pdbs_status = pdb_current_checker(all_pdbs)\n",
    "discard_pdbs = dict((k, v) for k, v in pdbs_status.iteritems() if v == 'theoretical' or v == 'obsolete')\n",
    "obsolete_pdbs_to_new = dict((k, v) for k, v in pdbs_status.iteritems() if isinstance(v,list))"
   ]
  },
  {
   "cell_type": "markdown",
   "metadata": {},
   "source": [
    "### Creating and saving the mapping Dataframe"
   ]
  },
  {
   "cell_type": "markdown",
   "metadata": {},
   "source": [
    "<span style=\"background-color:orange\">**SKIP**</span>"
   ]
  },
  {
   "cell_type": "code",
   "execution_count": 15,
   "metadata": {
    "collapsed": false
   },
   "outputs": [],
   "source": [
    "# filtering and creating a mapping dataframe\n",
    "DF_MAP_GENE_UNIPROT_PDB = pd.DataFrame(columns=['m_gene', 'u_uniprot_acc', 'u_reviewed', 'u_pdb'])\n",
    "\n",
    "for gene,uniprots in genes_to_uniprots.iteritems():\n",
    "    \n",
    "    # filtering out unreviewed UniProt entries (if specified)\n",
    "    if UNIPROT_REVIEWED_ONLY:\n",
    "        uniprots = list(set(uniprots).difference(unreviewed_uniprots.keys()))\n",
    "    \n",
    "    if not uniprots:\n",
    "        appender = {}\n",
    "        appender['m_gene'] = gene\n",
    "        DF_MAP_GENE_UNIPROT_PDB = DF_MAP_GENE_UNIPROT_PDB.append(appender, ignore_index=True)\n",
    "    \n",
    "    for uniprot in uniprots:\n",
    "        if uniprot in unreviewed_uniprots:\n",
    "            u_reviewed = False\n",
    "        else:\n",
    "            u_reviewed = True\n",
    "        \n",
    "        if uniprot in uniprots_to_pdbs:\n",
    "            pdbs = uniprots_to_pdbs[uniprot]\n",
    "            \n",
    "            # next, filtering out theoretical PDB models and replacing obsolete IDs with new ones\n",
    "            pdbs_filter = list(set(pdbs).difference(discard_pdbs.keys()))\n",
    "            obsoletes = list(set(pdbs).intersection(obsolete_pdbs_to_new.keys()))\n",
    "            for obsolete in obsoletes:\n",
    "                replacer = obsolete_pdbs_to_new[obsolete]\n",
    "                pdbs_filter.remove(obsolete)\n",
    "                pdbs_filter.extend(replacer)\n",
    "            \n",
    "            pdbs_filter = list(set(pdbs_filter))\n",
    "            \n",
    "            if not pdbs_filter:\n",
    "                pdbs_filter.append(np.nan)\n",
    "            \n",
    "            for pdb in pdbs_filter:\n",
    "                appender = {}\n",
    "                appender['m_gene'] = gene\n",
    "                appender['u_uniprot_acc'] = uniprot\n",
    "                appender['u_reviewed'] = u_reviewed\n",
    "                appender['u_pdb'] = pdb\n",
    "                DF_MAP_GENE_UNIPROT_PDB = DF_MAP_GENE_UNIPROT_PDB.append(appender, ignore_index=True)\n",
    "                \n",
    "        else:\n",
    "            appender = {}\n",
    "            appender['m_gene'] = gene\n",
    "            appender['u_uniprot_acc'] = uniprot\n",
    "            appender['u_reviewed'] = u_reviewed\n",
    "            DF_MAP_GENE_UNIPROT_PDB = DF_MAP_GENE_UNIPROT_PDB.append(appender, ignore_index=True)"
   ]
  },
  {
   "cell_type": "code",
   "execution_count": 16,
   "metadata": {
    "collapsed": false
   },
   "outputs": [
    {
     "data": {
      "text/html": [
       "<div>\n",
       "<table border=\"1\" class=\"dataframe\">\n",
       "  <thead>\n",
       "    <tr style=\"text-align: right;\">\n",
       "      <th></th>\n",
       "      <th>m_gene</th>\n",
       "      <th>u_uniprot_acc</th>\n",
       "      <th>u_reviewed</th>\n",
       "      <th>u_pdb</th>\n",
       "    </tr>\n",
       "  </thead>\n",
       "  <tbody>\n",
       "    <tr>\n",
       "      <th>0</th>\n",
       "      <td>b3821</td>\n",
       "      <td>P0A921</td>\n",
       "      <td>True</td>\n",
       "      <td>1ILD</td>\n",
       "    </tr>\n",
       "    <tr>\n",
       "      <th>1</th>\n",
       "      <td>b3821</td>\n",
       "      <td>P0A921</td>\n",
       "      <td>True</td>\n",
       "      <td>1FW2</td>\n",
       "    </tr>\n",
       "    <tr>\n",
       "      <th>2</th>\n",
       "      <td>b3821</td>\n",
       "      <td>P0A921</td>\n",
       "      <td>True</td>\n",
       "      <td>1FW3</td>\n",
       "    </tr>\n",
       "    <tr>\n",
       "      <th>3</th>\n",
       "      <td>b3821</td>\n",
       "      <td>P0A921</td>\n",
       "      <td>True</td>\n",
       "      <td>1QD6</td>\n",
       "    </tr>\n",
       "    <tr>\n",
       "      <th>4</th>\n",
       "      <td>b3821</td>\n",
       "      <td>P0A921</td>\n",
       "      <td>True</td>\n",
       "      <td>1QD5</td>\n",
       "    </tr>\n",
       "  </tbody>\n",
       "</table>\n",
       "</div>"
      ],
      "text/plain": [
       "  m_gene u_uniprot_acc u_reviewed u_pdb\n",
       "0  b3821        P0A921       True  1ILD\n",
       "1  b3821        P0A921       True  1FW2\n",
       "2  b3821        P0A921       True  1FW3\n",
       "3  b3821        P0A921       True  1QD6\n",
       "4  b3821        P0A921       True  1QD5"
      ]
     },
     "execution_count": 16,
     "metadata": {},
     "output_type": "execute_result"
    }
   ],
   "source": [
    "DF_MAP_GENE_UNIPROT_PDB.head()"
   ]
  },
  {
   "cell_type": "code",
   "execution_count": 17,
   "metadata": {
    "collapsed": true
   },
   "outputs": [],
   "source": [
    "DF_MAP_GENE_UNIPROT_PDB.to_csv(os.path.join(DATA_FRAMES, 'DF_MAP_GENE_UNIPROT_PDB.csv'))"
   ]
  },
  {
   "cell_type": "code",
   "execution_count": null,
   "metadata": {
    "collapsed": true
   },
   "outputs": [],
   "source": [
    "DF_MAP_GENE_UNIPROT_PDB = pd.read_csv(os.path.join(DATA_FRAMES, 'DF_MAP_GENE_UNIPROT_PDB.csv'))"
   ]
  },
  {
   "cell_type": "markdown",
   "metadata": {},
   "source": [
    "<span style=\"background-color:RED\">**ABOVE DATAFRAME -- to be provided**</span>"
   ]
  },
  {
   "cell_type": "markdown",
   "metadata": {
    "collapsed": true
   },
   "source": [
    "### Obtaining sequence metadata"
   ]
  },
  {
   "cell_type": "markdown",
   "metadata": {},
   "source": [
    "<span style=\"background-color:orange\">**SKIP**</span>"
   ]
  },
  {
   "cell_type": "code",
   "execution_count": 18,
   "metadata": {
    "collapsed": true
   },
   "outputs": [],
   "source": [
    "uniprot_accs = list(DF_MAP_GENE_UNIPROT_PDB[DF_MAP_GENE_UNIPROT_PDB.u_uniprot_acc.notnull()].u_uniprot_acc.unique())"
   ]
  },
  {
   "cell_type": "code",
   "execution_count": 19,
   "metadata": {
    "collapsed": false
   },
   "outputs": [
    {
     "name": "stdout",
     "output_type": "stream",
     "text": [
      "***PROGRESS: P0C8K0 - PARSED 1367/1367 UNIPROT IDS***\n",
      "\n"
     ]
    }
   ],
   "source": [
    "uniprot_metadata_all = uniprot_metadata(uniprot_accs)"
   ]
  },
  {
   "cell_type": "code",
   "execution_count": 20,
   "metadata": {
    "collapsed": true
   },
   "outputs": [],
   "source": [
    "DF_METADATA_UNIPROT = pd.DataFrame.from_dict(uniprot_metadata_all, orient='index')\n",
    "cols = ['u_uniprot_acc', 'u_gene_name', 'u_ec_number', 'u_description', 'u_seq', 'u_seq_len',\n",
    "        'u_pfam', 'u_kegg_id', 'u_refseq', 'u_go', 'u_reviewed']\n",
    "DF_METADATA_UNIPROT = DF_METADATA_UNIPROT[cols]"
   ]
  },
  {
   "cell_type": "code",
   "execution_count": 21,
   "metadata": {
    "collapsed": true
   },
   "outputs": [],
   "source": [
    "DF_METADATA_UNIPROT.to_csv(os.path.join(DATA_FRAMES, 'DF_METADATA_UNIPROT.csv'))"
   ]
  },
  {
   "cell_type": "code",
   "execution_count": 22,
   "metadata": {
    "collapsed": false
   },
   "outputs": [
    {
     "data": {
      "text/html": [
       "<div>\n",
       "<table border=\"1\" class=\"dataframe\">\n",
       "  <thead>\n",
       "    <tr style=\"text-align: right;\">\n",
       "      <th></th>\n",
       "      <th>u_uniprot_acc</th>\n",
       "      <th>u_gene_name</th>\n",
       "      <th>u_ec_number</th>\n",
       "      <th>u_description</th>\n",
       "      <th>u_seq</th>\n",
       "      <th>u_seq_len</th>\n",
       "      <th>u_pfam</th>\n",
       "      <th>u_kegg_id</th>\n",
       "      <th>u_refseq</th>\n",
       "      <th>u_go</th>\n",
       "      <th>u_reviewed</th>\n",
       "    </tr>\n",
       "  </thead>\n",
       "  <tbody>\n",
       "    <tr>\n",
       "      <th>O32583</th>\n",
       "      <td>O32583</td>\n",
       "      <td>thiS</td>\n",
       "      <td>NaN</td>\n",
       "      <td>['Thiamine biosynthesis protein ThiS', 'Sulfur...</td>\n",
       "      <td>MQILFNDQAMQCAAGQTVHELLEQLDQRQAGAALAINQQIVPREQW...</td>\n",
       "      <td>66</td>\n",
       "      <td>['PF02597']</td>\n",
       "      <td>['ecj:JW3955', 'eco:b4407']</td>\n",
       "      <td>['WP_001166226.1', 'NZ_LN832404.1', 'YP_026279...</td>\n",
       "      <td>['GO:0000166; F:nucleotide binding; IEA:UniPro...</td>\n",
       "      <td>True</td>\n",
       "    </tr>\n",
       "    <tr>\n",
       "      <th>P00350</th>\n",
       "      <td>P00350</td>\n",
       "      <td>gnd</td>\n",
       "      <td>['1.1.1.44']</td>\n",
       "      <td>['6-phosphogluconate dehydrogenase, decarboxyl...</td>\n",
       "      <td>MSKQQIGVVGMAVMGRNLALNIESRGYTVSIFNRSREKTEEVIAEN...</td>\n",
       "      <td>468</td>\n",
       "      <td>['PF00393', 'PF03446']</td>\n",
       "      <td>['ecj:JW2011', 'eco:b2029']</td>\n",
       "      <td>['NP_416533.1', 'NC_000913.3', 'WP_000043484.1...</td>\n",
       "      <td>['GO:0005829; C:cytosol; IDA:EcoCyc.', 'GO:004...</td>\n",
       "      <td>True</td>\n",
       "    </tr>\n",
       "    <tr>\n",
       "      <th>P00363</th>\n",
       "      <td>P00363</td>\n",
       "      <td>frdA</td>\n",
       "      <td>['1.3.5.4']</td>\n",
       "      <td>['Fumarate reductase flavoprotein subunit']</td>\n",
       "      <td>MQTFQADLAIVGAGGAGLRAAIAAAQANPNAKIALISKVYPMRSHT...</td>\n",
       "      <td>602</td>\n",
       "      <td>['PF00890', 'PF02910']</td>\n",
       "      <td>['ecj:JW4115', 'eco:b4154']</td>\n",
       "      <td>['NP_418578.1', 'NC_000913.3', 'WP_001192973.1...</td>\n",
       "      <td>['GO:0005829; C:cytosol; IDA:EcoCyc.', 'GO:001...</td>\n",
       "      <td>True</td>\n",
       "    </tr>\n",
       "    <tr>\n",
       "      <th>P00370</th>\n",
       "      <td>P00370</td>\n",
       "      <td>gdhA</td>\n",
       "      <td>['1.4.1.4']</td>\n",
       "      <td>['NADP-GDH', 'NADP-specific glutamate dehydrog...</td>\n",
       "      <td>MDQTYSLESFLNHVQKRDPNQTEFAQAVREVMTTLWPFLEQNPKYR...</td>\n",
       "      <td>447</td>\n",
       "      <td>['PF00208', 'PF02812']</td>\n",
       "      <td>['ecj:JW1750', 'eco:b1761']</td>\n",
       "      <td>['NP_416275.1', 'NC_000913.3', 'WP_000373021.1...</td>\n",
       "      <td>['GO:0005737; C:cytoplasm; IDA:EcoliWiki.', 'G...</td>\n",
       "      <td>True</td>\n",
       "    </tr>\n",
       "    <tr>\n",
       "      <th>P00393</th>\n",
       "      <td>P00393</td>\n",
       "      <td>ndh</td>\n",
       "      <td>['1.6.99.3']</td>\n",
       "      <td>['NADH dehydrogenase']</td>\n",
       "      <td>MTTPLKKIVIVGGGAGGLEMATQLGHKLGRKKKAKITLVDRNHSHL...</td>\n",
       "      <td>434</td>\n",
       "      <td>['PF07992']</td>\n",
       "      <td>['ecj:JW1095', 'eco:b1109']</td>\n",
       "      <td>['NP_415627.1', 'NC_000913.3', 'WP_000211045.1...</td>\n",
       "      <td>['GO:0030964; C:NADH dehydrogenase complex; ID...</td>\n",
       "      <td>True</td>\n",
       "    </tr>\n",
       "  </tbody>\n",
       "</table>\n",
       "</div>"
      ],
      "text/plain": [
       "       u_uniprot_acc u_gene_name   u_ec_number  \\\n",
       "O32583        O32583        thiS           NaN   \n",
       "P00350        P00350         gnd  ['1.1.1.44']   \n",
       "P00363        P00363        frdA   ['1.3.5.4']   \n",
       "P00370        P00370        gdhA   ['1.4.1.4']   \n",
       "P00393        P00393         ndh  ['1.6.99.3']   \n",
       "\n",
       "                                            u_description  \\\n",
       "O32583  ['Thiamine biosynthesis protein ThiS', 'Sulfur...   \n",
       "P00350  ['6-phosphogluconate dehydrogenase, decarboxyl...   \n",
       "P00363        ['Fumarate reductase flavoprotein subunit']   \n",
       "P00370  ['NADP-GDH', 'NADP-specific glutamate dehydrog...   \n",
       "P00393                             ['NADH dehydrogenase']   \n",
       "\n",
       "                                                    u_seq  u_seq_len  \\\n",
       "O32583  MQILFNDQAMQCAAGQTVHELLEQLDQRQAGAALAINQQIVPREQW...         66   \n",
       "P00350  MSKQQIGVVGMAVMGRNLALNIESRGYTVSIFNRSREKTEEVIAEN...        468   \n",
       "P00363  MQTFQADLAIVGAGGAGLRAAIAAAQANPNAKIALISKVYPMRSHT...        602   \n",
       "P00370  MDQTYSLESFLNHVQKRDPNQTEFAQAVREVMTTLWPFLEQNPKYR...        447   \n",
       "P00393  MTTPLKKIVIVGGGAGGLEMATQLGHKLGRKKKAKITLVDRNHSHL...        434   \n",
       "\n",
       "                        u_pfam                    u_kegg_id  \\\n",
       "O32583             ['PF02597']  ['ecj:JW3955', 'eco:b4407']   \n",
       "P00350  ['PF00393', 'PF03446']  ['ecj:JW2011', 'eco:b2029']   \n",
       "P00363  ['PF00890', 'PF02910']  ['ecj:JW4115', 'eco:b4154']   \n",
       "P00370  ['PF00208', 'PF02812']  ['ecj:JW1750', 'eco:b1761']   \n",
       "P00393             ['PF07992']  ['ecj:JW1095', 'eco:b1109']   \n",
       "\n",
       "                                                 u_refseq  \\\n",
       "O32583  ['WP_001166226.1', 'NZ_LN832404.1', 'YP_026279...   \n",
       "P00350  ['NP_416533.1', 'NC_000913.3', 'WP_000043484.1...   \n",
       "P00363  ['NP_418578.1', 'NC_000913.3', 'WP_001192973.1...   \n",
       "P00370  ['NP_416275.1', 'NC_000913.3', 'WP_000373021.1...   \n",
       "P00393  ['NP_415627.1', 'NC_000913.3', 'WP_000211045.1...   \n",
       "\n",
       "                                                     u_go u_reviewed  \n",
       "O32583  ['GO:0000166; F:nucleotide binding; IEA:UniPro...       True  \n",
       "P00350  ['GO:0005829; C:cytosol; IDA:EcoCyc.', 'GO:004...       True  \n",
       "P00363  ['GO:0005829; C:cytosol; IDA:EcoCyc.', 'GO:001...       True  \n",
       "P00370  ['GO:0005737; C:cytoplasm; IDA:EcoliWiki.', 'G...       True  \n",
       "P00393  ['GO:0030964; C:NADH dehydrogenase complex; ID...       True  "
      ]
     },
     "execution_count": 22,
     "metadata": {},
     "output_type": "execute_result"
    }
   ],
   "source": [
    "DF_METADATA_UNIPROT = pd.read_csv(os.path.join(DATA_FRAMES, 'DF_METADATA_UNIPROT.csv'), index_col=0)\n",
    "DF_METADATA_UNIPROT.head()"
   ]
  },
  {
   "cell_type": "markdown",
   "metadata": {},
   "source": [
    "<span style=\"background-color:RED\">**ABOVE DATAFRAME -- to be provided**</span>"
   ]
  },
  {
   "cell_type": "markdown",
   "metadata": {},
   "source": [
    "### Obtaining structure metadata"
   ]
  },
  {
   "cell_type": "markdown",
   "metadata": {},
   "source": [
    "<span style=\"background-color:orange\">**SKIP**</span>"
   ]
  },
  {
   "cell_type": "code",
   "execution_count": 23,
   "metadata": {
    "collapsed": true
   },
   "outputs": [],
   "source": [
    "os.chdir(STRUCT_EXP_FILES)"
   ]
  },
  {
   "cell_type": "code",
   "execution_count": 24,
   "metadata": {
    "collapsed": true
   },
   "outputs": [],
   "source": [
    "pdb_ids = DF_MAP_GENE_UNIPROT_PDB[pd.notnull(DF_MAP_GENE_UNIPROT_PDB.u_pdb)].u_pdb.unique().tolist()"
   ]
  },
  {
   "cell_type": "code",
   "execution_count": 27,
   "metadata": {
    "collapsed": false
   },
   "outputs": [
    {
     "name": "stdout",
     "output_type": "stream",
     "text": [
      "***PROGRESS: PARSED & DOWNLOADED 3559/3559 PDB IDS***\n",
      "\n"
     ]
    },
    {
     "name": "stderr",
     "output_type": "stream",
     "text": [
      "DEBUG:.prody:Connecting wwPDB FTP server RCSB PDB (USA).\n",
      "DEBUG:.prody:1oro downloaded (1oro.pdb)\n",
      "DEBUG:.prody:PDB download via FTP completed (1 downloaded, 0 failed).\n",
      "DEBUG:.prody:PDB file is found in working directory (1oro.pdb).\n"
     ]
    }
   ],
   "source": [
    "pdb_metadata_all = pdb_metadata_and_download(pdb_ids)"
   ]
  },
  {
   "cell_type": "code",
   "execution_count": 28,
   "metadata": {
    "collapsed": true
   },
   "outputs": [],
   "source": [
    "DF_METADATA_PDB = pd.DataFrame.from_dict(pdb_metadata_all, orient='index')"
   ]
  },
  {
   "cell_type": "code",
   "execution_count": 29,
   "metadata": {
    "collapsed": true
   },
   "outputs": [],
   "source": [
    "DF_METADATA_PDB.to_csv(os.path.join(DATA_FRAMES,'DF_METADATA_PDB.csv'))"
   ]
  },
  {
   "cell_type": "code",
   "execution_count": 30,
   "metadata": {
    "collapsed": false
   },
   "outputs": [
    {
     "data": {
      "text/html": [
       "<div>\n",
       "<table border=\"1\" class=\"dataframe\">\n",
       "  <thead>\n",
       "    <tr style=\"text-align: right;\">\n",
       "      <th></th>\n",
       "      <th>p_resolution</th>\n",
       "      <th>p_experiment</th>\n",
       "      <th>p_doi</th>\n",
       "      <th>p_chemicals</th>\n",
       "      <th>p_chain_uniprot_map</th>\n",
       "      <th>p_chains</th>\n",
       "      <th>p_pmid</th>\n",
       "      <th>p_space_group</th>\n",
       "      <th>p_deposition_date</th>\n",
       "      <th>p_ec_numbers</th>\n",
       "    </tr>\n",
       "  </thead>\n",
       "  <tbody>\n",
       "    <tr>\n",
       "      <th>11AS</th>\n",
       "      <td>2.5</td>\n",
       "      <td>X-RAY DIFFRACTION</td>\n",
       "      <td>10.1038/NSB0198-15</td>\n",
       "      <td>['ASN']</td>\n",
       "      <td>{'A': ['P00963'], 'B': ['P00963']}</td>\n",
       "      <td>['A', 'B']</td>\n",
       "      <td>9437423</td>\n",
       "      <td>P 1 21 1</td>\n",
       "      <td>02-DEC-97</td>\n",
       "      <td>[('A', ['6.3.1.1']), ('B', ['6.3.1.1'])]</td>\n",
       "    </tr>\n",
       "    <tr>\n",
       "      <th>12AS</th>\n",
       "      <td>2.2</td>\n",
       "      <td>X-RAY DIFFRACTION</td>\n",
       "      <td>10.1038/NSB0198-15</td>\n",
       "      <td>['AMP', 'ASN']</td>\n",
       "      <td>{'A': ['P00963'], 'B': ['P00963']}</td>\n",
       "      <td>['A', 'B']</td>\n",
       "      <td>9437423</td>\n",
       "      <td>P 1 21 1</td>\n",
       "      <td>02-DEC-97</td>\n",
       "      <td>[('A', ['6.3.1.1']), ('B', ['6.3.1.1'])]</td>\n",
       "    </tr>\n",
       "    <tr>\n",
       "      <th>1A23</th>\n",
       "      <td>NaN</td>\n",
       "      <td>SOLUTION NMR</td>\n",
       "      <td>10.1021/BI980136Y</td>\n",
       "      <td>NaN</td>\n",
       "      <td>{'A': ['P0AEG4']}</td>\n",
       "      <td>['A']</td>\n",
       "      <td>9572841</td>\n",
       "      <td>NaN</td>\n",
       "      <td>15-JAN-98</td>\n",
       "      <td>NaN</td>\n",
       "    </tr>\n",
       "    <tr>\n",
       "      <th>1A24</th>\n",
       "      <td>NaN</td>\n",
       "      <td>SOLUTION NMR</td>\n",
       "      <td>10.1021/BI980136Y</td>\n",
       "      <td>NaN</td>\n",
       "      <td>{'A': ['P0AEG4']}</td>\n",
       "      <td>['A']</td>\n",
       "      <td>9572841</td>\n",
       "      <td>NaN</td>\n",
       "      <td>15-JAN-98</td>\n",
       "      <td>NaN</td>\n",
       "    </tr>\n",
       "    <tr>\n",
       "      <th>1A2J</th>\n",
       "      <td>2.0</td>\n",
       "      <td>X-RAY DIFFRACTION</td>\n",
       "      <td>10.1016/S0969-2126(98)00077-X</td>\n",
       "      <td>NaN</td>\n",
       "      <td>{'A': ['P0AEG4']}</td>\n",
       "      <td>['A']</td>\n",
       "      <td>9655827</td>\n",
       "      <td>P 1 21 1</td>\n",
       "      <td>06-JAN-98</td>\n",
       "      <td>NaN</td>\n",
       "    </tr>\n",
       "  </tbody>\n",
       "</table>\n",
       "</div>"
      ],
      "text/plain": [
       "      p_resolution       p_experiment                          p_doi  \\\n",
       "11AS           2.5  X-RAY DIFFRACTION             10.1038/NSB0198-15   \n",
       "12AS           2.2  X-RAY DIFFRACTION             10.1038/NSB0198-15   \n",
       "1A23           NaN       SOLUTION NMR              10.1021/BI980136Y   \n",
       "1A24           NaN       SOLUTION NMR              10.1021/BI980136Y   \n",
       "1A2J           2.0  X-RAY DIFFRACTION  10.1016/S0969-2126(98)00077-X   \n",
       "\n",
       "         p_chemicals                 p_chain_uniprot_map    p_chains   p_pmid  \\\n",
       "11AS         ['ASN']  {'A': ['P00963'], 'B': ['P00963']}  ['A', 'B']  9437423   \n",
       "12AS  ['AMP', 'ASN']  {'A': ['P00963'], 'B': ['P00963']}  ['A', 'B']  9437423   \n",
       "1A23             NaN                   {'A': ['P0AEG4']}       ['A']  9572841   \n",
       "1A24             NaN                   {'A': ['P0AEG4']}       ['A']  9572841   \n",
       "1A2J             NaN                   {'A': ['P0AEG4']}       ['A']  9655827   \n",
       "\n",
       "     p_space_group p_deposition_date                              p_ec_numbers  \n",
       "11AS      P 1 21 1         02-DEC-97  [('A', ['6.3.1.1']), ('B', ['6.3.1.1'])]  \n",
       "12AS      P 1 21 1         02-DEC-97  [('A', ['6.3.1.1']), ('B', ['6.3.1.1'])]  \n",
       "1A23           NaN         15-JAN-98                                       NaN  \n",
       "1A24           NaN         15-JAN-98                                       NaN  \n",
       "1A2J      P 1 21 1         06-JAN-98                                       NaN  "
      ]
     },
     "execution_count": 30,
     "metadata": {},
     "output_type": "execute_result"
    }
   ],
   "source": [
    "DF_METADATA_PDB = pd.read_csv(os.path.join(DATA_FRAMES,'DF_METADATA_PDB.csv'), index_col=0)\n",
    "DF_METADATA_PDB.head()"
   ]
  },
  {
   "cell_type": "markdown",
   "metadata": {},
   "source": [
    "<span style=\"background-color:RED\">**ABOVE DATAFRAME -- to be provided**</span>"
   ]
  },
  {
   "cell_type": "markdown",
   "metadata": {},
   "source": [
    "### Final integrated DataFrame"
   ]
  },
  {
   "cell_type": "markdown",
   "metadata": {},
   "source": [
    "<span style=\"background-color:#66FF99\">**The last step of the ID mapping process is to organize the information by reaction, according to the model.**</span>"
   ]
  },
  {
   "cell_type": "code",
   "execution_count": 35,
   "metadata": {
    "collapsed": false
   },
   "outputs": [
    {
     "name": "stderr",
     "output_type": "stream",
     "text": []
    }
   ],
   "source": [
    "# creating the final data frame organized according to reaction\n",
    "DF_01_RXN_GENE_UNIPROT_PDB = pd.DataFrame()\n",
    "counter = 1\n",
    "\n",
    "for rxn_object in tqdm(model.reactions):\n",
    "    \n",
    "    m_reaction = rxn_object.id\n",
    "    m_gene_reaction_rule = rxn_object.gene_reaction_rule\n",
    "    m_genes = rxn_object.genes\n",
    "    metabolites = rxn_object.metabolites\n",
    "    m_metabolites = [x.id for x in metabolites]\n",
    "    m_subsystem = rxn_object.subsystem\n",
    "    m_formula = rxn_object.reaction\n",
    "\n",
    "    if len(m_genes) == 0:\n",
    "        continue\n",
    "\n",
    "    for m_gene in m_genes:        \n",
    "        extract = DF_MAP_GENE_UNIPROT_PDB[DF_MAP_GENE_UNIPROT_PDB.m_gene == m_gene.id]\n",
    "        u_uniprot_accs = list(extract[extract.u_uniprot_acc.notnull()].u_uniprot_acc.unique())\n",
    "        \n",
    "        if m_gene.id in final_missing:\n",
    "            append_df = {}\n",
    "            append_df['m_reaction'] = m_reaction\n",
    "            append_df['m_formula'] = m_formula\n",
    "            append_df['m_gene_reaction_rule'] = m_gene_reaction_rule\n",
    "            append_df['m_metabolites'] = m_metabolites\n",
    "            append_df['m_subsystem'] = m_subsystem\n",
    "            append_df['m_gene'] = m_gene.id\n",
    "            DF_01_RXN_GENE_UNIPROT_PDB = DF_01_RXN_GENE_UNIPROT_PDB.append(append_df, ignore_index = True)\n",
    "            \n",
    "        else:\n",
    "            for u_uniprot_acc in u_uniprot_accs:\n",
    "                u_pdb_list = DF_MAP_GENE_UNIPROT_PDB[DF_MAP_GENE_UNIPROT_PDB['u_uniprot_acc'] == u_uniprot_acc]['u_pdb'].values\n",
    "                if pd.isnull(u_pdb_list.all()):\n",
    "                    u_pdb_count = 0\n",
    "                else:\n",
    "                    u_pdb_count = len(set(u_pdb_list))\n",
    "\n",
    "\n",
    "                uniprot_metadata = DF_METADATA_UNIPROT.loc[u_uniprot_acc]\n",
    "\n",
    "                for u_pdb in u_pdb_list:\n",
    "                    append_df = {}\n",
    "                    append_df['m_reaction'] = m_reaction\n",
    "                    append_df['m_formula'] = m_formula\n",
    "                    append_df['m_gene_reaction_rule'] = m_gene_reaction_rule\n",
    "                    append_df['m_metabolites'] = m_metabolites\n",
    "                    append_df['m_subsystem'] = m_subsystem\n",
    "                    append_df['m_gene'] = m_gene.id\n",
    "\n",
    "                    append_df.update(uniprot_metadata)\n",
    "                    append_df['u_pdb_count'] = u_pdb_count\n",
    "\n",
    "                    # Todo: what ? is this a copy paste error?\n",
    "                    if u_pdb_count != u_pdb in DF_METADATA_PDB.index:\n",
    "                        append_df['u_pdb'] = u_pdb\n",
    "                        pdb_metadata = DF_METADATA_PDB.loc[u_pdb]\n",
    "                        append_df.update(pdb_metadata)\n",
    "\n",
    "                    DF_01_RXN_GENE_UNIPROT_PDB = DF_01_RXN_GENE_UNIPROT_PDB.append(append_df, ignore_index = True)"
   ]
  },
  {
   "cell_type": "code",
   "execution_count": 36,
   "metadata": {
    "collapsed": true
   },
   "outputs": [],
   "source": [
    "ordered_props = ['m_reaction','m_subsystem','m_formula','m_metabolites','m_gene_reaction_rule','m_gene',\n",
    "'u_uniprot_acc','u_reviewed','u_gene_name','u_ec_number','u_description','u_seq','u_seq_len',\n",
    "'u_pfam','u_kegg_id','u_refseq','u_go','u_pdb_count','u_pdb',\n",
    "'p_experiment','p_resolution','p_chemicals','p_chains','p_chain_uniprot_map',\n",
    "'p_ec_numbers','p_deposition_date','p_doi','p_pmid','p_space_group']"
   ]
  },
  {
   "cell_type": "code",
   "execution_count": 37,
   "metadata": {
    "collapsed": false
   },
   "outputs": [
    {
     "data": {
      "text/html": [
       "<div>\n",
       "<table border=\"1\" class=\"dataframe\">\n",
       "  <thead>\n",
       "    <tr style=\"text-align: right;\">\n",
       "      <th></th>\n",
       "      <th>m_reaction</th>\n",
       "      <th>m_subsystem</th>\n",
       "      <th>m_formula</th>\n",
       "      <th>m_metabolites</th>\n",
       "      <th>m_gene_reaction_rule</th>\n",
       "      <th>m_gene</th>\n",
       "      <th>u_uniprot_acc</th>\n",
       "      <th>u_reviewed</th>\n",
       "      <th>u_gene_name</th>\n",
       "      <th>u_ec_number</th>\n",
       "      <th>u_description</th>\n",
       "      <th>u_seq</th>\n",
       "      <th>u_seq_len</th>\n",
       "      <th>u_pfam</th>\n",
       "      <th>u_kegg_id</th>\n",
       "      <th>u_refseq</th>\n",
       "      <th>u_go</th>\n",
       "      <th>u_pdb_count</th>\n",
       "      <th>u_pdb</th>\n",
       "      <th>p_experiment</th>\n",
       "      <th>p_resolution</th>\n",
       "      <th>p_chemicals</th>\n",
       "      <th>p_chains</th>\n",
       "      <th>p_chain_uniprot_map</th>\n",
       "      <th>p_ec_numbers</th>\n",
       "      <th>p_deposition_date</th>\n",
       "      <th>p_doi</th>\n",
       "      <th>p_pmid</th>\n",
       "      <th>p_space_group</th>\n",
       "    </tr>\n",
       "  </thead>\n",
       "  <tbody>\n",
       "    <tr>\n",
       "      <th>37</th>\n",
       "      <td>12PPDRtex</td>\n",
       "      <td>Transport, Outer Membrane Porin</td>\n",
       "      <td>12ppd_DASH_R_e &lt;=&gt; 12ppd_DASH_R_p</td>\n",
       "      <td>[12ppd_DASH_R_e, 12ppd_DASH_R_p]</td>\n",
       "      <td>(b0241 or b0929 or b1377 or b2215)</td>\n",
       "      <td>b0241</td>\n",
       "      <td>P02932</td>\n",
       "      <td>1</td>\n",
       "      <td>phoE</td>\n",
       "      <td>NaN</td>\n",
       "      <td>['Outer membrane pore protein E']</td>\n",
       "      <td>MKKSTLALVVMGIVASASVQAAEIYNKDGNKLDVYGKVKAMHYMSD...</td>\n",
       "      <td>351</td>\n",
       "      <td>['PF00267']</td>\n",
       "      <td>['ecj:JW0231', 'eco:b0241']</td>\n",
       "      <td>['NP_414776.1', 'NC_000913.3', 'WP_000749863.1...</td>\n",
       "      <td>['GO:0009279; C:cell outer membrane; IEA:UniPr...</td>\n",
       "      <td>1</td>\n",
       "      <td>1PHO</td>\n",
       "      <td>X-RAY DIFFRACTION</td>\n",
       "      <td>3.00</td>\n",
       "      <td>NaN</td>\n",
       "      <td>['A']</td>\n",
       "      <td>{'A': ['P02932']}</td>\n",
       "      <td>NaN</td>\n",
       "      <td>15-JAN-93</td>\n",
       "      <td>10.1038/358727A0</td>\n",
       "      <td>1380671</td>\n",
       "      <td>P 3 2 1</td>\n",
       "    </tr>\n",
       "    <tr>\n",
       "      <th>5</th>\n",
       "      <td>12PPDRtex</td>\n",
       "      <td>Transport, Outer Membrane Porin</td>\n",
       "      <td>12ppd_DASH_R_e &lt;=&gt; 12ppd_DASH_R_p</td>\n",
       "      <td>[12ppd_DASH_R_e, 12ppd_DASH_R_p]</td>\n",
       "      <td>(b0241 or b0929 or b1377 or b2215)</td>\n",
       "      <td>b0929</td>\n",
       "      <td>P02931</td>\n",
       "      <td>1</td>\n",
       "      <td>ompF</td>\n",
       "      <td>NaN</td>\n",
       "      <td>['Porin OmpF', 'Outer membrane protein IA', 'O...</td>\n",
       "      <td>MMKRNILAVIVPALLVAGTANAAEIYNKDGNKVDLYGKAVGLHYFS...</td>\n",
       "      <td>362</td>\n",
       "      <td>['PF00267']</td>\n",
       "      <td>['ecj:JW0912', 'eco:b0929']</td>\n",
       "      <td>['NP_415449.1', 'NC_000913.3', 'WP_000977920.1...</td>\n",
       "      <td>['GO:0009279; C:cell outer membrane; IDA:EcoCy...</td>\n",
       "      <td>32</td>\n",
       "      <td>1BT9</td>\n",
       "      <td>X-RAY DIFFRACTION</td>\n",
       "      <td>3.00</td>\n",
       "      <td>NaN</td>\n",
       "      <td>['A']</td>\n",
       "      <td>{'A': ['P02931']}</td>\n",
       "      <td>NaN</td>\n",
       "      <td>01-SEP-98</td>\n",
       "      <td>10.1021/BI981215C</td>\n",
       "      <td>9843370</td>\n",
       "      <td>P 3 2 1</td>\n",
       "    </tr>\n",
       "    <tr>\n",
       "      <th>6</th>\n",
       "      <td>12PPDRtex</td>\n",
       "      <td>Transport, Outer Membrane Porin</td>\n",
       "      <td>12ppd_DASH_R_e &lt;=&gt; 12ppd_DASH_R_p</td>\n",
       "      <td>[12ppd_DASH_R_e, 12ppd_DASH_R_p]</td>\n",
       "      <td>(b0241 or b0929 or b1377 or b2215)</td>\n",
       "      <td>b0929</td>\n",
       "      <td>P02931</td>\n",
       "      <td>1</td>\n",
       "      <td>ompF</td>\n",
       "      <td>NaN</td>\n",
       "      <td>['Porin OmpF', 'Outer membrane protein IA', 'O...</td>\n",
       "      <td>MMKRNILAVIVPALLVAGTANAAEIYNKDGNKVDLYGKAVGLHYFS...</td>\n",
       "      <td>362</td>\n",
       "      <td>['PF00267']</td>\n",
       "      <td>['ecj:JW0912', 'eco:b0929']</td>\n",
       "      <td>['NP_415449.1', 'NC_000913.3', 'WP_000977920.1...</td>\n",
       "      <td>['GO:0009279; C:cell outer membrane; IDA:EcoCy...</td>\n",
       "      <td>32</td>\n",
       "      <td>4JFB</td>\n",
       "      <td>X-RAY DIFFRACTION</td>\n",
       "      <td>3.80</td>\n",
       "      <td>NaN</td>\n",
       "      <td>['A', 'C', 'B', 'F', 'D', 'E']</td>\n",
       "      <td>{'A': ['P02931'], 'C': ['P02931'], 'B': ['P029...</td>\n",
       "      <td>NaN</td>\n",
       "      <td>28-FEB-13</td>\n",
       "      <td>NaN</td>\n",
       "      <td>NaN</td>\n",
       "      <td>C 1 2 1</td>\n",
       "    </tr>\n",
       "    <tr>\n",
       "      <th>7</th>\n",
       "      <td>12PPDRtex</td>\n",
       "      <td>Transport, Outer Membrane Porin</td>\n",
       "      <td>12ppd_DASH_R_e &lt;=&gt; 12ppd_DASH_R_p</td>\n",
       "      <td>[12ppd_DASH_R_e, 12ppd_DASH_R_p]</td>\n",
       "      <td>(b0241 or b0929 or b1377 or b2215)</td>\n",
       "      <td>b0929</td>\n",
       "      <td>P02931</td>\n",
       "      <td>1</td>\n",
       "      <td>ompF</td>\n",
       "      <td>NaN</td>\n",
       "      <td>['Porin OmpF', 'Outer membrane protein IA', 'O...</td>\n",
       "      <td>MMKRNILAVIVPALLVAGTANAAEIYNKDGNKVDLYGKAVGLHYFS...</td>\n",
       "      <td>362</td>\n",
       "      <td>['PF00267']</td>\n",
       "      <td>['ecj:JW0912', 'eco:b0929']</td>\n",
       "      <td>['NP_415449.1', 'NC_000913.3', 'WP_000977920.1...</td>\n",
       "      <td>['GO:0009279; C:cell outer membrane; IDA:EcoCy...</td>\n",
       "      <td>32</td>\n",
       "      <td>3FYX</td>\n",
       "      <td>X-RAY DIFFRACTION</td>\n",
       "      <td>3.40</td>\n",
       "      <td>['EPE', '451']</td>\n",
       "      <td>['A']</td>\n",
       "      <td>{'A': ['P02931']}</td>\n",
       "      <td>NaN</td>\n",
       "      <td>23-JAN-09</td>\n",
       "      <td>10.1002/ANIE.200900457</td>\n",
       "      <td>19322865</td>\n",
       "      <td>P 3 2 1</td>\n",
       "    </tr>\n",
       "    <tr>\n",
       "      <th>8</th>\n",
       "      <td>12PPDRtex</td>\n",
       "      <td>Transport, Outer Membrane Porin</td>\n",
       "      <td>12ppd_DASH_R_e &lt;=&gt; 12ppd_DASH_R_p</td>\n",
       "      <td>[12ppd_DASH_R_e, 12ppd_DASH_R_p]</td>\n",
       "      <td>(b0241 or b0929 or b1377 or b2215)</td>\n",
       "      <td>b0929</td>\n",
       "      <td>P02931</td>\n",
       "      <td>1</td>\n",
       "      <td>ompF</td>\n",
       "      <td>NaN</td>\n",
       "      <td>['Porin OmpF', 'Outer membrane protein IA', 'O...</td>\n",
       "      <td>MMKRNILAVIVPALLVAGTANAAEIYNKDGNKVDLYGKAVGLHYFS...</td>\n",
       "      <td>362</td>\n",
       "      <td>['PF00267']</td>\n",
       "      <td>['ecj:JW0912', 'eco:b0929']</td>\n",
       "      <td>['NP_415449.1', 'NC_000913.3', 'WP_000977920.1...</td>\n",
       "      <td>['GO:0009279; C:cell outer membrane; IDA:EcoCy...</td>\n",
       "      <td>32</td>\n",
       "      <td>3K1B</td>\n",
       "      <td>X-RAY DIFFRACTION</td>\n",
       "      <td>4.39</td>\n",
       "      <td>NaN</td>\n",
       "      <td>['A', 'C', 'B', 'D']</td>\n",
       "      <td>{'A': ['P02931'], 'C': ['P02931'], 'B': ['P029...</td>\n",
       "      <td>NaN</td>\n",
       "      <td>26-SEP-09</td>\n",
       "      <td>10.1002/PRO.369</td>\n",
       "      <td>20196071</td>\n",
       "      <td>P 3 2 1</td>\n",
       "    </tr>\n",
       "  </tbody>\n",
       "</table>\n",
       "</div>"
      ],
      "text/plain": [
       "   m_reaction                      m_subsystem  \\\n",
       "37  12PPDRtex  Transport, Outer Membrane Porin   \n",
       "5   12PPDRtex  Transport, Outer Membrane Porin   \n",
       "6   12PPDRtex  Transport, Outer Membrane Porin   \n",
       "7   12PPDRtex  Transport, Outer Membrane Porin   \n",
       "8   12PPDRtex  Transport, Outer Membrane Porin   \n",
       "\n",
       "                            m_formula                     m_metabolites  \\\n",
       "37  12ppd_DASH_R_e <=> 12ppd_DASH_R_p  [12ppd_DASH_R_e, 12ppd_DASH_R_p]   \n",
       "5   12ppd_DASH_R_e <=> 12ppd_DASH_R_p  [12ppd_DASH_R_e, 12ppd_DASH_R_p]   \n",
       "6   12ppd_DASH_R_e <=> 12ppd_DASH_R_p  [12ppd_DASH_R_e, 12ppd_DASH_R_p]   \n",
       "7   12ppd_DASH_R_e <=> 12ppd_DASH_R_p  [12ppd_DASH_R_e, 12ppd_DASH_R_p]   \n",
       "8   12ppd_DASH_R_e <=> 12ppd_DASH_R_p  [12ppd_DASH_R_e, 12ppd_DASH_R_p]   \n",
       "\n",
       "                  m_gene_reaction_rule m_gene u_uniprot_acc  u_reviewed  \\\n",
       "37  (b0241 or b0929 or b1377 or b2215)  b0241        P02932           1   \n",
       "5   (b0241 or b0929 or b1377 or b2215)  b0929        P02931           1   \n",
       "6   (b0241 or b0929 or b1377 or b2215)  b0929        P02931           1   \n",
       "7   (b0241 or b0929 or b1377 or b2215)  b0929        P02931           1   \n",
       "8   (b0241 or b0929 or b1377 or b2215)  b0929        P02931           1   \n",
       "\n",
       "   u_gene_name u_ec_number                                      u_description  \\\n",
       "37        phoE         NaN                  ['Outer membrane pore protein E']   \n",
       "5         ompF         NaN  ['Porin OmpF', 'Outer membrane protein IA', 'O...   \n",
       "6         ompF         NaN  ['Porin OmpF', 'Outer membrane protein IA', 'O...   \n",
       "7         ompF         NaN  ['Porin OmpF', 'Outer membrane protein IA', 'O...   \n",
       "8         ompF         NaN  ['Porin OmpF', 'Outer membrane protein IA', 'O...   \n",
       "\n",
       "                                                u_seq  u_seq_len       u_pfam  \\\n",
       "37  MKKSTLALVVMGIVASASVQAAEIYNKDGNKLDVYGKVKAMHYMSD...        351  ['PF00267']   \n",
       "5   MMKRNILAVIVPALLVAGTANAAEIYNKDGNKVDLYGKAVGLHYFS...        362  ['PF00267']   \n",
       "6   MMKRNILAVIVPALLVAGTANAAEIYNKDGNKVDLYGKAVGLHYFS...        362  ['PF00267']   \n",
       "7   MMKRNILAVIVPALLVAGTANAAEIYNKDGNKVDLYGKAVGLHYFS...        362  ['PF00267']   \n",
       "8   MMKRNILAVIVPALLVAGTANAAEIYNKDGNKVDLYGKAVGLHYFS...        362  ['PF00267']   \n",
       "\n",
       "                      u_kegg_id  \\\n",
       "37  ['ecj:JW0231', 'eco:b0241']   \n",
       "5   ['ecj:JW0912', 'eco:b0929']   \n",
       "6   ['ecj:JW0912', 'eco:b0929']   \n",
       "7   ['ecj:JW0912', 'eco:b0929']   \n",
       "8   ['ecj:JW0912', 'eco:b0929']   \n",
       "\n",
       "                                             u_refseq  \\\n",
       "37  ['NP_414776.1', 'NC_000913.3', 'WP_000749863.1...   \n",
       "5   ['NP_415449.1', 'NC_000913.3', 'WP_000977920.1...   \n",
       "6   ['NP_415449.1', 'NC_000913.3', 'WP_000977920.1...   \n",
       "7   ['NP_415449.1', 'NC_000913.3', 'WP_000977920.1...   \n",
       "8   ['NP_415449.1', 'NC_000913.3', 'WP_000977920.1...   \n",
       "\n",
       "                                                 u_go  u_pdb_count u_pdb  \\\n",
       "37  ['GO:0009279; C:cell outer membrane; IEA:UniPr...            1  1PHO   \n",
       "5   ['GO:0009279; C:cell outer membrane; IDA:EcoCy...           32  1BT9   \n",
       "6   ['GO:0009279; C:cell outer membrane; IDA:EcoCy...           32  4JFB   \n",
       "7   ['GO:0009279; C:cell outer membrane; IDA:EcoCy...           32  3FYX   \n",
       "8   ['GO:0009279; C:cell outer membrane; IDA:EcoCy...           32  3K1B   \n",
       "\n",
       "         p_experiment  p_resolution     p_chemicals  \\\n",
       "37  X-RAY DIFFRACTION          3.00             NaN   \n",
       "5   X-RAY DIFFRACTION          3.00             NaN   \n",
       "6   X-RAY DIFFRACTION          3.80             NaN   \n",
       "7   X-RAY DIFFRACTION          3.40  ['EPE', '451']   \n",
       "8   X-RAY DIFFRACTION          4.39             NaN   \n",
       "\n",
       "                          p_chains  \\\n",
       "37                           ['A']   \n",
       "5                            ['A']   \n",
       "6   ['A', 'C', 'B', 'F', 'D', 'E']   \n",
       "7                            ['A']   \n",
       "8             ['A', 'C', 'B', 'D']   \n",
       "\n",
       "                                  p_chain_uniprot_map p_ec_numbers  \\\n",
       "37                                  {'A': ['P02932']}          NaN   \n",
       "5                                   {'A': ['P02931']}          NaN   \n",
       "6   {'A': ['P02931'], 'C': ['P02931'], 'B': ['P029...          NaN   \n",
       "7                                   {'A': ['P02931']}          NaN   \n",
       "8   {'A': ['P02931'], 'C': ['P02931'], 'B': ['P029...          NaN   \n",
       "\n",
       "   p_deposition_date                   p_doi    p_pmid p_space_group  \n",
       "37         15-JAN-93        10.1038/358727A0   1380671       P 3 2 1  \n",
       "5          01-SEP-98       10.1021/BI981215C   9843370       P 3 2 1  \n",
       "6          28-FEB-13                     NaN       NaN       C 1 2 1  \n",
       "7          23-JAN-09  10.1002/ANIE.200900457  19322865       P 3 2 1  \n",
       "8          26-SEP-09         10.1002/PRO.369  20196071       P 3 2 1  "
      ]
     },
     "execution_count": 37,
     "metadata": {},
     "output_type": "execute_result"
    }
   ],
   "source": [
    "DF_01_RXN_GENE_UNIPROT_PDB = DF_01_RXN_GENE_UNIPROT_PDB[ordered_props].reset_index(drop=True).sort_values(by=['m_reaction','m_gene'])\n",
    "DF_01_RXN_GENE_UNIPROT_PDB.head()"
   ]
  },
  {
   "cell_type": "code",
   "execution_count": 38,
   "metadata": {
    "collapsed": true
   },
   "outputs": [],
   "source": [
    "DF_01_RXN_GENE_UNIPROT_PDB.to_pickle(os.path.join(DATA_FRAMES, 'DF_01_RXN_GENE_UNIPROT_PDB.pckl'))"
   ]
  },
  {
   "cell_type": "markdown",
   "metadata": {},
   "source": [
    "# Mapping to homology models\n",
    "\n",
    "<span style=\"background-color:#66FF99\">**Next, we use homology models to represent structures that do not have an experimental structure available.**</span>\n",
    "\n",
    "We have already generated the homology models for this model, thus, we just need to indicate their existence in the GEM-PRO dataframe. All homology models will be stored in the folder:\n",
    "\n",
    "    structure_files/homology_models"
   ]
  },
  {
   "cell_type": "markdown",
   "metadata": {},
   "source": [
    "## Loading existing gene -> homology model dataframe"
   ]
  },
  {
   "cell_type": "code",
   "execution_count": 43,
   "metadata": {
    "collapsed": true
   },
   "outputs": [],
   "source": [
    "DF_MAP_HOMOLOGY = pd.read_csv(os.path.join(DATA_FRAMES, 'DF_MAP_HOMOLOGY.csv'), index_col=0)"
   ]
  },
  {
   "cell_type": "code",
   "execution_count": 44,
   "metadata": {
    "collapsed": false
   },
   "outputs": [
    {
     "data": {
      "text/html": [
       "<div>\n",
       "<table border=\"1\" class=\"dataframe\">\n",
       "  <thead>\n",
       "    <tr style=\"text-align: right;\">\n",
       "      <th></th>\n",
       "      <th>i_entry_name</th>\n",
       "      <th>i_length</th>\n",
       "      <th>i_native</th>\n",
       "      <th>i_tm_helix</th>\n",
       "      <th>i_tm_score</th>\n",
       "      <th>u_uniprot_acc</th>\n",
       "    </tr>\n",
       "  </thead>\n",
       "  <tbody>\n",
       "    <tr>\n",
       "      <th>0</th>\n",
       "      <td>AAEX_ECOLI</td>\n",
       "      <td>67</td>\n",
       "      <td></td>\n",
       "      <td>36</td>\n",
       "      <td>NaN</td>\n",
       "      <td>P46478</td>\n",
       "    </tr>\n",
       "    <tr>\n",
       "      <th>1</th>\n",
       "      <td>ALPA_ECOLI</td>\n",
       "      <td>70</td>\n",
       "      <td></td>\n",
       "      <td>0</td>\n",
       "      <td>NaN</td>\n",
       "      <td>P33997</td>\n",
       "    </tr>\n",
       "    <tr>\n",
       "      <th>2</th>\n",
       "      <td>ARNE_ECOLI</td>\n",
       "      <td>111</td>\n",
       "      <td></td>\n",
       "      <td>50</td>\n",
       "      <td>NaN</td>\n",
       "      <td>Q47377</td>\n",
       "    </tr>\n",
       "    <tr>\n",
       "      <th>3</th>\n",
       "      <td>ARSR_ECOLI</td>\n",
       "      <td>117</td>\n",
       "      <td></td>\n",
       "      <td>0</td>\n",
       "      <td>NaN</td>\n",
       "      <td>P37309</td>\n",
       "    </tr>\n",
       "    <tr>\n",
       "      <th>4</th>\n",
       "      <td>BFD_ECOLI</td>\n",
       "      <td>64</td>\n",
       "      <td></td>\n",
       "      <td>0</td>\n",
       "      <td>NaN</td>\n",
       "      <td>P0AE56</td>\n",
       "    </tr>\n",
       "  </tbody>\n",
       "</table>\n",
       "</div>"
      ],
      "text/plain": [
       "  i_entry_name  i_length i_native  i_tm_helix  i_tm_score u_uniprot_acc\n",
       "0   AAEX_ECOLI        67                   36         NaN        P46478\n",
       "1   ALPA_ECOLI        70                    0         NaN        P33997\n",
       "2   ARNE_ECOLI       111                   50         NaN        Q47377\n",
       "3   ARSR_ECOLI       117                    0         NaN        P37309\n",
       "4    BFD_ECOLI        64                    0         NaN        P0AE56"
      ]
     },
     "execution_count": 44,
     "metadata": {},
     "output_type": "execute_result"
    }
   ],
   "source": [
    "DF_MAP_HOMOLOGY.head()"
   ]
  },
  {
   "cell_type": "markdown",
   "metadata": {},
   "source": [
    "## Merging with the created GEM-PRO"
   ]
  },
  {
   "cell_type": "code",
   "execution_count": 46,
   "metadata": {
    "collapsed": false
   },
   "outputs": [],
   "source": [
    "DF_02_RXN_GENE_UNIPROT_PDB_HOMOL = DF_01_RXN_GENE_UNIPROT_PDB.merge(DF_MAP_HOMOLOGY, how='left')"
   ]
  },
  {
   "cell_type": "markdown",
   "metadata": {},
   "source": [
    "<span style=\"background-color:#66FF99\">**Note the addition of homology model info to the right.**</span>"
   ]
  },
  {
   "cell_type": "code",
   "execution_count": 49,
   "metadata": {
    "collapsed": false
   },
   "outputs": [
    {
     "data": {
      "text/html": [
       "<div>\n",
       "<table border=\"1\" class=\"dataframe\">\n",
       "  <thead>\n",
       "    <tr style=\"text-align: right;\">\n",
       "      <th></th>\n",
       "      <th>m_reaction</th>\n",
       "      <th>m_subsystem</th>\n",
       "      <th>m_formula</th>\n",
       "      <th>m_metabolites</th>\n",
       "      <th>m_gene_reaction_rule</th>\n",
       "      <th>m_gene</th>\n",
       "      <th>u_uniprot_acc</th>\n",
       "      <th>u_reviewed</th>\n",
       "      <th>u_gene_name</th>\n",
       "      <th>u_ec_number</th>\n",
       "      <th>u_description</th>\n",
       "      <th>u_seq</th>\n",
       "      <th>u_seq_len</th>\n",
       "      <th>u_pfam</th>\n",
       "      <th>u_kegg_id</th>\n",
       "      <th>u_refseq</th>\n",
       "      <th>u_go</th>\n",
       "      <th>u_pdb_count</th>\n",
       "      <th>u_pdb</th>\n",
       "      <th>p_experiment</th>\n",
       "      <th>p_resolution</th>\n",
       "      <th>p_chemicals</th>\n",
       "      <th>p_chains</th>\n",
       "      <th>p_chain_uniprot_map</th>\n",
       "      <th>p_ec_numbers</th>\n",
       "      <th>p_deposition_date</th>\n",
       "      <th>p_doi</th>\n",
       "      <th>p_pmid</th>\n",
       "      <th>p_space_group</th>\n",
       "      <th>i_entry_name</th>\n",
       "      <th>i_length</th>\n",
       "      <th>i_native</th>\n",
       "      <th>i_tm_helix</th>\n",
       "      <th>i_tm_score</th>\n",
       "    </tr>\n",
       "  </thead>\n",
       "  <tbody>\n",
       "    <tr>\n",
       "      <th>0</th>\n",
       "      <td>12PPDRtex</td>\n",
       "      <td>Transport, Outer Membrane Porin</td>\n",
       "      <td>12ppd_DASH_R_e &lt;=&gt; 12ppd_DASH_R_p</td>\n",
       "      <td>[12ppd_DASH_R_e, 12ppd_DASH_R_p]</td>\n",
       "      <td>(b0241 or b0929 or b1377 or b2215)</td>\n",
       "      <td>b0241</td>\n",
       "      <td>P02932</td>\n",
       "      <td>1</td>\n",
       "      <td>phoE</td>\n",
       "      <td>NaN</td>\n",
       "      <td>['Outer membrane pore protein E']</td>\n",
       "      <td>MKKSTLALVVMGIVASASVQAAEIYNKDGNKLDVYGKVKAMHYMSD...</td>\n",
       "      <td>351</td>\n",
       "      <td>['PF00267']</td>\n",
       "      <td>['ecj:JW0231', 'eco:b0241']</td>\n",
       "      <td>['NP_414776.1', 'NC_000913.3', 'WP_000749863.1...</td>\n",
       "      <td>['GO:0009279; C:cell outer membrane; IEA:UniPr...</td>\n",
       "      <td>1</td>\n",
       "      <td>1PHO</td>\n",
       "      <td>X-RAY DIFFRACTION</td>\n",
       "      <td>3.00</td>\n",
       "      <td>NaN</td>\n",
       "      <td>['A']</td>\n",
       "      <td>{'A': ['P02932']}</td>\n",
       "      <td>NaN</td>\n",
       "      <td>15-JAN-93</td>\n",
       "      <td>10.1038/358727A0</td>\n",
       "      <td>1380671</td>\n",
       "      <td>P 3 2 1</td>\n",
       "      <td>PHOE_ECOLI</td>\n",
       "      <td>351</td>\n",
       "      <td>1phoA</td>\n",
       "      <td>7</td>\n",
       "      <td>NaN</td>\n",
       "    </tr>\n",
       "    <tr>\n",
       "      <th>1</th>\n",
       "      <td>12PPDRtex</td>\n",
       "      <td>Transport, Outer Membrane Porin</td>\n",
       "      <td>12ppd_DASH_R_e &lt;=&gt; 12ppd_DASH_R_p</td>\n",
       "      <td>[12ppd_DASH_R_e, 12ppd_DASH_R_p]</td>\n",
       "      <td>(b0241 or b0929 or b1377 or b2215)</td>\n",
       "      <td>b0929</td>\n",
       "      <td>P02931</td>\n",
       "      <td>1</td>\n",
       "      <td>ompF</td>\n",
       "      <td>NaN</td>\n",
       "      <td>['Porin OmpF', 'Outer membrane protein IA', 'O...</td>\n",
       "      <td>MMKRNILAVIVPALLVAGTANAAEIYNKDGNKVDLYGKAVGLHYFS...</td>\n",
       "      <td>362</td>\n",
       "      <td>['PF00267']</td>\n",
       "      <td>['ecj:JW0912', 'eco:b0929']</td>\n",
       "      <td>['NP_415449.1', 'NC_000913.3', 'WP_000977920.1...</td>\n",
       "      <td>['GO:0009279; C:cell outer membrane; IDA:EcoCy...</td>\n",
       "      <td>32</td>\n",
       "      <td>1BT9</td>\n",
       "      <td>X-RAY DIFFRACTION</td>\n",
       "      <td>3.00</td>\n",
       "      <td>NaN</td>\n",
       "      <td>['A']</td>\n",
       "      <td>{'A': ['P02931']}</td>\n",
       "      <td>NaN</td>\n",
       "      <td>01-SEP-98</td>\n",
       "      <td>10.1021/BI981215C</td>\n",
       "      <td>9843370</td>\n",
       "      <td>P 3 2 1</td>\n",
       "      <td>OMPF_ECOLI</td>\n",
       "      <td>362</td>\n",
       "      <td>1opfA</td>\n",
       "      <td>13</td>\n",
       "      <td>NaN</td>\n",
       "    </tr>\n",
       "    <tr>\n",
       "      <th>2</th>\n",
       "      <td>12PPDRtex</td>\n",
       "      <td>Transport, Outer Membrane Porin</td>\n",
       "      <td>12ppd_DASH_R_e &lt;=&gt; 12ppd_DASH_R_p</td>\n",
       "      <td>[12ppd_DASH_R_e, 12ppd_DASH_R_p]</td>\n",
       "      <td>(b0241 or b0929 or b1377 or b2215)</td>\n",
       "      <td>b0929</td>\n",
       "      <td>P02931</td>\n",
       "      <td>1</td>\n",
       "      <td>ompF</td>\n",
       "      <td>NaN</td>\n",
       "      <td>['Porin OmpF', 'Outer membrane protein IA', 'O...</td>\n",
       "      <td>MMKRNILAVIVPALLVAGTANAAEIYNKDGNKVDLYGKAVGLHYFS...</td>\n",
       "      <td>362</td>\n",
       "      <td>['PF00267']</td>\n",
       "      <td>['ecj:JW0912', 'eco:b0929']</td>\n",
       "      <td>['NP_415449.1', 'NC_000913.3', 'WP_000977920.1...</td>\n",
       "      <td>['GO:0009279; C:cell outer membrane; IDA:EcoCy...</td>\n",
       "      <td>32</td>\n",
       "      <td>4JFB</td>\n",
       "      <td>X-RAY DIFFRACTION</td>\n",
       "      <td>3.80</td>\n",
       "      <td>NaN</td>\n",
       "      <td>['A', 'C', 'B', 'F', 'D', 'E']</td>\n",
       "      <td>{'A': ['P02931'], 'C': ['P02931'], 'B': ['P029...</td>\n",
       "      <td>NaN</td>\n",
       "      <td>28-FEB-13</td>\n",
       "      <td>NaN</td>\n",
       "      <td>NaN</td>\n",
       "      <td>C 1 2 1</td>\n",
       "      <td>OMPF_ECOLI</td>\n",
       "      <td>362</td>\n",
       "      <td>1opfA</td>\n",
       "      <td>13</td>\n",
       "      <td>NaN</td>\n",
       "    </tr>\n",
       "    <tr>\n",
       "      <th>3</th>\n",
       "      <td>12PPDRtex</td>\n",
       "      <td>Transport, Outer Membrane Porin</td>\n",
       "      <td>12ppd_DASH_R_e &lt;=&gt; 12ppd_DASH_R_p</td>\n",
       "      <td>[12ppd_DASH_R_e, 12ppd_DASH_R_p]</td>\n",
       "      <td>(b0241 or b0929 or b1377 or b2215)</td>\n",
       "      <td>b0929</td>\n",
       "      <td>P02931</td>\n",
       "      <td>1</td>\n",
       "      <td>ompF</td>\n",
       "      <td>NaN</td>\n",
       "      <td>['Porin OmpF', 'Outer membrane protein IA', 'O...</td>\n",
       "      <td>MMKRNILAVIVPALLVAGTANAAEIYNKDGNKVDLYGKAVGLHYFS...</td>\n",
       "      <td>362</td>\n",
       "      <td>['PF00267']</td>\n",
       "      <td>['ecj:JW0912', 'eco:b0929']</td>\n",
       "      <td>['NP_415449.1', 'NC_000913.3', 'WP_000977920.1...</td>\n",
       "      <td>['GO:0009279; C:cell outer membrane; IDA:EcoCy...</td>\n",
       "      <td>32</td>\n",
       "      <td>3FYX</td>\n",
       "      <td>X-RAY DIFFRACTION</td>\n",
       "      <td>3.40</td>\n",
       "      <td>['EPE', '451']</td>\n",
       "      <td>['A']</td>\n",
       "      <td>{'A': ['P02931']}</td>\n",
       "      <td>NaN</td>\n",
       "      <td>23-JAN-09</td>\n",
       "      <td>10.1002/ANIE.200900457</td>\n",
       "      <td>19322865</td>\n",
       "      <td>P 3 2 1</td>\n",
       "      <td>OMPF_ECOLI</td>\n",
       "      <td>362</td>\n",
       "      <td>1opfA</td>\n",
       "      <td>13</td>\n",
       "      <td>NaN</td>\n",
       "    </tr>\n",
       "    <tr>\n",
       "      <th>4</th>\n",
       "      <td>12PPDRtex</td>\n",
       "      <td>Transport, Outer Membrane Porin</td>\n",
       "      <td>12ppd_DASH_R_e &lt;=&gt; 12ppd_DASH_R_p</td>\n",
       "      <td>[12ppd_DASH_R_e, 12ppd_DASH_R_p]</td>\n",
       "      <td>(b0241 or b0929 or b1377 or b2215)</td>\n",
       "      <td>b0929</td>\n",
       "      <td>P02931</td>\n",
       "      <td>1</td>\n",
       "      <td>ompF</td>\n",
       "      <td>NaN</td>\n",
       "      <td>['Porin OmpF', 'Outer membrane protein IA', 'O...</td>\n",
       "      <td>MMKRNILAVIVPALLVAGTANAAEIYNKDGNKVDLYGKAVGLHYFS...</td>\n",
       "      <td>362</td>\n",
       "      <td>['PF00267']</td>\n",
       "      <td>['ecj:JW0912', 'eco:b0929']</td>\n",
       "      <td>['NP_415449.1', 'NC_000913.3', 'WP_000977920.1...</td>\n",
       "      <td>['GO:0009279; C:cell outer membrane; IDA:EcoCy...</td>\n",
       "      <td>32</td>\n",
       "      <td>3K1B</td>\n",
       "      <td>X-RAY DIFFRACTION</td>\n",
       "      <td>4.39</td>\n",
       "      <td>NaN</td>\n",
       "      <td>['A', 'C', 'B', 'D']</td>\n",
       "      <td>{'A': ['P02931'], 'C': ['P02931'], 'B': ['P029...</td>\n",
       "      <td>NaN</td>\n",
       "      <td>26-SEP-09</td>\n",
       "      <td>10.1002/PRO.369</td>\n",
       "      <td>20196071</td>\n",
       "      <td>P 3 2 1</td>\n",
       "      <td>OMPF_ECOLI</td>\n",
       "      <td>362</td>\n",
       "      <td>1opfA</td>\n",
       "      <td>13</td>\n",
       "      <td>NaN</td>\n",
       "    </tr>\n",
       "  </tbody>\n",
       "</table>\n",
       "</div>"
      ],
      "text/plain": [
       "  m_reaction                      m_subsystem  \\\n",
       "0  12PPDRtex  Transport, Outer Membrane Porin   \n",
       "1  12PPDRtex  Transport, Outer Membrane Porin   \n",
       "2  12PPDRtex  Transport, Outer Membrane Porin   \n",
       "3  12PPDRtex  Transport, Outer Membrane Porin   \n",
       "4  12PPDRtex  Transport, Outer Membrane Porin   \n",
       "\n",
       "                           m_formula                     m_metabolites  \\\n",
       "0  12ppd_DASH_R_e <=> 12ppd_DASH_R_p  [12ppd_DASH_R_e, 12ppd_DASH_R_p]   \n",
       "1  12ppd_DASH_R_e <=> 12ppd_DASH_R_p  [12ppd_DASH_R_e, 12ppd_DASH_R_p]   \n",
       "2  12ppd_DASH_R_e <=> 12ppd_DASH_R_p  [12ppd_DASH_R_e, 12ppd_DASH_R_p]   \n",
       "3  12ppd_DASH_R_e <=> 12ppd_DASH_R_p  [12ppd_DASH_R_e, 12ppd_DASH_R_p]   \n",
       "4  12ppd_DASH_R_e <=> 12ppd_DASH_R_p  [12ppd_DASH_R_e, 12ppd_DASH_R_p]   \n",
       "\n",
       "                 m_gene_reaction_rule m_gene u_uniprot_acc  u_reviewed  \\\n",
       "0  (b0241 or b0929 or b1377 or b2215)  b0241        P02932           1   \n",
       "1  (b0241 or b0929 or b1377 or b2215)  b0929        P02931           1   \n",
       "2  (b0241 or b0929 or b1377 or b2215)  b0929        P02931           1   \n",
       "3  (b0241 or b0929 or b1377 or b2215)  b0929        P02931           1   \n",
       "4  (b0241 or b0929 or b1377 or b2215)  b0929        P02931           1   \n",
       "\n",
       "  u_gene_name u_ec_number                                      u_description  \\\n",
       "0        phoE         NaN                  ['Outer membrane pore protein E']   \n",
       "1        ompF         NaN  ['Porin OmpF', 'Outer membrane protein IA', 'O...   \n",
       "2        ompF         NaN  ['Porin OmpF', 'Outer membrane protein IA', 'O...   \n",
       "3        ompF         NaN  ['Porin OmpF', 'Outer membrane protein IA', 'O...   \n",
       "4        ompF         NaN  ['Porin OmpF', 'Outer membrane protein IA', 'O...   \n",
       "\n",
       "                                               u_seq  u_seq_len       u_pfam  \\\n",
       "0  MKKSTLALVVMGIVASASVQAAEIYNKDGNKLDVYGKVKAMHYMSD...        351  ['PF00267']   \n",
       "1  MMKRNILAVIVPALLVAGTANAAEIYNKDGNKVDLYGKAVGLHYFS...        362  ['PF00267']   \n",
       "2  MMKRNILAVIVPALLVAGTANAAEIYNKDGNKVDLYGKAVGLHYFS...        362  ['PF00267']   \n",
       "3  MMKRNILAVIVPALLVAGTANAAEIYNKDGNKVDLYGKAVGLHYFS...        362  ['PF00267']   \n",
       "4  MMKRNILAVIVPALLVAGTANAAEIYNKDGNKVDLYGKAVGLHYFS...        362  ['PF00267']   \n",
       "\n",
       "                     u_kegg_id  \\\n",
       "0  ['ecj:JW0231', 'eco:b0241']   \n",
       "1  ['ecj:JW0912', 'eco:b0929']   \n",
       "2  ['ecj:JW0912', 'eco:b0929']   \n",
       "3  ['ecj:JW0912', 'eco:b0929']   \n",
       "4  ['ecj:JW0912', 'eco:b0929']   \n",
       "\n",
       "                                            u_refseq  \\\n",
       "0  ['NP_414776.1', 'NC_000913.3', 'WP_000749863.1...   \n",
       "1  ['NP_415449.1', 'NC_000913.3', 'WP_000977920.1...   \n",
       "2  ['NP_415449.1', 'NC_000913.3', 'WP_000977920.1...   \n",
       "3  ['NP_415449.1', 'NC_000913.3', 'WP_000977920.1...   \n",
       "4  ['NP_415449.1', 'NC_000913.3', 'WP_000977920.1...   \n",
       "\n",
       "                                                u_go  u_pdb_count u_pdb  \\\n",
       "0  ['GO:0009279; C:cell outer membrane; IEA:UniPr...            1  1PHO   \n",
       "1  ['GO:0009279; C:cell outer membrane; IDA:EcoCy...           32  1BT9   \n",
       "2  ['GO:0009279; C:cell outer membrane; IDA:EcoCy...           32  4JFB   \n",
       "3  ['GO:0009279; C:cell outer membrane; IDA:EcoCy...           32  3FYX   \n",
       "4  ['GO:0009279; C:cell outer membrane; IDA:EcoCy...           32  3K1B   \n",
       "\n",
       "        p_experiment  p_resolution     p_chemicals  \\\n",
       "0  X-RAY DIFFRACTION          3.00             NaN   \n",
       "1  X-RAY DIFFRACTION          3.00             NaN   \n",
       "2  X-RAY DIFFRACTION          3.80             NaN   \n",
       "3  X-RAY DIFFRACTION          3.40  ['EPE', '451']   \n",
       "4  X-RAY DIFFRACTION          4.39             NaN   \n",
       "\n",
       "                         p_chains  \\\n",
       "0                           ['A']   \n",
       "1                           ['A']   \n",
       "2  ['A', 'C', 'B', 'F', 'D', 'E']   \n",
       "3                           ['A']   \n",
       "4            ['A', 'C', 'B', 'D']   \n",
       "\n",
       "                                 p_chain_uniprot_map p_ec_numbers  \\\n",
       "0                                  {'A': ['P02932']}          NaN   \n",
       "1                                  {'A': ['P02931']}          NaN   \n",
       "2  {'A': ['P02931'], 'C': ['P02931'], 'B': ['P029...          NaN   \n",
       "3                                  {'A': ['P02931']}          NaN   \n",
       "4  {'A': ['P02931'], 'C': ['P02931'], 'B': ['P029...          NaN   \n",
       "\n",
       "  p_deposition_date                   p_doi    p_pmid p_space_group  \\\n",
       "0         15-JAN-93        10.1038/358727A0   1380671       P 3 2 1   \n",
       "1         01-SEP-98       10.1021/BI981215C   9843370       P 3 2 1   \n",
       "2         28-FEB-13                     NaN       NaN       C 1 2 1   \n",
       "3         23-JAN-09  10.1002/ANIE.200900457  19322865       P 3 2 1   \n",
       "4         26-SEP-09         10.1002/PRO.369  20196071       P 3 2 1   \n",
       "\n",
       "  i_entry_name  i_length i_native  i_tm_helix  i_tm_score  \n",
       "0   PHOE_ECOLI       351    1phoA           7         NaN  \n",
       "1   OMPF_ECOLI       362    1opfA          13         NaN  \n",
       "2   OMPF_ECOLI       362    1opfA          13         NaN  \n",
       "3   OMPF_ECOLI       362    1opfA          13         NaN  \n",
       "4   OMPF_ECOLI       362    1opfA          13         NaN  "
      ]
     },
     "execution_count": 49,
     "metadata": {},
     "output_type": "execute_result"
    }
   ],
   "source": [
    "DF_02_RXN_GENE_UNIPROT_PDB_HOMOL.head()"
   ]
  },
  {
   "cell_type": "code",
   "execution_count": 48,
   "metadata": {
    "collapsed": true
   },
   "outputs": [],
   "source": [
    "DF_02_RXN_GENE_UNIPROT_PDB_HOMOL.to_pickle(os.path.join(DATA_FRAMES, 'DF_02_RXN_GENE_UNIPROT_PDB_HOMOL.pckl'))"
   ]
  },
  {
   "cell_type": "markdown",
   "metadata": {},
   "source": [
    "# Ranking experimental structures\n",
    "\n",
    "<span style=\"background-color:#66FF99\">**Finally, we'd like to understand how well our experimental structures represent the gene within the model.**</span>\n",
    "\n",
    "We will demonstrate how we rank models based on two simple criteria:\n",
    "\n",
    "1. Sequence identity to the \"canonical\" amino acid sequence\n",
    "2. Structure resolution"
   ]
  },
  {
   "cell_type": "markdown",
   "metadata": {
    "collapsed": true
   },
   "source": [
    "## Scoring sequence identity"
   ]
  },
  {
   "cell_type": "markdown",
   "metadata": {},
   "source": [
    "To score sequence identity, we simply align the \"canonical\" amino acid sequence, which is the sequence obtained by the UniProt entry, to the available experimental structures. "
   ]
  },
  {
   "cell_type": "markdown",
   "metadata": {},
   "source": [
    "### Writing FASTA files for the original sequence"
   ]
  },
  {
   "cell_type": "code",
   "execution_count": 51,
   "metadata": {
    "collapsed": true
   },
   "outputs": [],
   "source": [
    "import glob"
   ]
  },
  {
   "cell_type": "code",
   "execution_count": 53,
   "metadata": {
    "collapsed": false
   },
   "outputs": [],
   "source": [
    "uniprot_written_fasta_files = [os.path.basename(path) for path in glob.glob(SEQ_UNIPROT_FILES + '*.faa')]\n",
    "all_uniprot_ids = DF_02_RXN_GENE_UNIPROT_PDB_HOMOL[pd.notnull(DF_02_RXN_GENE_UNIPROT_PDB_HOMOL.u_uniprot_acc)].u_uniprot_acc.unique().tolist()"
   ]
  },
  {
   "cell_type": "code",
   "execution_count": 54,
   "metadata": {
    "collapsed": false
   },
   "outputs": [
    {
     "name": "stderr",
     "output_type": "stream",
     "text": []
    }
   ],
   "source": [
    "os.chdir(SEQ_UNIPROT_FILES)\n",
    "\n",
    "counter = 1\n",
    "for uniprot_id in tqdm(all_uniprot_ids):\n",
    "    u_seq = DF_02_RXN_GENE_UNIPROT_PDB_HOMOL[DF_02_RXN_GENE_UNIPROT_PDB_HOMOL.u_uniprot_acc == uniprot_id]['u_seq'].unique()[0]\n",
    "    u_seq_len = len(u_seq)\n",
    "    \n",
    "    if uniprot_id + '.faa' not in uniprot_written_fasta_files:\n",
    "        uniprot_seq = SeqRecord(Seq(u_seq, IUPAC.protein),id=uniprot_id,description='uniprot sequence')\n",
    "        write_fasta_file(uniprot_seq, uniprot_id)"
   ]
  },
  {
   "cell_type": "markdown",
   "metadata": {},
   "source": [
    "### Writing FASTA files for the structures"
   ]
  },
  {
   "cell_type": "code",
   "execution_count": 58,
   "metadata": {
    "collapsed": true
   },
   "outputs": [],
   "source": [
    "pdb_written_fasta_files = [os.path.basename(path) for path in glob.glob(SEQ_PDB_FILES + '*.faa')]\n",
    "all_pdb_ids = DF_02_RXN_GENE_UNIPROT_PDB_HOMOL[pd.notnull(DF_02_RXN_GENE_UNIPROT_PDB_HOMOL.u_pdb)].u_pdb.unique().tolist()\n",
    "all_pdb_ids = [pdb.lower() for pdb in all_pdb_ids]"
   ]
  },
  {
   "cell_type": "code",
   "execution_count": 60,
   "metadata": {
    "collapsed": true
   },
   "outputs": [],
   "source": [
    "def get_pdb_seq(pdb_id, pdb_file):\n",
    "    '''\n",
    "    this uses biopython to get the sequence of the residues that are resolved in the structure. \n",
    "    IT ADDS AN X IN POSITIONS THAT HAVE NO RESOLVED RESIDUE!\n",
    "    IT EVEN WORKS WITH CIF FILES!\n",
    "    '''\n",
    "    \n",
    "    if pdb_file.endswith('.pdb'):\n",
    "        parser = PDBParser()\n",
    "        structure = parser.get_structure(pdb_id, pdb_file)\n",
    "    elif pdb_file.endswith('.cif'):\n",
    "        parser = MMCIFParser()\n",
    "        try:\n",
    "            structure = parser.get_structure(pdb_id, pdb_file)\n",
    "        except:\n",
    "            return None\n",
    "        \n",
    "    structure_seqs = []\n",
    "    for chain in structure[0]:\n",
    "        chain_seq = SeqRecord(Seq('', IUPAC.protein), name=pdb_id, id=pdb_id+'.'+chain.get_id(), description='PDB structure residues')\n",
    "        first = True\n",
    "        tracker = 0\n",
    "        for res in chain.get_residues():\n",
    "            if is_aa(res, standard=True):\n",
    "                full_id = res.get_full_id()\n",
    "                end_tracker = full_id[3][1]\n",
    "                i_code = full_id[3][2]\n",
    "                aa = three_to_one(res.get_resname())\n",
    "                \n",
    "                if end_tracker != (tracker + 1) and first == False:\n",
    "                    if i_code != ' ':\n",
    "                        chain_seq += aa\n",
    "                        tracker = end_tracker + 1\n",
    "                        continue\n",
    "\n",
    "                    else:\n",
    "                        chain_seq += 'X'*(end_tracker - tracker - 1)\n",
    "                        \n",
    "                chain_seq += aa\n",
    "                first = False\n",
    "                tracker = end_tracker\n",
    "\n",
    "        structure_seqs.append(chain_seq)\n",
    "\n",
    "    return structure_seqs"
   ]
  },
  {
   "cell_type": "code",
   "execution_count": null,
   "metadata": {
    "collapsed": true
   },
   "outputs": [],
   "source": [
    "pdb_seq_errors = []\n",
    "\n",
    "counter = 1\n",
    "for pdb_id in tqdm(all_pdb_ids):\n",
    "    \n",
    "    if pdb_id + '.faa' not in pdb_written_fasta_files:\n",
    "        os.chdir(STRUCT_EXP_FILES)\n",
    "        \n",
    "        try:\n",
    "            pdb_file = pdb_id + '.pdb'\n",
    "            pdb_sequences = get_pdb_seq(pdb_id, pdb_file)\n",
    "        except IOError:\n",
    "            pdb_file = pdb_id + '.cif'\n",
    "            print pdb_file\n",
    "            pdb_sequences = get_pdb_seq(pdb_id, pdb_file)\n",
    "            \n",
    "        if pdb_sequences == None:\n",
    "            warnings.warn('***ERROR: could not extract sequence for %s***' % pdb_id)\n",
    "            pdb_seq_errors.append(pdb_id)\n",
    "            continue\n",
    "        else:\n",
    "            os.chdir(SEQ_PDB_FILES)\n",
    "            write_fasta_file(pdb_sequences, pdb_id)"
   ]
  },
  {
   "cell_type": "markdown",
   "metadata": {},
   "source": [
    "### Aligning the structures to the sequence"
   ]
  },
  {
   "cell_type": "markdown",
   "metadata": {},
   "source": [
    "When aligning the structure to the sequence, there is one main consideration that must be handled. A structure can consist of multiple chains, which may be repeats of the same sequence (homo-mers) or may be transcripts of other genes (hetero-mers). We just want to score based on the chain which corresponds to the gene of interest. Thus, we take the chain that aligns with the highest sequence identity as our measure of % identity."
   ]
  },
  {
   "cell_type": "code",
   "execution_count": 107,
   "metadata": {
    "collapsed": true
   },
   "outputs": [],
   "source": [
    "tmp = DF_02_RXN_GENE_UNIPROT_PDB_HOMOL[pd.notnull(DF_02_RXN_GENE_UNIPROT_PDB_HOMOL.u_pdb)]\n",
    "for_scoring = tmp[['u_uniprot_acc', 'u_pdb', 'u_seq_len', 'p_resolution']].drop_duplicates().set_index(['u_uniprot_acc', 'u_pdb']).sortlevel(0)"
   ]
  },
  {
   "cell_type": "code",
   "execution_count": 108,
   "metadata": {
    "collapsed": false
   },
   "outputs": [
    {
     "name": "stderr",
     "output_type": "stream",
     "text": [
      "  1%|▏         | 8/612 [00:00<00:10, 56.00it/s]/usr/local/lib/python2.7/dist-packages/ipykernel/__main__.py:32 UserWarning: ***WARNING: Previous error for 4v40. Was the PDB file able to be parsed?***\n",
      " 35%|███▍      | 213/612 [00:01<00:02, 141.10it/s]/usr/local/lib/python2.7/dist-packages/ipykernel/__main__.py:50 UserWarning: ***ERROR: with alignment of P0ABA6 and 1d8s***\n",
      "/usr/local/lib/python2.7/dist-packages/ipykernel/__main__.py:50 UserWarning: ***ERROR: with alignment of P0ABB0 and 1d8s***\n",
      "/usr/local/lib/python2.7/dist-packages/ipykernel/__main__.py:50 UserWarning: ***ERROR: with alignment of P0ABB4 and 1d8s***\n"
     ]
    }
   ],
   "source": [
    "os.chdir(SEQ_ALIGN_FILES)\n",
    "\n",
    "for_scoring['ssb_p_percent_seq_ident'] = np.nan\n",
    "\n",
    "uniprot_pdb_align_errors = []\n",
    "\n",
    "# looping through the dataframe using a multi index\n",
    "for uniprot_id in tqdm(for_scoring.index.get_level_values(0).unique()):\n",
    "    \n",
    "    alignment_scores = {}\n",
    "    alignment_coverage = {}\n",
    "    alignment_coverage_sim = {}\n",
    "\n",
    "    pdb_ids = for_scoring.loc[uniprot_id].index.unique().tolist()\n",
    "    \n",
    "    # if there are no PDBs associated with a UniProt ID, skip this UniProt ID\n",
    "    if np.nan in pdb_ids:\n",
    "        continue\n",
    "        \n",
    "    pdb_ids = [pdb_id.lower() for pdb_id in pdb_ids]\n",
    "    \n",
    "    uniprot_len = for_scoring.loc[uniprot_id].u_seq_len.unique()[0]\n",
    "    \n",
    "    uniprot_fasta = os.path.join(SEQ_UNIPROT_FILES, uniprot_id + '.faa')\n",
    "    if not os.path.exists(uniprot_fasta):\n",
    "        warnings.warn('***WARNING: No UniProt FASTA file found for %s.***' % uniprot_id)\n",
    "        uniprot_pdb_align_errors.append(uniprot_id)\n",
    "        continue\n",
    "    \n",
    "    for pdb_id in pdb_ids:\n",
    "        if pdb_id in pdb_seq_errors:\n",
    "            warnings.warn('***WARNING: Previous error for %s. Was the PDB file able to be parsed?***' % pdb_id)\n",
    "            uniprot_pdb_align_errors.append((uniprot_id, pdb_id))\n",
    "            continue\n",
    "            \n",
    "        pdb_fasta = os.path.join(SEQ_PDB_FILES, pdb_id + '.faa')\n",
    "        if not os.path.exists(pdb_fasta):\n",
    "            warnings.warn('***WARNING: No PDB FASTA file found for %s.***' % pdb_id)\n",
    "            uniprot_pdb_align_errors.append((uniprot_id, pdb_id))\n",
    "            continue\n",
    "            \n",
    "        # Run the alignment\n",
    "        alignment_filename = \"%s_%s_align.txt\" % (uniprot_id, pdb_id)\n",
    "        if not os.path.exists(os.path.join(SEQ_ALIGN_FILES, alignment_filename)):\n",
    "            try:\n",
    "                # print 'Running alignment'\n",
    "                alignment_filename = run_alignment(uniprot_id, uniprot_fasta, pdb_id, pdb_fasta)\n",
    "            except:\n",
    "                uniprot_pdb_align_errors.append((uniprot_id,pdb_id))\n",
    "                warnings.warn('***ERROR: with alignment of %s and %s***' % (uniprot_id, pdb_id))\n",
    "                alignment_scores[pdb_id] = 0\n",
    "                alignment_coverage[pdb_id] = 0\n",
    "                alignment_coverage_sim[pdb_id] = 0\n",
    "                continue\n",
    "\n",
    "        # Parse the alignment\n",
    "        os.chdir(SEQ_ALIGN_FILES)\n",
    "        alignment_properties = needle_reader(alignment_filename)\n",
    "\n",
    "        # Choose the best aligning chain\n",
    "        best_score = 0\n",
    "        for pdb_alignment_props in alignment_properties.values():\n",
    "            if pdb_alignment_props['score'] > best_score:\n",
    "                best_score = pdb_alignment_props['score']\n",
    "\n",
    "        best_identity = 0\n",
    "        for pdb_alignment_props in alignment_properties.values():\n",
    "            if pdb_alignment_props['identity'] > best_identity:\n",
    "                best_identity = pdb_alignment_props['identity']\n",
    "        \n",
    "        best_similarity = 0\n",
    "        for pdb_alignment_props in alignment_properties.values():\n",
    "            if pdb_alignment_props['similarity'] > best_similarity:\n",
    "                best_similarity = pdb_alignment_props['similarity']\n",
    "\n",
    "        alignment_scores[pdb_id] = best_score\n",
    "        alignment_coverage[pdb_id] = best_identity\n",
    "        alignment_coverage_sim[pdb_id] = best_similarity\n",
    "\n",
    "    for pdb, cov in alignment_coverage.iteritems():\n",
    "        # NOTE: setting the value by .loc in a multi indexed dataframe REQUIRES IT TO BE SORTED\n",
    "        # http://stackoverflow.com/questions/16833842/assign-new-values-to-slice-from-multiindex-dataframe\n",
    "        for_scoring.loc[(uniprot_id, pdb.upper()), 'ssb_p_aln_coverage'] = cov\n",
    "        for_scoring.loc[(uniprot_id, pdb.upper()), 'ssb_p_aln_coverage_sim'] = alignment_coverage_sim[pdb]\n",
    "        for_scoring.loc[(uniprot_id, pdb.upper()), 'ssb_p_percent_seq_ident'] = float(cov) / float(uniprot_len)"
   ]
  },
  {
   "cell_type": "code",
   "execution_count": 109,
   "metadata": {
    "collapsed": false
   },
   "outputs": [
    {
     "data": {
      "text/html": [
       "<div>\n",
       "<table border=\"1\" class=\"dataframe\">\n",
       "  <thead>\n",
       "    <tr style=\"text-align: right;\">\n",
       "      <th></th>\n",
       "      <th></th>\n",
       "      <th>u_seq_len</th>\n",
       "      <th>p_resolution</th>\n",
       "      <th>ssb_p_percent_seq_ident</th>\n",
       "      <th>ssb_p_aln_coverage</th>\n",
       "      <th>ssb_p_aln_coverage_sim</th>\n",
       "    </tr>\n",
       "    <tr>\n",
       "      <th>u_uniprot_acc</th>\n",
       "      <th>u_pdb</th>\n",
       "      <th></th>\n",
       "      <th></th>\n",
       "      <th></th>\n",
       "      <th></th>\n",
       "      <th></th>\n",
       "    </tr>\n",
       "  </thead>\n",
       "  <tbody>\n",
       "    <tr>\n",
       "      <th rowspan=\"2\" valign=\"top\">O32583</th>\n",
       "      <th>1F0Z</th>\n",
       "      <td>66</td>\n",
       "      <td>NaN</td>\n",
       "      <td>1.000000</td>\n",
       "      <td>66</td>\n",
       "      <td>66</td>\n",
       "    </tr>\n",
       "    <tr>\n",
       "      <th>1ZUD</th>\n",
       "      <td>66</td>\n",
       "      <td>1.98</td>\n",
       "      <td>1.000000</td>\n",
       "      <td>66</td>\n",
       "      <td>66</td>\n",
       "    </tr>\n",
       "    <tr>\n",
       "      <th rowspan=\"3\" valign=\"top\">P00350</th>\n",
       "      <th>2ZYA</th>\n",
       "      <td>468</td>\n",
       "      <td>1.60</td>\n",
       "      <td>0.993590</td>\n",
       "      <td>465</td>\n",
       "      <td>465</td>\n",
       "    </tr>\n",
       "    <tr>\n",
       "      <th>2ZYD</th>\n",
       "      <td>468</td>\n",
       "      <td>1.50</td>\n",
       "      <td>0.993590</td>\n",
       "      <td>465</td>\n",
       "      <td>465</td>\n",
       "    </tr>\n",
       "    <tr>\n",
       "      <th>3FWN</th>\n",
       "      <td>468</td>\n",
       "      <td>1.50</td>\n",
       "      <td>0.995726</td>\n",
       "      <td>466</td>\n",
       "      <td>466</td>\n",
       "    </tr>\n",
       "  </tbody>\n",
       "</table>\n",
       "</div>"
      ],
      "text/plain": [
       "                     u_seq_len  p_resolution  ssb_p_percent_seq_ident  \\\n",
       "u_uniprot_acc u_pdb                                                     \n",
       "O32583        1F0Z          66           NaN                 1.000000   \n",
       "              1ZUD          66          1.98                 1.000000   \n",
       "P00350        2ZYA         468          1.60                 0.993590   \n",
       "              2ZYD         468          1.50                 0.993590   \n",
       "              3FWN         468          1.50                 0.995726   \n",
       "\n",
       "                     ssb_p_aln_coverage  ssb_p_aln_coverage_sim  \n",
       "u_uniprot_acc u_pdb                                              \n",
       "O32583        1F0Z                   66                      66  \n",
       "              1ZUD                   66                      66  \n",
       "P00350        2ZYA                  465                     465  \n",
       "              2ZYD                  465                     465  \n",
       "              3FWN                  466                     466  "
      ]
     },
     "execution_count": 109,
     "metadata": {},
     "output_type": "execute_result"
    }
   ],
   "source": [
    "for_scoring.head()"
   ]
  },
  {
   "cell_type": "markdown",
   "metadata": {},
   "source": [
    "### Scoring"
   ]
  },
  {
   "cell_type": "code",
   "execution_count": 110,
   "metadata": {
    "collapsed": true
   },
   "outputs": [],
   "source": [
    "for_scoring = for_scoring[pd.notnull(for_scoring.ssb_p_percent_seq_ident)]\n",
    "seq_ident = for_scoring.ssb_p_percent_seq_ident"
   ]
  },
  {
   "cell_type": "code",
   "execution_count": 111,
   "metadata": {
    "collapsed": false
   },
   "outputs": [
    {
     "name": "stdout",
     "output_type": "stream",
     "text": [
      "count    3875.000000\n",
      "mean        0.916043\n",
      "std         0.165510\n",
      "min         0.000000\n",
      "10%         0.827133\n",
      "25%         0.924012\n",
      "50%         0.973199\n",
      "75%         0.993464\n",
      "90%         0.997658\n",
      "max         1.000000\n",
      "Name: ssb_p_percent_seq_ident, dtype: float64\n"
     ]
    }
   ],
   "source": [
    "seq_ident_stats = seq_ident.describe(percentiles = [.1,.25,.5,.75,.9])\n",
    "seq_ident_stats_simple_cutoff_10 = seq_ident_stats['10%']\n",
    "seq_ident_stats_simple_cutoff_25 = seq_ident_stats['25%']\n",
    "print seq_ident_stats"
   ]
  },
  {
   "cell_type": "code",
   "execution_count": 112,
   "metadata": {
    "collapsed": false
   },
   "outputs": [
    {
     "data": {
      "text/plain": [
       "(0.4, 1.1)"
      ]
     },
     "execution_count": 112,
     "metadata": {},
     "output_type": "execute_result"
    },
    {
     "data": {
      "image/png": "[encoded data removed]",
      "text/plain": [
       "<matplotlib.figure.Figure at 0x7fdb909a8ed0>"
      ]
     },
     "metadata": {},
     "output_type": "display_data"
    }
   ],
   "source": [
    "import seaborn as sns\n",
    "import matplotlib.pyplot as plt\n",
    "%matplotlib inline\n",
    "\n",
    "plt.figure(figsize=(8, 4.5))\n",
    "sns.violinplot(seq_ident.values, vert=False, color = sns.color_palette()[5])\n",
    "plt.xlim((0.4,1.1))"
   ]
  },
  {
   "cell_type": "code",
   "execution_count": 113,
   "metadata": {
    "collapsed": true
   },
   "outputs": [],
   "source": [
    "for_scoring['ssb_si_score'] = for_scoring.ssb_p_percent_seq_ident / seq_ident_stats_simple_cutoff_10"
   ]
  },
  {
   "cell_type": "code",
   "execution_count": 114,
   "metadata": {
    "collapsed": false
   },
   "outputs": [
    {
     "data": {
      "text/html": [
       "<div>\n",
       "<table border=\"1\" class=\"dataframe\">\n",
       "  <thead>\n",
       "    <tr style=\"text-align: right;\">\n",
       "      <th></th>\n",
       "      <th></th>\n",
       "      <th>u_seq_len</th>\n",
       "      <th>p_resolution</th>\n",
       "      <th>ssb_p_percent_seq_ident</th>\n",
       "      <th>ssb_p_aln_coverage</th>\n",
       "      <th>ssb_p_aln_coverage_sim</th>\n",
       "      <th>ssb_si_score</th>\n",
       "    </tr>\n",
       "    <tr>\n",
       "      <th>u_uniprot_acc</th>\n",
       "      <th>u_pdb</th>\n",
       "      <th></th>\n",
       "      <th></th>\n",
       "      <th></th>\n",
       "      <th></th>\n",
       "      <th></th>\n",
       "      <th></th>\n",
       "    </tr>\n",
       "  </thead>\n",
       "  <tbody>\n",
       "    <tr>\n",
       "      <th rowspan=\"2\" valign=\"top\">O32583</th>\n",
       "      <th>1F0Z</th>\n",
       "      <td>66</td>\n",
       "      <td>NaN</td>\n",
       "      <td>1.000000</td>\n",
       "      <td>66</td>\n",
       "      <td>66</td>\n",
       "      <td>1.208995</td>\n",
       "    </tr>\n",
       "    <tr>\n",
       "      <th>1ZUD</th>\n",
       "      <td>66</td>\n",
       "      <td>1.98</td>\n",
       "      <td>1.000000</td>\n",
       "      <td>66</td>\n",
       "      <td>66</td>\n",
       "      <td>1.208995</td>\n",
       "    </tr>\n",
       "    <tr>\n",
       "      <th rowspan=\"3\" valign=\"top\">P00350</th>\n",
       "      <th>2ZYA</th>\n",
       "      <td>468</td>\n",
       "      <td>1.60</td>\n",
       "      <td>0.993590</td>\n",
       "      <td>465</td>\n",
       "      <td>465</td>\n",
       "      <td>1.201245</td>\n",
       "    </tr>\n",
       "    <tr>\n",
       "      <th>2ZYD</th>\n",
       "      <td>468</td>\n",
       "      <td>1.50</td>\n",
       "      <td>0.993590</td>\n",
       "      <td>465</td>\n",
       "      <td>465</td>\n",
       "      <td>1.201245</td>\n",
       "    </tr>\n",
       "    <tr>\n",
       "      <th>3FWN</th>\n",
       "      <td>468</td>\n",
       "      <td>1.50</td>\n",
       "      <td>0.995726</td>\n",
       "      <td>466</td>\n",
       "      <td>466</td>\n",
       "      <td>1.203828</td>\n",
       "    </tr>\n",
       "  </tbody>\n",
       "</table>\n",
       "</div>"
      ],
      "text/plain": [
       "                     u_seq_len  p_resolution  ssb_p_percent_seq_ident  \\\n",
       "u_uniprot_acc u_pdb                                                     \n",
       "O32583        1F0Z          66           NaN                 1.000000   \n",
       "              1ZUD          66          1.98                 1.000000   \n",
       "P00350        2ZYA         468          1.60                 0.993590   \n",
       "              2ZYD         468          1.50                 0.993590   \n",
       "              3FWN         468          1.50                 0.995726   \n",
       "\n",
       "                     ssb_p_aln_coverage  ssb_p_aln_coverage_sim  ssb_si_score  \n",
       "u_uniprot_acc u_pdb                                                            \n",
       "O32583        1F0Z                   66                      66      1.208995  \n",
       "              1ZUD                   66                      66      1.208995  \n",
       "P00350        2ZYA                  465                     465      1.201245  \n",
       "              2ZYD                  465                     465      1.201245  \n",
       "              3FWN                  466                     466      1.203828  "
      ]
     },
     "execution_count": 114,
     "metadata": {},
     "output_type": "execute_result"
    }
   ],
   "source": [
    "for_scoring.head()"
   ]
  },
  {
   "cell_type": "markdown",
   "metadata": {},
   "source": [
    "## Scoring resolution"
   ]
  },
  {
   "cell_type": "code",
   "execution_count": 115,
   "metadata": {
    "collapsed": false
   },
   "outputs": [
    {
     "name": "stdout",
     "output_type": "stream",
     "text": [
      "count    3708.000000\n",
      "mean        2.293873\n",
      "std         0.984204\n",
      "min         0.890000\n",
      "10%         1.640000\n",
      "25%         1.900000\n",
      "50%         2.200000\n",
      "75%         2.600000\n",
      "90%         3.000000\n",
      "max        28.000000\n",
      "Name: p_resolution, dtype: float64\n"
     ]
    }
   ],
   "source": [
    "resolutions = for_scoring.p_resolution[pd.notnull(for_scoring.p_resolution)]\n",
    "resolutions_stats = resolutions.describe(percentiles = [.1,.25,.5,.75,.9])\n",
    "resolutions_simple_cutoff_75 = resolutions_stats['75%']\n",
    "resolutions_simple_cutoff_90 = resolutions_stats['90%']\n",
    "print resolutions_stats"
   ]
  },
  {
   "cell_type": "code",
   "execution_count": 116,
   "metadata": {
    "collapsed": false
   },
   "outputs": [
    {
     "data": {
      "text/plain": [
       "<matplotlib.axes.AxesSubplot at 0x7fdb59702790>"
      ]
     },
     "execution_count": 116,
     "metadata": {},
     "output_type": "execute_result"
    },
    {
     "data": {
      "image/png": "[encoded data removed]",
      "text/plain": [
       "<matplotlib.figure.Figure at 0x7fdb90704490>"
      ]
     },
     "metadata": {},
     "output_type": "display_data"
    }
   ],
   "source": [
    "plt.figure(figsize=(8, 4.5))\n",
    "plt.xlim((0,5))\n",
    "sns.violinplot(resolutions.values, vert=False, color = sns.color_palette()[5])"
   ]
  },
  {
   "cell_type": "code",
   "execution_count": 118,
   "metadata": {
    "collapsed": true
   },
   "outputs": [],
   "source": [
    "# function to map to a 0 to 1 scale\n",
    "# http://stackoverflow.com/questions/929103/convert-a-number-range-to-another-range-maintaining-ratio\n",
    "\n",
    "def remap( x, oMin, oMax, nMin, nMax ):\n",
    "\n",
    "    #range check\n",
    "    if oMin == oMax:\n",
    "        print \"Warning: Zero input range\"\n",
    "        return None\n",
    "\n",
    "    if nMin == nMax:\n",
    "        print \"Warning: Zero output range\"\n",
    "        return None\n",
    "\n",
    "    #check reversed input range\n",
    "    reverseInput = False\n",
    "    oldMin = min( oMin, oMax )\n",
    "    oldMax = max( oMin, oMax )\n",
    "    if not oldMin == oMin:\n",
    "        reverseInput = True\n",
    "\n",
    "    #check reversed output range\n",
    "    reverseOutput = False   \n",
    "    newMin = min( nMin, nMax )\n",
    "    newMax = max( nMin, nMax )\n",
    "    if not newMin == nMin :\n",
    "        reverseOutput = True\n",
    "\n",
    "    portion = (x-oldMin)*(newMax-newMin)/(oldMax-oldMin)\n",
    "    if reverseInput:\n",
    "        portion = (oldMax-x)*(newMax-newMin)/(oldMax-oldMin)\n",
    "\n",
    "    result = portion + newMin\n",
    "    if reverseOutput:\n",
    "        result = newMax - portion\n",
    "\n",
    "    return result"
   ]
  },
  {
   "cell_type": "code",
   "execution_count": 120,
   "metadata": {
    "collapsed": false
   },
   "outputs": [
    {
     "name": "stdout",
     "output_type": "stream",
     "text": [
      "count    3708.000000\n",
      "mean        0.541225\n",
      "std         0.196841\n",
      "min        -4.600000\n",
      "10%         0.400000\n",
      "25%         0.480000\n",
      "50%         0.560000\n",
      "75%         0.620000\n",
      "90%         0.672000\n",
      "max         0.822000\n",
      "dtype: float64\n"
     ]
    }
   ],
   "source": [
    "resolutions_mod = pd.Series([remap(x, 0, 5, 1, 0) for x in resolutions])\n",
    "resolutions_mod_stats = resolutions_mod.describe(percentiles = [.1,.25,.5,.75,.9])\n",
    "resolutions_mod_simple_cutoff_10 = resolutions_mod_stats['10%']\n",
    "resolutions_mod_simple_cutoff_25 = resolutions_mod_stats['25%']\n",
    "print resolutions_mod_stats"
   ]
  },
  {
   "cell_type": "code",
   "execution_count": 121,
   "metadata": {
    "collapsed": true
   },
   "outputs": [],
   "source": [
    "for_scoring['p_resolution_scaled'] = remap(for_scoring['p_resolution'], 0, 5, 1, 0)\n",
    "for_scoring['ssb_rez_score'] = for_scoring['p_resolution_scaled']/resolutions_mod_simple_cutoff_10"
   ]
  },
  {
   "cell_type": "markdown",
   "metadata": {},
   "source": [
    "## Merging scores & ranking"
   ]
  },
  {
   "cell_type": "code",
   "execution_count": 125,
   "metadata": {
    "collapsed": false
   },
   "outputs": [],
   "source": [
    "for_scoring['ssb_raw_score'] = for_scoring['ssb_rez_score'] + for_scoring['ssb_si_score']"
   ]
  },
  {
   "cell_type": "code",
   "execution_count": 132,
   "metadata": {
    "collapsed": false
   },
   "outputs": [],
   "source": [
    "import ranking as rk\n",
    "\n",
    "def ranker(ranks, reverse_flag):\n",
    "    pdb_rank = {}\n",
    "    \n",
    "    pdbs = [x[0] for x in ranks]\n",
    "    prop = [x[1] for x in ranks]\n",
    "    rank = list(rk.Ranking(prop, reverse=reverse_flag))\n",
    "\n",
    "    for i,v in enumerate(rank):\n",
    "        pdb_rank[pdbs[i]] = v[0]\n",
    "        \n",
    "    return pdb_rank"
   ]
  },
  {
   "cell_type": "code",
   "execution_count": 134,
   "metadata": {
    "collapsed": false
   },
   "outputs": [
    {
     "name": "stderr",
     "output_type": "stream",
     "text": []
    }
   ],
   "source": [
    "for_scoring['ssb_above_cutoffs'] = False\n",
    "for_scoring['ssb_rank'] = np.nan\n",
    "\n",
    "counter = 1\n",
    "for uniprot_id in tqdm(for_scoring.index.get_level_values(0).unique()):\n",
    "    \n",
    "    pdb_ids = for_scoring.loc[uniprot_id].index.tolist()\n",
    "    \n",
    "    # if there are no PDBs associated with a UniProt ID, skip this UniProt ID\n",
    "    if np.nan in pdb_ids:\n",
    "        continue\n",
    "    \n",
    "    pdbs_above_cutoffs = []\n",
    "    for pdb_id in pdb_ids:\n",
    "\n",
    "        ssb_rez_score = for_scoring.loc[(uniprot_id,pdb_id)].ssb_rez_score\n",
    "        ssb_si_score = for_scoring.loc[(uniprot_id,pdb_id)].ssb_si_score\n",
    "        \n",
    "        ssb_raw_score = for_scoring.loc[(uniprot_id,pdb_id)].ssb_raw_score\n",
    "        \n",
    "        if ssb_rez_score >= 1 and ssb_si_score >= 1:\n",
    "            for_scoring.loc[(uniprot_id,pdb_id), 'ssb_above_cutoffs'] = True\n",
    "            pdbs_above_cutoffs.append((pdb_id,ssb_raw_score))\n",
    "            \n",
    "\n",
    "    score_ordered = sorted(pdbs_above_cutoffs,key=lambda x: x[1], reverse=True)\n",
    "    score_rank_ordered = ranker(score_ordered, reverse_flag=False)\n",
    "    score_rank_ordered_list = [x[0] for x in sorted(score_rank_ordered.iteritems(), key=operator.itemgetter(1))]\n",
    "    \n",
    "    for pdb_id, raw_score in pdbs_above_cutoffs:\n",
    "        for_scoring.loc[(uniprot_id,pdb_id), 'ssb_rank'] = score_rank_ordered_list.index(pdb_id) + 1"
   ]
  },
  {
   "cell_type": "code",
   "execution_count": 135,
   "metadata": {
    "collapsed": false
   },
   "outputs": [
    {
     "data": {
      "text/html": [
       "<div>\n",
       "<table border=\"1\" class=\"dataframe\">\n",
       "  <thead>\n",
       "    <tr style=\"text-align: right;\">\n",
       "      <th></th>\n",
       "      <th></th>\n",
       "      <th>u_seq_len</th>\n",
       "      <th>p_resolution</th>\n",
       "      <th>ssb_p_percent_seq_ident</th>\n",
       "      <th>ssb_p_aln_coverage</th>\n",
       "      <th>ssb_p_aln_coverage_sim</th>\n",
       "      <th>ssb_si_score</th>\n",
       "      <th>p_resolution_scaled</th>\n",
       "      <th>ssb_rez_score</th>\n",
       "      <th>ssb_raw_score</th>\n",
       "      <th>ssb_above_cutoffs</th>\n",
       "      <th>ssb_rank</th>\n",
       "    </tr>\n",
       "    <tr>\n",
       "      <th>u_uniprot_acc</th>\n",
       "      <th>u_pdb</th>\n",
       "      <th></th>\n",
       "      <th></th>\n",
       "      <th></th>\n",
       "      <th></th>\n",
       "      <th></th>\n",
       "      <th></th>\n",
       "      <th></th>\n",
       "      <th></th>\n",
       "      <th></th>\n",
       "      <th></th>\n",
       "      <th></th>\n",
       "    </tr>\n",
       "  </thead>\n",
       "  <tbody>\n",
       "    <tr>\n",
       "      <th rowspan=\"2\" valign=\"top\">O32583</th>\n",
       "      <th>1F0Z</th>\n",
       "      <td>66</td>\n",
       "      <td>NaN</td>\n",
       "      <td>1.000000</td>\n",
       "      <td>66</td>\n",
       "      <td>66</td>\n",
       "      <td>1.208995</td>\n",
       "      <td>NaN</td>\n",
       "      <td>NaN</td>\n",
       "      <td>NaN</td>\n",
       "      <td>False</td>\n",
       "      <td>NaN</td>\n",
       "    </tr>\n",
       "    <tr>\n",
       "      <th>1ZUD</th>\n",
       "      <td>66</td>\n",
       "      <td>1.98</td>\n",
       "      <td>1.000000</td>\n",
       "      <td>66</td>\n",
       "      <td>66</td>\n",
       "      <td>1.208995</td>\n",
       "      <td>0.604</td>\n",
       "      <td>1.51</td>\n",
       "      <td>2.718995</td>\n",
       "      <td>True</td>\n",
       "      <td>1</td>\n",
       "    </tr>\n",
       "    <tr>\n",
       "      <th rowspan=\"3\" valign=\"top\">P00350</th>\n",
       "      <th>2ZYA</th>\n",
       "      <td>468</td>\n",
       "      <td>1.60</td>\n",
       "      <td>0.993590</td>\n",
       "      <td>465</td>\n",
       "      <td>465</td>\n",
       "      <td>1.201245</td>\n",
       "      <td>0.680</td>\n",
       "      <td>1.70</td>\n",
       "      <td>2.901245</td>\n",
       "      <td>True</td>\n",
       "      <td>3</td>\n",
       "    </tr>\n",
       "    <tr>\n",
       "      <th>2ZYD</th>\n",
       "      <td>468</td>\n",
       "      <td>1.50</td>\n",
       "      <td>0.993590</td>\n",
       "      <td>465</td>\n",
       "      <td>465</td>\n",
       "      <td>1.201245</td>\n",
       "      <td>0.700</td>\n",
       "      <td>1.75</td>\n",
       "      <td>2.951245</td>\n",
       "      <td>True</td>\n",
       "      <td>2</td>\n",
       "    </tr>\n",
       "    <tr>\n",
       "      <th>3FWN</th>\n",
       "      <td>468</td>\n",
       "      <td>1.50</td>\n",
       "      <td>0.995726</td>\n",
       "      <td>466</td>\n",
       "      <td>466</td>\n",
       "      <td>1.203828</td>\n",
       "      <td>0.700</td>\n",
       "      <td>1.75</td>\n",
       "      <td>2.953828</td>\n",
       "      <td>True</td>\n",
       "      <td>1</td>\n",
       "    </tr>\n",
       "  </tbody>\n",
       "</table>\n",
       "</div>"
      ],
      "text/plain": [
       "                     u_seq_len  p_resolution  ssb_p_percent_seq_ident  \\\n",
       "u_uniprot_acc u_pdb                                                     \n",
       "O32583        1F0Z          66           NaN                 1.000000   \n",
       "              1ZUD          66          1.98                 1.000000   \n",
       "P00350        2ZYA         468          1.60                 0.993590   \n",
       "              2ZYD         468          1.50                 0.993590   \n",
       "              3FWN         468          1.50                 0.995726   \n",
       "\n",
       "                     ssb_p_aln_coverage  ssb_p_aln_coverage_sim  ssb_si_score  \\\n",
       "u_uniprot_acc u_pdb                                                             \n",
       "O32583        1F0Z                   66                      66      1.208995   \n",
       "              1ZUD                   66                      66      1.208995   \n",
       "P00350        2ZYA                  465                     465      1.201245   \n",
       "              2ZYD                  465                     465      1.201245   \n",
       "              3FWN                  466                     466      1.203828   \n",
       "\n",
       "                     p_resolution_scaled  ssb_rez_score  ssb_raw_score  \\\n",
       "u_uniprot_acc u_pdb                                                      \n",
       "O32583        1F0Z                   NaN            NaN            NaN   \n",
       "              1ZUD                 0.604           1.51       2.718995   \n",
       "P00350        2ZYA                 0.680           1.70       2.901245   \n",
       "              2ZYD                 0.700           1.75       2.951245   \n",
       "              3FWN                 0.700           1.75       2.953828   \n",
       "\n",
       "                    ssb_above_cutoffs  ssb_rank  \n",
       "u_uniprot_acc u_pdb                              \n",
       "O32583        1F0Z              False       NaN  \n",
       "              1ZUD               True         1  \n",
       "P00350        2ZYA               True         3  \n",
       "              2ZYD               True         2  \n",
       "              3FWN               True         1  "
      ]
     },
     "execution_count": 135,
     "metadata": {},
     "output_type": "execute_result"
    }
   ],
   "source": [
    "for_scoring.head()"
   ]
  },
  {
   "cell_type": "code",
   "execution_count": 151,
   "metadata": {
    "collapsed": false
   },
   "outputs": [
    {
     "data": {
      "text/html": [
       "<div>\n",
       "<table border=\"1\" class=\"dataframe\">\n",
       "  <thead>\n",
       "    <tr style=\"text-align: right;\">\n",
       "      <th></th>\n",
       "      <th></th>\n",
       "      <th>u_seq_len</th>\n",
       "      <th>p_resolution</th>\n",
       "      <th>ssb_p_percent_seq_ident</th>\n",
       "      <th>ssb_p_aln_coverage</th>\n",
       "      <th>ssb_p_aln_coverage_sim</th>\n",
       "      <th>ssb_si_score</th>\n",
       "      <th>p_resolution_scaled</th>\n",
       "      <th>ssb_rez_score</th>\n",
       "      <th>ssb_raw_score</th>\n",
       "      <th>ssb_above_cutoffs</th>\n",
       "      <th>ssb_rank</th>\n",
       "    </tr>\n",
       "    <tr>\n",
       "      <th>u_uniprot_acc</th>\n",
       "      <th>u_pdb</th>\n",
       "      <th></th>\n",
       "      <th></th>\n",
       "      <th></th>\n",
       "      <th></th>\n",
       "      <th></th>\n",
       "      <th></th>\n",
       "      <th></th>\n",
       "      <th></th>\n",
       "      <th></th>\n",
       "      <th></th>\n",
       "      <th></th>\n",
       "    </tr>\n",
       "  </thead>\n",
       "  <tbody>\n",
       "    <tr>\n",
       "      <th>O32583</th>\n",
       "      <th>1ZUD</th>\n",
       "      <td>66</td>\n",
       "      <td>1.98</td>\n",
       "      <td>1.000000</td>\n",
       "      <td>66</td>\n",
       "      <td>66</td>\n",
       "      <td>1.208995</td>\n",
       "      <td>0.604</td>\n",
       "      <td>1.51</td>\n",
       "      <td>2.718995</td>\n",
       "      <td>True</td>\n",
       "      <td>1</td>\n",
       "    </tr>\n",
       "    <tr>\n",
       "      <th>P00350</th>\n",
       "      <th>3FWN</th>\n",
       "      <td>468</td>\n",
       "      <td>1.50</td>\n",
       "      <td>0.995726</td>\n",
       "      <td>466</td>\n",
       "      <td>466</td>\n",
       "      <td>1.203828</td>\n",
       "      <td>0.700</td>\n",
       "      <td>1.75</td>\n",
       "      <td>2.953828</td>\n",
       "      <td>True</td>\n",
       "      <td>1</td>\n",
       "    </tr>\n",
       "    <tr>\n",
       "      <th>P00363</th>\n",
       "      <th>1KF6</th>\n",
       "      <td>602</td>\n",
       "      <td>2.70</td>\n",
       "      <td>0.958472</td>\n",
       "      <td>577</td>\n",
       "      <td>577</td>\n",
       "      <td>1.158787</td>\n",
       "      <td>0.460</td>\n",
       "      <td>1.15</td>\n",
       "      <td>2.308787</td>\n",
       "      <td>True</td>\n",
       "      <td>1</td>\n",
       "    </tr>\n",
       "    <tr>\n",
       "      <th>P00370</th>\n",
       "      <th>4BHT</th>\n",
       "      <td>447</td>\n",
       "      <td>2.50</td>\n",
       "      <td>0.988814</td>\n",
       "      <td>442</td>\n",
       "      <td>442</td>\n",
       "      <td>1.195471</td>\n",
       "      <td>0.500</td>\n",
       "      <td>1.25</td>\n",
       "      <td>2.445471</td>\n",
       "      <td>True</td>\n",
       "      <td>1</td>\n",
       "    </tr>\n",
       "    <tr>\n",
       "      <th>P00448</th>\n",
       "      <th>1IXB</th>\n",
       "      <td>206</td>\n",
       "      <td>0.90</td>\n",
       "      <td>0.990291</td>\n",
       "      <td>204</td>\n",
       "      <td>205</td>\n",
       "      <td>1.197257</td>\n",
       "      <td>0.820</td>\n",
       "      <td>2.05</td>\n",
       "      <td>3.247257</td>\n",
       "      <td>True</td>\n",
       "      <td>1</td>\n",
       "    </tr>\n",
       "  </tbody>\n",
       "</table>\n",
       "</div>"
      ],
      "text/plain": [
       "                     u_seq_len  p_resolution  ssb_p_percent_seq_ident  \\\n",
       "u_uniprot_acc u_pdb                                                     \n",
       "O32583        1ZUD          66          1.98                 1.000000   \n",
       "P00350        3FWN         468          1.50                 0.995726   \n",
       "P00363        1KF6         602          2.70                 0.958472   \n",
       "P00370        4BHT         447          2.50                 0.988814   \n",
       "P00448        1IXB         206          0.90                 0.990291   \n",
       "\n",
       "                     ssb_p_aln_coverage  ssb_p_aln_coverage_sim  ssb_si_score  \\\n",
       "u_uniprot_acc u_pdb                                                             \n",
       "O32583        1ZUD                   66                      66      1.208995   \n",
       "P00350        3FWN                  466                     466      1.203828   \n",
       "P00363        1KF6                  577                     577      1.158787   \n",
       "P00370        4BHT                  442                     442      1.195471   \n",
       "P00448        1IXB                  204                     205      1.197257   \n",
       "\n",
       "                     p_resolution_scaled  ssb_rez_score  ssb_raw_score  \\\n",
       "u_uniprot_acc u_pdb                                                      \n",
       "O32583        1ZUD                 0.604           1.51       2.718995   \n",
       "P00350        3FWN                 0.700           1.75       2.953828   \n",
       "P00363        1KF6                 0.460           1.15       2.308787   \n",
       "P00370        4BHT                 0.500           1.25       2.445471   \n",
       "P00448        1IXB                 0.820           2.05       3.247257   \n",
       "\n",
       "                    ssb_above_cutoffs  ssb_rank  \n",
       "u_uniprot_acc u_pdb                              \n",
       "O32583        1ZUD               True         1  \n",
       "P00350        3FWN               True         1  \n",
       "P00363        1KF6               True         1  \n",
       "P00370        4BHT               True         1  \n",
       "P00448        1IXB               True         1  "
      ]
     },
     "execution_count": 151,
     "metadata": {},
     "output_type": "execute_result"
    }
   ],
   "source": [
    "best_pdbs = for_scoring[(for_scoring.ssb_rank == 1)]\n",
    "best_pdbs.head()"
   ]
  },
  {
   "cell_type": "code",
   "execution_count": 140,
   "metadata": {
    "collapsed": true
   },
   "outputs": [],
   "source": [
    "FINAL_RESET = for_scoring.reset_index()"
   ]
  },
  {
   "cell_type": "code",
   "execution_count": 147,
   "metadata": {
    "collapsed": false
   },
   "outputs": [],
   "source": [
    "DF_GEMPRO = DF_02_RXN_GENE_UNIPROT_PDB_HOMOL.merge(FINAL_RESET, how='outer')"
   ]
  },
  {
   "cell_type": "code",
   "execution_count": 148,
   "metadata": {
    "collapsed": false
   },
   "outputs": [
    {
     "data": {
      "text/html": [
       "<div>\n",
       "<table border=\"1\" class=\"dataframe\">\n",
       "  <thead>\n",
       "    <tr style=\"text-align: right;\">\n",
       "      <th></th>\n",
       "      <th>m_reaction</th>\n",
       "      <th>m_subsystem</th>\n",
       "      <th>m_formula</th>\n",
       "      <th>m_metabolites</th>\n",
       "      <th>m_gene_reaction_rule</th>\n",
       "      <th>m_gene</th>\n",
       "      <th>u_uniprot_acc</th>\n",
       "      <th>u_reviewed</th>\n",
       "      <th>u_gene_name</th>\n",
       "      <th>u_ec_number</th>\n",
       "      <th>u_description</th>\n",
       "      <th>u_seq</th>\n",
       "      <th>u_seq_len</th>\n",
       "      <th>u_pfam</th>\n",
       "      <th>u_kegg_id</th>\n",
       "      <th>u_refseq</th>\n",
       "      <th>u_go</th>\n",
       "      <th>u_pdb_count</th>\n",
       "      <th>u_pdb</th>\n",
       "      <th>p_experiment</th>\n",
       "      <th>p_resolution</th>\n",
       "      <th>p_chemicals</th>\n",
       "      <th>p_chains</th>\n",
       "      <th>p_chain_uniprot_map</th>\n",
       "      <th>p_ec_numbers</th>\n",
       "      <th>p_deposition_date</th>\n",
       "      <th>p_doi</th>\n",
       "      <th>p_pmid</th>\n",
       "      <th>p_space_group</th>\n",
       "      <th>i_entry_name</th>\n",
       "      <th>i_length</th>\n",
       "      <th>i_native</th>\n",
       "      <th>i_tm_helix</th>\n",
       "      <th>i_tm_score</th>\n",
       "      <th>ssb_p_percent_seq_ident</th>\n",
       "      <th>ssb_p_aln_coverage</th>\n",
       "      <th>ssb_p_aln_coverage_sim</th>\n",
       "      <th>ssb_si_score</th>\n",
       "      <th>p_resolution_scaled</th>\n",
       "      <th>ssb_rez_score</th>\n",
       "      <th>ssb_raw_score</th>\n",
       "      <th>ssb_above_cutoffs</th>\n",
       "      <th>ssb_rank</th>\n",
       "    </tr>\n",
       "  </thead>\n",
       "  <tbody>\n",
       "    <tr>\n",
       "      <th>0</th>\n",
       "      <td>12PPDRtex</td>\n",
       "      <td>Transport, Outer Membrane Porin</td>\n",
       "      <td>12ppd_DASH_R_e &lt;=&gt; 12ppd_DASH_R_p</td>\n",
       "      <td>[12ppd_DASH_R_e, 12ppd_DASH_R_p]</td>\n",
       "      <td>(b0241 or b0929 or b1377 or b2215)</td>\n",
       "      <td>b0241</td>\n",
       "      <td>P02932</td>\n",
       "      <td>1</td>\n",
       "      <td>phoE</td>\n",
       "      <td>NaN</td>\n",
       "      <td>['Outer membrane pore protein E']</td>\n",
       "      <td>MKKSTLALVVMGIVASASVQAAEIYNKDGNKLDVYGKVKAMHYMSD...</td>\n",
       "      <td>351</td>\n",
       "      <td>['PF00267']</td>\n",
       "      <td>['ecj:JW0231', 'eco:b0241']</td>\n",
       "      <td>['NP_414776.1', 'NC_000913.3', 'WP_000749863.1...</td>\n",
       "      <td>['GO:0009279; C:cell outer membrane; IEA:UniPr...</td>\n",
       "      <td>1</td>\n",
       "      <td>1PHO</td>\n",
       "      <td>X-RAY DIFFRACTION</td>\n",
       "      <td>3</td>\n",
       "      <td>NaN</td>\n",
       "      <td>['A']</td>\n",
       "      <td>{'A': ['P02932']}</td>\n",
       "      <td>NaN</td>\n",
       "      <td>15-JAN-93</td>\n",
       "      <td>10.1038/358727A0</td>\n",
       "      <td>1380671</td>\n",
       "      <td>P 3 2 1</td>\n",
       "      <td>PHOE_ECOLI</td>\n",
       "      <td>351</td>\n",
       "      <td>1phoA</td>\n",
       "      <td>7</td>\n",
       "      <td>NaN</td>\n",
       "      <td>0.940171</td>\n",
       "      <td>330</td>\n",
       "      <td>330</td>\n",
       "      <td>1.136662</td>\n",
       "      <td>0.4</td>\n",
       "      <td>1</td>\n",
       "      <td>2.136662</td>\n",
       "      <td>True</td>\n",
       "      <td>1</td>\n",
       "    </tr>\n",
       "    <tr>\n",
       "      <th>1</th>\n",
       "      <td>12PPDStex</td>\n",
       "      <td>Transport, Outer Membrane Porin</td>\n",
       "      <td>12ppd_DASH_S_e &lt;=&gt; 12ppd_DASH_S_p</td>\n",
       "      <td>[12ppd_DASH_S_e, 12ppd_DASH_S_p]</td>\n",
       "      <td>(b0241 or b0929 or b1377 or b2215)</td>\n",
       "      <td>b0241</td>\n",
       "      <td>P02932</td>\n",
       "      <td>1</td>\n",
       "      <td>phoE</td>\n",
       "      <td>NaN</td>\n",
       "      <td>['Outer membrane pore protein E']</td>\n",
       "      <td>MKKSTLALVVMGIVASASVQAAEIYNKDGNKLDVYGKVKAMHYMSD...</td>\n",
       "      <td>351</td>\n",
       "      <td>['PF00267']</td>\n",
       "      <td>['ecj:JW0231', 'eco:b0241']</td>\n",
       "      <td>['NP_414776.1', 'NC_000913.3', 'WP_000749863.1...</td>\n",
       "      <td>['GO:0009279; C:cell outer membrane; IEA:UniPr...</td>\n",
       "      <td>1</td>\n",
       "      <td>1PHO</td>\n",
       "      <td>X-RAY DIFFRACTION</td>\n",
       "      <td>3</td>\n",
       "      <td>NaN</td>\n",
       "      <td>['A']</td>\n",
       "      <td>{'A': ['P02932']}</td>\n",
       "      <td>NaN</td>\n",
       "      <td>15-JAN-93</td>\n",
       "      <td>10.1038/358727A0</td>\n",
       "      <td>1380671</td>\n",
       "      <td>P 3 2 1</td>\n",
       "      <td>PHOE_ECOLI</td>\n",
       "      <td>351</td>\n",
       "      <td>1phoA</td>\n",
       "      <td>7</td>\n",
       "      <td>NaN</td>\n",
       "      <td>0.940171</td>\n",
       "      <td>330</td>\n",
       "      <td>330</td>\n",
       "      <td>1.136662</td>\n",
       "      <td>0.4</td>\n",
       "      <td>1</td>\n",
       "      <td>2.136662</td>\n",
       "      <td>True</td>\n",
       "      <td>1</td>\n",
       "    </tr>\n",
       "    <tr>\n",
       "      <th>2</th>\n",
       "      <td>23CAMPtex</td>\n",
       "      <td>Transport, Outer Membrane Porin</td>\n",
       "      <td>23camp_e &lt;=&gt; 23camp_p</td>\n",
       "      <td>[23camp_p, 23camp_e]</td>\n",
       "      <td>(b0241 or b0929 or b1377 or b2215)</td>\n",
       "      <td>b0241</td>\n",
       "      <td>P02932</td>\n",
       "      <td>1</td>\n",
       "      <td>phoE</td>\n",
       "      <td>NaN</td>\n",
       "      <td>['Outer membrane pore protein E']</td>\n",
       "      <td>MKKSTLALVVMGIVASASVQAAEIYNKDGNKLDVYGKVKAMHYMSD...</td>\n",
       "      <td>351</td>\n",
       "      <td>['PF00267']</td>\n",
       "      <td>['ecj:JW0231', 'eco:b0241']</td>\n",
       "      <td>['NP_414776.1', 'NC_000913.3', 'WP_000749863.1...</td>\n",
       "      <td>['GO:0009279; C:cell outer membrane; IEA:UniPr...</td>\n",
       "      <td>1</td>\n",
       "      <td>1PHO</td>\n",
       "      <td>X-RAY DIFFRACTION</td>\n",
       "      <td>3</td>\n",
       "      <td>NaN</td>\n",
       "      <td>['A']</td>\n",
       "      <td>{'A': ['P02932']}</td>\n",
       "      <td>NaN</td>\n",
       "      <td>15-JAN-93</td>\n",
       "      <td>10.1038/358727A0</td>\n",
       "      <td>1380671</td>\n",
       "      <td>P 3 2 1</td>\n",
       "      <td>PHOE_ECOLI</td>\n",
       "      <td>351</td>\n",
       "      <td>1phoA</td>\n",
       "      <td>7</td>\n",
       "      <td>NaN</td>\n",
       "      <td>0.940171</td>\n",
       "      <td>330</td>\n",
       "      <td>330</td>\n",
       "      <td>1.136662</td>\n",
       "      <td>0.4</td>\n",
       "      <td>1</td>\n",
       "      <td>2.136662</td>\n",
       "      <td>True</td>\n",
       "      <td>1</td>\n",
       "    </tr>\n",
       "    <tr>\n",
       "      <th>3</th>\n",
       "      <td>23CCMPtex</td>\n",
       "      <td>Transport, Outer Membrane Porin</td>\n",
       "      <td>23ccmp_e &lt;=&gt; 23ccmp_p</td>\n",
       "      <td>[23ccmp_e, 23ccmp_p]</td>\n",
       "      <td>(b0241 or b0929 or b1377 or b2215)</td>\n",
       "      <td>b0241</td>\n",
       "      <td>P02932</td>\n",
       "      <td>1</td>\n",
       "      <td>phoE</td>\n",
       "      <td>NaN</td>\n",
       "      <td>['Outer membrane pore protein E']</td>\n",
       "      <td>MKKSTLALVVMGIVASASVQAAEIYNKDGNKLDVYGKVKAMHYMSD...</td>\n",
       "      <td>351</td>\n",
       "      <td>['PF00267']</td>\n",
       "      <td>['ecj:JW0231', 'eco:b0241']</td>\n",
       "      <td>['NP_414776.1', 'NC_000913.3', 'WP_000749863.1...</td>\n",
       "      <td>['GO:0009279; C:cell outer membrane; IEA:UniPr...</td>\n",
       "      <td>1</td>\n",
       "      <td>1PHO</td>\n",
       "      <td>X-RAY DIFFRACTION</td>\n",
       "      <td>3</td>\n",
       "      <td>NaN</td>\n",
       "      <td>['A']</td>\n",
       "      <td>{'A': ['P02932']}</td>\n",
       "      <td>NaN</td>\n",
       "      <td>15-JAN-93</td>\n",
       "      <td>10.1038/358727A0</td>\n",
       "      <td>1380671</td>\n",
       "      <td>P 3 2 1</td>\n",
       "      <td>PHOE_ECOLI</td>\n",
       "      <td>351</td>\n",
       "      <td>1phoA</td>\n",
       "      <td>7</td>\n",
       "      <td>NaN</td>\n",
       "      <td>0.940171</td>\n",
       "      <td>330</td>\n",
       "      <td>330</td>\n",
       "      <td>1.136662</td>\n",
       "      <td>0.4</td>\n",
       "      <td>1</td>\n",
       "      <td>2.136662</td>\n",
       "      <td>True</td>\n",
       "      <td>1</td>\n",
       "    </tr>\n",
       "    <tr>\n",
       "      <th>4</th>\n",
       "      <td>23CGMPtex</td>\n",
       "      <td>Transport, Outer Membrane Porin</td>\n",
       "      <td>23cgmp_e &lt;=&gt; 23cgmp_p</td>\n",
       "      <td>[23cgmp_p, 23cgmp_e]</td>\n",
       "      <td>(b0241 or b0929 or b1377 or b2215)</td>\n",
       "      <td>b0241</td>\n",
       "      <td>P02932</td>\n",
       "      <td>1</td>\n",
       "      <td>phoE</td>\n",
       "      <td>NaN</td>\n",
       "      <td>['Outer membrane pore protein E']</td>\n",
       "      <td>MKKSTLALVVMGIVASASVQAAEIYNKDGNKLDVYGKVKAMHYMSD...</td>\n",
       "      <td>351</td>\n",
       "      <td>['PF00267']</td>\n",
       "      <td>['ecj:JW0231', 'eco:b0241']</td>\n",
       "      <td>['NP_414776.1', 'NC_000913.3', 'WP_000749863.1...</td>\n",
       "      <td>['GO:0009279; C:cell outer membrane; IEA:UniPr...</td>\n",
       "      <td>1</td>\n",
       "      <td>1PHO</td>\n",
       "      <td>X-RAY DIFFRACTION</td>\n",
       "      <td>3</td>\n",
       "      <td>NaN</td>\n",
       "      <td>['A']</td>\n",
       "      <td>{'A': ['P02932']}</td>\n",
       "      <td>NaN</td>\n",
       "      <td>15-JAN-93</td>\n",
       "      <td>10.1038/358727A0</td>\n",
       "      <td>1380671</td>\n",
       "      <td>P 3 2 1</td>\n",
       "      <td>PHOE_ECOLI</td>\n",
       "      <td>351</td>\n",
       "      <td>1phoA</td>\n",
       "      <td>7</td>\n",
       "      <td>NaN</td>\n",
       "      <td>0.940171</td>\n",
       "      <td>330</td>\n",
       "      <td>330</td>\n",
       "      <td>1.136662</td>\n",
       "      <td>0.4</td>\n",
       "      <td>1</td>\n",
       "      <td>2.136662</td>\n",
       "      <td>True</td>\n",
       "      <td>1</td>\n",
       "    </tr>\n",
       "  </tbody>\n",
       "</table>\n",
       "</div>"
      ],
      "text/plain": [
       "  m_reaction                      m_subsystem  \\\n",
       "0  12PPDRtex  Transport, Outer Membrane Porin   \n",
       "1  12PPDStex  Transport, Outer Membrane Porin   \n",
       "2  23CAMPtex  Transport, Outer Membrane Porin   \n",
       "3  23CCMPtex  Transport, Outer Membrane Porin   \n",
       "4  23CGMPtex  Transport, Outer Membrane Porin   \n",
       "\n",
       "                           m_formula                     m_metabolites  \\\n",
       "0  12ppd_DASH_R_e <=> 12ppd_DASH_R_p  [12ppd_DASH_R_e, 12ppd_DASH_R_p]   \n",
       "1  12ppd_DASH_S_e <=> 12ppd_DASH_S_p  [12ppd_DASH_S_e, 12ppd_DASH_S_p]   \n",
       "2              23camp_e <=> 23camp_p              [23camp_p, 23camp_e]   \n",
       "3              23ccmp_e <=> 23ccmp_p              [23ccmp_e, 23ccmp_p]   \n",
       "4              23cgmp_e <=> 23cgmp_p              [23cgmp_p, 23cgmp_e]   \n",
       "\n",
       "                 m_gene_reaction_rule m_gene u_uniprot_acc  u_reviewed  \\\n",
       "0  (b0241 or b0929 or b1377 or b2215)  b0241        P02932           1   \n",
       "1  (b0241 or b0929 or b1377 or b2215)  b0241        P02932           1   \n",
       "2  (b0241 or b0929 or b1377 or b2215)  b0241        P02932           1   \n",
       "3  (b0241 or b0929 or b1377 or b2215)  b0241        P02932           1   \n",
       "4  (b0241 or b0929 or b1377 or b2215)  b0241        P02932           1   \n",
       "\n",
       "  u_gene_name u_ec_number                      u_description  \\\n",
       "0        phoE         NaN  ['Outer membrane pore protein E']   \n",
       "1        phoE         NaN  ['Outer membrane pore protein E']   \n",
       "2        phoE         NaN  ['Outer membrane pore protein E']   \n",
       "3        phoE         NaN  ['Outer membrane pore protein E']   \n",
       "4        phoE         NaN  ['Outer membrane pore protein E']   \n",
       "\n",
       "                                               u_seq  u_seq_len       u_pfam  \\\n",
       "0  MKKSTLALVVMGIVASASVQAAEIYNKDGNKLDVYGKVKAMHYMSD...        351  ['PF00267']   \n",
       "1  MKKSTLALVVMGIVASASVQAAEIYNKDGNKLDVYGKVKAMHYMSD...        351  ['PF00267']   \n",
       "2  MKKSTLALVVMGIVASASVQAAEIYNKDGNKLDVYGKVKAMHYMSD...        351  ['PF00267']   \n",
       "3  MKKSTLALVVMGIVASASVQAAEIYNKDGNKLDVYGKVKAMHYMSD...        351  ['PF00267']   \n",
       "4  MKKSTLALVVMGIVASASVQAAEIYNKDGNKLDVYGKVKAMHYMSD...        351  ['PF00267']   \n",
       "\n",
       "                     u_kegg_id  \\\n",
       "0  ['ecj:JW0231', 'eco:b0241']   \n",
       "1  ['ecj:JW0231', 'eco:b0241']   \n",
       "2  ['ecj:JW0231', 'eco:b0241']   \n",
       "3  ['ecj:JW0231', 'eco:b0241']   \n",
       "4  ['ecj:JW0231', 'eco:b0241']   \n",
       "\n",
       "                                            u_refseq  \\\n",
       "0  ['NP_414776.1', 'NC_000913.3', 'WP_000749863.1...   \n",
       "1  ['NP_414776.1', 'NC_000913.3', 'WP_000749863.1...   \n",
       "2  ['NP_414776.1', 'NC_000913.3', 'WP_000749863.1...   \n",
       "3  ['NP_414776.1', 'NC_000913.3', 'WP_000749863.1...   \n",
       "4  ['NP_414776.1', 'NC_000913.3', 'WP_000749863.1...   \n",
       "\n",
       "                                                u_go  u_pdb_count u_pdb  \\\n",
       "0  ['GO:0009279; C:cell outer membrane; IEA:UniPr...            1  1PHO   \n",
       "1  ['GO:0009279; C:cell outer membrane; IEA:UniPr...            1  1PHO   \n",
       "2  ['GO:0009279; C:cell outer membrane; IEA:UniPr...            1  1PHO   \n",
       "3  ['GO:0009279; C:cell outer membrane; IEA:UniPr...            1  1PHO   \n",
       "4  ['GO:0009279; C:cell outer membrane; IEA:UniPr...            1  1PHO   \n",
       "\n",
       "        p_experiment  p_resolution p_chemicals p_chains p_chain_uniprot_map  \\\n",
       "0  X-RAY DIFFRACTION             3         NaN    ['A']   {'A': ['P02932']}   \n",
       "1  X-RAY DIFFRACTION             3         NaN    ['A']   {'A': ['P02932']}   \n",
       "2  X-RAY DIFFRACTION             3         NaN    ['A']   {'A': ['P02932']}   \n",
       "3  X-RAY DIFFRACTION             3         NaN    ['A']   {'A': ['P02932']}   \n",
       "4  X-RAY DIFFRACTION             3         NaN    ['A']   {'A': ['P02932']}   \n",
       "\n",
       "  p_ec_numbers p_deposition_date             p_doi   p_pmid p_space_group  \\\n",
       "0          NaN         15-JAN-93  10.1038/358727A0  1380671       P 3 2 1   \n",
       "1          NaN         15-JAN-93  10.1038/358727A0  1380671       P 3 2 1   \n",
       "2          NaN         15-JAN-93  10.1038/358727A0  1380671       P 3 2 1   \n",
       "3          NaN         15-JAN-93  10.1038/358727A0  1380671       P 3 2 1   \n",
       "4          NaN         15-JAN-93  10.1038/358727A0  1380671       P 3 2 1   \n",
       "\n",
       "  i_entry_name  i_length i_native  i_tm_helix  i_tm_score  \\\n",
       "0   PHOE_ECOLI       351    1phoA           7         NaN   \n",
       "1   PHOE_ECOLI       351    1phoA           7         NaN   \n",
       "2   PHOE_ECOLI       351    1phoA           7         NaN   \n",
       "3   PHOE_ECOLI       351    1phoA           7         NaN   \n",
       "4   PHOE_ECOLI       351    1phoA           7         NaN   \n",
       "\n",
       "   ssb_p_percent_seq_ident  ssb_p_aln_coverage  ssb_p_aln_coverage_sim  \\\n",
       "0                 0.940171                 330                     330   \n",
       "1                 0.940171                 330                     330   \n",
       "2                 0.940171                 330                     330   \n",
       "3                 0.940171                 330                     330   \n",
       "4                 0.940171                 330                     330   \n",
       "\n",
       "   ssb_si_score  p_resolution_scaled  ssb_rez_score  ssb_raw_score  \\\n",
       "0      1.136662                  0.4              1       2.136662   \n",
       "1      1.136662                  0.4              1       2.136662   \n",
       "2      1.136662                  0.4              1       2.136662   \n",
       "3      1.136662                  0.4              1       2.136662   \n",
       "4      1.136662                  0.4              1       2.136662   \n",
       "\n",
       "  ssb_above_cutoffs  ssb_rank  \n",
       "0              True         1  \n",
       "1              True         1  \n",
       "2              True         1  \n",
       "3              True         1  \n",
       "4              True         1  "
      ]
     },
     "execution_count": 148,
     "metadata": {},
     "output_type": "execute_result"
    }
   ],
   "source": [
    "DF_GEMPRO.head()"
   ]
  },
  {
   "cell_type": "code",
   "execution_count": 149,
   "metadata": {
    "collapsed": true
   },
   "outputs": [],
   "source": [
    "DF_GEMPRO.to_pickle(os.path.join(DATA_FRAMES, 'DF_03_GEMPRO.pckl'))"
   ]
  },
  {
   "cell_type": "markdown",
   "metadata": {},
   "source": [
    "# Saving the final GEM-PRO dataframe"
   ]
  },
  {
   "cell_type": "code",
   "execution_count": 190,
   "metadata": {
    "collapsed": true
   },
   "outputs": [],
   "source": [
    "DF_GEMPRO['ssb_best_file'] = np.nan"
   ]
  },
  {
   "cell_type": "code",
   "execution_count": 191,
   "metadata": {
    "collapsed": true
   },
   "outputs": [],
   "source": [
    "STRUCT_BEST_EXP_PERFECT = os.path.join(STRUCT_FILES, 'best_set/experimental_perfect/')\n",
    "STRUCT_BEST_EXP_MUTATED = os.path.join(STRUCT_FILES, 'best_set/experimental_mutated/') \n",
    "STRUCT_BEST_HOMOLOGY = os.path.join(STRUCT_FILES, 'best_set/homology_models/')"
   ]
  },
  {
   "cell_type": "code",
   "execution_count": 192,
   "metadata": {
    "collapsed": true
   },
   "outputs": [],
   "source": [
    "for directory in [STRUCT_BEST_EXP_PERFECT, STRUCT_BEST_EXP_MUTATED, STRUCT_BEST_HOMOLOGY]:\n",
    "    if not os.path.exists(directory):\n",
    "        os.makedirs(directory)"
   ]
  },
  {
   "cell_type": "code",
   "execution_count": 193,
   "metadata": {
    "collapsed": false
   },
   "outputs": [
    {
     "name": "stderr",
     "output_type": "stream",
     "text": []
    }
   ],
   "source": [
    "os.chdir(STRUCT_BEST_EXP_PERFECT)\n",
    "for uniprot_id,pdb_id in tqdm(best_pdbs.index.tolist()):\n",
    "    pdb_id = pdb_id.lower()\n",
    "    pdb_file = os.path.join(STRUCT_EXP_FILES, '%s.pdb' % pdb_id)\n",
    "    \n",
    "    if not os.path.exists(os.path.join(STRUCT_BEST_EXP_PERFECT, '%s.pdb' % pdb_id)):\n",
    "        shutil.copy(pdb_file, STRUCT_BEST_EXP_PERFECT)\n",
    "        \n",
    "    indices = DF_GEMPRO[(DF_GEMPRO.u_uniprot_acc == uniprot_id)].index.tolist()\n",
    "    for idx in indices:\n",
    "        DF_GEMPRO.loc[idx, 'ssb_best_file'] = '%s.pdb' % pdb_id"
   ]
  },
  {
   "cell_type": "code",
   "execution_count": 194,
   "metadata": {
    "collapsed": false
   },
   "outputs": [
    {
     "name": "stderr",
     "output_type": "stream",
     "text": []
    }
   ],
   "source": [
    "errors = []\n",
    "tmp2 = DF_GEMPRO[pd.notnull(DF_GEMPRO.i_entry_name)]\n",
    "for uniprot_id in tqdm(DF_GEMPRO[pd.isnull(DF_GEMPRO.ssb_best_file)].u_uniprot_acc.unique().tolist()):\n",
    "    \n",
    "    try:\n",
    "        itasser_name = tmp2[tmp2.u_uniprot_acc == uniprot_id].i_entry_name.unique()[0]\n",
    "    except:\n",
    "        errors.append(uniprot_id)\n",
    "        continue\n",
    "        \n",
    "    itasser_file = '%s_model1.pdb' % itasser_name\n",
    "    itasser_path = os.path.join(STRUCT_HOMOLOGY_FILES, itasser_file)\n",
    "    \n",
    "    if not os.path.exists(os.path.join(STRUCT_BEST_HOMOLOGY, itasser_file)):\n",
    "        shutil.copy(itasser_path, STRUCT_BEST_HOMOLOGY)\n",
    "        \n",
    "    indices = DF_GEMPRO[(DF_GEMPRO.u_uniprot_acc == uniprot_id)].index.tolist()\n",
    "    for idx in indices:\n",
    "        DF_GEMPRO.loc[idx, 'ssb_best_file'] = itasser_file"
   ]
  },
  {
   "cell_type": "code",
   "execution_count": 195,
   "metadata": {
    "collapsed": false
   },
   "outputs": [
    {
     "data": {
      "text/plain": [
       "['P0AD88', 'P39400']"
      ]
     },
     "execution_count": 195,
     "metadata": {},
     "output_type": "execute_result"
    }
   ],
   "source": [
    "# these do not have a homology model\n",
    "errors"
   ]
  },
  {
   "cell_type": "code",
   "execution_count": 196,
   "metadata": {
    "collapsed": true
   },
   "outputs": [],
   "source": [
    "DF_GEMPRO.to_pickle(os.path.join(DATA_FRAMES, 'DF_03_GEMPRO.pckl'))"
   ]
  }
 ],
 "metadata": {
  "_draft": {
   "nbviewer_url": "https://gist.github.com/ec22b728aeee2431586d"
  },
  "gist": {
   "data": {
    "description": "[212]_GEM-PRO_tutorial",
    "public": true
   },
   "id": "ec22b728aeee2431586d"
  },
  "kernelspec": {
   "display_name": "Python 2",
   "language": "python",
   "name": "python2"
  },
  "language_info": {
   "codemirror_mode": {
    "name": "ipython",
    "version": 2
   },
   "file_extension": ".py",
   "mimetype": "text/x-python",
   "name": "python",
   "nbconvert_exporter": "python",
   "pygments_lexer": "ipython2",
   "version": "2.7.6"
  },
  "notify_time": "5",
  "toc": {
   "toc_cell": true,
   "toc_number_sections": true,
   "toc_section_display": "block",
   "toc_threshold": 4,
   "toc_window_display": true
  },
  "toc_position": {
   "left": "2.25px",
   "right": "20px",
   "top": "42px",
   "width": "170px"
  }
 },
 "nbformat": 4,
 "nbformat_minor": 0
}
